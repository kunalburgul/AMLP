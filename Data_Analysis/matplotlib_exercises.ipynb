{
  "cells": [
    {
      "cell_type": "markdown",
      "metadata": {
        "id": "view-in-github",
        "colab_type": "text"
      },
      "source": [
        "<a href=\"https://colab.research.google.com/github/kunalburgul/MLDS_Learning/blob/master/Data_Analysis/matplotlib_exercises.ipynb\" target=\"_parent\"><img src=\"https://colab.research.google.com/assets/colab-badge.svg\" alt=\"Open In Colab\"/></a>"
      ]
    },
    {
      "cell_type": "markdown",
      "metadata": {
        "id": "uza6dm2pRGYv"
      },
      "source": [
        "# Matplotlib Practice\n",
        "\n",
        "This notebook offers a set of exercises to different tasks with Matplotlib.\n",
        "\n",
        "It should be noted there may be more than one different way to answer a question or complete an exercise.\n",
        "\n",
        "Different tasks will be detailed by comments or text.\n",
        "\n",
        "For further reference and resources, it's advised to check out the [Matplotlib documentation](https://matplotlib.org/3.1.1/contents.html).\n",
        "\n",
        "If you're stuck, don't forget, you can always search for a function, for example if you want to create a plot with `plt.subplots()`, search for [`plt.subplots()`](https://www.google.com/search?q=plt.subplots())."
      ]
    },
    {
      "cell_type": "code",
      "execution_count": null,
      "metadata": {
        "id": "14bTYuu_RGY1"
      },
      "outputs": [],
      "source": [
        "# Import the pyplot module from matplotlib as plt and make sure \n",
        "# plots appear in the notebook using '%matplotlib inline'\n"
      ]
    },
    {
      "cell_type": "code",
      "execution_count": null,
      "metadata": {
        "id": "Hc2ObC4jRGY3"
      },
      "outputs": [],
      "source": [
        "# Create a simple plot using plt.plot()\n"
      ]
    },
    {
      "cell_type": "code",
      "execution_count": null,
      "metadata": {
        "id": "1FoUXpheRGY4"
      },
      "outputs": [],
      "source": [
        "# Plot a single Python list\n"
      ]
    },
    {
      "cell_type": "code",
      "execution_count": null,
      "metadata": {
        "id": "MmLP0v41RGY4"
      },
      "outputs": [],
      "source": [
        "# Create two lists, one called X, one called y, each with 5 numbers in them\n"
      ]
    },
    {
      "cell_type": "code",
      "execution_count": null,
      "metadata": {
        "id": "fD-7nDqLRGY5"
      },
      "outputs": [],
      "source": [
        "# Plot X & y (the lists you've created)\n"
      ]
    },
    {
      "cell_type": "markdown",
      "metadata": {
        "id": "9FIap-yWRGY5"
      },
      "source": [
        "There's another way to create plots with Matplotlib, it's known as the object-orientated (OO) method. Let's try it."
      ]
    },
    {
      "cell_type": "code",
      "execution_count": null,
      "metadata": {
        "id": "X7DgZ92-RGY6"
      },
      "outputs": [],
      "source": [
        "# Create a plot using plt.subplots()\n"
      ]
    },
    {
      "cell_type": "code",
      "execution_count": null,
      "metadata": {
        "id": "d9lJeAQfRGY7"
      },
      "outputs": [],
      "source": [
        "# Create a plot using plt.subplots() and then add X & y on the axes\n"
      ]
    },
    {
      "cell_type": "markdown",
      "metadata": {
        "id": "kS9XJQBvRGY8"
      },
      "source": [
        "Now let's try a small matplotlib workflow."
      ]
    },
    {
      "cell_type": "code",
      "execution_count": null,
      "metadata": {
        "id": "Jmqq0VJBRGY8"
      },
      "outputs": [],
      "source": [
        "# Import and get matplotlib ready\n",
        "\n",
        "\n",
        "# Prepare data (create two lists of 5 numbers, X & y)\n",
        "\n",
        "\n",
        "# Setup figure and axes using plt.subplots()\n",
        "\n",
        "\n",
        "# Add data (X, y) to axes\n",
        "\n",
        "\n",
        "# Customize plot by adding a title, xlabel and ylabel\n",
        "\n",
        "\n",
        "# Save the plot to file using fig.savefig()\n"
      ]
    },
    {
      "cell_type": "markdown",
      "metadata": {
        "id": "fKq1YH-3RGY9"
      },
      "source": [
        "Okay, this is a simple line plot, how about something a little different?\n",
        "\n",
        "To help us, we'll import NumPy."
      ]
    },
    {
      "cell_type": "code",
      "execution_count": null,
      "metadata": {
        "id": "r6-YxjdtRGY9"
      },
      "outputs": [],
      "source": [
        "# Import NumPy as np\n"
      ]
    },
    {
      "cell_type": "code",
      "execution_count": null,
      "metadata": {
        "id": "qGfmKsePRGY-"
      },
      "outputs": [],
      "source": [
        "# Create an array of 100 evenly spaced numbers between 0 and 100 using NumPy and save it to variable X\n"
      ]
    },
    {
      "cell_type": "code",
      "execution_count": null,
      "metadata": {
        "id": "nNhgwExBRGY-"
      },
      "outputs": [],
      "source": [
        "# Create a plot using plt.subplots() and plot X versus X^2 (X squared)\n"
      ]
    },
    {
      "cell_type": "markdown",
      "metadata": {
        "id": "C8qmknTVRGY_"
      },
      "source": [
        "We'll start with scatter plots."
      ]
    },
    {
      "cell_type": "code",
      "execution_count": null,
      "metadata": {
        "id": "1-J2K1LNRGY_"
      },
      "outputs": [],
      "source": [
        "# Create a scatter plot of X versus the exponential of X (np.exp(X))\n"
      ]
    },
    {
      "cell_type": "code",
      "execution_count": null,
      "metadata": {
        "id": "Bv1QVLpIRGY_"
      },
      "outputs": [],
      "source": [
        "# Create a scatter plot of X versus np.sin(X)\n"
      ]
    },
    {
      "cell_type": "markdown",
      "metadata": {
        "id": "kSngTrADRGZA"
      },
      "source": [
        "How about we try another type of plot? This time let's look at a bar plot. First we'll make some data."
      ]
    },
    {
      "cell_type": "code",
      "execution_count": null,
      "metadata": {
        "id": "zVXustYiRGZA"
      },
      "outputs": [],
      "source": [
        "# Create a Python dictionary of 3 of your favourite foods with \n",
        "# The keys of the dictionary should be the food name and the values their price\n"
      ]
    },
    {
      "cell_type": "code",
      "execution_count": null,
      "metadata": {
        "id": "ITBZnnmBRGZA"
      },
      "outputs": [],
      "source": [
        "# Create a bar graph where the x-axis is the keys of the dictionary\n",
        "# and the y-axis is the values of the dictionary\n",
        "\n",
        "\n",
        "# Add a title, xlabel and ylabel to the plot\n"
      ]
    },
    {
      "cell_type": "code",
      "execution_count": null,
      "metadata": {
        "id": "9rkfwjMeRGZB"
      },
      "outputs": [],
      "source": [
        "# Make the same plot as above, except this time make the bars go horizontal\n"
      ]
    },
    {
      "cell_type": "markdown",
      "metadata": {
        "id": "m0IMNsJaRGZB"
      },
      "source": [
        "All this food plotting is making me hungry. But we've got a couple of plots to go.\n",
        "\n",
        "Let's see a histogram."
      ]
    },
    {
      "cell_type": "code",
      "execution_count": null,
      "metadata": {
        "id": "esOJQXjrRGZB"
      },
      "outputs": [],
      "source": [
        "# Create a random NumPy array of 1000 normally distributed numbers using NumPy and save it to X\n",
        "\n",
        "\n",
        "# Create a histogram plot of X\n"
      ]
    },
    {
      "cell_type": "code",
      "execution_count": null,
      "metadata": {
        "id": "ZWs3TPHIRGZC"
      },
      "outputs": [],
      "source": [
        "# Create a NumPy array of 1000 random numbers and save it to X\n",
        "\n",
        "\n",
        "# Create a histogram plot of X\n"
      ]
    },
    {
      "cell_type": "markdown",
      "metadata": {
        "id": "aAAGUq98RGZC"
      },
      "source": [
        "Notice how the distributions (spread of data) are different. Why do they differ? \n",
        "\n",
        "What else can you find out about the normal distribution? \n",
        "\n",
        "Can you think of any other kinds of data which may be normally distributed?\n",
        "\n",
        "These questions aren't directly related to plotting or Matplotlib but they're helpful to think of.\n",
        "\n",
        "Now let's try make some subplots. A subplot is another name for a figure with multiple plots on it."
      ]
    },
    {
      "cell_type": "code",
      "execution_count": null,
      "metadata": {
        "id": "dyg9f8k3RGZC"
      },
      "outputs": [],
      "source": [
        "# Create an empty subplot with 2 rows and 2 columns (4 subplots total)\n"
      ]
    },
    {
      "cell_type": "markdown",
      "metadata": {
        "id": "q-DIuuy0RGZD"
      },
      "source": [
        "Notice how the subplot has multiple figures. Now let's add data to each axes."
      ]
    },
    {
      "cell_type": "code",
      "execution_count": null,
      "metadata": {
        "id": "Rw9xRc4QRGZD"
      },
      "outputs": [],
      "source": [
        "# Create the same plot as above with 2 rows and 2 columns and figsize of (10, 5)\n",
        "\n",
        "\n",
        "# Plot X versus X/2 on the top left axes\n",
        "\n",
        "\n",
        "# Plot a scatter plot of 10 random numbers on each axis on the top right subplot\n",
        "\n",
        "\n",
        "# Plot a bar graph of the favourite food keys and values on the bottom left subplot\n",
        "\n",
        "\n",
        "# Plot a histogram of 1000 random normally distributed numbers on the bottom right subplot\n"
      ]
    },
    {
      "cell_type": "markdown",
      "metadata": {
        "id": "z6LBwIgvRGZD"
      },
      "source": [
        "Woah. There's a lot going on there.\n",
        "\n",
        "Now we've seen how to plot with Matplotlib and data directly. Let's practice using Matplotlib to plot with pandas.\n",
        "\n",
        "First we'll need to import pandas and create a DataFrame work with."
      ]
    },
    {
      "cell_type": "code",
      "execution_count": null,
      "metadata": {
        "id": "V-o0DKOFRGZD"
      },
      "outputs": [],
      "source": [
        "# Import pandas as pd\n"
      ]
    },
    {
      "cell_type": "code",
      "execution_count": null,
      "metadata": {
        "id": "POuxULTMRGZE"
      },
      "outputs": [],
      "source": [
        "# Import the '../data/car-sales.csv' into a DataFame called car_sales and view\n"
      ]
    },
    {
      "cell_type": "code",
      "execution_count": null,
      "metadata": {
        "id": "DmgMD2jwRGZE"
      },
      "outputs": [],
      "source": [
        "# Try to plot the 'Price' column using the plot() function\n"
      ]
    },
    {
      "cell_type": "markdown",
      "metadata": {
        "id": "56tLnj8TRGZE"
      },
      "source": [
        "Why doesn't it work?\n",
        "\n",
        "Hint: It's not numeric data.\n",
        "\n",
        "In the process of turning it to numeric data, let's create another column which adds the total amount of sales and another one which shows what date the car was sold.\n",
        "\n",
        "Hint: To add a column up cumulatively, look up the cumsum() function. And to create a column of dates, look up the date_range() function."
      ]
    },
    {
      "cell_type": "code",
      "execution_count": null,
      "metadata": {
        "id": "VeoChE1oRGZE"
      },
      "outputs": [],
      "source": [
        "# Remove the symbols, the final two numbers from the 'Price' column and convert it to numbers\n"
      ]
    },
    {
      "cell_type": "code",
      "execution_count": null,
      "metadata": {
        "id": "oo0Dbl95RGZF"
      },
      "outputs": [],
      "source": [
        "# Add a column called 'Total Sales' to car_sales which cumulatively adds the 'Price' column\n",
        "\n",
        "\n",
        "# Add a column called 'Sale Date' which lists a series of successive dates starting from today (your today)\n",
        "\n",
        "# View the car_sales DataFrame\n"
      ]
    },
    {
      "cell_type": "markdown",
      "metadata": {
        "id": "LPgy0ic5RGZF"
      },
      "source": [
        "Now we've got a numeric column (`Total Sales`) and a dates column (`Sale Date`), let's visualize them."
      ]
    },
    {
      "cell_type": "code",
      "execution_count": null,
      "metadata": {
        "id": "mufl5YiERGZF"
      },
      "outputs": [],
      "source": [
        "# Use the plot() function to plot the 'Sale Date' column versus the 'Total Sales' column\n"
      ]
    },
    {
      "cell_type": "code",
      "execution_count": null,
      "metadata": {
        "id": "n2Jskz48RGZG"
      },
      "outputs": [],
      "source": [
        "# Convert the 'Price' column to the integers\n",
        "\n",
        "\n",
        "# Create a scatter plot of the 'Odometer (KM)' and 'Price' column using the plot() function\n"
      ]
    },
    {
      "cell_type": "code",
      "execution_count": null,
      "metadata": {
        "id": "THxHXc_aRGZG"
      },
      "outputs": [],
      "source": [
        "# Create a NumPy array of random numbers of size (10, 4) and save it to X\n",
        "\n",
        "\n",
        "# Turn the NumPy array X into a DataFrame with columns called ['a', 'b', 'c', 'd']\n",
        "\n",
        "\n",
        "# Create a bar graph of the DataFrame\n"
      ]
    },
    {
      "cell_type": "code",
      "execution_count": null,
      "metadata": {
        "id": "Uu55eu4GRGZG"
      },
      "outputs": [],
      "source": [
        "# Create a bar graph of the 'Make' and 'Odometer (KM)' columns in the car_sales DataFrame\n"
      ]
    },
    {
      "cell_type": "code",
      "execution_count": null,
      "metadata": {
        "id": "kE55Yzi5RGZG"
      },
      "outputs": [],
      "source": [
        "# Create a histogram of the 'Odometer (KM)' column\n"
      ]
    },
    {
      "cell_type": "code",
      "execution_count": null,
      "metadata": {
        "id": "HSEsyZo3RGZH"
      },
      "outputs": [],
      "source": [
        "# Create a histogram of the 'Price' column with 20 bins\n"
      ]
    },
    {
      "cell_type": "markdown",
      "metadata": {
        "id": "brZqU0XyRGZH"
      },
      "source": [
        "Now we've seen a few examples of plotting directly from DataFrames using the `car_sales` dataset.\n",
        "\n",
        "Let's try using a different dataset."
      ]
    },
    {
      "cell_type": "code",
      "execution_count": null,
      "metadata": {
        "id": "l_YxPuJsRGZH"
      },
      "outputs": [],
      "source": [
        "# Import \"../data/heart-disease.csv\" and save it to the variable \"heart_disease\"\n"
      ]
    },
    {
      "cell_type": "code",
      "execution_count": null,
      "metadata": {
        "id": "XCWS0sTbRGZH"
      },
      "outputs": [],
      "source": [
        "# View the first 10 rows of the heart_disease DataFrame\n"
      ]
    },
    {
      "cell_type": "code",
      "execution_count": null,
      "metadata": {
        "id": "AAHvNu9GRGZH"
      },
      "outputs": [],
      "source": [
        "# Create a histogram of the \"age\" column with 50 bins\n"
      ]
    },
    {
      "cell_type": "code",
      "execution_count": null,
      "metadata": {
        "id": "xOb5u3DGRGZI"
      },
      "outputs": [],
      "source": [
        "# Call plot.hist() on the heart_disease DataFrame and toggle the\n",
        "# \"subplots\" parameter to True\n"
      ]
    },
    {
      "cell_type": "markdown",
      "metadata": {
        "id": "ACHcwZtSRGZI"
      },
      "source": [
        "That plot looks pretty squished. Let's change the figsize."
      ]
    },
    {
      "cell_type": "code",
      "execution_count": null,
      "metadata": {
        "id": "udJfVSG9RGZI"
      },
      "outputs": [],
      "source": [
        "# Call the same line of code from above except change the \"figsize\" parameter\n",
        "# to be (10, 30)\n"
      ]
    },
    {
      "cell_type": "markdown",
      "metadata": {
        "id": "Uki94n2WRGZI"
      },
      "source": [
        "Now let's try comparing two variables versus the target variable.\n",
        "\n",
        "More specifially we'll see how age and cholesterol combined effect the target in **patients over 50 years old**.\n",
        "\n",
        "For this next challenge, we're going to be replicating the following plot:\n",
        "\n",
        "<img src=\"../images/matplotlib-heart-disease-chol-age-plot.png\"/>"
      ]
    },
    {
      "cell_type": "code",
      "execution_count": null,
      "metadata": {
        "id": "rrJ3U40FRGZJ"
      },
      "outputs": [],
      "source": [
        "# Replicate the above plot in whichever way you see fit\n",
        "\n",
        "# Note: The method below is only one way of doing it, yours might be\n",
        "# slightly different\n",
        "\n",
        "# Create DataFrame with patients over 50 years old\n",
        "\n",
        "\n",
        "# Create the plot\n",
        "\n",
        "\n",
        "# Plot the data\n",
        "\n",
        "\n",
        "# Customize the plot\n",
        "\n",
        "\n",
        "# Add a meanline\n"
      ]
    },
    {
      "cell_type": "markdown",
      "metadata": {
        "id": "H4DJMvpKRGZJ"
      },
      "source": [
        "Beatiful, now you've created a plot of two different variables, let's change the style."
      ]
    },
    {
      "cell_type": "code",
      "execution_count": null,
      "metadata": {
        "id": "a6bUyaKARGZJ"
      },
      "outputs": [],
      "source": [
        "# Check what styles are available under plt\n"
      ]
    },
    {
      "cell_type": "code",
      "execution_count": null,
      "metadata": {
        "id": "rzFZMMptRGZJ"
      },
      "outputs": [],
      "source": [
        "# Change the style to use \"seaborn-whitegrid\"\n"
      ]
    },
    {
      "cell_type": "markdown",
      "metadata": {
        "id": "lEZ_Fox_RGZJ"
      },
      "source": [
        "Now the style has been changed, we'll replot the same figure from above and see what it looks like.\n",
        "\n",
        "If you've changed the style correctly, it should look like the following:\n",
        "<img src=\"../images/matplotlib-heart-disease-chol-age-plot-seaborn-whitegrid.png\"/>\n"
      ]
    },
    {
      "cell_type": "code",
      "execution_count": null,
      "metadata": {
        "id": "ieIrdjVsRGZK"
      },
      "outputs": [],
      "source": [
        "# Reproduce the same figure as above with the \"seaborn-whitegrid\" style\n",
        "\n",
        "# Create the plot\n",
        "\n",
        "\n",
        "# Plot the data\n",
        "\n",
        "\n",
        "# Customize the plot\n",
        "\n",
        "\n",
        "# Add a meanline\n"
      ]
    },
    {
      "cell_type": "markdown",
      "metadata": {
        "id": "KIkeP0VoRGZK"
      },
      "source": [
        "Wonderful, you've changed the style of the plots and the figure is looking different but the dots aren't a very good colour.\n",
        "\n",
        "Let's change the `cmap` parameter of `scatter()` as well as the `color` parameter of `axhline()` to fix it.\n",
        "\n",
        "Completing this step correctly should result in a figure which looks like this:\n",
        "<img src=\"../images/matplotlib-heart-disease-chol-age-plot-cmap-change.png\"/>"
      ]
    },
    {
      "cell_type": "code",
      "execution_count": null,
      "metadata": {
        "id": "oz7T1zDuRGZK"
      },
      "outputs": [],
      "source": [
        "# Replot the same figure as above except change the \"cmap\" parameter\n",
        "# of scatter() to \"winter\"\n",
        "# Also change the \"color\" parameter of axhline() to \"red\"\n",
        "\n",
        "# Create the plot\n",
        "\n",
        "\n",
        "# Plot the data\n",
        "\n",
        "\n",
        "# Customize the plot\n",
        "\n",
        "\n",
        "# Add a meanline\n"
      ]
    },
    {
      "cell_type": "markdown",
      "metadata": {
        "id": "mmfDl_X5RGZK"
      },
      "source": [
        "Beautiful! Now our figure has an upgraded color scheme let's save it to file."
      ]
    },
    {
      "cell_type": "code",
      "execution_count": null,
      "metadata": {
        "id": "hVVVZtc0RGZL"
      },
      "outputs": [],
      "source": [
        "# Save the current figure using savefig(), the file name can be anything you want\n"
      ]
    },
    {
      "cell_type": "code",
      "execution_count": null,
      "metadata": {
        "id": "Q0svwPzmRGZL"
      },
      "outputs": [],
      "source": [
        "# Reset the figure by calling plt.subplots()\n"
      ]
    },
    {
      "cell_type": "markdown",
      "metadata": {
        "id": "DabJOT8xRGZL"
      },
      "source": [
        "## Extensions\n",
        "\n",
        "For more exercises, check out the [Matplotlib tutorials page](https://matplotlib.org/3.1.1/tutorials/index.html). A good practice would be to read through it and for the parts you find interesting, add them into the end of this notebook.\n",
        "\n",
        "The next place you could go is the [Stack Overflow page for the top questions and answers for Matplotlib](https://stackoverflow.com/questions/tagged/matplotlib?sort=MostVotes&edited=true). Often, you'll find some of the most common and useful Matplotlib functions here. Don't forget to play around with the Stack Overflow filters! You'll likely find something helpful here.\n",
        "\n",
        "Finally, as always, remember, the best way to learn something new is to try it. And try it relentlessly. Always be asking yourself, \"is there a better way this data could be visualized so it's easier to understand?\""
      ]
    }
  ],
  "metadata": {
    "kernelspec": {
      "display_name": "Python 3",
      "language": "python",
      "name": "python3"
    },
    "language_info": {
      "codemirror_mode": {
        "name": "ipython",
        "version": 3
      },
      "file_extension": ".py",
      "mimetype": "text/x-python",
      "name": "python",
      "nbconvert_exporter": "python",
      "pygments_lexer": "ipython3",
      "version": "3.6.9"
    },
    "colab": {
      "name": "matplotlib-exercises.ipynb",
      "provenance": [],
      "include_colab_link": true
    }
  },
  "nbformat": 4,
  "nbformat_minor": 0
}