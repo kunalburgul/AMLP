{
  "nbformat": 4,
  "nbformat_minor": 0,
  "metadata": {
    "colab": {
      "name": "Notebook_1.ipynb",
      "provenance": [],
      "collapsed_sections": [],
      "machine_shape": "hm",
      "authorship_tag": "ABX9TyPwsG18AqiRVUdwWMOnh1jh",
      "include_colab_link": true
    },
    "kernelspec": {
      "name": "python3",
      "display_name": "Python 3"
    },
    "language_info": {
      "name": "python"
    },
    "accelerator": "GPU"
  },
  "cells": [
    {
      "cell_type": "markdown",
      "metadata": {
        "id": "view-in-github",
        "colab_type": "text"
      },
      "source": [
        "<a href=\"https://colab.research.google.com/github/kunalburgul/MLDS_Learning/blob/master/Books/AMLP/Notebook_1.ipynb\" target=\"_parent\"><img src=\"https://colab.research.google.com/assets/colab-badge.svg\" alt=\"Open In Colab\"/></a>"
      ]
    },
    {
      "cell_type": "markdown",
      "metadata": {
        "id": "nvd_B3cHknEN"
      },
      "source": [
        "## **Supervised and Unsupervised Learning**"
      ]
    },
    {
      "cell_type": "markdown",
      "metadata": {
        "id": "zuaB11gcxjD4"
      },
      "source": [
        "- A problem in which we are required to predict a value is known as a supervised problem. For example, if the problem is to predict house prices given historical house prices, with features like presence of a hospital, school or supermarket, distance to nearest public transport, etc. is a supervised problem\n",
        "\n",
        "- Unsupervised datasets do not have a target associated with them and in general, are more challenging to deal with when compared to supervised problems.\n",
        "\n",
        "- Clustering is one of the approaches that you can use for problems like this, but it must be noted that there are several other approaches available that can be applied to unsupervised problems.\n",
        "\n",
        "- To make sense of unsupervised problems, we can also use numerous decomposition techniques such as Principal Component Analysis (PCA), t-distributed Stochastic Neighbour Embedding (t-SNE) etc."
      ]
    },
    {
      "cell_type": "markdown",
      "metadata": {
        "id": "08A4HQBqhaPo"
      },
      "source": [
        "**Iniatilization**"
      ]
    },
    {
      "cell_type": "code",
      "metadata": {
        "id": "qRaWIeCEgE4h"
      },
      "source": [
        "# Loading Libraries\n",
        "\n",
        "# Warning Librarires\n",
        "import warnings \n",
        "warnings.filterwarnings(\"ignore\")\n",
        "\n",
        "# Scientific and Data Manipulation Libraries \n",
        "import numpy as np\n",
        "import pandas as pd\n",
        "\n",
        "# Data Visualization Libraries :\n",
        "import matplotlib\n",
        "import seaborn as sns\n",
        "import matplotlib.pyplot as plt\n",
        "# This line ensures that the plot is displayed inside the notebook\n",
        "%matplotlib inline \n",
        "\n",
        "# ML Libraries\n",
        "from sklearn import datasets\n",
        "from sklearn import manifold\n",
        "from sklearn import tree\n",
        "from sklearn import metrics\n",
        "from sklearn import model_selection"
      ],
      "execution_count": null,
      "outputs": []
    },
    {
      "cell_type": "markdown",
      "metadata": {
        "id": "SybAYLj4gXiT"
      },
      "source": [
        "In the next part of the code, we will be fetching the **MNIST** data using sklearn datasets."
      ]
    },
    {
      "cell_type": "code",
      "metadata": {
        "id": "UwBS1gwLgJN6"
      },
      "source": [
        "data = datasets.fetch_openml(\n",
        "'mnist_784',\n",
        "version=1,\n",
        "return_X_y=True\n",
        ")\n",
        "pixel_values, targets = data\n",
        "targets = targets.astype(int)"
      ],
      "execution_count": null,
      "outputs": []
    },
    {
      "cell_type": "markdown",
      "metadata": {
        "id": "snWRfJCeiEea"
      },
      "source": [
        "Here the data contains the two arrays as \n",
        "- pixel_values as the array of pixels\n",
        "- targets are the string types we convert them to integers.\n",
        "\n",
        "Lets look at the structure of the following arrays."
      ]
    },
    {
      "cell_type": "code",
      "metadata": {
        "colab": {
          "base_uri": "https://localhost:8080/"
        },
        "id": "pHmShQIsgRdn",
        "outputId": "8c47c789-7a02-4a8f-9de7-922f2fb0d3ac"
      },
      "source": [
        "pixel_values.shape, targets.shape"
      ],
      "execution_count": null,
      "outputs": [
        {
          "output_type": "execute_result",
          "data": {
            "text/plain": [
              "((70000, 784), (70000,))"
            ]
          },
          "metadata": {},
          "execution_count": 4
        }
      ]
    },
    {
      "cell_type": "markdown",
      "metadata": {
        "id": "VJ_iQUqVitr2"
      },
      "source": [
        "We can visualize the samples in this dataset by reshaping them to their original shape and then plotting them using matplotlib."
      ]
    },
    {
      "cell_type": "code",
      "metadata": {
        "colab": {
          "base_uri": "https://localhost:8080/",
          "height": 282
        },
        "id": "rrXiG7W4gpgC",
        "outputId": "0d13ebd3-0ac1-4dae-981c-dcd4b8ed03b5"
      },
      "source": [
        "single_image = pixel_values.iloc[0, :].values.reshape(28, 28)\n",
        "plt.imshow(single_image, cmap='gray')"
      ],
      "execution_count": null,
      "outputs": [
        {
          "output_type": "execute_result",
          "data": {
            "text/plain": [
              "<matplotlib.image.AxesImage at 0x7f1ef6030690>"
            ]
          },
          "metadata": {},
          "execution_count": 6
        },
        {
          "output_type": "display_data",
          "data": {
            "text/plain": [
              "<Figure size 432x288 with 1 Axes>"
            ],
            "image/png": "[encoded data removed]"
          },
          "metadata": {
            "needs_background": "light"
          }
        }
      ]
    },
    {
      "cell_type": "code",
      "metadata": {
        "id": "Sv77kAh3g6uH"
      },
      "source": [
        "tsne = manifold.TSNE(n_components=2, random_state=42)\n",
        "transformed_data = tsne.fit_transform(pixel_values.iloc[:3000, :].values)"
      ],
      "execution_count": null,
      "outputs": []
    },
    {
      "cell_type": "code",
      "metadata": {
        "id": "HZ2jKMFahCHO"
      },
      "source": [
        "tsne_df = pd.DataFrame(\n",
        "np.column_stack((transformed_data, targets[:3000])),\n",
        "columns=[\"x\", \"y\", \"targets\"]\n",
        ")\n",
        "tsne_df.loc[:, \"targets\"] = tsne_df.targets.astype(int)"
      ],
      "execution_count": null,
      "outputs": []
    },
    {
      "cell_type": "code",
      "metadata": {
        "colab": {
          "base_uri": "https://localhost:8080/",
          "height": 602
        },
        "id": "C5AQx2TzhTBj",
        "outputId": "ff6e2006-8f65-4a79-b11d-cbc9d1e00c41"
      },
      "source": [
        "grid = sns.FacetGrid(tsne_df, hue=\"targets\", size=8)\n",
        "grid.map(plt.scatter, \"x\", \"y\").add_legend()"
      ],
      "execution_count": null,
      "outputs": [
        {
          "output_type": "execute_result",
          "data": {
            "text/plain": [
              "<seaborn.axisgrid.FacetGrid at 0x7f1ef5ee58d0>"
            ]
          },
          "metadata": {},
          "execution_count": 9
        },
        {
          "output_type": "display_data",
          "data": {
            "text/plain": [
              "<Figure size 619.625x576 with 1 Axes>"
            ],
            "image/png": "[encoded data removed]"
          },
          "metadata": {
            "needs_background": "light"
          }
        }
      ]
    },
    {
      "cell_type": "markdown",
      "metadata": {
        "id": "wJ_aeLQ_kwYJ"
      },
      "source": [
        "## **Cross-validation**"
      ]
    },
    {
      "cell_type": "markdown",
      "metadata": {
        "id": "NqdNMRvVxrXZ"
      },
      "source": [
        "- Cross-validation is a step in the process of building a machine learning model which helps us ensure that our models fit the data accurately and also ensures that we do not overfit.\n",
        "\n",
        " But this leads to another term: overfitting"
      ]
    },
    {
      "cell_type": "code",
      "metadata": {
        "colab": {
          "base_uri": "https://localhost:8080/"
        },
        "id": "CP6xZ54glqCY",
        "outputId": "faa4fb2d-882c-4898-fb43-05b805001f58"
      },
      "source": [
        "# Loading data\n",
        "!gdown --id 1f_-Ol1h92ARtWsG7YqRcR9OOnKugl2gL --output winequality-red.csv"
      ],
      "execution_count": null,
      "outputs": [
        {
          "output_type": "stream",
          "name": "stdout",
          "text": [
            "/usr/local/lib/python3.7/dist-packages/gdown/cli.py:131: FutureWarning: Option `--id` was deprecated in version 4.3.1 and will be removed in 5.0. You don't need to pass it anymore to use a file ID.\n",
            "  category=FutureWarning,\n",
            "Downloading...\n",
            "From: https://drive.google.com/uc?id=1f_-Ol1h92ARtWsG7YqRcR9OOnKugl2gL\n",
            "To: /content/winequality-red.csv\n",
            "100% 84.2k/84.2k [00:00<00:00, 84.0MB/s]\n"
          ]
        }
      ]
    },
    {
      "cell_type": "markdown",
      "metadata": {
        "id": "CPteu-8_k3rX"
      },
      "source": [
        "The dataset can be found on the following link - https://archive.ics.uci.edu/ml/machine-learning-databases/wine-quality/\n",
        "\n",
        "\n",
        "Now Let's look at the data"
      ]
    },
    {
      "cell_type": "code",
      "metadata": {
        "id": "sUFQ4r9LhWh9"
      },
      "source": [
        "df = pd.read_csv(\"winequality-red.csv\",sep=';')"
      ],
      "execution_count": null,
      "outputs": []
    },
    {
      "cell_type": "code",
      "source": [
        "df.head()"
      ],
      "metadata": {
        "id": "jwUyvn3PEFD7",
        "outputId": "39cb674a-a0ee-4a89-f246-0ffeab07068b",
        "colab": {
          "base_uri": "https://localhost:8080/",
          "height": 268
        }
      },
      "execution_count": null,
      "outputs": [
        {
          "output_type": "execute_result",
          "data": {
            "text/plain": [
              "   fixed acidity  volatile acidity  citric acid  residual sugar  chlorides  \\\n",
              "0            7.4              0.70         0.00             1.9      0.076   \n",
              "1            7.8              0.88         0.00             2.6      0.098   \n",
              "2            7.8              0.76         0.04             2.3      0.092   \n",
              "3           11.2              0.28         0.56             1.9      0.075   \n",
              "4            7.4              0.70         0.00             1.9      0.076   \n",
              "\n",
              "   free sulfur dioxide  total sulfur dioxide  density    pH  sulphates  \\\n",
              "0                 11.0                  34.0   0.9978  3.51       0.56   \n",
              "1                 25.0                  67.0   0.9968  3.20       0.68   \n",
              "2                 15.0                  54.0   0.9970  3.26       0.65   \n",
              "3                 17.0                  60.0   0.9980  3.16       0.58   \n",
              "4                 11.0                  34.0   0.9978  3.51       0.56   \n",
              "\n",
              "   alcohol  quality  \n",
              "0      9.4        5  \n",
              "1      9.8        5  \n",
              "2      9.8        5  \n",
              "3      9.8        6  \n",
              "4      9.4        5  "
            ],
            "text/html": [
              "\n",
              "  <div id=\"df-a63c9ee4-7861-4e90-938f-dec608bbadb0\">\n",
              "    <div class=\"colab-df-container\">\n",
              "      <div>\n",
              "<style scoped>\n",
              "    .dataframe tbody tr th:only-of-type {\n",
              "        vertical-align: middle;\n",
              "    }\n",
              "\n",
              "    .dataframe tbody tr th {\n",
              "        vertical-align: top;\n",
              "    }\n",
              "\n",
              "    .dataframe thead th {\n",
              "        text-align: right;\n",
              "    }\n",
              "</style>\n",
              "<table border=\"1\" class=\"dataframe\">\n",
              "  <thead>\n",
              "    <tr style=\"text-align: right;\">\n",
              "      <th></th>\n",
              "      <th>fixed acidity</th>\n",
              "      <th>volatile acidity</th>\n",
              "      <th>citric acid</th>\n",
              "      <th>residual sugar</th>\n",
              "      <th>chlorides</th>\n",
              "      <th>free sulfur dioxide</th>\n",
              "      <th>total sulfur dioxide</th>\n",
              "      <th>density</th>\n",
              "      <th>pH</th>\n",
              "      <th>sulphates</th>\n",
              "      <th>alcohol</th>\n",
              "      <th>quality</th>\n",
              "    </tr>\n",
              "  </thead>\n",
              "  <tbody>\n",
              "    <tr>\n",
              "      <th>0</th>\n",
              "      <td>7.4</td>\n",
              "      <td>0.70</td>\n",
              "      <td>0.00</td>\n",
              "      <td>1.9</td>\n",
              "      <td>0.076</td>\n",
              "      <td>11.0</td>\n",
              "      <td>34.0</td>\n",
              "      <td>0.9978</td>\n",
              "      <td>3.51</td>\n",
              "      <td>0.56</td>\n",
              "      <td>9.4</td>\n",
              "      <td>5</td>\n",
              "    </tr>\n",
              "    <tr>\n",
              "      <th>1</th>\n",
              "      <td>7.8</td>\n",
              "      <td>0.88</td>\n",
              "      <td>0.00</td>\n",
              "      <td>2.6</td>\n",
              "      <td>0.098</td>\n",
              "      <td>25.0</td>\n",
              "      <td>67.0</td>\n",
              "      <td>0.9968</td>\n",
              "      <td>3.20</td>\n",
              "      <td>0.68</td>\n",
              "      <td>9.8</td>\n",
              "      <td>5</td>\n",
              "    </tr>\n",
              "    <tr>\n",
              "      <th>2</th>\n",
              "      <td>7.8</td>\n",
              "      <td>0.76</td>\n",
              "      <td>0.04</td>\n",
              "      <td>2.3</td>\n",
              "      <td>0.092</td>\n",
              "      <td>15.0</td>\n",
              "      <td>54.0</td>\n",
              "      <td>0.9970</td>\n",
              "      <td>3.26</td>\n",
              "      <td>0.65</td>\n",
              "      <td>9.8</td>\n",
              "      <td>5</td>\n",
              "    </tr>\n",
              "    <tr>\n",
              "      <th>3</th>\n",
              "      <td>11.2</td>\n",
              "      <td>0.28</td>\n",
              "      <td>0.56</td>\n",
              "      <td>1.9</td>\n",
              "      <td>0.075</td>\n",
              "      <td>17.0</td>\n",
              "      <td>60.0</td>\n",
              "      <td>0.9980</td>\n",
              "      <td>3.16</td>\n",
              "      <td>0.58</td>\n",
              "      <td>9.8</td>\n",
              "      <td>6</td>\n",
              "    </tr>\n",
              "    <tr>\n",
              "      <th>4</th>\n",
              "      <td>7.4</td>\n",
              "      <td>0.70</td>\n",
              "      <td>0.00</td>\n",
              "      <td>1.9</td>\n",
              "      <td>0.076</td>\n",
              "      <td>11.0</td>\n",
              "      <td>34.0</td>\n",
              "      <td>0.9978</td>\n",
              "      <td>3.51</td>\n",
              "      <td>0.56</td>\n",
              "      <td>9.4</td>\n",
              "      <td>5</td>\n",
              "    </tr>\n",
              "  </tbody>\n",
              "</table>\n",
              "</div>\n",
              "      <button class=\"colab-df-convert\" onclick=\"convertToInteractive('df-a63c9ee4-7861-4e90-938f-dec608bbadb0')\"\n",
              "              title=\"Convert this dataframe to an interactive table.\"\n",
              "              style=\"display:none;\">\n",
              "        \n",
              "  <svg xmlns=\"http://www.w3.org/2000/svg\" height=\"24px\"viewBox=\"0 0 24 24\"\n",
              "       width=\"24px\">\n",
              "    <path d=\"M0 0h24v24H0V0z\" fill=\"none\"/>\n",
              "    <path d=\"M18.56 5.44l.94 2.06.94-2.06 2.06-.94-2.06-.94-.94-2.06-.94 2.06-2.06.94zm-11 1L8.5 8.5l.94-2.06 2.06-.94-2.06-.94L8.5 2.5l-.94 2.06-2.06.94zm10 10l.94 2.06.94-2.06 2.06-.94-2.06-.94-.94-2.06-.94 2.06-2.06.94z\"/><path d=\"M17.41 7.96l-1.37-1.37c-.4-.4-.92-.59-1.43-.59-.52 0-1.04.2-1.43.59L10.3 9.45l-7.72 7.72c-.78.78-.78 2.05 0 2.83L4 21.41c.39.39.9.59 1.41.59.51 0 1.02-.2 1.41-.59l7.78-7.78 2.81-2.81c.8-.78.8-2.07 0-2.86zM5.41 20L4 18.59l7.72-7.72 1.47 1.35L5.41 20z\"/>\n",
              "  </svg>\n",
              "      </button>\n",
              "      \n",
              "  <style>\n",
              "    .colab-df-container {\n",
              "      display:flex;\n",
              "      flex-wrap:wrap;\n",
              "      gap: 12px;\n",
              "    }\n",
              "\n",
              "    .colab-df-convert {\n",
              "      background-color: #E8F0FE;\n",
              "      border: none;\n",
              "      border-radius: 50%;\n",
              "      cursor: pointer;\n",
              "      display: none;\n",
              "      fill: #1967D2;\n",
              "      height: 32px;\n",
              "      padding: 0 0 0 0;\n",
              "      width: 32px;\n",
              "    }\n",
              "\n",
              "    .colab-df-convert:hover {\n",
              "      background-color: #E2EBFA;\n",
              "      box-shadow: 0px 1px 2px rgba(60, 64, 67, 0.3), 0px 1px 3px 1px rgba(60, 64, 67, 0.15);\n",
              "      fill: #174EA6;\n",
              "    }\n",
              "\n",
              "    [theme=dark] .colab-df-convert {\n",
              "      background-color: #3B4455;\n",
              "      fill: #D2E3FC;\n",
              "    }\n",
              "\n",
              "    [theme=dark] .colab-df-convert:hover {\n",
              "      background-color: #434B5C;\n",
              "      box-shadow: 0px 1px 3px 1px rgba(0, 0, 0, 0.15);\n",
              "      filter: drop-shadow(0px 1px 2px rgba(0, 0, 0, 0.3));\n",
              "      fill: #FFFFFF;\n",
              "    }\n",
              "  </style>\n",
              "\n",
              "      <script>\n",
              "        const buttonEl =\n",
              "          document.querySelector('#df-a63c9ee4-7861-4e90-938f-dec608bbadb0 button.colab-df-convert');\n",
              "        buttonEl.style.display =\n",
              "          google.colab.kernel.accessAllowed ? 'block' : 'none';\n",
              "\n",
              "        async function convertToInteractive(key) {\n",
              "          const element = document.querySelector('#df-a63c9ee4-7861-4e90-938f-dec608bbadb0');\n",
              "          const dataTable =\n",
              "            await google.colab.kernel.invokeFunction('convertToInteractive',\n",
              "                                                     [key], {});\n",
              "          if (!dataTable) return;\n",
              "\n",
              "          const docLinkHtml = 'Like what you see? Visit the ' +\n",
              "            '<a target=\"_blank\" href=https://colab.research.google.com/notebooks/data_table.ipynb>data table notebook</a>'\n",
              "            + ' to learn more about interactive tables.';\n",
              "          element.innerHTML = '';\n",
              "          dataTable['output_type'] = 'display_data';\n",
              "          await google.colab.output.renderOutput(dataTable, element);\n",
              "          const docLink = document.createElement('div');\n",
              "          docLink.innerHTML = docLinkHtml;\n",
              "          element.appendChild(docLink);\n",
              "        }\n",
              "      </script>\n",
              "    </div>\n",
              "  </div>\n",
              "  "
            ]
          },
          "metadata": {},
          "execution_count": 14
        }
      ]
    },
    {
      "cell_type": "code",
      "source": [
        "# Lets see what are the target values\n",
        "df['quality'].value_counts()"
      ],
      "metadata": {
        "id": "aEgOxSYCEJ6A",
        "outputId": "c17826ea-9807-4ac8-db28-6bcfb769a94f",
        "colab": {
          "base_uri": "https://localhost:8080/"
        }
      },
      "execution_count": null,
      "outputs": [
        {
          "output_type": "execute_result",
          "data": {
            "text/plain": [
              "5    681\n",
              "6    638\n",
              "7    199\n",
              "4     53\n",
              "8     18\n",
              "3     10\n",
              "Name: quality, dtype: int64"
            ]
          },
          "metadata": {},
          "execution_count": 16
        }
      ]
    },
    {
      "cell_type": "markdown",
      "metadata": {
        "id": "GjbfJNI8mL4T"
      },
      "source": [
        "We can treat this problem either as a classification problem or as a regression problem since wine quality is nothing but a real number between 0 and 10. For simplicity, let’s choose classification. This dataset, however, consists of only six\n",
        "types of quality values. We will thus map all quality values from 0 to 5."
      ]
    },
    {
      "cell_type": "code",
      "metadata": {
        "id": "V72tGmuMk6to"
      },
      "source": [
        "# a mapping dictionary that maps the quality values from 0 to 5\n",
        "quality_mapping = {\n",
        "3: 0, \n",
        "4: 1, \n",
        "5: 2, \n",
        "6: 3, \n",
        "7: 4, \n",
        "8: 5}"
      ],
      "execution_count": null,
      "outputs": []
    },
    {
      "cell_type": "code",
      "metadata": {
        "id": "B5A-Nd3Imkm0"
      },
      "source": [
        "# you can use the map function of pandas with any dictionary to convert the values in a given column to values in the dictionary\n",
        "df.loc[:, \"quality\"] = df.quality.map(quality_mapping)"
      ],
      "execution_count": null,
      "outputs": []
    },
    {
      "cell_type": "code",
      "source": [
        "# After mapping the new target values are as follows\n",
        "df['quality'].value_counts()"
      ],
      "metadata": {
        "id": "j6vpq1wEEcOb",
        "outputId": "51b6a22d-13cc-409e-a51d-c810262ebccb",
        "colab": {
          "base_uri": "https://localhost:8080/"
        }
      },
      "execution_count": null,
      "outputs": [
        {
          "output_type": "execute_result",
          "data": {
            "text/plain": [
              "2    681\n",
              "3    638\n",
              "4    199\n",
              "1     53\n",
              "5     18\n",
              "0     10\n",
              "Name: quality, dtype: int64"
            ]
          },
          "metadata": {},
          "execution_count": 20
        }
      ]
    },
    {
      "cell_type": "code",
      "metadata": {
        "colab": {
          "base_uri": "https://localhost:8080/"
        },
        "id": "g3FODSFfmoF4",
        "outputId": "c17dff09-f58c-47f1-d48f-fb3bc6897d8f"
      },
      "source": [
        "# Lets check if we have mapped correctly and observer the frequency of the quality values\n",
        "df.quality.value_counts(normalize=True)"
      ],
      "execution_count": null,
      "outputs": [
        {
          "output_type": "execute_result",
          "data": {
            "text/plain": [
              "2    0.425891\n",
              "3    0.398999\n",
              "4    0.124453\n",
              "1    0.033146\n",
              "5    0.011257\n",
              "0    0.006254\n",
              "Name: quality, dtype: float64"
            ]
          },
          "metadata": {},
          "execution_count": 22
        }
      ]
    },
    {
      "cell_type": "markdown",
      "metadata": {
        "id": "MSNfraIzrIYV"
      },
      "source": [
        "Lets look at the all the attributes present in the data."
      ]
    },
    {
      "cell_type": "code",
      "metadata": {
        "colab": {
          "base_uri": "https://localhost:8080/"
        },
        "id": "fSz0hXhXrSuf",
        "outputId": "77cc26b3-8a31-4880-9bab-44a18d9690cc"
      },
      "source": [
        "df.columns"
      ],
      "execution_count": null,
      "outputs": [
        {
          "output_type": "execute_result",
          "data": {
            "text/plain": [
              "Index(['fixed acidity', 'volatile acidity', 'citric acid', 'residual sugar',\n",
              "       'chlorides', 'free sulfur dioxide', 'total sulfur dioxide', 'density',\n",
              "       'pH', 'sulphates', 'alcohol', 'quality'],\n",
              "      dtype='object')"
            ]
          },
          "metadata": {},
          "execution_count": 23
        }
      ]
    },
    {
      "cell_type": "markdown",
      "metadata": {
        "id": "ORCkmwCjo0ee"
      },
      "source": [
        "When we look at this data and consider it a classification problem, a lot of algorithms come to our mind that we can apply to it, probably, we can use neural networks. But it would be a bit of a stretch if we dive into neural networks from the beginning. So, let’s start with something simple that we can visualize too: \n",
        "decision trees.\n",
        "\n",
        "Before we begin to understand what overfitting is, let’s divide the data into two parts. This dataset has **1599** samples. We keep **1000** samples for **training** and **599** as a **separate set**.\n",
        "\n"
      ]
    },
    {
      "cell_type": "code",
      "metadata": {
        "id": "PGhS7g39m9vP"
      },
      "source": [
        "# use sample with frac=1 to shuffle the dataframewe reset the indices since they change after shuffling the dataframe\n",
        "df = df.sample(frac=1).reset_index(drop=True)\n",
        "\n",
        "# Now lets select top 1000 rows for training\n",
        "df_train = df.head(1000)\n",
        "\n",
        "# Remaining bottom 599 rows are selected for testing/Validation\n",
        "df_test = df.tail(599)"
      ],
      "execution_count": null,
      "outputs": []
    },
    {
      "cell_type": "markdown",
      "source": [
        "We will now train a decision tree model on the training set. "
      ],
      "metadata": {
        "id": "TksKBzeQFHXq"
      }
    },
    {
      "cell_type": "code",
      "metadata": {
        "id": "M4E6_9N2qi_k"
      },
      "source": [
        "# initialize decision tree classifier class with a max_depth of 3\n",
        "clf = tree.DecisionTreeClassifier(max_depth= 3)"
      ],
      "execution_count": null,
      "outputs": []
    },
    {
      "cell_type": "code",
      "metadata": {
        "id": "sf81ftFzrBx6"
      },
      "source": [
        "# choose the columns you want to train on these are the features for the model\n",
        "cols = ['fixed acidity', 'volatile acidity', 'citric acid', 'residual sugar', \\\n",
        "'chlorides', 'free sulfur dioxide', 'total sulfur dioxide', 'density', \\\n",
        "'pH', 'sulphates', 'alcohol']"
      ],
      "execution_count": null,
      "outputs": []
    },
    {
      "cell_type": "code",
      "metadata": {
        "colab": {
          "base_uri": "https://localhost:8080/"
        },
        "id": "jnc3N6PArjl_",
        "outputId": "32032988-ee6e-48ca-fbc0-d0adb774537f"
      },
      "source": [
        "# train the model on the provided features and mapped quality from before\n",
        "clf.fit(df_train[cols], df_train.quality)"
      ],
      "execution_count": null,
      "outputs": [
        {
          "output_type": "execute_result",
          "data": {
            "text/plain": [
              "DecisionTreeClassifier(max_depth=3)"
            ]
          },
          "metadata": {},
          "execution_count": 27
        }
      ]
    },
    {
      "cell_type": "markdown",
      "metadata": {
        "id": "vO16bLNwsc2D"
      },
      "source": [
        "Note that here we have used a max_depth of 3 for the decision tree classifier. We have left all other parameters of this model to its default value.\n",
        "\n",
        "Now, we test the accuracy of this model on the training set and the test set:\n"
      ]
    },
    {
      "cell_type": "code",
      "metadata": {
        "id": "60t3Kj4-rpVb"
      },
      "source": [
        "# generate predictions on the training set\n",
        "train_predictions = clf.predict(df_train[cols])"
      ],
      "execution_count": null,
      "outputs": []
    },
    {
      "cell_type": "code",
      "metadata": {
        "id": "nk5rQpw3shaU"
      },
      "source": [
        "# generate predictions on the test set\n",
        "test_predictions = clf.predict(df_test[cols])"
      ],
      "execution_count": null,
      "outputs": []
    },
    {
      "cell_type": "code",
      "metadata": {
        "colab": {
          "base_uri": "https://localhost:8080/"
        },
        "id": "lJdMHbAdslsx",
        "outputId": "205a83b4-14d9-4faf-f298-8d108b775e26"
      },
      "source": [
        "# calculate the accuracy of predictions on training data set\n",
        "train_accuracy = metrics.accuracy_score(df_train.quality, train_predictions)\n",
        "\n",
        "# calculate the accuracy of predictions on test data set\n",
        "test_accuracy = metrics.accuracy_score(df_test.quality, test_predictions)\n",
        "\n",
        "print('The training and test accuracies are found to be', train_accuracy * 100, ' and ', test_accuracy * 100)"
      ],
      "execution_count": null,
      "outputs": [
        {
          "output_type": "stream",
          "name": "stdout",
          "text": [
            "The training and test accuracies are found to be 57.9  and  55.425709515859765\n"
          ]
        }
      ]
    },
    {
      "cell_type": "markdown",
      "metadata": {
        "id": "V5QcgjVuti8X"
      },
      "source": [
        "Now if we try to increase the max_depth to 7 and repeat the process. Let's look"
      ]
    },
    {
      "cell_type": "code",
      "metadata": {
        "colab": {
          "base_uri": "https://localhost:8080/"
        },
        "id": "PUkAT8hZsryC",
        "outputId": "797dd508-4d4b-409c-ac43-1ecf077a2e06"
      },
      "source": [
        "clf_1 = tree.DecisionTreeClassifier(max_depth= 7)\n",
        "clf_1.fit(df_train[cols], df_train.quality)\n",
        "\n",
        "# generate predictions on the training set\n",
        "train_predictions_1 = clf_1.predict(df_train[cols])\n",
        "\n",
        "# generate predictions on the test set\n",
        "test_predictions_1 = clf_1.predict(df_test[cols])\n",
        "\n",
        "# calculate the accuracy of predictions on training data set\n",
        "train_accuracy_1 = metrics.accuracy_score(\n",
        "df_train.quality, train_predictions_1)\n",
        "\n",
        "# calculate the accuracy of predictions on test data set\n",
        "test_accuracy_1 = metrics.accuracy_score(\n",
        "df_test.quality, test_predictions_1)\n",
        "\n",
        "print('The training and test accuracies are found to be', train_accuracy_1 * 100, ' and ', test_accuracy_1 * 100)"
      ],
      "execution_count": null,
      "outputs": [
        {
          "output_type": "stream",
          "name": "stdout",
          "text": [
            "The training and test accuracies are found to be 76.4  and  58.09682804674458\n"
          ]
        }
      ]
    },
    {
      "cell_type": "markdown",
      "metadata": {
        "id": "oxs2uvHktGic"
      },
      "source": [
        "- We could observe that accuracy increases as we increase the max-depth from 3 to 7.\n",
        "\n",
        "- Here, we have used accuracy, mainly because it\n",
        "is the most straightforward metric. It might not be the best metric for this problem.\n",
        "\n",
        "What about we calculate these accuracies for different values of max_depth and\n",
        "make a plot?\n",
        "\n"
      ]
    },
    {
      "cell_type": "code",
      "metadata": {
        "id": "duapmQYTs4xT"
      },
      "source": [
        "# this is our global size of label text on the plots\n",
        "matplotlib.rc('xtick', labelsize=20)\n",
        "matplotlib.rc('ytick', labelsize=20)"
      ],
      "execution_count": null,
      "outputs": []
    },
    {
      "cell_type": "code",
      "metadata": {
        "id": "3PQGSi1bvF7F"
      },
      "source": [
        "# initialize lists to store accuracies for training and test data we start with 50% accuracy\n",
        "train_accuracies = [0.5]\n",
        "test_accuracies = [0.5]"
      ],
      "execution_count": null,
      "outputs": []
    },
    {
      "cell_type": "code",
      "metadata": {
        "id": "_uh3JgCsvTp3"
      },
      "source": [
        "# iterate over a few depth values\n",
        "for depth in range(1, 25):\n",
        "    # init the model\n",
        "    clf_2 = tree.DecisionTreeClassifier(max_depth=depth)\n",
        "    \n",
        "    # fit the model on given features\n",
        "    clf_2.fit(df_train[cols], df_train.quality)\n",
        "\n",
        "    # create training & test predictions\n",
        "    train_predictions_2 = clf_2.predict(df_train[cols])\n",
        "    test_predictions_2 = clf_2.predict(df_test[cols])\n",
        "\n",
        "    # calculate training & test accuracies\n",
        "    train_accuracy_2 = metrics.accuracy_score(df_train.quality, train_predictions_2)\n",
        "    test_accuracy_2 = metrics.accuracy_score(df_test.quality, test_predictions_2)\n",
        "\n",
        "    # append accuracies\n",
        "    train_accuracies.append(train_accuracy_2)\n",
        "    test_accuracies.append(test_accuracy_2)"
      ],
      "execution_count": null,
      "outputs": []
    },
    {
      "cell_type": "code",
      "metadata": {
        "colab": {
          "base_uri": "https://localhost:8080/",
          "height": 353
        },
        "id": "UosB6esBv4kg",
        "outputId": "907b7da7-490c-404c-fead-1b68b16fef15"
      },
      "source": [
        "# create two plots using matplotlib and seaborn\n",
        "plt.figure(figsize=(10, 5))\n",
        "sns.set_style(\"whitegrid\")\n",
        "plt.plot(train_accuracies, label=\"train accuracy\",linestyle ='dashed')\n",
        "plt.plot(test_accuracies, label=\"test accuracy\")\n",
        "plt.legend(loc=\"upper left\", prop={'size': 15})\n",
        "plt.xticks(range(0, 26, 5))\n",
        "plt.xlabel(\"max_depth\", size=20)\n",
        "plt.ylabel(\"accuracy\", size=20)\n",
        "plt.show()"
      ],
      "execution_count": null,
      "outputs": [
        {
          "output_type": "display_data",
          "data": {
            "text/plain": [
              "<Figure size 720x360 with 1 Axes>"
            ],
            "image/png": "[encoded data removed]"
          },
          "metadata": {}
        }
      ]
    },
    {
      "cell_type": "markdown",
      "metadata": {
        "id": "PZDQBnzNx1Fc"
      },
      "source": [
        "- We see that the best score for test data is obtained when max_depth has a value of 14. As we keep increasing the value of this parameter, test accuracy remains the same or gets worse, but the training accuracy keeps increasing. \n",
        "\n",
        "- It means that our simple decision tree model keeps learning about the training data better and better with an increase in max_depth, but the performance on test data does not improve at all. \n",
        "\n",
        "This is called as overfitting.\n",
        "\n",
        "- The model fits perfectly on the training set and performs poorly when it comes to the test set. \n",
        "\n",
        "- This means that the model will learn the training data well but will not generalize on unseen samples. \n",
        "\n",
        "- In the dataset above, one can build a model with very high max_depth which will have outstanding results on training data, but that kind of model is not useful as it will not provide a similar result on the real-world samples\n",
        "or live data.\n",
        "\n"
      ]
    },
    {
      "cell_type": "markdown",
      "metadata": {
        "id": "_u9m9CyvyvdZ"
      },
      "source": [
        "- One might argue that this approach isn’t overfitting as the accuracy of the test set more or less remains the same. \n",
        "\n",
        "- Another definition of overfitting would be when the test loss increases as we keep improving training loss. This is very common when it comes to **neural networks**.\n"
      ]
    },
    {
      "cell_type": "markdown",
      "metadata": {
        "id": "Kt3tCiE2zQ3k"
      },
      "source": [
        "- If we have a very large network for a dataset which is\n",
        "quite small (i.e. very less number of samples), we will observe that the loss for both training and test set will decrease as we keep training. \n",
        "\n",
        "- However, at some point, test loss will reach its minima, and after that, it will start increasing even though training loss decreases further. We must stop training where the validation loss reaches its\n",
        "minimum value.\n"
      ]
    },
    {
      "cell_type": "markdown",
      "metadata": {
        "id": "cj9q8s3f0W_7"
      },
      "source": [
        "Now we can go back to cross-validation.\n",
        "\n",
        "While explaining about overfitting, we decided to divide the data into two parts. We trained the model on one part and checked its performance on the other part. \n",
        "\n",
        "Well, this is also a kind of cross-validation commonly known as a **hold-out set**. We use this kind of (cross-) validation when we have a large amount of data and model inference is a time-consuming process.\n"
      ]
    },
    {
      "cell_type": "markdown",
      "metadata": {
        "id": "3hACJsGy1YhY"
      },
      "source": [
        "There are many different ways one can do cross-validation, and it is the most critical step when it comes to building a good machine learning model which is generalizable when it comes to unseen data.\n",
        "\n",
        "Choosing the right cross-validation depends on the dataset you are dealing with, and one’s choice of cross-validation on one dataset may or may not apply to other datasets. However, there are a few types of cross-validation techniques which are the most popular and widely used.\n",
        "\n",
        "These include:\n",
        "\n",
        "- k-fold cross-validation\n",
        "- stratified k-fold cross-validation\n",
        "- hold-out based validation\n",
        "- leave-one-out cross-validation\n",
        "- group k-fold cross-validation\n",
        "\n",
        "\n",
        "Let's look at the code for the k-fold cross-validation i.e random k-fold cross-validation."
      ]
    },
    {
      "cell_type": "code",
      "metadata": {
        "id": "jEu3KdI_v6qb"
      },
      "source": [
        "# import pandas and model_selection module of scikit-learn\n",
        "import pandas as pd\n",
        "from sklearn import model_selection\n",
        "\n",
        "if __name__ == \"__main__\":\n",
        "    # Training data is in a CSV file called train.csv\n",
        "    dt = pd.read_csv(\"winequality-red.csv\",sep=';')\n",
        "    \n",
        "    # we create a new column called kfold and fill it with -1\n",
        "    dt[\"kfold\"] = -1\n",
        "    \n",
        "    # the next step is to randomize the rows of the data\n",
        "    dt = dt.sample(frac=1).reset_index(drop=True)\n",
        "    \n",
        "    # initiate the kfold class from model_selection module\n",
        "    kf = model_selection.KFold(n_splits=5)\n",
        "    \n",
        "    # fill the new kfold column\n",
        "    for fold, (trn_, val_) in enumerate(kf.split(X=df)):\n",
        "        df.loc[val_, 'kfold'] = fold\n",
        "    \n",
        "    # save the new csv with kfold column\n",
        "    dt.to_csv(\"train_folds.csv\", index=False)"
      ],
      "execution_count": null,
      "outputs": []
    },
    {
      "cell_type": "markdown",
      "metadata": {
        "id": "BLvxHSbJLKjN"
      },
      "source": [
        "For the wine dataset, let’s look at the distribution of labels.\n"
      ]
    },
    {
      "cell_type": "code",
      "metadata": {
        "colab": {
          "base_uri": "https://localhost:8080/",
          "height": 314
        },
        "id": "yS4Ey9bFKfhY",
        "outputId": "d1998468-6c2d-4a3b-b959-4277335d2348"
      },
      "source": [
        "b = sns.countplot(x='quality', data=dt)\n",
        "b.set_xlabel(\"quality\", fontsize=20)\n",
        "b.set_ylabel(\"count\", fontsize=20)"
      ],
      "execution_count": null,
      "outputs": [
        {
          "output_type": "execute_result",
          "data": {
            "text/plain": [
              "Text(0, 0.5, 'count')"
            ]
          },
          "metadata": {},
          "execution_count": 44
        },
        {
          "output_type": "display_data",
          "data": {
            "text/plain": [
              "<Figure size 432x288 with 1 Axes>"
            ],
            "image/png": "[encoded data removed]"
          },
          "metadata": {}
        }
      ]
    },
    {
      "cell_type": "markdown",
      "metadata": {
        "id": "kX9HFP_QPmDd"
      },
      "source": [
        "Now let's look at the stratifiedKFold"
      ]
    },
    {
      "cell_type": "code",
      "metadata": {
        "id": "XN7LCfGeLDrL"
      },
      "source": [
        "if __name__ == \"__main__\":\n",
        "    # Training data is in a csv file called train.csv\n",
        "    df_1 = pd.read_csv(\"winequality-red.csv\",sep=';')\n",
        "\n",
        "    # we create a new column called kfold and fill it with -1\n",
        "    df_1[\"kfold\"] = -1\n",
        "\n",
        "    # the next step is to randomize the rows of the data\n",
        "    df_1 = df_1.sample(frac=1).reset_index(drop=True)\n",
        "\n",
        "    # fetch targets\n",
        "    y_1 = df_1.quality.values\n",
        "\n",
        "    # initiate the kfold class from model_selection module\n",
        "    kf_1 = model_selection.StratifiedKFold(n_splits=5)\n",
        "\n",
        "    # fill the new kfold column\n",
        "    for f, (t_, v_) in enumerate(kf_1.split(X=df_1, y=y_1)):\n",
        "        df_1.loc[v_, 'kfold'] = f\n",
        "        \n",
        "    # save the new csv with kfold column\n",
        "    df_1.to_csv(\"train_folds.csv\", index=False)"
      ],
      "execution_count": null,
      "outputs": []
    },
    {
      "cell_type": "markdown",
      "metadata": {
        "id": "IKxUrd68RJJC"
      },
      "source": [
        "For the wine dataset, let’s look at the distribution of labels.\n"
      ]
    },
    {
      "cell_type": "code",
      "metadata": {
        "colab": {
          "base_uri": "https://localhost:8080/",
          "height": 314
        },
        "id": "a7U-d3oAzMJU",
        "outputId": "3a246671-9261-43a6-ac96-dfa2b5f91717"
      },
      "source": [
        "b = sns.countplot(x='quality', data=df)\n",
        "b.set_xlabel(\"quality\", fontsize=20)\n",
        "b.set_ylabel(\"count\", fontsize=20)"
      ],
      "execution_count": null,
      "outputs": [
        {
          "output_type": "execute_result",
          "data": {
            "text/plain": [
              "Text(0, 0.5, 'count')"
            ]
          },
          "metadata": {},
          "execution_count": 46
        },
        {
          "output_type": "display_data",
          "data": {
            "text/plain": [
              "<Figure size 432x288 with 1 Axes>"
            ],
            "image/png": "[encoded data removed]"
          },
          "metadata": {}
        }
      ]
    },
    {
      "cell_type": "markdown",
      "metadata": {
        "id": "D1i1fKdERrTT"
      },
      "source": [
        " Depending on which algorithm we choose, training and even validation can be very expensive for a dataset which is of this size. In these\n",
        "cases, we can opt for a hold-out based validation"
      ]
    },
    {
      "cell_type": "markdown",
      "metadata": {
        "id": "EVNrgalfT69t"
      },
      "source": [
        "To use stratified k-fold for a regression problem, we have first to divide the target into bins, and then we can use stratified k-fold in the same way as for classification\n",
        "problems. \n",
        "\n",
        "- There are several choices for selecting the appropriate number of bins. \n",
        "- If we have a lot of samples( > 10k, > 100k), then you don’t need to care about the number of bins. Just divide the data into 10 or 20 bins. \n",
        "\n",
        "- If you do not have a lot of samples, you can use a simple rule like Sturge’s Rule to calculate the appropriate\n",
        "number of bins.\n",
        "\n",
        "**Sturge’s Rule**\n",
        "\n",
        "Number of Bins = 1 + log<sub>2</sub>(N)\n"
      ]
    },
    {
      "cell_type": "code",
      "metadata": {
        "id": "s9IbtRSyzIBh"
      },
      "source": [
        "def create_folds(data):\n",
        "    # we create a new column called kfold and fill it with -1\n",
        "    data[\"kfold\"] = -1\n",
        "\n",
        "    # the next step is to randomize the rows of the data\n",
        "    data = data.sample(frac=1).reset_index(drop=True)\n",
        "\n",
        "    # calculate the number of bins by Sturge's rule\n",
        "    # I take the floor of the value, you can also\n",
        "    # just round it\n",
        "    num_bins = int (np.floor(1 + np.log2(len(data))))\n",
        "\n",
        "    # bin targets\n",
        "    data.loc[:, \"bins\"] = pd.cut(data[\"target\"], bins=num_bins, labels=False)\n",
        "\n",
        "    # initiate the kfold class from model_selection module\n",
        "    kf = model_selection.StratifiedKFold(n_splits=5)\n",
        "\n",
        "    # fill the new kfold column\n",
        "    # note that, instead of targets, we use bins!\n",
        "    for f, (t_, v_) in enumerate(kf.split(X=data, y=data.bins.values)):\n",
        "        data.loc[v_, 'kfold'] = f\n",
        "\n",
        "    # drop the bins column\n",
        "    data = data.drop(\"bins\", axis=1)\n",
        "\n",
        "    # return dataframe with folds\n",
        "    return data\n",
        "\n",
        "if __name__ == \"__main__\":\n",
        "    # we create a sample dataset with 15000 samples\n",
        "    # and 100 features and 1 target\n",
        "    X, y = datasets.make_regression(\n",
        "    n_samples=15000, n_features=100, n_targets=1)\n",
        "\n",
        "    # create a dataframe out of our numpy arrays\n",
        "    df = pd.DataFrame(X,\n",
        "    columns=[f\"f_{i}\" for i in range(X.shape[1])])\n",
        "    df.loc[:, \"target\"] = y\n",
        "\n",
        "    # create folds\n",
        "    df = create_folds(df)"
      ],
      "execution_count": null,
      "outputs": []
    },
    {
      "cell_type": "markdown",
      "metadata": {
        "id": "VbJeTVHoXD0W"
      },
      "source": [
        "Cross-validation is the first and most essential step when it comes to building machine learning models.\n",
        "- If you want to do **feature engineering, split your data first**.\n",
        "- If you're going to **build models**, split your data first**. \n",
        "- If you have a **good cross-\n",
        "validation scheme** in which validation data is representative of training and real- world data, you will be able to build a good machine learning model which is highly generalizable.\n"
      ]
    },
    {
      "cell_type": "markdown",
      "metadata": {
        "id": "-6nE7bQpW8eU"
      },
      "source": [
        "There is no way to combine GroupKFold with StratifiedKFold ttry to solve it."
      ]
    },
    {
      "cell_type": "markdown",
      "metadata": {
        "id": "RRBcygkxYAzW"
      },
      "source": [
        "## **Evulation metrics**"
      ]
    },
    {
      "cell_type": "markdown",
      "metadata": {
        "id": "gV4CQ7WQYmhW"
      },
      "source": [
        "When it comes to machine learning problems, you will encounter a lot of different types of metrics in the real world. \n",
        "\n",
        "Sometimes, people even end up creating metrics\n",
        "that suit the business problem\n",
        "\n",
        "If we talk about classification problems, the most common metrics used are:\n",
        "- Accuracy\n",
        "- Precision (P)\n",
        "- Recall (R)\n",
        "- F1 score (F1)\n",
        "- Area under the ROC (Receiver Operating Characteristic) curve or simply\n",
        "AUC (AUC)\n",
        "- Log loss\n",
        "- Precision at k (P@k)\n",
        "- Average precision at k (AP@k)\n",
        "- Mean average precision at k (MAP@k)\n",
        "\n",
        "When it comes to regression, the most commonly used evaluation metrics are:\n",
        "- Mean absolute error (MAE)\n",
        "- Mean squared error (MSE)\n",
        "- Root mean squared error (RMSE)\n",
        "- Root mean squared logarithmic error (RMSLE)\n",
        "- Mean percentage error (MPE)\n",
        "- Mean absolute percentage error (MAPE)\n",
        "- R2\n",
        "\n",
        "Now let's go one-by-one in detail and understand which metric should be used where.\n",
        "\n",
        "For better understanding we will be considering a **siim-acr-pneumothorax-segmentation dataset** form the kaggle.\n"
      ]
    },
    {
      "cell_type": "markdown",
      "metadata": {
        "id": "56zwWOTzajBe"
      },
      "source": [
        "**Accuracy**: It is one of the most straightforward metrics used in machine learning.\n",
        "It defines how accurate your model is. For the problem described above, if you build\n",
        "a model that classifies 90 images accurately, your accuracy is 90% or 0.90. If only 83 images are classified correctly, the accuracy of your model is 83% or 0.83.\n",
        "\n",
        "Python code for calculating accuracy is also quite simple\n"
      ]
    },
    {
      "cell_type": "code",
      "metadata": {
        "id": "PYuDnLF8zTtm"
      },
      "source": [
        "def accuracy(y_true, y_pred):\n",
        "    \"\"\"\n",
        "    Function to calculate accuracy\n",
        "    :param y_true: list of true values\n",
        "    :param y_pred: list of predicted values\n",
        "    :return: accuracy score\n",
        "    \"\"\"\n",
        "    # initialize a simple counter for correct predictions\n",
        "    correct_counter = 0\n",
        "    # loop over all elements of y_true\n",
        "    # and y_pred \"together\"\n",
        "    for yt, yp in zip(y_true, y_pred):\n",
        "        if yt == yp:\n",
        "            # if prediction is equal to truth, increase the counter\n",
        "            correct_counter += 1\n",
        "    # return accuracy\n",
        "    # which is correct predictions over the number of samples\n",
        "    return correct_counter / len(y_true)"
      ],
      "execution_count": null,
      "outputs": []
    },
    {
      "cell_type": "code",
      "metadata": {
        "colab": {
          "base_uri": "https://localhost:8080/"
        },
        "id": "rIY3s1UgzZFo",
        "outputId": "f5c0814d-2eab-48b9-8196-f7c5b33ca69a"
      },
      "source": [
        "# We can also calculate accuracy using scikit-learn.\n",
        "l1 = [0,1,1,1,0,0,0,1]\n",
        "l2 = [0,1,0,1,0,1,0,0]\n",
        "metrics.accuracy_score(l1, l2)"
      ],
      "execution_count": null,
      "outputs": [
        {
          "output_type": "execute_result",
          "data": {
            "text/plain": [
              "0.625"
            ]
          },
          "metadata": {
            "tags": []
          },
          "execution_count": 32
        }
      ]
    },
    {
      "cell_type": "markdown",
      "metadata": {
        "id": "DoLt_VhJbu3a"
      },
      "source": [
        "When there is some imbbalance in the dataset like around 90% to 10%. we could see that the dataset is skewed, i.e., the number of samples in one class outnumber the number of samples in other class by a lot. \n",
        "\n",
        "In these kinds of cases, it is not advisable to use accuracy as an evaluation metric as it is not representative of the data.\n",
        "\n",
        "So, you might get high accuracy, but your model\n",
        "will probably not perform that well when it comes to real-world samples.\n",
        "\n",
        "In these cases, it’s better to look at other metrics such as precision.\n"
      ]
    },
    {
      "cell_type": "markdown",
      "metadata": {
        "id": "N7dkxR-IeWPG"
      },
      "source": [
        "Before learning about precision, we need to know a few terms. Here we have\n",
        "assumed that chest x-ray images with pneumothorax are positive class  and\n",
        "without pneumothorax are negative class.\n",
        "\n",
        "**True positive (TP)**: Given an image, if your model predicts the image has\n",
        "pneumothorax, and the actual target for that image has pneumothorax, it is\n",
        "considered a true positive.\n",
        "\n",
        "**True negative (TN)**: Given an image, if your model predicts that the image does not have pneumothorax and the actual target says that it is a non-pneumothorax image, it is considered a true negative.\n",
        "In simple words, if your model correctly predicts positive class, it is true positive, and if your model accurately predicts negative class, it is a true negative.\n",
        "\n",
        "**False positive (FP)**: Given an image, if your model predicts pneumothorax and the\n",
        "actual target for that image is non- pneumothorax, it a false positive.\n",
        "\n",
        "**False negative (FN)**: Given an image, if your model predicts non-pneumothorax and the actual target for that image is pneumothorax, it is a false negative.\n",
        "In simple words, if your model incorrectly (or falsely) predicts positive class, it is\n",
        "a false positive. If your model incorrectly (or falsely) predicts negative class, it is a\n",
        "false negative.\n"
      ]
    },
    {
      "cell_type": "code",
      "metadata": {
        "id": "wAaeJ9L4ea1r"
      },
      "source": [
        "def true_positive(y_true, y_pred):\n",
        "    \"\"\"\n",
        "    Function to calculate True Positives\n",
        "    :param y_true: list of true values\n",
        "    :param y_pred: list of predicted values\n",
        "    :return: number of true positives\n",
        "    \"\"\"\n",
        "    # initialize\n",
        "    tp = 0\n",
        "    for yt, yp in zip(y_true, y_pred):\n",
        "        if yt == 1 and yp == 1:\n",
        "            tp += 1\n",
        "    return tp\n",
        "\n",
        "def true_negative(y_true, y_pred):\n",
        "    \"\"\"\n",
        "    Function to calculate True Negatives\n",
        "    :param y_true: list of true values\n",
        "    :param y_pred: list of predicted values\n",
        "    :return: number of true negatives\n",
        "    \"\"\"\n",
        "    # initialize\n",
        "    tn = 0\n",
        "    for yt, yp in zip(y_true, y_pred):\n",
        "        if yt == 0 and yp == 0:\n",
        "            tn += 1\n",
        "    return tn\n",
        "\n",
        "def false_positive(y_true, y_pred):\n",
        "    \"\"\"\n",
        "    Function to calculate False Positives\n",
        "    :param y_true: list of true values\n",
        "    :param y_pred: list of predicted values\n",
        "    :return: number of false positives\n",
        "    \"\"\"\n",
        "    # initialize\n",
        "    fp = 0\n",
        "    for yt, yp in zip(y_true, y_pred):\n",
        "        if yt == 0 and yp == 1:\n",
        "            fp += 1\n",
        "    return fp\n",
        "\n",
        "def false_negative(y_true, y_pred):\n",
        "    \"\"\"\n",
        "    Function to calculate False Negatives\n",
        "    :param y_true: list of true values\n",
        "    :param y_pred: list of predicted values\n",
        "    :return: number of false negatives\n",
        "    \"\"\"\n",
        "    # initialize\n",
        "    fn = 0\n",
        "    for yt, yp in zip(y_true, y_pred):\n",
        "        if yt == 1 and yp == 0:\n",
        "            fn += 1\n",
        "    return fn\n"
      ],
      "execution_count": null,
      "outputs": []
    },
    {
      "cell_type": "markdown",
      "metadata": {
        "id": "U30kdqJZfsrn"
      },
      "source": [
        "The way I have implemented these here is quite simple and works only for binary\n",
        "classification. Let’s check these functions.\n"
      ]
    },
    {
      "cell_type": "code",
      "metadata": {
        "colab": {
          "base_uri": "https://localhost:8080/"
        },
        "id": "R9gPhzTjbYnK",
        "outputId": "a70392ee-6ab1-4aad-f5a3-1305bdd2d1fa"
      },
      "source": [
        "l1 = [0,1,1,1,0,0,0,1]\n",
        "l2 = [0,1,0,1,0,1,0,0]\n",
        "print(true_positive(l1, l2))\n",
        "print(false_positive(l1, l2))\n",
        "print(false_negative(l1, l2))\n",
        "print(true_negative(l1, l2))"
      ],
      "execution_count": null,
      "outputs": [
        {
          "output_type": "stream",
          "text": [
            "2\n",
            "1\n",
            "2\n",
            "3\n"
          ],
          "name": "stdout"
        }
      ]
    },
    {
      "cell_type": "markdown",
      "metadata": {
        "id": "TIv1lTgIgpp9"
      },
      "source": [
        "If we have to define accuracy using the terms described above, we can write:\n",
        "\n",
        "**Accuracy Score = (TP + TN) / (TP + TN + FP + FN)**\n",
        "\n",
        "We can now quickly implement accuracy score using TP, TN, FP and FN in python.\n",
        "Let’s call it accuracy_v2."
      ]
    },
    {
      "cell_type": "code",
      "metadata": {
        "id": "sU7DDAFXf-Ev"
      },
      "source": [
        "def accuracy_v2(y_true, y_pred):\n",
        "    \"\"\"\n",
        "    Function to calculate accuracy using tp/tn/fp/fn\n",
        "    :param y_true: list of true values\n",
        "    :param y_pred: list of predicted values\n",
        "    :return: accuracy score\n",
        "    \"\"\"\n",
        "    tp = true_positive(y_true, y_pred)\n",
        "    fp = false_positive(y_true, y_pred)\n",
        "    fn = false_negative(y_true, y_pred)\n",
        "    tn = true_negative(y_true, y_pred)\n",
        "    accuracy_score = (tp + tn) / (tp + tn + fp + fn)\n",
        "    return accuracy_score"
      ],
      "execution_count": null,
      "outputs": []
    },
    {
      "cell_type": "markdown",
      "metadata": {
        "id": "2hXFBKIjg5UZ"
      },
      "source": [
        "We can quickly check the correctness of this function by comparing it to our\n",
        "previous implementation and scikit-learn version."
      ]
    },
    {
      "cell_type": "code",
      "metadata": {
        "colab": {
          "base_uri": "https://localhost:8080/"
        },
        "id": "TRWQE2HKg2Wh",
        "outputId": "13796fbd-3ca5-4533-b441-d409e8da4768"
      },
      "source": [
        "l1 = [0,1,1,1,0,0,0,1]\n",
        "l2 = [0,1,0,1,0,1,0,0]\n",
        "print(accuracy(l1, l2))\n",
        "print(accuracy_v2(l1, l2))\n",
        "print(metrics.accuracy_score(l1, l2))"
      ],
      "execution_count": null,
      "outputs": [
        {
          "output_type": "stream",
          "text": [
            "0.625\n",
            "0.625\n",
            "0.625\n"
          ],
          "name": "stdout"
        }
      ]
    },
    {
      "cell_type": "markdown",
      "metadata": {
        "id": "zg6iTsBjhMAM"
      },
      "source": [
        "Please note that in this code, metrics.accuracy_score comes from scikit-learn.\n",
        "Great. \n",
        "\n",
        "All values match. This means we have not made any mistakes in the\n",
        "implementation.\n",
        "\n",
        "Now, we can move to other important metrics.\n"
      ]
    },
    {
      "cell_type": "markdown",
      "metadata": {
        "id": "iqtjFXP0lgLu"
      },
      "source": [
        "**Precision** is defined as:\n",
        "\n",
        "        Precision = TP / (TP + FP)\n",
        "\n",
        "Let’s say we make a new model on the new skewed dataset and our model correctly\n",
        "identified 80 non-pneumothorax out of 90 and 8 pneumothorax out of 10. Thus, we identify 88 images out of 100 successfully. The accuracy is, therefore, 0.88 or 88%.\n",
        "\n",
        "But, out of these 100 samples, 10 non-pneumothorax images are misclassified as having pneumothorax and 2 pneumothorax are misclassified as not having pneumothorax.\n",
        "\n",
        "Thus, we have:\n",
        "- TP : 8\n",
        "- TN: 80\n",
        "- FP: 10\n",
        "- FN: 2\n",
        "\n",
        "So, our precision is 8 / (8 + 10) = 0.444. This means our model is correct 44.4% times when it’s trying to identify positive samples (pneumothorax).\n",
        "\n",
        "Now, since we have implemented TP, TN, FP and FN, we can easily implement\n",
        "precision in python.\n",
        "\n",
        "\n"
      ]
    },
    {
      "cell_type": "code",
      "metadata": {
        "id": "okZ8BQrjhF2K"
      },
      "source": [
        "def precision(y_true, y_pred):\n",
        "    \"\"\"\n",
        "    Function to calculate precision\n",
        "    :param y_true: list of true values\n",
        "    :param y_pred: list of predicted values\n",
        "    :return: precision score\n",
        "    \"\"\"\n",
        "    tp = true_positive(y_true, y_pred)\n",
        "    fp = false_positive(y_true, y_pred)\n",
        "    precision = tp / (tp + fp)\n",
        "    return precision"
      ],
      "execution_count": null,
      "outputs": []
    },
    {
      "cell_type": "markdown",
      "metadata": {
        "id": "dapMY_MFl7gi"
      },
      "source": [
        "Let’s try this implementation of precision.\n"
      ]
    },
    {
      "cell_type": "code",
      "metadata": {
        "colab": {
          "base_uri": "https://localhost:8080/"
        },
        "id": "QkTZgE5Zl4zh",
        "outputId": "911636b5-71ba-4f1b-da22-a493ce8ae290"
      },
      "source": [
        "l1 = [0,1,1,1,0,0,0,1]\n",
        "l2 = [0,1,0,1,0,1,0,0]\n",
        "precision(l1, l2)"
      ],
      "execution_count": null,
      "outputs": [
        {
          "output_type": "execute_result",
          "data": {
            "text/plain": [
              "0.6666666666666666"
            ]
          },
          "metadata": {
            "tags": []
          },
          "execution_count": 38
        }
      ]
    },
    {
      "cell_type": "markdown",
      "metadata": {
        "id": "lpSKipAgmBrz"
      },
      "source": [
        "**Recall** is defined as:\n",
        "\n",
        "        Recall = TP / (TP + FN)\n",
        "\n",
        "In the above case recall is 8 / (8 + 2) = 0.80. This means our model identified 80%\n",
        "of positive samples correctly.\n"
      ]
    },
    {
      "cell_type": "code",
      "metadata": {
        "id": "tPAdjFLOl-_c"
      },
      "source": [
        "def recall(y_true, y_pred):\n",
        "    \"\"\"\n",
        "    Function to calculate recall\n",
        "    :param y_true: list of true values\n",
        "    :param y_pred: list of predicted values\n",
        "    :return: recall score\n",
        "    \"\"\"\n",
        "    tp = true_positive(y_true, y_pred)\n",
        "    fn = false_negative(y_true, y_pred)\n",
        "    recall = tp / (tp + fn)\n",
        "    return recall"
      ],
      "execution_count": null,
      "outputs": []
    },
    {
      "cell_type": "code",
      "metadata": {
        "colab": {
          "base_uri": "https://localhost:8080/"
        },
        "id": "J2QwJm96mOb-",
        "outputId": "c22e5504-b81b-4658-d57f-0a589f00a271"
      },
      "source": [
        "recall(l1,l2)"
      ],
      "execution_count": null,
      "outputs": [
        {
          "output_type": "execute_result",
          "data": {
            "text/plain": [
              "0.5"
            ]
          },
          "metadata": {
            "tags": []
          },
          "execution_count": 40
        }
      ]
    },
    {
      "cell_type": "markdown",
      "metadata": {
        "id": "lrxCCmQFo4FZ"
      },
      "source": [
        "Most of the models predict a probability, and when we predict, we usually choose\n",
        "this threshold to be 0.5. This threshold is not always ideal, and depending on this\n",
        "threshold, your value of precision and recall can change drastically. If for every\n",
        "threshold we choose, we calculate the precision and recall values, we can create a\n",
        "plot between these sets of values. This plot or curve is known as the precision-recall\n",
        "curve.\n"
      ]
    },
    {
      "cell_type": "code",
      "metadata": {
        "id": "SZGwv9ukmTAy"
      },
      "source": [
        "y_true = [0, 0, 0, 1, 0, 0, 0, 0, 0, 0, 1, 0, 0, 0, 0, 0, 0, 0, 1, 0]\n",
        "y_pred = [0.02638412, 0.11114267, 0.31620708, 0.0490937, 0.0191491, \\\n",
        "          0.17554844, 0.15952202, 0.03819563, 0.11639273, 0.079377, \\\n",
        "          0.08584789, 0.39095342, 0.27259048, 0.03447096, 0.04644807, \\\n",
        "          0.03543574, 0.18521942, 0.05934905, 0.61977213, 0.33056815]"
      ],
      "execution_count": null,
      "outputs": []
    },
    {
      "cell_type": "markdown",
      "metadata": {
        "id": "2yQdqZQDpiNt"
      },
      "source": [
        "So, y_true is our targets, and y_pred is the probability values for a sample being\n",
        "assigned a value of 1. So, now, we look at probabilities in prediction instead of the\n",
        "predicted value (which is most of the time calculated with a threshold at 0.5).\n"
      ]
    },
    {
      "cell_type": "code",
      "metadata": {
        "colab": {
          "base_uri": "https://localhost:8080/",
          "height": 473
        },
        "id": "TY0aS7kVpUQf",
        "outputId": "6b2def0c-4244-46d5-c5a1-75843d2014c2"
      },
      "source": [
        "precisions = []\n",
        "recalls = []\n",
        "# how we assumed these thresholds is a long story\n",
        "thresholds = [0.0490937 , 0.05934905, 0.079377, 0.08584789, 0.11114267, \\\n",
        "              0.11639273, 0.15952202, 0.17554844, 0.18521942, 0.27259048, \\\n",
        "              0.31620708, 0.33056815, 0.39095342, 0.61977213]\n",
        "\n",
        "# for every threshold, calculate predictions in binary\n",
        "# and append calculated precisions and recalls\n",
        "# to their respective lists\n",
        "for i in thresholds:\n",
        "    temp_prediction = [1 if x >= i else 0 for x in y_pred]\n",
        "    p = precision(y_true, temp_prediction)\n",
        "    r = recall(y_true, temp_prediction)\n",
        "    precisions.append(p)\n",
        "    recalls.append(r)\n",
        "\n",
        "plt.figure(figsize=(7, 7))\n",
        "plt.plot(recalls, precisions)\n",
        "plt.xlabel('Recall', fontsize=15)\n",
        "plt.ylabel('Precision', fontsize=15)"
      ],
      "execution_count": null,
      "outputs": [
        {
          "output_type": "execute_result",
          "data": {
            "text/plain": [
              "Text(0, 0.5, 'Precision')"
            ]
          },
          "metadata": {
            "tags": []
          },
          "execution_count": 42
        },
        {
          "output_type": "display_data",
          "data": {
            "image/png": "[encoded data removed]",
            "text/plain": [
              "<Figure size 504x504 with 1 Axes>"
            ]
          },
          "metadata": {
            "tags": []
          }
        }
      ]
    },
    {
      "cell_type": "markdown",
      "metadata": {
        "id": "ePagL1a5qD5b"
      },
      "source": [
        "This **precision-recall curve** looks very different from what you might have seen on the internet. It’s because we had only 20 samples, and only 3 of them were positive samples. But there’s nothing to worry. It’s the same old precision-recall curve.\n",
        "\n",
        "- Both precision and recall range from 0 to 1 and a value closer to 1 is better.\n",
        "\n"
      ]
    },
    {
      "cell_type": "markdown",
      "metadata": {
        "id": "pNQ-54ZHsCVz"
      },
      "source": [
        "**F1 score** is a metric that combines both precision and recall. It is defined as a simple weighted average (harmonic mean) of precision and recall. If we denote precision using P and recall using R, we can represent the F1 score as:\n",
        "\n",
        "        F1 = 2PR / (P + R)\n",
        "\n",
        "A little bit of mathematics will lead you to the following equation of F1 based on **TP**, **FP** and **FN**. \n",
        "\n",
        "        F1 = 2TP / (2TP + FP + FN)\n",
        "\n",
        "\n",
        "\n"
      ]
    },
    {
      "cell_type": "code",
      "metadata": {
        "id": "CNiN0lRgppyo"
      },
      "source": [
        "def f1(y_true, y_pred):\n",
        "    \"\"\"\n",
        "    Function to calculate f1 score\n",
        "    :param y_true: list of true values\n",
        "    :param y_pred: list of predicted values\n",
        "    :return: f1 score\n",
        "    \"\"\"\n",
        "    p = precision(y_true, y_pred)\n",
        "    r = recall(y_true, y_pred)\n",
        "    score = 2 * p * r / (p + r)\n",
        "    return score"
      ],
      "execution_count": null,
      "outputs": []
    },
    {
      "cell_type": "code",
      "metadata": {
        "colab": {
          "base_uri": "https://localhost:8080/"
        },
        "id": "dwHkGp6QpCgt",
        "outputId": "f7ed33ca-8ec7-419b-a1fc-ed5b4fe9e16e"
      },
      "source": [
        "y_true = [0, 0, 0, 1, 0, 0, 0, 0, 0, 0, 1, 0, 0, 0, 0, 0, 0, 0, 1, 0]\n",
        "y_pred = [0, 0, 1, 0, 0, 0, 1, 0, 0, 0, 1, 0, 0, 0, 0, 0, 0, 0, 1, 0]\n",
        "f1(y_true, y_pred)"
      ],
      "execution_count": null,
      "outputs": [
        {
          "output_type": "execute_result",
          "data": {
            "text/plain": [
              "0.5714285714285715"
            ]
          },
          "metadata": {
            "tags": []
          },
          "execution_count": 44
        }
      ]
    },
    {
      "cell_type": "code",
      "metadata": {
        "colab": {
          "base_uri": "https://localhost:8080/"
        },
        "id": "Y40VXjxRswDF",
        "outputId": "57e015cd-2969-4801-9226-5622b9e362df"
      },
      "source": [
        "metrics.f1_score(y_true, y_pred)"
      ],
      "execution_count": null,
      "outputs": [
        {
          "output_type": "execute_result",
          "data": {
            "text/plain": [
              "0.5714285714285715"
            ]
          },
          "metadata": {
            "tags": []
          },
          "execution_count": 45
        }
      ]
    },
    {
      "cell_type": "markdown",
      "metadata": {
        "id": "qOeP9RAes-U-"
      },
      "source": [
        "- Instead of looking at precision and recall individually, you can also just look at F1 score. \n",
        "\n",
        "- Same as for precision, recall and accuracy, F1 score also ranges from 0 to 1, and a perfect prediction model has an F1 of 1. \n",
        "\n",
        "- **When dealing with datasets that have\n",
        "skewed targets, we should look at F1 (or precision and recall) instead of accuracy.**\n"
      ]
    },
    {
      "cell_type": "markdown",
      "metadata": {
        "id": "bbcG0pRDtSp0"
      },
      "source": [
        "Then there are other crucial terms that we should know about. \n",
        "\n",
        "- The first one is **TPR or True Positive Rate**, which is the same as recall.\n",
        "\n",
        "        TPR = TP / (TP + FN)\n",
        "\n",
        "--> **TPR** or recall is also known as **sensitivity**.\n",
        "\n"
      ]
    },
    {
      "cell_type": "code",
      "metadata": {
        "id": "MoXb9zqtu8ZP"
      },
      "source": [
        "def tpr(y_true, y_pred):\n",
        "    \"\"\"\n",
        "    Function to calculate tpr\n",
        "    :param y_true: list of true values\n",
        "    :param y_pred: list of predicted values\n",
        "    :return: tpr/recall\n",
        "    \"\"\"\n",
        "    return recall(y_true, y_pred)"
      ],
      "execution_count": null,
      "outputs": []
    },
    {
      "cell_type": "markdown",
      "metadata": {
        "id": "zqRO4bDCu9Io"
      },
      "source": [
        "\n",
        "- And the second one is **FPR or False Positive Rate**, which is defined as:\n",
        "\n",
        "        FPR = FP / (TN + FP)\n",
        "\n",
        "--> And **1 - FPR** is known as **specificity** or **True Negative Rate or TNR**"
      ]
    },
    {
      "cell_type": "code",
      "metadata": {
        "id": "OfEGBW0DszZ5"
      },
      "source": [
        "def fpr(y_true, y_pred):\n",
        "    \"\"\"\n",
        "    Function to calculate fpr\n",
        "    :param y_true: list of true values\n",
        "    :param y_pred: list of predicted values\n",
        "    :return: fpr\n",
        "    \"\"\"\n",
        "    fp = false_positive(y_true, y_pred)\n",
        "    tn = true_negative(y_true, y_pred)\n",
        "    return fp / (tn + fp)"
      ],
      "execution_count": null,
      "outputs": []
    },
    {
      "cell_type": "markdown",
      "metadata": {
        "id": "zPKHboMuvYbU"
      },
      "source": [
        "For a typical threshold of >= 0.5, we can evaluate all the above values of precision, recall/TPR, F1 and FPR. But we can do the same if we choose the value of the\n",
        "threshold to be 0.4 or 0.6. In fact, we can choose any value between 0 and 1 and\n",
        "calculate all the metrics described above.\n",
        "\n",
        "Let’s calculate only two values, though: TPR and FPR.\n"
      ]
    },
    {
      "cell_type": "code",
      "metadata": {
        "id": "UuJVhmaautnD"
      },
      "source": [
        "# empty lists to store tpr\n",
        "# and fpr values\n",
        "tpr_list = []\n",
        "fpr_list = []\n",
        "\n",
        "# actual targets\n",
        "y_true = [0, 0, 0, 0, 1, 0, 1, 0, 0, 1, 0, 1, 0, 0, 1]\n",
        "\n",
        "# predicted probabilities of a sample being 1\n",
        "y_pred = [0.1, 0.3, 0.2, 0.6, 0.8, 0.05, 0.9, 0.5, 0.3, \\\n",
        "          0.66, 0.3, 0.2, 0.85, 0.15, 0.99]\n",
        "\n",
        "# handmade thresholds\n",
        "thresholds = [0, 0.1, 0.2, 0.3, 0.4, 0.5, 0.6, 0.7, 0.8, \\\n",
        "              0.85, 0.9, 0.99, 1.0]\n",
        "\n",
        "# loop over all thresholds\n",
        "for thresh in thresholds:\n",
        "    # calculate predictions for a given threshold\n",
        "    temp_pred = [1 if x >= thresh else 0 for x in y_pred]\n",
        "    \n",
        "    # calculate tpr\n",
        "    temp_tpr = tpr(y_true, temp_pred)\n",
        "    \n",
        "    # calculate fpr\n",
        "    temp_fpr = fpr(y_true, temp_pred)\n",
        "    \n",
        "    # append tpr and fpr to lists\n",
        "    tpr_list.append(temp_tpr)\n",
        "    fpr_list.append(temp_fpr)"
      ],
      "execution_count": null,
      "outputs": []
    },
    {
      "cell_type": "code",
      "metadata": {
        "colab": {
          "base_uri": "https://localhost:8080/",
          "height": 464
        },
        "id": "cASjFLjfvg-q",
        "outputId": "f9155b04-b26d-470d-f991-645e6e117836"
      },
      "source": [
        "plt.figure(figsize=(7, 7))\n",
        "plt.fill_between(fpr_list, tpr_list, alpha=0.4)\n",
        "plt.plot(fpr_list, tpr_list, lw=3)\n",
        "plt.xlim(0, 1.0)\n",
        "plt.ylim(0, 1.0)\n",
        "plt.xlabel('FPR', fontsize=15)\n",
        "plt.ylabel('TPR', fontsize=15)\n",
        "plt.show()"
      ],
      "execution_count": null,
      "outputs": [
        {
          "output_type": "display_data",
          "data": {
            "image/png": "[encoded data removed]",
            "text/plain": [
              "<Figure size 504x504 with 1 Axes>"
            ]
          },
          "metadata": {
            "tags": []
          }
        }
      ]
    },
    {
      "cell_type": "markdown",
      "metadata": {
        "id": "vDTmwgqnwCez"
      },
      "source": [
        "This curve is also known as the Receiver Operating Characteristic (ROC). And if we calculate the area under this ROC curve, we are calculating another metric which is used very often when you have a dataset which has skewed binary targets.\n",
        "\n",
        "This metric is known as the **Area Under ROC Curve or Area Under Curve** or\n",
        "just simply **AUC**. There are many ways to calculate the area under the ROC curve. For this particular purpose, we will stick to the fantastic implementation by scikit-\n",
        "learn.\n",
        "\n"
      ]
    },
    {
      "cell_type": "code",
      "metadata": {
        "colab": {
          "base_uri": "https://localhost:8080/"
        },
        "id": "2PFLdkjtv9sk",
        "outputId": "2b6aa627-0d33-4440-fdd7-4ace24d05fb1"
      },
      "source": [
        "y_true = [0, 0, 0, 0, 1, 0, 1, 0, 0, 1, 0, 1, 0, 0, 1]\n",
        "y_pred = [0.1, 0.3, 0.2, 0.6, 0.8, 0.05, 0.9, 0.5, 0.3, \\\n",
        "          0.66, 0.3, 0.2, 0.85, 0.15, 0.99]\n",
        "metrics.roc_auc_score(y_true, y_pred)"
      ],
      "execution_count": null,
      "outputs": [
        {
          "output_type": "execute_result",
          "data": {
            "text/plain": [
              "0.8300000000000001"
            ]
          },
          "metadata": {
            "tags": []
          },
          "execution_count": 50
        }
      ]
    },
    {
      "cell_type": "markdown",
      "metadata": {
        "id": "eWJCw_ufwkks"
      },
      "source": [
        "AUC values range from 0 to 1.\n",
        "\n",
        "- **AUC = 1** implies you have a perfect model. Most of the time, it means that you made some mistake with validation and should revisit data processing and validation pipeline of yours. If you didn’t make any mistakes, then congratulations, you have the best model one can have for the dataset you\n",
        "built it on.\n",
        "\n",
        "- **AUC = 0** implies that your model is very bad (or very good!). Try inverting the probabilities for the predictions, for example, if your probability for the positive class is p, try substituting it with 1-p. This kind of AUC may also mean that there is some problem with your validation or data processing.\n",
        "\n",
        "- **AUC = 0.5** implies that your predictions are random. So, for any binary classification problem, if I predict all targets as 0.5, I will get an AUC of 0.5.\n",
        "\n",
        "\n",
        "AUC values between 0 and 0.5 imply that your model is worse than random. Most\n",
        "of the time, it’s because you inverted the classes. If you try to invert your\n",
        "predictions, your AUC might become more than 0.5. AUC values closer to 1 are\n",
        "considered good.\n"
      ]
    },
    {
      "cell_type": "code",
      "metadata": {
        "id": "1dWD5X82wg1y"
      },
      "source": [
        ""
      ],
      "execution_count": null,
      "outputs": []
    },
    {
      "cell_type": "code",
      "metadata": {
        "id": "UgJN8mK4nPaJ"
      },
      "source": [
        ""
      ],
      "execution_count": null,
      "outputs": []
    },
    {
      "cell_type": "code",
      "metadata": {
        "id": "xcEzcpiIo063"
      },
      "source": [
        ""
      ],
      "execution_count": null,
      "outputs": []
    },
    {
      "cell_type": "markdown",
      "metadata": {
        "id": "EE9MwrLevHKO"
      },
      "source": [
        "**Confusion Matrix**\n",
        "\n",
        "Confusion matrix gives an easy way to calculate different metrics that we have discussed before. Scikit-learn offers an easy and straightforward way to generate a confusion matrix. "
      ]
    },
    {
      "cell_type": "code",
      "metadata": {
        "colab": {
          "base_uri": "https://localhost:8080/",
          "height": 371
        },
        "id": "cZyiYUiWvJ6l",
        "outputId": "969d2738-4271-4c1c-ae29-4da8c2397422"
      },
      "source": [
        "# some targets\n",
        "y_true = [0, 1, 2, 0, 1, 2, 0, 2, 2]\n",
        "\n",
        "#some predictions\n",
        "y_pred = [0, 2, 1, 0, 2, 1, 0, 0, 2]\n",
        "\n",
        "# get confusion matrix from sklearn\n",
        "cm = metrics.confusion_matrix(y_true, y_pred)\n",
        "\n",
        "# plot using matplotlib and seaborn\n",
        "plt.figure(figsize=(5, 5))\n",
        "cmap = sns.cubehelix_palette(50, hue=0.05, rot=0, light=0.9, dark=0,\n",
        "as_cmap=True)\n",
        "sns.set(font_scale=1.5)\n",
        "sns.heatmap(cm, annot=True, cmap=cmap, cbar=False)\n",
        "plt.ylabel('Actual Labels', fontsize=20)\n",
        "plt.xlabel('Predicted Labels', fontsize=20)"
      ],
      "execution_count": null,
      "outputs": [
        {
          "output_type": "execute_result",
          "data": {
            "text/plain": [
              "Text(0.5, 13.5, 'Predicted Labels')"
            ]
          },
          "metadata": {
            "tags": []
          },
          "execution_count": 51
        },
        {
          "output_type": "display_data",
          "data": {
            "image/png": "[encoded data removed]",
            "text/plain": [
              "<Figure size 360x360 with 1 Axes>"
            ]
          },
          "metadata": {
            "tags": []
          }
        }
      ]
    },
    {
      "cell_type": "markdown",
      "metadata": {
        "id": "S5MJ5konwkGG"
      },
      "source": [
        "We have tackled metrics for binary and multi-class classification. Then comes another type of classification problem called multi-label classification. \n",
        "\n",
        "In multi-label classification, each sample can have one or more\n",
        "classes associated with it. One simple example of this type of problem would be a task in which you are asked to predict different objects in a given image.\n",
        "\n",
        "The metrics for this type of classification problem are a bit different. Some suitable\n",
        "and most common metrics are:\n",
        "\n",
        "- Precision at k (P@k)\n",
        "- Average precision at k (AP@k)\n",
        "- Mean average precision at k (MAP@k)\n",
        "- Log loss\n",
        "\n"
      ]
    },
    {
      "cell_type": "code",
      "metadata": {
        "id": "9BQsDDbtvai3"
      },
      "source": [
        ""
      ],
      "execution_count": null,
      "outputs": []
    },
    {
      "cell_type": "code",
      "metadata": {
        "id": "UWxCd007xTx9"
      },
      "source": [
        ""
      ],
      "execution_count": null,
      "outputs": []
    },
    {
      "cell_type": "code",
      "metadata": {
        "id": "FGgI3tO9xT02"
      },
      "source": [
        ""
      ],
      "execution_count": null,
      "outputs": []
    },
    {
      "cell_type": "markdown",
      "metadata": {
        "id": "_8rLVRGVxVNT"
      },
      "source": [
        "The most common metric in regression is error. Error is simple and very easy to\n",
        "understand.\n",
        "\n",
        "        Error = True Value – Predicted Value\n",
        "\n",
        "**Absolute error** is just absolute of the above.\n",
        "\n",
        "        Absolute Error = Abs (True Value – Predicted Value)\n",
        "\n",
        "\n",
        "Then we have **mean absolute error (MAE)**. It’s just mean of all absolute errors.\n"
      ]
    },
    {
      "cell_type": "code",
      "metadata": {
        "id": "P_IRhgAXxT4h"
      },
      "source": [
        "def mean_absolute_error(y_true, y_pred):\n",
        "    \"\"\"\n",
        "    This function calculates mae\n",
        "    :param y_true: list of real numbers, true values\n",
        "    :param y_pred: list of real numbers, predicted values\n",
        "    :return: mean absolute error\n",
        "    \"\"\"\n",
        "    # initialize error at 0\n",
        "    error = 0\n",
        "    # loop over all samples in the true and predicted list\n",
        "    for yt, yp in zip(y_true, y_pred):\n",
        "        # calculate absolute error\n",
        "        # and add to error\n",
        "        error += np.abs(yt - yp)\n",
        "    # return mean error\n",
        "    return error / len(y_true)"
      ],
      "execution_count": null,
      "outputs": []
    },
    {
      "cell_type": "markdown",
      "metadata": {
        "id": "gbuzb2DXyBNh"
      },
      "source": [
        "Similarly, we have squared error and **mean squared error (MSE)**.\n",
        "\n",
        "        Squared Error = (True Value – Predicted Value)^2\n",
        "\n",
        "And mean **squared error (MSE)** can be implemented as follows.\n"
      ]
    },
    {
      "cell_type": "code",
      "metadata": {
        "id": "V1H8cdUwx-fx"
      },
      "source": [
        "def mean_squared_error(y_true, y_pred):\n",
        "    \"\"\"\n",
        "    This function calculates mse\n",
        "    :param y_true: list of real numbers, true values\n",
        "    :param y_pred: list of real numbers, predicted values\n",
        "    :return: mean squared error\n",
        "    \"\"\"\n",
        "    # initialize error at 0\n",
        "    error = 0\n",
        "    # loop over all samples in the true and predicted list\n",
        "    for yt, yp in zip(y_true, y_pred):\n",
        "        # calculate squared error\n",
        "        # and add to error\n",
        "        error += (yt - yp) ** 2\n",
        "    # return mean error\n",
        "    return error / len(y_true)"
      ],
      "execution_count": null,
      "outputs": []
    },
    {
      "cell_type": "markdown",
      "metadata": {
        "id": "jkQlaexey0Fy"
      },
      "source": [
        "**MSE** and **RMSE**(root mean squared error) are the most popular metrics used in evaluating regression models.\n",
        "\n",
        "        RMSE = SQRT ( MSE )\n",
        "\n",
        "Another type of error in same class is **squared logarithmic error**. Some people call it **SLE**, and when we take mean of this error across all samples, it is known as **MSLE (mean squared logarithmic error)** and implemented as follows."
      ]
    },
    {
      "cell_type": "code",
      "metadata": {
        "id": "rz7m69FAywBW"
      },
      "source": [
        "def mean_squared_log_error(y_true, y_pred):\n",
        "    \"\"\"\n",
        "    This function calculates msle\n",
        "    :param y_true: list of real numbers, true values\n",
        "    :param y_pred: list of real numbers, predicted values\n",
        "    :return: mean squared logarithmic error\n",
        "    \"\"\"\n",
        "    # initialize error at 0\n",
        "    error = 0\n",
        "    # loop over all samples in true and predicted list\n",
        "    for yt, yp in zip(y_true, y_pred):\n",
        "        # calculate squared log error\n",
        "        # and add to error\n",
        "        error += (np.log(1 + yt) - np.log(1 + yp)) ** 2\n",
        "    # return mean error\n",
        "    return error / len(y_true)"
      ],
      "execution_count": null,
      "outputs": []
    },
    {
      "cell_type": "markdown",
      "metadata": {
        "id": "KSAVFGpNzLBM"
      },
      "source": [
        "**Root mean squared logarithmic error** is just a square root of this. It is also known\n",
        "as **RMSLE**.\n",
        "\n",
        "Then we have the percentage error:\n",
        "\n",
        "        Percentage Error = ( ( True Value – Predicted Value ) / True Value ) * 100\n",
        "\n",
        "Same can be converted to mean percentage error for all samples.\n"
      ]
    },
    {
      "cell_type": "code",
      "metadata": {
        "id": "J-BEoBQJzJTh"
      },
      "source": [
        "def mean_percentage_error(y_true, y_pred):\n",
        "    \"\"\"\n",
        "    This function calculates mpe\n",
        "    :param y_true: list of real numbers, true values\n",
        "    :param y_pred: list of real numbers, predicted values\n",
        "    :return: mean percentage error\n",
        "    \"\"\"\n",
        "    # initialize error at 0\n",
        "    error = 0\n",
        "    # loop over all samples in true and predicted list\n",
        "    for yt, yp in zip(y_true, y_pred):\n",
        "        # calculate percentage error\n",
        "        # and add to error\n",
        "        error += (yt - yp) / yt\n",
        "    # return mean percentage error\n",
        "    return error / len(y_true)"
      ],
      "execution_count": null,
      "outputs": []
    },
    {
      "cell_type": "markdown",
      "metadata": {
        "id": "a6ivDjhl0NB2"
      },
      "source": [
        "And an absolute version of the same (and more common version) is known as **mean absolute percentage error or MAPE**"
      ]
    },
    {
      "cell_type": "code",
      "metadata": {
        "id": "i9pMC-yXzY4O"
      },
      "source": [
        "def mean_abs_percentage_error(y_true, y_pred):\n",
        "    \"\"\"\n",
        "    This function calculates MAPE\n",
        "    :param y_true: list of real numbers, true values\n",
        "    :param y_pred: list of real numbers, predicted values\n",
        "    :return: mean absolute percentage error\n",
        "    \"\"\"\n",
        "    # initialize error at 0\n",
        "    error = 0\n",
        "    # loop over all samples in true and predicted list\n",
        "    for yt, yp in zip(y_true, y_pred):\n",
        "        # calculate percentage error\n",
        "        # and add to error\n",
        "        error += np.abs(yt - yp) / yt\n",
        "    # return mean percentage error\n",
        "    return error / len(y_true)"
      ],
      "execution_count": null,
      "outputs": []
    },
    {
      "cell_type": "markdown",
      "metadata": {
        "id": "QHkbMV_50g_T"
      },
      "source": [
        "- The best thing about regression is that there are only a few most popular metrics that can be applied to almost every regression problem. \n",
        "\n",
        "- And it is much easier to understand when we compare it to classification metrics. Let’s talk about another regression metric known as **R2 (R-squared)**, also known as the **coefficient of determination**.\n",
        "\n",
        "![R SQUARE](https://4.bp.blogspot.com/-wG7IbjTfE6k/XGUvqm7TCVI/AAAAAAAAAZU/vpH1kuKTIooKTcVlnm1EVRCXLVZM9cPNgCLcBGAs/s1600/formula-MAE-MSE-RMSE-RSquared.JPG)"
      ]
    },
    {
      "cell_type": "code",
      "metadata": {
        "id": "YAnnBYoU0bL5"
      },
      "source": [
        "def r2(y_true, y_pred):\n",
        "    \"\"\"\n",
        "    This function calculates r-squared score\n",
        "    :param y_true: list of real numbers, true values\n",
        "    :param y_pred: list of real numbers, predicted values\n",
        "    :return: r2 score\n",
        "    \"\"\"\n",
        "    # calculate the mean value of true values\n",
        "    mean_true_value = np.mean(y_true)\n",
        "    # initialize numerator with 0\n",
        "    numerator = 0\n",
        "    # initialize denominator with 0\n",
        "    denominator = 0\n",
        "    # loop over all true and predicted values\n",
        "    for yt, yp in zip(y_true, y_pred):\n",
        "        # update numerator\n",
        "        numerator += (yt - yp) ** 2\n",
        "        # update denominator\n",
        "        denominator += (yt - mean_true_value) ** 2\n",
        "        # calculate the ratio\n",
        "        ratio = numerator / denominator\n",
        "    # return 1 - ratio\n",
        "    return 1 - ratio"
      ],
      "execution_count": null,
      "outputs": []
    },
    {
      "cell_type": "code",
      "metadata": {
        "id": "K4t2bJcD1akF"
      },
      "source": [
        ""
      ],
      "execution_count": null,
      "outputs": []
    },
    {
      "cell_type": "markdown",
      "metadata": {
        "id": "YstkzDqQCG49"
      },
      "source": [
        "## **Approaching categorical variables**"
      ]
    },
    {
      "cell_type": "markdown",
      "metadata": {
        "id": "jpYUNsX8CVKs"
      },
      "source": [
        "Categorical variables/features are any feature type can be classified into four major types\n",
        "\n",
        "- **Nominal variable**: \n",
        "\n",
        "Nominal variables are variables that have two or more categories which do not have any kind of order associated with them. For example, if gender is classified into two groups, i.e. male and female, it can be considered as a nominal variable.\n",
        "\n",
        "- **Ordinal variable**:\n",
        "\n",
        "Ordinal variables, on the other hand, have “levels” or categories with a particular order associated with them. For example, an ordinal categorical variable can  be a\n",
        "feature with three different levels: low, medium and high. Order is important.\n",
        "\n",
        "- **Cyclic variable**\n",
        "\n",
        "Cyclic variables are present in\n",
        "“cycles” for example, days in a week: Sunday, Monday, Tuesday, Wednesday,\n",
        "Thursday, Friday and Saturday. After Saturday, we have Sunday again. This is a\n",
        "cycle. Another example would be hours in a day if we consider them to be\n",
        "categories.\n",
        "\n",
        "- **Binary variable**\n",
        "\n",
        "As far as definitions are concerned, we can also categorize categorical variables as\n",
        "binary, i.e., a categorical variable with only two categories."
      ]
    },
    {
      "cell_type": "code",
      "metadata": {
        "colab": {
          "base_uri": "https://localhost:8080/"
        },
        "id": "dJgxGmKuCO19",
        "outputId": "5c6229f9-daad-4172-ffe5-8b67eb4803c3"
      },
      "source": [
        "# Loading the cat-in-the-dat-ii data\n",
        "!gdown --id 1GHopwY-WYx6zH39afYIsDcPxSBDl5uky --output cat_data_train.csv\n",
        "!gdown --id 1Xd9z1G0H-H3ERKId8NLxoa_rygLFToJR --output cat_data_test.csv"
      ],
      "execution_count": null,
      "outputs": [
        {
          "output_type": "stream",
          "text": [
            "Downloading...\n",
            "From: https://drive.google.com/uc?id=1GHopwY-WYx6zH39afYIsDcPxSBDl5uky\n",
            "To: /content/cat_data_train.csv\n",
            "85.3MB [00:00, 98.3MB/s]\n",
            "Downloading...\n",
            "From: https://drive.google.com/uc?id=1Xd9z1G0H-H3ERKId8NLxoa_rygLFToJR\n",
            "To: /content/cat_data_test.csv\n",
            "56.1MB [00:00, 91.3MB/s]\n"
          ],
          "name": "stdout"
        }
      ]
    },
    {
      "cell_type": "code",
      "metadata": {
        "colab": {
          "base_uri": "https://localhost:8080/",
          "height": 251
        },
        "id": "FlIl0mMdGqiY",
        "outputId": "5843ff91-b458-4aac-ac33-591cb924067f"
      },
      "source": [
        "df = pd.read_csv(\"cat_data_train.csv\")\n",
        "df.head()"
      ],
      "execution_count": null,
      "outputs": [
        {
          "output_type": "execute_result",
          "data": {
            "text/html": [
              "<div>\n",
              "<style scoped>\n",
              "    .dataframe tbody tr th:only-of-type {\n",
              "        vertical-align: middle;\n",
              "    }\n",
              "\n",
              "    .dataframe tbody tr th {\n",
              "        vertical-align: top;\n",
              "    }\n",
              "\n",
              "    .dataframe thead th {\n",
              "        text-align: right;\n",
              "    }\n",
              "</style>\n",
              "<table border=\"1\" class=\"dataframe\">\n",
              "  <thead>\n",
              "    <tr style=\"text-align: right;\">\n",
              "      <th></th>\n",
              "      <th>id</th>\n",
              "      <th>bin_0</th>\n",
              "      <th>bin_1</th>\n",
              "      <th>bin_2</th>\n",
              "      <th>bin_3</th>\n",
              "      <th>bin_4</th>\n",
              "      <th>nom_0</th>\n",
              "      <th>nom_1</th>\n",
              "      <th>nom_2</th>\n",
              "      <th>nom_3</th>\n",
              "      <th>nom_4</th>\n",
              "      <th>nom_5</th>\n",
              "      <th>nom_6</th>\n",
              "      <th>nom_7</th>\n",
              "      <th>nom_8</th>\n",
              "      <th>nom_9</th>\n",
              "      <th>ord_0</th>\n",
              "      <th>ord_1</th>\n",
              "      <th>ord_2</th>\n",
              "      <th>ord_3</th>\n",
              "      <th>ord_4</th>\n",
              "      <th>ord_5</th>\n",
              "      <th>day</th>\n",
              "      <th>month</th>\n",
              "      <th>target</th>\n",
              "    </tr>\n",
              "  </thead>\n",
              "  <tbody>\n",
              "    <tr>\n",
              "      <th>0</th>\n",
              "      <td>0</td>\n",
              "      <td>0.0</td>\n",
              "      <td>0.0</td>\n",
              "      <td>0.0</td>\n",
              "      <td>F</td>\n",
              "      <td>N</td>\n",
              "      <td>Red</td>\n",
              "      <td>Trapezoid</td>\n",
              "      <td>Hamster</td>\n",
              "      <td>Russia</td>\n",
              "      <td>Bassoon</td>\n",
              "      <td>de4c57ee2</td>\n",
              "      <td>a64bc7ddf</td>\n",
              "      <td>598080a91</td>\n",
              "      <td>0256c7a4b</td>\n",
              "      <td>02e7c8990</td>\n",
              "      <td>3.0</td>\n",
              "      <td>Contributor</td>\n",
              "      <td>Hot</td>\n",
              "      <td>c</td>\n",
              "      <td>U</td>\n",
              "      <td>Pw</td>\n",
              "      <td>6.0</td>\n",
              "      <td>3.0</td>\n",
              "      <td>0</td>\n",
              "    </tr>\n",
              "    <tr>\n",
              "      <th>1</th>\n",
              "      <td>1</td>\n",
              "      <td>1.0</td>\n",
              "      <td>1.0</td>\n",
              "      <td>0.0</td>\n",
              "      <td>F</td>\n",
              "      <td>Y</td>\n",
              "      <td>Red</td>\n",
              "      <td>Star</td>\n",
              "      <td>Axolotl</td>\n",
              "      <td>NaN</td>\n",
              "      <td>Theremin</td>\n",
              "      <td>2bb3c3e5c</td>\n",
              "      <td>3a3a936e8</td>\n",
              "      <td>1dddb8473</td>\n",
              "      <td>52ead350c</td>\n",
              "      <td>f37df64af</td>\n",
              "      <td>3.0</td>\n",
              "      <td>Grandmaster</td>\n",
              "      <td>Warm</td>\n",
              "      <td>e</td>\n",
              "      <td>X</td>\n",
              "      <td>pE</td>\n",
              "      <td>7.0</td>\n",
              "      <td>7.0</td>\n",
              "      <td>0</td>\n",
              "    </tr>\n",
              "    <tr>\n",
              "      <th>2</th>\n",
              "      <td>2</td>\n",
              "      <td>0.0</td>\n",
              "      <td>1.0</td>\n",
              "      <td>0.0</td>\n",
              "      <td>F</td>\n",
              "      <td>N</td>\n",
              "      <td>Red</td>\n",
              "      <td>NaN</td>\n",
              "      <td>Hamster</td>\n",
              "      <td>Canada</td>\n",
              "      <td>Bassoon</td>\n",
              "      <td>b574c9841</td>\n",
              "      <td>708248125</td>\n",
              "      <td>5ddc9a726</td>\n",
              "      <td>745b909d1</td>\n",
              "      <td>NaN</td>\n",
              "      <td>3.0</td>\n",
              "      <td>NaN</td>\n",
              "      <td>Freezing</td>\n",
              "      <td>n</td>\n",
              "      <td>P</td>\n",
              "      <td>eN</td>\n",
              "      <td>5.0</td>\n",
              "      <td>9.0</td>\n",
              "      <td>0</td>\n",
              "    </tr>\n",
              "    <tr>\n",
              "      <th>3</th>\n",
              "      <td>3</td>\n",
              "      <td>NaN</td>\n",
              "      <td>0.0</td>\n",
              "      <td>0.0</td>\n",
              "      <td>F</td>\n",
              "      <td>N</td>\n",
              "      <td>Red</td>\n",
              "      <td>Circle</td>\n",
              "      <td>Hamster</td>\n",
              "      <td>Finland</td>\n",
              "      <td>Theremin</td>\n",
              "      <td>673bdf1f6</td>\n",
              "      <td>23edb8da3</td>\n",
              "      <td>3a33ef960</td>\n",
              "      <td>bdaa56dd1</td>\n",
              "      <td>f9d456e57</td>\n",
              "      <td>1.0</td>\n",
              "      <td>Novice</td>\n",
              "      <td>Lava Hot</td>\n",
              "      <td>a</td>\n",
              "      <td>C</td>\n",
              "      <td>NaN</td>\n",
              "      <td>3.0</td>\n",
              "      <td>3.0</td>\n",
              "      <td>0</td>\n",
              "    </tr>\n",
              "    <tr>\n",
              "      <th>4</th>\n",
              "      <td>4</td>\n",
              "      <td>0.0</td>\n",
              "      <td>NaN</td>\n",
              "      <td>0.0</td>\n",
              "      <td>T</td>\n",
              "      <td>N</td>\n",
              "      <td>Red</td>\n",
              "      <td>Triangle</td>\n",
              "      <td>Hamster</td>\n",
              "      <td>Costa Rica</td>\n",
              "      <td>NaN</td>\n",
              "      <td>777d1ac2c</td>\n",
              "      <td>3a7975e46</td>\n",
              "      <td>bc9cc2a94</td>\n",
              "      <td>NaN</td>\n",
              "      <td>c5361037c</td>\n",
              "      <td>3.0</td>\n",
              "      <td>Grandmaster</td>\n",
              "      <td>Cold</td>\n",
              "      <td>h</td>\n",
              "      <td>C</td>\n",
              "      <td>OZ</td>\n",
              "      <td>5.0</td>\n",
              "      <td>12.0</td>\n",
              "      <td>0</td>\n",
              "    </tr>\n",
              "  </tbody>\n",
              "</table>\n",
              "</div>"
            ],
            "text/plain": [
              "   id  bin_0  bin_1  bin_2 bin_3 bin_4  ... ord_3 ord_4 ord_5  day month target\n",
              "0   0    0.0    0.0    0.0     F     N  ...     c     U    Pw  6.0   3.0      0\n",
              "1   1    1.0    1.0    0.0     F     Y  ...     e     X    pE  7.0   7.0      0\n",
              "2   2    0.0    1.0    0.0     F     N  ...     n     P    eN  5.0   9.0      0\n",
              "3   3    NaN    0.0    0.0     F     N  ...     a     C   NaN  3.0   3.0      0\n",
              "4   4    0.0    NaN    0.0     T     N  ...     h     C    OZ  5.0  12.0      0\n",
              "\n",
              "[5 rows x 25 columns]"
            ]
          },
          "metadata": {
            "tags": []
          },
          "execution_count": 59
        }
      ]
    },
    {
      "cell_type": "code",
      "metadata": {
        "colab": {
          "base_uri": "https://localhost:8080/"
        },
        "id": "txm60c3yHF-s",
        "outputId": "50be57f2-22dc-4011-8099-66013db90300"
      },
      "source": [
        "df.ord_2.value_counts()"
      ],
      "execution_count": null,
      "outputs": [
        {
          "output_type": "execute_result",
          "data": {
            "text/plain": [
              "Freezing       142726\n",
              "Warm           124239\n",
              "Cold            97822\n",
              "Boiling Hot     84790\n",
              "Hot             67508\n",
              "Lava Hot        64840\n",
              "Name: ord_2, dtype: int64"
            ]
          },
          "metadata": {
            "tags": []
          },
          "execution_count": 60
        }
      ]
    },
    {
      "cell_type": "code",
      "metadata": {
        "colab": {
          "base_uri": "https://localhost:8080/"
        },
        "id": "Wf1vsxM8HTzz",
        "outputId": "6b8e9472-5e95-499b-f140-d93e239948ad"
      },
      "source": [
        "mapping = {\"Freezing\": 0, \"Warm\": 1,  \"Cold\": 2, \"Boiling Hot\": 3, \"Hot\": 4, \"Lava Hot\": 5}\n",
        "dt_1 = pd.read_csv(\"cat_data_train.csv\")\n",
        "dt_1.loc[:, \"ord_2\"] = dt_1.ord_2.map(mapping)\n",
        "dt_1.ord_2.value_counts()"
      ],
      "execution_count": null,
      "outputs": [
        {
          "output_type": "execute_result",
          "data": {
            "text/plain": [
              "0.0    142726\n",
              "1.0    124239\n",
              "2.0     97822\n",
              "3.0     84790\n",
              "4.0     67508\n",
              "5.0     64840\n",
              "Name: ord_2, dtype: int64"
            ]
          },
          "metadata": {
            "tags": []
          },
          "execution_count": 61
        }
      ]
    },
    {
      "cell_type": "markdown",
      "metadata": {
        "id": "JG6mPajpIHbP"
      },
      "source": [
        "This type of encoding of categorical variables is known as **Label Encoding**, i.e., we are encoding every category as a numerical label.\n",
        "\n",
        "We can do the same by using LabelEncoder from scikit-learn\n"
      ]
    },
    {
      "cell_type": "code",
      "metadata": {
        "id": "uYhoJsCsHfih"
      },
      "source": [
        "from sklearn import preprocessing\n",
        "\n",
        "# read the data\n",
        "dt = pd.read_csv(\"cat_data_train.csv\")\n",
        "\n",
        "# fill NaN values in ord_2 column\n",
        "dt.loc[:, \"ord_2\"] = dt.ord_2.fillna(\"NONE\")\n",
        "\n",
        "# initialize LabelEncoder\n",
        "lbl_enc = preprocessing.LabelEncoder()\n",
        "\n",
        "# fit label encoder and transform values on ord_2 column\n",
        "# P.S: do not use this directly. fit first, then transform\n",
        "dt.loc[:, \"ord_2\"] = lbl_enc.fit_transform(dt.ord_2.values)"
      ],
      "execution_count": null,
      "outputs": []
    },
    {
      "cell_type": "markdown",
      "metadata": {
        "id": "Gvg94vuCJvh4"
      },
      "source": [
        "We can use fillna from pandas. The reason is LabelEncoder from scikit-\n",
        "learn does not handle NaN values, and ord_2 column has NaN values in it.\n",
        "\n",
        "We can use this directly in many tree-based models:\n",
        "- Decision trees\n",
        "- Random forest\n",
        "- Extra Trees\n",
        "- Or any kind of boosted trees model\n",
        "    - XGBoost\n",
        "    - GBM\n",
        "    - LightGBM\n",
        "\n",
        "This type of encoding cannot be used in linear models, support vector machines or\n",
        "neural networks as they expect data to be normalized (or standardized).\n",
        "\n",
        "For these types of models, we can binarize the data.\n",
        "\n",
        "The difference in size becomes vast when we have much larger arrays, let’s say with thousands of samples and tens of thousands of features. For example, a text dataset where we are using count-based features."
      ]
    },
    {
      "cell_type": "code",
      "metadata": {
        "colab": {
          "base_uri": "https://localhost:8080/"
        },
        "id": "T33ZHyR-IVYp",
        "outputId": "96bf6de5-47b4-43e3-c860-041511f132ac"
      },
      "source": [
        "from scipy import sparse\n",
        "\n",
        "# number of rows\n",
        "n_rows = 10000\n",
        "\n",
        "# number of columns\n",
        "n_cols = 100000\n",
        "\n",
        "# create random binary matrix with only 5% values as 1s\n",
        "example = np.random.binomial(1, p=0.05, size=(n_rows, n_cols))\n",
        "\n",
        "# print size in bytes\n",
        "print(f\"Size of dense array: {example.nbytes}\")\n",
        "\n",
        "# convert numpy array to sparse CSR matrix\n",
        "sparse_example = sparse.csr_matrix(example)\n",
        "\n",
        "# print size of this sparse matrix\n",
        "print(f\"Size of sparse array: {sparse_example.data.nbytes}\")\n",
        "full_size = (\n",
        "sparse_example.data.nbytes +\n",
        "sparse_example.indptr.nbytes +\n",
        "sparse_example.indices.nbytes\n",
        ")\n",
        "\n",
        "# print full size of this sparse matrix\n",
        "print(f\"Full size of sparse array: {full_size}\")"
      ],
      "execution_count": null,
      "outputs": [
        {
          "output_type": "stream",
          "text": [
            "Size of dense array: 8000000000\n",
            "Size of sparse array: 399992768\n",
            "Full size of sparse array: 600029156\n"
          ],
          "name": "stdout"
        }
      ]
    },
    {
      "cell_type": "markdown",
      "metadata": {
        "id": "3HNUhGtfMbiy"
      },
      "source": [
        "So, dense array takes ~8000MB or approximately 8GB of memory. The sparse\n",
        "array, on the other hand, takes only 399MB of memory.\n",
        "\n",
        "And, that’s the reason we should prefer sparse arrays over dense whenever we have a lot of zeros in our features.\n"
      ]
    },
    {
      "cell_type": "markdown",
      "metadata": {
        "id": "RM6tsaPbMs3y"
      },
      "source": [
        "Even though the sparse representation of binarized features takes much less\n",
        "memory than its dense representation, there is another transformation for\n",
        "categorical variables that takes even less memory. This is known as **One Hot Encoding**\n",
        "\n",
        "**One hot encoding** is a binary encoding too in the sense that there are only two values, 0s and 1s. However, it must be noted that it’s not a binary representation. "
      ]
    },
    {
      "cell_type": "code",
      "metadata": {
        "colab": {
          "base_uri": "https://localhost:8080/"
        },
        "id": "xVXBWZmYMRV2",
        "outputId": "245ca0be-2b81-409b-d00b-bf9756b40df4"
      },
      "source": [
        "from sklearn import preprocessing\n",
        "\n",
        "# create random 1-d array with 1001 different categories (int)\n",
        "example = np.random.randint(1000, size=1000000)\n",
        "\n",
        "# initialize OneHotEncoder from scikit-learn\n",
        "# keep sparse = False to get dense array\n",
        "ohe = preprocessing.OneHotEncoder(sparse=False)\n",
        "\n",
        "# fit and transform data with dense one hot encoder\n",
        "ohe_example = ohe.fit_transform(example.reshape(-1, 1))\n",
        "\n",
        "# print size in bytes for dense array\n",
        "print(f\"Size of dense array: {ohe_example.nbytes}\")\n",
        "\n",
        "# initialize OneHotEncoder from scikit-learn\n",
        "# keep sparse = True to get sparse array\n",
        "ohe = preprocessing.OneHotEncoder(sparse=True)\n",
        "\n",
        "# fit and transform data with sparse one-hot encoder\n",
        "ohe_example = ohe.fit_transform(example.reshape(-1, 1))\n",
        "\n",
        "# print size of this sparse matrix\n",
        "print(f\"Size of sparse array: {ohe_example.data.nbytes}\")\n",
        "full_size = (\n",
        "ohe_example.data.nbytes +\n",
        "ohe_example.indptr.nbytes + ohe_example.indices.nbytes\n",
        ")\n",
        "\n",
        "# print full size of this sparse matrix\n",
        "print(f\"Full size of sparse array: {full_size}\")"
      ],
      "execution_count": null,
      "outputs": [
        {
          "output_type": "stream",
          "text": [
            "Size of dense array: 8000000000\n",
            "Size of sparse array: 8000000\n",
            "Full size of sparse array: 16000004\n"
          ],
          "name": "stdout"
        }
      ]
    },
    {
      "cell_type": "markdown",
      "metadata": {
        "id": "ZUrvlbPNPyyc"
      },
      "source": [
        "These three methods are the most important ways to handle categorical variables.There are, however, many other different methods you can use to handle categorical variables. An example of one such method is about converting categorical variables to numerical variables.\n",
        "\n",
        "Suppose we go back to the categorical features dataframe (original cat-in-the-dat-ii) that we had. How many ids do we have in the dataframe where the value of ord_2 is Boiling Hot ?\n",
        "\n",
        "We can easily calculate this value by calculating the shape of the dataframe where ord_2 column has the value Boiling Hot.\n",
        "\n"
      ]
    },
    {
      "cell_type": "code",
      "metadata": {
        "colab": {
          "base_uri": "https://localhost:8080/",
          "height": 251
        },
        "id": "VvCifoSMUdkF",
        "outputId": "2adcb662-6426-4a72-ae52-840760ee50ae"
      },
      "source": [
        "df.head()"
      ],
      "execution_count": null,
      "outputs": [
        {
          "output_type": "execute_result",
          "data": {
            "text/html": [
              "<div>\n",
              "<style scoped>\n",
              "    .dataframe tbody tr th:only-of-type {\n",
              "        vertical-align: middle;\n",
              "    }\n",
              "\n",
              "    .dataframe tbody tr th {\n",
              "        vertical-align: top;\n",
              "    }\n",
              "\n",
              "    .dataframe thead th {\n",
              "        text-align: right;\n",
              "    }\n",
              "</style>\n",
              "<table border=\"1\" class=\"dataframe\">\n",
              "  <thead>\n",
              "    <tr style=\"text-align: right;\">\n",
              "      <th></th>\n",
              "      <th>id</th>\n",
              "      <th>bin_0</th>\n",
              "      <th>bin_1</th>\n",
              "      <th>bin_2</th>\n",
              "      <th>bin_3</th>\n",
              "      <th>bin_4</th>\n",
              "      <th>nom_0</th>\n",
              "      <th>nom_1</th>\n",
              "      <th>nom_2</th>\n",
              "      <th>nom_3</th>\n",
              "      <th>nom_4</th>\n",
              "      <th>nom_5</th>\n",
              "      <th>nom_6</th>\n",
              "      <th>nom_7</th>\n",
              "      <th>nom_8</th>\n",
              "      <th>nom_9</th>\n",
              "      <th>ord_0</th>\n",
              "      <th>ord_1</th>\n",
              "      <th>ord_2</th>\n",
              "      <th>ord_3</th>\n",
              "      <th>ord_4</th>\n",
              "      <th>ord_5</th>\n",
              "      <th>day</th>\n",
              "      <th>month</th>\n",
              "      <th>target</th>\n",
              "    </tr>\n",
              "  </thead>\n",
              "  <tbody>\n",
              "    <tr>\n",
              "      <th>0</th>\n",
              "      <td>0</td>\n",
              "      <td>0.0</td>\n",
              "      <td>0.0</td>\n",
              "      <td>0.0</td>\n",
              "      <td>F</td>\n",
              "      <td>N</td>\n",
              "      <td>Red</td>\n",
              "      <td>Trapezoid</td>\n",
              "      <td>Hamster</td>\n",
              "      <td>Russia</td>\n",
              "      <td>Bassoon</td>\n",
              "      <td>de4c57ee2</td>\n",
              "      <td>a64bc7ddf</td>\n",
              "      <td>598080a91</td>\n",
              "      <td>0256c7a4b</td>\n",
              "      <td>02e7c8990</td>\n",
              "      <td>3.0</td>\n",
              "      <td>Contributor</td>\n",
              "      <td>Hot</td>\n",
              "      <td>c</td>\n",
              "      <td>U</td>\n",
              "      <td>Pw</td>\n",
              "      <td>6.0</td>\n",
              "      <td>3.0</td>\n",
              "      <td>0</td>\n",
              "    </tr>\n",
              "    <tr>\n",
              "      <th>1</th>\n",
              "      <td>1</td>\n",
              "      <td>1.0</td>\n",
              "      <td>1.0</td>\n",
              "      <td>0.0</td>\n",
              "      <td>F</td>\n",
              "      <td>Y</td>\n",
              "      <td>Red</td>\n",
              "      <td>Star</td>\n",
              "      <td>Axolotl</td>\n",
              "      <td>NaN</td>\n",
              "      <td>Theremin</td>\n",
              "      <td>2bb3c3e5c</td>\n",
              "      <td>3a3a936e8</td>\n",
              "      <td>1dddb8473</td>\n",
              "      <td>52ead350c</td>\n",
              "      <td>f37df64af</td>\n",
              "      <td>3.0</td>\n",
              "      <td>Grandmaster</td>\n",
              "      <td>Warm</td>\n",
              "      <td>e</td>\n",
              "      <td>X</td>\n",
              "      <td>pE</td>\n",
              "      <td>7.0</td>\n",
              "      <td>7.0</td>\n",
              "      <td>0</td>\n",
              "    </tr>\n",
              "    <tr>\n",
              "      <th>2</th>\n",
              "      <td>2</td>\n",
              "      <td>0.0</td>\n",
              "      <td>1.0</td>\n",
              "      <td>0.0</td>\n",
              "      <td>F</td>\n",
              "      <td>N</td>\n",
              "      <td>Red</td>\n",
              "      <td>NaN</td>\n",
              "      <td>Hamster</td>\n",
              "      <td>Canada</td>\n",
              "      <td>Bassoon</td>\n",
              "      <td>b574c9841</td>\n",
              "      <td>708248125</td>\n",
              "      <td>5ddc9a726</td>\n",
              "      <td>745b909d1</td>\n",
              "      <td>NaN</td>\n",
              "      <td>3.0</td>\n",
              "      <td>NaN</td>\n",
              "      <td>Freezing</td>\n",
              "      <td>n</td>\n",
              "      <td>P</td>\n",
              "      <td>eN</td>\n",
              "      <td>5.0</td>\n",
              "      <td>9.0</td>\n",
              "      <td>0</td>\n",
              "    </tr>\n",
              "    <tr>\n",
              "      <th>3</th>\n",
              "      <td>3</td>\n",
              "      <td>NaN</td>\n",
              "      <td>0.0</td>\n",
              "      <td>0.0</td>\n",
              "      <td>F</td>\n",
              "      <td>N</td>\n",
              "      <td>Red</td>\n",
              "      <td>Circle</td>\n",
              "      <td>Hamster</td>\n",
              "      <td>Finland</td>\n",
              "      <td>Theremin</td>\n",
              "      <td>673bdf1f6</td>\n",
              "      <td>23edb8da3</td>\n",
              "      <td>3a33ef960</td>\n",
              "      <td>bdaa56dd1</td>\n",
              "      <td>f9d456e57</td>\n",
              "      <td>1.0</td>\n",
              "      <td>Novice</td>\n",
              "      <td>Lava Hot</td>\n",
              "      <td>a</td>\n",
              "      <td>C</td>\n",
              "      <td>NaN</td>\n",
              "      <td>3.0</td>\n",
              "      <td>3.0</td>\n",
              "      <td>0</td>\n",
              "    </tr>\n",
              "    <tr>\n",
              "      <th>4</th>\n",
              "      <td>4</td>\n",
              "      <td>0.0</td>\n",
              "      <td>NaN</td>\n",
              "      <td>0.0</td>\n",
              "      <td>T</td>\n",
              "      <td>N</td>\n",
              "      <td>Red</td>\n",
              "      <td>Triangle</td>\n",
              "      <td>Hamster</td>\n",
              "      <td>Costa Rica</td>\n",
              "      <td>NaN</td>\n",
              "      <td>777d1ac2c</td>\n",
              "      <td>3a7975e46</td>\n",
              "      <td>bc9cc2a94</td>\n",
              "      <td>NaN</td>\n",
              "      <td>c5361037c</td>\n",
              "      <td>3.0</td>\n",
              "      <td>Grandmaster</td>\n",
              "      <td>Cold</td>\n",
              "      <td>h</td>\n",
              "      <td>C</td>\n",
              "      <td>OZ</td>\n",
              "      <td>5.0</td>\n",
              "      <td>12.0</td>\n",
              "      <td>0</td>\n",
              "    </tr>\n",
              "  </tbody>\n",
              "</table>\n",
              "</div>"
            ],
            "text/plain": [
              "   id  bin_0  bin_1  bin_2 bin_3 bin_4  ... ord_3 ord_4 ord_5  day month target\n",
              "0   0    0.0    0.0    0.0     F     N  ...     c     U    Pw  6.0   3.0      0\n",
              "1   1    1.0    1.0    0.0     F     Y  ...     e     X    pE  7.0   7.0      0\n",
              "2   2    0.0    1.0    0.0     F     N  ...     n     P    eN  5.0   9.0      0\n",
              "3   3    NaN    0.0    0.0     F     N  ...     a     C   NaN  3.0   3.0      0\n",
              "4   4    0.0    NaN    0.0     T     N  ...     h     C    OZ  5.0  12.0      0\n",
              "\n",
              "[5 rows x 25 columns]"
            ]
          },
          "metadata": {
            "tags": []
          },
          "execution_count": 65
        }
      ]
    },
    {
      "cell_type": "code",
      "metadata": {
        "colab": {
          "base_uri": "https://localhost:8080/"
        },
        "id": "gVQPZcCiOCjD",
        "outputId": "4f3aa0ed-f94a-43d3-87e1-8f0c1de565f1"
      },
      "source": [
        "df[df.ord_2 == \"Boiling Hot\"].shape"
      ],
      "execution_count": null,
      "outputs": [
        {
          "output_type": "execute_result",
          "data": {
            "text/plain": [
              "(84790, 25)"
            ]
          },
          "metadata": {
            "tags": []
          },
          "execution_count": 66
        }
      ]
    },
    {
      "cell_type": "markdown",
      "metadata": {
        "id": "6gGPyVrCRNZ0"
      },
      "source": [
        "We see that there are 84790 rows with this value. We can also calculate this value for all the categories using groupby in pandas"
      ]
    },
    {
      "cell_type": "code",
      "metadata": {
        "colab": {
          "base_uri": "https://localhost:8080/"
        },
        "id": "WIBW-OvJOFdX",
        "outputId": "cb2666d7-d97a-4dc0-81fb-e46e160996fa"
      },
      "source": [
        "df.groupby([\"ord_2\"])[\"id\"].count()"
      ],
      "execution_count": null,
      "outputs": [
        {
          "output_type": "execute_result",
          "data": {
            "text/plain": [
              "ord_2\n",
              "Boiling Hot     84790\n",
              "Cold            97822\n",
              "Freezing       142726\n",
              "Hot             67508\n",
              "Lava Hot        64840\n",
              "Warm           124239\n",
              "Name: id, dtype: int64"
            ]
          },
          "metadata": {
            "tags": []
          },
          "execution_count": 67
        }
      ]
    },
    {
      "cell_type": "markdown",
      "metadata": {
        "id": "ZM29gWgvS-Wr"
      },
      "source": [
        "We can add counts of all the features or can also replace them or maybe group by multiple columns and their counts. For example, the following code counts by grouping on ord_1 and ord_2 columns.\n"
      ]
    },
    {
      "cell_type": "code",
      "metadata": {
        "colab": {
          "base_uri": "https://localhost:8080/",
          "height": 947
        },
        "id": "qhzSqVarQ8iz",
        "outputId": "ad512ae3-93e4-49cd-e787-3919f27361d0"
      },
      "source": [
        "df.groupby([\"ord_1\", \"ord_2\"])[\"id\"].count().reset_index(name=\"count\")"
      ],
      "execution_count": null,
      "outputs": [
        {
          "output_type": "execute_result",
          "data": {
            "text/html": [
              "<div>\n",
              "<style scoped>\n",
              "    .dataframe tbody tr th:only-of-type {\n",
              "        vertical-align: middle;\n",
              "    }\n",
              "\n",
              "    .dataframe tbody tr th {\n",
              "        vertical-align: top;\n",
              "    }\n",
              "\n",
              "    .dataframe thead th {\n",
              "        text-align: right;\n",
              "    }\n",
              "</style>\n",
              "<table border=\"1\" class=\"dataframe\">\n",
              "  <thead>\n",
              "    <tr style=\"text-align: right;\">\n",
              "      <th></th>\n",
              "      <th>ord_1</th>\n",
              "      <th>ord_2</th>\n",
              "      <th>count</th>\n",
              "    </tr>\n",
              "  </thead>\n",
              "  <tbody>\n",
              "    <tr>\n",
              "      <th>0</th>\n",
              "      <td>Contributor</td>\n",
              "      <td>Boiling Hot</td>\n",
              "      <td>15634</td>\n",
              "    </tr>\n",
              "    <tr>\n",
              "      <th>1</th>\n",
              "      <td>Contributor</td>\n",
              "      <td>Cold</td>\n",
              "      <td>17734</td>\n",
              "    </tr>\n",
              "    <tr>\n",
              "      <th>2</th>\n",
              "      <td>Contributor</td>\n",
              "      <td>Freezing</td>\n",
              "      <td>26082</td>\n",
              "    </tr>\n",
              "    <tr>\n",
              "      <th>3</th>\n",
              "      <td>Contributor</td>\n",
              "      <td>Hot</td>\n",
              "      <td>12428</td>\n",
              "    </tr>\n",
              "    <tr>\n",
              "      <th>4</th>\n",
              "      <td>Contributor</td>\n",
              "      <td>Lava Hot</td>\n",
              "      <td>11919</td>\n",
              "    </tr>\n",
              "    <tr>\n",
              "      <th>5</th>\n",
              "      <td>Contributor</td>\n",
              "      <td>Warm</td>\n",
              "      <td>22774</td>\n",
              "    </tr>\n",
              "    <tr>\n",
              "      <th>6</th>\n",
              "      <td>Expert</td>\n",
              "      <td>Boiling Hot</td>\n",
              "      <td>19477</td>\n",
              "    </tr>\n",
              "    <tr>\n",
              "      <th>7</th>\n",
              "      <td>Expert</td>\n",
              "      <td>Cold</td>\n",
              "      <td>22956</td>\n",
              "    </tr>\n",
              "    <tr>\n",
              "      <th>8</th>\n",
              "      <td>Expert</td>\n",
              "      <td>Freezing</td>\n",
              "      <td>33249</td>\n",
              "    </tr>\n",
              "    <tr>\n",
              "      <th>9</th>\n",
              "      <td>Expert</td>\n",
              "      <td>Hot</td>\n",
              "      <td>15792</td>\n",
              "    </tr>\n",
              "    <tr>\n",
              "      <th>10</th>\n",
              "      <td>Expert</td>\n",
              "      <td>Lava Hot</td>\n",
              "      <td>15078</td>\n",
              "    </tr>\n",
              "    <tr>\n",
              "      <th>11</th>\n",
              "      <td>Expert</td>\n",
              "      <td>Warm</td>\n",
              "      <td>28900</td>\n",
              "    </tr>\n",
              "    <tr>\n",
              "      <th>12</th>\n",
              "      <td>Grandmaster</td>\n",
              "      <td>Boiling Hot</td>\n",
              "      <td>13623</td>\n",
              "    </tr>\n",
              "    <tr>\n",
              "      <th>13</th>\n",
              "      <td>Grandmaster</td>\n",
              "      <td>Cold</td>\n",
              "      <td>15464</td>\n",
              "    </tr>\n",
              "    <tr>\n",
              "      <th>14</th>\n",
              "      <td>Grandmaster</td>\n",
              "      <td>Freezing</td>\n",
              "      <td>22818</td>\n",
              "    </tr>\n",
              "    <tr>\n",
              "      <th>15</th>\n",
              "      <td>Grandmaster</td>\n",
              "      <td>Hot</td>\n",
              "      <td>10805</td>\n",
              "    </tr>\n",
              "    <tr>\n",
              "      <th>16</th>\n",
              "      <td>Grandmaster</td>\n",
              "      <td>Lava Hot</td>\n",
              "      <td>10363</td>\n",
              "    </tr>\n",
              "    <tr>\n",
              "      <th>17</th>\n",
              "      <td>Grandmaster</td>\n",
              "      <td>Warm</td>\n",
              "      <td>19899</td>\n",
              "    </tr>\n",
              "    <tr>\n",
              "      <th>18</th>\n",
              "      <td>Master</td>\n",
              "      <td>Boiling Hot</td>\n",
              "      <td>10800</td>\n",
              "    </tr>\n",
              "    <tr>\n",
              "      <th>19</th>\n",
              "      <td>Master</td>\n",
              "      <td>Cold</td>\n",
              "      <td>12364</td>\n",
              "    </tr>\n",
              "    <tr>\n",
              "      <th>20</th>\n",
              "      <td>Master</td>\n",
              "      <td>Freezing</td>\n",
              "      <td>18035</td>\n",
              "    </tr>\n",
              "    <tr>\n",
              "      <th>21</th>\n",
              "      <td>Master</td>\n",
              "      <td>Hot</td>\n",
              "      <td>8594</td>\n",
              "    </tr>\n",
              "    <tr>\n",
              "      <th>22</th>\n",
              "      <td>Master</td>\n",
              "      <td>Lava Hot</td>\n",
              "      <td>8209</td>\n",
              "    </tr>\n",
              "    <tr>\n",
              "      <th>23</th>\n",
              "      <td>Master</td>\n",
              "      <td>Warm</td>\n",
              "      <td>15734</td>\n",
              "    </tr>\n",
              "    <tr>\n",
              "      <th>24</th>\n",
              "      <td>Novice</td>\n",
              "      <td>Boiling Hot</td>\n",
              "      <td>22718</td>\n",
              "    </tr>\n",
              "    <tr>\n",
              "      <th>25</th>\n",
              "      <td>Novice</td>\n",
              "      <td>Cold</td>\n",
              "      <td>26271</td>\n",
              "    </tr>\n",
              "    <tr>\n",
              "      <th>26</th>\n",
              "      <td>Novice</td>\n",
              "      <td>Freezing</td>\n",
              "      <td>38233</td>\n",
              "    </tr>\n",
              "    <tr>\n",
              "      <th>27</th>\n",
              "      <td>Novice</td>\n",
              "      <td>Hot</td>\n",
              "      <td>17850</td>\n",
              "    </tr>\n",
              "    <tr>\n",
              "      <th>28</th>\n",
              "      <td>Novice</td>\n",
              "      <td>Lava Hot</td>\n",
              "      <td>17373</td>\n",
              "    </tr>\n",
              "    <tr>\n",
              "      <th>29</th>\n",
              "      <td>Novice</td>\n",
              "      <td>Warm</td>\n",
              "      <td>33263</td>\n",
              "    </tr>\n",
              "  </tbody>\n",
              "</table>\n",
              "</div>"
            ],
            "text/plain": [
              "          ord_1        ord_2  count\n",
              "0   Contributor  Boiling Hot  15634\n",
              "1   Contributor         Cold  17734\n",
              "2   Contributor     Freezing  26082\n",
              "3   Contributor          Hot  12428\n",
              "4   Contributor     Lava Hot  11919\n",
              "5   Contributor         Warm  22774\n",
              "6        Expert  Boiling Hot  19477\n",
              "7        Expert         Cold  22956\n",
              "8        Expert     Freezing  33249\n",
              "9        Expert          Hot  15792\n",
              "10       Expert     Lava Hot  15078\n",
              "11       Expert         Warm  28900\n",
              "12  Grandmaster  Boiling Hot  13623\n",
              "13  Grandmaster         Cold  15464\n",
              "14  Grandmaster     Freezing  22818\n",
              "15  Grandmaster          Hot  10805\n",
              "16  Grandmaster     Lava Hot  10363\n",
              "17  Grandmaster         Warm  19899\n",
              "18       Master  Boiling Hot  10800\n",
              "19       Master         Cold  12364\n",
              "20       Master     Freezing  18035\n",
              "21       Master          Hot   8594\n",
              "22       Master     Lava Hot   8209\n",
              "23       Master         Warm  15734\n",
              "24       Novice  Boiling Hot  22718\n",
              "25       Novice         Cold  26271\n",
              "26       Novice     Freezing  38233\n",
              "27       Novice          Hot  17850\n",
              "28       Novice     Lava Hot  17373\n",
              "29       Novice         Warm  33263"
            ]
          },
          "metadata": {
            "tags": []
          },
          "execution_count": 68
        }
      ]
    },
    {
      "cell_type": "markdown",
      "metadata": {
        "id": "n4X6ZlylT9Dz"
      },
      "source": [
        "One more trick is to create new features from these categorical variables. We can create new categorical features from existing features, and this can be done in an effortless manner.\n"
      ]
    },
    {
      "cell_type": "code",
      "metadata": {
        "colab": {
          "base_uri": "https://localhost:8080/"
        },
        "id": "lXplxfvhTLK4",
        "outputId": "54594b4d-de3b-4d2a-df1e-4db4da108052"
      },
      "source": [
        "df[\"new_feature\"] = (df.ord_1.astype(str) + \"_\" + df.ord_2.astype(str))\n",
        "df.new_feature"
      ],
      "execution_count": null,
      "outputs": [
        {
          "output_type": "execute_result",
          "data": {
            "text/plain": [
              "0                 Contributor_Hot\n",
              "1                Grandmaster_Warm\n",
              "2                    nan_Freezing\n",
              "3                 Novice_Lava Hot\n",
              "4                Grandmaster_Cold\n",
              "                   ...           \n",
              "599995            Novice_Freezing\n",
              "599996         Novice_Boiling Hot\n",
              "599997       Contributor_Freezing\n",
              "599998                Master_Warm\n",
              "599999    Contributor_Boiling Hot\n",
              "Name: new_feature, Length: 600000, dtype: object"
            ]
          },
          "metadata": {
            "tags": []
          },
          "execution_count": 69
        }
      ]
    },
    {
      "cell_type": "code",
      "metadata": {
        "colab": {
          "base_uri": "https://localhost:8080/"
        },
        "id": "utn3sf2Ai6qM",
        "outputId": "f31b9ddd-6ace-4253-d2c3-b64efc30b91c"
      },
      "source": [
        "df.new_feature.value_counts()"
      ],
      "execution_count": null,
      "outputs": [
        {
          "output_type": "execute_result",
          "data": {
            "text/plain": [
              "Novice_Freezing            38233\n",
              "Novice_Warm                33263\n",
              "Expert_Freezing            33249\n",
              "Expert_Warm                28900\n",
              "Novice_Cold                26271\n",
              "Contributor_Freezing       26082\n",
              "Expert_Cold                22956\n",
              "Grandmaster_Freezing       22818\n",
              "Contributor_Warm           22774\n",
              "Novice_Boiling Hot         22718\n",
              "Grandmaster_Warm           19899\n",
              "Expert_Boiling Hot         19477\n",
              "Master_Freezing            18035\n",
              "Novice_Hot                 17850\n",
              "Contributor_Cold           17734\n",
              "Novice_Lava Hot            17373\n",
              "Expert_Hot                 15792\n",
              "Master_Warm                15734\n",
              "Contributor_Boiling Hot    15634\n",
              "Grandmaster_Cold           15464\n",
              "Expert_Lava Hot            15078\n",
              "Grandmaster_Boiling Hot    13623\n",
              "Contributor_Hot            12428\n",
              "Master_Cold                12364\n",
              "Contributor_Lava Hot       11919\n",
              "Grandmaster_Hot            10805\n",
              "Master_Boiling Hot         10800\n",
              "Grandmaster_Lava Hot       10363\n",
              "Master_Hot                  8594\n",
              "Master_Lava Hot             8209\n",
              "Novice_nan                  4889\n",
              "nan_Freezing                4309\n",
              "Expert_nan                  4225\n",
              "nan_Warm                    3669\n",
              "Contributor_nan             3250\n",
              "nan_Cold                    3033\n",
              "Grandmaster_nan             2894\n",
              "nan_Boiling Hot             2538\n",
              "Master_nan                  2262\n",
              "nan_Hot                     2039\n",
              "nan_Lava Hot                1898\n",
              "nan_nan                      555\n",
              "Name: new_feature, dtype: int64"
            ]
          },
          "metadata": {
            "tags": []
          },
          "execution_count": 70
        }
      ]
    },
    {
      "cell_type": "code",
      "metadata": {
        "id": "2g26qGxni9Hv"
      },
      "source": [
        "# read training data\n",
        "train = pd.read_csv(\"cat_data_train.csv\")\n",
        "\n",
        "#read test data\n",
        "test = pd.read_csv(\"cat_data_test.csv\")\n",
        "\n",
        "# create a fake target column for test data\n",
        "# since this column doesn't exist\n",
        "test.loc[:, \"target\"] = -1\n",
        "\n",
        "# concatenate both training and test data\n",
        "data = pd.concat([train, test]).reset_index(drop=True)\n",
        "\n",
        "# make a list of features we are interested in\n",
        "# id and target is something we should not encode\n",
        "features = [x for x in train.columns if x not in [\"id\", \"target\"]]\n",
        "\n",
        "# loop over the features list\n",
        "for feat in features:\n",
        "    # create a new instance of LabelEncoder for each feature\n",
        "    lbl_enc = preprocessing.LabelEncoder()\n",
        "    \n",
        "    # note the trick here\n",
        "    # since its categorical data, we fillna with a string\n",
        "    # and we convert all the data to string type\n",
        "    # so, no matter its int or float, its converted to string\n",
        "    # int/float but categorical!!!\n",
        "    temp_col = data[feat].fillna(\"NONE\").astype(str).values\n",
        "    \n",
        "    # we can use fit_transform here as we do not\n",
        "    # have any extra test data that we need to\n",
        "    # transform on separately\n",
        "    data.loc[:, feat] = lbl_enc.fit_transform(temp_col)\n",
        "\n",
        "# split the training and test data again\n",
        "train = data[data.target != -1].reset_index(drop=True)\n",
        "test = data[data.target == -1].reset_index(drop=True)"
      ],
      "execution_count": null,
      "outputs": []
    },
    {
      "cell_type": "code",
      "metadata": {
        "id": "9NZNeg-hlyi0"
      },
      "source": [
        "# df.ord_4 = df.ord_4.fillna(\"NONE\")\n",
        "# df.loc[df[\"ord_4\"].value_counts()[df[\"ord_4\"]].values < 2000,\"ord_4\"] = \"RARE\""
      ],
      "execution_count": null,
      "outputs": []
    }
  ]
}