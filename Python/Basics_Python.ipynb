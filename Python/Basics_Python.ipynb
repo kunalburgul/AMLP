{
  "nbformat": 4,
  "nbformat_minor": 0,
  "metadata": {
    "kernelspec": {
      "display_name": "Python 3",
      "language": "python",
      "name": "python3"
    },
    "language_info": {
      "codemirror_mode": {
        "name": "ipython",
        "version": 3
      },
      "file_extension": ".py",
      "mimetype": "text/x-python",
      "name": "python",
      "nbconvert_exporter": "python",
      "pygments_lexer": "ipython3",
      "version": "3.6.5"
    },
    "colab": {
      "name": "Basics_Python.ipynb",
      "provenance": [],
      "collapsed_sections": [
        "D_Ifk2zlYnHR",
        "TDtlyMZtdcEM",
        "1q2dr0r2lAl9",
        "Ti5AGpyMmm6D"
      ],
      "toc_visible": true,
      "include_colab_link": true
    }
  },
  "cells": [
    {
      "cell_type": "markdown",
      "metadata": {
        "id": "view-in-github",
        "colab_type": "text"
      },
      "source": [
        "<a href=\"https://colab.research.google.com/github/kunalburgul/Python_Coding/blob/master/Basics_Python.ipynb\" target=\"_parent\"><img src=\"https://colab.research.google.com/assets/colab-badge.svg\" alt=\"Open In Colab\"/></a>"
      ]
    },
    {
      "cell_type": "markdown",
      "metadata": {
        "id": "jZGSwb0NYs31"
      },
      "source": [
        "# **Baics Python Gothrough**"
      ]
    },
    {
      "cell_type": "markdown",
      "metadata": {
        "id": "UUmFIXBBa_ew"
      },
      "source": [
        "## **Basic**"
      ]
    },
    {
      "cell_type": "markdown",
      "metadata": {
        "id": "hu2Tw6RtYs32"
      },
      "source": [
        "### **Python Keywords**"
      ]
    },
    {
      "cell_type": "markdown",
      "metadata": {
        "id": "f0EF7hq5Ys34"
      },
      "source": [
        "- Keywords are the reserved words in python\n",
        "- We can't use a keyword as variable name, function name or any other identifier\n",
        "- Keywords are case sentive"
      ]
    },
    {
      "cell_type": "code",
      "metadata": {
        "id": "td2EySjuYs35",
        "outputId": "53cb822b-8ded-471a-ff07-6b664484b7e3",
        "colab": {
          "base_uri": "https://localhost:8080/",
          "height": 91
        }
      },
      "source": [
        "import keyword\n",
        "print(keyword.kwlist)\n",
        "print(\"\\nTotal number of keywords: \", len(keyword.kwlist))"
      ],
      "execution_count": 1,
      "outputs": [
        {
          "output_type": "stream",
          "text": [
            "['False', 'None', 'True', 'and', 'as', 'assert', 'break', 'class', 'continue', 'def', 'del', 'elif', 'else', 'except', 'finally', 'for', 'from', 'global', 'if', 'import', 'in', 'is', 'lambda', 'nonlocal', 'not', 'or', 'pass', 'raise', 'return', 'try', 'while', 'with', 'yield']\n",
            "\n",
            "Total number of keywords:  33\n"
          ],
          "name": "stdout"
        }
      ]
    },
    {
      "cell_type": "markdown",
      "metadata": {
        "id": "-CqiE0AVYs3_"
      },
      "source": [
        "### **Identifiers**"
      ]
    },
    {
      "cell_type": "markdown",
      "metadata": {
        "id": "qAhtwoQBYs4A"
      },
      "source": [
        "Identifier is the name given to entities like class, functions, variables etc. in Python. It helps differentiating one entity from another.\n",
        "\n",
        "Rules for Writing Identifiers:\n",
        "\n",
        "1. Identifiers can be a combination of letters in lowercase (a to z) or uppercase (A to Z) or digits (0 to 9) or an underscore (_).\n",
        "2. An identifier cannot start with a digit. 1variable is invalid, but variable1 is perfectly fine.\n",
        "3. Keywords cannot be used as identifiers."
      ]
    },
    {
      "cell_type": "code",
      "metadata": {
        "id": "zl16tkDCYs4B",
        "outputId": "514b759d-79a3-4f82-ace5-55aa9fa8207f",
        "colab": {
          "base_uri": "https://localhost:8080/",
          "height": 136
        }
      },
      "source": [
        "abc_12 = 12\n",
        "#12abc =12\n",
        "global = 1"
      ],
      "execution_count": 2,
      "outputs": [
        {
          "output_type": "error",
          "ename": "SyntaxError",
          "evalue": "ignored",
          "traceback": [
            "\u001b[0;36m  File \u001b[0;32m\"<ipython-input-2-e20d742d204c>\"\u001b[0;36m, line \u001b[0;32m3\u001b[0m\n\u001b[0;31m    global = 1\u001b[0m\n\u001b[0m           ^\u001b[0m\n\u001b[0;31mSyntaxError\u001b[0m\u001b[0;31m:\u001b[0m invalid syntax\n"
          ]
        }
      ]
    },
    {
      "cell_type": "markdown",
      "metadata": {
        "id": "emr30neVYs4F"
      },
      "source": [
        "We cannot use special symbols like !, @, #, $, % etc. in our identifier."
      ]
    },
    {
      "cell_type": "code",
      "metadata": {
        "id": "hQQQWuNmYs4G",
        "outputId": "e18bb0fe-de76-48c5-8fc2-24737a308445",
        "colab": {
          "base_uri": "https://localhost:8080/",
          "height": 136
        }
      },
      "source": [
        "a@ = 10"
      ],
      "execution_count": 3,
      "outputs": [
        {
          "output_type": "error",
          "ename": "SyntaxError",
          "evalue": "ignored",
          "traceback": [
            "\u001b[0;36m  File \u001b[0;32m\"<ipython-input-3-adceaddf80c5>\"\u001b[0;36m, line \u001b[0;32m1\u001b[0m\n\u001b[0;31m    a@ = 10\u001b[0m\n\u001b[0m       ^\u001b[0m\n\u001b[0;31mSyntaxError\u001b[0m\u001b[0;31m:\u001b[0m invalid syntax\n"
          ]
        }
      ]
    },
    {
      "cell_type": "markdown",
      "metadata": {
        "id": "YZnLDQb6Ys4L"
      },
      "source": [
        "\n",
        "### **Python Comments**"
      ]
    },
    {
      "cell_type": "markdown",
      "metadata": {
        "id": "0JMoUISIYs4L"
      },
      "source": [
        "Comments are lines that exist in computer programs that are ignored by compilers and interpreters. \n",
        "\n",
        "Including comments in programs makes code more readable for humans as it provides some information or explanation about what each part of a program is doing.\n",
        "\n",
        "In general, it is a good idea to write comments while you are writing or updating a program as it is easy to forget your thought process later on, and comments written later may be less useful in the long term. \n",
        "\n",
        "In Python, we use the hash (#) symbol to start writing a comment."
      ]
    },
    {
      "cell_type": "code",
      "metadata": {
        "id": "qzFMCFsTYs4M",
        "outputId": "da31830d-9fb8-412d-b537-53048b16875c",
        "colab": {
          "base_uri": "https://localhost:8080/",
          "height": 35
        }
      },
      "source": [
        "#Print Hello, world to console\n",
        "print(\"Hello, world\")"
      ],
      "execution_count": 4,
      "outputs": [
        {
          "output_type": "stream",
          "text": [
            "Hello, world\n"
          ],
          "name": "stdout"
        }
      ]
    },
    {
      "cell_type": "markdown",
      "metadata": {
        "id": "jvW82bbcYs4Q"
      },
      "source": [
        "### **Multi Line Comments**"
      ]
    },
    {
      "cell_type": "markdown",
      "metadata": {
        "id": "XBglb7xKYs4R"
      },
      "source": [
        "If we have comments that extend multiple lines, one way of doing it is to use hash (#) in the beginning of each line."
      ]
    },
    {
      "cell_type": "code",
      "metadata": {
        "id": "FTXDRQ5QYs4S"
      },
      "source": [
        "#This is a long comment\n",
        "#and it extends \n",
        "#Multiple lines"
      ],
      "execution_count": 5,
      "outputs": []
    },
    {
      "cell_type": "markdown",
      "metadata": {
        "id": "4J1hGbrpYs4W"
      },
      "source": [
        "Another way of doing this is to use triple quotes, either ''' or \"\"\"."
      ]
    },
    {
      "cell_type": "code",
      "metadata": {
        "id": "ATH2dO5qYs4X",
        "outputId": "d84ad980-19b6-428c-b21f-148326345efc",
        "colab": {
          "base_uri": "https://localhost:8080/",
          "height": 35
        }
      },
      "source": [
        "\"\"\"This is also a\n",
        "perfect example of\n",
        "multi-line comments\"\"\""
      ],
      "execution_count": 6,
      "outputs": [
        {
          "output_type": "execute_result",
          "data": {
            "application/vnd.google.colaboratory.intrinsic+json": {
              "type": "string"
            },
            "text/plain": [
              "'This is also a\\nperfect example of\\nmulti-line comments'"
            ]
          },
          "metadata": {
            "tags": []
          },
          "execution_count": 6
        }
      ]
    },
    {
      "cell_type": "markdown",
      "metadata": {
        "id": "ceth6qXaYs4b"
      },
      "source": [
        "### **DocString in python**"
      ]
    },
    {
      "cell_type": "markdown",
      "metadata": {
        "id": "hIq8DL_5Ys4b"
      },
      "source": [
        "Docstring is short for documentation string.\n",
        "\n",
        "It is a string that occurs as the first statement in a module, function, class, or method definition."
      ]
    },
    {
      "cell_type": "code",
      "metadata": {
        "id": "gGHKit-nYs4d",
        "outputId": "fbddc1ad-27d4-4e47-8f71-cdc3df24d9ce",
        "colab": {
          "base_uri": "https://localhost:8080/",
          "height": 35
        }
      },
      "source": [
        "def double(num):\n",
        "    \"\"\"\n",
        "    function to double the number\n",
        "    \"\"\"\n",
        "    return 2 * num\n",
        "\n",
        "print(double(10))"
      ],
      "execution_count": 7,
      "outputs": [
        {
          "output_type": "stream",
          "text": [
            "20\n"
          ],
          "name": "stdout"
        }
      ]
    },
    {
      "cell_type": "code",
      "metadata": {
        "id": "QPEWl_cFYs4g",
        "outputId": "50dd1d75-ec7d-40a2-d96e-d9d89eea3cb5",
        "colab": {
          "base_uri": "https://localhost:8080/",
          "height": 71
        }
      },
      "source": [
        "print(double.__doc__) #Docstring is available to us as the attribute __doc__ of the function"
      ],
      "execution_count": 8,
      "outputs": [
        {
          "output_type": "stream",
          "text": [
            "\n",
            "    function to double the number\n",
            "    \n"
          ],
          "name": "stdout"
        }
      ]
    },
    {
      "cell_type": "markdown",
      "metadata": {
        "id": "hQYsMXg1Ys4k"
      },
      "source": [
        "### **Python Indentation**"
      ]
    },
    {
      "cell_type": "markdown",
      "metadata": {
        "id": "vH3HuZSVYs4l"
      },
      "source": [
        "1. Most of the programming languages like C, C++, Java use braces { } to define a block of code. Python uses indentation.\n",
        "\n",
        "2. A code block (body of a function, loop etc.) starts with indentation and ends with the first unindented line. The amount of indentation is up to you, but it must be consistent throughout that block.\n",
        "\n",
        "3. Generally four whitespaces are used for indentation and is preferred over tabs."
      ]
    },
    {
      "cell_type": "code",
      "metadata": {
        "id": "mtoea3f5Ys4l",
        "outputId": "5d5789ea-492b-4ad8-aea9-61459e100331",
        "colab": {
          "base_uri": "https://localhost:8080/",
          "height": 197
        }
      },
      "source": [
        "for i in range(10):\n",
        "    print(i)"
      ],
      "execution_count": 9,
      "outputs": [
        {
          "output_type": "stream",
          "text": [
            "0\n",
            "1\n",
            "2\n",
            "3\n",
            "4\n",
            "5\n",
            "6\n",
            "7\n",
            "8\n",
            "9\n"
          ],
          "name": "stdout"
        }
      ]
    },
    {
      "cell_type": "markdown",
      "metadata": {
        "id": "4o1L32RXYs4q"
      },
      "source": [
        "Indentation can be ignored in line continuation. But it's a good idea to always indent. It makes the code more readable."
      ]
    },
    {
      "cell_type": "code",
      "metadata": {
        "id": "E0gKGyJKYs4q",
        "outputId": "833697a2-2f92-48c2-fe3d-421d7fb4e2d4",
        "colab": {
          "base_uri": "https://localhost:8080/",
          "height": 35
        }
      },
      "source": [
        "if True:\n",
        "    print(\"Machine Learning\")\n",
        "    c = \"AAIC\""
      ],
      "execution_count": 10,
      "outputs": [
        {
          "output_type": "stream",
          "text": [
            "Machine Learning\n"
          ],
          "name": "stdout"
        }
      ]
    },
    {
      "cell_type": "code",
      "metadata": {
        "id": "jU4Fyy8kYs4w",
        "outputId": "5cc8e5e5-b130-4806-cfa7-dd2e58fe3990",
        "colab": {
          "base_uri": "https://localhost:8080/",
          "height": 35
        }
      },
      "source": [
        "if True: print(\"Machine Learning\"); c = \"AAIC\""
      ],
      "execution_count": 11,
      "outputs": [
        {
          "output_type": "stream",
          "text": [
            "Machine Learning\n"
          ],
          "name": "stdout"
        }
      ]
    },
    {
      "cell_type": "markdown",
      "metadata": {
        "id": "lBS-1i7yYs40"
      },
      "source": [
        "### **Python Statement**"
      ]
    },
    {
      "cell_type": "markdown",
      "metadata": {
        "id": "VQ66cQ_TYs41"
      },
      "source": [
        "Instructions that a Python interpreter can execute are called statements."
      ]
    },
    {
      "cell_type": "code",
      "metadata": {
        "id": "bVsB2wREYs41"
      },
      "source": [
        " a = 1  #single statement"
      ],
      "execution_count": 12,
      "outputs": []
    },
    {
      "cell_type": "markdown",
      "metadata": {
        "id": "VfwOfyMzYs45"
      },
      "source": [
        "### **Multi-Line Statement**"
      ]
    },
    {
      "cell_type": "markdown",
      "metadata": {
        "id": "sEA1HcD5Ys45"
      },
      "source": [
        "In Python, end of a statement is marked by a newline character. But we can make a statement extend over multiple lines with the line continuation character ()."
      ]
    },
    {
      "cell_type": "code",
      "metadata": {
        "id": "6BIV5VPyYs46"
      },
      "source": [
        "a = 1 + 2 + 3 + \\\n",
        "    4 + 5 + 6 + \\\n",
        "    7 + 8"
      ],
      "execution_count": 13,
      "outputs": []
    },
    {
      "cell_type": "code",
      "metadata": {
        "id": "llFqxyd7Ys49",
        "outputId": "98368233-47aa-4d14-8462-07768a5ba5fc",
        "colab": {
          "base_uri": "https://localhost:8080/",
          "height": 35
        }
      },
      "source": [
        "print(a)"
      ],
      "execution_count": 14,
      "outputs": [
        {
          "output_type": "stream",
          "text": [
            "36\n"
          ],
          "name": "stdout"
        }
      ]
    },
    {
      "cell_type": "code",
      "metadata": {
        "id": "QC79xkNJYs5C",
        "outputId": "0f0c7eac-0c61-499b-8f3c-9e48e97f3ebe",
        "colab": {
          "base_uri": "https://localhost:8080/",
          "height": 35
        }
      },
      "source": [
        "#another way is\n",
        "a = (1 + 2 + 3 +\n",
        "    4 + 5 + 6 + \n",
        "    7 + 8)\n",
        "print(a)"
      ],
      "execution_count": 15,
      "outputs": [
        {
          "output_type": "stream",
          "text": [
            "36\n"
          ],
          "name": "stdout"
        }
      ]
    },
    {
      "cell_type": "code",
      "metadata": {
        "id": "ixuIwEANYs5F"
      },
      "source": [
        "a = 10; b = 20; c = 30   #put multiple statements in a single line using ;"
      ],
      "execution_count": 16,
      "outputs": []
    },
    {
      "cell_type": "markdown",
      "metadata": {
        "id": "EmGxrFL_Ys5I"
      },
      "source": [
        "## **Variables**"
      ]
    },
    {
      "cell_type": "markdown",
      "metadata": {
        "id": "MIEps7zlYs5J"
      },
      "source": [
        "A variable is a location in memory used to store some data (value).\n",
        "\n",
        "They are given unique names to differentiate between different memory locations. The rules for writing a variable name is same as the rules for writing identifiers in Python.\n",
        "\n",
        "We don't need to declare a variable before using it. In Python, we simply assign a value to a variable and it will exist. We don't even have to declare the type of the variable. This is handled internally according to the type of value we assign to the variable."
      ]
    },
    {
      "cell_type": "markdown",
      "metadata": {
        "id": "m-Iyju2rYs5J"
      },
      "source": [
        "### **Variable Assignments**\n"
      ]
    },
    {
      "cell_type": "code",
      "metadata": {
        "id": "zFdEc-3VYs5K"
      },
      "source": [
        "#We use the assignment operator (=) to assign values to a variable\n",
        "\n",
        "a = 10\n",
        "b = 5.5\n",
        "c = \"ML\""
      ],
      "execution_count": 17,
      "outputs": []
    },
    {
      "cell_type": "markdown",
      "metadata": {
        "id": "9iYxzut1Ys5O"
      },
      "source": [
        "### **Multiple Assignments**"
      ]
    },
    {
      "cell_type": "code",
      "metadata": {
        "id": "dycKyNy8Ys5P"
      },
      "source": [
        "a, b, c = 10, 5.5, \"ML\""
      ],
      "execution_count": 18,
      "outputs": []
    },
    {
      "cell_type": "code",
      "metadata": {
        "id": "ndb0YEyIYs5T"
      },
      "source": [
        "a = b = c = \"AI\" #assign the same value to multiple variables at once"
      ],
      "execution_count": 19,
      "outputs": []
    },
    {
      "cell_type": "markdown",
      "metadata": {
        "id": "VtkxDC8eYs5V"
      },
      "source": [
        "### **Storage Locations**"
      ]
    },
    {
      "cell_type": "code",
      "metadata": {
        "id": "BhzR8qpjYs5W",
        "outputId": "4fde2aeb-a66d-4eb9-ee12-76e7135252af",
        "colab": {
          "base_uri": "https://localhost:8080/",
          "height": 35
        }
      },
      "source": [
        "x = 3\n",
        "\n",
        "print(id(x))               #print address of variable x"
      ],
      "execution_count": 20,
      "outputs": [
        {
          "output_type": "stream",
          "text": [
            "10914560\n"
          ],
          "name": "stdout"
        }
      ]
    },
    {
      "cell_type": "code",
      "metadata": {
        "id": "bnRZJwBHYs5a",
        "outputId": "2ec34892-3d0d-4722-fac6-3f14fdd22ce0",
        "colab": {
          "base_uri": "https://localhost:8080/",
          "height": 35
        }
      },
      "source": [
        "y = 3\n",
        "\n",
        "print(id(y))               #print address of variable y"
      ],
      "execution_count": 21,
      "outputs": [
        {
          "output_type": "stream",
          "text": [
            "10914560\n"
          ],
          "name": "stdout"
        }
      ]
    },
    {
      "cell_type": "markdown",
      "metadata": {
        "id": "j8Hbyx11Ys5d"
      },
      "source": [
        "Observation:\n",
        "\n",
        "x and y points to same memory location"
      ]
    },
    {
      "cell_type": "code",
      "metadata": {
        "id": "OmhlJRwEYs5e",
        "outputId": "58b96f04-a776-48ac-ba0a-31e39ce1d332",
        "colab": {
          "base_uri": "https://localhost:8080/",
          "height": 35
        }
      },
      "source": [
        "y = 2\n",
        "print(id(y))               #print address of variable y"
      ],
      "execution_count": 22,
      "outputs": [
        {
          "output_type": "stream",
          "text": [
            "10914528\n"
          ],
          "name": "stdout"
        }
      ]
    },
    {
      "cell_type": "markdown",
      "metadata": {
        "id": "BxOb3_qXYs5h"
      },
      "source": [
        "## **Data Types**"
      ]
    },
    {
      "cell_type": "markdown",
      "metadata": {
        "id": "VX9CVAVVYs5h"
      },
      "source": [
        "Every value in Python has a datatype. Since everything is an object in Python programming, data types are actually classes and variables are instance (object) of these classes.\n"
      ]
    },
    {
      "cell_type": "markdown",
      "metadata": {
        "id": "CQgI9TmuYs5i"
      },
      "source": [
        "### **Numbers**"
      ]
    },
    {
      "cell_type": "markdown",
      "metadata": {
        "id": "t2BGmX38Ys5j"
      },
      "source": [
        "Integers, floating point numbers and complex numbers falls under Python numbers category. They are defined as int, float and complex class in Python.\n",
        "\n",
        "We can use the type() function to know which class a variable or a value belongs to and the isinstance() function to check if an object belongs to a particular class.\n"
      ]
    },
    {
      "cell_type": "code",
      "metadata": {
        "id": "kZaHJfBKYs5k",
        "outputId": "a1a3fa7e-2c05-405d-b0bc-e3753ea21d1d",
        "colab": {
          "base_uri": "https://localhost:8080/",
          "height": 35
        }
      },
      "source": [
        "a = 5                               #data type is implicitly set to integer\n",
        "print(a, \" is of type\", type(a))"
      ],
      "execution_count": 23,
      "outputs": [
        {
          "output_type": "stream",
          "text": [
            "5  is of type <class 'int'>\n"
          ],
          "name": "stdout"
        }
      ]
    },
    {
      "cell_type": "code",
      "metadata": {
        "id": "u_kh-NO5Ys5n",
        "outputId": "8c066cc8-2f98-4c7b-bf33-46bf8a89077e",
        "colab": {
          "base_uri": "https://localhost:8080/",
          "height": 35
        }
      },
      "source": [
        "a = 2.5                            #data type is changed to float\n",
        "print(a, \" is of type\", type(a))"
      ],
      "execution_count": 24,
      "outputs": [
        {
          "output_type": "stream",
          "text": [
            "2.5  is of type <class 'float'>\n"
          ],
          "name": "stdout"
        }
      ]
    },
    {
      "cell_type": "code",
      "metadata": {
        "id": "9doL_gX1Ys5q",
        "outputId": "05c73267-5514-4409-bc0d-005e57709f47",
        "colab": {
          "base_uri": "https://localhost:8080/",
          "height": 71
        }
      },
      "source": [
        "a = 1 + 2j                          #data type is changed to complex number\n",
        "print(a, \" is complex number?\") \n",
        "print(isinstance(1+2j, complex))\n",
        "print(type(a))"
      ],
      "execution_count": 25,
      "outputs": [
        {
          "output_type": "stream",
          "text": [
            "(1+2j)  is complex number?\n",
            "True\n",
            "<class 'complex'>\n"
          ],
          "name": "stdout"
        }
      ]
    },
    {
      "cell_type": "markdown",
      "metadata": {
        "id": "9fB5Uir0Ys5t"
      },
      "source": [
        "### **Boolean**"
      ]
    },
    {
      "cell_type": "markdown",
      "metadata": {
        "id": "dmpZUBxzYs5u"
      },
      "source": [
        "Boolean represents the truth values False and True"
      ]
    },
    {
      "cell_type": "code",
      "metadata": {
        "id": "nWFIERUcYs5u",
        "outputId": "442cec8f-e63f-41e4-d3d0-0c1276bb617c",
        "colab": {
          "base_uri": "https://localhost:8080/",
          "height": 35
        }
      },
      "source": [
        "a = True                          #a is a boolean type\n",
        "print(type(a))"
      ],
      "execution_count": 26,
      "outputs": [
        {
          "output_type": "stream",
          "text": [
            "<class 'bool'>\n"
          ],
          "name": "stdout"
        }
      ]
    },
    {
      "cell_type": "markdown",
      "metadata": {
        "id": "bcwj7WQ2Ys5x"
      },
      "source": [
        "### **Python Strings**"
      ]
    },
    {
      "cell_type": "markdown",
      "metadata": {
        "id": "bCvmFdxeYs5y"
      },
      "source": [
        "String is sequence of Unicode characters.\n",
        "\n",
        "We can use single quotes or double quotes to represent strings.\n",
        "\n",
        "A string in Python consists of a series or sequence of characters - letters, numbers, and special characters.\n",
        "\n",
        "Strings can be indexed - often synonymously called subscripted as well.\n",
        "\n",
        "Similar to C, the first character of a string has the index 0."
      ]
    },
    {
      "cell_type": "code",
      "metadata": {
        "id": "GaYd_eeFYs5z",
        "outputId": "903e0be3-685a-4225-d5f8-7205d4c1b2bf",
        "colab": {
          "base_uri": "https://localhost:8080/",
          "height": 35
        }
      },
      "source": [
        "s = \"This is Online Colab Python Gothrough\"\n",
        "print(s)"
      ],
      "execution_count": 27,
      "outputs": [
        {
          "output_type": "stream",
          "text": [
            "This is Online Colab Python Gothrough\n"
          ],
          "name": "stdout"
        }
      ]
    },
    {
      "cell_type": "markdown",
      "metadata": {
        "id": "aa6-B1vQYs52"
      },
      "source": [
        "Multi-line strings can be denoted using triple quotes, ''' or \"\"\"."
      ]
    },
    {
      "cell_type": "code",
      "metadata": {
        "id": "x9672GcxYs53",
        "outputId": "cba479f5-fb31-4dd3-ad1f-702b8bfca458",
        "colab": {
          "base_uri": "https://localhost:8080/",
          "height": 53
        }
      },
      "source": [
        "s = \"\"\"This is Online \n",
        "        Colab Python Gothrough\"\"\"\n",
        "print(s)"
      ],
      "execution_count": 28,
      "outputs": [
        {
          "output_type": "stream",
          "text": [
            "This is Online \n",
            "        Colab Python Gothrough\n"
          ],
          "name": "stdout"
        }
      ]
    },
    {
      "cell_type": "code",
      "metadata": {
        "id": "C4yIvFv_Ys56",
        "outputId": "cca27d9d-0d11-4a7c-a859-98ccc573d747",
        "colab": {
          "base_uri": "https://localhost:8080/",
          "height": 35
        }
      },
      "source": [
        "print(s[0])\n",
        "#last char s[len(s)-1] or s[-1]"
      ],
      "execution_count": 29,
      "outputs": [
        {
          "output_type": "stream",
          "text": [
            "T\n"
          ],
          "name": "stdout"
        }
      ]
    },
    {
      "cell_type": "code",
      "metadata": {
        "id": "m5Yi51l3Ys58",
        "outputId": "0faceb3a-3620-464a-9b5a-4b4008d578b0",
        "colab": {
          "base_uri": "https://localhost:8080/",
          "height": 35
        }
      },
      "source": [
        "#slicing\n",
        "s[5:]"
      ],
      "execution_count": 30,
      "outputs": [
        {
          "output_type": "execute_result",
          "data": {
            "application/vnd.google.colaboratory.intrinsic+json": {
              "type": "string"
            },
            "text/plain": [
              "'is Online \\n        Colab Python Gothrough'"
            ]
          },
          "metadata": {
            "tags": []
          },
          "execution_count": 30
        }
      ]
    },
    {
      "cell_type": "code",
      "metadata": {
        "id": "VMzX6KFlhEf2"
      },
      "source": [
        ""
      ],
      "execution_count": 30,
      "outputs": []
    },
    {
      "cell_type": "markdown",
      "metadata": {
        "id": "XyZ0MxPLhE7s"
      },
      "source": [
        "#### **Strings**"
      ]
    },
    {
      "cell_type": "markdown",
      "metadata": {
        "id": "Af3-Nwd2hE7u"
      },
      "source": [
        "A string is a sequence of characters.\n",
        " \n",
        "Computers do not deal with characters, they deal with numbers (binary). Even though you may see characters on your screen, internally it is stored and manipulated as a combination of 0's and 1's.\n",
        " \n",
        "This conversion of character to a number is called encoding, and the reverse process is decoding. ASCII and Unicode are some of the popular encoding used.\n",
        " \n",
        "In Python, string is a sequence of Unicode character.\n",
        "\n",
        "For more details about unicode\n",
        "\n",
        "https://docs.python.org/3.3/howto/unicode.html"
      ]
    },
    {
      "cell_type": "markdown",
      "metadata": {
        "id": "pk1yib03hE7v"
      },
      "source": [
        "#### **How to create a string?**"
      ]
    },
    {
      "cell_type": "markdown",
      "metadata": {
        "id": "3CTtmZU1hE7w"
      },
      "source": [
        "Strings can be created by enclosing characters inside a single quote or double quotes.\n",
        "\n",
        "Even triple quotes can be used in Python but generally used to represent multiline strings and docstrings."
      ]
    },
    {
      "cell_type": "markdown",
      "metadata": {
        "id": "XWkjkVGZhE7x"
      },
      "source": [
        "#### **How to access characters in a string?**"
      ]
    },
    {
      "cell_type": "code",
      "metadata": {
        "id": "7BbWYzqhhE7y",
        "outputId": "340bfb27-4a07-44dc-8e5f-cb5444d484d9",
        "colab": {
          "base_uri": "https://localhost:8080/",
          "height": 71
        }
      },
      "source": [
        "myString = 'Hello'\n",
        "\n",
        "print(myString)\n",
        "\n",
        "\n",
        "myString = \"Hello\"\n",
        "print(myString)\n",
        "\n",
        "\n",
        "myString = '''Hello'''\n",
        "print(myString)"
      ],
      "execution_count": 31,
      "outputs": [
        {
          "output_type": "stream",
          "text": [
            "Hello\n",
            "Hello\n",
            "Hello\n"
          ],
          "name": "stdout"
        }
      ]
    },
    {
      "cell_type": "markdown",
      "metadata": {
        "id": "mwn7G9NEhE76"
      },
      "source": [
        "#### **How to change or delete a string ?**"
      ]
    },
    {
      "cell_type": "markdown",
      "metadata": {
        "id": "1-4sgonbhE77"
      },
      "source": [
        "We can access individual characters using indexing and a range of characters using slicing.\n",
        "\n",
        "Index starts from 0.\n",
        "\n",
        "Trying to access a character out of index range will raise an IndexError.\n",
        "\n",
        "The index must be an integer. We can't use float or other types, this will result into TypeError.\n",
        "\n",
        "Python allows negative indexing for its sequences."
      ]
    },
    {
      "cell_type": "code",
      "metadata": {
        "id": "qHnFvpq7hE78",
        "outputId": "1230aa99-d27c-48cf-b8d8-acc64f46fa9d",
        "colab": {
          "base_uri": "https://localhost:8080/",
          "height": 71
        }
      },
      "source": [
        "myString = \"Hello\"\n",
        "\n",
        "#print first Character\n",
        "print(myString[0])\n",
        "\n",
        "#print last character using negative indexing\n",
        "print(myString[-1])\n",
        "\n",
        "#slicing 2nd to 5th character\n",
        "print(myString[2:5])"
      ],
      "execution_count": 32,
      "outputs": [
        {
          "output_type": "stream",
          "text": [
            "H\n",
            "o\n",
            "llo\n"
          ],
          "name": "stdout"
        }
      ]
    },
    {
      "cell_type": "code",
      "metadata": {
        "id": "NFOgeEbkhE8B",
        "outputId": "f5974eab-c67f-4750-9c0f-dd82bce80fbe",
        "colab": {
          "base_uri": "https://localhost:8080/",
          "height": 172
        }
      },
      "source": [
        "print(myString[15])"
      ],
      "execution_count": 33,
      "outputs": [
        {
          "output_type": "error",
          "ename": "IndexError",
          "evalue": "ignored",
          "traceback": [
            "\u001b[0;31m---------------------------------------------------------------------------\u001b[0m",
            "\u001b[0;31mIndexError\u001b[0m                                Traceback (most recent call last)",
            "\u001b[0;32m<ipython-input-33-a6e04654a783>\u001b[0m in \u001b[0;36m<module>\u001b[0;34m()\u001b[0m\n\u001b[0;32m----> 1\u001b[0;31m \u001b[0mprint\u001b[0m\u001b[0;34m(\u001b[0m\u001b[0mmyString\u001b[0m\u001b[0;34m[\u001b[0m\u001b[0;36m15\u001b[0m\u001b[0;34m]\u001b[0m\u001b[0;34m)\u001b[0m\u001b[0;34m\u001b[0m\u001b[0;34m\u001b[0m\u001b[0m\n\u001b[0m",
            "\u001b[0;31mIndexError\u001b[0m: string index out of range"
          ]
        }
      ]
    },
    {
      "cell_type": "code",
      "metadata": {
        "id": "_68B8M6OhE8F",
        "outputId": "9e244e04-1a23-49f7-e9cc-8a808932d6d1",
        "colab": {
          "base_uri": "https://localhost:8080/",
          "height": 172
        }
      },
      "source": [
        "print(myString[1.5])"
      ],
      "execution_count": 34,
      "outputs": [
        {
          "output_type": "error",
          "ename": "TypeError",
          "evalue": "ignored",
          "traceback": [
            "\u001b[0;31m---------------------------------------------------------------------------\u001b[0m",
            "\u001b[0;31mTypeError\u001b[0m                                 Traceback (most recent call last)",
            "\u001b[0;32m<ipython-input-34-f317be76d762>\u001b[0m in \u001b[0;36m<module>\u001b[0;34m()\u001b[0m\n\u001b[0;32m----> 1\u001b[0;31m \u001b[0mprint\u001b[0m\u001b[0;34m(\u001b[0m\u001b[0mmyString\u001b[0m\u001b[0;34m[\u001b[0m\u001b[0;36m1.5\u001b[0m\u001b[0;34m]\u001b[0m\u001b[0;34m)\u001b[0m\u001b[0;34m\u001b[0m\u001b[0;34m\u001b[0m\u001b[0m\n\u001b[0m",
            "\u001b[0;31mTypeError\u001b[0m: string indices must be integers"
          ]
        }
      ]
    },
    {
      "cell_type": "markdown",
      "metadata": {
        "id": "QyrpkYeVhE8I"
      },
      "source": [
        "#### **String Operations**"
      ]
    },
    {
      "cell_type": "markdown",
      "metadata": {
        "id": "ZspVEd9fhE8J"
      },
      "source": [
        "Strings are immutable. This means that elements of a string cannot be changed once it has been assigned.\n",
        "\n",
        "We can simply reassign different strings to the same name."
      ]
    },
    {
      "cell_type": "code",
      "metadata": {
        "id": "CqSRTHhzhE8J",
        "outputId": "3276b2da-d962-45b6-9a49-0abf09ec919b",
        "colab": {
          "base_uri": "https://localhost:8080/",
          "height": 190
        }
      },
      "source": [
        "myString = \"Hello\"\n",
        "myString[4] = 's' # strings are immutable"
      ],
      "execution_count": 35,
      "outputs": [
        {
          "output_type": "error",
          "ename": "TypeError",
          "evalue": "ignored",
          "traceback": [
            "\u001b[0;31m---------------------------------------------------------------------------\u001b[0m",
            "\u001b[0;31mTypeError\u001b[0m                                 Traceback (most recent call last)",
            "\u001b[0;32m<ipython-input-35-786fea0a1f9c>\u001b[0m in \u001b[0;36m<module>\u001b[0;34m()\u001b[0m\n\u001b[1;32m      1\u001b[0m \u001b[0mmyString\u001b[0m \u001b[0;34m=\u001b[0m \u001b[0;34m\"Hello\"\u001b[0m\u001b[0;34m\u001b[0m\u001b[0;34m\u001b[0m\u001b[0m\n\u001b[0;32m----> 2\u001b[0;31m \u001b[0mmyString\u001b[0m\u001b[0;34m[\u001b[0m\u001b[0;36m4\u001b[0m\u001b[0;34m]\u001b[0m \u001b[0;34m=\u001b[0m \u001b[0;34m's'\u001b[0m \u001b[0;31m# strings are immutable\u001b[0m\u001b[0;34m\u001b[0m\u001b[0;34m\u001b[0m\u001b[0m\n\u001b[0m",
            "\u001b[0;31mTypeError\u001b[0m: 'str' object does not support item assignment"
          ]
        }
      ]
    },
    {
      "cell_type": "code",
      "metadata": {
        "id": "7RpH2J6ihE8M"
      },
      "source": [
        "del myString # delete complete string"
      ],
      "execution_count": 36,
      "outputs": []
    },
    {
      "cell_type": "code",
      "metadata": {
        "id": "RZySm2jUhE8P",
        "outputId": "cfe1fed2-45ec-45ba-e5d4-cb1f3bc7c765",
        "colab": {
          "base_uri": "https://localhost:8080/",
          "height": 172
        }
      },
      "source": [
        "print(myString)"
      ],
      "execution_count": 37,
      "outputs": [
        {
          "output_type": "error",
          "ename": "NameError",
          "evalue": "ignored",
          "traceback": [
            "\u001b[0;31m---------------------------------------------------------------------------\u001b[0m",
            "\u001b[0;31mNameError\u001b[0m                                 Traceback (most recent call last)",
            "\u001b[0;32m<ipython-input-37-13235c81a0c6>\u001b[0m in \u001b[0;36m<module>\u001b[0;34m()\u001b[0m\n\u001b[0;32m----> 1\u001b[0;31m \u001b[0mprint\u001b[0m\u001b[0;34m(\u001b[0m\u001b[0mmyString\u001b[0m\u001b[0;34m)\u001b[0m\u001b[0;34m\u001b[0m\u001b[0;34m\u001b[0m\u001b[0m\n\u001b[0m",
            "\u001b[0;31mNameError\u001b[0m: name 'myString' is not defined"
          ]
        }
      ]
    },
    {
      "cell_type": "markdown",
      "metadata": {
        "id": "poQdP8CehE8S"
      },
      "source": [
        "##### **Concatenation**"
      ]
    },
    {
      "cell_type": "markdown",
      "metadata": {
        "id": "rHk545uhhE8T"
      },
      "source": [
        "Joining of two or more strings into a single one is called concatenation.\n",
        "\n",
        "The + operator does this in Python. Simply writing two string literals together also concatenates them.\n",
        "\n",
        "The * operator can be used to repeat the string for a given number of times."
      ]
    },
    {
      "cell_type": "code",
      "metadata": {
        "id": "gZ6Pu4sjhE8T",
        "outputId": "0c629e74-1685-49bc-c523-7bd2b6f9508d",
        "colab": {
          "base_uri": "https://localhost:8080/",
          "height": 53
        }
      },
      "source": [
        "s1 = \"Hello \"\n",
        "s2 = \"Krystal\"\n",
        "\n",
        "#concatenation of 2 strings\n",
        "print(s1 + s2)\n",
        "\n",
        "#repeat string n times\n",
        "print(s1 * 3)"
      ],
      "execution_count": 38,
      "outputs": [
        {
          "output_type": "stream",
          "text": [
            "Hello Krystal\n",
            "Hello Hello Hello \n"
          ],
          "name": "stdout"
        }
      ]
    },
    {
      "cell_type": "markdown",
      "metadata": {
        "id": "QrxkJuu_hE8W"
      },
      "source": [
        "##### **Iterating Through String**"
      ]
    },
    {
      "cell_type": "code",
      "metadata": {
        "id": "2LMs4m-FhE8W",
        "outputId": "06742241-71d4-44fa-b3ee-3cff88939ba5",
        "colab": {
          "base_uri": "https://localhost:8080/",
          "height": 35
        }
      },
      "source": [
        "count = 0\n",
        "for l in \"Hello World\":\n",
        "    if l == 'o':\n",
        "        count += 1\n",
        "print(count, ' letters found')"
      ],
      "execution_count": 39,
      "outputs": [
        {
          "output_type": "stream",
          "text": [
            "2  letters found\n"
          ],
          "name": "stdout"
        }
      ]
    },
    {
      "cell_type": "markdown",
      "metadata": {
        "id": "XHZaNQnwhE8Z"
      },
      "source": [
        "##### **String Membership Test**"
      ]
    },
    {
      "cell_type": "code",
      "metadata": {
        "id": "D7oV4dNnhE8Z",
        "outputId": "9e2f6e91-0f70-4f48-f0ab-6db0349d55f8",
        "colab": {
          "base_uri": "https://localhost:8080/",
          "height": 35
        }
      },
      "source": [
        "print('l' in 'Hello World') #in operator to test membership"
      ],
      "execution_count": 40,
      "outputs": [
        {
          "output_type": "stream",
          "text": [
            "True\n"
          ],
          "name": "stdout"
        }
      ]
    },
    {
      "cell_type": "code",
      "metadata": {
        "id": "6FVuzOV_hE8c",
        "outputId": "fcf346b0-6090-423f-f575-6bd50062c230",
        "colab": {
          "base_uri": "https://localhost:8080/",
          "height": 35
        }
      },
      "source": [
        "print('or' in 'Hello World')"
      ],
      "execution_count": 41,
      "outputs": [
        {
          "output_type": "stream",
          "text": [
            "True\n"
          ],
          "name": "stdout"
        }
      ]
    },
    {
      "cell_type": "markdown",
      "metadata": {
        "id": "VuN7fi7lhE8e"
      },
      "source": [
        "##### **String Methods**"
      ]
    },
    {
      "cell_type": "markdown",
      "metadata": {
        "id": "QSUJn4O3hE8f"
      },
      "source": [
        "Some of the commonly used methods are lower(), upper(), join(), split(), find(), replace() etc\n"
      ]
    },
    {
      "cell_type": "code",
      "metadata": {
        "id": "wW-v1ReXhE8f",
        "outputId": "3c7aedc9-1c20-4c6b-fcf9-4b9f8c856d43",
        "colab": {
          "base_uri": "https://localhost:8080/",
          "height": 35
        }
      },
      "source": [
        "\"Hello\".lower()"
      ],
      "execution_count": 42,
      "outputs": [
        {
          "output_type": "execute_result",
          "data": {
            "application/vnd.google.colaboratory.intrinsic+json": {
              "type": "string"
            },
            "text/plain": [
              "'hello'"
            ]
          },
          "metadata": {
            "tags": []
          },
          "execution_count": 42
        }
      ]
    },
    {
      "cell_type": "code",
      "metadata": {
        "id": "aB38CIkrhE8i",
        "outputId": "97fe44f2-b62d-45d9-a294-38192bebf1dd",
        "colab": {
          "base_uri": "https://localhost:8080/",
          "height": 35
        }
      },
      "source": [
        "\"Hello\".upper()"
      ],
      "execution_count": 43,
      "outputs": [
        {
          "output_type": "execute_result",
          "data": {
            "application/vnd.google.colaboratory.intrinsic+json": {
              "type": "string"
            },
            "text/plain": [
              "'HELLO'"
            ]
          },
          "metadata": {
            "tags": []
          },
          "execution_count": 43
        }
      ]
    },
    {
      "cell_type": "code",
      "metadata": {
        "id": "N7ZRrOxEhE8m",
        "outputId": "bbc4c2ee-588f-41e2-fd86-a112e897f11a",
        "colab": {
          "base_uri": "https://localhost:8080/",
          "height": 35
        }
      },
      "source": [
        "\"This will split all words in a list\".split()"
      ],
      "execution_count": 44,
      "outputs": [
        {
          "output_type": "execute_result",
          "data": {
            "text/plain": [
              "['This', 'will', 'split', 'all', 'words', 'in', 'a', 'list']"
            ]
          },
          "metadata": {
            "tags": []
          },
          "execution_count": 44
        }
      ]
    },
    {
      "cell_type": "code",
      "metadata": {
        "id": "m5YE80dGhE8o",
        "outputId": "29090979-c072-41fc-fbec-39d2d45dec11",
        "colab": {
          "base_uri": "https://localhost:8080/",
          "height": 35
        }
      },
      "source": [
        "' '.join(['This', 'will', 'split', 'all', 'words', 'in', 'a', 'list'])"
      ],
      "execution_count": 45,
      "outputs": [
        {
          "output_type": "execute_result",
          "data": {
            "application/vnd.google.colaboratory.intrinsic+json": {
              "type": "string"
            },
            "text/plain": [
              "'This will split all words in a list'"
            ]
          },
          "metadata": {
            "tags": []
          },
          "execution_count": 45
        }
      ]
    },
    {
      "cell_type": "code",
      "metadata": {
        "id": "FUReleSPhE8q",
        "outputId": "9a098da0-25a9-4b84-8a79-4cfb8becf6d7",
        "colab": {
          "base_uri": "https://localhost:8080/",
          "height": 35
        }
      },
      "source": [
        "\"Good Morning\".find(\"Mo\")"
      ],
      "execution_count": 46,
      "outputs": [
        {
          "output_type": "execute_result",
          "data": {
            "text/plain": [
              "5"
            ]
          },
          "metadata": {
            "tags": []
          },
          "execution_count": 46
        }
      ]
    },
    {
      "cell_type": "code",
      "metadata": {
        "id": "hjeTHYtnhE8s",
        "outputId": "1991fa71-b5a1-47c3-ff67-cfeda6cddbb3",
        "colab": {
          "base_uri": "https://localhost:8080/",
          "height": 53
        }
      },
      "source": [
        "s1 = \"Bad morning\"\n",
        "\n",
        "s2 = s1.replace(\"Bad\", \"Good\")\n",
        "\n",
        "print(s1)\n",
        "print(s2)"
      ],
      "execution_count": 47,
      "outputs": [
        {
          "output_type": "stream",
          "text": [
            "Bad morning\n",
            "Good morning\n"
          ],
          "name": "stdout"
        }
      ]
    },
    {
      "cell_type": "markdown",
      "metadata": {
        "id": "QYck-9EchE8v"
      },
      "source": [
        "#### **Python Program to Check where a String is Palindrome or not ?**"
      ]
    },
    {
      "cell_type": "code",
      "metadata": {
        "id": "I5LD3HbEhE8v",
        "outputId": "82a284dc-680a-4fb0-ecd5-16daf6cbf37b",
        "colab": {
          "base_uri": "https://localhost:8080/",
          "height": 35
        }
      },
      "source": [
        "myStr = \"Madam\"\n",
        "\n",
        "#convert entire string to either lower or upper\n",
        "myStr = myStr.lower()\n",
        "\n",
        "#reverse string\n",
        "revStr = reversed(myStr)\n",
        "\n",
        "\n",
        "#check if the string is equal to its reverse\n",
        "if list(myStr) == list(revStr):\n",
        "    print(\"Given String is palindrome\")\n",
        "else:\n",
        "    print(\"Given String is not palindrome\")\n"
      ],
      "execution_count": 48,
      "outputs": [
        {
          "output_type": "stream",
          "text": [
            "Given String is palindrome\n"
          ],
          "name": "stdout"
        }
      ]
    },
    {
      "cell_type": "markdown",
      "metadata": {
        "id": "Cj6aQhT2hE8x"
      },
      "source": [
        "#### **Python Program to Sort Words in Alphabetic Order?**"
      ]
    },
    {
      "cell_type": "code",
      "metadata": {
        "id": "knW-X8rihE8y",
        "outputId": "8d6a2a6d-0ddc-4b5a-ae82-d5781b66c1d2",
        "colab": {
          "base_uri": "https://localhost:8080/",
          "height": 161
        }
      },
      "source": [
        "myStr = \"python Program to Sort words in Alphabetic Order\"\n",
        "\n",
        "#breakdown the string into list of words\n",
        "words = myStr.split()\n",
        "\n",
        "#sort the list\n",
        "words.sort()\n",
        "\n",
        "#print Sorted words are\n",
        "for word in words:\n",
        "    print(word)"
      ],
      "execution_count": 49,
      "outputs": [
        {
          "output_type": "stream",
          "text": [
            "Alphabetic\n",
            "Order\n",
            "Program\n",
            "Sort\n",
            "in\n",
            "python\n",
            "to\n",
            "words\n"
          ],
          "name": "stdout"
        }
      ]
    },
    {
      "cell_type": "markdown",
      "metadata": {
        "id": "suNPMtg3bUmS"
      },
      "source": [
        "## **Python Data Structure**"
      ]
    },
    {
      "cell_type": "markdown",
      "metadata": {
        "id": "T_jjzWPhYs5_"
      },
      "source": [
        "### **Python List**"
      ]
    },
    {
      "cell_type": "markdown",
      "metadata": {
        "id": "aWDWHDL7Ys6A"
      },
      "source": [
        "List is an ordered sequence of items. It is one of the most used datatype in Python and is very flexible. All the items in a list do not need to be of the same type.\n",
        "\n",
        "Declaring a list is , Items separated by commas are enclosed within brackets [ ]."
      ]
    },
    {
      "cell_type": "code",
      "metadata": {
        "id": "3nCshC_oYs6B",
        "outputId": "9431d092-b437-4dc8-9a66-853e2ae59f87",
        "colab": {
          "base_uri": "https://localhost:8080/",
          "height": 35
        }
      },
      "source": [
        "a = [10, 20.5, \"Hello\"]\n",
        "print(a[1])               #print 1st index element"
      ],
      "execution_count": 50,
      "outputs": [
        {
          "output_type": "stream",
          "text": [
            "20.5\n"
          ],
          "name": "stdout"
        }
      ]
    },
    {
      "cell_type": "code",
      "metadata": {
        "id": "Hewr-UmZYs6D",
        "outputId": "98a054be-9739-4de9-c0cb-1572c5cad16a",
        "colab": {
          "base_uri": "https://localhost:8080/",
          "height": 35
        }
      },
      "source": [
        "a[1] = 30.7\n",
        "print(a)"
      ],
      "execution_count": 51,
      "outputs": [
        {
          "output_type": "stream",
          "text": [
            "[10, 30.7, 'Hello']\n"
          ],
          "name": "stdout"
        }
      ]
    },
    {
      "cell_type": "markdown",
      "metadata": {
        "id": "jttV9ckMYs6I"
      },
      "source": [
        "#### **Lists**"
      ]
    },
    {
      "cell_type": "markdown",
      "metadata": {
        "id": "hnwbqbjiYs6J"
      },
      "source": [
        "Data Structure:\n",
        "\n",
        "A data structure is a collection of data elements (such as numbers or characters—or even other data structures) that is structured in some way, for example, by numbering the elements. The most basic data structure in Python is the \"sequence\".\n",
        "\n",
        "-> List is one of the Sequence Data structure\n",
        "\n",
        "-> Lists are collection of items (Strings, integers or even other lists)\n",
        "\n",
        "-> Lists are enclosed in [ ]\n",
        "\n",
        "-> Each item in the list has an assigned index value.\n",
        "\n",
        "-> Each item in a list is separated by a comma\n",
        "\n",
        "-> Lists are mutable, which means they can be changed."
      ]
    },
    {
      "cell_type": "markdown",
      "metadata": {
        "id": "_9GJr81HYs6K"
      },
      "source": [
        "#### **List Creation**"
      ]
    },
    {
      "cell_type": "code",
      "metadata": {
        "id": "HbkTO9DYYs6K",
        "outputId": "f7da1115-9b07-4e01-ee2f-b430f3b6dd2d",
        "colab": {
          "base_uri": "https://localhost:8080/",
          "height": 35
        }
      },
      "source": [
        "emptyList = []\n",
        "\n",
        "lst = ['one', 'two', 'three', 'four'] # list of strings\n",
        "\n",
        "lst2 = [1, 2, 3, 4] #list of integers\n",
        "\n",
        "lst3 = [[1, 2], [3, 4]] # list of lists\n",
        "\n",
        "lst4 = [1, 'ramu', 24, 1.24] # list of different datatypes\n",
        "\n",
        "print(lst4)\n"
      ],
      "execution_count": 52,
      "outputs": [
        {
          "output_type": "stream",
          "text": [
            "[1, 'ramu', 24, 1.24]\n"
          ],
          "name": "stdout"
        }
      ]
    },
    {
      "cell_type": "markdown",
      "metadata": {
        "id": "CnYRo3RaYs6N"
      },
      "source": [
        "#### **List Length**"
      ]
    },
    {
      "cell_type": "code",
      "metadata": {
        "id": "oQb8uECaYs6O",
        "outputId": "be3e3315-2677-4537-fc0e-d4f8f590af38",
        "colab": {
          "base_uri": "https://localhost:8080/",
          "height": 35
        }
      },
      "source": [
        "lst = ['one', 'two', 'three', 'four']\n",
        "\n",
        "#find length of a list\n",
        "print(len(lst))"
      ],
      "execution_count": 53,
      "outputs": [
        {
          "output_type": "stream",
          "text": [
            "4\n"
          ],
          "name": "stdout"
        }
      ]
    },
    {
      "cell_type": "markdown",
      "metadata": {
        "id": "HewZ3frKYs6R"
      },
      "source": [
        "#### **List Append**"
      ]
    },
    {
      "cell_type": "code",
      "metadata": {
        "id": "Mb5380mpYs6T",
        "outputId": "9d46658c-fa46-405e-ed61-35ddb197a5cf",
        "colab": {
          "base_uri": "https://localhost:8080/",
          "height": 35
        }
      },
      "source": [
        "lst = ['one', 'two', 'three', 'four']\n",
        "\n",
        "lst.append('five') # append will add the item at the end\n",
        "\n",
        "print(lst)"
      ],
      "execution_count": 54,
      "outputs": [
        {
          "output_type": "stream",
          "text": [
            "['one', 'two', 'three', 'four', 'five']\n"
          ],
          "name": "stdout"
        }
      ]
    },
    {
      "cell_type": "markdown",
      "metadata": {
        "id": "AgX8mv2qYs6W"
      },
      "source": [
        "#### **List Insert**"
      ]
    },
    {
      "cell_type": "code",
      "metadata": {
        "id": "QQOCKS9zYs6W",
        "outputId": "26dd53de-9af0-48c8-fcb8-7d0eb3af5a78",
        "colab": {
          "base_uri": "https://localhost:8080/",
          "height": 35
        }
      },
      "source": [
        "#syntax: lst.insert(x, y) \n",
        "\n",
        "lst = ['one', 'two', 'four']\n",
        "\n",
        "lst.insert(2, \"three\") # will add element y at location x\n",
        "\n",
        "print(lst)\n"
      ],
      "execution_count": 55,
      "outputs": [
        {
          "output_type": "stream",
          "text": [
            "['one', 'two', 'three', 'four']\n"
          ],
          "name": "stdout"
        }
      ]
    },
    {
      "cell_type": "markdown",
      "metadata": {
        "id": "rpW4Y6nAYs6a"
      },
      "source": [
        "#### **List Remove**"
      ]
    },
    {
      "cell_type": "code",
      "metadata": {
        "id": "wWqKq9HmYs6a",
        "outputId": "ed51ac3f-0806-4bfb-b4de-3fd722a90c1a",
        "colab": {
          "base_uri": "https://localhost:8080/",
          "height": 35
        }
      },
      "source": [
        "#syntax: lst.remove(x) \n",
        "\n",
        "lst = ['one', 'two', 'three', 'four', 'two']\n",
        "\n",
        "lst.remove('two') #it will remove first occurence of 'two' in a given list\n",
        "\n",
        "print(lst)"
      ],
      "execution_count": 56,
      "outputs": [
        {
          "output_type": "stream",
          "text": [
            "['one', 'three', 'four', 'two']\n"
          ],
          "name": "stdout"
        }
      ]
    },
    {
      "cell_type": "markdown",
      "metadata": {
        "id": "9psg7sTQYs6d"
      },
      "source": [
        "#### **List Append & Extend**"
      ]
    },
    {
      "cell_type": "code",
      "metadata": {
        "id": "kwyLp6KVYs6e",
        "outputId": "84c4685d-fadd-45e5-eb19-e20066333094",
        "colab": {
          "base_uri": "https://localhost:8080/",
          "height": 35
        }
      },
      "source": [
        "lst = ['one', 'two', 'three', 'four']\n",
        "\n",
        "lst2 = ['five', 'six']\n",
        "\n",
        "#append \n",
        "lst.append(lst2)\n",
        "\n",
        "print(lst)"
      ],
      "execution_count": 57,
      "outputs": [
        {
          "output_type": "stream",
          "text": [
            "['one', 'two', 'three', 'four', ['five', 'six']]\n"
          ],
          "name": "stdout"
        }
      ]
    },
    {
      "cell_type": "code",
      "metadata": {
        "id": "eXtr2TOwYs6i",
        "outputId": "f9d8c350-7474-442a-878e-eb5c8be223e3",
        "colab": {
          "base_uri": "https://localhost:8080/",
          "height": 35
        }
      },
      "source": [
        "lst = ['one', 'two', 'three', 'four']\n",
        "\n",
        "lst2 = ['five', 'six']\n",
        "\n",
        "#extend will join the list with list1\n",
        "\n",
        "lst.extend(lst2)\n",
        "\n",
        "print(lst)"
      ],
      "execution_count": 58,
      "outputs": [
        {
          "output_type": "stream",
          "text": [
            "['one', 'two', 'three', 'four', 'five', 'six']\n"
          ],
          "name": "stdout"
        }
      ]
    },
    {
      "cell_type": "markdown",
      "metadata": {
        "id": "_Aoio6KRYs6l"
      },
      "source": [
        "#### **List Delete**"
      ]
    },
    {
      "cell_type": "code",
      "metadata": {
        "id": "p_xr7JWOYs6l",
        "outputId": "bc338cd0-cdaa-408f-ed52-5ba27e37d112",
        "colab": {
          "base_uri": "https://localhost:8080/",
          "height": 71
        }
      },
      "source": [
        "#del to remove item based on index position\n",
        "\n",
        "lst = ['one', 'two', 'three', 'four', 'five']\n",
        "\n",
        "del lst[1]\n",
        "print(lst)\n",
        "\n",
        "#or we can use pop() method\n",
        "a = lst.pop(1)\n",
        "print(a)\n",
        "\n",
        "print(lst)"
      ],
      "execution_count": 59,
      "outputs": [
        {
          "output_type": "stream",
          "text": [
            "['one', 'three', 'four', 'five']\n",
            "three\n",
            "['one', 'four', 'five']\n"
          ],
          "name": "stdout"
        }
      ]
    },
    {
      "cell_type": "code",
      "metadata": {
        "id": "p10ZuXEIYs6n",
        "outputId": "b0047400-028d-4289-bf6d-40578d6b4891",
        "colab": {
          "base_uri": "https://localhost:8080/",
          "height": 35
        }
      },
      "source": [
        "lst = ['one', 'two', 'three', 'four']\n",
        "\n",
        "#remove an item from list\n",
        "lst.remove('three')\n",
        "\n",
        "print(lst)"
      ],
      "execution_count": 60,
      "outputs": [
        {
          "output_type": "stream",
          "text": [
            "['one', 'two', 'four']\n"
          ],
          "name": "stdout"
        }
      ]
    },
    {
      "cell_type": "markdown",
      "metadata": {
        "id": "7-GL1XdkYs6q"
      },
      "source": [
        "#### **List related keywords in Python**"
      ]
    },
    {
      "cell_type": "code",
      "metadata": {
        "id": "qQewh7f3Ys6q",
        "outputId": "d7a9a364-8811-48ab-9f75-b4f614c7da36",
        "colab": {
          "base_uri": "https://localhost:8080/",
          "height": 53
        }
      },
      "source": [
        "#keyword 'in' is used to test if an item is in a list\n",
        "lst = ['one', 'two', 'three', 'four']\n",
        "\n",
        "if 'two' in lst:\n",
        "    print('AI')\n",
        "\n",
        "#keyword 'not' can combined with 'in'\n",
        "if 'six' not in lst:\n",
        "    print('ML')"
      ],
      "execution_count": 61,
      "outputs": [
        {
          "output_type": "stream",
          "text": [
            "AI\n",
            "ML\n"
          ],
          "name": "stdout"
        }
      ]
    },
    {
      "cell_type": "markdown",
      "metadata": {
        "id": "gRbhaAD-Ys6u"
      },
      "source": [
        "#### **List Reverse**"
      ]
    },
    {
      "cell_type": "code",
      "metadata": {
        "id": "ZIY26EUyYs6u",
        "outputId": "ddb8bbd4-5b60-4a8d-da8f-b0f457b552ea",
        "colab": {
          "base_uri": "https://localhost:8080/",
          "height": 53
        }
      },
      "source": [
        "#reverse is reverses the entire list\n",
        "\n",
        "lst = ['one', 'two', 'three', 'four']\n",
        "\n",
        "lst1 = lst[::-1]\n",
        "\n",
        "lst.reverse()\n",
        "\n",
        "print(lst)\n",
        "print(lst1)"
      ],
      "execution_count": 62,
      "outputs": [
        {
          "output_type": "stream",
          "text": [
            "['four', 'three', 'two', 'one']\n",
            "['four', 'three', 'two', 'one']\n"
          ],
          "name": "stdout"
        }
      ]
    },
    {
      "cell_type": "markdown",
      "metadata": {
        "id": "jqdu1SHPYs6y"
      },
      "source": [
        "#### **List Sorting**"
      ]
    },
    {
      "cell_type": "markdown",
      "metadata": {
        "id": "vtrmyyWFYs6z"
      },
      "source": [
        "The easiest way to sort a List is with the sorted(list) function.\n",
        "\n",
        "That takes a list and returns a new list with those elements in sorted order.\n",
        "\n",
        "The original list is not changed.\n",
        "\n",
        "The sorted() optional argument reverse=True, e.g. sorted(list, reverse=True), makes it sort backwards."
      ]
    },
    {
      "cell_type": "code",
      "metadata": {
        "id": "u6SBpm6xYs6z",
        "outputId": "311b38ac-b13b-4a9b-ffa6-fa0d01ec41ad",
        "colab": {
          "base_uri": "https://localhost:8080/",
          "height": 53
        }
      },
      "source": [
        "#create a list with numbers\n",
        "numbers = [3, 1, 6, 2, 8]\n",
        "\n",
        "sorted_lst = sorted(numbers)\n",
        "\n",
        "\n",
        "print(\"Sorted list :\", sorted_lst)\n",
        "\n",
        "#original list remain unchanged\n",
        "print(\"Original list: \", numbers)"
      ],
      "execution_count": 63,
      "outputs": [
        {
          "output_type": "stream",
          "text": [
            "Sorted list : [1, 2, 3, 6, 8]\n",
            "Original list:  [3, 1, 6, 2, 8]\n"
          ],
          "name": "stdout"
        }
      ]
    },
    {
      "cell_type": "code",
      "metadata": {
        "id": "9pdq8nsZYs62",
        "outputId": "9aaecda4-a6bf-41c5-d5bb-033fdb84b665",
        "colab": {
          "base_uri": "https://localhost:8080/",
          "height": 53
        }
      },
      "source": [
        "#print a list in reverse sorted order\n",
        "print(\"Reverse sorted list :\", sorted(numbers, reverse=True))\n",
        "\n",
        "#orginal list remain unchanged\n",
        "print(\"Original list :\",  numbers)"
      ],
      "execution_count": 64,
      "outputs": [
        {
          "output_type": "stream",
          "text": [
            "Reverse sorted list : [8, 6, 3, 2, 1]\n",
            "Original list : [3, 1, 6, 2, 8]\n"
          ],
          "name": "stdout"
        }
      ]
    },
    {
      "cell_type": "code",
      "metadata": {
        "id": "Z2c8LlV8Ys68",
        "outputId": "8ebcec18-9fd6-4cf9-c3cd-7bce0cc0ece8",
        "colab": {
          "base_uri": "https://localhost:8080/",
          "height": 35
        }
      },
      "source": [
        "lst = [1, 20, 5, 5, 4.2]\n",
        "\n",
        "#sort the list and stored in itself\n",
        "lst.sort()\n",
        "\n",
        "# add element 'a' to the list to show an error\n",
        "\n",
        "print(\"Sorted list: \", lst)"
      ],
      "execution_count": 65,
      "outputs": [
        {
          "output_type": "stream",
          "text": [
            "Sorted list:  [1, 4.2, 5, 5, 20]\n"
          ],
          "name": "stdout"
        }
      ]
    },
    {
      "cell_type": "code",
      "metadata": {
        "id": "_indPbmWYs7B",
        "outputId": "d3feb0af-a8e7-4eff-e06b-18d0ebbd6ab9",
        "colab": {
          "base_uri": "https://localhost:8080/",
          "height": 190
        }
      },
      "source": [
        "lst = [1, 20, 'b', 5, 'a']\n",
        "print(lst.sort()) # sort list with element of different datatypes."
      ],
      "execution_count": 66,
      "outputs": [
        {
          "output_type": "error",
          "ename": "TypeError",
          "evalue": "ignored",
          "traceback": [
            "\u001b[0;31m---------------------------------------------------------------------------\u001b[0m",
            "\u001b[0;31mTypeError\u001b[0m                                 Traceback (most recent call last)",
            "\u001b[0;32m<ipython-input-66-0354af416f5c>\u001b[0m in \u001b[0;36m<module>\u001b[0;34m()\u001b[0m\n\u001b[1;32m      1\u001b[0m \u001b[0mlst\u001b[0m \u001b[0;34m=\u001b[0m \u001b[0;34m[\u001b[0m\u001b[0;36m1\u001b[0m\u001b[0;34m,\u001b[0m \u001b[0;36m20\u001b[0m\u001b[0;34m,\u001b[0m \u001b[0;34m'b'\u001b[0m\u001b[0;34m,\u001b[0m \u001b[0;36m5\u001b[0m\u001b[0;34m,\u001b[0m \u001b[0;34m'a'\u001b[0m\u001b[0;34m]\u001b[0m\u001b[0;34m\u001b[0m\u001b[0;34m\u001b[0m\u001b[0m\n\u001b[0;32m----> 2\u001b[0;31m \u001b[0mprint\u001b[0m\u001b[0;34m(\u001b[0m\u001b[0mlst\u001b[0m\u001b[0;34m.\u001b[0m\u001b[0msort\u001b[0m\u001b[0;34m(\u001b[0m\u001b[0;34m)\u001b[0m\u001b[0;34m)\u001b[0m \u001b[0;31m# sort list with element of different datatypes.\u001b[0m\u001b[0;34m\u001b[0m\u001b[0;34m\u001b[0m\u001b[0m\n\u001b[0m",
            "\u001b[0;31mTypeError\u001b[0m: '<' not supported between instances of 'str' and 'int'"
          ]
        }
      ]
    },
    {
      "cell_type": "markdown",
      "metadata": {
        "id": "OurKf8gyYs7D"
      },
      "source": [
        "#### **List Having Multiple References**"
      ]
    },
    {
      "cell_type": "code",
      "metadata": {
        "id": "OCY5UM3dYs7D",
        "outputId": "fddd9a6a-13c2-48dc-82dd-6e8c6ef5a385",
        "colab": {
          "base_uri": "https://localhost:8080/",
          "height": 35
        }
      },
      "source": [
        "lst = [1, 2, 3, 4, 5]\n",
        "abc = lst\n",
        "abc.append(6)\n",
        "\n",
        "#print original list\n",
        "print(\"Original list: \", lst)"
      ],
      "execution_count": 67,
      "outputs": [
        {
          "output_type": "stream",
          "text": [
            "Original list:  [1, 2, 3, 4, 5, 6]\n"
          ],
          "name": "stdout"
        }
      ]
    },
    {
      "cell_type": "markdown",
      "metadata": {
        "id": "7KWC2KlCYs7G"
      },
      "source": [
        "#### **String Split to create a list**"
      ]
    },
    {
      "cell_type": "code",
      "metadata": {
        "id": "LNBy-UpjYs7H",
        "outputId": "8214ac65-10a5-47bf-e9f4-fa408002cc57",
        "colab": {
          "base_uri": "https://localhost:8080/",
          "height": 35
        }
      },
      "source": [
        "#let's take a string\n",
        "\n",
        "s = \"one,two,three,four,five\"\n",
        "slst = s.split(',')\n",
        "print(slst)"
      ],
      "execution_count": 68,
      "outputs": [
        {
          "output_type": "stream",
          "text": [
            "['one', 'two', 'three', 'four', 'five']\n"
          ],
          "name": "stdout"
        }
      ]
    },
    {
      "cell_type": "code",
      "metadata": {
        "id": "0AH2L7tmYs7J",
        "outputId": "550a1a1f-90e5-4496-881a-d8a19263c80c",
        "colab": {
          "base_uri": "https://localhost:8080/",
          "height": 35
        }
      },
      "source": [
        "s = \"This is applied AI Course\"\n",
        "split_lst = s.split() # default split is white-character: space or tab\n",
        "print(split_lst)"
      ],
      "execution_count": 69,
      "outputs": [
        {
          "output_type": "stream",
          "text": [
            "['This', 'is', 'applied', 'AI', 'Course']\n"
          ],
          "name": "stdout"
        }
      ]
    },
    {
      "cell_type": "markdown",
      "metadata": {
        "id": "VxigtXxeYs7M"
      },
      "source": [
        "#### **List Indexing**"
      ]
    },
    {
      "cell_type": "markdown",
      "metadata": {
        "id": "8J6pMYa4Ys7N"
      },
      "source": [
        "Each item in the list has an assigned index value starting from 0.\n",
        "\n",
        "Accessing elements in a list is called indexing."
      ]
    },
    {
      "cell_type": "code",
      "metadata": {
        "id": "YoZy_Cx8Ys7N",
        "outputId": "c49e2920-4a50-4e25-dd17-d65739c14972",
        "colab": {
          "base_uri": "https://localhost:8080/",
          "height": 53
        }
      },
      "source": [
        "lst = [1, 2, 3, 4]\n",
        "print(lst[1]) #print second element\n",
        "\n",
        "#print last element using negative index\n",
        "print(lst[-2])"
      ],
      "execution_count": 70,
      "outputs": [
        {
          "output_type": "stream",
          "text": [
            "2\n",
            "3\n"
          ],
          "name": "stdout"
        }
      ]
    },
    {
      "cell_type": "markdown",
      "metadata": {
        "id": "-lELAs4XYs7Q"
      },
      "source": [
        "#### **List Slicing**"
      ]
    },
    {
      "cell_type": "markdown",
      "metadata": {
        "id": "NaKbbq5cYs7R"
      },
      "source": [
        "Accessing parts of segments is called slicing.\n",
        "\n",
        "The key point to remember is that the :end value represents the first value that is not in the selected slice."
      ]
    },
    {
      "cell_type": "code",
      "metadata": {
        "id": "K7ucLNuqYs7R",
        "outputId": "ddee49f4-6f15-46fd-8c6e-2a565a3a6668",
        "colab": {
          "base_uri": "https://localhost:8080/",
          "height": 53
        }
      },
      "source": [
        "numbers = [10, 20, 30, 40, 50,60,70,80]\n",
        "\n",
        "#print all numbers\n",
        "print(numbers[:]) \n",
        "\n",
        "#print from index 0 to index 3\n",
        "print(numbers[0:4])"
      ],
      "execution_count": 71,
      "outputs": [
        {
          "output_type": "stream",
          "text": [
            "[10, 20, 30, 40, 50, 60, 70, 80]\n",
            "[10, 20, 30, 40]\n"
          ],
          "name": "stdout"
        }
      ]
    },
    {
      "cell_type": "markdown",
      "metadata": {
        "id": "8W1c6bkHYs7U"
      },
      "source": [
        "#### **List extend using \"+\"**"
      ]
    },
    {
      "cell_type": "code",
      "metadata": {
        "id": "7Iz2q9E3Ys7U",
        "outputId": "c0eaa1e2-61c4-4806-8620-7f337162cb0d",
        "colab": {
          "base_uri": "https://localhost:8080/",
          "height": 35
        }
      },
      "source": [
        "lst1 = [1, 2, 3, 4]\n",
        "lst2 = ['varma', 'naveen', 'murali', 'brahma']\n",
        "new_lst = lst1 + lst2\n",
        "\n",
        "print(new_lst)"
      ],
      "execution_count": 72,
      "outputs": [
        {
          "output_type": "stream",
          "text": [
            "[1, 2, 3, 4, 'varma', 'naveen', 'murali', 'brahma']\n"
          ],
          "name": "stdout"
        }
      ]
    },
    {
      "cell_type": "markdown",
      "metadata": {
        "id": "uo5iKPzkYs7W"
      },
      "source": [
        "#### **List Count**"
      ]
    },
    {
      "cell_type": "code",
      "metadata": {
        "id": "Bc1kgeZyYs7X",
        "outputId": "b7c14d30-d7b5-42a0-be25-5fb4e53214ab",
        "colab": {
          "base_uri": "https://localhost:8080/",
          "height": 53
        }
      },
      "source": [
        "numbers = [1, 2, 3, 1, 3, 4, 2, 5]\n",
        "\n",
        "#frequency of 1 in a list\n",
        "print(numbers.count(1))\n",
        "\n",
        "#frequency of 3 in a list\n",
        "print(numbers.count(3))"
      ],
      "execution_count": 73,
      "outputs": [
        {
          "output_type": "stream",
          "text": [
            "2\n",
            "2\n"
          ],
          "name": "stdout"
        }
      ]
    },
    {
      "cell_type": "markdown",
      "metadata": {
        "id": "Qq_SVGzBYs7Y"
      },
      "source": [
        "#### **List Looping**"
      ]
    },
    {
      "cell_type": "code",
      "metadata": {
        "id": "bL-uG2fJYs7Z",
        "outputId": "0cc58532-bffc-45ea-9350-993b6b62df20",
        "colab": {
          "base_uri": "https://localhost:8080/",
          "height": 89
        }
      },
      "source": [
        "#loop through a list\n",
        "\n",
        "lst = ['one', 'two', 'three', 'four']\n",
        "\n",
        "for ele in lst:\n",
        "    print(ele)"
      ],
      "execution_count": 74,
      "outputs": [
        {
          "output_type": "stream",
          "text": [
            "one\n",
            "two\n",
            "three\n",
            "four\n"
          ],
          "name": "stdout"
        }
      ]
    },
    {
      "cell_type": "markdown",
      "metadata": {
        "id": "-KOlPAHgYs7b"
      },
      "source": [
        "#### **List Comprehensions**"
      ]
    },
    {
      "cell_type": "markdown",
      "metadata": {
        "id": "XFdGAO67Ys7b"
      },
      "source": [
        "List comprehensions provide a concise way to create lists.\n",
        "\n",
        "Common applications are to make new lists where each element is the result of some operations applied to each member of another sequence or iterable, or to create a subsequence of those elements that satisfy a certain condition."
      ]
    },
    {
      "cell_type": "code",
      "metadata": {
        "id": "AZVmYN7rYs7b",
        "outputId": "07d4d105-d5ce-4729-a029-a92780ed7349",
        "colab": {
          "base_uri": "https://localhost:8080/",
          "height": 35
        }
      },
      "source": [
        "# without list comprehension\n",
        "squares = []\n",
        "for i in range(10):\n",
        "    squares.append(i**2)   #list append\n",
        "print(squares)"
      ],
      "execution_count": 75,
      "outputs": [
        {
          "output_type": "stream",
          "text": [
            "[0, 1, 4, 9, 16, 25, 36, 49, 64, 81]\n"
          ],
          "name": "stdout"
        }
      ]
    },
    {
      "cell_type": "code",
      "metadata": {
        "id": "JlAYyU0mYs7d",
        "outputId": "ecde534b-df00-407c-cfaf-ac72ec31d58d",
        "colab": {
          "base_uri": "https://localhost:8080/",
          "height": 35
        }
      },
      "source": [
        "#using list comprehension\n",
        "squares = [i**2 for i in range(10)]\n",
        "print(squares)"
      ],
      "execution_count": 76,
      "outputs": [
        {
          "output_type": "stream",
          "text": [
            "[0, 1, 4, 9, 16, 25, 36, 49, 64, 81]\n"
          ],
          "name": "stdout"
        }
      ]
    },
    {
      "cell_type": "code",
      "metadata": {
        "id": "NrgsEk9lYs7g",
        "outputId": "dd0ab24f-ec61-4fcd-91d6-5669828efa1c",
        "colab": {
          "base_uri": "https://localhost:8080/",
          "height": 71
        }
      },
      "source": [
        "#example\n",
        "\n",
        "lst = [-10, -20, 10, 20, 50]\n",
        "\n",
        "#create a new list with values doubled\n",
        "new_lst = [i*2 for i in lst]\n",
        "print(new_lst)\n",
        "\n",
        "#filter the list to exclude negative numbers\n",
        "new_lst = [i for i in lst if i >= 0]\n",
        "print(new_lst)\n",
        "\n",
        "\n",
        "#create a list of tuples like (number, square_of_number)\n",
        "new_lst = [(i, i**2) for i in range(10)]\n",
        "print(new_lst)"
      ],
      "execution_count": 77,
      "outputs": [
        {
          "output_type": "stream",
          "text": [
            "[-20, -40, 20, 40, 100]\n",
            "[10, 20, 50]\n",
            "[(0, 0), (1, 1), (2, 4), (3, 9), (4, 16), (5, 25), (6, 36), (7, 49), (8, 64), (9, 81)]\n"
          ],
          "name": "stdout"
        }
      ]
    },
    {
      "cell_type": "markdown",
      "metadata": {
        "id": "kp4HbWy6Ys7i"
      },
      "source": [
        "#### **Nested List Comprehensions**"
      ]
    },
    {
      "cell_type": "code",
      "metadata": {
        "id": "OkRLwnH5Ys7i",
        "outputId": "c2fda677-544c-4068-a2c5-8545a569cbf5",
        "colab": {
          "base_uri": "https://localhost:8080/",
          "height": 35
        }
      },
      "source": [
        "# Python Transpose of matrix\n",
        "#let's suppose we have a matrix\n",
        "\n",
        "matrix = [\n",
        "    [1, 2, 3, 4],\n",
        "    [5, 6, 7, 8],\n",
        "    [9, 10, 11, 12]\n",
        "]\n",
        "\n",
        "#transpose of a matrix without list comprehension\n",
        "transposed = []\n",
        "for i in range(4):\n",
        "    lst = []\n",
        "    for row in matrix:\n",
        "        lst.append(row[i])\n",
        "    transposed.append(lst)\n",
        "\n",
        "print(transposed)"
      ],
      "execution_count": 78,
      "outputs": [
        {
          "output_type": "stream",
          "text": [
            "[[1, 5, 9], [2, 6, 10], [3, 7, 11], [4, 8, 12]]\n"
          ],
          "name": "stdout"
        }
      ]
    },
    {
      "cell_type": "code",
      "metadata": {
        "id": "9_sHYXWIYs7k",
        "outputId": "8e651c91-55cb-48b2-ffe8-96f9e82fee31",
        "colab": {
          "base_uri": "https://localhost:8080/",
          "height": 35
        }
      },
      "source": [
        "#with list comprehension\n",
        "transposed = [[row[i] for row in matrix] for i in range(4)]\n",
        "print(transposed)"
      ],
      "execution_count": 79,
      "outputs": [
        {
          "output_type": "stream",
          "text": [
            "[[1, 5, 9], [2, 6, 10], [3, 7, 11], [4, 8, 12]]\n"
          ],
          "name": "stdout"
        }
      ]
    },
    {
      "cell_type": "markdown",
      "metadata": {
        "id": "vFaOgth4Ys7p"
      },
      "source": [
        "### **Python Tuple**"
      ]
    },
    {
      "cell_type": "markdown",
      "metadata": {
        "id": "OQbCgVmIYs7p"
      },
      "source": [
        "Tuple is an ordered sequence of items same as list.The only difference is that tuples are immutable. Tuples once created cannot be modified."
      ]
    },
    {
      "cell_type": "code",
      "metadata": {
        "id": "T1pe3ovkYs7p"
      },
      "source": [
        "t = (1, 1.5, \"ML\")"
      ],
      "execution_count": 80,
      "outputs": []
    },
    {
      "cell_type": "code",
      "metadata": {
        "id": "xbd6rVjkYs7u",
        "outputId": "a6aab751-f446-45c0-dd9c-4778dc79adc7",
        "colab": {
          "base_uri": "https://localhost:8080/",
          "height": 35
        }
      },
      "source": [
        "print(t[1]) #extract particular element"
      ],
      "execution_count": 81,
      "outputs": [
        {
          "output_type": "stream",
          "text": [
            "1.5\n"
          ],
          "name": "stdout"
        }
      ]
    },
    {
      "cell_type": "code",
      "metadata": {
        "id": "jfMiDKp0Ys7x",
        "outputId": "5b6689ee-3a54-4d05-ffa6-c019b1c85b01",
        "colab": {
          "base_uri": "https://localhost:8080/",
          "height": 172
        }
      },
      "source": [
        "t[1] = 1.25"
      ],
      "execution_count": 82,
      "outputs": [
        {
          "output_type": "error",
          "ename": "TypeError",
          "evalue": "ignored",
          "traceback": [
            "\u001b[0;31m---------------------------------------------------------------------------\u001b[0m",
            "\u001b[0;31mTypeError\u001b[0m                                 Traceback (most recent call last)",
            "\u001b[0;32m<ipython-input-82-826a3e5c5c91>\u001b[0m in \u001b[0;36m<module>\u001b[0;34m()\u001b[0m\n\u001b[0;32m----> 1\u001b[0;31m \u001b[0mt\u001b[0m\u001b[0;34m[\u001b[0m\u001b[0;36m1\u001b[0m\u001b[0;34m]\u001b[0m \u001b[0;34m=\u001b[0m \u001b[0;36m1.25\u001b[0m\u001b[0;34m\u001b[0m\u001b[0;34m\u001b[0m\u001b[0m\n\u001b[0m",
            "\u001b[0;31mTypeError\u001b[0m: 'tuple' object does not support item assignment"
          ]
        }
      ]
    },
    {
      "cell_type": "markdown",
      "metadata": {
        "id": "pS3eX8TeYs7z"
      },
      "source": [
        "#### **Tuples**"
      ]
    },
    {
      "cell_type": "markdown",
      "metadata": {
        "id": "Epe84UQCYs7z"
      },
      "source": [
        "-> A tuple is similar to list\n",
        "\n",
        "-> The diffence between the two is that we can't change the elements of tuple once it is assigned whereas in the list, elements can be changed"
      ]
    },
    {
      "cell_type": "markdown",
      "metadata": {
        "id": "3GCLPa6HYs70"
      },
      "source": [
        "#### **Tuple creation**"
      ]
    },
    {
      "cell_type": "code",
      "metadata": {
        "id": "EBTttQjSYs70",
        "outputId": "18d93d18-7752-4376-b888-7424fee440c5",
        "colab": {
          "base_uri": "https://localhost:8080/",
          "height": 71
        }
      },
      "source": [
        "#empty tuple\n",
        "t = ()\n",
        "\n",
        "#tuple having integers\n",
        "t = (1, 2, 3)\n",
        "print(t)\n",
        "\n",
        "#tuple with mixed datatypes\n",
        "t = (1, 'raju', 28, 'abc')\n",
        "print(t)\n",
        "\n",
        "#nested tuple\n",
        "t = (1, (2, 3, 4), [1, 'raju', 28, 'abc'])\n",
        "print(t)"
      ],
      "execution_count": 83,
      "outputs": [
        {
          "output_type": "stream",
          "text": [
            "(1, 2, 3)\n",
            "(1, 'raju', 28, 'abc')\n",
            "(1, (2, 3, 4), [1, 'raju', 28, 'abc'])\n"
          ],
          "name": "stdout"
        }
      ]
    },
    {
      "cell_type": "code",
      "metadata": {
        "id": "Nxkyww8xYs72",
        "outputId": "e72530f9-4bdd-4b0b-9d28-73dca62d43ed",
        "colab": {
          "base_uri": "https://localhost:8080/",
          "height": 35
        }
      },
      "source": [
        "#only parenthesis is not enough\n",
        "t = ('krystal')\n",
        "type(t)"
      ],
      "execution_count": 84,
      "outputs": [
        {
          "output_type": "execute_result",
          "data": {
            "text/plain": [
              "str"
            ]
          },
          "metadata": {
            "tags": []
          },
          "execution_count": 84
        }
      ]
    },
    {
      "cell_type": "code",
      "metadata": {
        "id": "kN4txNuYYs74",
        "outputId": "022e281a-3f70-4c26-9096-5e3f66ca35e7",
        "colab": {
          "base_uri": "https://localhost:8080/",
          "height": 35
        }
      },
      "source": [
        "#need a comma at the end\n",
        "t = ('krystal',)\n",
        "type(t)"
      ],
      "execution_count": 85,
      "outputs": [
        {
          "output_type": "execute_result",
          "data": {
            "text/plain": [
              "tuple"
            ]
          },
          "metadata": {
            "tags": []
          },
          "execution_count": 85
        }
      ]
    },
    {
      "cell_type": "code",
      "metadata": {
        "id": "tXUIfwECYs76",
        "outputId": "bc8f4ded-fe9e-4661-ce99-34e41a09f029",
        "colab": {
          "base_uri": "https://localhost:8080/",
          "height": 53
        }
      },
      "source": [
        "#parenthesis is optional\n",
        "t = \"krystal\", \n",
        "print(type(t))\n",
        "print(t)"
      ],
      "execution_count": 86,
      "outputs": [
        {
          "output_type": "stream",
          "text": [
            "<class 'tuple'>\n",
            "('krystal',)\n"
          ],
          "name": "stdout"
        }
      ]
    },
    {
      "cell_type": "markdown",
      "metadata": {
        "id": "LEXC1I_UYs77"
      },
      "source": [
        "#### **Accessing Elements in Tuple**"
      ]
    },
    {
      "cell_type": "code",
      "metadata": {
        "id": "CAK20_KOYs78",
        "outputId": "b34c923d-0d60-465e-fc71-d9017259a949",
        "colab": {
          "base_uri": "https://localhost:8080/",
          "height": 35
        }
      },
      "source": [
        "t = ('krystal', 'lucifer', 'Ultimatenoob', 'Hotdude', 'Warlock')\n",
        "\n",
        "print(t[1])"
      ],
      "execution_count": 87,
      "outputs": [
        {
          "output_type": "stream",
          "text": [
            "lucifer\n"
          ],
          "name": "stdout"
        }
      ]
    },
    {
      "cell_type": "code",
      "metadata": {
        "id": "8EX06XkPYs7_",
        "outputId": "b1baf296-8b48-45ea-ef1c-dee800ead20b",
        "colab": {
          "base_uri": "https://localhost:8080/",
          "height": 35
        }
      },
      "source": [
        "#negative index\n",
        "print(t[-1]) #print last element in a tuple"
      ],
      "execution_count": 88,
      "outputs": [
        {
          "output_type": "stream",
          "text": [
            "Warlock\n"
          ],
          "name": "stdout"
        }
      ]
    },
    {
      "cell_type": "code",
      "metadata": {
        "id": "kvICzHr5Ys8B",
        "outputId": "fc3499b8-36d0-47d6-9450-e910b4e032f9",
        "colab": {
          "base_uri": "https://localhost:8080/",
          "height": 35
        }
      },
      "source": [
        "#nested tuple\n",
        "t = ('ABC', ('krystal', 'Ultimatenoob', 'Warlock'))\n",
        "\n",
        "print(t[1])"
      ],
      "execution_count": 89,
      "outputs": [
        {
          "output_type": "stream",
          "text": [
            "('krystal', 'Ultimatenoob', 'Warlock')\n"
          ],
          "name": "stdout"
        }
      ]
    },
    {
      "cell_type": "code",
      "metadata": {
        "id": "vuylOMwoYs8D",
        "outputId": "f8b4b164-2471-400b-94e6-82ce1bb0090e",
        "colab": {
          "base_uri": "https://localhost:8080/",
          "height": 35
        }
      },
      "source": [
        "print(t[1][2])"
      ],
      "execution_count": 90,
      "outputs": [
        {
          "output_type": "stream",
          "text": [
            "Warlock\n"
          ],
          "name": "stdout"
        }
      ]
    },
    {
      "cell_type": "code",
      "metadata": {
        "id": "fmP89DhTYs8F",
        "outputId": "512dfb36-b425-42a7-a53b-02ffbb68f676",
        "colab": {
          "base_uri": "https://localhost:8080/",
          "height": 71
        }
      },
      "source": [
        "#Slicing\n",
        "t = (1, 2, 3, 4, 5, 6)\n",
        "\n",
        "print(t[1:4])\n",
        "\n",
        "#print elements from starting to 2nd last elements\n",
        "print(t[:-2])\n",
        "\n",
        "#print elements from starting to end\n",
        "print(t[:])"
      ],
      "execution_count": 91,
      "outputs": [
        {
          "output_type": "stream",
          "text": [
            "(2, 3, 4)\n",
            "(1, 2, 3, 4)\n",
            "(1, 2, 3, 4, 5, 6)\n"
          ],
          "name": "stdout"
        }
      ]
    },
    {
      "cell_type": "markdown",
      "metadata": {
        "id": "-rAtEyhgYs8H"
      },
      "source": [
        "#### **Changing a Tuple**"
      ]
    },
    {
      "cell_type": "markdown",
      "metadata": {
        "id": "G6hwVfKvYs8I"
      },
      "source": [
        "-> unlike lists, tuples are immutable\n",
        "\n",
        "-> This means that elements of a tuple cannot be changed once it has been assigned. But, if the element is itself a mutable datatype like list, its nested items can be changed."
      ]
    },
    {
      "cell_type": "code",
      "metadata": {
        "id": "zOV63YT7Ys8I",
        "outputId": "06164081-e69e-45a5-f9c9-74874bfbcafd",
        "colab": {
          "base_uri": "https://localhost:8080/",
          "height": 208
        }
      },
      "source": [
        "#creating tuple\n",
        "t = (1, 2, 3, 4, [5, 6, 7])\n",
        "\n",
        "t[2] = 'x' #will get TypeError"
      ],
      "execution_count": 92,
      "outputs": [
        {
          "output_type": "error",
          "ename": "TypeError",
          "evalue": "ignored",
          "traceback": [
            "\u001b[0;31m---------------------------------------------------------------------------\u001b[0m",
            "\u001b[0;31mTypeError\u001b[0m                                 Traceback (most recent call last)",
            "\u001b[0;32m<ipython-input-92-1fb87c1270c4>\u001b[0m in \u001b[0;36m<module>\u001b[0;34m()\u001b[0m\n\u001b[1;32m      2\u001b[0m \u001b[0mt\u001b[0m \u001b[0;34m=\u001b[0m \u001b[0;34m(\u001b[0m\u001b[0;36m1\u001b[0m\u001b[0;34m,\u001b[0m \u001b[0;36m2\u001b[0m\u001b[0;34m,\u001b[0m \u001b[0;36m3\u001b[0m\u001b[0;34m,\u001b[0m \u001b[0;36m4\u001b[0m\u001b[0;34m,\u001b[0m \u001b[0;34m[\u001b[0m\u001b[0;36m5\u001b[0m\u001b[0;34m,\u001b[0m \u001b[0;36m6\u001b[0m\u001b[0;34m,\u001b[0m \u001b[0;36m7\u001b[0m\u001b[0;34m]\u001b[0m\u001b[0;34m)\u001b[0m\u001b[0;34m\u001b[0m\u001b[0;34m\u001b[0m\u001b[0m\n\u001b[1;32m      3\u001b[0m \u001b[0;34m\u001b[0m\u001b[0m\n\u001b[0;32m----> 4\u001b[0;31m \u001b[0mt\u001b[0m\u001b[0;34m[\u001b[0m\u001b[0;36m2\u001b[0m\u001b[0;34m]\u001b[0m \u001b[0;34m=\u001b[0m \u001b[0;34m'x'\u001b[0m \u001b[0;31m#will get TypeError\u001b[0m\u001b[0;34m\u001b[0m\u001b[0;34m\u001b[0m\u001b[0m\n\u001b[0m",
            "\u001b[0;31mTypeError\u001b[0m: 'tuple' object does not support item assignment"
          ]
        }
      ]
    },
    {
      "cell_type": "code",
      "metadata": {
        "id": "S8cv-7qGYs8J",
        "outputId": "cf613691-5281-4b58-99ad-1139f015f29a",
        "colab": {
          "base_uri": "https://localhost:8080/",
          "height": 35
        }
      },
      "source": [
        "t[4][1] = 'krystal'\n",
        "print(t)"
      ],
      "execution_count": 93,
      "outputs": [
        {
          "output_type": "stream",
          "text": [
            "(1, 2, 3, 4, [5, 'krystal', 7])\n"
          ],
          "name": "stdout"
        }
      ]
    },
    {
      "cell_type": "code",
      "metadata": {
        "id": "ygZeKuFOYs8L",
        "outputId": "209b9602-a9cb-4b31-e6e5-e52cf9590127",
        "colab": {
          "base_uri": "https://localhost:8080/",
          "height": 35
        }
      },
      "source": [
        "#concatinating tuples\n",
        "\n",
        "t = (1, 2, 3) + (4, 5, 6)\n",
        "print(t)"
      ],
      "execution_count": 94,
      "outputs": [
        {
          "output_type": "stream",
          "text": [
            "(1, 2, 3, 4, 5, 6)\n"
          ],
          "name": "stdout"
        }
      ]
    },
    {
      "cell_type": "code",
      "metadata": {
        "id": "4onP9FoAYs8N",
        "outputId": "4d36af5a-2a8e-494e-f6ce-3566aa6a2b07",
        "colab": {
          "base_uri": "https://localhost:8080/",
          "height": 35
        }
      },
      "source": [
        "#repeat the elements in a tuple for a given number of times using the * operator.\n",
        "t = (('krystal', ) * 4)\n",
        "print(t)"
      ],
      "execution_count": 95,
      "outputs": [
        {
          "output_type": "stream",
          "text": [
            "('krystal', 'krystal', 'krystal', 'krystal')\n"
          ],
          "name": "stdout"
        }
      ]
    },
    {
      "cell_type": "markdown",
      "metadata": {
        "id": "_hJaGO34Ys8P"
      },
      "source": [
        "#### **Tuple Deletion**"
      ]
    },
    {
      "cell_type": "code",
      "metadata": {
        "id": "WRSsfFs-Ys8P"
      },
      "source": [
        "#we cannot change the elements in a tuple. \n",
        "# That also means we cannot delete or remove items from a tuple.\n",
        "\n",
        "#delete entire tuple using del keyword\n",
        "t = (1, 2, 3, 4, 5, 6)\n",
        "\n",
        "#delete entire tuple\n",
        "del t\n"
      ],
      "execution_count": 96,
      "outputs": []
    },
    {
      "cell_type": "markdown",
      "metadata": {
        "id": "68gpYO2XYs8R"
      },
      "source": [
        "#### **Tuple Count**"
      ]
    },
    {
      "cell_type": "code",
      "metadata": {
        "id": "sqI-kulfYs8R",
        "outputId": "c4b7867f-a92b-4ada-d7b3-99c05227709e",
        "colab": {
          "base_uri": "https://localhost:8080/",
          "height": 35
        }
      },
      "source": [
        "t = (1, 2, 3, 1, 3, 3, 4, 1)\n",
        "\n",
        "#get the frequency of particular element appears in a tuple\n",
        "t.count(1)"
      ],
      "execution_count": 97,
      "outputs": [
        {
          "output_type": "execute_result",
          "data": {
            "text/plain": [
              "3"
            ]
          },
          "metadata": {
            "tags": []
          },
          "execution_count": 97
        }
      ]
    },
    {
      "cell_type": "markdown",
      "metadata": {
        "id": "yskLabpTYs8T"
      },
      "source": [
        "#### **Tuple Index**"
      ]
    },
    {
      "cell_type": "code",
      "metadata": {
        "id": "UIMVzSQNYs8U",
        "outputId": "711c3332-90ef-45df-d660-2ac3096217fa",
        "colab": {
          "base_uri": "https://localhost:8080/",
          "height": 35
        }
      },
      "source": [
        "t = (1, 2, 3, 1, 3, 3, 4, 1)\n",
        "\n",
        "print(t.index(3)) #return index of the first element is equal to 3\n",
        "\n",
        "#print index of the 1\n"
      ],
      "execution_count": 98,
      "outputs": [
        {
          "output_type": "stream",
          "text": [
            "2\n"
          ],
          "name": "stdout"
        }
      ]
    },
    {
      "cell_type": "markdown",
      "metadata": {
        "id": "0Deh5KEhYs8W"
      },
      "source": [
        "#### **Tuple Memebership**"
      ]
    },
    {
      "cell_type": "code",
      "metadata": {
        "id": "mvKSpkxnYs8W",
        "outputId": "9262bbd7-a75e-4e38-d058-b81e4cf9343d",
        "colab": {
          "base_uri": "https://localhost:8080/",
          "height": 35
        }
      },
      "source": [
        "#test if an item exists in a tuple or not, using the keyword in.\n",
        "t = (1, 2, 3, 4, 5, 6)\n",
        "\n",
        "print(1 in t)"
      ],
      "execution_count": 99,
      "outputs": [
        {
          "output_type": "stream",
          "text": [
            "True\n"
          ],
          "name": "stdout"
        }
      ]
    },
    {
      "cell_type": "code",
      "metadata": {
        "id": "JEvuB9bkYs8Y",
        "outputId": "5879e79c-f085-4ff3-fab3-d51f1399974a",
        "colab": {
          "base_uri": "https://localhost:8080/",
          "height": 35
        }
      },
      "source": [
        "print(7 in t)"
      ],
      "execution_count": 100,
      "outputs": [
        {
          "output_type": "stream",
          "text": [
            "False\n"
          ],
          "name": "stdout"
        }
      ]
    },
    {
      "cell_type": "markdown",
      "metadata": {
        "id": "05wulCvmYs8a"
      },
      "source": [
        "#### **Built in Functions**"
      ]
    },
    {
      "cell_type": "markdown",
      "metadata": {
        "id": "5OcU_9vBYs8a"
      },
      "source": [
        "##### **Tuple Length**"
      ]
    },
    {
      "cell_type": "code",
      "metadata": {
        "id": "2QNusFHgYs8d",
        "outputId": "84e65272-d5f3-4dcf-abcf-d92946d7186d",
        "colab": {
          "base_uri": "https://localhost:8080/",
          "height": 35
        }
      },
      "source": [
        "t = (1, 2, 3, 4, 5, 6)\n",
        "print(len(t))"
      ],
      "execution_count": 101,
      "outputs": [
        {
          "output_type": "stream",
          "text": [
            "6\n"
          ],
          "name": "stdout"
        }
      ]
    },
    {
      "cell_type": "markdown",
      "metadata": {
        "id": "u9pqw8bKYs8f"
      },
      "source": [
        "##### **Tuple Sort**"
      ]
    },
    {
      "cell_type": "code",
      "metadata": {
        "id": "SuSKVip0Ys8f",
        "outputId": "eac4ccfe-8c7f-4c1d-d8ef-9bcd35dd2c94",
        "colab": {
          "base_uri": "https://localhost:8080/",
          "height": 35
        }
      },
      "source": [
        "t = (4, 5, 1, 2, 3)\n",
        "\n",
        "new_t = sorted(t)\n",
        "print(new_t) #Take elements in the tuple and return a new sorted list \n",
        "             #(does not sort the tuple itself)."
      ],
      "execution_count": 102,
      "outputs": [
        {
          "output_type": "stream",
          "text": [
            "[1, 2, 3, 4, 5]\n"
          ],
          "name": "stdout"
        }
      ]
    },
    {
      "cell_type": "code",
      "metadata": {
        "id": "8wrElXq1Ys8g",
        "outputId": "38c9fb28-249e-4b2e-f5d9-47d6f25edde4",
        "colab": {
          "base_uri": "https://localhost:8080/",
          "height": 35
        }
      },
      "source": [
        "#get the largest element in a tuple\n",
        "t = (2, 5, 1, 6, 9)\n",
        "\n",
        "print(max(t))"
      ],
      "execution_count": 103,
      "outputs": [
        {
          "output_type": "stream",
          "text": [
            "9\n"
          ],
          "name": "stdout"
        }
      ]
    },
    {
      "cell_type": "code",
      "metadata": {
        "id": "Ure-zfucYs8i",
        "outputId": "fb86b0fb-dda3-4c61-fa81-c4240c4f2064",
        "colab": {
          "base_uri": "https://localhost:8080/",
          "height": 35
        }
      },
      "source": [
        "#get the smallest element in a tuple\n",
        "print(min(t))"
      ],
      "execution_count": 104,
      "outputs": [
        {
          "output_type": "stream",
          "text": [
            "1\n"
          ],
          "name": "stdout"
        }
      ]
    },
    {
      "cell_type": "code",
      "metadata": {
        "id": "LfzFaxXmYs8j",
        "outputId": "752c9c45-f712-4a8c-9ed7-7779228b399a",
        "colab": {
          "base_uri": "https://localhost:8080/",
          "height": 35
        }
      },
      "source": [
        "#get sum of elments in the tuple\n",
        "print(sum(t))"
      ],
      "execution_count": 105,
      "outputs": [
        {
          "output_type": "stream",
          "text": [
            "23\n"
          ],
          "name": "stdout"
        }
      ]
    },
    {
      "cell_type": "markdown",
      "metadata": {
        "id": "-5wVrfeYYs8m"
      },
      "source": [
        "### **Python Set**"
      ]
    },
    {
      "cell_type": "markdown",
      "metadata": {
        "id": "hxJpMU1TYs8m"
      },
      "source": [
        "Set is an unordered collection of unique items. Set is defined by values separated by comma inside braces { }. Items in a set are not ordered."
      ]
    },
    {
      "cell_type": "code",
      "metadata": {
        "id": "jcGkRQ8YYs8n",
        "outputId": "caa3559d-4672-437e-d5b0-28c29b6710b0",
        "colab": {
          "base_uri": "https://localhost:8080/",
          "height": 35
        }
      },
      "source": [
        "a = {10, 30, 20, 40, 5}\n",
        "print(a)"
      ],
      "execution_count": 106,
      "outputs": [
        {
          "output_type": "stream",
          "text": [
            "{5, 40, 10, 20, 30}\n"
          ],
          "name": "stdout"
        }
      ]
    },
    {
      "cell_type": "code",
      "metadata": {
        "id": "78sI0E13Ys8o",
        "outputId": "59122d17-768e-488b-8e28-e84793da6338",
        "colab": {
          "base_uri": "https://localhost:8080/",
          "height": 35
        }
      },
      "source": [
        "print(type(a))"
      ],
      "execution_count": 107,
      "outputs": [
        {
          "output_type": "stream",
          "text": [
            "<class 'set'>\n"
          ],
          "name": "stdout"
        }
      ]
    },
    {
      "cell_type": "markdown",
      "metadata": {
        "id": "UsRJrPTNYs8q"
      },
      "source": [
        "We can perform set operations like union, intersection on two sets. Set have unique values."
      ]
    },
    {
      "cell_type": "code",
      "metadata": {
        "id": "BFoUOw7tYs8q",
        "outputId": "b9b7b1b3-9ee1-4286-e5a2-aa705697e9f4",
        "colab": {
          "base_uri": "https://localhost:8080/",
          "height": 35
        }
      },
      "source": [
        "s = {10, 20, 20, 30, 30, 30}\n",
        "print(s)       "
      ],
      "execution_count": 108,
      "outputs": [
        {
          "output_type": "stream",
          "text": [
            "{10, 20, 30}\n"
          ],
          "name": "stdout"
        }
      ]
    },
    {
      "cell_type": "code",
      "metadata": {
        "id": "E7dn3CSZYs8s",
        "outputId": "3fa68b50-984e-4ca5-d273-645658942a46",
        "colab": {
          "base_uri": "https://localhost:8080/",
          "height": 190
        }
      },
      "source": [
        "print(s[1]) #we can't print particular element in set because \n",
        "            #it's unorder collections of items"
      ],
      "execution_count": 109,
      "outputs": [
        {
          "output_type": "error",
          "ename": "TypeError",
          "evalue": "ignored",
          "traceback": [
            "\u001b[0;31m---------------------------------------------------------------------------\u001b[0m",
            "\u001b[0;31mTypeError\u001b[0m                                 Traceback (most recent call last)",
            "\u001b[0;32m<ipython-input-109-3e2f312e6983>\u001b[0m in \u001b[0;36m<module>\u001b[0;34m()\u001b[0m\n\u001b[0;32m----> 1\u001b[0;31m \u001b[0mprint\u001b[0m\u001b[0;34m(\u001b[0m\u001b[0ms\u001b[0m\u001b[0;34m[\u001b[0m\u001b[0;36m1\u001b[0m\u001b[0;34m]\u001b[0m\u001b[0;34m)\u001b[0m \u001b[0;31m#we can't print particular element in set because\u001b[0m\u001b[0;34m\u001b[0m\u001b[0;34m\u001b[0m\u001b[0m\n\u001b[0m\u001b[1;32m      2\u001b[0m             \u001b[0;31m#it's unorder collections of items\u001b[0m\u001b[0;34m\u001b[0m\u001b[0;34m\u001b[0m\u001b[0;34m\u001b[0m\u001b[0m\n",
            "\u001b[0;31mTypeError\u001b[0m: 'set' object does not support indexing"
          ]
        }
      ]
    },
    {
      "cell_type": "markdown",
      "metadata": {
        "id": "SRhi0qNpYs8t"
      },
      "source": [
        "#### **Sets**"
      ]
    },
    {
      "cell_type": "markdown",
      "metadata": {
        "id": "DS4A9vDSYs8u"
      },
      "source": [
        "-> A set is an unordered collection of items. Every element is unique (no duplicates).\n",
        "\n",
        "-> The set itself is mutable. We can add or remove items from it.\n",
        "\n",
        "-> Sets can be used to perform mathematical set operations like union, intersection, symmetric difference etc."
      ]
    },
    {
      "cell_type": "markdown",
      "metadata": {
        "id": "XZ0WARhAYs8u"
      },
      "source": [
        "#### **Set Creation**"
      ]
    },
    {
      "cell_type": "code",
      "metadata": {
        "id": "2J5T5EM4Ys8u",
        "outputId": "76edba01-a15f-44f7-e92e-f2c306bdde6c",
        "colab": {
          "base_uri": "https://localhost:8080/",
          "height": 53
        }
      },
      "source": [
        "#set of integers\n",
        "s = {1, 2, 3}\n",
        "print(s)\n",
        "\n",
        "#print type of s \n",
        "print(type(s))"
      ],
      "execution_count": 110,
      "outputs": [
        {
          "output_type": "stream",
          "text": [
            "{1, 2, 3}\n",
            "<class 'set'>\n"
          ],
          "name": "stdout"
        }
      ]
    },
    {
      "cell_type": "code",
      "metadata": {
        "id": "NZTQb3QjYs8w",
        "outputId": "89827ea3-2664-4248-8b20-8163b90329ab",
        "colab": {
          "base_uri": "https://localhost:8080/",
          "height": 35
        }
      },
      "source": [
        "#set doesn't allow duplicates. They store only one instance.\n",
        "s = {1, 2, 3, 1, 4}\n",
        "print(s)"
      ],
      "execution_count": 111,
      "outputs": [
        {
          "output_type": "stream",
          "text": [
            "{1, 2, 3, 4}\n"
          ],
          "name": "stdout"
        }
      ]
    },
    {
      "cell_type": "code",
      "metadata": {
        "id": "ubQ6cYAjYs8x",
        "outputId": "eaa5e68f-03bb-4f4e-8d99-2e6ad1d0bc13",
        "colab": {
          "base_uri": "https://localhost:8080/",
          "height": 35
        }
      },
      "source": [
        "#we can make set from a list\n",
        "s = set([1, 2, 3, 1])\n",
        "print(s)"
      ],
      "execution_count": 112,
      "outputs": [
        {
          "output_type": "stream",
          "text": [
            "{1, 2, 3}\n"
          ],
          "name": "stdout"
        }
      ]
    },
    {
      "cell_type": "code",
      "metadata": {
        "id": "uIL3mtvIYs8z",
        "outputId": "60e35511-ff1f-46aa-c4af-7ccdd5661e58",
        "colab": {
          "base_uri": "https://localhost:8080/",
          "height": 35
        }
      },
      "source": [
        "#initialize a set  with set() method\n",
        "s = set()\n",
        "\n",
        "print(type(s))"
      ],
      "execution_count": 113,
      "outputs": [
        {
          "output_type": "stream",
          "text": [
            "<class 'set'>\n"
          ],
          "name": "stdout"
        }
      ]
    },
    {
      "cell_type": "markdown",
      "metadata": {
        "id": "1YTsKvdzYs80"
      },
      "source": [
        "#### **Add element to a Set**"
      ]
    },
    {
      "cell_type": "code",
      "metadata": {
        "id": "Z1McoRWGYs81",
        "outputId": "1a55b0bb-bccf-4892-90dc-ccb7bc935b38",
        "colab": {
          "base_uri": "https://localhost:8080/",
          "height": 208
        }
      },
      "source": [
        "#we can add single element using add() method and \n",
        "#add multiple elements using update() method\n",
        "s = {1, 3}\n",
        "\n",
        "#set object doesn't support indexing\n",
        "print(s[1]) #will get TypeError"
      ],
      "execution_count": 114,
      "outputs": [
        {
          "output_type": "error",
          "ename": "TypeError",
          "evalue": "ignored",
          "traceback": [
            "\u001b[0;31m---------------------------------------------------------------------------\u001b[0m",
            "\u001b[0;31mTypeError\u001b[0m                                 Traceback (most recent call last)",
            "\u001b[0;32m<ipython-input-114-22d0618a89be>\u001b[0m in \u001b[0;36m<module>\u001b[0;34m()\u001b[0m\n\u001b[1;32m      4\u001b[0m \u001b[0;34m\u001b[0m\u001b[0m\n\u001b[1;32m      5\u001b[0m \u001b[0;31m#set object doesn't support indexing\u001b[0m\u001b[0;34m\u001b[0m\u001b[0;34m\u001b[0m\u001b[0;34m\u001b[0m\u001b[0m\n\u001b[0;32m----> 6\u001b[0;31m \u001b[0mprint\u001b[0m\u001b[0;34m(\u001b[0m\u001b[0ms\u001b[0m\u001b[0;34m[\u001b[0m\u001b[0;36m1\u001b[0m\u001b[0;34m]\u001b[0m\u001b[0;34m)\u001b[0m \u001b[0;31m#will get TypeError\u001b[0m\u001b[0;34m\u001b[0m\u001b[0;34m\u001b[0m\u001b[0m\n\u001b[0m",
            "\u001b[0;31mTypeError\u001b[0m: 'set' object does not support indexing"
          ]
        }
      ]
    },
    {
      "cell_type": "code",
      "metadata": {
        "id": "wFOGMe2EYs87",
        "outputId": "e5d354ed-7ae9-41e9-d4f2-27c26e72af2a",
        "colab": {
          "base_uri": "https://localhost:8080/",
          "height": 35
        }
      },
      "source": [
        "#add element\n",
        "s.add(2)\n",
        "print(s)"
      ],
      "execution_count": 115,
      "outputs": [
        {
          "output_type": "stream",
          "text": [
            "{1, 2, 3}\n"
          ],
          "name": "stdout"
        }
      ]
    },
    {
      "cell_type": "code",
      "metadata": {
        "id": "XSnG6nasYs89",
        "outputId": "b09305a4-c8e5-42a6-f5da-0b6b053a6d13",
        "colab": {
          "base_uri": "https://localhost:8080/",
          "height": 35
        }
      },
      "source": [
        "#add multiple elements\n",
        "s.update([5, 6, 1])\n",
        "print(s)"
      ],
      "execution_count": 116,
      "outputs": [
        {
          "output_type": "stream",
          "text": [
            "{1, 2, 3, 5, 6}\n"
          ],
          "name": "stdout"
        }
      ]
    },
    {
      "cell_type": "code",
      "metadata": {
        "id": "Z36ivfpBYs8-",
        "outputId": "2639373d-a22d-4fc9-8850-2db2f0654ff3",
        "colab": {
          "base_uri": "https://localhost:8080/",
          "height": 35
        }
      },
      "source": [
        "#add list and set\n",
        "s.update([8, 9], {10, 2, 3})\n",
        "print(s)"
      ],
      "execution_count": 117,
      "outputs": [
        {
          "output_type": "stream",
          "text": [
            "{1, 2, 3, 5, 6, 8, 9, 10}\n"
          ],
          "name": "stdout"
        }
      ]
    },
    {
      "cell_type": "markdown",
      "metadata": {
        "id": "Ro7kvH3eYs9A"
      },
      "source": [
        "#### **Remove elements from a Set**"
      ]
    },
    {
      "cell_type": "code",
      "metadata": {
        "id": "RbhQLqSGYs9A",
        "outputId": "1279d2c7-6a50-4b55-c387-b4ebaee3c7a4",
        "colab": {
          "base_uri": "https://localhost:8080/",
          "height": 53
        }
      },
      "source": [
        "#A particular item can be removed from set using methods, \n",
        "#discard() and remove().\n",
        "\n",
        "s = {1, 2, 3, 5, 4}\n",
        "print(s)\n",
        "\n",
        "s.discard(4)    #4 is removed from set s\n",
        "\n",
        "print(s)"
      ],
      "execution_count": 118,
      "outputs": [
        {
          "output_type": "stream",
          "text": [
            "{1, 2, 3, 4, 5}\n",
            "{1, 2, 3, 5}\n"
          ],
          "name": "stdout"
        }
      ]
    },
    {
      "cell_type": "code",
      "metadata": {
        "id": "YRuiXJGLYs9B",
        "outputId": "e6239dd3-7774-4fa3-8687-f4b9628de89e",
        "colab": {
          "base_uri": "https://localhost:8080/",
          "height": 35
        }
      },
      "source": [
        "#remove an element \n",
        "s.remove(2)\n",
        "\n",
        "print(s)"
      ],
      "execution_count": 119,
      "outputs": [
        {
          "output_type": "stream",
          "text": [
            "{1, 3, 5}\n"
          ],
          "name": "stdout"
        }
      ]
    },
    {
      "cell_type": "code",
      "metadata": {
        "id": "MaKSdYGlYs9D",
        "outputId": "f8adf2ce-7fc4-439e-840a-3719a54c1662",
        "colab": {
          "base_uri": "https://localhost:8080/",
          "height": 190
        }
      },
      "source": [
        "#remove an element not present in a set s\n",
        "s.remove(7) # will get KeyError"
      ],
      "execution_count": 120,
      "outputs": [
        {
          "output_type": "error",
          "ename": "KeyError",
          "evalue": "ignored",
          "traceback": [
            "\u001b[0;31m---------------------------------------------------------------------------\u001b[0m",
            "\u001b[0;31mKeyError\u001b[0m                                  Traceback (most recent call last)",
            "\u001b[0;32m<ipython-input-120-fcd391652dec>\u001b[0m in \u001b[0;36m<module>\u001b[0;34m()\u001b[0m\n\u001b[1;32m      1\u001b[0m \u001b[0;31m#remove an element not present in a set s\u001b[0m\u001b[0;34m\u001b[0m\u001b[0;34m\u001b[0m\u001b[0;34m\u001b[0m\u001b[0m\n\u001b[0;32m----> 2\u001b[0;31m \u001b[0ms\u001b[0m\u001b[0;34m.\u001b[0m\u001b[0mremove\u001b[0m\u001b[0;34m(\u001b[0m\u001b[0;36m7\u001b[0m\u001b[0;34m)\u001b[0m \u001b[0;31m# will get KeyError\u001b[0m\u001b[0;34m\u001b[0m\u001b[0;34m\u001b[0m\u001b[0m\n\u001b[0m",
            "\u001b[0;31mKeyError\u001b[0m: 7"
          ]
        }
      ]
    },
    {
      "cell_type": "code",
      "metadata": {
        "id": "5ZLmZRaoYs9E",
        "outputId": "3a2e66a8-19c3-4e86-8306-6c93f796580a",
        "colab": {
          "base_uri": "https://localhost:8080/",
          "height": 35
        }
      },
      "source": [
        "#discard an element not present in a set s\n",
        "s.discard(7)\n",
        "print(s)"
      ],
      "execution_count": 121,
      "outputs": [
        {
          "output_type": "stream",
          "text": [
            "{1, 3, 5}\n"
          ],
          "name": "stdout"
        }
      ]
    },
    {
      "cell_type": "code",
      "metadata": {
        "id": "YfDVjB3aYs9G",
        "outputId": "6ea61acf-0d66-40a4-d452-5007ae9d36d8",
        "colab": {
          "base_uri": "https://localhost:8080/",
          "height": 35
        }
      },
      "source": [
        "#we can remove item using pop() method\n",
        "\n",
        "s = {1, 2, 3, 5, 4}\n",
        "\n",
        "s.pop() #remove random element\n",
        "\n",
        "print(s)"
      ],
      "execution_count": 122,
      "outputs": [
        {
          "output_type": "stream",
          "text": [
            "{2, 3, 4, 5}\n"
          ],
          "name": "stdout"
        }
      ]
    },
    {
      "cell_type": "code",
      "metadata": {
        "id": "m2fRacmeYs9H",
        "outputId": "7e222eb3-cd2b-4728-a6fd-e6eed208c095",
        "colab": {
          "base_uri": "https://localhost:8080/",
          "height": 35
        }
      },
      "source": [
        "s.pop() \n",
        "print(s)"
      ],
      "execution_count": 123,
      "outputs": [
        {
          "output_type": "stream",
          "text": [
            "{3, 4, 5}\n"
          ],
          "name": "stdout"
        }
      ]
    },
    {
      "cell_type": "code",
      "metadata": {
        "id": "tpRAaybpYs9J",
        "outputId": "518bf7f4-d16c-4de9-af69-9059b00e2e52",
        "colab": {
          "base_uri": "https://localhost:8080/",
          "height": 35
        }
      },
      "source": [
        "s = {1, 5, 2, 3, 6}\n",
        "\n",
        "s.clear()   #remove all items in set using clear() method\n",
        "\n",
        "print(s)"
      ],
      "execution_count": 124,
      "outputs": [
        {
          "output_type": "stream",
          "text": [
            "set()\n"
          ],
          "name": "stdout"
        }
      ]
    },
    {
      "cell_type": "markdown",
      "metadata": {
        "id": "S3pWUc3mYs9L"
      },
      "source": [
        "#### **Python Set Operations**"
      ]
    },
    {
      "cell_type": "code",
      "metadata": {
        "id": "hv5gcDwyYs9L",
        "outputId": "2433d924-daac-4eb5-d4cd-9665cf67ffd6",
        "colab": {
          "base_uri": "https://localhost:8080/",
          "height": 35
        }
      },
      "source": [
        "set1 = {1, 2, 3, 4, 5}\n",
        "set2 = {3, 4, 5, 6, 7}\n",
        "\n",
        "#union of 2 sets using | operator\n",
        "\n",
        "print(set1 | set2)"
      ],
      "execution_count": 125,
      "outputs": [
        {
          "output_type": "stream",
          "text": [
            "{1, 2, 3, 4, 5, 6, 7}\n"
          ],
          "name": "stdout"
        }
      ]
    },
    {
      "cell_type": "code",
      "metadata": {
        "id": "l49_OAU7Ys9M",
        "outputId": "5163fa02-e485-45d3-c206-207139b5d8bb",
        "colab": {
          "base_uri": "https://localhost:8080/",
          "height": 35
        }
      },
      "source": [
        "#another way of getting union of 2 sets\n",
        "print(set1.union(set2))"
      ],
      "execution_count": 126,
      "outputs": [
        {
          "output_type": "stream",
          "text": [
            "{1, 2, 3, 4, 5, 6, 7}\n"
          ],
          "name": "stdout"
        }
      ]
    },
    {
      "cell_type": "code",
      "metadata": {
        "id": "Ov2JZc4DYs9P",
        "outputId": "8d9010d3-4e3b-4f65-b93b-f1093fd82644",
        "colab": {
          "base_uri": "https://localhost:8080/",
          "height": 35
        }
      },
      "source": [
        "#intersection of 2 sets using & operator\n",
        "print(set1 & set2)"
      ],
      "execution_count": 127,
      "outputs": [
        {
          "output_type": "stream",
          "text": [
            "{3, 4, 5}\n"
          ],
          "name": "stdout"
        }
      ]
    },
    {
      "cell_type": "code",
      "metadata": {
        "id": "I2ySIJAaYs9S",
        "outputId": "be08b919-2f79-492c-eae4-de7aa570ea71",
        "colab": {
          "base_uri": "https://localhost:8080/",
          "height": 35
        }
      },
      "source": [
        "#use intersection function \n",
        "print(set1.intersection(set2))"
      ],
      "execution_count": 128,
      "outputs": [
        {
          "output_type": "stream",
          "text": [
            "{3, 4, 5}\n"
          ],
          "name": "stdout"
        }
      ]
    },
    {
      "cell_type": "code",
      "metadata": {
        "id": "YXIdECV5Ys9U",
        "outputId": "11ca66ca-2a7c-40fc-e542-6a8e2ab7eeb7",
        "colab": {
          "base_uri": "https://localhost:8080/",
          "height": 35
        }
      },
      "source": [
        "#set Difference: set of elements that are only in set1 but not in set2\n",
        "\n",
        "print(set1 - set2)"
      ],
      "execution_count": 129,
      "outputs": [
        {
          "output_type": "stream",
          "text": [
            "{1, 2}\n"
          ],
          "name": "stdout"
        }
      ]
    },
    {
      "cell_type": "code",
      "metadata": {
        "id": "aS1R2-vwYs9W",
        "outputId": "cd4b4838-219b-496d-fdd7-5e12d7195874",
        "colab": {
          "base_uri": "https://localhost:8080/",
          "height": 35
        }
      },
      "source": [
        "#use differnce function \n",
        "print(set1.difference(set2))"
      ],
      "execution_count": 130,
      "outputs": [
        {
          "output_type": "stream",
          "text": [
            "{1, 2}\n"
          ],
          "name": "stdout"
        }
      ]
    },
    {
      "cell_type": "code",
      "metadata": {
        "id": "nqq0xy0MYs9X",
        "outputId": "8a7fc0c7-51d7-4878-d3be-16a2d32774b2",
        "colab": {
          "base_uri": "https://localhost:8080/",
          "height": 35
        }
      },
      "source": [
        "\"\"\"symmetric difference: set of elements in both set1 and set2 \n",
        "#except those that are common in both.\"\"\"\n",
        "\n",
        "#use ^ operator\n",
        "\n",
        "print(set1^set2)"
      ],
      "execution_count": 131,
      "outputs": [
        {
          "output_type": "stream",
          "text": [
            "{1, 2, 6, 7}\n"
          ],
          "name": "stdout"
        }
      ]
    },
    {
      "cell_type": "code",
      "metadata": {
        "id": "YYvdHObZYs9Z",
        "outputId": "298c63c4-fab5-4fed-e38b-f5faa090c3a3",
        "colab": {
          "base_uri": "https://localhost:8080/",
          "height": 35
        }
      },
      "source": [
        "#use symmetric_difference function\n",
        "print(set1.symmetric_difference(set2))"
      ],
      "execution_count": 132,
      "outputs": [
        {
          "output_type": "stream",
          "text": [
            "{1, 2, 6, 7}\n"
          ],
          "name": "stdout"
        }
      ]
    },
    {
      "cell_type": "code",
      "metadata": {
        "id": "6dBSMC7hYs9d",
        "outputId": "2a14b906-153e-4216-aaec-e3b578e7e4d4",
        "colab": {
          "base_uri": "https://localhost:8080/",
          "height": 53
        }
      },
      "source": [
        "#find issubset()\n",
        "x = {\"a\",\"b\",\"c\",\"d\",\"e\"}\n",
        "y = {\"c\",\"d\"}\n",
        "\n",
        "print(\"set 'x' is subset of 'y' ?\", x.issubset(y)) #check x is subset of y\n",
        "\n",
        "#check y is subset of x\n",
        "print(\"set 'y' is subset of 'x' ?\", y.issubset(x))"
      ],
      "execution_count": 133,
      "outputs": [
        {
          "output_type": "stream",
          "text": [
            "set 'x' is subset of 'y' ? False\n",
            "set 'y' is subset of 'x' ? True\n"
          ],
          "name": "stdout"
        }
      ]
    },
    {
      "cell_type": "markdown",
      "metadata": {
        "id": "a2zTfzTiYs9g"
      },
      "source": [
        "#### **Frozen Sets**"
      ]
    },
    {
      "cell_type": "markdown",
      "metadata": {
        "id": "4mBgUkLKYs9h"
      },
      "source": [
        "Frozen sets has the characteristics of sets, but we can't be changed once it's assigned. While tuple are immutable lists, frozen sets are immutable sets\n",
        "\n",
        "Frozensets can be created using the function frozenset()\n",
        "\n",
        "Sets being mutable are unhashable, so they can't be used as dictionary keys. On the other hand, frozensets are hashable and can be used as keys to a dictionary.\n",
        "\n",
        "This datatype supports methods like copy(), difference(), intersection(), isdisjoint(), issubset(), issuperset(), symmetric_difference() and union(). Being immutable it does not have method that add or remove elements."
      ]
    },
    {
      "cell_type": "code",
      "metadata": {
        "id": "hqwYSimzYs9h",
        "outputId": "7acd0242-d7a0-48ba-9b0c-ad6238eb8175",
        "colab": {
          "base_uri": "https://localhost:8080/",
          "height": 208
        }
      },
      "source": [
        "set1 = frozenset([1, 2, 3, 4])\n",
        "set2 = frozenset([3, 4, 5, 6])\n",
        "\n",
        "#try to add element into set1 gives an error\n",
        "set1.add(5)"
      ],
      "execution_count": 134,
      "outputs": [
        {
          "output_type": "error",
          "ename": "AttributeError",
          "evalue": "ignored",
          "traceback": [
            "\u001b[0;31m---------------------------------------------------------------------------\u001b[0m",
            "\u001b[0;31mAttributeError\u001b[0m                            Traceback (most recent call last)",
            "\u001b[0;32m<ipython-input-134-627ec1ce44a6>\u001b[0m in \u001b[0;36m<module>\u001b[0;34m()\u001b[0m\n\u001b[1;32m      3\u001b[0m \u001b[0;34m\u001b[0m\u001b[0m\n\u001b[1;32m      4\u001b[0m \u001b[0;31m#try to add element into set1 gives an error\u001b[0m\u001b[0;34m\u001b[0m\u001b[0;34m\u001b[0m\u001b[0;34m\u001b[0m\u001b[0m\n\u001b[0;32m----> 5\u001b[0;31m \u001b[0mset1\u001b[0m\u001b[0;34m.\u001b[0m\u001b[0madd\u001b[0m\u001b[0;34m(\u001b[0m\u001b[0;36m5\u001b[0m\u001b[0;34m)\u001b[0m\u001b[0;34m\u001b[0m\u001b[0;34m\u001b[0m\u001b[0m\n\u001b[0m",
            "\u001b[0;31mAttributeError\u001b[0m: 'frozenset' object has no attribute 'add'"
          ]
        }
      ]
    },
    {
      "cell_type": "code",
      "metadata": {
        "id": "2Jy5B2kvYs9k",
        "outputId": "d7f45d40-17a1-417c-ddd6-e9fe527102f6",
        "colab": {
          "base_uri": "https://localhost:8080/",
          "height": 172
        }
      },
      "source": [
        "print(set1[1]) # frozen set doesn't support indexing"
      ],
      "execution_count": 135,
      "outputs": [
        {
          "output_type": "error",
          "ename": "TypeError",
          "evalue": "ignored",
          "traceback": [
            "\u001b[0;31m---------------------------------------------------------------------------\u001b[0m",
            "\u001b[0;31mTypeError\u001b[0m                                 Traceback (most recent call last)",
            "\u001b[0;32m<ipython-input-135-5c8e05737e66>\u001b[0m in \u001b[0;36m<module>\u001b[0;34m()\u001b[0m\n\u001b[0;32m----> 1\u001b[0;31m \u001b[0mprint\u001b[0m\u001b[0;34m(\u001b[0m\u001b[0mset1\u001b[0m\u001b[0;34m[\u001b[0m\u001b[0;36m1\u001b[0m\u001b[0;34m]\u001b[0m\u001b[0;34m)\u001b[0m \u001b[0;31m# frozen set doesn't support indexing\u001b[0m\u001b[0;34m\u001b[0m\u001b[0;34m\u001b[0m\u001b[0m\n\u001b[0m",
            "\u001b[0;31mTypeError\u001b[0m: 'frozenset' object does not support indexing"
          ]
        }
      ]
    },
    {
      "cell_type": "code",
      "metadata": {
        "id": "y412WbaUYs9q",
        "outputId": "d53badf8-195c-499f-91dd-4ff32664d281",
        "colab": {
          "base_uri": "https://localhost:8080/",
          "height": 35
        }
      },
      "source": [
        "print(set1 | set2) #union of 2 sets"
      ],
      "execution_count": 136,
      "outputs": [
        {
          "output_type": "stream",
          "text": [
            "frozenset({1, 2, 3, 4, 5, 6})\n"
          ],
          "name": "stdout"
        }
      ]
    },
    {
      "cell_type": "code",
      "metadata": {
        "id": "QbSPHw4MYs9s",
        "outputId": "c78d1528-7fda-4848-ec4f-1578ec35f57e",
        "colab": {
          "base_uri": "https://localhost:8080/",
          "height": 53
        }
      },
      "source": [
        "#intersection of two sets\n",
        "print(set1 & set2)\n",
        "\n",
        "#or \n",
        "print(set1.intersection(set2))"
      ],
      "execution_count": 137,
      "outputs": [
        {
          "output_type": "stream",
          "text": [
            "frozenset({3, 4})\n",
            "frozenset({3, 4})\n"
          ],
          "name": "stdout"
        }
      ]
    },
    {
      "cell_type": "code",
      "metadata": {
        "id": "HZUWcH_0Ys9v",
        "outputId": "b21a2a94-f9c5-40b4-9219-92ba23a7dc89",
        "colab": {
          "base_uri": "https://localhost:8080/",
          "height": 53
        }
      },
      "source": [
        "#symmetric difference\n",
        "print(set1 ^ set2)\n",
        "\n",
        "#or\n",
        "print(set1.symmetric_difference(set2))"
      ],
      "execution_count": 138,
      "outputs": [
        {
          "output_type": "stream",
          "text": [
            "frozenset({1, 2, 5, 6})\n",
            "frozenset({1, 2, 5, 6})\n"
          ],
          "name": "stdout"
        }
      ]
    },
    {
      "cell_type": "markdown",
      "metadata": {
        "id": "BUdxjWaPYs9x"
      },
      "source": [
        "### **Python Dictionary**"
      ]
    },
    {
      "cell_type": "markdown",
      "metadata": {
        "id": "gCoZM3AsYs9x"
      },
      "source": [
        "Dictionary is an unordered collection of key-value pairs.\n",
        "\n",
        "In Python, dictionaries are defined within braces {} with each item being a pair in the form key:value. Key and value can be of any type."
      ]
    },
    {
      "cell_type": "code",
      "metadata": {
        "id": "RfpJIqXpYs9y",
        "outputId": "e2eb19d6-46b3-436a-f286-92fb8d2b3073",
        "colab": {
          "base_uri": "https://localhost:8080/",
          "height": 35
        }
      },
      "source": [
        "d = {'a': \"apple\", 'b': \"bat\"}\n",
        "print(d['a'])"
      ],
      "execution_count": 139,
      "outputs": [
        {
          "output_type": "stream",
          "text": [
            "apple\n"
          ],
          "name": "stdout"
        }
      ]
    },
    {
      "cell_type": "markdown",
      "metadata": {
        "id": "9Of1FjguYs9z"
      },
      "source": [
        "#### **Dictionary**"
      ]
    },
    {
      "cell_type": "markdown",
      "metadata": {
        "id": "PozLi0UiYs9z"
      },
      "source": [
        "Python dictionary is an unordered collection of items. While other compound data types have only value as an element, a dictionary has a key: value pair."
      ]
    },
    {
      "cell_type": "markdown",
      "metadata": {
        "id": "_TBXNsXLYs90"
      },
      "source": [
        "#### **Dict Creation**"
      ]
    },
    {
      "cell_type": "code",
      "metadata": {
        "id": "DmHtLASbYs90",
        "outputId": "3a4b9924-56b0-438c-cb15-25740f2a7672",
        "colab": {
          "base_uri": "https://localhost:8080/",
          "height": 71
        }
      },
      "source": [
        "#empty dictionary\n",
        "my_dict = {}\n",
        "\n",
        "#dictionary with integer keys\n",
        "my_dict = {1: 'abc', 2: 'xyz'}\n",
        "print(my_dict)\n",
        "\n",
        "#dictionary with mixed keys\n",
        "my_dict = {'name': 'krystal', 1: ['abc', 'xyz']}\n",
        "print(my_dict)\n",
        "\n",
        "\n",
        "#create empty dictionary using dict()\n",
        "my_dict = dict()\n",
        "\n",
        "my_dict = dict([(1, 'abc'), (2, 'xyz')])    #create a dict with list of tuples\n",
        "print(my_dict)"
      ],
      "execution_count": 140,
      "outputs": [
        {
          "output_type": "stream",
          "text": [
            "{1: 'abc', 2: 'xyz'}\n",
            "{'name': 'krystal', 1: ['abc', 'xyz']}\n",
            "{1: 'abc', 2: 'xyz'}\n"
          ],
          "name": "stdout"
        }
      ]
    },
    {
      "cell_type": "markdown",
      "metadata": {
        "id": "6A7D0fnRYs92"
      },
      "source": [
        "#### **Dict Access**"
      ]
    },
    {
      "cell_type": "code",
      "metadata": {
        "id": "XDwh8M80Ys92",
        "outputId": "c2b58d63-55f4-411e-cf86-dc2cb6417262",
        "colab": {
          "base_uri": "https://localhost:8080/",
          "height": 35
        }
      },
      "source": [
        "my_dict = {'name': 'krystal', 'age': 24, 'address': 'hyderabad'}\n",
        "\n",
        "#get name\n",
        "print(my_dict['name'])"
      ],
      "execution_count": 141,
      "outputs": [
        {
          "output_type": "stream",
          "text": [
            "krystal\n"
          ],
          "name": "stdout"
        }
      ]
    },
    {
      "cell_type": "code",
      "metadata": {
        "id": "fFrin-yrYs95",
        "outputId": "c7d469e6-cd45-4efe-9181-b7232da45116",
        "colab": {
          "base_uri": "https://localhost:8080/",
          "height": 190
        }
      },
      "source": [
        "#if key is not present it gives KeyError\n",
        "print(my_dict['degree'])"
      ],
      "execution_count": 142,
      "outputs": [
        {
          "output_type": "error",
          "ename": "KeyError",
          "evalue": "ignored",
          "traceback": [
            "\u001b[0;31m---------------------------------------------------------------------------\u001b[0m",
            "\u001b[0;31mKeyError\u001b[0m                                  Traceback (most recent call last)",
            "\u001b[0;32m<ipython-input-142-ac4c061783ba>\u001b[0m in \u001b[0;36m<module>\u001b[0;34m()\u001b[0m\n\u001b[1;32m      1\u001b[0m \u001b[0;31m#if key is not present it gives KeyError\u001b[0m\u001b[0;34m\u001b[0m\u001b[0;34m\u001b[0m\u001b[0;34m\u001b[0m\u001b[0m\n\u001b[0;32m----> 2\u001b[0;31m \u001b[0mprint\u001b[0m\u001b[0;34m(\u001b[0m\u001b[0mmy_dict\u001b[0m\u001b[0;34m[\u001b[0m\u001b[0;34m'degree'\u001b[0m\u001b[0;34m]\u001b[0m\u001b[0;34m)\u001b[0m\u001b[0;34m\u001b[0m\u001b[0;34m\u001b[0m\u001b[0m\n\u001b[0m",
            "\u001b[0;31mKeyError\u001b[0m: 'degree'"
          ]
        }
      ]
    },
    {
      "cell_type": "code",
      "metadata": {
        "id": "G1A6eFXTYs96",
        "outputId": "15b77a19-fe52-408b-eda3-7231894d007c",
        "colab": {
          "base_uri": "https://localhost:8080/",
          "height": 35
        }
      },
      "source": [
        "#another way of accessing key\n",
        "print(my_dict.get('address'))"
      ],
      "execution_count": 143,
      "outputs": [
        {
          "output_type": "stream",
          "text": [
            "hyderabad\n"
          ],
          "name": "stdout"
        }
      ]
    },
    {
      "cell_type": "code",
      "metadata": {
        "id": "IiL_3m1IYs97",
        "outputId": "377370c6-5aa4-4f8d-fb6c-01663e47354f",
        "colab": {
          "base_uri": "https://localhost:8080/",
          "height": 35
        }
      },
      "source": [
        "#if key is not present it will give None using get method\n",
        "print(my_dict.get('degree'))"
      ],
      "execution_count": 144,
      "outputs": [
        {
          "output_type": "stream",
          "text": [
            "None\n"
          ],
          "name": "stdout"
        }
      ]
    },
    {
      "cell_type": "markdown",
      "metadata": {
        "id": "31O8OeYCYs99"
      },
      "source": [
        "#### **Dict Add or Modify Elements**"
      ]
    },
    {
      "cell_type": "code",
      "metadata": {
        "id": "Hpib7cqNYs99",
        "outputId": "50baf53a-cf46-4894-f674-741b11a65ace",
        "colab": {
          "base_uri": "https://localhost:8080/",
          "height": 35
        }
      },
      "source": [
        "my_dict = {'name': 'krystal', 'age': 24, 'address': 'hyderabad'}\n",
        "\n",
        "#update name \n",
        "my_dict['name'] = 'ria'\n",
        "\n",
        "print(my_dict)"
      ],
      "execution_count": 145,
      "outputs": [
        {
          "output_type": "stream",
          "text": [
            "{'name': 'ria', 'age': 24, 'address': 'hyderabad'}\n"
          ],
          "name": "stdout"
        }
      ]
    },
    {
      "cell_type": "code",
      "metadata": {
        "id": "gmTj8X3-Ys9_",
        "outputId": "8f69a84c-3cc1-4c50-c1eb-358d635b47da",
        "colab": {
          "base_uri": "https://localhost:8080/",
          "height": 35
        }
      },
      "source": [
        "#add new key\n",
        "my_dict['degree'] = 'B.Tech'\n",
        "\n",
        "print(my_dict)"
      ],
      "execution_count": 146,
      "outputs": [
        {
          "output_type": "stream",
          "text": [
            "{'name': 'ria', 'age': 24, 'address': 'hyderabad', 'degree': 'B.Tech'}\n"
          ],
          "name": "stdout"
        }
      ]
    },
    {
      "cell_type": "markdown",
      "metadata": {
        "id": "_CmHPxAIYs-B"
      },
      "source": [
        "#### **Dict Delete or Remove Element**"
      ]
    },
    {
      "cell_type": "code",
      "metadata": {
        "id": "sitXohsPYs-B",
        "outputId": "ca43f522-1101-49b3-9992-b92be8690a5b",
        "colab": {
          "base_uri": "https://localhost:8080/",
          "height": 53
        }
      },
      "source": [
        "#create a dictionary\n",
        "my_dict = {'name': 'krystal', 'age': 24, 'address': 'hyderabad'}\n",
        "\n",
        "#remove a particular item\n",
        "print(my_dict.pop('age'))\n",
        "\n",
        "print(my_dict)"
      ],
      "execution_count": 147,
      "outputs": [
        {
          "output_type": "stream",
          "text": [
            "24\n",
            "{'name': 'krystal', 'address': 'hyderabad'}\n"
          ],
          "name": "stdout"
        }
      ]
    },
    {
      "cell_type": "code",
      "metadata": {
        "id": "ArvXGQo6Ys-E",
        "outputId": "e58c5a96-714a-41b7-ec96-c9719cabde2c",
        "colab": {
          "base_uri": "https://localhost:8080/",
          "height": 35
        }
      },
      "source": [
        "my_dict = {'name': 'satish', 'age': 27, 'address': 'guntur'}\n",
        "\n",
        "#remove an arbitarty key\n",
        "my_dict.popitem()\n",
        "\n",
        "print(my_dict)"
      ],
      "execution_count": 148,
      "outputs": [
        {
          "output_type": "stream",
          "text": [
            "{'name': 'satish', 'age': 27}\n"
          ],
          "name": "stdout"
        }
      ]
    },
    {
      "cell_type": "code",
      "metadata": {
        "id": "l6oQHPNeYs-F",
        "outputId": "7a875fb3-35ad-4cfd-c947-8aaa7afcfd78",
        "colab": {
          "base_uri": "https://localhost:8080/",
          "height": 35
        }
      },
      "source": [
        "squares = {2: 4, 3: 9, 4: 16, 5: 25}\n",
        "\n",
        "#delete particular key\n",
        "del squares[2]\n",
        "\n",
        "print(squares)"
      ],
      "execution_count": 149,
      "outputs": [
        {
          "output_type": "stream",
          "text": [
            "{3: 9, 4: 16, 5: 25}\n"
          ],
          "name": "stdout"
        }
      ]
    },
    {
      "cell_type": "code",
      "metadata": {
        "id": "Rdrr8h25Ys-H",
        "outputId": "7e84e0a4-3aae-4e46-8659-f456733fdf8d",
        "colab": {
          "base_uri": "https://localhost:8080/",
          "height": 35
        }
      },
      "source": [
        "#remove all items\n",
        "squares.clear()\n",
        "\n",
        "print(squares)"
      ],
      "execution_count": 150,
      "outputs": [
        {
          "output_type": "stream",
          "text": [
            "{}\n"
          ],
          "name": "stdout"
        }
      ]
    },
    {
      "cell_type": "code",
      "metadata": {
        "id": "jcVkrcKQYs-I",
        "outputId": "4adfc8f2-65cb-46b8-df5e-9c3b7600a30d",
        "colab": {
          "base_uri": "https://localhost:8080/",
          "height": 208
        }
      },
      "source": [
        "squares = {2: 4, 3: 9, 4: 16, 5: 25}\n",
        "\n",
        "#delete dictionary itself\n",
        "del squares\n",
        "\n",
        "print(squares) #NameError because dict is deleted"
      ],
      "execution_count": 151,
      "outputs": [
        {
          "output_type": "error",
          "ename": "NameError",
          "evalue": "ignored",
          "traceback": [
            "\u001b[0;31m---------------------------------------------------------------------------\u001b[0m",
            "\u001b[0;31mNameError\u001b[0m                                 Traceback (most recent call last)",
            "\u001b[0;32m<ipython-input-151-6fac7747ecad>\u001b[0m in \u001b[0;36m<module>\u001b[0;34m()\u001b[0m\n\u001b[1;32m      4\u001b[0m \u001b[0;32mdel\u001b[0m \u001b[0msquares\u001b[0m\u001b[0;34m\u001b[0m\u001b[0;34m\u001b[0m\u001b[0m\n\u001b[1;32m      5\u001b[0m \u001b[0;34m\u001b[0m\u001b[0m\n\u001b[0;32m----> 6\u001b[0;31m \u001b[0mprint\u001b[0m\u001b[0;34m(\u001b[0m\u001b[0msquares\u001b[0m\u001b[0;34m)\u001b[0m \u001b[0;31m#NameError because dict is deleted\u001b[0m\u001b[0;34m\u001b[0m\u001b[0;34m\u001b[0m\u001b[0m\n\u001b[0m",
            "\u001b[0;31mNameError\u001b[0m: name 'squares' is not defined"
          ]
        }
      ]
    },
    {
      "cell_type": "markdown",
      "metadata": {
        "id": "5TE9G129Ys-K"
      },
      "source": [
        "#### **Dictionary Methods**"
      ]
    },
    {
      "cell_type": "code",
      "metadata": {
        "id": "1hMO1eDLYs-K",
        "outputId": "3e1ac934-d013-4d53-ddc7-e9a45eb98931",
        "colab": {
          "base_uri": "https://localhost:8080/",
          "height": 35
        }
      },
      "source": [
        "squares = {2: 4, 3: 9, 4: 16, 5: 25}\n",
        "\n",
        "my_dict = squares.copy()\n",
        "print(my_dict)"
      ],
      "execution_count": 152,
      "outputs": [
        {
          "output_type": "stream",
          "text": [
            "{2: 4, 3: 9, 4: 16, 5: 25}\n"
          ],
          "name": "stdout"
        }
      ]
    },
    {
      "cell_type": "code",
      "metadata": {
        "id": "ByfI_49qYs-M",
        "outputId": "1a0b8055-8daa-42fe-80fd-bbb4dea15672",
        "colab": {
          "base_uri": "https://localhost:8080/",
          "height": 35
        }
      },
      "source": [
        "#fromkeys[seq[, v]] -> Return a new dictionary with keys from seq and value equal to v (defaults to None).\n",
        "subjects = {}.fromkeys(['Math', 'English', 'Hindi'], 0)\n",
        "print(subjects)"
      ],
      "execution_count": 153,
      "outputs": [
        {
          "output_type": "stream",
          "text": [
            "{'Math': 0, 'English': 0, 'Hindi': 0}\n"
          ],
          "name": "stdout"
        }
      ]
    },
    {
      "cell_type": "code",
      "metadata": {
        "id": "BizTuQm5Ys-O",
        "outputId": "1706ae14-e00f-458c-e312-dc703d3a77f5",
        "colab": {
          "base_uri": "https://localhost:8080/",
          "height": 35
        }
      },
      "source": [
        "subjects = {2:4, 3:9, 4:16, 5:25}\n",
        "print(subjects.items()) #return a new view of the dictionary items (key, value)"
      ],
      "execution_count": 154,
      "outputs": [
        {
          "output_type": "stream",
          "text": [
            "dict_items([(2, 4), (3, 9), (4, 16), (5, 25)])\n"
          ],
          "name": "stdout"
        }
      ]
    },
    {
      "cell_type": "code",
      "metadata": {
        "id": "NxHEor9jYs-P",
        "outputId": "0016ae48-65bb-4cb6-f5b0-8b1160feb184",
        "colab": {
          "base_uri": "https://localhost:8080/",
          "height": 35
        }
      },
      "source": [
        "subjects = {2:4, 3:9, 4:16, 5:25}\n",
        "print(subjects.keys()) #return a new view of the dictionary keys"
      ],
      "execution_count": 155,
      "outputs": [
        {
          "output_type": "stream",
          "text": [
            "dict_keys([2, 3, 4, 5])\n"
          ],
          "name": "stdout"
        }
      ]
    },
    {
      "cell_type": "code",
      "metadata": {
        "id": "JM3wYZTPYs-Q",
        "outputId": "05c07b81-ca0b-4515-b3c5-a83f1e1af6f8",
        "colab": {
          "base_uri": "https://localhost:8080/",
          "height": 35
        }
      },
      "source": [
        "subjects = {2:4, 3:9, 4:16, 5:25}\n",
        "print(subjects.values()) #return a new view of the dictionary values"
      ],
      "execution_count": 156,
      "outputs": [
        {
          "output_type": "stream",
          "text": [
            "dict_values([4, 9, 16, 25])\n"
          ],
          "name": "stdout"
        }
      ]
    },
    {
      "cell_type": "code",
      "metadata": {
        "id": "2rkaFTRMYs-S",
        "outputId": "51dc824b-876d-4b7f-903c-65e149ed6241",
        "colab": {
          "base_uri": "https://localhost:8080/",
          "height": 55
        }
      },
      "source": [
        "#get list of all available methods and attributes of dictionary\n",
        "d = {}\n",
        "print(dir(d))"
      ],
      "execution_count": 157,
      "outputs": [
        {
          "output_type": "stream",
          "text": [
            "['__class__', '__contains__', '__delattr__', '__delitem__', '__dir__', '__doc__', '__eq__', '__format__', '__ge__', '__getattribute__', '__getitem__', '__gt__', '__hash__', '__init__', '__init_subclass__', '__iter__', '__le__', '__len__', '__lt__', '__ne__', '__new__', '__reduce__', '__reduce_ex__', '__repr__', '__setattr__', '__setitem__', '__sizeof__', '__str__', '__subclasshook__', 'clear', 'copy', 'fromkeys', 'get', 'items', 'keys', 'pop', 'popitem', 'setdefault', 'update', 'values']\n"
          ],
          "name": "stdout"
        }
      ]
    },
    {
      "cell_type": "markdown",
      "metadata": {
        "id": "WftJSB-DYs-U"
      },
      "source": [
        "#### **Dict Comprehension**"
      ]
    },
    {
      "cell_type": "code",
      "metadata": {
        "id": "WZhVDJDhYs-V",
        "outputId": "c2fd342e-5766-4bb8-9d07-444cd8059fbb",
        "colab": {
          "base_uri": "https://localhost:8080/",
          "height": 71
        }
      },
      "source": [
        "#Dict comprehensions are just like list comprehensions but for dictionaries\n",
        "\n",
        "d = {'a': 1, 'b': 2, 'c': 3}\n",
        "for pair in d.items():\n",
        "    print(pair)"
      ],
      "execution_count": 158,
      "outputs": [
        {
          "output_type": "stream",
          "text": [
            "('a', 1)\n",
            "('b', 2)\n",
            "('c', 3)\n"
          ],
          "name": "stdout"
        }
      ]
    },
    {
      "cell_type": "code",
      "metadata": {
        "id": "PIM2u18ZYs-W",
        "outputId": "4d04d5a3-22c1-4f60-b7d9-bd0ca1436cdc",
        "colab": {
          "base_uri": "https://localhost:8080/",
          "height": 35
        }
      },
      "source": [
        "#Creating a new dictionary with only pairs where the value is larger than 2\n",
        "d = {'a': 1, 'b': 2, 'c': 3, 'd': 4}\n",
        "new_dict = {k:v for k, v in d.items() if v > 2}\n",
        "print(new_dict)"
      ],
      "execution_count": 159,
      "outputs": [
        {
          "output_type": "stream",
          "text": [
            "{'c': 3, 'd': 4}\n"
          ],
          "name": "stdout"
        }
      ]
    },
    {
      "cell_type": "code",
      "metadata": {
        "id": "LUbUBpxEYs-Y",
        "outputId": "8b64c260-8df5-47a3-af23-d7662b3fc0ec",
        "colab": {
          "base_uri": "https://localhost:8080/",
          "height": 35
        }
      },
      "source": [
        "#We can also perform operations on the key value pairs\n",
        "d = {'a':1,'b':2,'c':3,'d':4,'e':5}\n",
        "d = {k + 'c':v * 2 for k, v in d.items() if v > 2}\n",
        "print(d)"
      ],
      "execution_count": 160,
      "outputs": [
        {
          "output_type": "stream",
          "text": [
            "{'cc': 6, 'dc': 8, 'ec': 10}\n"
          ],
          "name": "stdout"
        }
      ]
    },
    {
      "cell_type": "markdown",
      "metadata": {
        "id": "g3RNRuw0Ys-Z"
      },
      "source": [
        "## **Conversion between Datatypes**"
      ]
    },
    {
      "cell_type": "markdown",
      "metadata": {
        "id": "YE6-1UHkYs-a"
      },
      "source": [
        "We can convert between different data types by using different type conversion functions like int(), float(), str() etc.\n",
        "\n"
      ]
    },
    {
      "cell_type": "code",
      "metadata": {
        "id": "i4eCxcuGYs-a",
        "outputId": "00bb2f26-da9c-47e7-8321-dae0c6e8b87a",
        "colab": {
          "base_uri": "https://localhost:8080/",
          "height": 35
        }
      },
      "source": [
        "float(5)     #convert interger to float using float() method"
      ],
      "execution_count": 161,
      "outputs": [
        {
          "output_type": "execute_result",
          "data": {
            "text/plain": [
              "5.0"
            ]
          },
          "metadata": {
            "tags": []
          },
          "execution_count": 161
        }
      ]
    },
    {
      "cell_type": "code",
      "metadata": {
        "id": "M-GW441EYs-b",
        "outputId": "53b75dc8-be10-4c52-abf6-51eb03c2d45d",
        "colab": {
          "base_uri": "https://localhost:8080/",
          "height": 35
        }
      },
      "source": [
        "int(100.5)   #convert float to integer using int() method"
      ],
      "execution_count": 162,
      "outputs": [
        {
          "output_type": "execute_result",
          "data": {
            "text/plain": [
              "100"
            ]
          },
          "metadata": {
            "tags": []
          },
          "execution_count": 162
        }
      ]
    },
    {
      "cell_type": "code",
      "metadata": {
        "id": "0sghKeIGYs-d",
        "outputId": "81c44d1b-4f96-45a3-bb02-32616825759e",
        "colab": {
          "base_uri": "https://localhost:8080/",
          "height": 35
        }
      },
      "source": [
        "str(20)      #convert integer to string"
      ],
      "execution_count": 163,
      "outputs": [
        {
          "output_type": "execute_result",
          "data": {
            "application/vnd.google.colaboratory.intrinsic+json": {
              "type": "string"
            },
            "text/plain": [
              "'20'"
            ]
          },
          "metadata": {
            "tags": []
          },
          "execution_count": 163
        }
      ]
    },
    {
      "cell_type": "markdown",
      "metadata": {
        "id": "8uQFE93uYs-f"
      },
      "source": [
        "Conversion to and from string must contain compatible values."
      ]
    },
    {
      "cell_type": "code",
      "metadata": {
        "id": "jlB_qGQoYs-f",
        "outputId": "2ad0bade-85c7-4552-b507-52f5ca48d29d",
        "colab": {
          "base_uri": "https://localhost:8080/",
          "height": 172
        }
      },
      "source": [
        "int('10p')"
      ],
      "execution_count": 164,
      "outputs": [
        {
          "output_type": "error",
          "ename": "ValueError",
          "evalue": "ignored",
          "traceback": [
            "\u001b[0;31m---------------------------------------------------------------------------\u001b[0m",
            "\u001b[0;31mValueError\u001b[0m                                Traceback (most recent call last)",
            "\u001b[0;32m<ipython-input-164-8bb83f613c14>\u001b[0m in \u001b[0;36m<module>\u001b[0;34m()\u001b[0m\n\u001b[0;32m----> 1\u001b[0;31m \u001b[0mint\u001b[0m\u001b[0;34m(\u001b[0m\u001b[0;34m'10p'\u001b[0m\u001b[0;34m)\u001b[0m\u001b[0;34m\u001b[0m\u001b[0;34m\u001b[0m\u001b[0m\n\u001b[0m",
            "\u001b[0;31mValueError\u001b[0m: invalid literal for int() with base 10: '10p'"
          ]
        }
      ]
    },
    {
      "cell_type": "code",
      "metadata": {
        "id": "WV5VTMeBYs-h"
      },
      "source": [
        "user = \"abcd\"\n",
        "lines = 100\n",
        "\n",
        "print(\"Congratulations, \" + user + \"! You just wrote \" + str(lines) + \" lines of code\" )\n",
        "#remove str and gives error"
      ],
      "execution_count": null,
      "outputs": []
    },
    {
      "cell_type": "markdown",
      "metadata": {
        "id": "8QEDdeqEYs-i"
      },
      "source": [
        "We can convert one sequence to other"
      ]
    },
    {
      "cell_type": "code",
      "metadata": {
        "id": "XsHdsMJsYs-i",
        "outputId": "b6ae5e9b-59f3-45f4-c96f-e9f0721a0e1a",
        "colab": {
          "base_uri": "https://localhost:8080/",
          "height": 53
        }
      },
      "source": [
        "a = [1, 2, 3]\n",
        "\n",
        "print(type(a))      #type of a is list \n",
        "\n",
        "s = set(a)          #convert list to set using set() method\n",
        "\n",
        "print(type(s))      #now type of s is set"
      ],
      "execution_count": 165,
      "outputs": [
        {
          "output_type": "stream",
          "text": [
            "<class 'list'>\n",
            "<class 'set'>\n"
          ],
          "name": "stdout"
        }
      ]
    },
    {
      "cell_type": "code",
      "metadata": {
        "id": "ygJ1WzNjYs-k",
        "outputId": "a55dfbbd-10bb-42a9-fcb3-03922fbacf34",
        "colab": {
          "base_uri": "https://localhost:8080/",
          "height": 35
        }
      },
      "source": [
        "list(\"Hello\")       #convert String to list using list() method"
      ],
      "execution_count": 166,
      "outputs": [
        {
          "output_type": "execute_result",
          "data": {
            "text/plain": [
              "['H', 'e', 'l', 'l', 'o']"
            ]
          },
          "metadata": {
            "tags": []
          },
          "execution_count": 166
        }
      ]
    },
    {
      "cell_type": "markdown",
      "metadata": {
        "id": "S3ci2fbzYs-l"
      },
      "source": [
        "### **Python Output**"
      ]
    },
    {
      "cell_type": "markdown",
      "metadata": {
        "id": "EyrOWf93Ys-l"
      },
      "source": [
        "We use the print() function to output data to the standard output device"
      ]
    },
    {
      "cell_type": "code",
      "metadata": {
        "id": "InvxQRLrYs-m",
        "outputId": "62f38da0-a77f-47d3-de4c-add889014e28",
        "colab": {
          "base_uri": "https://localhost:8080/",
          "height": 35
        }
      },
      "source": [
        "print(\"Hello World\")"
      ],
      "execution_count": 167,
      "outputs": [
        {
          "output_type": "stream",
          "text": [
            "Hello World\n"
          ],
          "name": "stdout"
        }
      ]
    },
    {
      "cell_type": "code",
      "metadata": {
        "id": "KhOQw0TrYs-n",
        "outputId": "98bda9bc-d7a8-40b3-d2e0-3a09bb4df914",
        "colab": {
          "base_uri": "https://localhost:8080/",
          "height": 35
        }
      },
      "source": [
        "a = 10\n",
        "print(\"The value of a is\", a) #python 3\n",
        "# print \"The value of a is \" + str(a) # python 2"
      ],
      "execution_count": 168,
      "outputs": [
        {
          "output_type": "stream",
          "text": [
            "The value of a is 10\n"
          ],
          "name": "stdout"
        }
      ]
    },
    {
      "cell_type": "markdown",
      "metadata": {
        "id": "XwRNeV2BYs-o"
      },
      "source": [
        "### **Output Formatting**"
      ]
    },
    {
      "cell_type": "code",
      "metadata": {
        "id": "b2paouEAYs-o",
        "outputId": "c5a27a03-6aed-45fb-aee7-8ba33998e9a4",
        "colab": {
          "base_uri": "https://localhost:8080/",
          "height": 35
        }
      },
      "source": [
        "a = 10; b = 20 #multiple statements in single line.\n",
        "\n",
        "print(\"The value of a is {} and b is {}\".format(a, b))    #default"
      ],
      "execution_count": 169,
      "outputs": [
        {
          "output_type": "stream",
          "text": [
            "The value of a is 10 and b is 20\n"
          ],
          "name": "stdout"
        }
      ]
    },
    {
      "cell_type": "code",
      "metadata": {
        "id": "OlksQKkOYs-p",
        "outputId": "27e35dda-4457-4ca2-a15c-c7defea498ea",
        "colab": {
          "base_uri": "https://localhost:8080/",
          "height": 35
        }
      },
      "source": [
        "a = 10; b = 20  #multiple statements in single line\n",
        "\n",
        "print(\"The value of b is {1} and a is {0}\".format(a, b)) #specify position of arguments"
      ],
      "execution_count": 170,
      "outputs": [
        {
          "output_type": "stream",
          "text": [
            "The value of b is 20 and a is 10\n"
          ],
          "name": "stdout"
        }
      ]
    },
    {
      "cell_type": "code",
      "metadata": {
        "id": "z1Q8cF9mYs-q",
        "outputId": "2b640a82-0e8e-45ca-ceba-9a14233f606f",
        "colab": {
          "base_uri": "https://localhost:8080/",
          "height": 35
        }
      },
      "source": [
        "#we can use keyword arguments to format the string\n",
        "print(\"Hello {name}, {greeting}\".format(name=\"krystal\", greeting=\"Good Morning\"))"
      ],
      "execution_count": 171,
      "outputs": [
        {
          "output_type": "stream",
          "text": [
            "Hello krystal, Good Morning\n"
          ],
          "name": "stdout"
        }
      ]
    },
    {
      "cell_type": "code",
      "metadata": {
        "id": "fPieb3kRYs-s",
        "outputId": "a3c4baa8-6060-4a67-ac87-d9483784930c",
        "colab": {
          "base_uri": "https://localhost:8080/",
          "height": 35
        }
      },
      "source": [
        "#we can combine positional arguments with keyword arguments\n",
        "print('The story of {0}, {1}, and {other}'.format('Bill', 'Manfred',\n",
        "                                                       other='Georg'))"
      ],
      "execution_count": 172,
      "outputs": [
        {
          "output_type": "stream",
          "text": [
            "The story of Bill, Manfred, and Georg\n"
          ],
          "name": "stdout"
        }
      ]
    },
    {
      "cell_type": "markdown",
      "metadata": {
        "id": "x1gIVyKjYs-u"
      },
      "source": [
        "### **Python Input**"
      ]
    },
    {
      "cell_type": "markdown",
      "metadata": {
        "id": "_lxG0595Ys-u"
      },
      "source": [
        "want to take the input from the user. In Python, we have the input() function to allow this."
      ]
    },
    {
      "cell_type": "code",
      "metadata": {
        "id": "CLdNR59YYs-u",
        "outputId": "518e4db7-3194-4e01-9ec3-2a804dd28571",
        "colab": {
          "base_uri": "https://localhost:8080/",
          "height": 53
        }
      },
      "source": [
        "num = input(\"Enter a number: \")\n",
        "print(num)"
      ],
      "execution_count": 173,
      "outputs": [
        {
          "output_type": "stream",
          "text": [
            "Enter a number: 5\n",
            "5\n"
          ],
          "name": "stdout"
        }
      ]
    },
    {
      "cell_type": "markdown",
      "metadata": {
        "id": "Pp5NZx4RYs-y"
      },
      "source": [
        "### **Operators**"
      ]
    },
    {
      "cell_type": "markdown",
      "metadata": {
        "id": "vqTK37uGYs-z"
      },
      "source": [
        "Operators are special symbols in Python that carry out arithmetic or logical computation. The value that the operator operates on is called the operand.\n",
        "\n"
      ]
    },
    {
      "cell_type": "markdown",
      "metadata": {
        "id": "fR6dylFoYs-z"
      },
      "source": [
        "#### **Operator Types**"
      ]
    },
    {
      "cell_type": "markdown",
      "metadata": {
        "id": "-a2hjEvSYs-0"
      },
      "source": [
        "1. Arithmetic operators\n",
        "    \n",
        "2. Comparison (Relational) operators\n",
        "\n",
        "3. Logical (Boolean) operators\n",
        "\n",
        "4. Bitwise operators\n",
        "\n",
        "5. Assignment operators\n",
        "\n",
        "6. Special operators"
      ]
    },
    {
      "cell_type": "markdown",
      "metadata": {
        "id": "AGm_2LO2Ys-1"
      },
      "source": [
        "#### **Arithmetic Operators**"
      ]
    },
    {
      "cell_type": "markdown",
      "metadata": {
        "id": "SuzD2zp8Ys-2"
      },
      "source": [
        "Arithmetic operators are used to perform mathematical operations like addition, subtraction, multiplication etc."
      ]
    },
    {
      "cell_type": "code",
      "metadata": {
        "id": "vki-pNlVYs-2",
        "outputId": "c5e046ba-cd75-4fd9-b46f-debeb6d0bce6",
        "colab": {
          "base_uri": "https://localhost:8080/",
          "height": 35
        }
      },
      "source": [
        "print('+ , -, *, /, %, //, **  are arithmetic operators')"
      ],
      "execution_count": 174,
      "outputs": [
        {
          "output_type": "stream",
          "text": [
            "+ , -, *, /, %, //, **  are arithmetic operators\n"
          ],
          "name": "stdout"
        }
      ]
    },
    {
      "cell_type": "code",
      "metadata": {
        "id": "srcmGYQ9Ys-4",
        "outputId": "5318fd6b-1483-41af-8112-9d365b95ba33",
        "colab": {
          "base_uri": "https://localhost:8080/",
          "height": 143
        }
      },
      "source": [
        "x, y = 10, 20\n",
        "\n",
        "print(x + y) #addition(+)\n",
        "\n",
        "print(x - y) #subtraction(-)\n",
        "\n",
        "print(x * y) #multiplication(*)\n",
        "\n",
        "print(x / y) #division(/)\n",
        "\n",
        "print(x % y) #modulo division (%)\n",
        "\n",
        "print(x // y) #Floor Division (//)\n",
        "\n",
        "print(x ** y) #Exponent (**)\n"
      ],
      "execution_count": 175,
      "outputs": [
        {
          "output_type": "stream",
          "text": [
            "30\n",
            "-10\n",
            "200\n",
            "0.5\n",
            "10\n",
            "0\n",
            "100000000000000000000\n"
          ],
          "name": "stdout"
        }
      ]
    },
    {
      "cell_type": "markdown",
      "metadata": {
        "id": "GqX2kNObYs-5"
      },
      "source": [
        "#### **Comparision Operators**"
      ]
    },
    {
      "cell_type": "markdown",
      "metadata": {
        "id": "GRTlEomoYs-5"
      },
      "source": [
        "Comparison operators are used to compare values. It either returns True or False according to the condition."
      ]
    },
    {
      "cell_type": "code",
      "metadata": {
        "id": "hxWPD_2ZYs-5",
        "outputId": "3498a1a2-f6ed-4d32-fc1a-23ffe2525d1b",
        "colab": {
          "base_uri": "https://localhost:8080/",
          "height": 35
        }
      },
      "source": [
        "print('>, <, ==, !=, >=, <= are comparision operators')"
      ],
      "execution_count": 176,
      "outputs": [
        {
          "output_type": "stream",
          "text": [
            ">, <, ==, !=, >=, <= are comparision operators\n"
          ],
          "name": "stdout"
        }
      ]
    },
    {
      "cell_type": "code",
      "metadata": {
        "id": "WX9g3PsOYs-8",
        "outputId": "822d79ce-19e2-4343-a8b9-886eb48a7d2c",
        "colab": {
          "base_uri": "https://localhost:8080/",
          "height": 125
        }
      },
      "source": [
        "a, b = 10, 20         \n",
        "\n",
        "print(a < b)  #check a is less than b\n",
        "\n",
        "print(a > b) #check a is greater than b\n",
        "\n",
        "print(a == b) #check a is equal to b\n",
        "\n",
        "print(a != b) #check a is not equal to b (!=)\n",
        "\n",
        "print(a >= b) #check a greater than or equal to b\n",
        "\n",
        "print(a <= b) #check a less than or equal to b"
      ],
      "execution_count": 177,
      "outputs": [
        {
          "output_type": "stream",
          "text": [
            "True\n",
            "False\n",
            "False\n",
            "True\n",
            "False\n",
            "True\n"
          ],
          "name": "stdout"
        }
      ]
    },
    {
      "cell_type": "markdown",
      "metadata": {
        "id": "QDyEExCLYs-9"
      },
      "source": [
        "#### **Logical Operators**"
      ]
    },
    {
      "cell_type": "markdown",
      "metadata": {
        "id": "SZK3aHcbYs-9"
      },
      "source": [
        "Logical operators are and, or, not operators."
      ]
    },
    {
      "cell_type": "code",
      "metadata": {
        "id": "BArh0mDxYs--",
        "outputId": "05991b14-8251-40f6-f1d5-cf6f5e117850",
        "colab": {
          "base_uri": "https://localhost:8080/",
          "height": 71
        }
      },
      "source": [
        "a, b = True, False\n",
        "\n",
        "print(a and b) #print a and b\n",
        "\n",
        "print(a or b) #print a or b\n",
        "\n",
        "print(not(a == b)) #print a not b\n"
      ],
      "execution_count": 178,
      "outputs": [
        {
          "output_type": "stream",
          "text": [
            "False\n",
            "True\n",
            "True\n"
          ],
          "name": "stdout"
        }
      ]
    },
    {
      "cell_type": "markdown",
      "metadata": {
        "id": "ZSTsCWbLYs_D"
      },
      "source": [
        "#### **Bitwise operators**"
      ]
    },
    {
      "cell_type": "markdown",
      "metadata": {
        "id": "5eItv9ZlYs_D"
      },
      "source": [
        "Bitwise operators act on operands as if they were string of binary digits. It operates bit by bit"
      ]
    },
    {
      "cell_type": "code",
      "metadata": {
        "id": "r3_tTUq9Ys_E",
        "outputId": "cf6a3bb9-0adf-43f3-a914-14fb42686a1a",
        "colab": {
          "base_uri": "https://localhost:8080/",
          "height": 35
        }
      },
      "source": [
        "print('&,  |,  ~,  ^,  >>,  << are Bitwise operators')"
      ],
      "execution_count": 179,
      "outputs": [
        {
          "output_type": "stream",
          "text": [
            "&,  |,  ~,  ^,  >>,  << are Bitwise operators\n"
          ],
          "name": "stdout"
        }
      ]
    },
    {
      "cell_type": "code",
      "metadata": {
        "id": "85fyQ3wqYs_H",
        "outputId": "ec9a681b-ded4-4a9f-c145-f1911cd17aeb",
        "colab": {
          "base_uri": "https://localhost:8080/",
          "height": 125
        }
      },
      "source": [
        "a, b = 10, 4\n",
        "\n",
        "print(a & b) #Bitwise AND\n",
        "\n",
        "print(a | b) #Bitwise OR\n",
        "\n",
        "print(~(a < b)) #Bitwise NOT\n",
        "\n",
        "print(a ^ b) #Bitwise XOR\n",
        "\n",
        "print(a >> b) #Bitwise rightshift\n",
        "\n",
        "print(a << b) #Bitwise Leftshift\n"
      ],
      "execution_count": 180,
      "outputs": [
        {
          "output_type": "stream",
          "text": [
            "0\n",
            "14\n",
            "-1\n",
            "14\n",
            "0\n",
            "160\n"
          ],
          "name": "stdout"
        }
      ]
    },
    {
      "cell_type": "markdown",
      "metadata": {
        "id": "UIs63AOvYs_I"
      },
      "source": [
        "#### **Assignment operators**"
      ]
    },
    {
      "cell_type": "markdown",
      "metadata": {
        "id": "SPAmRJbpYs_J"
      },
      "source": [
        "Assignment operators are used in Python to assign values to variables.\n",
        "\n",
        "a = 5 is a simple assignment operator that assigns the value 5 on the right to the variable a on the left."
      ]
    },
    {
      "cell_type": "code",
      "metadata": {
        "id": "cJ-KhgILYs_J",
        "outputId": "f23eeb9f-0217-4cf6-8389-2ac9014ce155",
        "colab": {
          "base_uri": "https://localhost:8080/",
          "height": 35
        }
      },
      "source": [
        "print('=,  +=,  -=,  *=,  /=,  %=,  //=,  **=, &=,  |=,  ^=,  >>=,  <<= are Assignment operators')"
      ],
      "execution_count": 181,
      "outputs": [
        {
          "output_type": "stream",
          "text": [
            "=,  +=,  -=,  *=,  /=,  %=,  //=,  **=, &=,  |=,  ^=,  >>=,  <<= are Assignment operators\n"
          ],
          "name": "stdout"
        }
      ]
    },
    {
      "cell_type": "code",
      "metadata": {
        "id": "V6qk-DA2Ys_L",
        "outputId": "0ae91f67-d1b6-453b-f1d4-40ef9b3ad703",
        "colab": {
          "base_uri": "https://localhost:8080/",
          "height": 143
        }
      },
      "source": [
        "a = 10\n",
        "\n",
        "a += 10 #add AND\n",
        "print(a)\n",
        "\n",
        "a -= 10 #subtract AND (-=)\n",
        "print(a)\n",
        "\n",
        "a *= 10 #Multiply AND (*=)\n",
        "print(a)\n",
        "\n",
        "a /= 10 #Divide AND (/=)\n",
        "print(a)\n",
        "\n",
        "a %= 10 #Modulus AND (%=)\n",
        "print(a)\n",
        "\n",
        "a //= 10 #Floor Division (//=)\n",
        "print(a)\n",
        "\n",
        "a **= 10 #Exponent AND (**=)\n",
        "print(a)"
      ],
      "execution_count": 182,
      "outputs": [
        {
          "output_type": "stream",
          "text": [
            "20\n",
            "10\n",
            "100\n",
            "10.0\n",
            "0.0\n",
            "0.0\n",
            "0.0\n"
          ],
          "name": "stdout"
        }
      ]
    },
    {
      "cell_type": "markdown",
      "metadata": {
        "id": "r8BLycOmYs_M"
      },
      "source": [
        "### **Special Operators**"
      ]
    },
    {
      "cell_type": "markdown",
      "metadata": {
        "id": "o_AG0VZFYs_O"
      },
      "source": [
        "#### **Identity Operators**"
      ]
    },
    {
      "cell_type": "markdown",
      "metadata": {
        "id": "-n66JCj0Ys_O"
      },
      "source": [
        "**is and is not** are the identity operators in Python.\n",
        "\n",
        "They are used to check if two values (or variables) are located on the same part of the memory."
      ]
    },
    {
      "cell_type": "code",
      "metadata": {
        "id": "fBWoNHnRYs_O",
        "outputId": "c0d8e938-f1e4-45b0-abdc-f5943ee20ec6",
        "colab": {
          "base_uri": "https://localhost:8080/",
          "height": 53
        }
      },
      "source": [
        "a = 5\n",
        "b = 5\n",
        "print(a is b)    #5 is object created once both a and b points to same object\n",
        "\n",
        "print(a is not b) #check is not"
      ],
      "execution_count": 183,
      "outputs": [
        {
          "output_type": "stream",
          "text": [
            "True\n",
            "False\n"
          ],
          "name": "stdout"
        }
      ]
    },
    {
      "cell_type": "code",
      "metadata": {
        "id": "ZdwwSpRWYs_Q",
        "outputId": "79f2f652-13e6-4e4c-a88b-d8f5bdbad965",
        "colab": {
          "base_uri": "https://localhost:8080/",
          "height": 35
        }
      },
      "source": [
        "l1 = [1, 2, 3]\n",
        "l2 = [1, 2, 3]\n",
        "print(l1 is l2)"
      ],
      "execution_count": 184,
      "outputs": [
        {
          "output_type": "stream",
          "text": [
            "False\n"
          ],
          "name": "stdout"
        }
      ]
    },
    {
      "cell_type": "code",
      "metadata": {
        "id": "fxIdLSv3Ys_T",
        "outputId": "baa677f2-440e-4460-a86e-794b30205d66",
        "colab": {
          "base_uri": "https://localhost:8080/",
          "height": 35
        }
      },
      "source": [
        "s1 = \"Satish\"\n",
        "s2 = \"Satish\"\n",
        "print(s1 is not s2)"
      ],
      "execution_count": 185,
      "outputs": [
        {
          "output_type": "stream",
          "text": [
            "False\n"
          ],
          "name": "stdout"
        }
      ]
    },
    {
      "cell_type": "markdown",
      "metadata": {
        "id": "ryG90yKVYs_U"
      },
      "source": [
        "#### **MemberShip Operators**"
      ]
    },
    {
      "cell_type": "markdown",
      "metadata": {
        "id": "YtoE_wvOYs_U"
      },
      "source": [
        "**in and not in** are the membership operators in Python.\n",
        "\n",
        "They are used to test whether a value or variable is found in a sequence (string, list, tuple, set and dictionary)."
      ]
    },
    {
      "cell_type": "code",
      "metadata": {
        "id": "i0e1kQ9yYs_U",
        "outputId": "5838a804-ed73-4f97-e81e-3c04e1049ae1",
        "colab": {
          "base_uri": "https://localhost:8080/",
          "height": 53
        }
      },
      "source": [
        "lst = [1, 2, 3, 4]\n",
        "print(1 in lst)       #check 1 is present in a given list or not\n",
        "\n",
        "print(1 not in lst) #check 5 is present in a given list"
      ],
      "execution_count": 186,
      "outputs": [
        {
          "output_type": "stream",
          "text": [
            "True\n",
            "False\n"
          ],
          "name": "stdout"
        }
      ]
    },
    {
      "cell_type": "code",
      "metadata": {
        "id": "wnzPgXr6Ys_V",
        "outputId": "5486957e-c683-4227-b3ed-b51ff26f80cb",
        "colab": {
          "base_uri": "https://localhost:8080/",
          "height": 35
        }
      },
      "source": [
        "d = {1: \"a\", 2: \"b\"}\n",
        "print(1 in d)"
      ],
      "execution_count": 187,
      "outputs": [
        {
          "output_type": "stream",
          "text": [
            "True\n"
          ],
          "name": "stdout"
        }
      ]
    },
    {
      "cell_type": "markdown",
      "metadata": {
        "id": "UtL7kFD8ebxK"
      },
      "source": [
        "## **Python Conditional Statements**"
      ]
    },
    {
      "cell_type": "markdown",
      "metadata": {
        "id": "mDKZP6LFYs_X"
      },
      "source": [
        "### **Python if ... else Statement**"
      ]
    },
    {
      "cell_type": "markdown",
      "metadata": {
        "id": "FPLesx96Ys_X"
      },
      "source": [
        "The **if…elif…else** statement is used in Python for decision making."
      ]
    },
    {
      "cell_type": "markdown",
      "metadata": {
        "id": "27OGgqO0Ys_Y"
      },
      "source": [
        "#### **if statement syntax**"
      ]
    },
    {
      "cell_type": "markdown",
      "metadata": {
        "id": "RAOo4ldUYs_Y"
      },
      "source": [
        "**Syntax:**<br><br>\n",
        "**if expression:** <br/>\n",
        "&emsp;**statement**<br/>\n",
        "&emsp;**.**<br/>\n",
        "&emsp;**.**"
      ]
    },
    {
      "cell_type": "markdown",
      "metadata": {
        "id": "86bVuDdTYs_Y"
      },
      "source": [
        "The program evaluates the test expression and will execute statement(s) only if the text expression is True.\n",
        "\n",
        "If the text expression is False, the statement(s) is not executed.\n",
        "\n",
        "Python interprets non-zero values as True. None and 0 are interpreted as False."
      ]
    },
    {
      "cell_type": "code",
      "metadata": {
        "id": "ddnqHudyYs_Y",
        "outputId": "4c7bfd95-94f2-404a-bc4f-8c0a449bebc2",
        "colab": {
          "base_uri": "https://localhost:8080/",
          "height": 35
        }
      },
      "source": [
        "num = 10\n",
        "if num > 0:\n",
        "    print(\"Positive number\")"
      ],
      "execution_count": 188,
      "outputs": [
        {
          "output_type": "stream",
          "text": [
            "Positive number\n"
          ],
          "name": "stdout"
        }
      ]
    },
    {
      "cell_type": "markdown",
      "metadata": {
        "id": "ZmBgs4fsYs_Z"
      },
      "source": [
        "#### **if ... else Statement**"
      ]
    },
    {
      "cell_type": "markdown",
      "metadata": {
        "id": "9UAKzmGQYs_Z"
      },
      "source": [
        "**Syntax:**<br><br>\n",
        "**if test expression:**<br/>\n",
        "&emsp;**statement**<br/>\n",
        "**else:**<br/>\n",
        "&emsp;**else statement**<br/>"
      ]
    },
    {
      "cell_type": "code",
      "metadata": {
        "id": "dcuWJjHCYs_Z",
        "outputId": "67490342-2b81-404e-de78-383e9b8153f6",
        "colab": {
          "base_uri": "https://localhost:8080/",
          "height": 35
        }
      },
      "source": [
        "num = 10\n",
        "if num > 0:\n",
        "    print(\"Positive number\")\n",
        "else:\n",
        "    print(\"Negative Number\")"
      ],
      "execution_count": 189,
      "outputs": [
        {
          "output_type": "stream",
          "text": [
            "Positive number\n"
          ],
          "name": "stdout"
        }
      ]
    },
    {
      "cell_type": "markdown",
      "metadata": {
        "id": "JmdJu8VyYs_b"
      },
      "source": [
        "#### **if...elif...else Statement**"
      ]
    },
    {
      "cell_type": "markdown",
      "metadata": {
        "id": "ZJKEByR0Ys_b"
      },
      "source": [
        "**Syntax:**<br><br>\n",
        "**if expression:**<br/>\n",
        "&emsp;**statement**<br/>\n",
        "**elif expression:**<br/>\n",
        "&emsp;**else if statement**<br/>\n",
        "**else:**<br/>\n",
        "&emsp;**else statement**<br/>\n",
        "\n",
        "\n"
      ]
    },
    {
      "cell_type": "code",
      "metadata": {
        "id": "wsUdXbBsYs_b",
        "outputId": "bde63f46-e434-4630-ba30-5c68362a2c9d",
        "colab": {
          "base_uri": "https://localhost:8080/",
          "height": 35
        }
      },
      "source": [
        "num = 0\n",
        "\n",
        "if num > 0:\n",
        "    print(\"Positive number\")\n",
        "elif num == 0:\n",
        "    print(\"ZERO\")\n",
        "else:\n",
        "    print(\"Negative Number\")"
      ],
      "execution_count": 190,
      "outputs": [
        {
          "output_type": "stream",
          "text": [
            "ZERO\n"
          ],
          "name": "stdout"
        }
      ]
    },
    {
      "cell_type": "markdown",
      "metadata": {
        "id": "bAS71yojYs_c"
      },
      "source": [
        "#### **Nested if Statements**"
      ]
    },
    {
      "cell_type": "markdown",
      "metadata": {
        "id": "dNVacgPCYs_c"
      },
      "source": [
        "We can have a if...elif...else statement inside another if...elif...else statement. This is called nesting in computer programming."
      ]
    },
    {
      "cell_type": "markdown",
      "metadata": {
        "id": "ek6Z_qrrYs_d"
      },
      "source": [
        "**Syntax:**<br><br>\n",
        "**if test expression:**<br>\n",
        "&emsp;**if test expression:**<br>\n",
        "&emsp;&emsp;**Body of if**<br>\n",
        "        &nbsp;&nbsp;&nbsp;&nbsp;&nbsp;&nbsp;\n",
        "&emsp;**else:**<br>\n",
        "&emsp;&emsp;**Body of if**<br>\n",
        "**else:** <br>\n",
        "&emsp;**Body of if**"
      ]
    },
    {
      "cell_type": "code",
      "metadata": {
        "id": "hd5_12fRYs_d",
        "outputId": "269042e7-5c4d-433b-c9b2-b36882118d5b",
        "colab": {
          "base_uri": "https://localhost:8080/",
          "height": 35
        }
      },
      "source": [
        "num = 10.5\n",
        "\n",
        "if num >= 0:\n",
        "    if num == 0:\n",
        "        print(\"Zero\")\n",
        "    else:\n",
        "        print(\"Positive number\")\n",
        "else:\n",
        "    print(\"Negative Number\")"
      ],
      "execution_count": 191,
      "outputs": [
        {
          "output_type": "stream",
          "text": [
            "Positive number\n"
          ],
          "name": "stdout"
        }
      ]
    },
    {
      "cell_type": "markdown",
      "metadata": {
        "id": "3EJ9UwGBYs_e"
      },
      "source": [
        "#### **Python program to find the largest element among three Numbers**"
      ]
    },
    {
      "cell_type": "code",
      "metadata": {
        "id": "x2cvLT-qYs_e",
        "outputId": "886bc835-b4e0-4360-e1a6-b536863c7e4a",
        "colab": {
          "base_uri": "https://localhost:8080/",
          "height": 35
        }
      },
      "source": [
        "num1 = 10\n",
        "num2 = 50\n",
        "num3 = 15\n",
        "\n",
        "if (num1 >= num2) and (num1 >= num3):           #logical operator   and\n",
        "    largest = num1\n",
        "elif (num2 >= num1) and (num2 >= num3):\n",
        "    largest = num2\n",
        "else:\n",
        "    largest = num3\n",
        "print(\"Largest element among three numbers is: {}\".format(largest))"
      ],
      "execution_count": 192,
      "outputs": [
        {
          "output_type": "stream",
          "text": [
            "Largest element among three numbers is: 50\n"
          ],
          "name": "stdout"
        }
      ]
    },
    {
      "cell_type": "markdown",
      "metadata": {
        "id": "4S89tm45Ys_f"
      },
      "source": [
        "### **Python while Loop**"
      ]
    },
    {
      "cell_type": "markdown",
      "metadata": {
        "id": "UNxHa8ynYs_f"
      },
      "source": [
        "The while loop in Python is used to iterate over a block of code as long as the test expression (condition) is true."
      ]
    },
    {
      "cell_type": "markdown",
      "metadata": {
        "id": "zNMV_aGfYs_f"
      },
      "source": [
        "**Syntax:**<br><br>\n",
        "**while expression:**<br>\n",
        "&emsp;**Body of while**"
      ]
    },
    {
      "cell_type": "markdown",
      "metadata": {
        "id": "EtzrwrqoYs_f"
      },
      "source": [
        "The body of the loop is entered only if the test_expression evaluates to True.\n",
        "\n",
        "After one iteration, the test expression is checked again.\n",
        "\n",
        "This process continues until the test_expression evaluates to False."
      ]
    },
    {
      "cell_type": "code",
      "metadata": {
        "id": "621LkkL1Ys_f",
        "outputId": "639003ac-7482-4c0a-a68d-82b4052a258c",
        "colab": {
          "base_uri": "https://localhost:8080/",
          "height": 35
        }
      },
      "source": [
        "#Find product of all numbers present in a list\n",
        "\n",
        "lst = [10, 20, 30, 40, 60]\n",
        "\n",
        "product = 1\n",
        "index = 0\n",
        "\n",
        "while index < len(lst):\n",
        "    product *= lst[index]\n",
        "    index += 1\n",
        "\n",
        "print(\"Product is: {}\".format(product))"
      ],
      "execution_count": 193,
      "outputs": [
        {
          "output_type": "stream",
          "text": [
            "Product is: 14400000\n"
          ],
          "name": "stdout"
        }
      ]
    },
    {
      "cell_type": "markdown",
      "metadata": {
        "id": "DvbRHIVyYs_g"
      },
      "source": [
        "#### **while Loop with else**"
      ]
    },
    {
      "cell_type": "markdown",
      "metadata": {
        "id": "cua1YsQjYs_g"
      },
      "source": [
        "Same as that of for loop, we can have an optional else block with while loop as well.\n",
        "\n",
        "\n",
        "\n",
        "The else part is executed if the condition in the while loop evaluates to False. The while loop can be terminated with a break statement.\n",
        "\n",
        "In such case, the else part is ignored. Hence, a while loop's else part runs if no break occurs and the condition is false."
      ]
    },
    {
      "cell_type": "markdown",
      "metadata": {
        "id": "WcPfIbVoT93W"
      },
      "source": [
        "**Syntax:**<br><br>\n",
        "**while expression:**<br>\n",
        "&emsp;**Body of while**<br>\n",
        "**else:**<br>\n",
        "&emsp;**Body of else**\n"
      ]
    },
    {
      "cell_type": "code",
      "metadata": {
        "id": "O7AYRA97Ys_h",
        "outputId": "3b63f390-469a-47e6-8867-d3dd372a63ab",
        "colab": {
          "base_uri": "https://localhost:8080/",
          "height": 125
        }
      },
      "source": [
        "numbers = [1, 2, 3,4,5]\n",
        "\n",
        "#iterating over the list\n",
        "index = 0\n",
        "while index < len(numbers):\n",
        "    print(numbers[index])\n",
        "    index += 1\n",
        "    \n",
        "else:\n",
        "    print(\"no item left in the list\")"
      ],
      "execution_count": 194,
      "outputs": [
        {
          "output_type": "stream",
          "text": [
            "1\n",
            "2\n",
            "3\n",
            "4\n",
            "5\n",
            "no item left in the list\n"
          ],
          "name": "stdout"
        }
      ]
    },
    {
      "cell_type": "markdown",
      "metadata": {
        "id": "QrWRz7BEYs_i"
      },
      "source": [
        "#### **Python Program to check given number is Prime number or not**"
      ]
    },
    {
      "cell_type": "code",
      "metadata": {
        "id": "5ofHF461Ys_i",
        "outputId": "e7cd914e-b8f8-4369-9303-ab9356f14359",
        "colab": {
          "base_uri": "https://localhost:8080/",
          "height": 53
        }
      },
      "source": [
        "num = int(input(\"Enter a number: \"))        #convert string to int\n",
        "\n",
        "\n",
        "isDivisible = False;\n",
        "\n",
        "i=2;\n",
        "while i < num:\n",
        "    if num % i == 0:\n",
        "        isDivisible = True;\n",
        "        print (\"{} is divisible by {}\".format(num,i) )\n",
        "    i += 1;\n",
        "    \n",
        "if isDivisible:\n",
        "    print(\"{} is NOT a Prime number\".format(num))\n",
        "else:\n",
        "    print(\"{} is a Prime number\".format(num))"
      ],
      "execution_count": 195,
      "outputs": [
        {
          "output_type": "stream",
          "text": [
            "Enter a number: 5\n",
            "5 is a Prime number\n"
          ],
          "name": "stdout"
        }
      ]
    },
    {
      "cell_type": "markdown",
      "metadata": {
        "id": "3PJto_NCYs_j"
      },
      "source": [
        "#### **Python for Loop**"
      ]
    },
    {
      "cell_type": "markdown",
      "metadata": {
        "id": "j4PdjabuYs_j"
      },
      "source": [
        "The for loop in Python is used to iterate over a sequence (list, tuple, string) or other iterable objects.\n",
        "\n",
        "Iterating over a sequence is called traversal."
      ]
    },
    {
      "cell_type": "markdown",
      "metadata": {
        "id": "fxh1AxcBYs_j"
      },
      "source": [
        "**Syntax:**<br><br>\n",
        "\n",
        "**for element in sequence :**<br>\n",
        "&emsp;**Body of for**"
      ]
    },
    {
      "cell_type": "markdown",
      "metadata": {
        "id": "_run_gRPYs_j"
      },
      "source": [
        "Here, element is the variable that takes the value of the item inside the sequence on each iteration.\n",
        "\n",
        "Loop continues until we reach the last item in the sequence."
      ]
    },
    {
      "cell_type": "code",
      "metadata": {
        "id": "ws4znCaPYs_j",
        "outputId": "6e4a77c6-bc87-4981-e4a2-7406f8301db3",
        "colab": {
          "base_uri": "https://localhost:8080/",
          "height": 35
        }
      },
      "source": [
        "#Find product of all numbers present in a list\n",
        "\n",
        "lst = [10, 20, 30, 40, 50]\n",
        "\n",
        "product = 1\n",
        "#iterating over the list\n",
        "for ele in lst:\n",
        "    product *= ele\n",
        "\n",
        "print(\"Product is: {}\".format(product))"
      ],
      "execution_count": 196,
      "outputs": [
        {
          "output_type": "stream",
          "text": [
            "Product is: 12000000\n"
          ],
          "name": "stdout"
        }
      ]
    },
    {
      "cell_type": "markdown",
      "metadata": {
        "id": "kFTEaOk3Ys_m"
      },
      "source": [
        "#### **range() function**"
      ]
    },
    {
      "cell_type": "markdown",
      "metadata": {
        "id": "xI4DEe91Ys_m"
      },
      "source": [
        "We can generate a sequence of numbers using range() function. range(10) will generate numbers from 0 to 9 (10 numbers).\n",
        "\n",
        "We can also define the start, stop and step size as range(start,stop,step size). step size defaults to 1 if not provided.\n",
        "\n",
        "This function does not store all the values in memory, it would be inefficient. So it remembers the start, stop, step size and generates the next number on the go."
      ]
    },
    {
      "cell_type": "markdown",
      "metadata": {
        "id": "85XIlfrjYC4B"
      },
      "source": [
        "**Syntax:**<br><br>\n",
        "**for element in range()**<br>\n",
        "&nbsp;&nbsp;&nbsp;&nbsp;&nbsp;&nbsp;\n",
        "**Body of for**"
      ]
    },
    {
      "cell_type": "code",
      "metadata": {
        "id": "H3JjZZNqYs_n",
        "outputId": "f905cf1c-67f4-45cb-84b5-a7aadab4c8c7",
        "colab": {
          "base_uri": "https://localhost:8080/",
          "height": 197
        }
      },
      "source": [
        "#print range of 10\n",
        "for i in range(10):\n",
        "    print(i)"
      ],
      "execution_count": 197,
      "outputs": [
        {
          "output_type": "stream",
          "text": [
            "0\n",
            "1\n",
            "2\n",
            "3\n",
            "4\n",
            "5\n",
            "6\n",
            "7\n",
            "8\n",
            "9\n"
          ],
          "name": "stdout"
        }
      ]
    },
    {
      "cell_type": "code",
      "metadata": {
        "id": "L8w6f2ypYs_o",
        "outputId": "cf16c4ff-b7b2-4fa3-871c-979a0a253c16",
        "colab": {
          "base_uri": "https://localhost:8080/",
          "height": 89
        }
      },
      "source": [
        "#print range of numbers from 1 to 20 with step size of 2\n",
        "for i in range(0, 20, 5):\n",
        "    print(i)"
      ],
      "execution_count": 198,
      "outputs": [
        {
          "output_type": "stream",
          "text": [
            "0\n",
            "5\n",
            "10\n",
            "15\n"
          ],
          "name": "stdout"
        }
      ]
    },
    {
      "cell_type": "code",
      "metadata": {
        "id": "wI9CezdQYs_q",
        "outputId": "884ac436-2a72-435f-bcce-fcd37aab5319",
        "colab": {
          "base_uri": "https://localhost:8080/",
          "height": 107
        }
      },
      "source": [
        "lst = [\"krystal\", \"Lucifer\", \"Ultimatenoob\", \"Hotdude\", \"Warlock\"]\n",
        "\n",
        "#iterate over the list using index\n",
        "#for index in range(len(lst)):\n",
        "#    print(lst[index])\n",
        "for ele in lst:\n",
        "    print(ele)"
      ],
      "execution_count": 199,
      "outputs": [
        {
          "output_type": "stream",
          "text": [
            "krystal\n",
            "Lucifer\n",
            "Ultimatenoob\n",
            "Hotdude\n",
            "Warlock\n"
          ],
          "name": "stdout"
        }
      ]
    },
    {
      "cell_type": "markdown",
      "metadata": {
        "id": "mrle0YC4Ys_r"
      },
      "source": [
        "#### **for loop with else**"
      ]
    },
    {
      "cell_type": "markdown",
      "metadata": {
        "id": "Sh0lS90EYs_r"
      },
      "source": [
        "A for loop can have an optional else block as well. The else part is executed if the items in the sequence used in for loop exhausts.\n",
        "\n",
        "break statement can be used to stop a for loop. In such case, the else part is ignored.\n",
        "\n",
        "Hence, a for loop's else part runs if no break occurs."
      ]
    },
    {
      "cell_type": "markdown",
      "metadata": {
        "id": "Lp4YryUcYhuC"
      },
      "source": [
        "**Syntax:**<br><br>\n",
        "**for expression:**<br>\n",
        "&emsp;**Body of for**<br>\n",
        "**else**<br>\n",
        "&emsp;**Body of else**"
      ]
    },
    {
      "cell_type": "code",
      "metadata": {
        "id": "BZDGo4sxYs_r",
        "outputId": "84b08e37-fde7-4180-8515-4ae896906ced",
        "colab": {
          "base_uri": "https://localhost:8080/",
          "height": 89
        }
      },
      "source": [
        "numbers = [1, 2, 3]\n",
        "\n",
        "#iterating over the list\n",
        "for item in numbers:\n",
        "    print(item)\n",
        "else:\n",
        "    print(\"no item left in the list\")"
      ],
      "execution_count": 200,
      "outputs": [
        {
          "output_type": "stream",
          "text": [
            "1\n",
            "2\n",
            "3\n",
            "no item left in the list\n"
          ],
          "name": "stdout"
        }
      ]
    },
    {
      "cell_type": "code",
      "metadata": {
        "id": "eG4E-scwYs_t",
        "outputId": "bec6711d-0bf9-4f5b-e292-d97dcfbfed5b",
        "colab": {
          "base_uri": "https://localhost:8080/",
          "height": 53
        }
      },
      "source": [
        "for item in numbers:\n",
        "    print(item)\n",
        "    if item % 2 == 0:\n",
        "        break\n",
        "else:\n",
        "    print(\"no item left in the list\")"
      ],
      "execution_count": 201,
      "outputs": [
        {
          "output_type": "stream",
          "text": [
            "1\n",
            "2\n"
          ],
          "name": "stdout"
        }
      ]
    },
    {
      "cell_type": "markdown",
      "metadata": {
        "id": "pgsEFXCfYs_u"
      },
      "source": [
        "#### **Python Program to display all prime numbers within an interval**"
      ]
    },
    {
      "cell_type": "code",
      "metadata": {
        "id": "BXc_TdgRYs_u",
        "outputId": "385ef2e6-0301-41a1-af2b-5087e2be3b62",
        "colab": {
          "base_uri": "https://localhost:8080/",
          "height": 161
        }
      },
      "source": [
        "index1 = 20\n",
        "index2 = 50\n",
        "\n",
        "print(\"Prime numbers between {0} and {1} are :\".format(index1, index2))\n",
        "\n",
        "for num in range(index1, index2+1):      #default step size is 1\n",
        "    if num > 1:\n",
        "        isDivisible = False;\n",
        "        for index in range(2, num):\n",
        "            if num % index == 0:\n",
        "                isDivisible = True;\n",
        "        if not isDivisible:        \n",
        "            print(num);\n",
        "    "
      ],
      "execution_count": 202,
      "outputs": [
        {
          "output_type": "stream",
          "text": [
            "Prime numbers between 20 and 50 are :\n",
            "23\n",
            "29\n",
            "31\n",
            "37\n",
            "41\n",
            "43\n",
            "47\n"
          ],
          "name": "stdout"
        }
      ]
    },
    {
      "cell_type": "markdown",
      "metadata": {
        "id": "_oaAh4cFYs_w"
      },
      "source": [
        "### **Python break and continue Statements**"
      ]
    },
    {
      "cell_type": "markdown",
      "metadata": {
        "id": "mnaoU4yHYs_w"
      },
      "source": [
        "In Python, break and continue statements can alter the flow of a normal loop.\n",
        "\n",
        "Loops iterate over a block of code until test expression is false, but sometimes we wish to terminate the current iteration or even the whole loop without cheking test expression.\n",
        "\n",
        "The break and continue statements are used in these cases."
      ]
    },
    {
      "cell_type": "markdown",
      "metadata": {
        "id": "yoHdLy6AYs_w"
      },
      "source": [
        "#### **Python break Statement**"
      ]
    },
    {
      "cell_type": "markdown",
      "metadata": {
        "id": "dKzIK8WNYs_w"
      },
      "source": [
        "**Syntax:**<br><br>\n",
        "**for expression:**<br>\n",
        "&emsp;**if expression:**<br>\n",
        "&emsp;&emsp;**break**<br>\n",
        "**else**<br>\n",
        "&emsp;**Body of else**\n"
      ]
    },
    {
      "cell_type": "code",
      "metadata": {
        "id": "VQE_Afq5Ys_w",
        "outputId": "ceff4e3a-eca4-4950-ff6d-7ec240f2a9d4",
        "colab": {
          "base_uri": "https://localhost:8080/",
          "height": 89
        }
      },
      "source": [
        "numbers = [1, 2, 3, 4, 5]\n",
        "for num in numbers:          #iterating over list\n",
        "    if num == 4:\n",
        "        break\n",
        "    print(num)\n",
        "else:\n",
        "    print(\"in the else-block\")\n",
        "print(\"Outside of for loop\")"
      ],
      "execution_count": 203,
      "outputs": [
        {
          "output_type": "stream",
          "text": [
            "1\n",
            "2\n",
            "3\n",
            "Outside of for loop\n"
          ],
          "name": "stdout"
        }
      ]
    },
    {
      "cell_type": "markdown",
      "metadata": {
        "id": "kdCvbEXIYs_x"
      },
      "source": [
        "#### **Python Program to check given number is Prime number or not (using break)**"
      ]
    },
    {
      "cell_type": "code",
      "metadata": {
        "id": "steU1FgCYs_y",
        "outputId": "895f2910-2940-475e-dee0-0856a7bbd85c",
        "colab": {
          "base_uri": "https://localhost:8080/",
          "height": 53
        }
      },
      "source": [
        "num = int(input(\"Enter a number: \"))        #convert string to int\n",
        "\n",
        "\n",
        "isDivisible = False;\n",
        "\n",
        "i=2;\n",
        "while i < num:\n",
        "    if num % i == 0:\n",
        "        isDivisible = True;\n",
        "        print (\"{} is divisible by {}\".format(num,i) )\n",
        "        break; # this line is the only addition.\n",
        "    i += 1;\n",
        "    \n",
        "if isDivisible:\n",
        "    print(\"{} is NOT a Prime number\".format(num))\n",
        "else:\n",
        "    print(\"{} is a Prime number\".format(num))"
      ],
      "execution_count": 205,
      "outputs": [
        {
          "output_type": "stream",
          "text": [
            "Enter a number: 5\n",
            "5 is a Prime number\n"
          ],
          "name": "stdout"
        }
      ]
    },
    {
      "cell_type": "markdown",
      "metadata": {
        "id": "eQnbAeynYs_y"
      },
      "source": [
        "#### **Python Continue Statement**"
      ]
    },
    {
      "cell_type": "markdown",
      "metadata": {
        "id": "DUCLsLS7Ys_1"
      },
      "source": [
        "**Syntax:**<br><br>\n",
        "**for expression:**<br>\n",
        "&emsp;**if expression:**<br>\n",
        "&emsp;&emsp;**continue**<br>\n",
        "**else**<br>\n",
        "&emsp;**Body of else**"
      ]
    },
    {
      "cell_type": "code",
      "metadata": {
        "id": "Zu9NhwZmYs_1",
        "outputId": "dcf782ab-72be-4c0f-e549-c609045e8824",
        "colab": {
          "base_uri": "https://localhost:8080/",
          "height": 89
        }
      },
      "source": [
        "#print odd numbers present in a list\n",
        "numbers = [1, 2, 3, 4, 5]\n",
        "\n",
        "for num in numbers:\n",
        "    if num % 2 == 0:\n",
        "        continue\n",
        "    print(num)\n",
        "else:\n",
        "    print(\"else-block\")"
      ],
      "execution_count": 206,
      "outputs": [
        {
          "output_type": "stream",
          "text": [
            "1\n",
            "3\n",
            "5\n",
            "else-block\n"
          ],
          "name": "stdout"
        }
      ]
    },
    {
      "cell_type": "markdown",
      "metadata": {
        "id": "NTtz7nvoNoKg"
      },
      "source": [
        "## **Python Functions**\n"
      ]
    },
    {
      "cell_type": "markdown",
      "metadata": {
        "id": "jU2EESyauEDN"
      },
      "source": [
        "Function is a group of related statements that perform a specific task.\n",
        "\n",
        "Functions help break our program into smaller and modular chunks. As our program grows larger and larger, functions make it more organized and managable.\n",
        "\n",
        "It avoids repetition and makes code reusable"
      ]
    },
    {
      "cell_type": "markdown",
      "metadata": {
        "id": "oeq5_edUzdij"
      },
      "source": [
        "**Syntax:**<br><br>\n",
        "**def function_name(parameters):**<br/>\n",
        "&emsp;\"&nbsp;\"&nbsp;\"<br/>\n",
        "&emsp;**Doc String**<br/>\n",
        "&emsp;\"&nbsp;\"&nbsp;\"<br/>\n",
        "&emsp;**statemente(s)**<br/>\n",
        "&emsp;.<br/>\n",
        "&emsp;.<br/>\n",
        "&emsp;**return (parameter/None)**\n",
        "\n",
        "\n"
      ]
    },
    {
      "cell_type": "markdown",
      "metadata": {
        "id": "pjYv9PG70OeT"
      },
      "source": [
        "1. keyword \"def\" marks the start of the function header\n",
        "2. Parameters (arguments) through which we pass values to a function. These are optional\n",
        "3. A colon(:) to mark the end of the function header\n",
        "4. Doc string describes what the function does. This is optional\n",
        "5. \"return\" statement to return a value form a function.This is optional "
      ]
    },
    {
      "cell_type": "code",
      "metadata": {
        "id": "x8k3ooDe1vfU"
      },
      "source": [
        "def print_name(name):\n",
        "    \"\"\"\n",
        "    This function prints the name\n",
        "    \"\"\"\n",
        "    print(\"Hello \" + str(name))"
      ],
      "execution_count": 207,
      "outputs": []
    },
    {
      "cell_type": "markdown",
      "metadata": {
        "id": "dHbXp8qv13RW"
      },
      "source": [
        "**Function Call**\n",
        "\n",
        "Once we define a function we can call it from anywhere"
      ]
    },
    {
      "cell_type": "code",
      "metadata": {
        "id": "JeC5CX-02UxV",
        "outputId": "d679cd29-9099-4269-b0c7-b09e6f282ee0",
        "colab": {
          "base_uri": "https://localhost:8080/",
          "height": 35
        }
      },
      "source": [
        "print_name('Krystal')"
      ],
      "execution_count": 208,
      "outputs": [
        {
          "output_type": "stream",
          "text": [
            "Hello Krystal\n"
          ],
          "name": "stdout"
        }
      ]
    },
    {
      "cell_type": "markdown",
      "metadata": {
        "id": "CSce3dNJ2f_Q"
      },
      "source": [
        "**Doc String**\n",
        "\n",
        "- The first string after the function header is called the docstring and is short for documentation string.\n",
        "- Although optional, documentation is a good programming practice, always document your code\n",
        "- Doc string will be written in triple quotes so that docstring can extend up to multiple lines "
      ]
    },
    {
      "cell_type": "code",
      "metadata": {
        "id": "rfNba_dV3N8_",
        "outputId": "088f8c57-efdc-4d88-cffd-91ee5600275c",
        "colab": {
          "base_uri": "https://localhost:8080/",
          "height": 71
        }
      },
      "source": [
        "print(print_name.__doc__)"
      ],
      "execution_count": 209,
      "outputs": [
        {
          "output_type": "stream",
          "text": [
            "\n",
            "    This function prints the name\n",
            "    \n"
          ],
          "name": "stdout"
        }
      ]
    },
    {
      "cell_type": "markdown",
      "metadata": {
        "id": "rmMQqCmQ3WrL"
      },
      "source": [
        "**return statement**\n",
        "\n",
        "The return statement is used to exit the function and go back to the place from where it was called.\n",
        "\n",
        "- return statement can conatain an expression which get evaluated and the value is returned.\n",
        "- if there is no expression in the statement or the return statement iteself is not present inside a function, then the function will return None Object"
      ]
    },
    {
      "cell_type": "code",
      "metadata": {
        "id": "KOX4sesi3nuu"
      },
      "source": [
        "def get_sum(lst):\n",
        "    \"\"\"\n",
        "    This function returns the sum of all the elements in the list\n",
        "    \"\"\"\n",
        "    #initialize sum\n",
        "    _sum = 0\n",
        "\n",
        "    #iterating over the list\n",
        "    for num in lst:\n",
        "        _sum += num\n",
        "    return _sum\n"
      ],
      "execution_count": 210,
      "outputs": []
    },
    {
      "cell_type": "code",
      "metadata": {
        "id": "4H9Z2f3ZAOQN",
        "outputId": "73632104-58fb-4f42-ed1a-6c3fb3dba114",
        "colab": {
          "base_uri": "https://localhost:8080/",
          "height": 35
        }
      },
      "source": [
        "s = get_sum([1,2,3,4])\n",
        "print(s)"
      ],
      "execution_count": 211,
      "outputs": [
        {
          "output_type": "stream",
          "text": [
            "10\n"
          ],
          "name": "stdout"
        }
      ]
    },
    {
      "cell_type": "markdown",
      "metadata": {
        "id": "lBafhaYBAUyC"
      },
      "source": [
        "#### **Scope and life time of a Variable**"
      ]
    },
    {
      "cell_type": "markdown",
      "metadata": {
        "id": "5wm7HZnxAzx6"
      },
      "source": [
        "- Scope of a variable is the portion of a program where the variable is recognized\n",
        "- Variables defined inside a function is not visible from outside. Hence, thet have a local scope.\n",
        "- Lifetime of a variable is the period throughout which the variable exits in the memory.\n",
        "- The lifetime of a variable inside a function is as long as the function executes.\n",
        "- Variables are destroyed once we return from the function"
      ]
    },
    {
      "cell_type": "code",
      "metadata": {
        "id": "u0APMJTKBr9c",
        "outputId": "9ecefd7b-93e2-438d-b333-d9a2a7133ab3",
        "colab": {
          "base_uri": "https://localhost:8080/",
          "height": 262
        }
      },
      "source": [
        "global_var = \"This is the global variable\"\n",
        "def test_life_time():\n",
        "    \"\"\"\n",
        "    This function test the lifetime of the variables\n",
        "    \"\"\"\n",
        "    local_var = \"This is the local variable\"\n",
        "    print(local_var)    # Prints the local variable local_var\n",
        "    print(global_var)   # Prints the local variable global_var\n",
        "\n",
        "#Calling function\n",
        "test_life_time()\n",
        "\n",
        "#Print global variable global_var\n",
        "print(global_var)\n",
        "\n",
        "# Prints the local variable local_var\n",
        "print(local_var)    "
      ],
      "execution_count": 212,
      "outputs": [
        {
          "output_type": "stream",
          "text": [
            "This is the local variable\n",
            "This is the global variable\n",
            "This is the global variable\n"
          ],
          "name": "stdout"
        },
        {
          "output_type": "error",
          "ename": "NameError",
          "evalue": "ignored",
          "traceback": [
            "\u001b[0;31m---------------------------------------------------------------------------\u001b[0m",
            "\u001b[0;31mNameError\u001b[0m                                 Traceback (most recent call last)",
            "\u001b[0;32m<ipython-input-212-341ddafe6717>\u001b[0m in \u001b[0;36m<module>\u001b[0;34m()\u001b[0m\n\u001b[1;32m     15\u001b[0m \u001b[0;34m\u001b[0m\u001b[0m\n\u001b[1;32m     16\u001b[0m \u001b[0;31m# Prints the local variable local_var\u001b[0m\u001b[0;34m\u001b[0m\u001b[0;34m\u001b[0m\u001b[0;34m\u001b[0m\u001b[0m\n\u001b[0;32m---> 17\u001b[0;31m \u001b[0mprint\u001b[0m\u001b[0;34m(\u001b[0m\u001b[0mlocal_var\u001b[0m\u001b[0;34m)\u001b[0m\u001b[0;34m\u001b[0m\u001b[0;34m\u001b[0m\u001b[0m\n\u001b[0m",
            "\u001b[0;31mNameError\u001b[0m: name 'local_var' is not defined"
          ]
        }
      ]
    },
    {
      "cell_type": "markdown",
      "metadata": {
        "id": "iO_6PLOmCv4s"
      },
      "source": [
        "#### **Python program to print Highest Common Factor (HCF) of two numbers**"
      ]
    },
    {
      "cell_type": "code",
      "metadata": {
        "id": "Rd3g_47oDOfk",
        "outputId": "a657a050-3a0d-474e-ed1a-91745f8daa62",
        "colab": {
          "base_uri": "https://localhost:8080/",
          "height": 35
        }
      },
      "source": [
        "def computeHCF(a, b):\n",
        "    \"\"\"\n",
        "    Computing the HCF of two numbers\n",
        "    \"\"\"\n",
        "    smaller = b if a > b else a \n",
        "\n",
        "    hcf = 1\n",
        "    for i in range(1,smaller+1):\n",
        "        if (a % i == 0) and (b % i == 0):\n",
        "            hcf = i\n",
        "    return hcf \n",
        "\n",
        "num1 = 20\n",
        "num2 = 16\n",
        "\n",
        "print(\"H.C.F of {0} and {1} is : {2}\".format(num1, num2, computeHCF(num1, num2)))"
      ],
      "execution_count": 213,
      "outputs": [
        {
          "output_type": "stream",
          "text": [
            "H.C.F of 20 and 16 is : 4\n"
          ],
          "name": "stdout"
        }
      ]
    },
    {
      "cell_type": "markdown",
      "metadata": {
        "id": "AfrcT1ONact9"
      },
      "source": [
        "### **Types of Functions**"
      ]
    },
    {
      "cell_type": "markdown",
      "metadata": {
        "id": "eBQlWegIbELK"
      },
      "source": [
        "There are two broad types of functions \n",
        "\n",
        "1. Bulit-in Functions \n",
        "2. User-defined Functions"
      ]
    },
    {
      "cell_type": "markdown",
      "metadata": {
        "id": "Vt1ZoRkObSLI"
      },
      "source": [
        "#### **Built-in Functions**"
      ]
    },
    {
      "cell_type": "markdown",
      "metadata": {
        "id": "Ybu7XgAwcAPE"
      },
      "source": [
        "##### **Absolute Value**"
      ]
    },
    {
      "cell_type": "markdown",
      "metadata": {
        "id": "NcCiMGX5clWg"
      },
      "source": [
        "Here the absolute value converts all the -ve numbers to the +ve numbers and if we supply the +ve number to the function it remains the same."
      ]
    },
    {
      "cell_type": "code",
      "metadata": {
        "id": "5_m8PwxucVkF",
        "outputId": "3f2cae92-bb7c-4b2e-d8a5-c91e8b678593",
        "colab": {
          "base_uri": "https://localhost:8080/",
          "height": 35
        }
      },
      "source": [
        "# Find the absolute value\n",
        "\n",
        "num = -50\n",
        "print(abs(num))"
      ],
      "execution_count": 214,
      "outputs": [
        {
          "output_type": "stream",
          "text": [
            "50\n"
          ],
          "name": "stdout"
        }
      ]
    },
    {
      "cell_type": "markdown",
      "metadata": {
        "id": "emsEUx_Mc-hW"
      },
      "source": [
        "##### **All**"
      ]
    },
    {
      "cell_type": "markdown",
      "metadata": {
        "id": "s84PW7fvdJtZ"
      },
      "source": [
        " Here this all function return two values\n",
        "\n",
        " True : if all elements in an iteranble are true.<br>\n",
        " False : if any element in an iterable is false."
      ]
    },
    {
      "cell_type": "code",
      "metadata": {
        "id": "EnxIIdoucdm4",
        "outputId": "4c8466b1-45fe-4e0c-c899-f0e7a0a266b1",
        "colab": {
          "base_uri": "https://localhost:8080/",
          "height": 35
        }
      },
      "source": [
        "lst = [1,2,3,4] # as there are no non zero elements\n",
        "print(all(lst))"
      ],
      "execution_count": 215,
      "outputs": [
        {
          "output_type": "stream",
          "text": [
            "True\n"
          ],
          "name": "stdout"
        }
      ]
    },
    {
      "cell_type": "code",
      "metadata": {
        "id": "AvVfENsEeFF3",
        "outputId": "3bbc77e8-1a32-4980-b93c-6c37852e3e47",
        "colab": {
          "base_uri": "https://localhost:8080/",
          "height": 35
        }
      },
      "source": [
        "lst = (0,2,3,4) # 0 is present in the tuple\n",
        "print(all(lst))"
      ],
      "execution_count": 216,
      "outputs": [
        {
          "output_type": "stream",
          "text": [
            "False\n"
          ],
          "name": "stdout"
        }
      ]
    },
    {
      "cell_type": "code",
      "metadata": {
        "id": "0VUVJ0P_eMN7",
        "outputId": "eb5e5d16-6e87-4505-8d6c-67f7ac829937",
        "colab": {
          "base_uri": "https://localhost:8080/",
          "height": 35
        }
      },
      "source": [
        "lst = [] # empty list is alwasys true\n",
        "print(all(lst))"
      ],
      "execution_count": 217,
      "outputs": [
        {
          "output_type": "stream",
          "text": [
            "True\n"
          ],
          "name": "stdout"
        }
      ]
    },
    {
      "cell_type": "code",
      "metadata": {
        "id": "grzcLvCFemus",
        "outputId": "e427fd6e-b4b1-4367-a70c-103117c5e0c7",
        "colab": {
          "base_uri": "https://localhost:8080/",
          "height": 35
        }
      },
      "source": [
        "lst = [False, 1, 2] # False present in a list so all(lst) is False\n",
        "print(all(lst))"
      ],
      "execution_count": 218,
      "outputs": [
        {
          "output_type": "stream",
          "text": [
            "False\n"
          ],
          "name": "stdout"
        }
      ]
    },
    {
      "cell_type": "markdown",
      "metadata": {
        "id": "GM5CUfYFMZph"
      },
      "source": [
        "##### **dir()**"
      ]
    },
    {
      "cell_type": "markdown",
      "metadata": {
        "id": "G0Wnip6kMh2w"
      },
      "source": [
        "- The **dir()** tries to return a list of valid attributes of the objects.\n",
        "- If the object has **dir()** method, the method will be called and must return the list of attributes.\n",
        "- If the object dosen't have **dir()** method, this metho tries to find information from the dict attirbute (if defined), and from type object.In this case, the list returned from dir() may not be completed.\n"
      ]
    },
    {
      "cell_type": "code",
      "metadata": {
        "id": "xoXVfNG6NTa_",
        "outputId": "1b2f378e-14b0-4e8c-b899-0d3a55b4d2d9",
        "colab": {
          "base_uri": "https://localhost:8080/",
          "height": 55
        }
      },
      "source": [
        "numbers = [1, 2, 3]\n",
        "print(dir(numbers))"
      ],
      "execution_count": 219,
      "outputs": [
        {
          "output_type": "stream",
          "text": [
            "['__add__', '__class__', '__contains__', '__delattr__', '__delitem__', '__dir__', '__doc__', '__eq__', '__format__', '__ge__', '__getattribute__', '__getitem__', '__gt__', '__hash__', '__iadd__', '__imul__', '__init__', '__init_subclass__', '__iter__', '__le__', '__len__', '__lt__', '__mul__', '__ne__', '__new__', '__reduce__', '__reduce_ex__', '__repr__', '__reversed__', '__rmul__', '__setattr__', '__setitem__', '__sizeof__', '__str__', '__subclasshook__', 'append', 'clear', 'copy', 'count', 'extend', 'index', 'insert', 'pop', 'remove', 'reverse', 'sort']\n"
          ],
          "name": "stdout"
        }
      ]
    },
    {
      "cell_type": "markdown",
      "metadata": {
        "id": "Aeed0z4iNcPU"
      },
      "source": [
        "##### **divmod()**"
      ]
    },
    {
      "cell_type": "markdown",
      "metadata": {
        "id": "BfJsNw8nNpVV"
      },
      "source": [
        "The **divmod()** method takes two numbers and returns a pair of numbers (a tuple) consisting of their quotient and remainder"
      ]
    },
    {
      "cell_type": "code",
      "metadata": {
        "id": "oijBfMXeN5Ls",
        "outputId": "f433e917-98ad-4786-9028-9ecabf918210",
        "colab": {
          "base_uri": "https://localhost:8080/",
          "height": 35
        }
      },
      "source": [
        "print(divmod(9, 2)) # Here it prints the quotient and remainder as a tuple "
      ],
      "execution_count": 220,
      "outputs": [
        {
          "output_type": "stream",
          "text": [
            "(4, 1)\n"
          ],
          "name": "stdout"
        }
      ]
    },
    {
      "cell_type": "markdown",
      "metadata": {
        "id": "L787pLWzOHOB"
      },
      "source": [
        "##### **enumerate()**"
      ]
    },
    {
      "cell_type": "markdown",
      "metadata": {
        "id": "FF3_8FdFONvp"
      },
      "source": [
        "The **enumnerate()** method adds counter to an iterable and returns it \n",
        "\n",
        "**Syntax:**\n",
        "<br>\n",
        "**enumerate(iterable, start=0)**"
      ]
    },
    {
      "cell_type": "code",
      "metadata": {
        "id": "U3LOgRTjOtWk",
        "outputId": "2075a01e-9603-4535-9e1e-aaf3360db9f2",
        "colab": {
          "base_uri": "https://localhost:8080/",
          "height": 89
        }
      },
      "source": [
        "numbers = [10, 20, 30, 40]\n",
        "for index, num in enumerate(numbers):\n",
        "    print(\"Index {} has value {}\".format(index, num))"
      ],
      "execution_count": 221,
      "outputs": [
        {
          "output_type": "stream",
          "text": [
            "Index 0 has value 10\n",
            "Index 1 has value 20\n",
            "Index 2 has value 30\n",
            "Index 3 has value 40\n"
          ],
          "name": "stdout"
        }
      ]
    },
    {
      "cell_type": "markdown",
      "metadata": {
        "id": "qvecI4L7PIGs"
      },
      "source": [
        "##### **filter()**"
      ]
    },
    {
      "cell_type": "markdown",
      "metadata": {
        "id": "bzzDhKZjPTCk"
      },
      "source": [
        "The **filter** method constructs an iterator from elements of an iterable for which a function returns true.\n",
        "\n",
        "**Syntax:**\n",
        "<br>\n",
        "**filter(function, iterable)**\n"
      ]
    },
    {
      "cell_type": "code",
      "metadata": {
        "id": "JcS-LaGBP3_g",
        "outputId": "550c0ca3-c0fc-4be1-f8ec-7d3118ae716a",
        "colab": {
          "base_uri": "https://localhost:8080/",
          "height": 53
        }
      },
      "source": [
        "def find_positive_number(num):\n",
        "    \"\"\"\n",
        "    This function returns the positive number if num is positive\n",
        "    \"\"\"\n",
        "    if num>0:\n",
        "        return num\n",
        "\n",
        "number_list = range(-10, 10)  # Creating a list with number from -10 to 10\n",
        "print(list(number_list))\n",
        "positive_num_list = list(filter(find_positive_number, number_list))\n",
        "print(positive_num_list)"
      ],
      "execution_count": 222,
      "outputs": [
        {
          "output_type": "stream",
          "text": [
            "[-10, -9, -8, -7, -6, -5, -4, -3, -2, -1, 0, 1, 2, 3, 4, 5, 6, 7, 8, 9]\n",
            "[1, 2, 3, 4, 5, 6, 7, 8, 9]\n"
          ],
          "name": "stdout"
        }
      ]
    },
    {
      "cell_type": "markdown",
      "metadata": {
        "id": "LNXrOGAkRjle"
      },
      "source": [
        "##### **isinstance()**\n"
      ]
    },
    {
      "cell_type": "markdown",
      "metadata": {
        "id": "Da3ppSd-Rr-6"
      },
      "source": [
        "The **isinstance()** function checks if the object (first argument) is an instance or subclass of classinfo class (second argument).\n",
        "\n",
        "**Syntax:**\n",
        "<br>\n",
        "**isinstance(object, classinfo)**"
      ]
    },
    {
      "cell_type": "code",
      "metadata": {
        "id": "JkFb7mJ_R47w",
        "outputId": "2adb1288-3475-4a19-8ec6-c477b4ab41a2",
        "colab": {
          "base_uri": "https://localhost:8080/",
          "height": 53
        }
      },
      "source": [
        "lst = [1, 2, 3, 4]\n",
        "print(isinstance(lst, list))\n",
        "\n",
        "#try with other datatypes tuple, set\n",
        "t = (1,2,3,4)\n",
        "print(isinstance(t, list))"
      ],
      "execution_count": 223,
      "outputs": [
        {
          "output_type": "stream",
          "text": [
            "True\n",
            "False\n"
          ],
          "name": "stdout"
        }
      ]
    },
    {
      "cell_type": "markdown",
      "metadata": {
        "id": "Hg_NYQm8R5db"
      },
      "source": [
        "##### **map()**"
      ]
    },
    {
      "cell_type": "markdown",
      "metadata": {
        "id": "XfEyQAkISDQC"
      },
      "source": [
        "Map applies a function to all the items in an input_list.\n",
        "\n",
        "**Syntax:** \n",
        "<br>\n",
        "**map(function_to_apply, list_of_inputs)**"
      ]
    },
    {
      "cell_type": "code",
      "metadata": {
        "id": "Igf55SqbSXZq",
        "outputId": "51af5a6f-5d5e-4de0-d5f2-4f6425d0ddd9",
        "colab": {
          "base_uri": "https://localhost:8080/",
          "height": 35
        }
      },
      "source": [
        "numbers = [1, 2, 3, 4]\n",
        "\n",
        "# Normal method of computing num^2 for each element in the list.\n",
        "squared = []\n",
        "for num in numbers:\n",
        "    squared.append(num ** 2)\n",
        "\n",
        "print(squared)"
      ],
      "execution_count": 224,
      "outputs": [
        {
          "output_type": "stream",
          "text": [
            "[1, 4, 9, 16]\n"
          ],
          "name": "stdout"
        }
      ]
    },
    {
      "cell_type": "code",
      "metadata": {
        "id": "mpowckwCSmIU",
        "outputId": "cc8397c8-81ff-4d94-c7fa-a7d9c15a0179",
        "colab": {
          "base_uri": "https://localhost:8080/",
          "height": 35
        }
      },
      "source": [
        "numbers = [1, 2, 3, 4]\n",
        "\n",
        "def powerOfTwo(num):\n",
        "    return num ** 2\n",
        "\n",
        "# Using map() function\n",
        "squared = list(map(powerOfTwo, numbers))\n",
        "print(squared)"
      ],
      "execution_count": 225,
      "outputs": [
        {
          "output_type": "stream",
          "text": [
            "[1, 4, 9, 16]\n"
          ],
          "name": "stdout"
        }
      ]
    },
    {
      "cell_type": "markdown",
      "metadata": {
        "id": "N-K33KvMSzVG"
      },
      "source": [
        "##### **reduce()**"
      ]
    },
    {
      "cell_type": "markdown",
      "metadata": {
        "id": "a10UNRIWS-H2"
      },
      "source": [
        "**reduce()** function is for performing some computation on a list and returning the result.\n",
        "\n",
        "It applies a rolling computation to sequential pairs of values in a list.\n",
        "\n",
        "It is useful when you want to find out the sum of numbers in the array or product of numbers in the array"
      ]
    },
    {
      "cell_type": "code",
      "metadata": {
        "id": "C-9bDn1cTLy6",
        "outputId": "53cfc46c-631e-422a-b613-caf6c75faed0",
        "colab": {
          "base_uri": "https://localhost:8080/",
          "height": 71
        }
      },
      "source": [
        "%time\n",
        "#product of elemnts in a list\n",
        "product = 1\n",
        "lst = [1, 2, 3, 4]\n",
        "\n",
        "# traditional program without reduce()\n",
        "for num in lst:\n",
        "    product *= num\n",
        "print(product)"
      ],
      "execution_count": 226,
      "outputs": [
        {
          "output_type": "stream",
          "text": [
            "CPU times: user 2 µs, sys: 0 ns, total: 2 µs\n",
            "Wall time: 5.48 µs\n",
            "24\n"
          ],
          "name": "stdout"
        }
      ]
    },
    {
      "cell_type": "code",
      "metadata": {
        "id": "j327R20cTN7O",
        "outputId": "05eb10cc-292f-499f-af81-e4d973fb821d",
        "colab": {
          "base_uri": "https://localhost:8080/",
          "height": 71
        }
      },
      "source": [
        "%time\n",
        "#with reduce()\n",
        "from functools import reduce # in Python 3.\n",
        "\n",
        "def multiply(x,y):\n",
        "    return x*y;\n",
        "\n",
        "product = reduce(multiply, lst)\n",
        "print(product)"
      ],
      "execution_count": 227,
      "outputs": [
        {
          "output_type": "stream",
          "text": [
            "CPU times: user 1e+03 ns, sys: 0 ns, total: 1e+03 ns\n",
            "Wall time: 4.53 µs\n",
            "24\n"
          ],
          "name": "stdout"
        }
      ]
    },
    {
      "cell_type": "markdown",
      "metadata": {
        "id": "W5h1ABDmU0zR"
      },
      "source": [
        "Here (filter, map, reduce) are most benefical function often helpful in data science"
      ]
    },
    {
      "cell_type": "markdown",
      "metadata": {
        "id": "zLht6_2jLVbl"
      },
      "source": [
        "#### **User-defined Functions**"
      ]
    },
    {
      "cell_type": "markdown",
      "metadata": {
        "id": "AXxvMOoBT1tr"
      },
      "source": [
        "Functions that we define ourselves to do certain specific task are referred as user-defined functions\n",
        "\n",
        "If we use functions written by others in the form of library, it can be termed as library functions.\n",
        "\n",
        "**Advantages**\n",
        "\n",
        "- User-defined functions help to decompose a large program into small segments which makes program easy to understand, maintain and debug.\n",
        "\n",
        "- If repeated code occurs in a program. Function can be used to include those codes and execute when needed by calling that function.\n",
        "\n",
        "- Programmars working on large project can divide the workload by making different functions."
      ]
    },
    {
      "cell_type": "code",
      "metadata": {
        "id": "SPxrhccSLf8H",
        "outputId": "a11244bc-220e-4bb0-c7bb-44c0b7557410",
        "colab": {
          "base_uri": "https://localhost:8080/",
          "height": 35
        }
      },
      "source": [
        "def product_numbers(a, b):\n",
        "    \"\"\"\n",
        "    this function returns the product of two numbers\n",
        "    \"\"\"\n",
        "    product = a * b\n",
        "    return product\n",
        "\n",
        "num1 = 10\n",
        "num2 = 20\n",
        "print(\"product of {0} and {1} is {2} \".format(num1, num2, product_numbers(num1, num2)))"
      ],
      "execution_count": 228,
      "outputs": [
        {
          "output_type": "stream",
          "text": [
            "product of 10 and 20 is 200 \n"
          ],
          "name": "stdout"
        }
      ]
    },
    {
      "cell_type": "markdown",
      "metadata": {
        "id": "J4Fy6BjoVt4g"
      },
      "source": [
        "##### **Python program to make a simple calculator that can add, subtract, multiply and division**"
      ]
    },
    {
      "cell_type": "code",
      "metadata": {
        "id": "KBt977lnVccG",
        "outputId": "ec608f99-2a6c-4526-8078-3b0b55069b5e",
        "colab": {
          "base_uri": "https://localhost:8080/",
          "height": 179
        }
      },
      "source": [
        "def add(a, b):\n",
        "    \"\"\"\n",
        "    This function adds two numbers\n",
        "    \"\"\"\n",
        "    return a + b\n",
        "\n",
        "def multiply(a, b):\n",
        "    \"\"\"\n",
        "    This function multiply two numbers\n",
        "    \"\"\"\n",
        "    return a * b\n",
        "\n",
        "def subtract(a, b):\n",
        "    \"\"\"\n",
        "    This function subtract two numbers\n",
        "    \"\"\"\n",
        "    return a - b\n",
        "\n",
        "def division(a, b):\n",
        "    \"\"\"\n",
        "    This function divides two numbers\n",
        "    \"\"\"\n",
        "    return a / b\n",
        "\n",
        "print(\"Select Option\")\n",
        "print(\"1. Addition\")\n",
        "print (\"2. Subtraction\")\n",
        "print (\"3. Multiplication\")\n",
        "print (\"4. Division\")\n",
        "\n",
        "#take input from user\n",
        "choice = int(input(\"Enter choice 1/2/3/4\"))\n",
        "\n",
        "num1 = float(input(\"Enter first number:\"))\n",
        "num2 = float(input(\"Enter second number:\"))\n",
        "if choice == 1:\n",
        "    print(\"Addition of {0} and {1} is {2}\".format(num1, num2, add(num1, num2)))\n",
        "elif choice == 2:\n",
        "    print(\"Subtraction of {0} and {1} is {2}\".format(num1, num2, subtract(num1, num2)))\n",
        "elif choice == 3:\n",
        "    print(\"Multiplication of {0} and {1} is {2}\".format(num1, num2, multiply(num1, num2)))\n",
        "elif choice == 4:\n",
        "    print(\"Division of {0} and {1} is {2}\".format(num1, num2, division(num1, num2)))\n",
        "else:\n",
        "    print(\"Invalid Choice\")"
      ],
      "execution_count": 229,
      "outputs": [
        {
          "output_type": "stream",
          "text": [
            "Select Option\n",
            "1. Addition\n",
            "2. Subtraction\n",
            "3. Multiplication\n",
            "4. Division\n",
            "Enter choice 1/2/3/41\n",
            "Enter first number:2\n",
            "Enter second number:3\n",
            "Addition of 2.0 and 3.0 is 5.0\n"
          ],
          "name": "stdout"
        }
      ]
    },
    {
      "cell_type": "markdown",
      "metadata": {
        "id": "waqcHww7WsJj"
      },
      "source": [
        "### **Function Arguments**"
      ]
    },
    {
      "cell_type": "code",
      "metadata": {
        "id": "5KLA_2OnWJ5q",
        "outputId": "979a56a8-c9ca-4a14-a09a-e68ace430537",
        "colab": {
          "base_uri": "https://localhost:8080/",
          "height": 35
        }
      },
      "source": [
        "def greet(name, msg):\n",
        "    \"\"\"\n",
        "    This function greets to person with the provided message\n",
        "    \"\"\"\n",
        "    print(\"Hello {0} , {1}\".format(name, msg))\n",
        "\n",
        "#call the function with arguments\n",
        "greet(\"Krystal\", \"Good Morning\")\n"
      ],
      "execution_count": 230,
      "outputs": [
        {
          "output_type": "stream",
          "text": [
            "Hello Krystal , Good Morning\n"
          ],
          "name": "stdout"
        }
      ]
    },
    {
      "cell_type": "code",
      "metadata": {
        "id": "f6DF2tsyXKmD",
        "outputId": "751c26c5-be1d-48ea-a90b-d3799f684861",
        "colab": {
          "base_uri": "https://localhost:8080/",
          "height": 208
        }
      },
      "source": [
        "#suppose if we pass one argument\n",
        "\n",
        "greet(\"Krystal\") #will get an error"
      ],
      "execution_count": 231,
      "outputs": [
        {
          "output_type": "error",
          "ename": "TypeError",
          "evalue": "ignored",
          "traceback": [
            "\u001b[0;31m---------------------------------------------------------------------------\u001b[0m",
            "\u001b[0;31mTypeError\u001b[0m                                 Traceback (most recent call last)",
            "\u001b[0;32m<ipython-input-231-4334760d30d1>\u001b[0m in \u001b[0;36m<module>\u001b[0;34m()\u001b[0m\n\u001b[1;32m      1\u001b[0m \u001b[0;31m#suppose if we pass one argument\u001b[0m\u001b[0;34m\u001b[0m\u001b[0;34m\u001b[0m\u001b[0;34m\u001b[0m\u001b[0m\n\u001b[1;32m      2\u001b[0m \u001b[0;34m\u001b[0m\u001b[0m\n\u001b[0;32m----> 3\u001b[0;31m \u001b[0mgreet\u001b[0m\u001b[0;34m(\u001b[0m\u001b[0;34m\"Krystal\"\u001b[0m\u001b[0;34m)\u001b[0m \u001b[0;31m#will get an error\u001b[0m\u001b[0;34m\u001b[0m\u001b[0;34m\u001b[0m\u001b[0m\n\u001b[0m",
            "\u001b[0;31mTypeError\u001b[0m: greet() missing 1 required positional argument: 'msg'"
          ]
        }
      ]
    },
    {
      "cell_type": "markdown",
      "metadata": {
        "id": "dZrZVBIvXr8Z"
      },
      "source": [
        "**Different Forms of Arguments**\n"
      ]
    },
    {
      "cell_type": "markdown",
      "metadata": {
        "id": "zAW8DBwDXztz"
      },
      "source": [
        "#### **Default Arguments**"
      ]
    },
    {
      "cell_type": "markdown",
      "metadata": {
        "id": "aj7K49AuX6kL"
      },
      "source": [
        "We can provide a default value to an argument by using the assignment operator (=)."
      ]
    },
    {
      "cell_type": "code",
      "metadata": {
        "id": "EXFg_SmNXysn",
        "outputId": "0b1f7fc8-c177-400e-cd2a-d12e458a2121",
        "colab": {
          "base_uri": "https://localhost:8080/",
          "height": 35
        }
      },
      "source": [
        "def greet(name, msg=\"Good Morning\"):\n",
        "    \"\"\"\n",
        "    This function greets to person with the provided message\n",
        "    if message is not provided, it defaults to \"Good Morning\"\n",
        "    \"\"\"\n",
        "    print(\"Hello {0} , {1}\".format(name, msg))\n",
        "\n",
        "greet(\"Krystal\", \"Good Night\")"
      ],
      "execution_count": 232,
      "outputs": [
        {
          "output_type": "stream",
          "text": [
            "Hello Krystal , Good Night\n"
          ],
          "name": "stdout"
        }
      ]
    },
    {
      "cell_type": "code",
      "metadata": {
        "id": "2sE829QrXOjR",
        "outputId": "9b0112f6-e8ba-47f6-c033-e15f3d2d30c5",
        "colab": {
          "base_uri": "https://localhost:8080/",
          "height": 35
        }
      },
      "source": [
        "#with out msg argument\n",
        "greet(\"Krystal\")"
      ],
      "execution_count": 233,
      "outputs": [
        {
          "output_type": "stream",
          "text": [
            "Hello Krystal , Good Morning\n"
          ],
          "name": "stdout"
        }
      ]
    },
    {
      "cell_type": "markdown",
      "metadata": {
        "id": "-8e6ODWSYHnA"
      },
      "source": [
        "Once we have a default argument, all the arguments to its right must also have default values\n",
        "\n",
        "def greet(msg=\"Good Morning\", name)\n",
        "\n",
        "will get a SyntaxError : non-default argument follows default argument"
      ]
    },
    {
      "cell_type": "markdown",
      "metadata": {
        "id": "S4jeuMP4YqeF"
      },
      "source": [
        "#### **Keyword Arguments**"
      ]
    },
    {
      "cell_type": "markdown",
      "metadata": {
        "id": "s1S9kCuTYtKv"
      },
      "source": [
        "**kwargs** allows you to pass keyworded variable length of arguments to a function. You should use **kwargs if you want to handle named arguments in a function"
      ]
    },
    {
      "cell_type": "code",
      "metadata": {
        "id": "zuspgwI7X_Ay",
        "outputId": "1c95edeb-9978-4e2a-eaf5-6b4f166afef7",
        "colab": {
          "base_uri": "https://localhost:8080/",
          "height": 35
        }
      },
      "source": [
        "def greet(**kwargs):\n",
        "    \"\"\"\n",
        "    This function greets to person with the provided message\n",
        "    \"\"\"\n",
        "    if kwargs:\n",
        "        print(\"Hello {0} , {1}\".format(kwargs['name'], kwargs['msg']))\n",
        "greet(name=\"Krystal\", msg=\"Good Morning\")\n"
      ],
      "execution_count": 234,
      "outputs": [
        {
          "output_type": "stream",
          "text": [
            "Hello Krystal , Good Morning\n"
          ],
          "name": "stdout"
        }
      ]
    },
    {
      "cell_type": "markdown",
      "metadata": {
        "id": "5samBqz5Y7s5"
      },
      "source": [
        "#### **Arbitary Arguments**"
      ]
    },
    {
      "cell_type": "markdown",
      "metadata": {
        "id": "7Tl8MGpsZDWl"
      },
      "source": [
        "Sometimes, we do not know in advance the number of arguments that will be passed into a function.Python allows us to handle this kind of situation through function calls with arbitrary number of arguments."
      ]
    },
    {
      "cell_type": "code",
      "metadata": {
        "id": "UmL46IjyYyut",
        "outputId": "ced337e2-0f69-4b20-f68e-b4282dc9858d",
        "colab": {
          "base_uri": "https://localhost:8080/",
          "height": 107
        }
      },
      "source": [
        "def greet(*names):\n",
        "    \"\"\"\n",
        "    This function greets all persons in the names tuple \n",
        "    \"\"\"\n",
        "    print(names)\n",
        "    \n",
        "    for name in names:\n",
        "        print(\"Hello,  {0} \".format(name))\n",
        "\n",
        "greet(\"Krystal\", \"Warlock\", \"Ultimatenoob\", \"Lucifer\")"
      ],
      "execution_count": 235,
      "outputs": [
        {
          "output_type": "stream",
          "text": [
            "('Krystal', 'Warlock', 'Ultimatenoob', 'Lucifer')\n",
            "Hello,  Krystal \n",
            "Hello,  Warlock \n",
            "Hello,  Ultimatenoob \n",
            "Hello,  Lucifer \n"
          ],
          "name": "stdout"
        }
      ]
    },
    {
      "cell_type": "markdown",
      "metadata": {
        "id": "IXriSuGauLBu"
      },
      "source": [
        "### **Recursion**"
      ]
    },
    {
      "cell_type": "markdown",
      "metadata": {
        "id": "_yLCOyE_uSpe"
      },
      "source": [
        "We know that in Python, a function can call other functions. It is even possible for the function to call itself. These type of construct are termed as recursive functions."
      ]
    },
    {
      "cell_type": "markdown",
      "metadata": {
        "id": "awV9G4aywwj6"
      },
      "source": [
        "#### **Python program to print factorial of a number using recurion**"
      ]
    },
    {
      "cell_type": "code",
      "metadata": {
        "id": "nnEpjXXTZUwQ",
        "outputId": "3e97d92f-42b0-4c41-93e6-3f4ee22ca6f8",
        "colab": {
          "base_uri": "https://localhost:8080/",
          "height": 35
        }
      },
      "source": [
        "def factorial(num):\n",
        "    \"\"\"\n",
        "    This is a recursive function to find the factorial of a given number\n",
        "    \"\"\"\n",
        "    return 1 if num == 1 else (num * factorial(num-1))\n",
        "\n",
        "num = 5\n",
        "print(\"Factorial of {} is {}\".format(num, factorial(num)))"
      ],
      "execution_count": 236,
      "outputs": [
        {
          "output_type": "stream",
          "text": [
            "Factorial of 5 is 120\n"
          ],
          "name": "stdout"
        }
      ]
    },
    {
      "cell_type": "markdown",
      "metadata": {
        "id": "Pk3AZq1Pvevg"
      },
      "source": [
        "**Advantage**\n",
        "\n",
        "- Recursive functions make the code look clean and elegant.\n",
        "\n",
        "- A complex task can be broken down into simpler sub-problems using recursion.\n",
        "\n",
        "- Sequence generation is easier with recursion than using some nested iteration.\n",
        "\n",
        "<br>\n",
        "\n",
        "**Disadvantages**\n",
        "\n",
        "- Sometimes the logic behind recursion is hard to follow through.\n",
        "\n",
        "- Recursive calls are expensive (inefficient) as they take up a lot of memory and time.\n",
        "\n",
        "- Recursive functions are hard to debug.\n"
      ]
    },
    {
      "cell_type": "markdown",
      "metadata": {
        "id": "8grEZY7zw8N0"
      },
      "source": [
        "#### **Python program to display the fibonacci sequence up to n-th term using recursive function**"
      ]
    },
    {
      "cell_type": "code",
      "metadata": {
        "id": "XpuxfRoeu4dq",
        "outputId": "e43e4b0e-f3a6-4e77-bc74-78b9eb53d0ce",
        "colab": {
          "base_uri": "https://localhost:8080/",
          "height": 215
        }
      },
      "source": [
        "def fibonacci(num):\n",
        "    \"\"\"\n",
        "    Recursive function to print fibonacci sequence\n",
        "    \"\"\"\n",
        "    return num if num <= 1 else fibonacci(num-1) + fibonacci(num-2)\n",
        "\n",
        "nterms = 10\n",
        "print(\"Fibonacci sequence\")\n",
        "for num in range(nterms):\n",
        "    print(fibonacci(num))"
      ],
      "execution_count": 237,
      "outputs": [
        {
          "output_type": "stream",
          "text": [
            "Fibonacci sequence\n",
            "0\n",
            "1\n",
            "1\n",
            "2\n",
            "3\n",
            "5\n",
            "8\n",
            "13\n",
            "21\n",
            "34\n"
          ],
          "name": "stdout"
        }
      ]
    },
    {
      "cell_type": "markdown",
      "metadata": {
        "id": "YJfaIUNWzq_W"
      },
      "source": [
        "### **Anonymous / Lambda Function**"
      ]
    },
    {
      "cell_type": "markdown",
      "metadata": {
        "id": "701fL97p0APX"
      },
      "source": [
        "In Python, anonymous function is a function that is defined without a name.\n",
        "\n",
        "While normal functions are defined using the def keyword, in Python anonymous functions are defined using the lambda keyword.\n",
        "\n",
        "Lambda functions are used extensively along with built-in functions like filter(), map(), reduce()\n",
        "\n",
        "**Syntax:**\n",
        "<br>\n",
        "**lambda arguments: expression**"
      ]
    },
    {
      "cell_type": "code",
      "metadata": {
        "id": "nxUwuevPxjXL",
        "outputId": "0ad4981d-496b-4bb6-cab8-c5febd75ae4d",
        "colab": {
          "base_uri": "https://localhost:8080/",
          "height": 35
        }
      },
      "source": [
        "def double(x):\n",
        "    return x * 2\n",
        "\n",
        "print(double(5))"
      ],
      "execution_count": 238,
      "outputs": [
        {
          "output_type": "stream",
          "text": [
            "10\n"
          ],
          "name": "stdout"
        }
      ]
    },
    {
      "cell_type": "code",
      "metadata": {
        "id": "2UYs1MvP0tu0",
        "outputId": "7f84a338-df87-4a28-b620-fb44872ae838",
        "colab": {
          "base_uri": "https://localhost:8080/",
          "height": 35
        }
      },
      "source": [
        "double = lambda x: x*2\n",
        "print(double(6))"
      ],
      "execution_count": 239,
      "outputs": [
        {
          "output_type": "stream",
          "text": [
            "12\n"
          ],
          "name": "stdout"
        }
      ]
    },
    {
      "cell_type": "code",
      "metadata": {
        "id": "gXSrVsao03bk",
        "outputId": "2bb4e6ed-c2b5-4afe-b5fa-2ed6d12ab0a9",
        "colab": {
          "base_uri": "https://localhost:8080/",
          "height": 35
        }
      },
      "source": [
        "# Example use with filter()\n",
        "lst = [1, 2, 3, 4, 5]\n",
        "even_lst = list(filter(lambda x: (x%2 == 0), lst))\n",
        "print(even_lst)"
      ],
      "execution_count": 240,
      "outputs": [
        {
          "output_type": "stream",
          "text": [
            "[2, 4]\n"
          ],
          "name": "stdout"
        }
      ]
    },
    {
      "cell_type": "code",
      "metadata": {
        "id": "DUD7aaV-1uh5",
        "outputId": "af93040c-ecd5-49ac-949e-052c22ed10d3",
        "colab": {
          "base_uri": "https://localhost:8080/",
          "height": 35
        }
      },
      "source": [
        "# Example use with map()\n",
        "lst = [1, 2, 3, 4, 5]\n",
        "new_lst = list(map(lambda x: x ** 2, lst))\n",
        "print(new_lst)"
      ],
      "execution_count": 241,
      "outputs": [
        {
          "output_type": "stream",
          "text": [
            "[1, 4, 9, 16, 25]\n"
          ],
          "name": "stdout"
        }
      ]
    },
    {
      "cell_type": "code",
      "metadata": {
        "id": "jbLen6A72qCQ",
        "outputId": "6dae2532-98c4-4365-f245-c2e50e6555d8",
        "colab": {
          "base_uri": "https://localhost:8080/",
          "height": 35
        }
      },
      "source": [
        "# Example use with reduce()\n",
        "from functools import reduce\n",
        "\n",
        "lst = [1, 2, 3, 4, 5]\n",
        "product_lst = reduce(lambda x, y: x*y, lst)\n",
        "print(product_lst)"
      ],
      "execution_count": 242,
      "outputs": [
        {
          "output_type": "stream",
          "text": [
            "120\n"
          ],
          "name": "stdout"
        }
      ]
    },
    {
      "cell_type": "markdown",
      "metadata": {
        "id": "0DOFUtaaJMj2"
      },
      "source": [
        "## **Python Modules and Packages**"
      ]
    },
    {
      "cell_type": "markdown",
      "metadata": {
        "id": "N6rPbh9f4u_h"
      },
      "source": [
        "### **Python Modules**"
      ]
    },
    {
      "cell_type": "markdown",
      "metadata": {
        "id": "KOpcQjFM44Z0"
      },
      "source": [
        "Modules refer to a file containing Python statements and definitions.\n",
        "\n",
        "A file containing Python code, for e.g.: abc.py, is called a module and its module name would be \"abc\".\n",
        "\n",
        "We use modules to break down large programs into small manageable and organized files. Furthermore, modules provide reusability of code.\n",
        "\n",
        "We can define our most used functions in a module and import it, instead of copying their definitions into different programs."
      ]
    },
    {
      "cell_type": "markdown",
      "metadata": {
        "id": "pNK5dTeR5BLp"
      },
      "source": [
        "#### **How to import a module?**"
      ]
    },
    {
      "cell_type": "markdown",
      "metadata": {
        "id": "BN5Tj1IL5V90"
      },
      "source": [
        "We use the import keyword to do this."
      ]
    },
    {
      "cell_type": "code",
      "metadata": {
        "id": "cbgdFfoU3Nz1",
        "outputId": "a48646a4-4712-491a-9f1b-a90653418a7e",
        "colab": {
          "base_uri": "https://localhost:8080/",
          "height": 316
        }
      },
      "source": [
        "import example #imported example module"
      ],
      "execution_count": 243,
      "outputs": [
        {
          "output_type": "error",
          "ename": "ModuleNotFoundError",
          "evalue": "ignored",
          "traceback": [
            "\u001b[0;31m---------------------------------------------------------------------------\u001b[0m",
            "\u001b[0;31mModuleNotFoundError\u001b[0m                       Traceback (most recent call last)",
            "\u001b[0;32m<ipython-input-243-b0fe4c474e13>\u001b[0m in \u001b[0;36m<module>\u001b[0;34m()\u001b[0m\n\u001b[0;32m----> 1\u001b[0;31m \u001b[0;32mimport\u001b[0m \u001b[0mexample\u001b[0m \u001b[0;31m#imported example module\u001b[0m\u001b[0;34m\u001b[0m\u001b[0;34m\u001b[0m\u001b[0m\n\u001b[0m",
            "\u001b[0;31mModuleNotFoundError\u001b[0m: No module named 'example'",
            "",
            "\u001b[0;31m---------------------------------------------------------------------------\u001b[0;32m\nNOTE: If your import is failing due to a missing package, you can\nmanually install dependencies using either !pip or !apt.\n\nTo view examples of installing some common dependencies, click the\n\"Open Examples\" button below.\n\u001b[0;31m---------------------------------------------------------------------------\u001b[0m\n"
          ]
        }
      ]
    },
    {
      "cell_type": "markdown",
      "metadata": {
        "id": "ZsfG4WN05f6g"
      },
      "source": [
        "Using the module name we can access the function using dot (.) operation."
      ]
    },
    {
      "cell_type": "code",
      "metadata": {
        "id": "pXwpKOKn5hMA",
        "outputId": "d1aa3f98-7e47-40d4-8315-48775f4ee452",
        "colab": {
          "base_uri": "https://localhost:8080/",
          "height": 172
        }
      },
      "source": [
        "example.add(10, 20)"
      ],
      "execution_count": 244,
      "outputs": [
        {
          "output_type": "error",
          "ename": "NameError",
          "evalue": "ignored",
          "traceback": [
            "\u001b[0;31m---------------------------------------------------------------------------\u001b[0m",
            "\u001b[0;31mNameError\u001b[0m                                 Traceback (most recent call last)",
            "\u001b[0;32m<ipython-input-244-865fb5942dcf>\u001b[0m in \u001b[0;36m<module>\u001b[0;34m()\u001b[0m\n\u001b[0;32m----> 1\u001b[0;31m \u001b[0mexample\u001b[0m\u001b[0;34m.\u001b[0m\u001b[0madd\u001b[0m\u001b[0;34m(\u001b[0m\u001b[0;36m10\u001b[0m\u001b[0;34m,\u001b[0m \u001b[0;36m20\u001b[0m\u001b[0;34m)\u001b[0m\u001b[0;34m\u001b[0m\u001b[0;34m\u001b[0m\u001b[0m\n\u001b[0m",
            "\u001b[0;31mNameError\u001b[0m: name 'example' is not defined"
          ]
        }
      ]
    },
    {
      "cell_type": "markdown",
      "metadata": {
        "id": "R9g8pbIg8Ra5"
      },
      "source": [
        "**Examples:**"
      ]
    },
    {
      "cell_type": "code",
      "metadata": {
        "id": "rxOwRXdF5jbW",
        "outputId": "7cc93a22-8873-4e5c-edaf-e2d8018c8733",
        "colab": {
          "base_uri": "https://localhost:8080/",
          "height": 35
        }
      },
      "source": [
        " import math\n",
        " print(math.pi)"
      ],
      "execution_count": 245,
      "outputs": [
        {
          "output_type": "stream",
          "text": [
            "3.141592653589793\n"
          ],
          "name": "stdout"
        }
      ]
    },
    {
      "cell_type": "code",
      "metadata": {
        "id": "9npio3oS8gT0",
        "outputId": "f70893d1-de78-4261-85c3-a420022d7737",
        "colab": {
          "base_uri": "https://localhost:8080/",
          "height": 35
        }
      },
      "source": [
        "import datetime\n",
        "datetime.datetime.now()"
      ],
      "execution_count": 246,
      "outputs": [
        {
          "output_type": "execute_result",
          "data": {
            "text/plain": [
              "datetime.datetime(2020, 9, 27, 15, 21, 30, 757840)"
            ]
          },
          "metadata": {
            "tags": []
          },
          "execution_count": 246
        }
      ]
    },
    {
      "cell_type": "markdown",
      "metadata": {
        "id": "xCXBBh7Y82Q7"
      },
      "source": [
        "**import with renaming**"
      ]
    },
    {
      "cell_type": "code",
      "metadata": {
        "id": "fx3QdmY28nBn",
        "outputId": "1127257d-ec1e-432e-bb89-e3388d6ec200",
        "colab": {
          "base_uri": "https://localhost:8080/",
          "height": 35
        }
      },
      "source": [
        "import math as m\n",
        "print(m.pi)"
      ],
      "execution_count": 247,
      "outputs": [
        {
          "output_type": "stream",
          "text": [
            "3.141592653589793\n"
          ],
          "name": "stdout"
        }
      ]
    },
    {
      "cell_type": "markdown",
      "metadata": {
        "id": "ju135jLG865f"
      },
      "source": [
        "**from...  import statement**\n",
        "\n",
        "We can import specific names form a module without importing the module as a whole."
      ]
    },
    {
      "cell_type": "code",
      "metadata": {
        "id": "OvkeOchB8vmn",
        "outputId": "a69755ef-8e27-48be-f4e9-9d1ee9c4f607",
        "colab": {
          "base_uri": "https://localhost:8080/",
          "height": 35
        }
      },
      "source": [
        "from datetime import datetime\n",
        "datetime.now()"
      ],
      "execution_count": 248,
      "outputs": [
        {
          "output_type": "execute_result",
          "data": {
            "text/plain": [
              "datetime.datetime(2020, 9, 27, 15, 21, 33, 478137)"
            ]
          },
          "metadata": {
            "tags": []
          },
          "execution_count": 248
        }
      ]
    },
    {
      "cell_type": "markdown",
      "metadata": {
        "id": "o0Kq7AcO9KS0"
      },
      "source": [
        "**import all names**"
      ]
    },
    {
      "cell_type": "code",
      "metadata": {
        "id": "OGyHaRcD9Ihb",
        "outputId": "2fe366aa-f80e-474b-9681-c82e4d06da82",
        "colab": {
          "base_uri": "https://localhost:8080/",
          "height": 35
        }
      },
      "source": [
        "from math import * # import math\n",
        "print(\"Value of Pi is \" + str(pi))"
      ],
      "execution_count": 249,
      "outputs": [
        {
          "output_type": "stream",
          "text": [
            "Value of Pi is 3.141592653589793\n"
          ],
          "name": "stdout"
        }
      ]
    },
    {
      "cell_type": "markdown",
      "metadata": {
        "id": "KqAR5p4_9vbg"
      },
      "source": [
        "**dir() built in function**\n",
        "\n",
        "We can use the dir() function to find out names that are defined inside a module."
      ]
    },
    {
      "cell_type": "code",
      "metadata": {
        "id": "PdZyrZ_v9eeg",
        "outputId": "8c056de0-cbcd-4ee7-c276-e5ea150acba9",
        "colab": {
          "base_uri": "https://localhost:8080/",
          "height": 989
        }
      },
      "source": [
        "dir(math)"
      ],
      "execution_count": 250,
      "outputs": [
        {
          "output_type": "execute_result",
          "data": {
            "text/plain": [
              "['__doc__',\n",
              " '__loader__',\n",
              " '__name__',\n",
              " '__package__',\n",
              " '__spec__',\n",
              " 'acos',\n",
              " 'acosh',\n",
              " 'asin',\n",
              " 'asinh',\n",
              " 'atan',\n",
              " 'atan2',\n",
              " 'atanh',\n",
              " 'ceil',\n",
              " 'copysign',\n",
              " 'cos',\n",
              " 'cosh',\n",
              " 'degrees',\n",
              " 'e',\n",
              " 'erf',\n",
              " 'erfc',\n",
              " 'exp',\n",
              " 'expm1',\n",
              " 'fabs',\n",
              " 'factorial',\n",
              " 'floor',\n",
              " 'fmod',\n",
              " 'frexp',\n",
              " 'fsum',\n",
              " 'gamma',\n",
              " 'gcd',\n",
              " 'hypot',\n",
              " 'inf',\n",
              " 'isclose',\n",
              " 'isfinite',\n",
              " 'isinf',\n",
              " 'isnan',\n",
              " 'ldexp',\n",
              " 'lgamma',\n",
              " 'log',\n",
              " 'log10',\n",
              " 'log1p',\n",
              " 'log2',\n",
              " 'modf',\n",
              " 'nan',\n",
              " 'pi',\n",
              " 'pow',\n",
              " 'radians',\n",
              " 'sin',\n",
              " 'sinh',\n",
              " 'sqrt',\n",
              " 'tan',\n",
              " 'tanh',\n",
              " 'tau',\n",
              " 'trunc']"
            ]
          },
          "metadata": {
            "tags": []
          },
          "execution_count": 250
        }
      ]
    },
    {
      "cell_type": "code",
      "metadata": {
        "id": "MlSc15ke9qB_",
        "outputId": "ec131a7b-8c3b-49e7-f7da-96c20c315b4e",
        "colab": {
          "base_uri": "https://localhost:8080/",
          "height": 71
        }
      },
      "source": [
        "print(math.pi.__doc__) # gives the information written the doc string"
      ],
      "execution_count": 251,
      "outputs": [
        {
          "output_type": "stream",
          "text": [
            "float(x) -> floating point number\n",
            "\n",
            "Convert a string or number to a floating point number, if possible.\n"
          ],
          "name": "stdout"
        }
      ]
    },
    {
      "cell_type": "markdown",
      "metadata": {
        "id": "IAJ3XPB3--rt"
      },
      "source": [
        "### **Python Packages**\n"
      ]
    },
    {
      "cell_type": "markdown",
      "metadata": {
        "id": "eqYWJnRjGtm3"
      },
      "source": [
        "Packages are a way of structuring Python’s module namespace by using “dotted module names”.\n",
        "\n",
        "A directory must contain a file named init.py in order for Python to consider it as a package. This file can be left empty but we generally place the initialization code for that package in this file.\n",
        "\n",
        "![Package Module Structure](http://cdn.programiz.com/sites/tutorial2program/files/PackageModuleStructure.jpg)"
      ]
    },
    {
      "cell_type": "markdown",
      "metadata": {
        "id": "mdDAOQLLIYJk"
      },
      "source": [
        "#### **How to import a module from a package**"
      ]
    },
    {
      "cell_type": "markdown",
      "metadata": {
        "id": "hDlLZgKSIc0l"
      },
      "source": [
        "We can import modules form packages using the dot (.) operator"
      ]
    },
    {
      "cell_type": "code",
      "metadata": {
        "id": "q1YmfjUY96DQ"
      },
      "source": [
        "# import Game.Image.open"
      ],
      "execution_count": 252,
      "outputs": []
    },
    {
      "cell_type": "markdown",
      "metadata": {
        "id": "AsOIXyGKX3C_"
      },
      "source": [
        "## **Files (Input/Output)**"
      ]
    },
    {
      "cell_type": "markdown",
      "metadata": {
        "id": "0JobeOi9YA8_"
      },
      "source": [
        "File is a named location on disk to store related information. It is used to permanently store data in a non-volatile memory (e.g. hard disk).\n",
        "\n",
        "Since, random access memory (RAM) is volatile which loses its data when computer is turned off, we use files for future use of the data.\n",
        "\n",
        "When we want to read from or write to a file we need to open it first. When we are done, it needs to be closed, so that resources that are tied with the file are freed.\n",
        "\n",
        "File operation:\n",
        "\n",
        "- Open a file\n",
        "- Read or write (perform operation)\n",
        "- Close the file"
      ]
    },
    {
      "cell_type": "markdown",
      "metadata": {
        "id": "D_Ifk2zlYnHR"
      },
      "source": [
        "### **Opening a File**"
      ]
    },
    {
      "cell_type": "markdown",
      "metadata": {
        "id": "U5czmSruYrzw"
      },
      "source": [
        "Python has a built-in function open() to open a file. This function returns a file object, also called a handle, as it is used to read or modify the file accordingly."
      ]
    },
    {
      "cell_type": "code",
      "metadata": {
        "id": "PAfKTmBv_8XT"
      },
      "source": [
        "\n",
        "# open file from the any provided link\n",
        "import urllib # from urllib.request import urlopen\n",
        "from urllib.request import urlopen\n",
        "url = \"https://raw.githubusercontent.com/kunalburgul/Python_Coding/master/Data/Data%20Science%20Interview.txt\"\n",
        "file = urllib.request.urlopen(url)\n",
        "\n",
        "# open file in provided direcotry\n",
        "#f = open('Data/Data_Science_Interview.txt') "
      ],
      "execution_count": 256,
      "outputs": []
    },
    {
      "cell_type": "markdown",
      "metadata": {
        "id": "_NGs8bstdOe4"
      },
      "source": [
        "We can specify the mode while opening a file. In mode, we specify whether we want to read 'r', write 'w' or append 'a' to the file. We also specify if we want to open the file in text mode or binary mode."
      ]
    },
    {
      "cell_type": "markdown",
      "metadata": {
        "id": "UShnAaOYdWTc"
      },
      "source": [
        "### **Python File Modes**"
      ]
    },
    {
      "cell_type": "markdown",
      "metadata": {
        "id": "Tp_y6abgdjVn"
      },
      "source": [
        "- **Read mode** - 'r' Open a file for reading. (default)\n",
        "\n",
        "- **Write mode** - 'w' Open a file for writing. Creates a new file if it does not exist or truncates the file if it exists.\n",
        "\n",
        "- **Exclusive mode** - 'x' Open a file for exclusive creation. If the file already exists, the operation fails.\n",
        "\n",
        "- **Append mode** - 'a' Open for appending at the end of the file without truncating it. Creates a new file if it does not exist.\n",
        "\n",
        "- **Text mode** -'t' Open in text mode. (default)\n",
        "\n",
        "- **Binary mode** - 'b' Open in binary mode.\n",
        "\n",
        "- **Update mode** - '+' Open a file for updating (reading and writing)"
      ]
    },
    {
      "cell_type": "code",
      "metadata": {
        "id": "JnsjaSFhbMnP"
      },
      "source": [
        "f = open('Data/Data_Science_Interview.txt') #equivalent to 'r' \n",
        "f = open('Data/Data_Science_Interview.txt', 'r')\n",
        "\n",
        "f = open('Data/Data_Science_Interview.txt', 'w')"
      ],
      "execution_count": 258,
      "outputs": []
    },
    {
      "cell_type": "markdown",
      "metadata": {
        "id": "-IKqyBD9dtlq"
      },
      "source": [
        "The default encoding is platform dependent. In windows, it is 'cp1252' but 'utf-8' in Linux."
      ]
    },
    {
      "cell_type": "markdown",
      "metadata": {
        "id": "BRbZ1bG8dwEa"
      },
      "source": [
        "So, we must not also rely on the default encoding or else our code will behave differently in different platforms.\n",
        "\n",
        "Hence, when working with files in text mode, it is highly recommended to specify the encoding type."
      ]
    },
    {
      "cell_type": "markdown",
      "metadata": {
        "id": "TDtlyMZtdcEM"
      },
      "source": [
        "### **Closing a File**"
      ]
    },
    {
      "cell_type": "markdown",
      "metadata": {
        "id": "Wc3c1G12fKjy"
      },
      "source": [
        "Closing a file will free up the resources that were tied with the file and is done using the close() method.\n",
        "\n",
        "Python has a garbage collector to clean up unreferenced objects but, we must not rely on it to close the file.\n",
        "\n"
      ]
    },
    {
      "cell_type": "code",
      "metadata": {
        "id": "4h0kxe4odHfQ"
      },
      "source": [
        "f = open('Data/Data_Science_Interview.txt')\n",
        "f.close()"
      ],
      "execution_count": 259,
      "outputs": []
    },
    {
      "cell_type": "markdown",
      "metadata": {
        "id": "SHy0LJZHfVKv"
      },
      "source": [
        "This method is not entirely safe. If an exception occurs when we are performing some operation with the file, the code exits without closing the file.\n",
        "\n",
        "A safer way is to use a try...finally block."
      ]
    },
    {
      "cell_type": "code",
      "metadata": {
        "id": "9HaVoTSwfWjn"
      },
      "source": [
        "try:\n",
        "   f = open('Data/Data_Science_Interview.txt')\n",
        "   # perform file operations\n",
        "    \n",
        "finally:\n",
        "   f.close()"
      ],
      "execution_count": 261,
      "outputs": []
    },
    {
      "cell_type": "markdown",
      "metadata": {
        "id": "wcdyj7Yofb8P"
      },
      "source": [
        "This way, we are guaranteed that the file is properly closed even if an exception is raised, causing program flow to stop.\n",
        "\n",
        "The best way to do this is using the with statement. This ensures that the file is closed when the block inside with is exited.\n",
        "\n",
        "We don't need to explicitly call the close() method. It is done internally.\n",
        "\n",
        "with open(\"example.txt\",encoding = 'utf-8') as f:"
      ]
    },
    {
      "cell_type": "markdown",
      "metadata": {
        "id": "wVIbpTwFhAf9"
      },
      "source": [
        "### **Reading From a File**\n"
      ]
    },
    {
      "cell_type": "markdown",
      "metadata": {
        "id": "LRU58AaBhATI"
      },
      "source": [
        "There are various methods available for this purpose. We can use the read(size) method to read in size number of data. If size parameter is not specified, it reads and returns up to the end of the file."
      ]
    },
    {
      "cell_type": "code",
      "metadata": {
        "id": "8z5MNYVEhVtX",
        "outputId": "333f1aac-0611-4fdb-d138-af304ce4b203",
        "colab": {
          "base_uri": "https://localhost:8080/",
          "height": 35
        }
      },
      "source": [
        "f = open('Data/Data_Science_Interview.txt', 'r')\n",
        "f.read()"
      ],
      "execution_count": 262,
      "outputs": [
        {
          "output_type": "execute_result",
          "data": {
            "application/vnd.google.colaboratory.intrinsic+json": {
              "type": "string"
            },
            "text/plain": [
              "''"
            ]
          },
          "metadata": {
            "tags": []
          },
          "execution_count": 262
        }
      ]
    },
    {
      "cell_type": "code",
      "metadata": {
        "id": "JnwdGQKihiy4",
        "outputId": "0d9c2790-2a2a-4367-ce9e-809735488ec6",
        "colab": {
          "base_uri": "https://localhost:8080/",
          "height": 35
        }
      },
      "source": [
        "f = open('Data/Data_Science_Interview.txt', 'r')\n",
        "f.read(20)"
      ],
      "execution_count": 263,
      "outputs": [
        {
          "output_type": "execute_result",
          "data": {
            "application/vnd.google.colaboratory.intrinsic+json": {
              "type": "string"
            },
            "text/plain": [
              "''"
            ]
          },
          "metadata": {
            "tags": []
          },
          "execution_count": 263
        }
      ]
    },
    {
      "cell_type": "code",
      "metadata": {
        "id": "yQPacra0hjpB",
        "outputId": "244578d0-a457-45e5-e40c-1733fb733014",
        "colab": {
          "base_uri": "https://localhost:8080/",
          "height": 35
        }
      },
      "source": [
        "#f = open('Data/Data_Science_Interview.txt', 'r')\n",
        "f.read(10)"
      ],
      "execution_count": 264,
      "outputs": [
        {
          "output_type": "execute_result",
          "data": {
            "application/vnd.google.colaboratory.intrinsic+json": {
              "type": "string"
            },
            "text/plain": [
              "''"
            ]
          },
          "metadata": {
            "tags": []
          },
          "execution_count": 264
        }
      ]
    },
    {
      "cell_type": "markdown",
      "metadata": {
        "id": "uwnt88iyiCRr"
      },
      "source": [
        "We can change our current file cursor (position) using the **seek()** method.\n",
        "\n",
        "Similarly, the **tell()** method returns our current position (in number of bytes)."
      ]
    },
    {
      "cell_type": "code",
      "metadata": {
        "id": "til7nhiKiD73",
        "outputId": "c5ef7e89-cbf0-4be9-b579-6d85ca417288",
        "colab": {
          "base_uri": "https://localhost:8080/",
          "height": 35
        }
      },
      "source": [
        "f.tell() # tells the current position of the pointer in the file"
      ],
      "execution_count": 265,
      "outputs": [
        {
          "output_type": "execute_result",
          "data": {
            "text/plain": [
              "0"
            ]
          },
          "metadata": {
            "tags": []
          },
          "execution_count": 265
        }
      ]
    },
    {
      "cell_type": "code",
      "metadata": {
        "id": "A1mnWvj2iDzZ",
        "outputId": "61fe8896-8785-4443-92ff-f8053379056f",
        "colab": {
          "base_uri": "https://localhost:8080/",
          "height": 35
        }
      },
      "source": [
        "f.seek(0) # bring the file cursor to initial position"
      ],
      "execution_count": 266,
      "outputs": [
        {
          "output_type": "execute_result",
          "data": {
            "text/plain": [
              "0"
            ]
          },
          "metadata": {
            "tags": []
          },
          "execution_count": 266
        }
      ]
    },
    {
      "cell_type": "code",
      "metadata": {
        "id": "yDoYHRHliIgc",
        "outputId": "09c60bd2-ae99-42ea-d554-46ef95e2b0f1",
        "colab": {
          "base_uri": "https://localhost:8080/",
          "height": 35
        }
      },
      "source": [
        "print(f.read()) #read the entire file"
      ],
      "execution_count": 267,
      "outputs": [
        {
          "output_type": "stream",
          "text": [
            "\n"
          ],
          "name": "stdout"
        }
      ]
    },
    {
      "cell_type": "markdown",
      "metadata": {
        "id": "UXPIJpNNirFG"
      },
      "source": [
        "We can read a file line-by-line using a for loop. This is both efficient and fast.\n"
      ]
    },
    {
      "cell_type": "code",
      "metadata": {
        "id": "G8-dD3-9iqoE"
      },
      "source": [
        "f.seek(0)\n",
        "for line in f:\n",
        "    print(line)"
      ],
      "execution_count": 268,
      "outputs": []
    },
    {
      "cell_type": "markdown",
      "metadata": {
        "id": "IurQM33WiyAS"
      },
      "source": [
        "Alternately, we can use **readline()** method to read individual lines of a file. This method reads a file till the newline, including the newline character."
      ]
    },
    {
      "cell_type": "code",
      "metadata": {
        "id": "8OQ-bcXJiozT",
        "outputId": "ba44fc95-e820-48cb-c0be-ed3f6d29bcd9",
        "colab": {
          "base_uri": "https://localhost:8080/",
          "height": 35
        }
      },
      "source": [
        "f = open('Data/Data_Science_Interview.txt', 'r')\n",
        "f.readline()"
      ],
      "execution_count": 269,
      "outputs": [
        {
          "output_type": "execute_result",
          "data": {
            "application/vnd.google.colaboratory.intrinsic+json": {
              "type": "string"
            },
            "text/plain": [
              "''"
            ]
          },
          "metadata": {
            "tags": []
          },
          "execution_count": 269
        }
      ]
    },
    {
      "cell_type": "code",
      "metadata": {
        "id": "IHkEK0-ci-Js",
        "outputId": "512f4d23-eedf-4d3f-de96-31fdab52dd70",
        "colab": {
          "base_uri": "https://localhost:8080/",
          "height": 35
        }
      },
      "source": [
        "f.readline()"
      ],
      "execution_count": 270,
      "outputs": [
        {
          "output_type": "execute_result",
          "data": {
            "application/vnd.google.colaboratory.intrinsic+json": {
              "type": "string"
            },
            "text/plain": [
              "''"
            ]
          },
          "metadata": {
            "tags": []
          },
          "execution_count": 270
        }
      ]
    },
    {
      "cell_type": "code",
      "metadata": {
        "id": "3D34IbbdjBeE",
        "outputId": "90734cdd-8800-41c8-f88b-4c38814fd9e6",
        "colab": {
          "base_uri": "https://localhost:8080/",
          "height": 35
        }
      },
      "source": [
        "f.readline()"
      ],
      "execution_count": 271,
      "outputs": [
        {
          "output_type": "execute_result",
          "data": {
            "application/vnd.google.colaboratory.intrinsic+json": {
              "type": "string"
            },
            "text/plain": [
              "''"
            ]
          },
          "metadata": {
            "tags": []
          },
          "execution_count": 271
        }
      ]
    },
    {
      "cell_type": "markdown",
      "metadata": {
        "id": "1FbOTyFljGg_"
      },
      "source": [
        "The **readlines()** method returns a list of remaining lines of the entire file. All these reading method return empty values when end of file (EOF) is reached."
      ]
    },
    {
      "cell_type": "code",
      "metadata": {
        "id": "rTcFmUYljcq9",
        "outputId": "291780ea-c72a-4470-f77c-4553deb3ea1b",
        "colab": {
          "base_uri": "https://localhost:8080/",
          "height": 35
        }
      },
      "source": [
        "f.seek(0)\n",
        "f.readlines()"
      ],
      "execution_count": 272,
      "outputs": [
        {
          "output_type": "execute_result",
          "data": {
            "text/plain": [
              "[]"
            ]
          },
          "metadata": {
            "tags": []
          },
          "execution_count": 272
        }
      ]
    },
    {
      "cell_type": "markdown",
      "metadata": {
        "id": "GjdLmTb3jqsw"
      },
      "source": [
        "### **Writing to a File**"
      ]
    },
    {
      "cell_type": "markdown",
      "metadata": {
        "id": "__FqRV4Ejuwy"
      },
      "source": [
        "In order to write into a file we need to open it in write 'w', append 'a' or exclusive creation 'x' mode.\n",
        "\n",
        "We need to be careful with the 'w' mode as it will overwrite into the file if it already exists. All previous data are erased.\n",
        "\n",
        "Writing a string or sequence of bytes (for binary files) is done using write() method. This method returns the number of characters written to the file."
      ]
    },
    {
      "cell_type": "code",
      "metadata": {
        "id": "dAiKQIKLjwp3"
      },
      "source": [
        "f = open('Data/Data_Science_Interview.txt','w')\n",
        "f.write(\"This is a First File\\n\")\n",
        "f.write(\"Contains two lines\\n\")\n",
        "f.close()"
      ],
      "execution_count": 273,
      "outputs": []
    },
    {
      "cell_type": "markdown",
      "metadata": {
        "id": "h_fR0v9ej2Q4"
      },
      "source": [
        "This program will create a new file named 'test.txt' if it does not exist. If it does exist, it is overwritten."
      ]
    },
    {
      "cell_type": "markdown",
      "metadata": {
        "id": "1q2dr0r2lAl9"
      },
      "source": [
        "### **Renaming And Deleting Files In Python.**"
      ]
    },
    {
      "cell_type": "markdown",
      "metadata": {
        "id": "b8oebtTrlIlr"
      },
      "source": [
        "While you were using the read/write functions, you may also need to rename/delete a file in Python. So, there comes a os module in Python which brings the support of file rename/delete operations.\n",
        "\n",
        "So, to continue, first of all, you should import the os module in your Python script."
      ]
    },
    {
      "cell_type": "code",
      "metadata": {
        "id": "MjiZjGWilGPW"
      },
      "source": [
        "import os\n",
        "\n",
        "#Rename a file from test.txt to sample.txt\n",
        "os.rename(\"Data/Data_Science_Interview.txt\", \"Data/DS_Interview_Prep.txt\")"
      ],
      "execution_count": 274,
      "outputs": []
    },
    {
      "cell_type": "code",
      "metadata": {
        "id": "orELAflqlcye",
        "outputId": "00aa8175-e640-42fb-cd1e-e56f49ab166b",
        "colab": {
          "base_uri": "https://localhost:8080/",
          "height": 35
        }
      },
      "source": [
        "f = open(\"Data/DS_Interview_Prep.txt\", \"r\")\n",
        "f.readline()"
      ],
      "execution_count": 275,
      "outputs": [
        {
          "output_type": "execute_result",
          "data": {
            "application/vnd.google.colaboratory.intrinsic+json": {
              "type": "string"
            },
            "text/plain": [
              "'This is a First File\\n'"
            ]
          },
          "metadata": {
            "tags": []
          },
          "execution_count": 275
        }
      ]
    },
    {
      "cell_type": "code",
      "metadata": {
        "id": "45_ziDrtljuc"
      },
      "source": [
        "#Delete a file sample.txt\n",
        "os.remove(\"Data/DS_Interview_Prep.txt\")"
      ],
      "execution_count": null,
      "outputs": []
    },
    {
      "cell_type": "code",
      "metadata": {
        "id": "Qk82XzJMlmUr",
        "outputId": "3004c6a9-2870-47ab-ad5d-8ec93a6867c1",
        "colab": {
          "base_uri": "https://localhost:8080/",
          "height": 35
        }
      },
      "source": [
        "f = open(\"Data/DS_Interview_Prep.txt\", \"r\")\n",
        "f.readline()"
      ],
      "execution_count": 276,
      "outputs": [
        {
          "output_type": "execute_result",
          "data": {
            "application/vnd.google.colaboratory.intrinsic+json": {
              "type": "string"
            },
            "text/plain": [
              "'This is a First File\\n'"
            ]
          },
          "metadata": {
            "tags": []
          },
          "execution_count": 276
        }
      ]
    },
    {
      "cell_type": "markdown",
      "metadata": {
        "id": "Ti5AGpyMmm6D"
      },
      "source": [
        "### **Python Directory and File Management**"
      ]
    },
    {
      "cell_type": "markdown",
      "metadata": {
        "id": "G1Q78kAimqK8"
      },
      "source": [
        "If there are a large number of files to handle in your Python program, you can arrange your code within different directories to make things more manageable.\n",
        "\n",
        "A directory or folder is a collection of files and sub directories. Python has the os module, which provides us with many useful methods to work with directories (and files as well)."
      ]
    },
    {
      "cell_type": "markdown",
      "metadata": {
        "id": "OX50LHTzmtm7"
      },
      "source": [
        "**Get current Directory**\n",
        "\n",
        "We can get the present working directory using the getcwd() method.\n",
        "\n",
        "This method returns the current working directory in the form of a string."
      ]
    },
    {
      "cell_type": "code",
      "metadata": {
        "id": "KsheeyiYlq_7",
        "outputId": "350da763-a836-4bf2-a84e-4f9e2bbb6d7e",
        "colab": {
          "base_uri": "https://localhost:8080/",
          "height": 35
        }
      },
      "source": [
        "import os\n",
        "os.getcwd()"
      ],
      "execution_count": 277,
      "outputs": [
        {
          "output_type": "execute_result",
          "data": {
            "application/vnd.google.colaboratory.intrinsic+json": {
              "type": "string"
            },
            "text/plain": [
              "'/content'"
            ]
          },
          "metadata": {
            "tags": []
          },
          "execution_count": 277
        }
      ]
    },
    {
      "cell_type": "markdown",
      "metadata": {
        "id": "oeR9HjNxm5ih"
      },
      "source": [
        "**Changing Directory**\n",
        "\n",
        "We can change the current working directory using the chdir() method.\n",
        "\n",
        "The new path that we want to change to must be supplied as a string to this method. We can use both forward slash (/) or the backward slash () to separate path elements."
      ]
    },
    {
      "cell_type": "code",
      "metadata": {
        "id": "BxDUL5I6m3qb"
      },
      "source": [
        "os.chdir(\"/content\")"
      ],
      "execution_count": 278,
      "outputs": []
    },
    {
      "cell_type": "code",
      "metadata": {
        "id": "yb4lHG2ynAH3",
        "outputId": "6c4a5060-5c2b-4323-9b68-03f61118f26f",
        "colab": {
          "base_uri": "https://localhost:8080/",
          "height": 35
        }
      },
      "source": [
        "os.getcwd()"
      ],
      "execution_count": 279,
      "outputs": [
        {
          "output_type": "execute_result",
          "data": {
            "application/vnd.google.colaboratory.intrinsic+json": {
              "type": "string"
            },
            "text/plain": [
              "'/content'"
            ]
          },
          "metadata": {
            "tags": []
          },
          "execution_count": 279
        }
      ]
    },
    {
      "cell_type": "markdown",
      "metadata": {
        "id": "dt7HFQicnM5w"
      },
      "source": [
        "**List Directories and Files**"
      ]
    },
    {
      "cell_type": "markdown",
      "metadata": {
        "id": "aQ3InJZNnSSy"
      },
      "source": [
        "All files and sub directories inside a directory can be known using the listdir() method.\n"
      ]
    },
    {
      "cell_type": "code",
      "metadata": {
        "id": "oIoiqAu0nBRU",
        "outputId": "60b9eed6-2f51-4119-f9bb-47b9a748bbc3",
        "colab": {
          "base_uri": "https://localhost:8080/",
          "height": 35
        }
      },
      "source": [
        "os.listdir(os.getcwd())"
      ],
      "execution_count": 280,
      "outputs": [
        {
          "output_type": "execute_result",
          "data": {
            "text/plain": [
              "['.config', 'Data', '.ipynb_checkpoints', 'sample_data']"
            ]
          },
          "metadata": {
            "tags": []
          },
          "execution_count": 280
        }
      ]
    },
    {
      "cell_type": "markdown",
      "metadata": {
        "id": "ugRqOr5EnZ7E"
      },
      "source": [
        "**Making New Directory**"
      ]
    },
    {
      "cell_type": "markdown",
      "metadata": {
        "id": "ytt2gEUpndMV"
      },
      "source": [
        "We can make a new directory using the mkdir() method.\n",
        "\n",
        "This method takes in the path of the new directory. If the full path is not specified, the new directory is created in the current working directory."
      ]
    },
    {
      "cell_type": "code",
      "metadata": {
        "id": "_aIhNJBdnUn5"
      },
      "source": [
        "os.mkdir('test')"
      ],
      "execution_count": 281,
      "outputs": []
    },
    {
      "cell_type": "markdown",
      "metadata": {
        "id": "u8giL45fniKN"
      },
      "source": [
        "However, note that rmdir() method can only remove empty directories.\n",
        "\n",
        "In order to remove a non-empty directory we can use the rmtree() method inside the shutil module."
      ]
    },
    {
      "cell_type": "code",
      "metadata": {
        "id": "szFv0luNnf-B"
      },
      "source": [
        "os.rmdir('test')"
      ],
      "execution_count": 282,
      "outputs": []
    },
    {
      "cell_type": "code",
      "metadata": {
        "id": "DRzmVq8bnjcv",
        "outputId": "2675aacf-2b02-4a2e-ff02-46c35cf6dcad",
        "colab": {
          "base_uri": "https://localhost:8080/",
          "height": 208
        }
      },
      "source": [
        "import shutil\n",
        "\n",
        "os.mkdir('test')\n",
        "os.chdir('./test')\n",
        "f = open(\"testfile.txt\",'w')\n",
        "f.write(\"Hello World\")\n",
        "os.chdir(\"../\")\n",
        "os.rmdir('test')"
      ],
      "execution_count": 283,
      "outputs": [
        {
          "output_type": "error",
          "ename": "OSError",
          "evalue": "ignored",
          "traceback": [
            "\u001b[0;31m---------------------------------------------------------------------------\u001b[0m",
            "\u001b[0;31mOSError\u001b[0m                                   Traceback (most recent call last)",
            "\u001b[0;32m<ipython-input-283-26b2a6a8d00a>\u001b[0m in \u001b[0;36m<module>\u001b[0;34m()\u001b[0m\n\u001b[1;32m      6\u001b[0m \u001b[0mf\u001b[0m\u001b[0;34m.\u001b[0m\u001b[0mwrite\u001b[0m\u001b[0;34m(\u001b[0m\u001b[0;34m\"Hello World\"\u001b[0m\u001b[0;34m)\u001b[0m\u001b[0;34m\u001b[0m\u001b[0;34m\u001b[0m\u001b[0m\n\u001b[1;32m      7\u001b[0m \u001b[0mos\u001b[0m\u001b[0;34m.\u001b[0m\u001b[0mchdir\u001b[0m\u001b[0;34m(\u001b[0m\u001b[0;34m\"../\"\u001b[0m\u001b[0;34m)\u001b[0m\u001b[0;34m\u001b[0m\u001b[0;34m\u001b[0m\u001b[0m\n\u001b[0;32m----> 8\u001b[0;31m \u001b[0mos\u001b[0m\u001b[0;34m.\u001b[0m\u001b[0mrmdir\u001b[0m\u001b[0;34m(\u001b[0m\u001b[0;34m'test'\u001b[0m\u001b[0;34m)\u001b[0m\u001b[0;34m\u001b[0m\u001b[0;34m\u001b[0m\u001b[0m\n\u001b[0m",
            "\u001b[0;31mOSError\u001b[0m: [Errno 39] Directory not empty: 'test'"
          ]
        }
      ]
    },
    {
      "cell_type": "code",
      "metadata": {
        "id": "4yp7ntmZnl6w"
      },
      "source": [
        "# remove an non-empty directory\n",
        "shutil.rmtree('test')"
      ],
      "execution_count": 284,
      "outputs": []
    },
    {
      "cell_type": "code",
      "metadata": {
        "id": "MXo19T51np1Y",
        "outputId": "2c4ad4ba-4c79-425a-810e-30ed40b29379",
        "colab": {
          "base_uri": "https://localhost:8080/",
          "height": 35
        }
      },
      "source": [
        "os.getcwd()"
      ],
      "execution_count": 285,
      "outputs": [
        {
          "output_type": "execute_result",
          "data": {
            "application/vnd.google.colaboratory.intrinsic+json": {
              "type": "string"
            },
            "text/plain": [
              "'/content'"
            ]
          },
          "metadata": {
            "tags": []
          },
          "execution_count": 285
        }
      ]
    },
    {
      "cell_type": "markdown",
      "metadata": {
        "id": "pfV0jVbe2tQN"
      },
      "source": [
        "## **Python Exception Handling**"
      ]
    },
    {
      "cell_type": "markdown",
      "metadata": {
        "id": "JPcLB9Fp3Pux"
      },
      "source": [
        "### **Python Errors**"
      ]
    },
    {
      "cell_type": "markdown",
      "metadata": {
        "id": "ubY4Lzv03qtg"
      },
      "source": [
        "When writing a program, we, more often than not, will encounter errors.\n",
        "\n",
        "Error caused by not following the proper structure (syntax) of the language is called syntax error or parsing error.\n",
        "\n"
      ]
    },
    {
      "cell_type": "code",
      "metadata": {
        "id": "eVxrBsfQ3tRr",
        "outputId": "ec96c63d-557c-4f7e-c367-4703960d3ed3",
        "colab": {
          "base_uri": "https://localhost:8080/",
          "height": 136
        }
      },
      "source": [
        "if a < 3"
      ],
      "execution_count": 286,
      "outputs": [
        {
          "output_type": "error",
          "ename": "SyntaxError",
          "evalue": "ignored",
          "traceback": [
            "\u001b[0;36m  File \u001b[0;32m\"<ipython-input-286-3e28e520013d>\"\u001b[0;36m, line \u001b[0;32m1\u001b[0m\n\u001b[0;31m    if a < 3\u001b[0m\n\u001b[0m            ^\u001b[0m\n\u001b[0;31mSyntaxError\u001b[0m\u001b[0;31m:\u001b[0m invalid syntax\n"
          ]
        }
      ]
    },
    {
      "cell_type": "markdown",
      "metadata": {
        "id": "Dp86qmje3w6G"
      },
      "source": [
        "Errors can also occur at runtime and these are called exceptions.\n",
        "\n",
        "They occur, for example, when a file we try to open does not exist (FileNotFoundError), dividing a number by zero (ZeroDivisionError), module we try to import is not found (ImportError) etc."
      ]
    },
    {
      "cell_type": "markdown",
      "metadata": {
        "id": "MHjgvr4q3zqH"
      },
      "source": [
        "Whenever these type of runtime error occur, Python creates an exception object. If not handled properly, it prints a traceback to that error along with some details about why that error occurred."
      ]
    },
    {
      "cell_type": "code",
      "metadata": {
        "id": "3QgQCVmq317t",
        "outputId": "ee43035e-0f23-48c5-fddf-5ad608eb587f",
        "colab": {
          "base_uri": "https://localhost:8080/",
          "height": 172
        }
      },
      "source": [
        "1 / 0"
      ],
      "execution_count": 288,
      "outputs": [
        {
          "output_type": "error",
          "ename": "ZeroDivisionError",
          "evalue": "ignored",
          "traceback": [
            "\u001b[0;31m---------------------------------------------------------------------------\u001b[0m",
            "\u001b[0;31mZeroDivisionError\u001b[0m                         Traceback (most recent call last)",
            "\u001b[0;32m<ipython-input-288-bc757c3fda29>\u001b[0m in \u001b[0;36m<module>\u001b[0;34m()\u001b[0m\n\u001b[0;32m----> 1\u001b[0;31m \u001b[0;36m1\u001b[0m \u001b[0;34m/\u001b[0m \u001b[0;36m0\u001b[0m\u001b[0;34m\u001b[0m\u001b[0;34m\u001b[0m\u001b[0m\n\u001b[0m",
            "\u001b[0;31mZeroDivisionError\u001b[0m: division by zero"
          ]
        }
      ]
    },
    {
      "cell_type": "code",
      "metadata": {
        "id": "vfJ2Jor_34oy",
        "outputId": "f1ba7d53-fc5c-48cd-ce49-f859ba1214fc",
        "colab": {
          "base_uri": "https://localhost:8080/",
          "height": 172
        }
      },
      "source": [
        "open('test.txt')"
      ],
      "execution_count": 289,
      "outputs": [
        {
          "output_type": "error",
          "ename": "FileNotFoundError",
          "evalue": "ignored",
          "traceback": [
            "\u001b[0;31m---------------------------------------------------------------------------\u001b[0m",
            "\u001b[0;31mFileNotFoundError\u001b[0m                         Traceback (most recent call last)",
            "\u001b[0;32m<ipython-input-289-9b0596a0f2ca>\u001b[0m in \u001b[0;36m<module>\u001b[0;34m()\u001b[0m\n\u001b[0;32m----> 1\u001b[0;31m \u001b[0mopen\u001b[0m\u001b[0;34m(\u001b[0m\u001b[0;34m'test.txt'\u001b[0m\u001b[0;34m)\u001b[0m\u001b[0;34m\u001b[0m\u001b[0;34m\u001b[0m\u001b[0m\n\u001b[0m",
            "\u001b[0;31mFileNotFoundError\u001b[0m: [Errno 2] No such file or directory: 'test.txt'"
          ]
        }
      ]
    },
    {
      "cell_type": "markdown",
      "metadata": {
        "id": "1irQgiwr4Dpy"
      },
      "source": [
        "### **Python Built-in Exceptions**"
      ]
    },
    {
      "cell_type": "code",
      "metadata": {
        "id": "QtdSH0nnnq-3",
        "outputId": "f54811c9-7b68-47c3-e3bb-ae6a8b2d789f",
        "colab": {
          "base_uri": "https://localhost:8080/",
          "height": 1000
        }
      },
      "source": [
        "dir(__builtins__)"
      ],
      "execution_count": 290,
      "outputs": [
        {
          "output_type": "execute_result",
          "data": {
            "text/plain": [
              "['ArithmeticError',\n",
              " 'AssertionError',\n",
              " 'AttributeError',\n",
              " 'BaseException',\n",
              " 'BlockingIOError',\n",
              " 'BrokenPipeError',\n",
              " 'BufferError',\n",
              " 'BytesWarning',\n",
              " 'ChildProcessError',\n",
              " 'ConnectionAbortedError',\n",
              " 'ConnectionError',\n",
              " 'ConnectionRefusedError',\n",
              " 'ConnectionResetError',\n",
              " 'DeprecationWarning',\n",
              " 'EOFError',\n",
              " 'Ellipsis',\n",
              " 'EnvironmentError',\n",
              " 'Exception',\n",
              " 'False',\n",
              " 'FileExistsError',\n",
              " 'FileNotFoundError',\n",
              " 'FloatingPointError',\n",
              " 'FutureWarning',\n",
              " 'GeneratorExit',\n",
              " 'IOError',\n",
              " 'ImportError',\n",
              " 'ImportWarning',\n",
              " 'IndentationError',\n",
              " 'IndexError',\n",
              " 'InterruptedError',\n",
              " 'IsADirectoryError',\n",
              " 'KeyError',\n",
              " 'KeyboardInterrupt',\n",
              " 'LookupError',\n",
              " 'MemoryError',\n",
              " 'ModuleNotFoundError',\n",
              " 'NameError',\n",
              " 'None',\n",
              " 'NotADirectoryError',\n",
              " 'NotImplemented',\n",
              " 'NotImplementedError',\n",
              " 'OSError',\n",
              " 'OverflowError',\n",
              " 'PendingDeprecationWarning',\n",
              " 'PermissionError',\n",
              " 'ProcessLookupError',\n",
              " 'RecursionError',\n",
              " 'ReferenceError',\n",
              " 'ResourceWarning',\n",
              " 'RuntimeError',\n",
              " 'RuntimeWarning',\n",
              " 'StopAsyncIteration',\n",
              " 'StopIteration',\n",
              " 'SyntaxError',\n",
              " 'SyntaxWarning',\n",
              " 'SystemError',\n",
              " 'SystemExit',\n",
              " 'TabError',\n",
              " 'TimeoutError',\n",
              " 'True',\n",
              " 'TypeError',\n",
              " 'UnboundLocalError',\n",
              " 'UnicodeDecodeError',\n",
              " 'UnicodeEncodeError',\n",
              " 'UnicodeError',\n",
              " 'UnicodeTranslateError',\n",
              " 'UnicodeWarning',\n",
              " 'UserWarning',\n",
              " 'ValueError',\n",
              " 'Warning',\n",
              " 'ZeroDivisionError',\n",
              " '__IPYTHON__',\n",
              " '__build_class__',\n",
              " '__debug__',\n",
              " '__doc__',\n",
              " '__import__',\n",
              " '__loader__',\n",
              " '__name__',\n",
              " '__package__',\n",
              " '__spec__',\n",
              " 'abs',\n",
              " 'all',\n",
              " 'any',\n",
              " 'ascii',\n",
              " 'bin',\n",
              " 'bool',\n",
              " 'bytearray',\n",
              " 'bytes',\n",
              " 'callable',\n",
              " 'chr',\n",
              " 'classmethod',\n",
              " 'compile',\n",
              " 'complex',\n",
              " 'copyright',\n",
              " 'credits',\n",
              " 'delattr',\n",
              " 'dict',\n",
              " 'dir',\n",
              " 'display',\n",
              " 'divmod',\n",
              " 'dreload',\n",
              " 'enumerate',\n",
              " 'eval',\n",
              " 'exec',\n",
              " 'filter',\n",
              " 'float',\n",
              " 'format',\n",
              " 'frozenset',\n",
              " 'get_ipython',\n",
              " 'getattr',\n",
              " 'globals',\n",
              " 'hasattr',\n",
              " 'hash',\n",
              " 'help',\n",
              " 'hex',\n",
              " 'id',\n",
              " 'input',\n",
              " 'int',\n",
              " 'isinstance',\n",
              " 'issubclass',\n",
              " 'iter',\n",
              " 'len',\n",
              " 'license',\n",
              " 'list',\n",
              " 'locals',\n",
              " 'map',\n",
              " 'max',\n",
              " 'memoryview',\n",
              " 'min',\n",
              " 'next',\n",
              " 'object',\n",
              " 'oct',\n",
              " 'open',\n",
              " 'ord',\n",
              " 'pow',\n",
              " 'print',\n",
              " 'property',\n",
              " 'range',\n",
              " 'repr',\n",
              " 'reversed',\n",
              " 'round',\n",
              " 'set',\n",
              " 'setattr',\n",
              " 'slice',\n",
              " 'sorted',\n",
              " 'staticmethod',\n",
              " 'str',\n",
              " 'sum',\n",
              " 'super',\n",
              " 'tuple',\n",
              " 'type',\n",
              " 'vars',\n",
              " 'zip']"
            ]
          },
          "metadata": {
            "tags": []
          },
          "execution_count": 290
        }
      ]
    },
    {
      "cell_type": "markdown",
      "metadata": {
        "id": "YvrFs1rw9BXR"
      },
      "source": [
        "### **Python Exception Handling - Try, Except and Finally**"
      ]
    },
    {
      "cell_type": "markdown",
      "metadata": {
        "id": "zUCdtew99Jj0"
      },
      "source": [
        "\n",
        "Python has many built-in exceptions which forces your program to output an error when something in it goes wrong.\n",
        "\n",
        "When these exceptions occur, it causes the current process to stop and passes it to the calling process until it is handled. If not handled, our program will crash.\n",
        "\n",
        "For example, if function A calls function B which in turn calls function C and an exception occurs in function C. If it is not handled in C, the exception passes to B and then to A.\n",
        "\n",
        "If never handled, an error message is spit out and our program come to a sudden, unexpected halt."
      ]
    },
    {
      "cell_type": "markdown",
      "metadata": {
        "id": "-EfIAgXL9L_h"
      },
      "source": [
        "### **Catching Exceptions in Python**"
      ]
    },
    {
      "cell_type": "markdown",
      "metadata": {
        "id": "sDHtPDbM9SAR"
      },
      "source": [
        "In Python, exceptions can be handled using a try statement.\n",
        "\n",
        "A critical operation which can raise exception is placed inside the try clause and the code that handles exception is written in except clause."
      ]
    },
    {
      "cell_type": "code",
      "metadata": {
        "id": "c70SY-pv3AAK",
        "outputId": "62d3ef7d-3c11-4023-8b2a-e2d00414260c",
        "colab": {
          "base_uri": "https://localhost:8080/",
          "height": 197
        }
      },
      "source": [
        "# import module sys to get the type of exception\n",
        "import sys\n",
        "\n",
        "lst = ['b', 0, 2]\n",
        "\n",
        "for entry in lst:\n",
        "    try:\n",
        "        print(\"The entry is\", entry)\n",
        "        r = 1 / int(entry)\n",
        "    except:\n",
        "        print(\"Oops!\", sys.exc_info()[0],\"occured.\")\n",
        "        print(\"Next entry.\")\n",
        "        print(\"***************************\")\n",
        "print(\"The reciprocal of\", entry, \"is\", r)"
      ],
      "execution_count": 291,
      "outputs": [
        {
          "output_type": "stream",
          "text": [
            "The entry is b\n",
            "Oops! <class 'ValueError'> occured.\n",
            "Next entry.\n",
            "***************************\n",
            "The entry is 0\n",
            "Oops! <class 'ZeroDivisionError'> occured.\n",
            "Next entry.\n",
            "***************************\n",
            "The entry is 2\n",
            "The reciprocal of 2 is 0.5\n"
          ],
          "name": "stdout"
        }
      ]
    },
    {
      "cell_type": "markdown",
      "metadata": {
        "id": "xUhEbK0A_y1j"
      },
      "source": [
        "### **Catching Specific Exceptions in Python**"
      ]
    },
    {
      "cell_type": "markdown",
      "metadata": {
        "id": "M5xahw7W_1DJ"
      },
      "source": [
        "In the above example, we did not mention any exception in the except clause.\n",
        "\n",
        "This is not a good programming practice as it will catch all exceptions and handle every case in the same way. We can specify which exceptions an except clause will catch.\n",
        "\n",
        "A try clause can have any number of except clause to handle them differently but only one will be executed in case an exception occurs."
      ]
    },
    {
      "cell_type": "code",
      "metadata": {
        "id": "NJ9ud_0-_FZL",
        "outputId": "abcd5ab7-fd40-4197-c86f-77b1883f6d83",
        "colab": {
          "base_uri": "https://localhost:8080/",
          "height": 179
        }
      },
      "source": [
        "import sys\n",
        "\n",
        "lst = ['b', 0, 2]\n",
        "\n",
        "for entry in lst:\n",
        "    try:\n",
        "        print(\"****************************\")\n",
        "        print(\"The entry is\", entry)\n",
        "        r = 1 / int(entry)\n",
        "    except(ValueError):\n",
        "        print(\"This is a ValueError.\")\n",
        "    except(ZeroDivisionError):\n",
        "        print(\"This is a ZeroError.\")\n",
        "    except:\n",
        "        print(\"Some other error\")\n",
        "print(\"The reciprocal of\", entry, \"is\", r)"
      ],
      "execution_count": 292,
      "outputs": [
        {
          "output_type": "stream",
          "text": [
            "****************************\n",
            "The entry is b\n",
            "This is a ValueError.\n",
            "****************************\n",
            "The entry is 0\n",
            "This is a ZeroError.\n",
            "****************************\n",
            "The entry is 2\n",
            "The reciprocal of 2 is 0.5\n"
          ],
          "name": "stdout"
        }
      ]
    },
    {
      "cell_type": "markdown",
      "metadata": {
        "id": "PlviGmON_-wL"
      },
      "source": [
        "### **Raising Exceptions**\n"
      ]
    },
    {
      "cell_type": "markdown",
      "metadata": {
        "id": "CW6hQf2LACbh"
      },
      "source": [
        "In Python programming, exceptions are raised when corresponding errors occur at run time, but we can forcefully raise it using the keyword raise.\n",
        "\n",
        "We can also optionally pass in value to the exception to clarify why that exception was raised."
      ]
    },
    {
      "cell_type": "code",
      "metadata": {
        "id": "7PeMUGnm_4dr",
        "outputId": "cd7a694f-baa3-4905-80bc-0e4d7f73d509",
        "colab": {
          "base_uri": "https://localhost:8080/",
          "height": 172
        }
      },
      "source": [
        "raise KeyboardInterrupt"
      ],
      "execution_count": 293,
      "outputs": [
        {
          "output_type": "error",
          "ename": "KeyboardInterrupt",
          "evalue": "ignored",
          "traceback": [
            "\u001b[0;31m---------------------------------------------------------------------------\u001b[0m",
            "\u001b[0;31mKeyboardInterrupt\u001b[0m                         Traceback (most recent call last)",
            "\u001b[0;32m<ipython-input-293-c761920b81b0>\u001b[0m in \u001b[0;36m<module>\u001b[0;34m()\u001b[0m\n\u001b[0;32m----> 1\u001b[0;31m \u001b[0;32mraise\u001b[0m \u001b[0mKeyboardInterrupt\u001b[0m\u001b[0;34m\u001b[0m\u001b[0;34m\u001b[0m\u001b[0m\n\u001b[0m",
            "\u001b[0;31mKeyboardInterrupt\u001b[0m: "
          ]
        }
      ]
    },
    {
      "cell_type": "code",
      "metadata": {
        "id": "sWud1ZkXAEco",
        "outputId": "dae60dba-ff3a-4558-ca57-2a448fc5a722",
        "colab": {
          "base_uri": "https://localhost:8080/",
          "height": 172
        }
      },
      "source": [
        "raise MemoryError(\"This is memory Error\")"
      ],
      "execution_count": 294,
      "outputs": [
        {
          "output_type": "error",
          "ename": "MemoryError",
          "evalue": "ignored",
          "traceback": [
            "\u001b[0;31m---------------------------------------------------------------------------\u001b[0m",
            "\u001b[0;31mMemoryError\u001b[0m                               Traceback (most recent call last)",
            "\u001b[0;32m<ipython-input-294-e9258177a914>\u001b[0m in \u001b[0;36m<module>\u001b[0;34m()\u001b[0m\n\u001b[0;32m----> 1\u001b[0;31m \u001b[0;32mraise\u001b[0m \u001b[0mMemoryError\u001b[0m\u001b[0;34m(\u001b[0m\u001b[0;34m\"This is memory Error\"\u001b[0m\u001b[0;34m)\u001b[0m\u001b[0;34m\u001b[0m\u001b[0;34m\u001b[0m\u001b[0m\n\u001b[0m",
            "\u001b[0;31mMemoryError\u001b[0m: This is memory Error"
          ]
        }
      ]
    },
    {
      "cell_type": "code",
      "metadata": {
        "id": "eRgy7K2gAghu",
        "outputId": "0ebfd425-c829-4082-83ca-ea411d2d515d",
        "colab": {
          "base_uri": "https://localhost:8080/",
          "height": 53
        }
      },
      "source": [
        "try:\n",
        "    num = int(input(\"Enter a positive integer:\"))\n",
        "    if num <= 0:\n",
        "        raise ValueError(\"Error:Entered negative number\")\n",
        "except ValueError as e:\n",
        "    print(e)"
      ],
      "execution_count": 296,
      "outputs": [
        {
          "output_type": "stream",
          "text": [
            "Enter a positive integer:-1\n",
            "Error:Entered negative number\n"
          ],
          "name": "stdout"
        }
      ]
    },
    {
      "cell_type": "markdown",
      "metadata": {
        "id": "Q7t7kQdLAoiW"
      },
      "source": [
        "### **try ... finally**"
      ]
    },
    {
      "cell_type": "markdown",
      "metadata": {
        "id": "k0QGKSLpAtAN"
      },
      "source": [
        "The try statement in Python can have an optional finally clause. This clause is executed no matter what, and is generally used to release external resources."
      ]
    },
    {
      "cell_type": "code",
      "metadata": {
        "id": "37WteV2nAiYK",
        "outputId": "783b0521-eb32-4be3-c7b3-91a337fab202",
        "colab": {
          "base_uri": "https://localhost:8080/",
          "height": 244
        }
      },
      "source": [
        "try:\n",
        "    f = open('Data/DS_Interview_Perp.txt')\n",
        "    #perform file operations\n",
        "finally:\n",
        "    f.close()"
      ],
      "execution_count": 301,
      "outputs": [
        {
          "output_type": "error",
          "ename": "FileNotFoundError",
          "evalue": "ignored",
          "traceback": [
            "\u001b[0;31m---------------------------------------------------------------------------\u001b[0m",
            "\u001b[0;31mFileNotFoundError\u001b[0m                         Traceback (most recent call last)",
            "\u001b[0;32m<ipython-input-301-aeef94782a4c>\u001b[0m in \u001b[0;36m<module>\u001b[0;34m()\u001b[0m\n\u001b[1;32m      1\u001b[0m \u001b[0;32mtry\u001b[0m\u001b[0;34m:\u001b[0m\u001b[0;34m\u001b[0m\u001b[0;34m\u001b[0m\u001b[0m\n\u001b[0;32m----> 2\u001b[0;31m     \u001b[0mf\u001b[0m \u001b[0;34m=\u001b[0m \u001b[0mopen\u001b[0m\u001b[0;34m(\u001b[0m\u001b[0;34m'Data/DS_Interview_Perp.txt'\u001b[0m\u001b[0;34m)\u001b[0m\u001b[0;34m\u001b[0m\u001b[0;34m\u001b[0m\u001b[0m\n\u001b[0m\u001b[1;32m      3\u001b[0m     \u001b[0;31m#perform file operations\u001b[0m\u001b[0;34m\u001b[0m\u001b[0;34m\u001b[0m\u001b[0;34m\u001b[0m\u001b[0m\n\u001b[1;32m      4\u001b[0m \u001b[0;32mfinally\u001b[0m\u001b[0;34m:\u001b[0m\u001b[0;34m\u001b[0m\u001b[0;34m\u001b[0m\u001b[0m\n\u001b[1;32m      5\u001b[0m     \u001b[0mf\u001b[0m\u001b[0;34m.\u001b[0m\u001b[0mclose\u001b[0m\u001b[0;34m(\u001b[0m\u001b[0;34m)\u001b[0m\u001b[0;34m\u001b[0m\u001b[0;34m\u001b[0m\u001b[0m\n",
            "\u001b[0;31mFileNotFoundError\u001b[0m: [Errno 2] No such file or directory: 'Data/DS_Interview_Perp.txt'"
          ]
        }
      ]
    },
    {
      "cell_type": "markdown",
      "metadata": {
        "id": "ydOyjGK9CHGx"
      },
      "source": [
        "## **Debugging**"
      ]
    },
    {
      "cell_type": "markdown",
      "metadata": {
        "id": "9QV7LQZeCM6o"
      },
      "source": [
        "**pdb** (python debugger) implements an interactive debugging environment for Python programs. It includes features to let you pause your program, look at the values of variables, and watch program execution step-by-step, so you can understand what your program actually does and find bugs in the logic."
      ]
    },
    {
      "cell_type": "markdown",
      "metadata": {
        "id": "gk_RB6RkCSuk"
      },
      "source": [
        "### **Starting the Debugger**"
      ]
    },
    {
      "cell_type": "markdown",
      "metadata": {
        "id": "2PFDjKwtCW1z"
      },
      "source": [
        "**From the Command Line**"
      ]
    },
    {
      "cell_type": "code",
      "metadata": {
        "id": "Cg2A4MQVAvC2",
        "outputId": "4f00ce8a-9cd1-4f74-9d59-7ca7f6a91b8d",
        "colab": {
          "base_uri": "https://localhost:8080/",
          "height": 107
        }
      },
      "source": [
        "def seq(n):\n",
        "    for i in range(n):\n",
        "        print(i)\n",
        "    return\n",
        "\n",
        "seq(5)"
      ],
      "execution_count": 302,
      "outputs": [
        {
          "output_type": "stream",
          "text": [
            "0\n",
            "1\n",
            "2\n",
            "3\n",
            "4\n"
          ],
          "name": "stdout"
        }
      ]
    },
    {
      "cell_type": "markdown",
      "metadata": {
        "id": "TOZq6mE1CcvX"
      },
      "source": [
        "**From Within Your Program**"
      ]
    },
    {
      "cell_type": "code",
      "metadata": {
        "id": "AuquQu41Cao-",
        "outputId": "8cd8b9bb-ed01-47de-fa49-e598b67fc99b",
        "colab": {
          "base_uri": "https://localhost:8080/",
          "height": 1000
        }
      },
      "source": [
        "import pdb\n",
        "\n",
        "#interactive debugging\n",
        "def seq(n):\n",
        "    for i in range(n):\n",
        "        pdb.set_trace() # breakpoint\n",
        "        print(i)\n",
        "    return\n",
        "\n",
        "seq(5)\n",
        "\n",
        "# ******* pdb commands ******* \n",
        "# c : continue\n",
        "# q: quit\n",
        "# h: help\n",
        "# list\n",
        "# p: print\n",
        "# p locals()\n",
        "# p globals()\n"
      ],
      "execution_count": 303,
      "outputs": [
        {
          "output_type": "stream",
          "text": [
            "> <ipython-input-303-dde522554ce6>(7)seq()\n",
            "-> print(i)\n",
            "(Pdb) list\n",
            "  2  \t\n",
            "  3  \t#interactive debugging\n",
            "  4  \tdef seq(n):\n",
            "  5  \t    for i in range(n):\n",
            "  6  \t        pdb.set_trace() # breakpoint\n",
            "  7  ->\t        print(i)\n",
            "  8  \t    return\n",
            "  9  \t\n",
            " 10  \tseq(5)\n",
            " 11  \t\n",
            " 12  \t# ******* pdb commands *******\n",
            "(Pdb) h\n",
            "\n",
            "Documented commands (type help <topic>):\n",
            "========================================\n",
            "EOF    c          d        h         list      q        rv       undisplay\n",
            "a      cl         debug    help      ll        quit     s        unt      \n",
            "alias  clear      disable  ignore    longlist  r        source   until    \n",
            "args   commands   display  interact  n         restart  step     up       \n",
            "b      condition  down     j         next      return   tbreak   w        \n",
            "break  cont       enable   jump      p         retval   u        whatis   \n",
            "bt     continue   exit     l         pp        run      unalias  where    \n",
            "\n",
            "Miscellaneous help topics:\n",
            "==========================\n",
            "exec  pdb\n",
            "\n",
            "(Pdb) p i\n",
            "0\n",
            "(Pdb) p n\n",
            "5\n",
            "(Pdb) p locals()\n",
            "{'i': 0, 'n': 5}\n",
            "(Pdb) c\n",
            "0\n",
            "> <ipython-input-303-dde522554ce6>(6)seq()\n",
            "-> pdb.set_trace() # breakpoint\n",
            "(Pdb) list\n",
            "  1  \timport pdb\n",
            "  2  \t\n",
            "  3  \t#interactive debugging\n",
            "  4  \tdef seq(n):\n",
            "  5  \t    for i in range(n):\n",
            "  6  ->\t        pdb.set_trace() # breakpoint\n",
            "  7  \t        print(i)\n",
            "  8  \t    return\n",
            "  9  \t\n",
            " 10  \tseq(5)\n",
            " 11  \t\n",
            "(Pdb) p locals()\n",
            "{'i': 1, 'n': 5}\n",
            "(Pdb) c\n",
            "1\n",
            "> <ipython-input-303-dde522554ce6>(7)seq()\n",
            "-> print(i)\n",
            "(Pdb) p i\n",
            "2\n",
            "(Pdb) p locals()\n",
            "{'i': 2, 'n': 5}\n",
            "(Pdb) h\n",
            "\n",
            "Documented commands (type help <topic>):\n",
            "========================================\n",
            "EOF    c          d        h         list      q        rv       undisplay\n",
            "a      cl         debug    help      ll        quit     s        unt      \n",
            "alias  clear      disable  ignore    longlist  r        source   until    \n",
            "args   commands   display  interact  n         restart  step     up       \n",
            "b      condition  down     j         next      return   tbreak   w        \n",
            "break  cont       enable   jump      p         retval   u        whatis   \n",
            "bt     continue   exit     l         pp        run      unalias  where    \n",
            "\n",
            "Miscellaneous help topics:\n",
            "==========================\n",
            "exec  pdb\n",
            "\n",
            "(Pdb) c\n",
            "2\n",
            "> <ipython-input-303-dde522554ce6>(6)seq()\n",
            "-> pdb.set_trace() # breakpoint\n",
            "(Pdb) p locals()\n",
            "{'i': 3, 'n': 5}\n",
            "(Pdb) q\n"
          ],
          "name": "stdout"
        },
        {
          "output_type": "error",
          "ename": "BdbQuit",
          "evalue": "ignored",
          "traceback": [
            "\u001b[0;31m---------------------------------------------------------------------------\u001b[0m",
            "\u001b[0;31mBdbQuit\u001b[0m                                   Traceback (most recent call last)",
            "\u001b[0;32m<ipython-input-303-dde522554ce6>\u001b[0m in \u001b[0;36m<module>\u001b[0;34m()\u001b[0m\n\u001b[1;32m      8\u001b[0m     \u001b[0;32mreturn\u001b[0m\u001b[0;34m\u001b[0m\u001b[0;34m\u001b[0m\u001b[0m\n\u001b[1;32m      9\u001b[0m \u001b[0;34m\u001b[0m\u001b[0m\n\u001b[0;32m---> 10\u001b[0;31m \u001b[0mseq\u001b[0m\u001b[0;34m(\u001b[0m\u001b[0;36m5\u001b[0m\u001b[0;34m)\u001b[0m\u001b[0;34m\u001b[0m\u001b[0;34m\u001b[0m\u001b[0m\n\u001b[0m\u001b[1;32m     11\u001b[0m \u001b[0;34m\u001b[0m\u001b[0m\n\u001b[1;32m     12\u001b[0m \u001b[0;31m# ******* pdb commands *******\u001b[0m\u001b[0;34m\u001b[0m\u001b[0;34m\u001b[0m\u001b[0;34m\u001b[0m\u001b[0m\n",
            "\u001b[0;32m<ipython-input-303-dde522554ce6>\u001b[0m in \u001b[0;36mseq\u001b[0;34m(n)\u001b[0m\n\u001b[1;32m      4\u001b[0m \u001b[0;32mdef\u001b[0m \u001b[0mseq\u001b[0m\u001b[0;34m(\u001b[0m\u001b[0mn\u001b[0m\u001b[0;34m)\u001b[0m\u001b[0;34m:\u001b[0m\u001b[0;34m\u001b[0m\u001b[0;34m\u001b[0m\u001b[0m\n\u001b[1;32m      5\u001b[0m     \u001b[0;32mfor\u001b[0m \u001b[0mi\u001b[0m \u001b[0;32min\u001b[0m \u001b[0mrange\u001b[0m\u001b[0;34m(\u001b[0m\u001b[0mn\u001b[0m\u001b[0;34m)\u001b[0m\u001b[0;34m:\u001b[0m\u001b[0;34m\u001b[0m\u001b[0;34m\u001b[0m\u001b[0m\n\u001b[0;32m----> 6\u001b[0;31m         \u001b[0mpdb\u001b[0m\u001b[0;34m.\u001b[0m\u001b[0mset_trace\u001b[0m\u001b[0;34m(\u001b[0m\u001b[0;34m)\u001b[0m \u001b[0;31m# breakpoint\u001b[0m\u001b[0;34m\u001b[0m\u001b[0;34m\u001b[0m\u001b[0m\n\u001b[0m\u001b[1;32m      7\u001b[0m         \u001b[0mprint\u001b[0m\u001b[0;34m(\u001b[0m\u001b[0mi\u001b[0m\u001b[0;34m)\u001b[0m\u001b[0;34m\u001b[0m\u001b[0;34m\u001b[0m\u001b[0m\n\u001b[1;32m      8\u001b[0m     \u001b[0;32mreturn\u001b[0m\u001b[0;34m\u001b[0m\u001b[0;34m\u001b[0m\u001b[0m\n",
            "\u001b[0;32m<ipython-input-303-dde522554ce6>\u001b[0m in \u001b[0;36mseq\u001b[0;34m(n)\u001b[0m\n\u001b[1;32m      4\u001b[0m \u001b[0;32mdef\u001b[0m \u001b[0mseq\u001b[0m\u001b[0;34m(\u001b[0m\u001b[0mn\u001b[0m\u001b[0;34m)\u001b[0m\u001b[0;34m:\u001b[0m\u001b[0;34m\u001b[0m\u001b[0;34m\u001b[0m\u001b[0m\n\u001b[1;32m      5\u001b[0m     \u001b[0;32mfor\u001b[0m \u001b[0mi\u001b[0m \u001b[0;32min\u001b[0m \u001b[0mrange\u001b[0m\u001b[0;34m(\u001b[0m\u001b[0mn\u001b[0m\u001b[0;34m)\u001b[0m\u001b[0;34m:\u001b[0m\u001b[0;34m\u001b[0m\u001b[0;34m\u001b[0m\u001b[0m\n\u001b[0;32m----> 6\u001b[0;31m         \u001b[0mpdb\u001b[0m\u001b[0;34m.\u001b[0m\u001b[0mset_trace\u001b[0m\u001b[0;34m(\u001b[0m\u001b[0;34m)\u001b[0m \u001b[0;31m# breakpoint\u001b[0m\u001b[0;34m\u001b[0m\u001b[0;34m\u001b[0m\u001b[0m\n\u001b[0m\u001b[1;32m      7\u001b[0m         \u001b[0mprint\u001b[0m\u001b[0;34m(\u001b[0m\u001b[0mi\u001b[0m\u001b[0;34m)\u001b[0m\u001b[0;34m\u001b[0m\u001b[0;34m\u001b[0m\u001b[0m\n\u001b[1;32m      8\u001b[0m     \u001b[0;32mreturn\u001b[0m\u001b[0;34m\u001b[0m\u001b[0;34m\u001b[0m\u001b[0m\n",
            "\u001b[0;32m/usr/lib/python3.6/bdb.py\u001b[0m in \u001b[0;36mtrace_dispatch\u001b[0;34m(self, frame, event, arg)\u001b[0m\n\u001b[1;32m     49\u001b[0m             \u001b[0;32mreturn\u001b[0m \u001b[0;31m# None\u001b[0m\u001b[0;34m\u001b[0m\u001b[0;34m\u001b[0m\u001b[0m\n\u001b[1;32m     50\u001b[0m         \u001b[0;32mif\u001b[0m \u001b[0mevent\u001b[0m \u001b[0;34m==\u001b[0m \u001b[0;34m'line'\u001b[0m\u001b[0;34m:\u001b[0m\u001b[0;34m\u001b[0m\u001b[0;34m\u001b[0m\u001b[0m\n\u001b[0;32m---> 51\u001b[0;31m             \u001b[0;32mreturn\u001b[0m \u001b[0mself\u001b[0m\u001b[0;34m.\u001b[0m\u001b[0mdispatch_line\u001b[0m\u001b[0;34m(\u001b[0m\u001b[0mframe\u001b[0m\u001b[0;34m)\u001b[0m\u001b[0;34m\u001b[0m\u001b[0;34m\u001b[0m\u001b[0m\n\u001b[0m\u001b[1;32m     52\u001b[0m         \u001b[0;32mif\u001b[0m \u001b[0mevent\u001b[0m \u001b[0;34m==\u001b[0m \u001b[0;34m'call'\u001b[0m\u001b[0;34m:\u001b[0m\u001b[0;34m\u001b[0m\u001b[0;34m\u001b[0m\u001b[0m\n\u001b[1;32m     53\u001b[0m             \u001b[0;32mreturn\u001b[0m \u001b[0mself\u001b[0m\u001b[0;34m.\u001b[0m\u001b[0mdispatch_call\u001b[0m\u001b[0;34m(\u001b[0m\u001b[0mframe\u001b[0m\u001b[0;34m,\u001b[0m \u001b[0marg\u001b[0m\u001b[0;34m)\u001b[0m\u001b[0;34m\u001b[0m\u001b[0;34m\u001b[0m\u001b[0m\n",
            "\u001b[0;32m/usr/lib/python3.6/bdb.py\u001b[0m in \u001b[0;36mdispatch_line\u001b[0;34m(self, frame)\u001b[0m\n\u001b[1;32m     68\u001b[0m         \u001b[0;32mif\u001b[0m \u001b[0mself\u001b[0m\u001b[0;34m.\u001b[0m\u001b[0mstop_here\u001b[0m\u001b[0;34m(\u001b[0m\u001b[0mframe\u001b[0m\u001b[0;34m)\u001b[0m \u001b[0;32mor\u001b[0m \u001b[0mself\u001b[0m\u001b[0;34m.\u001b[0m\u001b[0mbreak_here\u001b[0m\u001b[0;34m(\u001b[0m\u001b[0mframe\u001b[0m\u001b[0;34m)\u001b[0m\u001b[0;34m:\u001b[0m\u001b[0;34m\u001b[0m\u001b[0;34m\u001b[0m\u001b[0m\n\u001b[1;32m     69\u001b[0m             \u001b[0mself\u001b[0m\u001b[0;34m.\u001b[0m\u001b[0muser_line\u001b[0m\u001b[0;34m(\u001b[0m\u001b[0mframe\u001b[0m\u001b[0;34m)\u001b[0m\u001b[0;34m\u001b[0m\u001b[0;34m\u001b[0m\u001b[0m\n\u001b[0;32m---> 70\u001b[0;31m             \u001b[0;32mif\u001b[0m \u001b[0mself\u001b[0m\u001b[0;34m.\u001b[0m\u001b[0mquitting\u001b[0m\u001b[0;34m:\u001b[0m \u001b[0;32mraise\u001b[0m \u001b[0mBdbQuit\u001b[0m\u001b[0;34m\u001b[0m\u001b[0;34m\u001b[0m\u001b[0m\n\u001b[0m\u001b[1;32m     71\u001b[0m         \u001b[0;32mreturn\u001b[0m \u001b[0mself\u001b[0m\u001b[0;34m.\u001b[0m\u001b[0mtrace_dispatch\u001b[0m\u001b[0;34m\u001b[0m\u001b[0;34m\u001b[0m\u001b[0m\n\u001b[1;32m     72\u001b[0m \u001b[0;34m\u001b[0m\u001b[0m\n",
            "\u001b[0;31mBdbQuit\u001b[0m: "
          ]
        }
      ]
    },
    {
      "cell_type": "markdown",
      "metadata": {
        "id": "r4XzFH_rC6GB"
      },
      "source": [
        "### **Debugger Commands**"
      ]
    },
    {
      "cell_type": "markdown",
      "metadata": {
        "id": "jch-rSreC9QP"
      },
      "source": [
        "- **h(elp) [command]**\n",
        "\n",
        "\n",
        "Without argument, print the list of available commands. With a command as argument, print help about that command. help pdb displays the full documentation (the docstring of the pdb module). Since the command argument must be an identifier, help exec must be entered to get help on the ! command.\n",
        "\n",
        "- **w(here)**\n",
        "\n",
        "Print a stack trace, with the most recent frame at the bottom. An arrow indicates the current frame, which determines the context of most commands.\n",
        "\n",
        "- **d(own) [count]**\n",
        "\n",
        "Move the current frame count (default one) levels down in the stack trace (to a newer frame).\n",
        "\n",
        "- **c(ont(inue))**\n",
        "\n",
        "Continue execution, only stop when a breakpoint is encountered.\n",
        "- **q(uit)**\n",
        "\n",
        "Quit from the debugger. The program being executed is aborted.\n",
        "\n",
        "**Termial/Command prompt based debugging**\n"
      ]
    },
    {
      "cell_type": "code",
      "metadata": {
        "id": "7p79juy0Cf0-"
      },
      "source": [
        ""
      ],
      "execution_count": null,
      "outputs": []
    }
  ]
}