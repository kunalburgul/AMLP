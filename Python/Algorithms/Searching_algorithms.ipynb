{
  "nbformat": 4,
  "nbformat_minor": 0,
  "metadata": {
    "colab": {
      "name": "Searching_algorithms.ipynb",
      "provenance": [],
      "collapsed_sections": [],
      "authorship_tag": "ABX9TyMWfu2SN+TTtZKuaGpb00PL",
      "include_colab_link": true
    },
    "kernelspec": {
      "name": "python3",
      "display_name": "Python 3"
    },
    "language_info": {
      "name": "python"
    }
  },
  "cells": [
    {
      "cell_type": "markdown",
      "metadata": {
        "id": "view-in-github",
        "colab_type": "text"
      },
      "source": [
        "<a href=\"https://colab.research.google.com/github/kunalburgul/MLDS_Learning/blob/master/Python/Algorithms/Searching_algorithms.ipynb\" target=\"_parent\"><img src=\"https://colab.research.google.com/assets/colab-badge.svg\" alt=\"Open In Colab\"/></a>"
      ]
    },
    {
      "cell_type": "markdown",
      "source": [
        "## **Linear Search**"
      ],
      "metadata": {
        "id": "sLzHUwJt7GDA"
      }
    },
    {
      "cell_type": "markdown",
      "source": [
        "**Problem**: Given an array arr[] of n elements, write a function to search a given element x in arr[].\n",
        "\n",
        "Examples :  \n",
        "\n",
        "Input : arr[] = {10, 20, 80, 30, 60, 50, \n",
        "                     110, 100, 130, 170}\n",
        "          x = 110;\n",
        "\n",
        "Output : 6\n",
        "Element x is present at index 6\n",
        "\n",
        "Input : arr[] = {10, 20, 80, 30, 60, 50, \n",
        "                     110, 100, 130, 170}\n",
        "           x = 175;\n",
        "           \n",
        "Output : -1\n",
        "Element x is not present in arr[].\n",
        "\n"
      ],
      "metadata": {
        "id": "OrEl8ZHi7L5d"
      }
    },
    {
      "cell_type": "markdown",
      "source": [
        "-> A simple approach is to do a linear search, i.e  \n",
        "\n",
        "- Start from the leftmost element of arr[] and one by one compare x with each element of arr[]\n",
        "- If x matches with an element, return the index.\n",
        "- If x doesn’t match with any of the elements, return -1."
      ],
      "metadata": {
        "id": "3u6sWnML7oMd"
      }
    },
    {
      "cell_type": "code",
      "execution_count": 42,
      "metadata": {
        "id": "g4VD8R1n5G6Z"
      },
      "outputs": [],
      "source": [
        "def search(arr, x):\n",
        "    for i in range(0, len(arr)):\n",
        "        if (arr[i] == x):\n",
        "            return i \n",
        "    return -1"
      ]
    },
    {
      "cell_type": "code",
      "source": [
        "# Driver Code\n",
        "arr = [2, 3, 4, 10, 40]\n",
        "arr1 = [10, 20, 80, 30, 60, 50, 110, 100, 130, 170]\n",
        "x = 10\n",
        " \n",
        "# Function call\n",
        "result = search(arr, x)\n",
        "if(result == -1):\n",
        "    print(\"Element is not present in array\")\n",
        "else:\n",
        "    print(\"Element is present at index\", result)"
      ],
      "metadata": {
        "colab": {
          "base_uri": "https://localhost:8080/"
        },
        "id": "4_4-3wqw8CV9",
        "outputId": "072e58ec-bfec-4cf6-b2d7-fef5395224b1"
      },
      "execution_count": 43,
      "outputs": [
        {
          "output_type": "stream",
          "name": "stdout",
          "text": [
            "Element is present at index 3\n"
          ]
        }
      ]
    },
    {
      "cell_type": "markdown",
      "source": [
        "The time complexity of the above algorithm is O(n). \n",
        "\n",
        "Linear search is rarely used practically because other search algorithms such as the binary search algorithm and hash tables allow significantly faster searching compared to Linear search."
      ],
      "metadata": {
        "id": "X97HTbIrJBOy"
      }
    },
    {
      "cell_type": "markdown",
      "source": [
        "## **Binary Search**\n",
        "\n"
      ],
      "metadata": {
        "id": "Cdz-cS82JCbn"
      }
    },
    {
      "cell_type": "markdown",
      "source": [
        "Linear Search Approach: A simple approach is to do a linear search. The time complexity of the Linear search is O(n). Another approach to perform the same task is using Binary Search.  \n",
        "\n",
        "**Binary Search Approach**: \n",
        "\n",
        "Binary Search is a searching algorithm used in a sorted array by repeatedly dividing the search interval in half. The idea of binary search is to use the information that the array is sorted and reduce the time complexity to O(Log n). "
      ],
      "metadata": {
        "id": "qZimoYZcKM-q"
      }
    },
    {
      "cell_type": "markdown",
      "source": [
        "Binary Search Algorithm: The basic steps to perform Binary Search are:\n",
        "\n",
        "- Begin with the mid element of the whole array as a search key.\n",
        "- If the value of the search key is equal to the item then return an index of the search key.\n",
        "- Or if the value of the search key is less than the item in the middle of the interval, narrow the interval to the lower half.\n",
        "- Otherwise, narrow it to the upper half.\n",
        "- Repeatedly check from the second point until the value is found or the interval is empty."
      ],
      "metadata": {
        "id": "gQpAVZ5_KVyF"
      }
    },
    {
      "cell_type": "markdown",
      "source": [
        "**Problem**: Given an array arr[] of n elements, write a function to search a given element x in arr[].\n",
        "\n",
        "Examples :  \n",
        "\n",
        "Input : arr[] = {10, 20, 80, 30, 60, 50, \n",
        "                     110, 100, 130, 170}\n",
        "          x = 110;\n",
        "\n",
        "Output : 6\n",
        "Element x is present at index 6\n",
        "\n",
        "Input : arr[] = {10, 20, 80, 30, 60, 50, \n",
        "                     110, 100, 130, 170}\n",
        "           x = 175;\n",
        "           \n",
        "Output : -1\n",
        "Element x is not present in arr[].\n"
      ],
      "metadata": {
        "id": "4AwHaHZ7KJ43"
      }
    },
    {
      "cell_type": "markdown",
      "source": [
        "Binary Search Algorithm can be implemented in the following two ways\n",
        "\n",
        "**1. Iterative Method**\n"
      ],
      "metadata": {
        "id": "kU4BSTeLKgIh"
      }
    },
    {
      "cell_type": "code",
      "source": [
        "def ite_binarysearch(arr, x):\n",
        "    l = 0\n",
        "    h = len(arr)-1\n",
        "    while l <= h:\n",
        "        m = l+(h-l) // 2 # to avoide overflow through (l+h)//2\n",
        "        print(\"l-\", l,\"\\nr-\", h, \"\\nm -\",m, \"\\n\")\n",
        "        if x == arr[m]:\n",
        "            return m\n",
        "        elif x > arr[m]:\n",
        "            l = m + 1\n",
        "        else:\n",
        "            h = m - 1\n",
        "    return -1\n"
      ],
      "metadata": {
        "id": "2BYEB5N78gSa"
      },
      "execution_count": 65,
      "outputs": []
    },
    {
      "cell_type": "code",
      "source": [
        "# Driver Code\n",
        "arr = [2, 3, 4, 10, 40]\n",
        "arr1 = [10, 20, 80, 30, 60, 50, 110, 100, 130, 170]\n",
        "x = 10\n",
        " \n",
        "# Function call\n",
        "result = ite_binarysearch(arr1, x)\n",
        "print(result)\n",
        "if result != -1:\n",
        "    print(\"Element is present at index % d\" % result)\n",
        "else:\n",
        "    print(\"Element is not present in array\")"
      ],
      "metadata": {
        "colab": {
          "base_uri": "https://localhost:8080/"
        },
        "id": "lDCVE014KjUc",
        "outputId": "6e08d137-1f3b-42e2-f32b-1846083bc290"
      },
      "execution_count": 66,
      "outputs": [
        {
          "output_type": "stream",
          "name": "stdout",
          "text": [
            "l- 0 \n",
            "r- 9 \n",
            "m - 4 \n",
            "\n",
            "l- 0 \n",
            "r- 3 \n",
            "m - 1 \n",
            "\n",
            "l- 0 \n",
            "r- 0 \n",
            "m - 0 \n",
            "\n",
            "0\n",
            "Element is present at index  0\n"
          ]
        }
      ]
    },
    {
      "cell_type": "markdown",
      "source": [
        "**2. Recursive Method**"
      ],
      "metadata": {
        "id": "1JA5D1NKKjes"
      }
    },
    {
      "cell_type": "code",
      "source": [
        "def rec_binarysearch(arr, l, h, x):\n",
        "    while l <= h:\n",
        "        m = l+(h-l) // 2 # to avoide overflow through (l+h)//2\n",
        "        print(\"l-\", l,\"\\nr-\", h, \"\\nm -\",m, \"\\n\")\n",
        "        if x == arr[m]:\n",
        "            return m\n",
        "        elif x < arr[m]:\n",
        "            return rec_binarysearch(arr, l, m-1, x)\n",
        "        else:\n",
        "            return rec_binarysearch(arr, m+1, h, x)\n",
        "    else:\n",
        "        return -1"
      ],
      "metadata": {
        "id": "4LyQdg1HKkdj"
      },
      "execution_count": 83,
      "outputs": []
    },
    {
      "cell_type": "code",
      "source": [
        "# Driver Code\n",
        "arr = [2, 3, 4, 10, 40]\n",
        "arr1 = [10, 20, 80, 30, 60, 50, 110, 100, 130, 170]\n",
        "x = 10\n",
        " \n",
        "# Function call\n",
        "result = rec_binarysearch(arr1, 0, len(arr1)-1, x)\n",
        "print(result)\n",
        "if result != -1:\n",
        "    print(\"Element is present at index % d\" % result)\n",
        "else:\n",
        "    print(\"Element is not present in array\")"
      ],
      "metadata": {
        "colab": {
          "base_uri": "https://localhost:8080/"
        },
        "id": "3-VlOxzAbK21",
        "outputId": "1d851d0a-fc62-4507-a571-3df5674fe7c1"
      },
      "execution_count": 84,
      "outputs": [
        {
          "output_type": "stream",
          "name": "stdout",
          "text": [
            "l- 0 \n",
            "r- 9 \n",
            "m - 4 \n",
            "\n",
            "l- 0 \n",
            "r- 3 \n",
            "m - 1 \n",
            "\n",
            "l- 0 \n",
            "r- 0 \n",
            "m - 0 \n",
            "\n",
            "0\n",
            "Element is present at index  0\n"
          ]
        }
      ]
    },
    {
      "cell_type": "code",
      "source": [
        ""
      ],
      "metadata": {
        "id": "pN0pvp--bPzp"
      },
      "execution_count": 78,
      "outputs": []
    }
  ]
}