{
  "nbformat": 4,
  "nbformat_minor": 0,
  "metadata": {
    "colab": {
      "name": "array_problems.ipynb",
      "provenance": [],
      "collapsed_sections": [],
      "toc_visible": true,
      "authorship_tag": "ABX9TyPuFMO7ov8cmSLaSsA9p88k",
      "include_colab_link": true
    },
    "kernelspec": {
      "name": "python3",
      "display_name": "Python 3"
    },
    "language_info": {
      "name": "python"
    }
  },
  "cells": [
    {
      "cell_type": "markdown",
      "metadata": {
        "id": "view-in-github",
        "colab_type": "text"
      },
      "source": [
        "<a href=\"https://colab.research.google.com/github/kunalburgul/MLDS_Learning/blob/master/Python/Array/array_problems.ipynb\" target=\"_parent\"><img src=\"https://colab.research.google.com/assets/colab-badge.svg\" alt=\"Open In Colab\"/></a>"
      ]
    },
    {
      "cell_type": "markdown",
      "source": [
        "## **Program to reverse an array or string** -> Easy\n",
        "\n",
        "\n"
      ],
      "metadata": {
        "id": "-rX2RBjEi1sS"
      }
    },
    {
      "cell_type": "markdown",
      "source": [
        "***Method 1*** -- Iterative Approach\n",
        "\n",
        "1) Initialize start and end indexes as start = 0, end = n-1 \n",
        "2) In a loop, swap arr[start] with arr[end] and change start and end as follows : \n",
        "start = start +1, end = end – 1"
      ],
      "metadata": {
        "id": "7QU1y9FYjP0e"
      }
    },
    {
      "cell_type": "code",
      "execution_count": null,
      "metadata": {
        "id": "vLoEw52XikgC"
      },
      "outputs": [],
      "source": [
        "def rev1(A, start, end):\n",
        "    while start < end: \n",
        "        A[start], A[end] = A[end], A[start]\n",
        "        start += 1\n",
        "        end -= 1"
      ]
    },
    {
      "cell_type": "code",
      "source": [
        "A = [1, 2, 3, 4, 5]\n",
        "print(\"Original Array:\" ,A)\n",
        "rev1(A, 0, 4)\n",
        "print(\"Array after reversing:\", A)"
      ],
      "metadata": {
        "colab": {
          "base_uri": "https://localhost:8080/"
        },
        "id": "gQxH0qgqkPu3",
        "outputId": "57fe897e-4715-4523-e98f-c31faaf7eebf"
      },
      "execution_count": null,
      "outputs": [
        {
          "output_type": "stream",
          "name": "stdout",
          "text": [
            "Original Array: [1, 2, 3, 4, 5]\n",
            "Array after reversing: [5, 4, 3, 2, 1]\n"
          ]
        }
      ]
    },
    {
      "cell_type": "markdown",
      "source": [
        "***Method 2*** - Recursive Approach\n",
        "\n",
        "\n",
        "1) Initialize start and end indexes as start = 0, end = n-1\n",
        "\n",
        "2) Swap arr[start] with arr[end] \n",
        "\n",
        "3) Recursively call reverse for rest of the array.\n"
      ],
      "metadata": {
        "id": "I1gUMljgk5dO"
      }
    },
    {
      "cell_type": "code",
      "source": [
        "def rev2(A, start, end):\n",
        "    if start >= end:\n",
        "        return\n",
        "    else: \n",
        "        A[start], A[end] = A[end], A[start]\n",
        "        rev2(A, start+1, end-1)"
      ],
      "metadata": {
        "id": "9dHLRQP7kwgd"
      },
      "execution_count": null,
      "outputs": []
    },
    {
      "cell_type": "code",
      "source": [
        "A = [1, 2, 3, 4, 5]\n",
        "print(\"Original Array:\" ,A)\n",
        "rev2(A, 0, 4)\n",
        "print(\"Array after reversing:\", A)"
      ],
      "metadata": {
        "colab": {
          "base_uri": "https://localhost:8080/"
        },
        "id": "L5IpKvpdlD1b",
        "outputId": "bd2a00fc-e0ea-414d-c91a-c17548654892"
      },
      "execution_count": null,
      "outputs": [
        {
          "output_type": "stream",
          "name": "stdout",
          "text": [
            "Original Array: [1, 2, 3, 4, 5]\n",
            "Array after reversing: [5, 4, 3, 2, 1]\n"
          ]
        }
      ]
    },
    {
      "cell_type": "markdown",
      "source": [
        "***Method 3*** - Using list Slicing approach"
      ],
      "metadata": {
        "id": "VXS3zSj2l_zX"
      }
    },
    {
      "cell_type": "code",
      "source": [
        "def rev3(A):\n",
        "    return A[::-1]"
      ],
      "metadata": {
        "id": "XK4Qb9ETlxm5"
      },
      "execution_count": null,
      "outputs": []
    },
    {
      "cell_type": "code",
      "source": [
        "A = [1, 2, 3, 4, 5]\n",
        "print(\"Original Array:\" ,A)\n",
        "print(\"Array after reversing:\", rev3(A))"
      ],
      "metadata": {
        "colab": {
          "base_uri": "https://localhost:8080/"
        },
        "id": "_EBVawBUmJBf",
        "outputId": "79614bd0-8478-4272-f416-7258bffbbf12"
      },
      "execution_count": null,
      "outputs": [
        {
          "output_type": "stream",
          "name": "stdout",
          "text": [
            "Original Array: [1, 2, 3, 4, 5]\n",
            "Array after reversing: [5, 4, 3, 2, 1]\n"
          ]
        }
      ]
    },
    {
      "cell_type": "markdown",
      "source": [
        "## **Finding the MAX and MIN elements of the array** -> Easy"
      ],
      "metadata": {
        "id": "O6MO-l3bmrYV"
      }
    },
    {
      "cell_type": "markdown",
      "source": [
        "***Method 1*** - Simple Linear Search\n",
        "\n",
        "Initialize values of min and max as minimum and maximum of the first two elements respectively. Starting from 3rd, compare each element with max and min, and change max and min accordingly (i.e., if the element is smaller than min then change min, else if the element is greater than max then change max, else ignore the element)"
      ],
      "metadata": {
        "id": "6q9v1QuDpkYv"
      }
    },
    {
      "cell_type": "code",
      "source": [
        "arr = [1000, 11, 445, 1, 330, 3000]\n",
        "\n",
        "size_ = len(arr)\n",
        "min_ = 0 \n",
        "max_ = 0\n",
        "def minmax_pair(arr, size_):\n",
        "    if size_ == 1:\n",
        "        max_ = arr[0]\n",
        "        min_ = arr[0]\n",
        "        return (min_, max_)\n",
        "    else:\n",
        "        min_ = arr[0]\n",
        "        max_ = arr[1]\n",
        "        for i in range(2, size_):\n",
        "            if arr[i] > max_:\n",
        "                max_ = arr[i]\n",
        "            elif arr[i] < min_:\n",
        "                min_ = arr[i]\n",
        "        return (min_, max_)\n",
        "\n",
        "mi,mx = minmax_pair(arr, size_)\n",
        "print(mi, mx)"
      ],
      "metadata": {
        "id": "wforIq0d9OLP"
      },
      "execution_count": null,
      "outputs": []
    },
    {
      "cell_type": "code",
      "source": [
        "class pair:\n",
        "    def __init__(self):\n",
        "        self.min = 0\n",
        "        self.max = 0 \n",
        "    \n",
        "def getMinMax1(arr:list, n:int) -> pair:\n",
        "    minmax = pair()\n",
        "    \n",
        "    # If there is only 1 element in the array return both as min and max\n",
        "    if n == 1:\n",
        "        minmax.max = arr[0]\n",
        "        minmax.mix = arr[0]\n",
        "        return minmax\n",
        "\n",
        "    #  # If there are more than one elements, then initialize min and max\n",
        "    if arr[0] > arr[1]:\n",
        "        minmax.max = arr[0]\n",
        "        minmax.min = arr[1]\n",
        "    else:\n",
        "        minmax.max = arr[1]\n",
        "        minmax.min = arr[0]\n",
        "\n",
        "    for i in range(2, n):\n",
        "        if arr[i] > minmax.max:\n",
        "            minmax.max = arr[i]\n",
        "        elif arr[i] < minmax.min:\n",
        "            minmax.min = arr[i]\n",
        "    return minmax"
      ],
      "metadata": {
        "id": "vAbd_7UkmQVG"
      },
      "execution_count": null,
      "outputs": []
    },
    {
      "cell_type": "code",
      "source": [
        "# Driver Code\n",
        "if __name__ == \"__main__\":\n",
        "    arr = [1000, 11, 445, 1, 330, 3000]\n",
        "    arr_size = 6\n",
        "    minmax = getMinMax1(arr, arr_size)\n",
        "    print(\"Minimum element is\", minmax.min)\n",
        "    print(\"Maximum element is\", minmax.max)\n"
      ],
      "metadata": {
        "colab": {
          "base_uri": "https://localhost:8080/"
        },
        "id": "UkW6QRFuoASd",
        "outputId": "6253df32-ddab-456c-cf2f-ba3ea1c17ea4"
      },
      "execution_count": null,
      "outputs": [
        {
          "output_type": "stream",
          "name": "stdout",
          "text": [
            "Minimum element is 1\n",
            "Maximum element is 3000\n"
          ]
        }
      ]
    },
    {
      "cell_type": "markdown",
      "source": [
        "***Method 2*** - Tournament Method"
      ],
      "metadata": {
        "id": "gFhmfV9BqBC6"
      }
    },
    {
      "cell_type": "code",
      "source": [
        "def getMinMax2(low, high, arr):\n",
        "    arr_max = arr[low]\n",
        "    arr_min = arr[low]\n",
        "\n",
        "     \n",
        "    if low == high: # ------------- If there is onlt 1 element             \n",
        "        arr_max = arr[low]\n",
        "        arr_min = arr[low]\n",
        "        return (arr_max, arr_min)\n",
        "    elif high == low + 1: # --------If there are only two elements\n",
        "        if arr[low] > arr[high]:\n",
        "            arr_max = arr[low]\n",
        "            arr_min = arr[high]\n",
        "        else:   \n",
        "            arr_max = arr[high]\n",
        "            arr_min = arr[low]\n",
        "        return (arr_max, arr_min)\n",
        "    else:        # -----------------If there are more than 2 elements in the array\n",
        "        mid = int((low+high)/2)\n",
        "        arr_max1, arr_min1 = getMinMax2(low, mid, arr)\n",
        "        arr_max2, arr_min2 = getMinMax2(mid + 1, high, arr)             \n",
        "    return (max(arr_max1, arr_max2), min(arr_min1, arr_min2))"
      ],
      "metadata": {
        "id": "3cseE6yep-JU"
      },
      "execution_count": null,
      "outputs": []
    },
    {
      "cell_type": "code",
      "source": [
        "# Driver code\n",
        "arr = [1000, 11, 445, 1, 330, 3000]\n",
        "high = len(arr) - 1\n",
        "low = 0\n",
        "arr_max, arr_min = getMinMax2(low, high, arr)\n",
        "print('Minimum element is ', arr_min)\n",
        "print('nMaximum element is ', arr_max)"
      ],
      "metadata": {
        "colab": {
          "base_uri": "https://localhost:8080/"
        },
        "id": "_ZALamGds6Gq",
        "outputId": "a764e6dd-97f6-4f90-9c92-081c274a6c7f"
      },
      "execution_count": null,
      "outputs": [
        {
          "output_type": "stream",
          "name": "stdout",
          "text": [
            "Minimum element is  1\n",
            "nMaximum element is  3000\n"
          ]
        }
      ]
    },
    {
      "cell_type": "markdown",
      "source": [
        "## **Find the Kth MAX and MIN element of the array** -> "
      ],
      "metadata": {
        "id": "ArlF2i3itq1y"
      }
    },
    {
      "cell_type": "code",
      "source": [
        "def kthSmallest(arr, n, k):\n",
        "    arr.sort()  # Return k'th element in the sorted array\n",
        "    print(\"K th maximum element is: \", arr[n - k])           # Since indexing start from 0, hence if user want first number, that means index=0\n",
        "    print(\"K th minimum element is: \", arr[k-1])"
      ],
      "metadata": {
        "id": "lNjTD875tasJ"
      },
      "execution_count": null,
      "outputs": []
    },
    {
      "cell_type": "code",
      "source": [
        "# Driver code\n",
        "if __name__=='__main__':\n",
        "    arr = [12, 3, 5, 7, 19]\n",
        "    n = len(arr)\n",
        "    k = 2\n",
        "    print(\"K'th smallest element is\",kthSmallest(arr, n, k))"
      ],
      "metadata": {
        "colab": {
          "base_uri": "https://localhost:8080/"
        },
        "id": "FcG-2rUIuZUG",
        "outputId": "05effdf9-2511-4c4d-c310-b88e28ba69d3"
      },
      "execution_count": null,
      "outputs": [
        {
          "output_type": "stream",
          "name": "stdout",
          "text": [
            "K th maximum element is:  12\n",
            "K th minimum element is:  5\n",
            "K'th smallest element is None\n"
          ]
        }
      ]
    },
    {
      "cell_type": "markdown",
      "source": [
        "## **Given an array which consists of only 0, 1 and 2. Sort the array without using any sorting algo** -> "
      ],
      "metadata": {
        "id": "sI_tSwuTxIQu"
      }
    },
    {
      "cell_type": "code",
      "source": [
        "def sort012( a, arr_size):\n",
        "    lo = 0\n",
        "    hi = arr_size - 1\n",
        "    mid = 0\n",
        "    while mid <= hi: \n",
        "        if a[mid] == 0:\n",
        "            a[lo], a[mid] = a[mid], a[lo]\n",
        "            lo = lo + 1\n",
        "            mid = mid + 1\n",
        "        elif a[mid] == 1:\n",
        "            mid = mid + 1\n",
        "        else:\n",
        "            a[mid], a[hi] = a[hi], a[mid]\n",
        "            hi = hi - 1\n",
        "    return a\n",
        "    \n",
        "# Function to print array\n",
        "def printArray( a):\n",
        "    for k in a:\n",
        "        print(k,end=' ')"
      ],
      "metadata": {
        "id": "s6OylMYmvior"
      },
      "execution_count": 34,
      "outputs": []
    },
    {
      "cell_type": "code",
      "source": [
        "# Driver Program\n",
        "arr = [0, 1, 1, 0, 1, 2, 1, 2, 0, 0, 0, 1]\n",
        "arr_size = len(arr)\n",
        "arr = sort012( arr, arr_size)\n",
        "print (\"Array after segregation :\",)\n",
        "printArray(arr)"
      ],
      "metadata": {
        "colab": {
          "base_uri": "https://localhost:8080/"
        },
        "id": "rqTLbrq_zaqk",
        "outputId": "30632aca-400a-46c5-d90a-c425b52ef96f"
      },
      "execution_count": 35,
      "outputs": [
        {
          "output_type": "stream",
          "name": "stdout",
          "text": [
            "Array after segregation :\n",
            "0 0 0 0 0 1 1 1 1 1 2 2 "
          ]
        }
      ]
    },
    {
      "cell_type": "markdown",
      "source": [
        "## **Find all pairs on integer array whose sum is equal to given number.** -> "
      ],
      "metadata": {
        "id": "ba5LWxdf-tj4"
      }
    },
    {
      "cell_type": "code",
      "source": [
        "arr =  [1, 5, 7, -1, 5]\n",
        "K = 6\n",
        "\n",
        "def find_pair(arr, K):\n",
        "    for i in range(0, len(arr)):\n",
        "        for j in range(i+1, len(arr)):\n",
        "            if arr[i] + arr[j] == K:\n",
        "                print(arr[i], arr[j])\n",
        "            \n",
        "    \n",
        "find_pair(arr, K)\n"
      ],
      "metadata": {
        "id": "SAaIsu0Gza6q",
        "outputId": "9b9b21f1-0399-4054-f1c2-8efbc0e27ec4",
        "colab": {
          "base_uri": "https://localhost:8080/"
        }
      },
      "execution_count": 8,
      "outputs": [
        {
          "output_type": "stream",
          "name": "stdout",
          "text": [
            "1 5\n",
            "1 5\n",
            "7 -1\n"
          ]
        }
      ]
    },
    {
      "cell_type": "markdown",
      "source": [
        "## **Binary search.** -> "
      ],
      "metadata": {
        "id": "N2lzsDTZB4R1"
      }
    },
    {
      "cell_type": "code",
      "source": [
        "\n",
        "\n",
        "def binary_search(arr, x):\n",
        "    l = 0\n",
        "    u = len(arr)-1\n",
        "    m = 0\n",
        "    while l <= u:\n",
        "        m = (l+u)//2\n",
        "        if arr[m] < x:\n",
        "            l = m + 1\n",
        "        elif arr[m] > x:\n",
        "            h = m - 1\n",
        "        else: \n",
        "            return m\n",
        "    return -1\n",
        "\n",
        "arr = [ 2, 3, 4, 10, 40 ]\n",
        "x = 4\n",
        "c = binary_search(arr, x) \n",
        "if c != -1:\n",
        "    print(\"Found at:\", c)\n",
        "else:\n",
        "    print(\"Not Found\")\n",
        "             "
      ],
      "metadata": {
        "id": "OAqaub2r_nzV",
        "outputId": "f05a28c9-c498-48bf-de0d-68431e2387d4",
        "colab": {
          "base_uri": "https://localhost:8080/"
        }
      },
      "execution_count": 33,
      "outputs": [
        {
          "output_type": "stream",
          "name": "stdout",
          "text": [
            "Found at: 2\n"
          ]
        }
      ]
    },
    {
      "cell_type": "markdown",
      "source": [
        "## **Move all negative numbers to beginning and positive to end with constant extra space.** ->"
      ],
      "metadata": {
        "id": "mhI7sLu3Q4pN"
      }
    },
    {
      "cell_type": "code",
      "source": [
        "def move(arr):\n",
        "    return sorted(arr)\n",
        "\n",
        "arr = [ -1, 2, -3, 4, 5, 6, -7, 8, 9 ]\n",
        "move(arr)"
      ],
      "metadata": {
        "id": "kBxjwy7-G97C",
        "outputId": "34fa6dc6-8833-4606-88e5-64efc788984d",
        "colab": {
          "base_uri": "https://localhost:8080/"
        }
      },
      "execution_count": 39,
      "outputs": [
        {
          "output_type": "execute_result",
          "data": {
            "text/plain": [
              "[-7, -3, -1, 2, 4, 5, 6, 8, 9]"
            ]
          },
          "metadata": {},
          "execution_count": 39
        }
      ]
    },
    {
      "cell_type": "code",
      "source": [
        "def move(arr):\n",
        "    j = 0\n",
        "    for i in range(0, len(arr)):\n",
        "        if (arr[i] < 0):\n",
        "            temp = arr[i]\n",
        "            arr[i] = arr[j]\n",
        "            arr[j] = temp \n",
        "            j += 1\n",
        "    print(arr)\n",
        "\n",
        "arr = [ -1, 2, -3, 4, 5, 6, -7, 8, 9 ]\n",
        "move(arr)"
      ],
      "metadata": {
        "id": "-1CWa86VRCYY",
        "outputId": "ccd1460f-7914-44a8-eb3a-6c6df65cd515",
        "colab": {
          "base_uri": "https://localhost:8080/"
        }
      },
      "execution_count": 41,
      "outputs": [
        {
          "output_type": "stream",
          "name": "stdout",
          "text": [
            "[-1, -3, -7, 4, 5, 6, 2, 8, 9]\n"
          ]
        }
      ]
    },
    {
      "cell_type": "markdown",
      "source": [
        "## **Find Largest sum contiguous Subarray** ->"
      ],
      "metadata": {
        "id": "pgy09XaUUIVN"
      }
    },
    {
      "cell_type": "code",
      "source": [
        "def max_sub_array(arr):\n",
        "    max_far = arr[0]\n",
        "    max_end = 0\n",
        "    for i in range(0, len(arr)):\n",
        "        max_end = max_end + arr[i]\n",
        "        if max_end < 0:\n",
        "            max_end = 0\n",
        "        elif max_far < max_end:\n",
        "            max_far = max_end\n",
        "    return max_far\n",
        "\n",
        "arr = [-2,1,-3,4,-1,2,1,-5,4]\n",
        "max_sub_array(arr)\n",
        "\n"
      ],
      "metadata": {
        "id": "-r40HtGgSUlU",
        "outputId": "4aee197f-367e-4036-e5dc-83e609c4f660",
        "colab": {
          "base_uri": "https://localhost:8080/"
        }
      },
      "execution_count": 43,
      "outputs": [
        {
          "output_type": "execute_result",
          "data": {
            "text/plain": [
              "6"
            ]
          },
          "metadata": {},
          "execution_count": 43
        }
      ]
    },
    {
      "cell_type": "markdown",
      "source": [
        "##**Minimise the maximum difference between heights** ->"
      ],
      "metadata": {
        "id": "MVGqZ6K3Wcl7"
      }
    },
    {
      "cell_type": "code",
      "source": [
        ""
      ],
      "metadata": {
        "id": "4t9XVzJfWdlo"
      },
      "execution_count": 53,
      "outputs": []
    },
    {
      "cell_type": "markdown",
      "source": [
        "## **Find common elements in three sorted arrays** ->"
      ],
      "metadata": {
        "id": "6F5AE60rWc2A"
      }
    },
    {
      "cell_type": "code",
      "source": [
        "def find_common(arr1 ,arr2, arr3):\n",
        "    i, j, k = 0, 0 ,0 \n",
        "    arr = []\n",
        "    while (i < len(arr1) and j < len(arr2) and k < len(arr3)):\n",
        "        if (arr1[i] == arr2[j] and arr2[j] == arr3[k]):\n",
        "            print(arr1[i])\n",
        "            i += 1\n",
        "            j += 1\n",
        "            k += 1\n",
        "            \n",
        "        elif arr1[i] < arr2[j]:\n",
        "            i += 1\n",
        "        elif arr2[j] < arr3[k]:\n",
        "            j += 1 \n",
        "        else:\n",
        "            k+= 1\n",
        "\n",
        "arr1 = [1, 5, 10, 20, 40, 80] \n",
        "arr2 = [6, 7, 20, 80, 100] \n",
        "arr3 = [3, 4, 15, 20, 30, 70, 80, 120]\n",
        "find_common(arr1, arr2, arr3)"
      ],
      "metadata": {
        "id": "O9Th4UoVUOov",
        "outputId": "9fe414a2-a007-4adc-8e0f-3d4dc4dbb689",
        "colab": {
          "base_uri": "https://localhost:8080/"
        }
      },
      "execution_count": 49,
      "outputs": [
        {
          "output_type": "stream",
          "name": "stdout",
          "text": [
            "20\n",
            "80\n"
          ]
        }
      ]
    },
    {
      "cell_type": "code",
      "source": [
        ""
      ],
      "metadata": {
        "id": "iWNrZswkYE65"
      },
      "execution_count": null,
      "outputs": []
    }
  ]
}