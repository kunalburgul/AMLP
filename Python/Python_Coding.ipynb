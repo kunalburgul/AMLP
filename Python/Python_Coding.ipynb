{
 "cells": [
  {
   "cell_type": "markdown",
   "metadata": {
    "colab_type": "text",
    "id": "view-in-github"
   },
   "source": [
    "<a href=\"https://colab.research.google.com/github/kunalburgul/Python_Coding/blob/master/Python_Coding.ipynb\" target=\"_parent\"><img src=\"https://colab.research.google.com/assets/colab-badge.svg\" alt=\"Open In Colab\"/></a>"
   ]
  },
  {
   "cell_type": "markdown",
   "metadata": {
    "colab_type": "text",
    "id": "7ElWeRcNeY63"
   },
   "source": [
    "**Problem Statement**:\n",
    "Python Program to Check where a String is Palindrome or not ? Try all the Possibilities"
   ]
  },
  {
   "cell_type": "code",
   "execution_count": 16,
   "metadata": {
    "colab": {
     "base_uri": "https://localhost:8080/",
     "height": 53
    },
    "colab_type": "code",
    "id": "-FFEv43AenFB",
    "outputId": "43a4038f-7c67-4b33-f787-8258754f52d6"
   },
   "outputs": [
    {
     "name": "stdout",
     "output_type": "stream",
     "text": [
      "Given String is palindrome\n",
      "Given String is palindrome\n"
     ]
    }
   ],
   "source": [
    "myStr = \"nitin\"\n",
    "myInt = 12321\n",
    "\n",
    "#convert entire string to either lower or upper\n",
    "myStr = myStr.lower()\n",
    "\n",
    "# Method 1 - reversing the string\n",
    "revStr1 = reversed(myStr)\n",
    "\n",
    "# Method 2 - using string slicer\n",
    "revStr2 = myStr[::-1]\n",
    "\n",
    "# Method 3 - Creating our own function\n",
    "def isPalinfrome(str):\n",
    "    for i in range(int(len(str)/2)):\n",
    "        if str[i] != str[len(str)-i-1]:\n",
    "            return False\n",
    "    return True\n",
    "\n",
    "# Method 4 - using one exact variable\n",
    "eStr = \"\"\n",
    "for i in myStr:\n",
    "    eStr = i + eStr # Finally compare myStr with eStr\n",
    "\n",
    "# Method 4 - using while loop for number \n",
    "temp = myInt\n",
    "revStr3 = 0\n",
    "while(myInt>0):\n",
    "    dig = myInt % 10\n",
    "    revStr3 = revStr3 * 10 + dig\n",
    "    myInt = myInt // 10     # finally compare the temp and revStr3\n",
    "\n",
    "#check if the string is equal to its reverse\n",
    "if list(myStr) == list(eStr):\n",
    "    print(\"Given String is palindrome\")\n",
    "else:\n",
    "    print(\"Given String is not palindrome\")\n",
    "\n",
    "# Main Function method 3\n",
    "ans = isPalinfrome(myStr)\n",
    "if (ans):\n",
    "    print(\"Given String is palindrome\")\n",
    "else:\n",
    "    print(\"Given String is not palindrome\")"
   ]
  },
  {
   "cell_type": "markdown",
   "metadata": {
    "colab_type": "text",
    "id": "Ckq_lTv__wQV"
   },
   "source": [
    "**Problem Statement**:\n",
    "You are given a sequence of characters or a string and the problem her is writing a function that take this string \"AABCDDBBBEA\" as input and finds the longest subsequence within the string consisting of a single character.Here in the given string the \"BBB\" is the longest subsequence and the return format of your function should be dictonary with character as a key and lenght as the value. \n",
    "ex: {\"BBB\":3}"
   ]
  },
  {
   "cell_type": "code",
   "execution_count": 17,
   "metadata": {
    "colab": {
     "base_uri": "https://localhost:8080/",
     "height": 53
    },
    "colab_type": "code",
    "id": "sSD12P6X_oei",
    "outputId": "b3fb9063-81df-4033-fae0-fdee99d8c0c9"
   },
   "outputs": [
    {
     "name": "stdout",
     "output_type": "stream",
     "text": [
      "Enter the string for which you would like to find the longest subsequence:ASDLADAASAASDJJFJISASSSSFDS\n",
      "{'S': 4}\n"
     ]
    }
   ],
   "source": [
    "#s = \"AABCDDBBBEA\"\n",
    "def LongSubSeq(s):\n",
    "  max_count = 0\n",
    "  max_char = \"\"\n",
    "  prev_char = \"\"\n",
    "  for current in s:\n",
    "    if current == prev_char:\n",
    "      count += 1 \n",
    "    else:\n",
    "      count = 1\n",
    "    if count > max_count:\n",
    "      max_count = count\n",
    "      max_char = current\n",
    "    prev_char = current\n",
    "  return {max_char:max_count}\n",
    "\n",
    "\n",
    "s = input(\"Enter the string for which you would like to find the longest subsequence:\")\n",
    "result = LongSubSeq(s)\n",
    "print(result)"
   ]
  },
  {
   "cell_type": "code",
   "execution_count": 17,
   "metadata": {
    "colab": {},
    "colab_type": "code",
    "id": "dYRyICEyCZc_"
   },
   "outputs": [],
   "source": []
  }
 ],
 "metadata": {
  "colab": {
   "authorship_tag": "ABX9TyOYXmG77rGP8ztXCOSH2KMr",
   "collapsed_sections": [],
   "include_colab_link": true,
   "name": "Python_Coding.ipynb",
   "provenance": []
  },
  "kernelspec": {
   "display_name": "Python 3",
   "language": "python",
   "name": "python3"
  },
  "language_info": {
   "codemirror_mode": {
    "name": "ipython",
    "version": 3
   },
   "file_extension": ".py",
   "mimetype": "text/x-python",
   "name": "python",
   "nbconvert_exporter": "python",
   "pygments_lexer": "ipython3",
   "version": "3.6.5"
  }
 },
 "nbformat": 4,
 "nbformat_minor": 1
}
