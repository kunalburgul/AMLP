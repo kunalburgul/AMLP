{
  "nbformat": 4,
  "nbformat_minor": 0,
  "metadata": {
    "kernelspec": {
      "display_name": "Python 3",
      "language": "python",
      "name": "python3"
    },
    "language_info": {
      "codemirror_mode": {
        "name": "ipython",
        "version": 3
      },
      "file_extension": ".py",
      "mimetype": "text/x-python",
      "name": "python",
      "nbconvert_exporter": "python",
      "pygments_lexer": "ipython3",
      "version": "3.8.5"
    },
    "colab": {
      "name": "01-tensor-operations.ipynb",
      "provenance": [],
      "collapsed_sections": [
        "AyysxcvLnMUs",
        "M1DL8HZJnMU4"
      ],
      "include_colab_link": true
    }
  },
  "cells": [
    {
      "cell_type": "markdown",
      "metadata": {
        "id": "view-in-github",
        "colab_type": "text"
      },
      "source": [
        "<a href=\"https://colab.research.google.com/github/kunalburgul/MLDS_Learning/blob/master/Pytorch/jovian/01_tensor_operations.ipynb\" target=\"_parent\"><img src=\"https://colab.research.google.com/assets/colab-badge.svg\" alt=\"Open In Colab\"/></a>"
      ]
    },
    {
      "cell_type": "code",
      "metadata": {
        "id": "8HXYDVLRnMUp"
      },
      "source": [
        "# Jovian Commit Essentials\n",
        "# Please retain and execute this cell without modifying the contents for `jovian.commit` to work\n",
        "!pip install jovian --upgrade -q\n",
        "import jovian\n",
        "jovian.set_project('01-tensor-operations')\n",
        "jovian.set_colab_id('1DZ3okZvnl3YITWeROTIPfQ7dP6bv33RV')"
      ],
      "execution_count": null,
      "outputs": []
    },
    {
      "cell_type": "markdown",
      "metadata": {
        "id": "Rw6YQGNunMUt"
      },
      "source": [
        "# Basic Pytorch functions\n",
        "\n",
        "An short introduction about PyTorch and about the chosen functions. \n",
        "\n",
        "- numel\n",
        "- randint\n",
        "- from_numpy\n",
        "- reshape\n",
        "- cat\n",
        "\n",
        "\n",
        "Before we begin, let's install and import PyTorch"
      ]
    },
    {
      "cell_type": "code",
      "metadata": {
        "id": "WCgerPTDnMUt"
      },
      "source": [
        "# Uncomment and run the appropriate command for your operating system, if required\n",
        "\n",
        "# Linux / Binder\n",
        "# !pip install numpy torch==1.7.0+cpu torchvision==0.8.1+cpu torchaudio==0.7.0 -f https://download.pytorch.org/whl/torch_stable.html\n",
        "\n",
        "# Windows\n",
        "# !pip install numpy torch==1.7.0+cpu torchvision==0.8.1+cpu torchaudio==0.7.0 -f https://download.pytorch.org/whl/torch_stable.html\n",
        "\n",
        "# MacOS\n",
        "# !pip install numpy torch torchvision torchaudio"
      ],
      "execution_count": null,
      "outputs": []
    },
    {
      "cell_type": "code",
      "metadata": {
        "id": "Jm7U5c9QnMUu"
      },
      "source": [
        "# Import torch and other required modules\n",
        "import torch"
      ],
      "execution_count": null,
      "outputs": []
    },
    {
      "cell_type": "markdown",
      "metadata": {
        "id": "om7RHtdSnMUu"
      },
      "source": [
        "## numel - torch.numel()\n",
        "\n",
        "This function helps us finding the out the total number of elements in the input tensor."
      ]
    },
    {
      "cell_type": "code",
      "metadata": {
        "colab": {
          "base_uri": "https://localhost:8080/"
        },
        "id": "SJ4uJIumnMUu",
        "outputId": "73915cc9-b9fa-413d-f77a-2515a817b204"
      },
      "source": [
        "# Example 1  - Generating a random tensor and calculating the noumner of elements present in the tensor\n",
        "t1 = torch.randn(1, 2)\n",
        "print(t1)\n",
        "torch.numel(t1)"
      ],
      "execution_count": null,
      "outputs": [
        {
          "output_type": "stream",
          "text": [
            "tensor([[-0.2203, -1.0077]])\n"
          ],
          "name": "stdout"
        },
        {
          "output_type": "execute_result",
          "data": {
            "text/plain": [
              "2"
            ]
          },
          "metadata": {
            "tags": []
          },
          "execution_count": 39
        }
      ]
    },
    {
      "cell_type": "markdown",
      "metadata": {
        "id": "KcAsDCHunMUv"
      },
      "source": [
        "As similar to the len() funciton in the normal python we can use the numel() funciton in pytorch to calculate the number of tensors present.\n",
        "\n",
        "Here in the above example there are have give a example of t dimensinal tensor"
      ]
    },
    {
      "cell_type": "code",
      "metadata": {
        "colab": {
          "base_uri": "https://localhost:8080/"
        },
        "id": "gfmudRVmnMUv",
        "outputId": "775060c0-a711-466d-9eb0-b64bbbf5c842"
      },
      "source": [
        "# Example 2 - working\n",
        "t2 = torch.zeros(3, 3)\n",
        "print(t2)\n",
        "torch.numel(t2)"
      ],
      "execution_count": null,
      "outputs": [
        {
          "output_type": "stream",
          "text": [
            "tensor([[0., 0., 0.],\n",
            "        [0., 0., 0.],\n",
            "        [0., 0., 0.]])\n"
          ],
          "name": "stdout"
        },
        {
          "output_type": "execute_result",
          "data": {
            "text/plain": [
              "9"
            ]
          },
          "metadata": {
            "tags": []
          },
          "execution_count": 40
        }
      ]
    },
    {
      "cell_type": "markdown",
      "metadata": {
        "id": "GYLeTVnQnMUw"
      },
      "source": [
        "Here in the above example we can see that we can calculate a number of elements in the tensor matrix created through the torch.zeros funciton similar to that."
      ]
    },
    {
      "cell_type": "code",
      "metadata": {
        "colab": {
          "base_uri": "https://localhost:8080/",
          "height": 180
        },
        "id": "zi87QC6onMUw",
        "outputId": "949398cf-b499-47c8-8611-5670227d8a85"
      },
      "source": [
        "# Example 3 - breaking (to illustrate when it breaks)\n",
        "torch.numel([1])"
      ],
      "execution_count": null,
      "outputs": [
        {
          "output_type": "error",
          "ename": "TypeError",
          "evalue": "ignored",
          "traceback": [
            "\u001b[0;31m---------------------------------------------------------------------------\u001b[0m",
            "\u001b[0;31mTypeError\u001b[0m                                 Traceback (most recent call last)",
            "\u001b[0;32m<ipython-input-41-7c35e98a4c28>\u001b[0m in \u001b[0;36m<module>\u001b[0;34m()\u001b[0m\n\u001b[1;32m      1\u001b[0m \u001b[0;31m# Example 3 - breaking (to illustrate when it breaks)\u001b[0m\u001b[0;34m\u001b[0m\u001b[0;34m\u001b[0m\u001b[0;34m\u001b[0m\u001b[0m\n\u001b[0;32m----> 2\u001b[0;31m \u001b[0mtorch\u001b[0m\u001b[0;34m.\u001b[0m\u001b[0mnumel\u001b[0m\u001b[0;34m(\u001b[0m\u001b[0;34m[\u001b[0m\u001b[0;36m1\u001b[0m\u001b[0;34m]\u001b[0m\u001b[0;34m)\u001b[0m\u001b[0;34m\u001b[0m\u001b[0;34m\u001b[0m\u001b[0m\n\u001b[0m",
            "\u001b[0;31mTypeError\u001b[0m: numel(): argument 'input' (position 1) must be Tensor, not list"
          ]
        }
      ]
    },
    {
      "cell_type": "markdown",
      "metadata": {
        "id": "5xFczd0PnMUw"
      },
      "source": [
        "Only tensors are given as input to the numel() function if we try to pass array, vector or any other value we may get the following error."
      ]
    },
    {
      "cell_type": "markdown",
      "metadata": {
        "id": "JJ1eTVpGnMUw"
      },
      "source": [
        "This fuction is very useful when we are calculating the average values."
      ]
    },
    {
      "cell_type": "markdown",
      "metadata": {
        "id": "qL6b8u46nMUx"
      },
      "source": [
        "Let's save our work using Jovian before continuing."
      ]
    },
    {
      "cell_type": "code",
      "metadata": {
        "id": "7fgxACWPnMUy"
      },
      "source": [
        "!pip install jovian --upgrade --quiet"
      ],
      "execution_count": null,
      "outputs": []
    },
    {
      "cell_type": "code",
      "metadata": {
        "id": "zM3t_EYsnMUy"
      },
      "source": [
        "import jovian"
      ],
      "execution_count": null,
      "outputs": []
    },
    {
      "cell_type": "code",
      "metadata": {
        "colab": {
          "base_uri": "https://localhost:8080/",
          "height": 103
        },
        "id": "kjgc389ynMUy",
        "outputId": "18044b56-85d7-43fc-83d9-26d99d6bc1ab"
      },
      "source": [
        "jovian.commit(project='01-tensor-operations')"
      ],
      "execution_count": null,
      "outputs": [
        {
          "output_type": "stream",
          "text": [
            "[jovian] Detected Colab notebook...\u001b[0m\n",
            "[jovian] Uploading colab notebook to Jovian...\u001b[0m\n",
            "[jovian] Capturing environment..\u001b[0m\n",
            "[jovian] Committed successfully! https://jovian.ai/kunal-burgul/01-tensor-operations\u001b[0m\n"
          ],
          "name": "stdout"
        },
        {
          "output_type": "execute_result",
          "data": {
            "application/vnd.google.colaboratory.intrinsic+json": {
              "type": "string"
            },
            "text/plain": [
              "'https://jovian.ai/kunal-burgul/01-tensor-operations'"
            ]
          },
          "metadata": {
            "tags": []
          },
          "execution_count": 44
        }
      ]
    },
    {
      "cell_type": "markdown",
      "metadata": {
        "id": "dMBUhehSnMUy"
      },
      "source": [
        "## randint - torch.randint()\n",
        "\n",
        "Randint is a function used to create a tensor filled with random integers generated uniformly between lower and upper limit."
      ]
    },
    {
      "cell_type": "code",
      "metadata": {
        "colab": {
          "base_uri": "https://localhost:8080/"
        },
        "id": "ov-XpUIWnMUy",
        "outputId": "0bb85ca2-83e6-4acb-b026-b320d3db8dd8"
      },
      "source": [
        "# Example 1 - generating random tensor\n",
        "torch.randint(3, 5, (3,))"
      ],
      "execution_count": null,
      "outputs": [
        {
          "output_type": "execute_result",
          "data": {
            "text/plain": [
              "tensor([4, 4, 4])"
            ]
          },
          "metadata": {
            "tags": []
          },
          "execution_count": 45
        }
      ]
    },
    {
      "cell_type": "markdown",
      "metadata": {
        "id": "w3Q0_VeQnMUz"
      },
      "source": [
        "We need to pass the 3 parameter for the randint function that are lower limit, upper limit and the size of the tensor we need to define."
      ]
    },
    {
      "cell_type": "code",
      "metadata": {
        "colab": {
          "base_uri": "https://localhost:8080/"
        },
        "id": "IXKMUtjhnMUz",
        "outputId": "4f2727f6-0857-4d13-a809-4432253c812e"
      },
      "source": [
        "# Example 2 - generating random rensor without specifying the 'low' parameter\n",
        "torch.randint(10, (2, 2))"
      ],
      "execution_count": null,
      "outputs": [
        {
          "output_type": "execute_result",
          "data": {
            "text/plain": [
              "tensor([[1, 5],\n",
              "        [6, 3]])"
            ]
          },
          "metadata": {
            "tags": []
          },
          "execution_count": 46
        }
      ]
    },
    {
      "cell_type": "markdown",
      "metadata": {
        "id": "BOPIFZQ0nMUz"
      },
      "source": [
        "If we do not specify the lower limit to the randint function then default value 0 is assigned to the lower limit"
      ]
    },
    {
      "cell_type": "code",
      "metadata": {
        "colab": {
          "base_uri": "https://localhost:8080/",
          "height": 180
        },
        "id": "qm1k37EKnMUz",
        "outputId": "99f403ca-dbd0-4cf6-ccf4-b880a8c6145e"
      },
      "source": [
        "# Example 3 - incorrect call\n",
        "torch.randint(10, (2))"
      ],
      "execution_count": null,
      "outputs": [
        {
          "output_type": "error",
          "ename": "TypeError",
          "evalue": "ignored",
          "traceback": [
            "\u001b[0;31m---------------------------------------------------------------------------\u001b[0m",
            "\u001b[0;31mTypeError\u001b[0m                                 Traceback (most recent call last)",
            "\u001b[0;32m<ipython-input-47-fb533ac0a2c6>\u001b[0m in \u001b[0;36m<module>\u001b[0;34m()\u001b[0m\n\u001b[1;32m      1\u001b[0m \u001b[0;31m# Example 3 - incorrect call\u001b[0m\u001b[0;34m\u001b[0m\u001b[0;34m\u001b[0m\u001b[0;34m\u001b[0m\u001b[0m\n\u001b[0;32m----> 2\u001b[0;31m \u001b[0mtorch\u001b[0m\u001b[0;34m.\u001b[0m\u001b[0mrandint\u001b[0m\u001b[0;34m(\u001b[0m\u001b[0;36m10\u001b[0m\u001b[0;34m,\u001b[0m \u001b[0;34m(\u001b[0m\u001b[0;36m2\u001b[0m\u001b[0;34m)\u001b[0m\u001b[0;34m)\u001b[0m\u001b[0;34m\u001b[0m\u001b[0;34m\u001b[0m\u001b[0m\n\u001b[0m",
            "\u001b[0;31mTypeError\u001b[0m: randint(): argument 'size' (position 2) must be tuple of ints, not int"
          ]
        }
      ]
    },
    {
      "cell_type": "markdown",
      "metadata": {
        "id": "WAA5kiLVnMUz"
      },
      "source": [
        "The size parameter of the function must be a valid Tuple. In case one dimension tensor needs to be created, the following syntax can be used (2,)."
      ]
    },
    {
      "cell_type": "markdown",
      "metadata": {
        "id": "99XHi-qQnMUz"
      },
      "source": [
        "randint is a very useful function to create a tensor with dummy values for experimentation purpose."
      ]
    },
    {
      "cell_type": "code",
      "metadata": {
        "colab": {
          "base_uri": "https://localhost:8080/",
          "height": 103
        },
        "id": "2LpSGrJ2nMUz",
        "outputId": "ea83cd62-8f9b-4cc0-dcc4-2246ced335fb"
      },
      "source": [
        "jovian.commit(project='01-tensor-operations')"
      ],
      "execution_count": null,
      "outputs": [
        {
          "output_type": "stream",
          "text": [
            "[jovian] Detected Colab notebook...\u001b[0m\n",
            "[jovian] Uploading colab notebook to Jovian...\u001b[0m\n",
            "[jovian] Capturing environment..\u001b[0m\n",
            "[jovian] Committed successfully! https://jovian.ai/kunal-burgul/01-tensor-operations\u001b[0m\n"
          ],
          "name": "stdout"
        },
        {
          "output_type": "execute_result",
          "data": {
            "application/vnd.google.colaboratory.intrinsic+json": {
              "type": "string"
            },
            "text/plain": [
              "'https://jovian.ai/kunal-burgul/01-tensor-operations'"
            ]
          },
          "metadata": {
            "tags": []
          },
          "execution_count": 48
        }
      ]
    },
    {
      "cell_type": "markdown",
      "metadata": {
        "id": "PM4Yr5ronMU0"
      },
      "source": [
        "## from_numpy - torch.from_numpy()\n",
        "\n",
        "This function is used to create a tensor form the numpy array."
      ]
    },
    {
      "cell_type": "code",
      "metadata": {
        "colab": {
          "base_uri": "https://localhost:8080/"
        },
        "id": "-IwfYQk6nMU0",
        "outputId": "7fca7fc1-77e5-4bac-e3d2-07dbc3f00f83"
      },
      "source": [
        "# Example 1 - Converting the numpy array into the tensor\n",
        "import numpy as np\n",
        "a = np.array([1, 2, 3])\n",
        "t = torch.from_numpy(a)\n",
        "t"
      ],
      "execution_count": null,
      "outputs": [
        {
          "output_type": "execute_result",
          "data": {
            "text/plain": [
              "tensor([1, 2, 3])"
            ]
          },
          "metadata": {
            "tags": []
          },
          "execution_count": 49
        }
      ]
    },
    {
      "cell_type": "markdown",
      "metadata": {
        "id": "0ktSaRNgnMU0"
      },
      "source": [
        "We have the create a numpy array using the np.array() function. Then we have converted the numpy to tensor uisng the from_numpy function."
      ]
    },
    {
      "cell_type": "code",
      "metadata": {
        "colab": {
          "base_uri": "https://localhost:8080/"
        },
        "id": "Yohjf-vrnMU0",
        "outputId": "87027a8a-dca9-4f2a-d1dc-7940ec862745"
      },
      "source": [
        "# Example 2 - Accessing the tensor values through the index and replacing them \n",
        "t[0] = -1\n",
        "t"
      ],
      "execution_count": null,
      "outputs": [
        {
          "output_type": "execute_result",
          "data": {
            "text/plain": [
              "tensor([-1,  2,  3])"
            ]
          },
          "metadata": {
            "tags": []
          },
          "execution_count": 50
        }
      ]
    },
    {
      "cell_type": "markdown",
      "metadata": {
        "id": "jmS-5ZarnMU0"
      },
      "source": [
        "We can replace the value of the tensor by going through the index positions of he tensor."
      ]
    },
    {
      "cell_type": "code",
      "metadata": {
        "colab": {
          "base_uri": "https://localhost:8080/",
          "height": 231
        },
        "id": "K9yIXSUAnMU0",
        "outputId": "f9ab79b3-4176-4636-80a8-47c9ce1daf70"
      },
      "source": [
        "# Example 3 - We cannot pass a multi-data array to create a tensor\n",
        "c = np.array([1,2.,'c'])\n",
        "print(c)\n",
        "torch.from_numpy(c)"
      ],
      "execution_count": null,
      "outputs": [
        {
          "output_type": "stream",
          "text": [
            "['1' '2.0' 'c']\n"
          ],
          "name": "stdout"
        },
        {
          "output_type": "error",
          "ename": "TypeError",
          "evalue": "ignored",
          "traceback": [
            "\u001b[0;31m---------------------------------------------------------------------------\u001b[0m",
            "\u001b[0;31mTypeError\u001b[0m                                 Traceback (most recent call last)",
            "\u001b[0;32m<ipython-input-51-cbff8aa599be>\u001b[0m in \u001b[0;36m<module>\u001b[0;34m()\u001b[0m\n\u001b[1;32m      2\u001b[0m \u001b[0mc\u001b[0m \u001b[0;34m=\u001b[0m \u001b[0mnp\u001b[0m\u001b[0;34m.\u001b[0m\u001b[0marray\u001b[0m\u001b[0;34m(\u001b[0m\u001b[0;34m[\u001b[0m\u001b[0;36m1\u001b[0m\u001b[0;34m,\u001b[0m\u001b[0;36m2.\u001b[0m\u001b[0;34m,\u001b[0m\u001b[0;34m'c'\u001b[0m\u001b[0;34m]\u001b[0m\u001b[0;34m)\u001b[0m\u001b[0;34m\u001b[0m\u001b[0;34m\u001b[0m\u001b[0m\n\u001b[1;32m      3\u001b[0m \u001b[0mprint\u001b[0m\u001b[0;34m(\u001b[0m\u001b[0mc\u001b[0m\u001b[0;34m)\u001b[0m\u001b[0;34m\u001b[0m\u001b[0;34m\u001b[0m\u001b[0m\n\u001b[0;32m----> 4\u001b[0;31m \u001b[0mtorch\u001b[0m\u001b[0;34m.\u001b[0m\u001b[0mfrom_numpy\u001b[0m\u001b[0;34m(\u001b[0m\u001b[0mc\u001b[0m\u001b[0;34m)\u001b[0m\u001b[0;34m\u001b[0m\u001b[0;34m\u001b[0m\u001b[0m\n\u001b[0m",
            "\u001b[0;31mTypeError\u001b[0m: can't convert np.ndarray of type numpy.str_. The only supported types are: float64, float32, float16, complex64, complex128, int64, int32, int16, int8, uint8, and bool."
          ]
        }
      ]
    },
    {
      "cell_type": "markdown",
      "metadata": {
        "id": "gfR4kaiMnMU1"
      },
      "source": [
        "When we included a string in the numpy array and tried to convert it to torch tensors, we got an error. So, when converting the numpy array to tensors we need to nake sure that the data type of elements in the numpy array is integer, float or boolean."
      ]
    },
    {
      "cell_type": "markdown",
      "metadata": {
        "id": "d9UVR9M9nMU1"
      },
      "source": [
        "Closing comments about when to use this function"
      ]
    },
    {
      "cell_type": "code",
      "metadata": {
        "colab": {
          "base_uri": "https://localhost:8080/",
          "height": 103
        },
        "id": "rkfIfBP1nMU1",
        "outputId": "af255193-59e8-414b-fce7-d4ccbcfbbe81"
      },
      "source": [
        "jovian.commit(project='01-tensor-operations')"
      ],
      "execution_count": null,
      "outputs": [
        {
          "output_type": "stream",
          "text": [
            "[jovian] Detected Colab notebook...\u001b[0m\n",
            "[jovian] Uploading colab notebook to Jovian...\u001b[0m\n",
            "[jovian] Capturing environment..\u001b[0m\n",
            "[jovian] Committed successfully! https://jovian.ai/kunal-burgul/01-tensor-operations\u001b[0m\n"
          ],
          "name": "stdout"
        },
        {
          "output_type": "execute_result",
          "data": {
            "application/vnd.google.colaboratory.intrinsic+json": {
              "type": "string"
            },
            "text/plain": [
              "'https://jovian.ai/kunal-burgul/01-tensor-operations'"
            ]
          },
          "metadata": {
            "tags": []
          },
          "execution_count": 52
        }
      ]
    },
    {
      "cell_type": "markdown",
      "metadata": {
        "id": "-J3LAq9onMU1"
      },
      "source": [
        "## reshape - torch.reshape()\n",
        "\n",
        "Returns a tensor with the same data and number of elements as input, but with the specified shape. "
      ]
    },
    {
      "cell_type": "code",
      "metadata": {
        "colab": {
          "base_uri": "https://localhost:8080/"
        },
        "id": "w8_woin0nMU1",
        "outputId": "7d0d634b-c044-4760-b7bb-99609422b8ec"
      },
      "source": [
        "# Example 1 - Using the reshape function to convert the vector into a matrix\n",
        "a = torch.arange(4.)\n",
        "print(a)\n",
        "torch.reshape(a, (2, 2))"
      ],
      "execution_count": null,
      "outputs": [
        {
          "output_type": "stream",
          "text": [
            "tensor([0., 1., 2., 3.])\n"
          ],
          "name": "stdout"
        },
        {
          "output_type": "execute_result",
          "data": {
            "text/plain": [
              "tensor([[0., 1.],\n",
              "        [2., 3.]])"
            ]
          },
          "metadata": {
            "tags": []
          },
          "execution_count": 53
        }
      ]
    },
    {
      "cell_type": "markdown",
      "metadata": {
        "id": "Qo3QBGdinMU1"
      },
      "source": [
        "In the above example we have created a vector using the arange function and then converted it into a matrix using a torch.reshape function."
      ]
    },
    {
      "cell_type": "code",
      "metadata": {
        "id": "NdsbhmAjnMU2"
      },
      "source": [
        "# Example 2 - Using the reshape function to convert the matrix to vector \n",
        "b = torch.tensor([[0, 1], [2, 3]])\n",
        "t1 = torch.reshape(b, (-1,))"
      ],
      "execution_count": null,
      "outputs": []
    },
    {
      "cell_type": "markdown",
      "metadata": {
        "id": "CJPWKc08nMU2"
      },
      "source": [
        "As similar to the previous example we can use the reshape function in a reverse from to convert matrix to a vector format."
      ]
    },
    {
      "cell_type": "code",
      "metadata": {
        "colab": {
          "base_uri": "https://localhost:8080/",
          "height": 180
        },
        "id": "fi7Hh0a0nMU2",
        "outputId": "50583332-8e02-465f-d55c-e89f9483cd17"
      },
      "source": [
        "# Example 3 - breaking (to illustrate when it breaks)\n",
        "torch.reshape(t1,(2,7))"
      ],
      "execution_count": null,
      "outputs": [
        {
          "output_type": "error",
          "ename": "RuntimeError",
          "evalue": "ignored",
          "traceback": [
            "\u001b[0;31m---------------------------------------------------------------------------\u001b[0m",
            "\u001b[0;31mRuntimeError\u001b[0m                              Traceback (most recent call last)",
            "\u001b[0;32m<ipython-input-55-93697572f3fd>\u001b[0m in \u001b[0;36m<module>\u001b[0;34m()\u001b[0m\n\u001b[1;32m      1\u001b[0m \u001b[0;31m# Example 3 - breaking (to illustrate when it breaks)\u001b[0m\u001b[0;34m\u001b[0m\u001b[0;34m\u001b[0m\u001b[0;34m\u001b[0m\u001b[0m\n\u001b[0;32m----> 2\u001b[0;31m \u001b[0mtorch\u001b[0m\u001b[0;34m.\u001b[0m\u001b[0mreshape\u001b[0m\u001b[0;34m(\u001b[0m\u001b[0mt1\u001b[0m\u001b[0;34m,\u001b[0m\u001b[0;34m(\u001b[0m\u001b[0;36m2\u001b[0m\u001b[0;34m,\u001b[0m\u001b[0;36m7\u001b[0m\u001b[0;34m)\u001b[0m\u001b[0;34m)\u001b[0m\u001b[0;34m\u001b[0m\u001b[0;34m\u001b[0m\u001b[0m\n\u001b[0m",
            "\u001b[0;31mRuntimeError\u001b[0m: shape '[2, 7]' is invalid for input of size 4"
          ]
        }
      ]
    },
    {
      "cell_type": "markdown",
      "metadata": {
        "id": "CdGh0r4snMU2"
      },
      "source": [
        "Though we can reshape tensors using torch.reshape(), we must be careful when declaring the size. In the example above, the tensor having size 2x2 can be reshaped into either 1x4 or 4x1 from the original shape. Therefore, we cannot declare some arbitrary shape for the resulting tensor such as 2x7."
      ]
    },
    {
      "cell_type": "markdown",
      "metadata": {
        "id": "T-l3y8TknMU2"
      },
      "source": [
        "`torch.reshape()` helps us transform tensors into the desired shape for any calculations. However, care must be taken when declaring the desired shape for the resulting tensor."
      ]
    },
    {
      "cell_type": "code",
      "metadata": {
        "colab": {
          "base_uri": "https://localhost:8080/",
          "height": 103
        },
        "id": "muxwukl2nMU2",
        "outputId": "c808d1eb-0c7c-48d7-fe3c-25eda87ad06b"
      },
      "source": [
        "jovian.commit(project='01-tensor-operations')"
      ],
      "execution_count": null,
      "outputs": [
        {
          "output_type": "stream",
          "text": [
            "[jovian] Detected Colab notebook...\u001b[0m\n",
            "[jovian] Uploading colab notebook to Jovian...\u001b[0m\n",
            "[jovian] Capturing environment..\u001b[0m\n",
            "[jovian] Committed successfully! https://jovian.ai/kunal-burgul/01-tensor-operations\u001b[0m\n"
          ],
          "name": "stdout"
        },
        {
          "output_type": "execute_result",
          "data": {
            "application/vnd.google.colaboratory.intrinsic+json": {
              "type": "string"
            },
            "text/plain": [
              "'https://jovian.ai/kunal-burgul/01-tensor-operations'"
            ]
          },
          "metadata": {
            "tags": []
          },
          "execution_count": 56
        }
      ]
    },
    {
      "cell_type": "markdown",
      "metadata": {
        "id": "EH1_9qo1nMU3"
      },
      "source": [
        "## car - torch.cat()\n",
        "\n",
        "Concatenates the given sequence of seq tensors in the given dimension. All tensors must either have the same shape (except in the concatenating dimension) or be empty."
      ]
    },
    {
      "cell_type": "code",
      "metadata": {
        "id": "9MTqd4QpnMU3",
        "colab": {
          "base_uri": "https://localhost:8080/"
        },
        "outputId": "a70925e3-d32f-428d-c195-3babed386174"
      },
      "source": [
        "# Example 1 - merging tensors vertically\n",
        "x = torch.randn(2, 3)\n",
        "x\n",
        "torch.cat((x, x, x), 0)"
      ],
      "execution_count": null,
      "outputs": [
        {
          "output_type": "execute_result",
          "data": {
            "text/plain": [
              "tensor([[-1.1793,  0.5625,  1.3894],\n",
              "        [-1.7932, -0.0560,  1.4345],\n",
              "        [-1.1793,  0.5625,  1.3894],\n",
              "        [-1.7932, -0.0560,  1.4345],\n",
              "        [-1.1793,  0.5625,  1.3894],\n",
              "        [-1.7932, -0.0560,  1.4345]])"
            ]
          },
          "metadata": {
            "tags": []
          },
          "execution_count": 57
        }
      ]
    },
    {
      "cell_type": "markdown",
      "metadata": {
        "id": "-1y2j4DvnMU3"
      },
      "source": [
        "In the above example we pass the value 0 as dimension of the so merge vertically"
      ]
    },
    {
      "cell_type": "code",
      "metadata": {
        "id": "ViOECfMunMU3",
        "colab": {
          "base_uri": "https://localhost:8080/"
        },
        "outputId": "27dab94f-a484-459e-b655-108362e744ac"
      },
      "source": [
        "# Example 2 - merging tensors horizontally\n",
        "torch.cat((x, x, x), 1)"
      ],
      "execution_count": null,
      "outputs": [
        {
          "output_type": "execute_result",
          "data": {
            "text/plain": [
              "tensor([[-1.1793,  0.5625,  1.3894, -1.1793,  0.5625,  1.3894, -1.1793,  0.5625,\n",
              "          1.3894],\n",
              "        [-1.7932, -0.0560,  1.4345, -1.7932, -0.0560,  1.4345, -1.7932, -0.0560,\n",
              "          1.4345]])"
            ]
          },
          "metadata": {
            "tags": []
          },
          "execution_count": 58
        }
      ]
    },
    {
      "cell_type": "markdown",
      "metadata": {
        "id": "8YEMi2CsnMU3"
      },
      "source": [
        "Similar to the previous example the dimension value 1 is used for merging horizontally."
      ]
    },
    {
      "cell_type": "code",
      "metadata": {
        "id": "8VFguZFfnMU4",
        "colab": {
          "base_uri": "https://localhost:8080/",
          "height": 180
        },
        "outputId": "fe35a1f6-d5b2-46c5-c662-864122a69bac"
      },
      "source": [
        "# Example 3 - \n",
        "torch.cat(([1, 2, 3], x), 1)"
      ],
      "execution_count": null,
      "outputs": [
        {
          "output_type": "error",
          "ename": "TypeError",
          "evalue": "ignored",
          "traceback": [
            "\u001b[0;31m---------------------------------------------------------------------------\u001b[0m",
            "\u001b[0;31mTypeError\u001b[0m                                 Traceback (most recent call last)",
            "\u001b[0;32m<ipython-input-59-9c011eabd31d>\u001b[0m in \u001b[0;36m<module>\u001b[0;34m()\u001b[0m\n\u001b[1;32m      1\u001b[0m \u001b[0;31m# Example 3 -\u001b[0m\u001b[0;34m\u001b[0m\u001b[0;34m\u001b[0m\u001b[0;34m\u001b[0m\u001b[0m\n\u001b[0;32m----> 2\u001b[0;31m \u001b[0mtorch\u001b[0m\u001b[0;34m.\u001b[0m\u001b[0mcat\u001b[0m\u001b[0;34m(\u001b[0m\u001b[0;34m(\u001b[0m\u001b[0;34m[\u001b[0m\u001b[0;36m1\u001b[0m\u001b[0;34m,\u001b[0m \u001b[0;36m2\u001b[0m\u001b[0;34m,\u001b[0m \u001b[0;36m3\u001b[0m\u001b[0;34m]\u001b[0m\u001b[0;34m,\u001b[0m \u001b[0mx\u001b[0m\u001b[0;34m)\u001b[0m\u001b[0;34m,\u001b[0m \u001b[0;36m1\u001b[0m\u001b[0;34m)\u001b[0m\u001b[0;34m\u001b[0m\u001b[0;34m\u001b[0m\u001b[0m\n\u001b[0m",
            "\u001b[0;31mTypeError\u001b[0m: expected Tensor as element 0 in argument 0, but got list"
          ]
        }
      ]
    },
    {
      "cell_type": "markdown",
      "metadata": {
        "id": "w4ZNEUBHnMU4"
      },
      "source": [
        "Merging only happens between and list-of-tensors --> list-of-tensors and not betweem normal-values --> list-of-tensors vice-versa."
      ]
    },
    {
      "cell_type": "markdown",
      "metadata": {
        "id": "PLZ0ABDunMU4"
      },
      "source": [
        "Closing comments about when to use this function"
      ]
    },
    {
      "cell_type": "code",
      "metadata": {
        "id": "oMH9IOSMnMU4",
        "colab": {
          "base_uri": "https://localhost:8080/",
          "height": 103
        },
        "outputId": "3d8091ae-eb81-4155-b8f4-937f698dd4dd"
      },
      "source": [
        "jovian.commit(project='01-tensor-operations')"
      ],
      "execution_count": null,
      "outputs": [
        {
          "output_type": "stream",
          "text": [
            "[jovian] Detected Colab notebook...\u001b[0m\n",
            "[jovian] Uploading colab notebook to Jovian...\u001b[0m\n",
            "[jovian] Capturing environment..\u001b[0m\n",
            "[jovian] Committed successfully! https://jovian.ai/kunal-burgul/01-tensor-operations\u001b[0m\n"
          ],
          "name": "stdout"
        },
        {
          "output_type": "execute_result",
          "data": {
            "application/vnd.google.colaboratory.intrinsic+json": {
              "type": "string"
            },
            "text/plain": [
              "'https://jovian.ai/kunal-burgul/01-tensor-operations'"
            ]
          },
          "metadata": {
            "tags": []
          },
          "execution_count": 60
        }
      ]
    },
    {
      "cell_type": "markdown",
      "metadata": {
        "id": "M1DL8HZJnMU4"
      },
      "source": [
        "## Conclusion\n",
        "\n",
        "The notebook can be summarised as follows -\n",
        "\n",
        "|Name|Returns|Parameters|Caution|\n",
        "|:---:|:---:|:---:|:---:|\n",
        "|torch.numel()|number of elements present in the tensor| comlplete tensor value need to be passed|only tensors should be passed|\n",
        "|torch.randint()|tensor with a random number of int elements|size of input with lower and upper limit|proper tuple value should be passed if lower limit is not mentioned|\n",
        "|torch.from_numpy()|tensor containing elements form the numpy array|input a normal or a numpy array|multi-data array can't be passed|\n",
        "|torch.reshape()|Tensor with desired shape|Input Tensor and Desired shape|Clear definition of shape|\n",
        "|torch.cat()|Concatenated tensor based on user defined sequence|dim-Dimension for concatenation|list-of-tensors and a single tensor dosen't merges|"
      ]
    },
    {
      "cell_type": "markdown",
      "metadata": {
        "id": "Eq5M7rVRnMU4"
      },
      "source": [
        "## Reference Links\n",
        "Provide links to your references and other interesting articles about tensors\n",
        "* Official documentation for tensor operations: https://pytorch.org/docs/stable/torch.html\n",
        "* PyTorch Wikipedia : https://en.wikipedia.org/wiki/PyTorch"
      ]
    },
    {
      "cell_type": "code",
      "metadata": {
        "id": "thdeEwq_nMU5",
        "colab": {
          "base_uri": "https://localhost:8080/",
          "height": 103
        },
        "outputId": "6f02c82e-b0c0-4e92-9fe3-72c9a648d2c5"
      },
      "source": [
        "jovian.commit(project='01-tensor-operations')"
      ],
      "execution_count": null,
      "outputs": [
        {
          "output_type": "stream",
          "text": [
            "[jovian] Detected Colab notebook...\u001b[0m\n",
            "[jovian] Uploading colab notebook to Jovian...\u001b[0m\n",
            "[jovian] Capturing environment..\u001b[0m\n",
            "[jovian] Committed successfully! https://jovian.ai/kunal-burgul/01-tensor-operations\u001b[0m\n"
          ],
          "name": "stdout"
        },
        {
          "output_type": "execute_result",
          "data": {
            "application/vnd.google.colaboratory.intrinsic+json": {
              "type": "string"
            },
            "text/plain": [
              "'https://jovian.ai/kunal-burgul/01-tensor-operations'"
            ]
          },
          "metadata": {
            "tags": []
          },
          "execution_count": 61
        }
      ]
    },
    {
      "cell_type": "code",
      "metadata": {
        "id": "8nb2d4tEnMU5"
      },
      "source": [
        ""
      ],
      "execution_count": null,
      "outputs": []
    }
  ]
}