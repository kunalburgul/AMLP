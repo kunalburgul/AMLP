{
  "nbformat": 4,
  "nbformat_minor": 0,
  "metadata": {
    "accelerator": "GPU",
    "colab": {
      "name": "02-insurance-linear.ipynb",
      "provenance": [],
      "collapsed_sections": [],
      "include_colab_link": true
    },
    "kernelspec": {
      "display_name": "Python 3",
      "language": "python",
      "name": "python3"
    },
    "language_info": {
      "codemirror_mode": {
        "name": "ipython",
        "version": 3
      },
      "file_extension": ".py",
      "mimetype": "text/x-python",
      "name": "python",
      "nbconvert_exporter": "python",
      "pygments_lexer": "ipython3",
      "version": "3.8.5"
    }
  },
  "cells": [
    {
      "cell_type": "markdown",
      "metadata": {
        "id": "view-in-github",
        "colab_type": "text"
      },
      "source": [
        "<a href=\"https://colab.research.google.com/github/kunalburgul/MLDS_Learning/blob/master/Pytorch/02_insurance_linear.ipynb\" target=\"_parent\"><img src=\"https://colab.research.google.com/assets/colab-badge.svg\" alt=\"Open In Colab\"/></a>"
      ]
    },
    {
      "cell_type": "code",
      "metadata": {
        "id": "P2AVbABoQHbP"
      },
      "source": [
        "# Jovian Commit Essentials\n",
        "# Please retain and execute this cell without modifying the contents for `jovian.commit` to work\n",
        "!pip install jovian --upgrade -q\n",
        "import jovian\n",
        "jovian.set_project('02-insurance-linear-regression')\n",
        "jovian.set_colab_id('19LYxrjNCGHDie0D-qmHhtG8ixhHIv7em')"
      ],
      "execution_count": null,
      "outputs": []
    },
    {
      "cell_type": "markdown",
      "metadata": {
        "id": "As8_OPfGQHbT"
      },
      "source": [
        "# Insurance cost prediction using linear regression\n",
        "\n",
        "Make a submisson here: https://jovian.ai/learn/deep-learning-with-pytorch-zero-to-gans/assignment/assignment-2-train-your-first-model\n",
        "\n",
        "In this assignment we're going to use information like a person's age, sex, BMI, no. of children and smoking habit to predict the price of yearly medical bills. This kind of model is useful for insurance companies to determine the yearly insurance premium for a person. The dataset for this problem is taken from [Kaggle](https://www.kaggle.com/mirichoi0218/insurance).\n",
        "\n",
        "\n",
        "We will create a model with the following steps:\n",
        "1. Download and explore the dataset\n",
        "2. Prepare the dataset for training\n",
        "3. Create a linear regression model\n",
        "4. Train the model to fit the data\n",
        "5. Make predictions using the trained model\n",
        "\n",
        "\n",
        "This assignment builds upon the concepts from the first 2 lessons. It will help to review these Jupyter notebooks:\n",
        "- PyTorch basics: https://jovian.ai/aakashns/01-pytorch-basics\n",
        "- Linear Regression: https://jovian.ai/aakashns/02-linear-regression\n",
        "- Logistic Regression: https://jovian.ai/aakashns/03-logistic-regression\n",
        "- Linear regression (minimal): https://jovian.ai/aakashns/housing-linear-minimal\n",
        "- Logistic regression (minimal): https://jovian.ai/aakashns/mnist-logistic-minimal\n",
        "\n",
        "As you go through this notebook, you will find a **???** in certain places. Your job is to replace the **???** with appropriate code or values, to ensure that the notebook runs properly end-to-end . In some cases, you'll be required to choose some hyperparameters (learning rate, batch size etc.). Try to experiment with the hypeparameters to get the lowest loss.\n"
      ]
    },
    {
      "cell_type": "code",
      "metadata": {
        "id": "T7DgSRPDQHbV"
      },
      "source": [
        "# Uncomment and run the appropriate command for your operating system, if required\n",
        "\n",
        "# Linux / Binder\n",
        "# !pip install numpy matplotlib pandas torch==1.7.0+cpu torchvision==0.8.1+cpu torchaudio==0.7.0 -f https://download.pytorch.org/whl/torch_stable.html\n",
        "\n",
        "# Windows\n",
        "# !pip install numpy matplotlib pandas torch==1.7.0+cpu torchvision==0.8.1+cpu torchaudio==0.7.0 -f https://download.pytorch.org/whl/torch_stable.html\n",
        "\n",
        "# MacOS\n",
        "# !pip install numpy matplotlib pandas torch torchvision torchaudio"
      ],
      "execution_count": null,
      "outputs": []
    },
    {
      "cell_type": "code",
      "metadata": {
        "id": "ZsT9uQk3QHbW"
      },
      "source": [
        "import torch\n",
        "import jovian\n",
        "import torchvision\n",
        "import torch.nn as nn\n",
        "import pandas as pd\n",
        "import numpy as np\n",
        "import seaborn as sns\n",
        "import matplotlib.pyplot as plt\n",
        "import torch.nn.functional as F\n",
        "from torchvision.datasets.utils import download_url\n",
        "from torch.utils.data import DataLoader, TensorDataset, random_split"
      ],
      "execution_count": null,
      "outputs": []
    },
    {
      "cell_type": "code",
      "metadata": {
        "id": "wuUnBkMFQHbX"
      },
      "source": [
        "project_name='02-insurance-linear-regression' # will be used by jovian.commit"
      ],
      "execution_count": null,
      "outputs": []
    },
    {
      "cell_type": "markdown",
      "metadata": {
        "id": "wS0af-GAQHbX"
      },
      "source": [
        "## Step 1: Download and explore the data\n",
        "\n",
        "Let us begin by downloading the data. We'll use the `download_url` function from PyTorch to get the data as a CSV (comma-separated values) file. "
      ]
    },
    {
      "cell_type": "code",
      "metadata": {
        "colab": {
          "base_uri": "https://localhost:8080/"
        },
        "id": "zMadbOJXQHbX",
        "outputId": "9ec577b5-2ae7-440f-9227-ea5cae60c888"
      },
      "source": [
        "DATASET_URL = \"https://hub.jovian.ml/wp-content/uploads/2020/05/insurance.csv\"\n",
        "DATA_FILENAME = \"insurance.csv\"\n",
        "download_url(DATASET_URL, '.')"
      ],
      "execution_count": null,
      "outputs": [
        {
          "output_type": "stream",
          "text": [
            "Using downloaded and verified file: ./insurance.csv\n"
          ],
          "name": "stdout"
        }
      ]
    },
    {
      "cell_type": "markdown",
      "metadata": {
        "id": "xjcFzwPrQHbZ"
      },
      "source": [
        "To load the dataset into memory, we'll use the `read_csv` function from the `pandas` library. The data will be loaded as a Pandas dataframe. See this short tutorial to learn more: https://data36.com/pandas-tutorial-1-basics-reading-data-files-dataframes-data-selection/"
      ]
    },
    {
      "cell_type": "code",
      "metadata": {
        "colab": {
          "base_uri": "https://localhost:8080/",
          "height": 204
        },
        "id": "vRoydRwqQHbZ",
        "outputId": "943260d5-3222-4141-f1cf-4c030db958e4"
      },
      "source": [
        "dataframe_raw = pd.read_csv(DATA_FILENAME)\n",
        "dataframe_raw.head()"
      ],
      "execution_count": null,
      "outputs": [
        {
          "output_type": "execute_result",
          "data": {
            "text/html": [
              "<div>\n",
              "<style scoped>\n",
              "    .dataframe tbody tr th:only-of-type {\n",
              "        vertical-align: middle;\n",
              "    }\n",
              "\n",
              "    .dataframe tbody tr th {\n",
              "        vertical-align: top;\n",
              "    }\n",
              "\n",
              "    .dataframe thead th {\n",
              "        text-align: right;\n",
              "    }\n",
              "</style>\n",
              "<table border=\"1\" class=\"dataframe\">\n",
              "  <thead>\n",
              "    <tr style=\"text-align: right;\">\n",
              "      <th></th>\n",
              "      <th>age</th>\n",
              "      <th>sex</th>\n",
              "      <th>bmi</th>\n",
              "      <th>children</th>\n",
              "      <th>smoker</th>\n",
              "      <th>region</th>\n",
              "      <th>charges</th>\n",
              "    </tr>\n",
              "  </thead>\n",
              "  <tbody>\n",
              "    <tr>\n",
              "      <th>0</th>\n",
              "      <td>19</td>\n",
              "      <td>female</td>\n",
              "      <td>27.900</td>\n",
              "      <td>0</td>\n",
              "      <td>yes</td>\n",
              "      <td>southwest</td>\n",
              "      <td>16884.92400</td>\n",
              "    </tr>\n",
              "    <tr>\n",
              "      <th>1</th>\n",
              "      <td>18</td>\n",
              "      <td>male</td>\n",
              "      <td>33.770</td>\n",
              "      <td>1</td>\n",
              "      <td>no</td>\n",
              "      <td>southeast</td>\n",
              "      <td>1725.55230</td>\n",
              "    </tr>\n",
              "    <tr>\n",
              "      <th>2</th>\n",
              "      <td>28</td>\n",
              "      <td>male</td>\n",
              "      <td>33.000</td>\n",
              "      <td>3</td>\n",
              "      <td>no</td>\n",
              "      <td>southeast</td>\n",
              "      <td>4449.46200</td>\n",
              "    </tr>\n",
              "    <tr>\n",
              "      <th>3</th>\n",
              "      <td>33</td>\n",
              "      <td>male</td>\n",
              "      <td>22.705</td>\n",
              "      <td>0</td>\n",
              "      <td>no</td>\n",
              "      <td>northwest</td>\n",
              "      <td>21984.47061</td>\n",
              "    </tr>\n",
              "    <tr>\n",
              "      <th>4</th>\n",
              "      <td>32</td>\n",
              "      <td>male</td>\n",
              "      <td>28.880</td>\n",
              "      <td>0</td>\n",
              "      <td>no</td>\n",
              "      <td>northwest</td>\n",
              "      <td>3866.85520</td>\n",
              "    </tr>\n",
              "  </tbody>\n",
              "</table>\n",
              "</div>"
            ],
            "text/plain": [
              "   age     sex     bmi  children smoker     region      charges\n",
              "0   19  female  27.900         0    yes  southwest  16884.92400\n",
              "1   18    male  33.770         1     no  southeast   1725.55230\n",
              "2   28    male  33.000         3     no  southeast   4449.46200\n",
              "3   33    male  22.705         0     no  northwest  21984.47061\n",
              "4   32    male  28.880         0     no  northwest   3866.85520"
            ]
          },
          "metadata": {
            "tags": []
          },
          "execution_count": 6
        }
      ]
    },
    {
      "cell_type": "markdown",
      "metadata": {
        "id": "F1piECCHQHba"
      },
      "source": [
        "We're going to do a slight customization of the data, so that you every participant receives a slightly different version of the dataset. Fill in your name below as a string (enter at least 5 characters)"
      ]
    },
    {
      "cell_type": "code",
      "metadata": {
        "id": "VsVGmhCvQHba"
      },
      "source": [
        "your_name = 'Tracer' # at least 5 characters"
      ],
      "execution_count": null,
      "outputs": []
    },
    {
      "cell_type": "markdown",
      "metadata": {
        "id": "gBh5EAzTQHbb"
      },
      "source": [
        "The `customize_dataset` function will customize the dataset slightly using your name as a source of random numbers."
      ]
    },
    {
      "cell_type": "code",
      "metadata": {
        "id": "rK8Xy4L2QHbb"
      },
      "source": [
        "def customize_dataset(dataframe_raw, rand_str):\n",
        "    dataframe = dataframe_raw.copy(deep=True)\n",
        "    # drop some rows\n",
        "    dataframe = dataframe.sample(int(0.95*len(dataframe)), random_state=int(ord(rand_str[0])))\n",
        "    # scale input\n",
        "    dataframe.bmi = dataframe.bmi * ord(rand_str[1])/100.\n",
        "    # scale target\n",
        "    dataframe.charges = dataframe.charges * ord(rand_str[2])/100.\n",
        "    # drop column\n",
        "    if ord(rand_str[3]) % 2 == 1:\n",
        "        dataframe = dataframe.drop(['region'], axis=1)\n",
        "    return dataframe"
      ],
      "execution_count": null,
      "outputs": []
    },
    {
      "cell_type": "code",
      "metadata": {
        "colab": {
          "base_uri": "https://localhost:8080/",
          "height": 204
        },
        "id": "3KCdImbvQHbc",
        "outputId": "aebe3cd2-d0c7-4285-aa20-38d02de44eb6"
      },
      "source": [
        "dataframe = customize_dataset(dataframe_raw, your_name)\n",
        "dataframe.head()"
      ],
      "execution_count": null,
      "outputs": [
        {
          "output_type": "execute_result",
          "data": {
            "text/html": [
              "<div>\n",
              "<style scoped>\n",
              "    .dataframe tbody tr th:only-of-type {\n",
              "        vertical-align: middle;\n",
              "    }\n",
              "\n",
              "    .dataframe tbody tr th {\n",
              "        vertical-align: top;\n",
              "    }\n",
              "\n",
              "    .dataframe thead th {\n",
              "        text-align: right;\n",
              "    }\n",
              "</style>\n",
              "<table border=\"1\" class=\"dataframe\">\n",
              "  <thead>\n",
              "    <tr style=\"text-align: right;\">\n",
              "      <th></th>\n",
              "      <th>age</th>\n",
              "      <th>sex</th>\n",
              "      <th>bmi</th>\n",
              "      <th>children</th>\n",
              "      <th>smoker</th>\n",
              "      <th>charges</th>\n",
              "    </tr>\n",
              "  </thead>\n",
              "  <tbody>\n",
              "    <tr>\n",
              "      <th>647</th>\n",
              "      <td>40</td>\n",
              "      <td>female</td>\n",
              "      <td>26.6418</td>\n",
              "      <td>3</td>\n",
              "      <td>no</td>\n",
              "      <td>8004.715771</td>\n",
              "    </tr>\n",
              "    <tr>\n",
              "      <th>1272</th>\n",
              "      <td>43</td>\n",
              "      <td>male</td>\n",
              "      <td>29.0928</td>\n",
              "      <td>5</td>\n",
              "      <td>no</td>\n",
              "      <td>14043.980245</td>\n",
              "    </tr>\n",
              "    <tr>\n",
              "      <th>880</th>\n",
              "      <td>22</td>\n",
              "      <td>male</td>\n",
              "      <td>39.6720</td>\n",
              "      <td>3</td>\n",
              "      <td>no</td>\n",
              "      <td>3339.772080</td>\n",
              "    </tr>\n",
              "    <tr>\n",
              "      <th>957</th>\n",
              "      <td>24</td>\n",
              "      <td>male</td>\n",
              "      <td>30.5406</td>\n",
              "      <td>1</td>\n",
              "      <td>no</td>\n",
              "      <td>12231.590409</td>\n",
              "    </tr>\n",
              "    <tr>\n",
              "      <th>1209</th>\n",
              "      <td>59</td>\n",
              "      <td>male</td>\n",
              "      <td>42.2940</td>\n",
              "      <td>1</td>\n",
              "      <td>no</td>\n",
              "      <td>11976.756840</td>\n",
              "    </tr>\n",
              "  </tbody>\n",
              "</table>\n",
              "</div>"
            ],
            "text/plain": [
              "      age     sex      bmi  children smoker       charges\n",
              "647    40  female  26.6418         3     no   8004.715771\n",
              "1272   43    male  29.0928         5     no  14043.980245\n",
              "880    22    male  39.6720         3     no   3339.772080\n",
              "957    24    male  30.5406         1     no  12231.590409\n",
              "1209   59    male  42.2940         1     no  11976.756840"
            ]
          },
          "metadata": {
            "tags": []
          },
          "execution_count": 9
        }
      ]
    },
    {
      "cell_type": "markdown",
      "metadata": {
        "id": "Oow_QzmDQHbc"
      },
      "source": [
        "Let us answer some basic questions about the dataset. \n",
        "\n",
        "\n",
        "**Q: How many rows does the dataset have?**"
      ]
    },
    {
      "cell_type": "code",
      "metadata": {
        "colab": {
          "base_uri": "https://localhost:8080/"
        },
        "id": "YRlucD2NQHbd",
        "outputId": "a42bc28d-f618-4f16-d2d9-f0c9913c60af"
      },
      "source": [
        "num_rows = dataframe.shape[0]\n",
        "print(num_rows)"
      ],
      "execution_count": null,
      "outputs": [
        {
          "output_type": "stream",
          "text": [
            "1271\n"
          ],
          "name": "stdout"
        }
      ]
    },
    {
      "cell_type": "markdown",
      "metadata": {
        "id": "Bu3fa3vfQHbd"
      },
      "source": [
        "**Q: How many columns doe the dataset have**"
      ]
    },
    {
      "cell_type": "code",
      "metadata": {
        "colab": {
          "base_uri": "https://localhost:8080/"
        },
        "id": "KAZa3csJQHbd",
        "outputId": "5a45ad17-3700-47d6-c293-38de2fa1c746"
      },
      "source": [
        "num_cols = dataframe.shape[1]\n",
        "print(num_cols)"
      ],
      "execution_count": null,
      "outputs": [
        {
          "output_type": "stream",
          "text": [
            "6\n"
          ],
          "name": "stdout"
        }
      ]
    },
    {
      "cell_type": "markdown",
      "metadata": {
        "id": "xUD7wAQcQHbe"
      },
      "source": [
        "**Q: What are the column titles of the input variables?**"
      ]
    },
    {
      "cell_type": "code",
      "metadata": {
        "colab": {
          "base_uri": "https://localhost:8080/"
        },
        "id": "2qEqAKiZQHbe",
        "outputId": "a6e80eb7-6f5d-403f-9c8a-c133dd0554cc"
      },
      "source": [
        "input_cols = ['age', 'sex', 'bmi', 'children', 'smoker']\n",
        "input_cols"
      ],
      "execution_count": null,
      "outputs": [
        {
          "output_type": "execute_result",
          "data": {
            "text/plain": [
              "['age', 'sex', 'bmi', 'children', 'smoker']"
            ]
          },
          "metadata": {
            "tags": []
          },
          "execution_count": 12
        }
      ]
    },
    {
      "cell_type": "markdown",
      "metadata": {
        "id": "_fJvZop8QHbe"
      },
      "source": [
        "**Q: Which of the input columns are non-numeric or categorial variables ?**\n",
        "\n",
        "Hint: `sex` is one of them. List the columns that are not numbers."
      ]
    },
    {
      "cell_type": "code",
      "metadata": {
        "colab": {
          "base_uri": "https://localhost:8080/"
        },
        "id": "BHY42THO6mGx",
        "outputId": "467d1739-0bc0-4d22-e7e7-f6681f28c0e6"
      },
      "source": [
        "dataframe.info()"
      ],
      "execution_count": null,
      "outputs": [
        {
          "output_type": "stream",
          "text": [
            "<class 'pandas.core.frame.DataFrame'>\n",
            "Int64Index: 1271 entries, 647 to 628\n",
            "Data columns (total 6 columns):\n",
            " #   Column    Non-Null Count  Dtype  \n",
            "---  ------    --------------  -----  \n",
            " 0   age       1271 non-null   int64  \n",
            " 1   sex       1271 non-null   object \n",
            " 2   bmi       1271 non-null   float64\n",
            " 3   children  1271 non-null   int64  \n",
            " 4   smoker    1271 non-null   object \n",
            " 5   charges   1271 non-null   float64\n",
            "dtypes: float64(2), int64(2), object(2)\n",
            "memory usage: 69.5+ KB\n"
          ],
          "name": "stdout"
        }
      ]
    },
    {
      "cell_type": "code",
      "metadata": {
        "colab": {
          "base_uri": "https://localhost:8080/"
        },
        "id": "7TF8vMBuQHbe",
        "outputId": "ab8c8686-0ee8-4e50-91b2-67ae25ea0c9e"
      },
      "source": [
        "categorical_cols = dataframe.columns[dataframe.dtypes == np.object]\n",
        "categorical_cols"
      ],
      "execution_count": null,
      "outputs": [
        {
          "output_type": "execute_result",
          "data": {
            "text/plain": [
              "Index(['sex', 'smoker'], dtype='object')"
            ]
          },
          "metadata": {
            "tags": []
          },
          "execution_count": 14
        }
      ]
    },
    {
      "cell_type": "markdown",
      "metadata": {
        "id": "L3n0QNDTQHbf"
      },
      "source": [
        "**Q: What are the column titles of output/target variable(s)?**"
      ]
    },
    {
      "cell_type": "code",
      "metadata": {
        "colab": {
          "base_uri": "https://localhost:8080/"
        },
        "id": "CUUR2948QHbf",
        "outputId": "5aae6000-d139-4866-dae0-39443b1c0d56"
      },
      "source": [
        "output_cols = ['charges']\n",
        "output_cols"
      ],
      "execution_count": null,
      "outputs": [
        {
          "output_type": "execute_result",
          "data": {
            "text/plain": [
              "['charges']"
            ]
          },
          "metadata": {
            "tags": []
          },
          "execution_count": 15
        }
      ]
    },
    {
      "cell_type": "markdown",
      "metadata": {
        "id": "TLSFMX9GQHbf"
      },
      "source": [
        "**Q: (Optional) What is the minimum, maximum and average value of the `charges` column? Can you show the distribution of values in a graph?**\n",
        "Use this data visualization cheatsheet for referece: https://jovian.ml/aakashns/dataviz-cheatsheet"
      ]
    },
    {
      "cell_type": "code",
      "metadata": {
        "colab": {
          "base_uri": "https://localhost:8080/",
          "height": 437
        },
        "id": "8a6wf6-RQHbf",
        "outputId": "e26aa99a-b93b-41f5-88df-905b55b8a4d8"
      },
      "source": [
        "print(\"Min Charges:\", dataframe.charges.min())\n",
        "print(\"Avg Charges:\", dataframe.charges.mean())\n",
        "print(\"Max Charges:\", dataframe.charges.max())\n",
        "sns.displot(data = dataframe.charges, kde=True)"
      ],
      "execution_count": null,
      "outputs": [
        {
          "output_type": "stream",
          "text": [
            "Min Charges: 1088.217683\n",
            "Avg Charges: 12911.781944371776\n",
            "Max Charges: 61857.3151697\n"
          ],
          "name": "stdout"
        },
        {
          "output_type": "execute_result",
          "data": {
            "text/plain": [
              "<seaborn.axisgrid.FacetGrid at 0x7fdf29f42910>"
            ]
          },
          "metadata": {
            "tags": []
          },
          "execution_count": 16
        },
        {
          "output_type": "display_data",
          "data": {
            "image/png": "[encoded data removed]",
            "text/plain": [
              "<Figure size 360x360 with 1 Axes>"
            ]
          },
          "metadata": {
            "tags": [],
            "needs_background": "light"
          }
        }
      ]
    },
    {
      "cell_type": "markdown",
      "metadata": {
        "id": "Mv81tacAQHbg"
      },
      "source": [
        "Remember to commit your notebook to Jovian after every step, so that you don't lose your work."
      ]
    },
    {
      "cell_type": "code",
      "metadata": {
        "id": "kQHhs4qCQHbg"
      },
      "source": [
        "!pip install jovian --upgrade -q"
      ],
      "execution_count": null,
      "outputs": []
    },
    {
      "cell_type": "code",
      "metadata": {
        "id": "fTzB5SJ7QHbg"
      },
      "source": [
        "import jovian"
      ],
      "execution_count": null,
      "outputs": []
    },
    {
      "cell_type": "code",
      "metadata": {
        "colab": {
          "base_uri": "https://localhost:8080/",
          "height": 103
        },
        "id": "55uvmeoaQHbg",
        "outputId": "15789eaf-c970-4ad3-9360-8feefc207cf5"
      },
      "source": [
        "jovian.commit()"
      ],
      "execution_count": null,
      "outputs": [
        {
          "output_type": "stream",
          "text": [
            "[jovian] Detected Colab notebook...\u001b[0m\n",
            "[jovian] Uploading colab notebook to Jovian...\u001b[0m\n",
            "[jovian] Capturing environment..\u001b[0m\n",
            "[jovian] Committed successfully! https://jovian.ai/kunal-burgul/02-insurance-linear-regression\u001b[0m\n"
          ],
          "name": "stdout"
        },
        {
          "output_type": "execute_result",
          "data": {
            "application/vnd.google.colaboratory.intrinsic+json": {
              "type": "string"
            },
            "text/plain": [
              "'https://jovian.ai/kunal-burgul/02-insurance-linear-regression'"
            ]
          },
          "metadata": {
            "tags": []
          },
          "execution_count": 19
        }
      ]
    },
    {
      "cell_type": "markdown",
      "metadata": {
        "id": "wI8a79PaQHbh"
      },
      "source": [
        "## Step 2: Prepare the dataset for training\n",
        "\n",
        "We need to convert the data from the Pandas dataframe into a PyTorch tensors for training. To do this, the first step is to convert it numpy arrays. If you've filled out `input_cols`, `categorial_cols` and `output_cols` correctly, this following function will perform the conversion to numpy arrays."
      ]
    },
    {
      "cell_type": "code",
      "metadata": {
        "id": "lR-sszErQHbh"
      },
      "source": [
        "def dataframe_to_arrays(dataframe):\n",
        "    # Make a copy of the original dataframe\n",
        "    dataframe1 = dataframe.copy(deep=True)\n",
        "    # Convert non-numeric categorical columns to numbers\n",
        "    for col in categorical_cols:\n",
        "        dataframe1[col] = dataframe1[col].astype('category').cat.codes\n",
        "    # Extract input & outupts as numpy arrays\n",
        "    inputs_array = dataframe1[input_cols].to_numpy()\n",
        "    targets_array = dataframe1[output_cols].to_numpy()\n",
        "    return inputs_array, targets_array"
      ],
      "execution_count": null,
      "outputs": []
    },
    {
      "cell_type": "markdown",
      "metadata": {
        "id": "d1J2HbRKQHbh"
      },
      "source": [
        "Read through the [Pandas documentation](https://pandas.pydata.org/pandas-docs/stable/user_guide/categorical.html) to understand how we're converting categorical variables into numbers."
      ]
    },
    {
      "cell_type": "code",
      "metadata": {
        "colab": {
          "base_uri": "https://localhost:8080/"
        },
        "id": "E_H8VvOoQHbi",
        "outputId": "d6b23a3d-d8e8-4cb3-a511-4a20e7f7c55e"
      },
      "source": [
        "inputs_array, targets_array = dataframe_to_arrays(dataframe)\n",
        "inputs_array, targets_array"
      ],
      "execution_count": null,
      "outputs": [
        {
          "output_type": "execute_result",
          "data": {
            "text/plain": [
              "(array([[40.    ,  0.    , 26.6418,  3.    ,  0.    ],\n",
              "        [43.    ,  1.    , 29.0928,  5.    ,  0.    ],\n",
              "        [22.    ,  1.    , 39.672 ,  3.    ,  0.    ],\n",
              "        ...,\n",
              "        [24.    ,  1.    , 26.676 ,  0.    ,  0.    ],\n",
              "        [39.    ,  0.    , 47.652 ,  0.    ,  0.    ],\n",
              "        [58.    ,  1.    , 43.32  ,  0.    ,  0.    ]]),\n",
              " array([[ 8004.715771 ],\n",
              "        [14043.9802455],\n",
              "        [ 3339.77208  ],\n",
              "        ...,\n",
              "        [ 1910.52558  ],\n",
              "        [ 5492.35825  ],\n",
              "        [11024.97344  ]]))"
            ]
          },
          "metadata": {
            "tags": []
          },
          "execution_count": 21
        }
      ]
    },
    {
      "cell_type": "markdown",
      "metadata": {
        "id": "Sl3u4KzlQHbi"
      },
      "source": [
        "**Q: Convert the numpy arrays `inputs_array` and `targets_array` into PyTorch tensors. Make sure that the data type is `torch.float32`.**"
      ]
    },
    {
      "cell_type": "code",
      "metadata": {
        "colab": {
          "base_uri": "https://localhost:8080/"
        },
        "id": "XVjlEyZuQHbi",
        "outputId": "75d234d8-f1e8-4922-c094-fbc14c99985a"
      },
      "source": [
        "inputs = torch.from_numpy(inputs_array).type(torch.float32)\n",
        "targets = torch.from_numpy(targets_array).type(torch.float32)\n",
        "inputs, targets"
      ],
      "execution_count": null,
      "outputs": [
        {
          "output_type": "execute_result",
          "data": {
            "text/plain": [
              "(tensor([[40.0000,  0.0000, 26.6418,  3.0000,  0.0000],\n",
              "         [43.0000,  1.0000, 29.0928,  5.0000,  0.0000],\n",
              "         [22.0000,  1.0000, 39.6720,  3.0000,  0.0000],\n",
              "         ...,\n",
              "         [24.0000,  1.0000, 26.6760,  0.0000,  0.0000],\n",
              "         [39.0000,  0.0000, 47.6520,  0.0000,  0.0000],\n",
              "         [58.0000,  1.0000, 43.3200,  0.0000,  0.0000]]), tensor([[ 8004.7158],\n",
              "         [14043.9805],\n",
              "         [ 3339.7720],\n",
              "         ...,\n",
              "         [ 1910.5256],\n",
              "         [ 5492.3584],\n",
              "         [11024.9736]]))"
            ]
          },
          "metadata": {
            "tags": []
          },
          "execution_count": 22
        }
      ]
    },
    {
      "cell_type": "code",
      "metadata": {
        "colab": {
          "base_uri": "https://localhost:8080/"
        },
        "id": "uJ0Dq6c2QHbj",
        "outputId": "34c16523-d653-435a-ba6f-28a7dd2157ad"
      },
      "source": [
        "inputs.dtype, targets.dtype"
      ],
      "execution_count": null,
      "outputs": [
        {
          "output_type": "execute_result",
          "data": {
            "text/plain": [
              "(torch.float32, torch.float32)"
            ]
          },
          "metadata": {
            "tags": []
          },
          "execution_count": 23
        }
      ]
    },
    {
      "cell_type": "markdown",
      "metadata": {
        "id": "HNizbCeJQHbj"
      },
      "source": [
        "Next, we need to create PyTorch datasets & data loaders for training & validation. We'll start by creating a `TensorDataset`."
      ]
    },
    {
      "cell_type": "code",
      "metadata": {
        "id": "hyj_BIwnQHbj"
      },
      "source": [
        "dataset = TensorDataset(inputs, targets)"
      ],
      "execution_count": null,
      "outputs": []
    },
    {
      "cell_type": "markdown",
      "metadata": {
        "id": "7iBNRzT-QHbj"
      },
      "source": [
        "**Q: Pick a number between `0.1` and `0.2` to determine the fraction of data that will be used for creating the validation set. Then use `random_split` to create training & validation datasets.**"
      ]
    },
    {
      "cell_type": "code",
      "metadata": {
        "id": "1tmCC0yGQHbk"
      },
      "source": [
        "val_percent = 0.2 # between 0.1 and 0.2\n",
        "val_size = int(num_rows * val_percent)\n",
        "train_size = num_rows - val_size\n",
        "\n",
        "\n",
        "train_ds, val_ds = random_split(dataset, [train_size, val_size]) # Use the random_split function to split dataset into 2 parts of the desired length"
      ],
      "execution_count": null,
      "outputs": []
    },
    {
      "cell_type": "markdown",
      "metadata": {
        "id": "8JO-DhqqQHbk"
      },
      "source": [
        "Finally, we can create data loaders for training & validation.\n",
        "\n",
        "**Q: Pick a batch size for the data loader.**"
      ]
    },
    {
      "cell_type": "code",
      "metadata": {
        "id": "1AN3FNVSQHbk"
      },
      "source": [
        "batch_size = 64"
      ],
      "execution_count": null,
      "outputs": []
    },
    {
      "cell_type": "code",
      "metadata": {
        "id": "3WbIMr8mQHbk"
      },
      "source": [
        "train_loader = DataLoader(train_ds, batch_size, shuffle=True)\n",
        "val_loader = DataLoader(val_ds, batch_size)"
      ],
      "execution_count": null,
      "outputs": []
    },
    {
      "cell_type": "markdown",
      "metadata": {
        "id": "UWbWTRwRQHbl"
      },
      "source": [
        "Let's look at a batch of data to verify everything is working fine so far."
      ]
    },
    {
      "cell_type": "code",
      "metadata": {
        "colab": {
          "base_uri": "https://localhost:8080/"
        },
        "id": "V3_vwP39QHbl",
        "outputId": "e90a7da5-d9bc-4016-ec20-a53129c5c816"
      },
      "source": [
        "for xb, yb in train_loader:\n",
        "    print(\"inputs:\", xb)\n",
        "    print(\"targets:\", yb)\n",
        "    break"
      ],
      "execution_count": null,
      "outputs": [
        {
          "output_type": "stream",
          "text": [
            "inputs: tensor([[18.0000,  1.0000, 29.0244,  0.0000,  0.0000],\n",
            "        [51.0000,  0.0000, 20.5770,  0.0000,  0.0000],\n",
            "        [55.0000,  0.0000, 37.3635,  2.0000,  0.0000],\n",
            "        [42.0000,  0.0000, 47.1105,  1.0000,  0.0000],\n",
            "        [29.0000,  1.0000, 25.6671,  3.0000,  0.0000],\n",
            "        [24.0000,  1.0000, 26.6760,  0.0000,  0.0000],\n",
            "        [22.0000,  0.0000, 32.8548,  0.0000,  0.0000],\n",
            "        [41.0000,  0.0000, 35.3628,  0.0000,  0.0000],\n",
            "        [48.0000,  1.0000, 27.8388,  0.0000,  1.0000],\n",
            "        [37.0000,  0.0000, 30.0960,  0.0000,  1.0000],\n",
            "        [54.0000,  1.0000, 35.1120,  1.0000,  1.0000],\n",
            "        [30.0000,  0.0000, 25.0173,  1.0000,  0.0000],\n",
            "        [39.0000,  1.0000, 48.6267,  0.0000,  0.0000],\n",
            "        [39.0000,  1.0000, 30.1074,  0.0000,  1.0000],\n",
            "        [60.0000,  1.0000, 33.7896,  0.0000,  0.0000],\n",
            "        [18.0000,  0.0000, 42.0090,  0.0000,  0.0000],\n",
            "        [23.0000,  1.0000, 47.7774,  0.0000,  0.0000],\n",
            "        [47.0000,  0.0000, 41.0400,  1.0000,  0.0000],\n",
            "        [49.0000,  0.0000, 30.8940,  1.0000,  0.0000],\n",
            "        [38.0000,  0.0000, 32.9802,  1.0000,  0.0000],\n",
            "        [51.0000,  0.0000, 41.4789,  3.0000,  0.0000],\n",
            "        [46.0000,  1.0000, 43.5138,  2.0000,  0.0000],\n",
            "        [23.0000,  1.0000, 42.2940,  3.0000,  0.0000],\n",
            "        [33.0000,  1.0000, 31.2987,  2.0000,  0.0000],\n",
            "        [27.0000,  1.0000, 26.3340,  0.0000,  0.0000],\n",
            "        [18.0000,  0.0000, 36.6168,  2.0000,  0.0000],\n",
            "        [33.0000,  0.0000, 38.1900,  0.0000,  1.0000],\n",
            "        [64.0000,  1.0000, 42.1344,  2.0000,  1.0000],\n",
            "        [54.0000,  0.0000, 36.3660,  1.0000,  0.0000],\n",
            "        [25.0000,  0.0000, 30.5406,  2.0000,  0.0000],\n",
            "        [50.0000,  0.0000, 30.8655,  1.0000,  0.0000],\n",
            "        [40.0000,  1.0000, 35.1975,  4.0000,  0.0000],\n",
            "        [40.0000,  0.0000, 32.7066,  3.0000,  0.0000],\n",
            "        [35.0000,  1.0000, 27.8388,  3.0000,  1.0000],\n",
            "        [19.0000,  1.0000, 31.5780,  0.0000,  1.0000],\n",
            "        [35.0000,  0.0000, 40.8804,  2.0000,  0.0000],\n",
            "        [25.0000,  1.0000, 31.4070,  0.0000,  0.0000],\n",
            "        [42.0000,  0.0000, 30.3240,  0.0000,  1.0000],\n",
            "        [51.0000,  1.0000, 42.1800,  0.0000,  0.0000],\n",
            "        [37.0000,  1.0000, 25.8837,  3.0000,  0.0000],\n",
            "        [29.0000,  1.0000, 44.3916,  1.0000,  0.0000],\n",
            "        [56.0000,  1.0000, 38.4465,  0.0000,  0.0000],\n",
            "        [64.0000,  0.0000, 44.5170,  3.0000,  0.0000],\n",
            "        [24.0000,  0.0000, 27.6165,  0.0000,  0.0000],\n",
            "        [44.0000,  0.0000, 23.0679,  1.0000,  1.0000],\n",
            "        [38.0000,  1.0000, 35.3400,  1.0000,  0.0000],\n",
            "        [51.0000,  0.0000, 39.8544,  2.0000,  1.0000],\n",
            "        [64.0000,  0.0000, 37.5801,  0.0000,  0.0000],\n",
            "        [55.0000,  0.0000, 34.0062,  0.0000,  0.0000],\n",
            "        [55.0000,  0.0000, 34.7700,  0.0000,  0.0000],\n",
            "        [20.0000,  1.0000, 36.9303,  1.0000,  0.0000],\n",
            "        [44.0000,  1.0000, 39.1248,  1.0000,  0.0000],\n",
            "        [18.0000,  1.0000, 18.1944,  0.0000,  0.0000],\n",
            "        [19.0000,  1.0000, 28.6995,  0.0000,  0.0000],\n",
            "        [31.0000,  1.0000, 30.6489,  1.0000,  0.0000],\n",
            "        [35.0000,  1.0000, 20.3604,  1.0000,  0.0000],\n",
            "        [63.0000,  1.0000, 45.3720,  3.0000,  0.0000],\n",
            "        [34.0000,  1.0000, 37.3920,  1.0000,  0.0000],\n",
            "        [30.0000,  1.0000, 35.7960,  1.0000,  0.0000],\n",
            "        [30.0000,  0.0000, 26.9667,  3.0000,  1.0000],\n",
            "        [58.0000,  1.0000, 40.6980,  0.0000,  0.0000],\n",
            "        [59.0000,  0.0000, 31.6008,  3.0000,  0.0000],\n",
            "        [19.0000,  1.0000, 23.2845,  0.0000,  0.0000],\n",
            "        [32.0000,  1.0000, 35.9100,  1.0000,  0.0000]])\n",
            "targets: tensor([[ 1656.7614],\n",
            "        [ 9354.9248],\n",
            "        [11900.5732],\n",
            "        [ 7421.2505],\n",
            "        [ 5053.2915],\n",
            "        [ 1910.5256],\n",
            "        [ 2092.0493],\n",
            "        [ 5999.7612],\n",
            "        [20586.9648],\n",
            "        [18953.0664],\n",
            "        [40739.5352],\n",
            "        [ 4576.6572],\n",
            "        [ 5584.6909],\n",
            "        [19544.8438],\n",
            "        [12349.0693],\n",
            "        [ 1580.9385],\n",
            "        [ 1782.1635],\n",
            "        [ 8300.2002],\n",
            "        [25356.1504],\n",
            "        [ 5795.1533],\n",
            "        [11093.6357],\n",
            "        [ 8096.7495],\n",
            "        [ 3489.6682],\n",
            "        [ 5103.6255],\n",
            "        [ 2409.2239],\n",
            "        [ 2717.2209],\n",
            "        [35966.9922],\n",
            "        [48090.3320],\n",
            "        [10600.9834],\n",
            "        [ 4063.4397],\n",
            "        [ 9802.9502],\n",
            "        [ 7917.8350],\n",
            "        [ 7817.8887],\n",
            "        [18781.1387],\n",
            "        [15808.9102],\n",
            "        [ 5661.4248],\n",
            "        [ 2447.4744],\n",
            "        [20708.2441],\n",
            "        [ 8534.6348],\n",
            "        [ 6775.9419],\n",
            "        [ 3367.2673],\n",
            "        [10646.9580],\n",
            "        [15602.5732],\n",
            "        [ 2757.4780],\n",
            "        [19006.9648],\n",
            "        [ 5323.6143],\n",
            "        [43301.9609],\n",
            "        [14251.8896],\n",
            "        [10947.9424],\n",
            "        [10383.3359],\n",
            "        [ 2291.3621],\n",
            "        [ 6933.0488],\n",
            "        [ 1643.9525],\n",
            "        [ 1583.0752],\n",
            "        [ 4307.9766],\n",
            "        [ 4963.0054],\n",
            "        [14714.9668],\n",
            "        [13927.6133],\n",
            "        [ 3549.5657],\n",
            "        [18202.8984],\n",
            "        [11021.8721],\n",
            "        [13581.0996],\n",
            "        [ 1576.6708],\n",
            "        [ 3954.2021]])\n"
          ],
          "name": "stdout"
        }
      ]
    },
    {
      "cell_type": "markdown",
      "metadata": {
        "id": "yOEX17SvQHbl"
      },
      "source": [
        "Let's save our work by committing to Jovian."
      ]
    },
    {
      "cell_type": "code",
      "metadata": {
        "colab": {
          "base_uri": "https://localhost:8080/",
          "height": 86
        },
        "id": "Ucvizv-BQHbl",
        "outputId": "16b2a23b-7af0-4c96-fdeb-632119145fd7"
      },
      "source": [
        "jovian.commit(project=project_name, environment=None)"
      ],
      "execution_count": null,
      "outputs": [
        {
          "output_type": "stream",
          "text": [
            "[jovian] Detected Colab notebook...\u001b[0m\n",
            "[jovian] Uploading colab notebook to Jovian...\u001b[0m\n",
            "[jovian] Committed successfully! https://jovian.ai/kunal-burgul/02-insurance-linear-regression\u001b[0m\n"
          ],
          "name": "stdout"
        },
        {
          "output_type": "execute_result",
          "data": {
            "application/vnd.google.colaboratory.intrinsic+json": {
              "type": "string"
            },
            "text/plain": [
              "'https://jovian.ai/kunal-burgul/02-insurance-linear-regression'"
            ]
          },
          "metadata": {
            "tags": []
          },
          "execution_count": 29
        }
      ]
    },
    {
      "cell_type": "markdown",
      "metadata": {
        "id": "aKruPO7WQHbm"
      },
      "source": [
        "## Step 3: Create a Linear Regression Model\n",
        "\n",
        "Our model itself is a fairly straightforward linear regression (we'll build more complex models in the next assignment). \n"
      ]
    },
    {
      "cell_type": "code",
      "metadata": {
        "colab": {
          "base_uri": "https://localhost:8080/"
        },
        "id": "71i5GyfAQHbm",
        "outputId": "74be8cfc-3c29-4af0-c6f8-2b527699c333"
      },
      "source": [
        "input_size = len(input_cols)\n",
        "output_size = len(output_cols)\n",
        "input_size, output_size"
      ],
      "execution_count": null,
      "outputs": [
        {
          "output_type": "execute_result",
          "data": {
            "text/plain": [
              "(5, 1)"
            ]
          },
          "metadata": {
            "tags": []
          },
          "execution_count": 30
        }
      ]
    },
    {
      "cell_type": "markdown",
      "metadata": {
        "id": "yJh3VycHQHbm"
      },
      "source": [
        "**Q: Complete the class definition below by filling out the constructor (`__init__`), `forward`, `training_step` and `validation_step` methods.**\n",
        "\n",
        "Hint: Think carefully about picking a good loss fuction (it's not cross entropy). Maybe try 2-3 of them and see which one works best. See https://pytorch.org/docs/stable/nn.functional.html#loss-functions"
      ]
    },
    {
      "cell_type": "code",
      "metadata": {
        "id": "ma-SMEqQQHbm"
      },
      "source": [
        "class InsuranceModel(nn.Module):\n",
        "    def __init__(self):\n",
        "        super().__init__()\n",
        "        self.linear = nn.Linear(input_size, output_size)                  # fill this (hint: use input_size & output_size defined above)\n",
        "        \n",
        "    def forward(self, xb):\n",
        "        out = self.linear(xb)                          # fill this\n",
        "        return out\n",
        "    \n",
        "    def training_step(self, batch):\n",
        "        inputs, targets = batch \n",
        "        # Generate predictions\n",
        "        out = self(inputs)          \n",
        "        # Calcuate loss\n",
        "        loss = F.l1_loss(out, targets)                          # fill this\n",
        "        return loss\n",
        "    \n",
        "    def validation_step(self, batch):\n",
        "        inputs, targets = batch\n",
        "        # Generate predictions\n",
        "        out = self(inputs)\n",
        "        # Calculate loss\n",
        "        loss = F.l1_loss(out, targets)                           # fill this    \n",
        "        return {'val_loss': loss.detach()}\n",
        "        \n",
        "    def validation_epoch_end(self, outputs):\n",
        "        batch_losses = [x['val_loss'] for x in outputs]\n",
        "        epoch_loss = torch.stack(batch_losses).mean()   # Combine losses\n",
        "        return {'val_loss': epoch_loss.item()}\n",
        "    \n",
        "    def epoch_end(self, epoch, result, num_epochs):\n",
        "        # Print result every 20th epoch\n",
        "        if (epoch+1) % 20 == 0 or epoch == num_epochs-1:\n",
        "            print(\"Epoch [{}], val_loss: {:.4f}\".format(epoch+1, result['val_loss']))"
      ],
      "execution_count": null,
      "outputs": []
    },
    {
      "cell_type": "markdown",
      "metadata": {
        "id": "p9LfxIrPQHbn"
      },
      "source": [
        "Let us create a model using the `InsuranceModel` class. You may need to come back later and re-run the next cell to reinitialize the model, in case the loss becomes `nan` or `infinity`."
      ]
    },
    {
      "cell_type": "code",
      "metadata": {
        "id": "H1VFF8HuQHbn"
      },
      "source": [
        "model = InsuranceModel()"
      ],
      "execution_count": null,
      "outputs": []
    },
    {
      "cell_type": "markdown",
      "metadata": {
        "id": "T3wUXoQ1QHbo"
      },
      "source": [
        "Let's check out the weights and biases of the model using `model.parameters`."
      ]
    },
    {
      "cell_type": "code",
      "metadata": {
        "colab": {
          "base_uri": "https://localhost:8080/"
        },
        "id": "0QdSH6WoQHbo",
        "outputId": "df8bc9cd-e0a1-48d8-a12e-cfa5f871f648"
      },
      "source": [
        "list(model.parameters())"
      ],
      "execution_count": null,
      "outputs": [
        {
          "output_type": "execute_result",
          "data": {
            "text/plain": [
              "[Parameter containing:\n",
              " tensor([[-0.1941,  0.4416, -0.4076,  0.3155, -0.3328]], requires_grad=True),\n",
              " Parameter containing:\n",
              " tensor([0.1019], requires_grad=True)]"
            ]
          },
          "metadata": {
            "tags": []
          },
          "execution_count": 33
        }
      ]
    },
    {
      "cell_type": "markdown",
      "metadata": {
        "id": "CdbxyQmeQHbo"
      },
      "source": [
        "One final commit before we train the model."
      ]
    },
    {
      "cell_type": "code",
      "metadata": {
        "colab": {
          "base_uri": "https://localhost:8080/",
          "height": 86
        },
        "id": "mssltzlyQHbo",
        "outputId": "8b2ef1ff-fe1f-41e4-819c-d068f807aa81"
      },
      "source": [
        "jovian.commit(project=project_name, environment=None)"
      ],
      "execution_count": null,
      "outputs": [
        {
          "output_type": "stream",
          "text": [
            "[jovian] Detected Colab notebook...\u001b[0m\n",
            "[jovian] Uploading colab notebook to Jovian...\u001b[0m\n",
            "[jovian] Committed successfully! https://jovian.ai/kunal-burgul/02-insurance-linear-regression\u001b[0m\n"
          ],
          "name": "stdout"
        },
        {
          "output_type": "execute_result",
          "data": {
            "application/vnd.google.colaboratory.intrinsic+json": {
              "type": "string"
            },
            "text/plain": [
              "'https://jovian.ai/kunal-burgul/02-insurance-linear-regression'"
            ]
          },
          "metadata": {
            "tags": []
          },
          "execution_count": 34
        }
      ]
    },
    {
      "cell_type": "markdown",
      "metadata": {
        "id": "0vLtC4kVQHbp"
      },
      "source": [
        "## Step 4: Train the model to fit the data\n",
        "\n",
        "To train our model, we'll use the same `fit` function explained in the lecture. That's the benefit of defining a generic training loop - you can use it for any problem."
      ]
    },
    {
      "cell_type": "code",
      "metadata": {
        "id": "kjGEUu4-QHbp"
      },
      "source": [
        "def evaluate(model, val_loader):\n",
        "    outputs = [model.validation_step(batch) for batch in val_loader]\n",
        "    return model.validation_epoch_end(outputs)\n",
        "\n",
        "def fit(epochs, lr, model, train_loader, val_loader, opt_func=torch.optim.SGD):\n",
        "    history = []\n",
        "    optimizer = opt_func(model.parameters(), lr)\n",
        "    for epoch in range(epochs):\n",
        "        # Training Phase \n",
        "        for batch in train_loader:\n",
        "            loss = model.training_step(batch)\n",
        "            loss.backward()\n",
        "            optimizer.step()\n",
        "            optimizer.zero_grad()\n",
        "        # Validation phase\n",
        "        result = evaluate(model, val_loader)\n",
        "        model.epoch_end(epoch, result, epochs)\n",
        "        history.append(result)\n",
        "    return history"
      ],
      "execution_count": null,
      "outputs": []
    },
    {
      "cell_type": "markdown",
      "metadata": {
        "id": "i55ONCrMQHbp"
      },
      "source": [
        "**Q: Use the `evaluate` function to calculate the loss on the validation set before training.**"
      ]
    },
    {
      "cell_type": "code",
      "metadata": {
        "colab": {
          "base_uri": "https://localhost:8080/"
        },
        "id": "9RkJYg-KQHbp",
        "outputId": "18901cb1-c14e-4a74-ce3c-5675b3e2bf29"
      },
      "source": [
        "result = evaluate(model, val_loader) # Use the the evaluate function\n",
        "print(result)"
      ],
      "execution_count": null,
      "outputs": [
        {
          "output_type": "stream",
          "text": [
            "{'val_loss': 13054.6298828125}\n"
          ],
          "name": "stdout"
        }
      ]
    },
    {
      "cell_type": "markdown",
      "metadata": {
        "id": "5J1sd949QHbq"
      },
      "source": [
        "\n",
        "We are now ready to train the model. You may need to run the training loop many times, for different number of epochs and with different learning rates, to get a good result. Also, if your loss becomes too large (or `nan`), you may have to re-initialize the model by running the cell `model = InsuranceModel()`. Experiment with this for a while, and try to get to as low a loss as possible."
      ]
    },
    {
      "cell_type": "markdown",
      "metadata": {
        "id": "u9pAvA9MQHbq"
      },
      "source": [
        "**Q: Train the model 4-5 times with different learning rates & for different number of epochs.**\n",
        "\n",
        "Hint: Vary learning rates by orders of 10 (e.g. `1e-2`, `1e-3`, `1e-4`, `1e-5`, `1e-6`) to figure out what works."
      ]
    },
    {
      "cell_type": "code",
      "metadata": {
        "colab": {
          "base_uri": "https://localhost:8080/"
        },
        "id": "GckPQpgmQHbq",
        "outputId": "9427d28d-074b-487f-f8f2-d1247daa156e"
      },
      "source": [
        "epochs = 500\n",
        "lr = 1e-1\n",
        "history1 = fit(epochs, lr, model, train_loader, val_loader)"
      ],
      "execution_count": null,
      "outputs": [
        {
          "output_type": "stream",
          "text": [
            "Epoch [20], val_loss: 7171.4321\n",
            "Epoch [40], val_loss: 7033.2202\n",
            "Epoch [60], val_loss: 7030.3628\n",
            "Epoch [80], val_loss: 7021.1548\n",
            "Epoch [100], val_loss: 7017.4473\n",
            "Epoch [120], val_loss: 7012.7539\n",
            "Epoch [140], val_loss: 7009.0923\n",
            "Epoch [160], val_loss: 7002.6514\n",
            "Epoch [180], val_loss: 6998.5713\n",
            "Epoch [200], val_loss: 6994.6982\n",
            "Epoch [220], val_loss: 6992.8745\n",
            "Epoch [240], val_loss: 6986.6533\n",
            "Epoch [260], val_loss: 6981.0625\n",
            "Epoch [280], val_loss: 6982.7534\n",
            "Epoch [300], val_loss: 6976.0684\n",
            "Epoch [320], val_loss: 6974.2148\n",
            "Epoch [340], val_loss: 6969.3486\n",
            "Epoch [360], val_loss: 6968.4160\n",
            "Epoch [380], val_loss: 6966.7783\n",
            "Epoch [400], val_loss: 6958.9604\n",
            "Epoch [420], val_loss: 6955.1802\n",
            "Epoch [440], val_loss: 6953.8140\n",
            "Epoch [460], val_loss: 6949.0830\n",
            "Epoch [480], val_loss: 6948.7769\n",
            "Epoch [500], val_loss: 6956.8921\n"
          ],
          "name": "stdout"
        }
      ]
    },
    {
      "cell_type": "code",
      "metadata": {
        "colab": {
          "base_uri": "https://localhost:8080/"
        },
        "id": "LZYqruPoQHbq",
        "outputId": "611c8f26-9951-4c1d-f501-b96a9d7c9f0b"
      },
      "source": [
        "epochs = 500\n",
        "lr = 1e-2\n",
        "history2 = fit(epochs, lr, model, train_loader, val_loader)"
      ],
      "execution_count": null,
      "outputs": [
        {
          "output_type": "stream",
          "text": [
            "Epoch [20], val_loss: 6945.7627\n",
            "Epoch [40], val_loss: 6945.3594\n",
            "Epoch [60], val_loss: 6944.9141\n",
            "Epoch [80], val_loss: 6944.6167\n",
            "Epoch [100], val_loss: 6944.4678\n",
            "Epoch [120], val_loss: 6944.2690\n",
            "Epoch [140], val_loss: 6943.7827\n",
            "Epoch [160], val_loss: 6943.7734\n",
            "Epoch [180], val_loss: 6943.2197\n",
            "Epoch [200], val_loss: 6943.0654\n",
            "Epoch [220], val_loss: 6942.7119\n",
            "Epoch [240], val_loss: 6942.7461\n",
            "Epoch [260], val_loss: 6942.5317\n",
            "Epoch [280], val_loss: 6942.3008\n",
            "Epoch [300], val_loss: 6941.9609\n",
            "Epoch [320], val_loss: 6941.8320\n",
            "Epoch [340], val_loss: 6941.5049\n",
            "Epoch [360], val_loss: 6941.1211\n",
            "Epoch [380], val_loss: 6940.8398\n",
            "Epoch [400], val_loss: 6940.8569\n",
            "Epoch [420], val_loss: 6940.3896\n",
            "Epoch [440], val_loss: 6939.9297\n",
            "Epoch [460], val_loss: 6940.2939\n",
            "Epoch [480], val_loss: 6939.3945\n",
            "Epoch [500], val_loss: 6939.2954\n"
          ],
          "name": "stdout"
        }
      ]
    },
    {
      "cell_type": "code",
      "metadata": {
        "colab": {
          "base_uri": "https://localhost:8080/"
        },
        "id": "arW0MPtHQHbr",
        "outputId": "0602a553-1715-4f93-c4d3-a361aac6500f"
      },
      "source": [
        "epochs = 500\n",
        "lr = 1e-3\n",
        "history3 = fit(epochs, lr, model, train_loader, val_loader)"
      ],
      "execution_count": null,
      "outputs": [
        {
          "output_type": "stream",
          "text": [
            "Epoch [20], val_loss: 6939.2734\n",
            "Epoch [40], val_loss: 6939.2598\n",
            "Epoch [60], val_loss: 6939.2412\n",
            "Epoch [80], val_loss: 6939.1890\n",
            "Epoch [100], val_loss: 6939.1738\n",
            "Epoch [120], val_loss: 6939.1763\n",
            "Epoch [140], val_loss: 6939.1499\n",
            "Epoch [160], val_loss: 6939.1304\n",
            "Epoch [180], val_loss: 6939.1060\n",
            "Epoch [200], val_loss: 6939.0669\n",
            "Epoch [220], val_loss: 6939.0537\n",
            "Epoch [240], val_loss: 6939.0073\n",
            "Epoch [260], val_loss: 6938.9922\n",
            "Epoch [280], val_loss: 6938.9678\n",
            "Epoch [300], val_loss: 6938.9482\n",
            "Epoch [320], val_loss: 6938.9604\n",
            "Epoch [340], val_loss: 6938.9087\n",
            "Epoch [360], val_loss: 6938.9023\n",
            "Epoch [380], val_loss: 6938.8701\n",
            "Epoch [400], val_loss: 6938.8286\n",
            "Epoch [420], val_loss: 6938.8047\n",
            "Epoch [440], val_loss: 6938.7920\n",
            "Epoch [460], val_loss: 6938.7324\n",
            "Epoch [480], val_loss: 6938.7256\n",
            "Epoch [500], val_loss: 6938.7246\n"
          ],
          "name": "stdout"
        }
      ]
    },
    {
      "cell_type": "code",
      "metadata": {
        "colab": {
          "base_uri": "https://localhost:8080/"
        },
        "id": "yK5MXz37QHbr",
        "outputId": "cc0460aa-32e4-4bc1-d9d1-867d7b4b2494"
      },
      "source": [
        "epochs = 500\n",
        "lr = 1e-4\n",
        "history4 = fit(epochs, lr, model, train_loader, val_loader)"
      ],
      "execution_count": null,
      "outputs": [
        {
          "output_type": "stream",
          "text": [
            "Epoch [20], val_loss: 6938.7095\n",
            "Epoch [40], val_loss: 6938.7080\n",
            "Epoch [60], val_loss: 6938.7021\n",
            "Epoch [80], val_loss: 6938.6982\n",
            "Epoch [100], val_loss: 6938.7002\n",
            "Epoch [120], val_loss: 6938.6963\n",
            "Epoch [140], val_loss: 6938.6934\n",
            "Epoch [160], val_loss: 6938.6924\n",
            "Epoch [180], val_loss: 6938.6899\n",
            "Epoch [200], val_loss: 6938.6865\n",
            "Epoch [220], val_loss: 6938.6831\n",
            "Epoch [240], val_loss: 6938.6782\n",
            "Epoch [260], val_loss: 6938.6787\n",
            "Epoch [280], val_loss: 6938.6777\n",
            "Epoch [300], val_loss: 6938.6748\n",
            "Epoch [320], val_loss: 6938.6733\n",
            "Epoch [340], val_loss: 6938.6670\n",
            "Epoch [360], val_loss: 6938.6665\n",
            "Epoch [380], val_loss: 6938.6646\n",
            "Epoch [400], val_loss: 6938.6631\n",
            "Epoch [420], val_loss: 6938.6592\n",
            "Epoch [440], val_loss: 6938.6582\n",
            "Epoch [460], val_loss: 6938.6558\n",
            "Epoch [480], val_loss: 6938.6519\n",
            "Epoch [500], val_loss: 6938.6504\n"
          ],
          "name": "stdout"
        }
      ]
    },
    {
      "cell_type": "code",
      "metadata": {
        "colab": {
          "base_uri": "https://localhost:8080/"
        },
        "id": "miyh8tsxQHbr",
        "outputId": "1ac2595f-7184-4906-8e11-b4bc6b2560b6"
      },
      "source": [
        "epochs = 1000\n",
        "lr = 1e-5\n",
        "history5 = fit(epochs, lr, model, train_loader, val_loader)"
      ],
      "execution_count": null,
      "outputs": [
        {
          "output_type": "stream",
          "text": [
            "Epoch [20], val_loss: 6938.6504\n",
            "Epoch [40], val_loss: 6938.6509\n",
            "Epoch [60], val_loss: 6938.6504\n",
            "Epoch [80], val_loss: 6938.6499\n",
            "Epoch [100], val_loss: 6938.6504\n",
            "Epoch [120], val_loss: 6938.6504\n",
            "Epoch [140], val_loss: 6938.6504\n",
            "Epoch [160], val_loss: 6938.6494\n",
            "Epoch [180], val_loss: 6938.6504\n",
            "Epoch [200], val_loss: 6938.6504\n",
            "Epoch [220], val_loss: 6938.6504\n",
            "Epoch [240], val_loss: 6938.6504\n",
            "Epoch [260], val_loss: 6938.6504\n",
            "Epoch [280], val_loss: 6938.6504\n",
            "Epoch [300], val_loss: 6938.6499\n",
            "Epoch [320], val_loss: 6938.6504\n",
            "Epoch [340], val_loss: 6938.6494\n",
            "Epoch [360], val_loss: 6938.6504\n",
            "Epoch [380], val_loss: 6938.6504\n",
            "Epoch [400], val_loss: 6938.6494\n",
            "Epoch [420], val_loss: 6938.6504\n",
            "Epoch [440], val_loss: 6938.6504\n",
            "Epoch [460], val_loss: 6938.6494\n",
            "Epoch [480], val_loss: 6938.6504\n",
            "Epoch [500], val_loss: 6938.6504\n",
            "Epoch [520], val_loss: 6938.6494\n",
            "Epoch [540], val_loss: 6938.6494\n",
            "Epoch [560], val_loss: 6938.6494\n",
            "Epoch [580], val_loss: 6938.6499\n",
            "Epoch [600], val_loss: 6938.6499\n",
            "Epoch [620], val_loss: 6938.6504\n",
            "Epoch [640], val_loss: 6938.6494\n",
            "Epoch [660], val_loss: 6938.6494\n",
            "Epoch [680], val_loss: 6938.6494\n",
            "Epoch [700], val_loss: 6938.6494\n",
            "Epoch [720], val_loss: 6938.6494\n",
            "Epoch [740], val_loss: 6938.6494\n",
            "Epoch [760], val_loss: 6938.6494\n",
            "Epoch [780], val_loss: 6938.6494\n",
            "Epoch [800], val_loss: 6938.6494\n",
            "Epoch [820], val_loss: 6938.6494\n",
            "Epoch [840], val_loss: 6938.6499\n",
            "Epoch [860], val_loss: 6938.6494\n",
            "Epoch [880], val_loss: 6938.6494\n",
            "Epoch [900], val_loss: 6938.6494\n",
            "Epoch [920], val_loss: 6938.6494\n",
            "Epoch [940], val_loss: 6938.6504\n",
            "Epoch [960], val_loss: 6938.6494\n",
            "Epoch [980], val_loss: 6938.6494\n",
            "Epoch [1000], val_loss: 6938.6494\n"
          ],
          "name": "stdout"
        }
      ]
    },
    {
      "cell_type": "markdown",
      "metadata": {
        "id": "Y0CQzZTDQHbr"
      },
      "source": [
        "**Q: What is the final validation loss of your model?**"
      ]
    },
    {
      "cell_type": "code",
      "metadata": {
        "id": "Ujg0qLYkQHbr"
      },
      "source": [
        "val_loss = 6938.6494"
      ],
      "execution_count": null,
      "outputs": []
    },
    {
      "cell_type": "markdown",
      "metadata": {
        "id": "weNi0PiVQHbs"
      },
      "source": [
        "Let's log the final validation loss to Jovian and commit the notebook"
      ]
    },
    {
      "cell_type": "code",
      "metadata": {
        "colab": {
          "base_uri": "https://localhost:8080/"
        },
        "id": "UHh5p8tnQHbs",
        "outputId": "41549455-f1b3-4bbe-b060-edf44edc7fdb"
      },
      "source": [
        "jovian.log_metrics(val_loss=val_loss)"
      ],
      "execution_count": null,
      "outputs": [
        {
          "output_type": "stream",
          "text": [
            "[jovian] Metrics logged.\u001b[0m\n"
          ],
          "name": "stdout"
        }
      ]
    },
    {
      "cell_type": "code",
      "metadata": {
        "colab": {
          "base_uri": "https://localhost:8080/",
          "height": 103
        },
        "id": "I6YPw4MFQHbs",
        "outputId": "3718c4db-d5fe-4e59-83f9-ee2483c8d58d"
      },
      "source": [
        "jovian.commit(project=project_name, environment=None)"
      ],
      "execution_count": null,
      "outputs": [
        {
          "output_type": "stream",
          "text": [
            "[jovian] Detected Colab notebook...\u001b[0m\n",
            "[jovian] Uploading colab notebook to Jovian...\u001b[0m\n",
            "[jovian] Attaching records (metrics, hyperparameters, dataset etc.)\u001b[0m\n",
            "[jovian] Committed successfully! https://jovian.ai/kunal-burgul/02-insurance-linear-regression\u001b[0m\n"
          ],
          "name": "stdout"
        },
        {
          "output_type": "execute_result",
          "data": {
            "application/vnd.google.colaboratory.intrinsic+json": {
              "type": "string"
            },
            "text/plain": [
              "'https://jovian.ai/kunal-burgul/02-insurance-linear-regression'"
            ]
          },
          "metadata": {
            "tags": []
          },
          "execution_count": 44
        }
      ]
    },
    {
      "cell_type": "markdown",
      "metadata": {
        "id": "iyEP0ofMQHbs"
      },
      "source": [
        "Now scroll back up, re-initialize the model, and try different set of values for batch size, number of epochs, learning rate etc. Commit each experiment and use the \"Compare\" and \"View Diff\" options on Jovian to compare the different results."
      ]
    },
    {
      "cell_type": "markdown",
      "metadata": {
        "id": "0kXZuINTQHbu"
      },
      "source": [
        "## Step 5: Make predictions using the trained model\n",
        "\n",
        "**Q: Complete the following function definition to make predictions on a single input**"
      ]
    },
    {
      "cell_type": "code",
      "metadata": {
        "id": "ogSq1lGSQHbv"
      },
      "source": [
        "def predict_single(input, target, model):\n",
        "    inputs = input.unsqueeze(0)\n",
        "    predictions = model(inputs)                # fill this\n",
        "    prediction = predictions[0].detach()\n",
        "    print(\"Input:\", input)\n",
        "    print(\"Target:\", target)\n",
        "    print(\"Prediction:\", prediction)"
      ],
      "execution_count": null,
      "outputs": []
    },
    {
      "cell_type": "code",
      "metadata": {
        "colab": {
          "base_uri": "https://localhost:8080/"
        },
        "id": "qFjRswMQQHbv",
        "outputId": "4f708887-64b2-49e8-d4fd-cd803e5ca587"
      },
      "source": [
        "input, target = val_ds[0]\n",
        "predict_single(input, target, model)"
      ],
      "execution_count": null,
      "outputs": [
        {
          "output_type": "stream",
          "text": [
            "Input: tensor([61.0000,  1.0000, 38.2299,  0.0000,  0.0000])\n",
            "Target: tensor([12749.0361])\n",
            "Prediction: tensor([12204.0889])\n"
          ],
          "name": "stdout"
        }
      ]
    },
    {
      "cell_type": "code",
      "metadata": {
        "colab": {
          "base_uri": "https://localhost:8080/"
        },
        "id": "R0mBiSzDQHbv",
        "outputId": "60370912-f3d9-43de-cb97-77ae4a5a178d"
      },
      "source": [
        "input, target = val_ds[10]\n",
        "predict_single(input, target, model)"
      ],
      "execution_count": null,
      "outputs": [
        {
          "output_type": "stream",
          "text": [
            "Input: tensor([32.0000,  1.0000, 53.0442,  2.0000,  0.0000])\n",
            "Target: tensor([4545.7969])\n",
            "Prediction: tensor([4371.1860])\n"
          ],
          "name": "stdout"
        }
      ]
    },
    {
      "cell_type": "code",
      "metadata": {
        "colab": {
          "base_uri": "https://localhost:8080/"
        },
        "id": "uQ9yNmtOQHbv",
        "outputId": "fadbc8cf-b0bc-4bf3-b668-d581ced28794"
      },
      "source": [
        "input, target = val_ds[23]\n",
        "predict_single(input, target, model)"
      ],
      "execution_count": null,
      "outputs": [
        {
          "output_type": "stream",
          "text": [
            "Input: tensor([48.0000,  0.0000, 32.9232,  1.0000,  0.0000])\n",
            "Target: tensor([8972.0107])\n",
            "Prediction: tensor([9600.8496])\n"
          ],
          "name": "stdout"
        }
      ]
    },
    {
      "cell_type": "markdown",
      "metadata": {
        "id": "99N00x45QHbw"
      },
      "source": [
        "Are you happy with your model's predictions? Try to improve them further."
      ]
    },
    {
      "cell_type": "markdown",
      "metadata": {
        "id": "969fe8EKQHbw"
      },
      "source": [
        "## (Optional) Step 6: Try another dataset & blog about it\n",
        "\n",
        "While this last step is optional for the submission of your assignment, we highly recommend that you do it. Try to replicate this notebook for a different linear regression or logistic regression problem. This will help solidify your understanding, and give you a chance to differentiate the generic patterns in machine learning from problem-specific details.You can use one of these starer notebooks (just change the dataset):\n",
        "\n",
        "- Linear regression (minimal): https://jovian.ai/aakashns/housing-linear-minimal\n",
        "- Logistic regression (minimal): https://jovian.ai/aakashns/mnist-logistic-minimal\n",
        "\n",
        "Here are some sources to find good datasets:\n",
        "\n",
        "- https://lionbridge.ai/datasets/10-open-datasets-for-linear-regression/\n",
        "- https://www.kaggle.com/rtatman/datasets-for-regression-analysis\n",
        "- https://archive.ics.uci.edu/ml/datasets.php?format=&task=reg&att=&area=&numAtt=&numIns=&type=&sort=nameUp&view=table\n",
        "- https://people.sc.fsu.edu/~jburkardt/datasets/regression/regression.html\n",
        "- https://archive.ics.uci.edu/ml/datasets/wine+quality\n",
        "- https://pytorch.org/docs/stable/torchvision/datasets.html\n",
        "\n",
        "We also recommend that you write a blog about your approach to the problem. Here is a suggested structure for your post (feel free to experiment with it):\n",
        "\n",
        "- Interesting title & subtitle\n",
        "- Overview of what the blog covers (which dataset, linear regression or logistic regression, intro to PyTorch)\n",
        "- Downloading & exploring the data\n",
        "- Preparing the data for training\n",
        "- Creating a model using PyTorch\n",
        "- Training the model to fit the data\n",
        "- Your thoughts on how to experiment with different hyperparmeters to reduce loss\n",
        "- Making predictions using the model\n",
        "\n",
        "As with the previous assignment, you can [embed Juptyer notebook cells & outputs from Jovian](https://medium.com/jovianml/share-and-embed-jupyter-notebooks-online-with-jovian-ml-df709a03064e) into your blog. \n",
        "\n",
        "Don't forget to share your work on the forum: https://jovian.ai/forum/t/linear-regression-and-logistic-regression-notebooks-and-blog-posts/14039"
      ]
    },
    {
      "cell_type": "code",
      "metadata": {
        "colab": {
          "base_uri": "https://localhost:8080/",
          "height": 171
        },
        "id": "OEVGptSlQHbw",
        "outputId": "68d0b348-349f-4c20-b6c4-323008561afa"
      },
      "source": [
        "jovian.commit(project=project_name, environment=None)\n",
        "jovian.commit(project=project_name, environment=None) # try again, kaggle fails sometimes"
      ],
      "execution_count": null,
      "outputs": [
        {
          "output_type": "stream",
          "text": [
            "[jovian] Detected Colab notebook...\u001b[0m\n",
            "[jovian] Uploading colab notebook to Jovian...\u001b[0m\n",
            "[jovian] Attaching records (metrics, hyperparameters, dataset etc.)\u001b[0m\n",
            "[jovian] Committed successfully! https://jovian.ai/kunal-burgul/02-insurance-linear-regression\u001b[0m\n",
            "[jovian] Detected Colab notebook...\u001b[0m\n",
            "[jovian] Uploading colab notebook to Jovian...\u001b[0m\n",
            "[jovian] Attaching records (metrics, hyperparameters, dataset etc.)\u001b[0m\n",
            "[jovian] Committed successfully! https://jovian.ai/kunal-burgul/02-insurance-linear-regression\u001b[0m\n"
          ],
          "name": "stdout"
        },
        {
          "output_type": "execute_result",
          "data": {
            "application/vnd.google.colaboratory.intrinsic+json": {
              "type": "string"
            },
            "text/plain": [
              "'https://jovian.ai/kunal-burgul/02-insurance-linear-regression'"
            ]
          },
          "metadata": {
            "tags": []
          },
          "execution_count": 49
        }
      ]
    },
    {
      "cell_type": "code",
      "metadata": {
        "id": "y_Rh9YV0QHbx"
      },
      "source": [
        ""
      ],
      "execution_count": null,
      "outputs": []
    }
  ]
}