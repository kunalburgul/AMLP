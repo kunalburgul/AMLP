{
  "nbformat": 4,
  "nbformat_minor": 0,
  "metadata": {
    "colab": {
      "name": "01_neural_network_regression_with_tensorflow.ipynb",
      "provenance": [],
      "collapsed_sections": [],
      "authorship_tag": "ABX9TyNXWViAOPuYvyZuOgsJM+5e",
      "include_colab_link": true
    },
    "kernelspec": {
      "name": "python3",
      "display_name": "Python 3"
    },
    "language_info": {
      "name": "python"
    },
    "accelerator": "GPU"
  },
  "cells": [
    {
      "cell_type": "markdown",
      "metadata": {
        "id": "view-in-github",
        "colab_type": "text"
      },
      "source": [
        "<a href=\"https://colab.research.google.com/github/kunalburgul/MLDS_Learning/blob/master/Tensorflow/01_neural_network_regression_with_tensorflow.ipynb\" target=\"_parent\"><img src=\"https://colab.research.google.com/assets/colab-badge.svg\" alt=\"Open In Colab\"/></a>"
      ]
    },
    {
      "cell_type": "markdown",
      "metadata": {
        "id": "4dh_-pkyJ6Ud"
      },
      "source": [
        "# Introduction to Regression with Neural Network in TensorFlow \n",
        "\n",
        "There are many definations for a regression problem but tin our case, we're going to simplify it: predicting a numerical variable based on some other combination of variables, even shorter... predicting a number."
      ]
    },
    {
      "cell_type": "code",
      "metadata": {
        "colab": {
          "base_uri": "https://localhost:8080/"
        },
        "id": "xHRVAS6eKukY",
        "outputId": "b305f76a-2fcf-44ec-ea82-8775d25b90d2"
      },
      "source": [
        "# Import TensorFlow \n",
        "import tensorflow as tf\n",
        "print(tf.__version__)"
      ],
      "execution_count": 1,
      "outputs": [
        {
          "output_type": "stream",
          "text": [
            "2.4.1\n"
          ],
          "name": "stdout"
        }
      ]
    },
    {
      "cell_type": "markdown",
      "metadata": {
        "id": "HDZaKdwiK4eX"
      },
      "source": [
        "## Creating some data to view and fit "
      ]
    },
    {
      "cell_type": "code",
      "metadata": {
        "colab": {
          "base_uri": "https://localhost:8080/",
          "height": 286
        },
        "id": "M1o_Hj9IK-cH",
        "outputId": "ca933857-fd7f-414e-a1b3-93c8971e2f2f"
      },
      "source": [
        "import numpy as np\n",
        "import matplotlib.pyplot as plt\n",
        "\n",
        "# Create features\n",
        "X = np.array([-7.0, -4.0, -1.0, 2.0, 5.0, 8.0, 11.0, 14.0])\n",
        "\n",
        "# Create labels\n",
        "y = np.array([3.0, 6.0, 9.0, 12.0, 15.0, 18.0, 21.0, 24.0])\n",
        "\n",
        "# Visulalize it\n",
        "plt.scatter(X, y)"
      ],
      "execution_count": 2,
      "outputs": [
        {
          "output_type": "execute_result",
          "data": {
            "text/plain": [
              "<matplotlib.collections.PathCollection at 0x7fc9e13b3890>"
            ]
          },
          "metadata": {
            "tags": []
          },
          "execution_count": 2
        },
        {
          "output_type": "display_data",
          "data": {
            "image/png": "[encoded data removed]",
            "text/plain": [
              "<Figure size 432x288 with 1 Axes>"
            ]
          },
          "metadata": {
            "tags": [],
            "needs_background": "light"
          }
        }
      ]
    },
    {
      "cell_type": "code",
      "metadata": {
        "colab": {
          "base_uri": "https://localhost:8080/"
        },
        "id": "jGEEfH-PLnEh",
        "outputId": "bdc70c59-b3a4-420d-ea7e-182c8255587a"
      },
      "source": [
        "y == X + 10"
      ],
      "execution_count": 3,
      "outputs": [
        {
          "output_type": "execute_result",
          "data": {
            "text/plain": [
              "array([ True,  True,  True,  True,  True,  True,  True,  True])"
            ]
          },
          "metadata": {
            "tags": []
          },
          "execution_count": 3
        }
      ]
    },
    {
      "cell_type": "markdown",
      "metadata": {
        "id": "eqyjM3eLLyiq"
      },
      "source": [
        "## Input and Output shapes"
      ]
    },
    {
      "cell_type": "code",
      "metadata": {
        "colab": {
          "base_uri": "https://localhost:8080/"
        },
        "id": "i0_WcG1hMGmj",
        "outputId": "047c175c-a63d-4170-fd8c-2d2527f1c864"
      },
      "source": [
        "# Create a demo tensor for our housing price prediction problem\n",
        "house_info = tf.constant(['bedroom', 'bathroom', 'garage'])\n",
        "housr_price = tf.constant([939700])\n",
        "house_info, housr_price"
      ],
      "execution_count": 4,
      "outputs": [
        {
          "output_type": "execute_result",
          "data": {
            "text/plain": [
              "(<tf.Tensor: shape=(3,), dtype=string, numpy=array([b'bedroom', b'bathroom', b'garage'], dtype=object)>,\n",
              " <tf.Tensor: shape=(1,), dtype=int32, numpy=array([939700], dtype=int32)>)"
            ]
          },
          "metadata": {
            "tags": []
          },
          "execution_count": 4
        }
      ]
    },
    {
      "cell_type": "code",
      "metadata": {
        "colab": {
          "base_uri": "https://localhost:8080/"
        },
        "id": "6ycUL62SM4Ad",
        "outputId": "04617f2c-3a07-4bfc-c2f6-b2a18fbd3965"
      },
      "source": [
        "X[0], y[0]"
      ],
      "execution_count": 5,
      "outputs": [
        {
          "output_type": "execute_result",
          "data": {
            "text/plain": [
              "(-7.0, 3.0)"
            ]
          },
          "metadata": {
            "tags": []
          },
          "execution_count": 5
        }
      ]
    },
    {
      "cell_type": "code",
      "metadata": {
        "colab": {
          "base_uri": "https://localhost:8080/"
        },
        "id": "k4ptCYkLMiHk",
        "outputId": "d22c1928-76da-479b-bb6d-f5eaf863d07c"
      },
      "source": [
        "input_shape = X.shape\n",
        "output_shape = y.shape\n",
        "input_shape, output_shape"
      ],
      "execution_count": 6,
      "outputs": [
        {
          "output_type": "execute_result",
          "data": {
            "text/plain": [
              "((8,), (8,))"
            ]
          },
          "metadata": {
            "tags": []
          },
          "execution_count": 6
        }
      ]
    },
    {
      "cell_type": "code",
      "metadata": {
        "colab": {
          "base_uri": "https://localhost:8080/"
        },
        "id": "UKJKfLerMytW",
        "outputId": "ec09be5c-7daa-4f93-a157-463d7deecbd8"
      },
      "source": [
        " # Turn out the NumPy arrays into the tensors\n",
        " X = tf.constant(X)\n",
        " y = tf.constant(y)\n",
        " X, y"
      ],
      "execution_count": 7,
      "outputs": [
        {
          "output_type": "execute_result",
          "data": {
            "text/plain": [
              "(<tf.Tensor: shape=(8,), dtype=float64, numpy=array([-7., -4., -1.,  2.,  5.,  8., 11., 14.])>,\n",
              " <tf.Tensor: shape=(8,), dtype=float64, numpy=array([ 3.,  6.,  9., 12., 15., 18., 21., 24.])>)"
            ]
          },
          "metadata": {
            "tags": []
          },
          "execution_count": 7
        }
      ]
    },
    {
      "cell_type": "code",
      "metadata": {
        "colab": {
          "base_uri": "https://localhost:8080/"
        },
        "id": "pNZTWCUqNmrQ",
        "outputId": "bb433a4d-5b7c-46c9-8202-1c744112ede3"
      },
      "source": [
        "input_shape = X[0].shape\n",
        "output_shape = y[0].shape\n",
        "input_shape, output_shape"
      ],
      "execution_count": 8,
      "outputs": [
        {
          "output_type": "execute_result",
          "data": {
            "text/plain": [
              "(TensorShape([]), TensorShape([]))"
            ]
          },
          "metadata": {
            "tags": []
          },
          "execution_count": 8
        }
      ]
    },
    {
      "cell_type": "markdown",
      "metadata": {
        "id": "YNUwFhOONvdZ"
      },
      "source": [
        "## Start with the modelling with TensorFlow\n",
        "\n",
        "1. **Creating a model** - define the input and output layers, as well as the hidden layers of the deep learning model.\n",
        "2. **Compiling a model** - define the loss function (in other words, the function which tells our model how worng it is) and the optimizer  (tells our model how to improve the patterns its learnings) and the evaluation metrics (what we can use to interpret the performance of our model).\n",
        "3. **Fitting a model** - letting the model try to find the patterns between X & y (features and labels)"
      ]
    },
    {
      "cell_type": "code",
      "metadata": {
        "colab": {
          "base_uri": "https://localhost:8080/"
        },
        "id": "hnS2sKMpQQY8",
        "outputId": "3deea0d3-3dab-40fc-9dcf-e9f6af1adedb"
      },
      "source": [
        "# Set the random seed\n",
        "tf.random.set_seed(42)\n",
        "\n",
        "# 1. Create a model using a Sequential API\n",
        "model = tf.keras.Sequential([tf.keras.layers.Dense(1)])\n",
        "\n",
        "# 2. Complie the model \n",
        "model.compile(loss=tf.keras.losses.mae,  # mae - mean absolute error\n",
        "              optimizer=tf.keras.optimizers.SGD(), # SGD - stochastic gradient desent\n",
        "              metrics=[\"mae\"])\n",
        "\n",
        "# 3. Fit the model \n",
        "model.fit(X, y, epochs=5)"
      ],
      "execution_count": 9,
      "outputs": [
        {
          "output_type": "stream",
          "text": [
            "Epoch 1/5\n",
            "1/1 [==============================] - 1s 526ms/step - loss: 11.5048 - mae: 11.5048\n",
            "Epoch 2/5\n",
            "1/1 [==============================] - 0s 6ms/step - loss: 11.3723 - mae: 11.3723\n",
            "Epoch 3/5\n",
            "1/1 [==============================] - 0s 4ms/step - loss: 11.2398 - mae: 11.2398\n",
            "Epoch 4/5\n",
            "1/1 [==============================] - 0s 6ms/step - loss: 11.1073 - mae: 11.1073\n",
            "Epoch 5/5\n",
            "1/1 [==============================] - 0s 5ms/step - loss: 10.9748 - mae: 10.9748\n"
          ],
          "name": "stdout"
        },
        {
          "output_type": "execute_result",
          "data": {
            "text/plain": [
              "<tensorflow.python.keras.callbacks.History at 0x7fc9a1717d50>"
            ]
          },
          "metadata": {
            "tags": []
          },
          "execution_count": 9
        }
      ]
    },
    {
      "cell_type": "code",
      "metadata": {
        "colab": {
          "base_uri": "https://localhost:8080/"
        },
        "id": "xHWTX-JYVUgC",
        "outputId": "b9cdb680-e8e1-472e-c9dd-b84bf45c59ce"
      },
      "source": [
        "# Check out X an y\n",
        "X, y"
      ],
      "execution_count": 10,
      "outputs": [
        {
          "output_type": "execute_result",
          "data": {
            "text/plain": [
              "(<tf.Tensor: shape=(8,), dtype=float64, numpy=array([-7., -4., -1.,  2.,  5.,  8., 11., 14.])>,\n",
              " <tf.Tensor: shape=(8,), dtype=float64, numpy=array([ 3.,  6.,  9., 12., 15., 18., 21., 24.])>)"
            ]
          },
          "metadata": {
            "tags": []
          },
          "execution_count": 10
        }
      ]
    },
    {
      "cell_type": "code",
      "metadata": {
        "colab": {
          "base_uri": "https://localhost:8080/"
        },
        "id": "vBAc8NE2Wv8w",
        "outputId": "8d995583-db78-40e9-b1c7-cd4e824447e1"
      },
      "source": [
        "# Try and make a prediction using our model\n",
        "y_pred = model.predict([17.0])\n",
        "y_pred"
      ],
      "execution_count": 11,
      "outputs": [
        {
          "output_type": "execute_result",
          "data": {
            "text/plain": [
              "array([[12.716021]], dtype=float32)"
            ]
          },
          "metadata": {
            "tags": []
          },
          "execution_count": 11
        }
      ]
    },
    {
      "cell_type": "code",
      "metadata": {
        "colab": {
          "base_uri": "https://localhost:8080/"
        },
        "id": "jidMMiJZW6V8",
        "outputId": "8aa9b7dc-19c3-49d2-877b-80f04a1f42be"
      },
      "source": [
        "y_pred + 11"
      ],
      "execution_count": 12,
      "outputs": [
        {
          "output_type": "execute_result",
          "data": {
            "text/plain": [
              "array([[23.71602]], dtype=float32)"
            ]
          },
          "metadata": {
            "tags": []
          },
          "execution_count": 12
        }
      ]
    },
    {
      "cell_type": "markdown",
      "metadata": {
        "id": "IG4QEMt2XLju"
      },
      "source": [
        "## Improving our model\n",
        "\n",
        "We can improve  out model by altering the steps we took to create a model.\n",
        "\n",
        "1. **Creating a model** - Here we might add more layers, increase the number of hidden units (all called neuraons) within each of the hidden layers, change the activation function of each layer.\n",
        "2. **Compling a model** - Here we might change the aptimization function or perhaps the **;eraning rate** of the optimization function.\n",
        "3. **Fitting a model** - Here we might fit a model for more **ephocs** (leave it traning for longer) or on more data (give the model more examples to learn form). \n",
        "\n",
        "\n",
        "-----------------------------------------------------------------------\n",
        "\n",
        "Here are some of the common ways to improve the deep model\n",
        "\n",
        "- Adding layers\n",
        "- Increase the number of hidden units\n",
        "- Change the activation functions \n",
        "- Change the optimization functions.\n",
        "- Change the learning Rate.\n",
        "- Fitting on more data\n",
        "\n",
        "------------------------------------------------------------------------"
      ]
    },
    {
      "cell_type": "code",
      "metadata": {
        "colab": {
          "base_uri": "https://localhost:8080/"
        },
        "id": "yvhza-0XXVyk",
        "outputId": "e5a5ef42-98b3-449d-e691-3b04e8173747"
      },
      "source": [
        "# Let's rebuild our model\n",
        "\n",
        "# 1. Create the model \n",
        "model = tf.keras.Sequential([tf.keras.layers.Dense(1)])\n",
        "\n",
        "# 2. Compile the model \n",
        "model.compile(loss = tf.keras.losses.mae, \n",
        "              optimizer = tf.keras.optimizers.SGD(),\n",
        "              metrics = \"mae\")\n",
        "\n",
        "# 3. Fit the model\n",
        "model.fit(X, y, epochs=100)\n"
      ],
      "execution_count": 13,
      "outputs": [
        {
          "output_type": "stream",
          "text": [
            "Epoch 1/100\n",
            "1/1 [==============================] - 0s 225ms/step - loss: 11.2219 - mae: 11.2219\n",
            "Epoch 2/100\n",
            "1/1 [==============================] - 0s 7ms/step - loss: 11.0894 - mae: 11.0894\n",
            "Epoch 3/100\n",
            "1/1 [==============================] - 0s 5ms/step - loss: 10.9569 - mae: 10.9569\n",
            "Epoch 4/100\n",
            "1/1 [==============================] - 0s 3ms/step - loss: 10.8244 - mae: 10.8244\n",
            "Epoch 5/100\n",
            "1/1 [==============================] - 0s 9ms/step - loss: 10.6919 - mae: 10.6919\n",
            "Epoch 6/100\n",
            "1/1 [==============================] - 0s 4ms/step - loss: 10.5594 - mae: 10.5594\n",
            "Epoch 7/100\n",
            "1/1 [==============================] - 0s 5ms/step - loss: 10.4269 - mae: 10.4269\n",
            "Epoch 8/100\n",
            "1/1 [==============================] - 0s 5ms/step - loss: 10.2944 - mae: 10.2944\n",
            "Epoch 9/100\n",
            "1/1 [==============================] - 0s 5ms/step - loss: 10.1619 - mae: 10.1619\n",
            "Epoch 10/100\n",
            "1/1 [==============================] - 0s 4ms/step - loss: 10.0294 - mae: 10.0294\n",
            "Epoch 11/100\n",
            "1/1 [==============================] - 0s 5ms/step - loss: 9.8969 - mae: 9.8969\n",
            "Epoch 12/100\n",
            "1/1 [==============================] - 0s 5ms/step - loss: 9.7644 - mae: 9.7644\n",
            "Epoch 13/100\n",
            "1/1 [==============================] - 0s 5ms/step - loss: 9.6319 - mae: 9.6319\n",
            "Epoch 14/100\n",
            "1/1 [==============================] - 0s 3ms/step - loss: 9.4994 - mae: 9.4994\n",
            "Epoch 15/100\n",
            "1/1 [==============================] - 0s 3ms/step - loss: 9.3669 - mae: 9.3669\n",
            "Epoch 16/100\n",
            "1/1 [==============================] - 0s 6ms/step - loss: 9.2344 - mae: 9.2344\n",
            "Epoch 17/100\n",
            "1/1 [==============================] - 0s 3ms/step - loss: 9.1019 - mae: 9.1019\n",
            "Epoch 18/100\n",
            "1/1 [==============================] - 0s 3ms/step - loss: 8.9694 - mae: 8.9694\n",
            "Epoch 19/100\n",
            "1/1 [==============================] - 0s 3ms/step - loss: 8.8369 - mae: 8.8369\n",
            "Epoch 20/100\n",
            "1/1 [==============================] - 0s 5ms/step - loss: 8.7044 - mae: 8.7044\n",
            "Epoch 21/100\n",
            "1/1 [==============================] - 0s 4ms/step - loss: 8.5719 - mae: 8.5719\n",
            "Epoch 22/100\n",
            "1/1 [==============================] - 0s 10ms/step - loss: 8.4394 - mae: 8.4394\n",
            "Epoch 23/100\n",
            "1/1 [==============================] - 0s 10ms/step - loss: 8.3069 - mae: 8.3069\n",
            "Epoch 24/100\n",
            "1/1 [==============================] - 0s 6ms/step - loss: 8.1744 - mae: 8.1744\n",
            "Epoch 25/100\n",
            "1/1 [==============================] - 0s 6ms/step - loss: 8.0419 - mae: 8.0419\n",
            "Epoch 26/100\n",
            "1/1 [==============================] - 0s 7ms/step - loss: 7.9094 - mae: 7.9094\n",
            "Epoch 27/100\n",
            "1/1 [==============================] - 0s 3ms/step - loss: 7.7769 - mae: 7.7769\n",
            "Epoch 28/100\n",
            "1/1 [==============================] - 0s 3ms/step - loss: 7.6444 - mae: 7.6444\n",
            "Epoch 29/100\n",
            "1/1 [==============================] - 0s 4ms/step - loss: 7.5119 - mae: 7.5119\n",
            "Epoch 30/100\n",
            "1/1 [==============================] - 0s 4ms/step - loss: 7.3794 - mae: 7.3794\n",
            "Epoch 31/100\n",
            "1/1 [==============================] - 0s 4ms/step - loss: 7.2750 - mae: 7.2750\n",
            "Epoch 32/100\n",
            "1/1 [==============================] - 0s 3ms/step - loss: 7.2694 - mae: 7.2694\n",
            "Epoch 33/100\n",
            "1/1 [==============================] - 0s 4ms/step - loss: 7.2638 - mae: 7.2638\n",
            "Epoch 34/100\n",
            "1/1 [==============================] - 0s 11ms/step - loss: 7.2581 - mae: 7.2581\n",
            "Epoch 35/100\n",
            "1/1 [==============================] - 0s 7ms/step - loss: 7.2525 - mae: 7.2525\n",
            "Epoch 36/100\n",
            "1/1 [==============================] - 0s 10ms/step - loss: 7.2469 - mae: 7.2469\n",
            "Epoch 37/100\n",
            "1/1 [==============================] - 0s 8ms/step - loss: 7.2413 - mae: 7.2413\n",
            "Epoch 38/100\n",
            "1/1 [==============================] - 0s 4ms/step - loss: 7.2356 - mae: 7.2356\n",
            "Epoch 39/100\n",
            "1/1 [==============================] - 0s 6ms/step - loss: 7.2300 - mae: 7.2300\n",
            "Epoch 40/100\n",
            "1/1 [==============================] - 0s 6ms/step - loss: 7.2244 - mae: 7.2244\n",
            "Epoch 41/100\n",
            "1/1 [==============================] - 0s 6ms/step - loss: 7.2188 - mae: 7.2188\n",
            "Epoch 42/100\n",
            "1/1 [==============================] - 0s 5ms/step - loss: 7.2131 - mae: 7.2131\n",
            "Epoch 43/100\n",
            "1/1 [==============================] - 0s 8ms/step - loss: 7.2075 - mae: 7.2075\n",
            "Epoch 44/100\n",
            "1/1 [==============================] - 0s 6ms/step - loss: 7.2019 - mae: 7.2019\n",
            "Epoch 45/100\n",
            "1/1 [==============================] - 0s 5ms/step - loss: 7.1962 - mae: 7.1962\n",
            "Epoch 46/100\n",
            "1/1 [==============================] - 0s 8ms/step - loss: 7.1906 - mae: 7.1906\n",
            "Epoch 47/100\n",
            "1/1 [==============================] - 0s 4ms/step - loss: 7.1850 - mae: 7.1850\n",
            "Epoch 48/100\n",
            "1/1 [==============================] - 0s 4ms/step - loss: 7.1794 - mae: 7.1794\n",
            "Epoch 49/100\n",
            "1/1 [==============================] - 0s 5ms/step - loss: 7.1737 - mae: 7.1737\n",
            "Epoch 50/100\n",
            "1/1 [==============================] - 0s 4ms/step - loss: 7.1681 - mae: 7.1681\n",
            "Epoch 51/100\n",
            "1/1 [==============================] - 0s 5ms/step - loss: 7.1625 - mae: 7.1625\n",
            "Epoch 52/100\n",
            "1/1 [==============================] - 0s 6ms/step - loss: 7.1569 - mae: 7.1569\n",
            "Epoch 53/100\n",
            "1/1 [==============================] - 0s 7ms/step - loss: 7.1512 - mae: 7.1512\n",
            "Epoch 54/100\n",
            "1/1 [==============================] - 0s 8ms/step - loss: 7.1456 - mae: 7.1456\n",
            "Epoch 55/100\n",
            "1/1 [==============================] - 0s 8ms/step - loss: 7.1400 - mae: 7.1400\n",
            "Epoch 56/100\n",
            "1/1 [==============================] - 0s 7ms/step - loss: 7.1344 - mae: 7.1344\n",
            "Epoch 57/100\n",
            "1/1 [==============================] - 0s 8ms/step - loss: 7.1287 - mae: 7.1287\n",
            "Epoch 58/100\n",
            "1/1 [==============================] - 0s 7ms/step - loss: 7.1231 - mae: 7.1231\n",
            "Epoch 59/100\n",
            "1/1 [==============================] - 0s 7ms/step - loss: 7.1175 - mae: 7.1175\n",
            "Epoch 60/100\n",
            "1/1 [==============================] - 0s 7ms/step - loss: 7.1119 - mae: 7.1119\n",
            "Epoch 61/100\n",
            "1/1 [==============================] - 0s 4ms/step - loss: 7.1062 - mae: 7.1062\n",
            "Epoch 62/100\n",
            "1/1 [==============================] - 0s 8ms/step - loss: 7.1006 - mae: 7.1006\n",
            "Epoch 63/100\n",
            "1/1 [==============================] - 0s 10ms/step - loss: 7.0950 - mae: 7.0950\n",
            "Epoch 64/100\n",
            "1/1 [==============================] - 0s 6ms/step - loss: 7.0894 - mae: 7.0894\n",
            "Epoch 65/100\n",
            "1/1 [==============================] - 0s 4ms/step - loss: 7.0838 - mae: 7.0838\n",
            "Epoch 66/100\n",
            "1/1 [==============================] - 0s 15ms/step - loss: 7.0781 - mae: 7.0781\n",
            "Epoch 67/100\n",
            "1/1 [==============================] - 0s 6ms/step - loss: 7.0725 - mae: 7.0725\n",
            "Epoch 68/100\n",
            "1/1 [==============================] - 0s 4ms/step - loss: 7.0669 - mae: 7.0669\n",
            "Epoch 69/100\n",
            "1/1 [==============================] - 0s 6ms/step - loss: 7.0613 - mae: 7.0613\n",
            "Epoch 70/100\n",
            "1/1 [==============================] - 0s 3ms/step - loss: 7.0556 - mae: 7.0556\n",
            "Epoch 71/100\n",
            "1/1 [==============================] - 0s 7ms/step - loss: 7.0500 - mae: 7.0500\n",
            "Epoch 72/100\n",
            "1/1 [==============================] - 0s 5ms/step - loss: 7.0444 - mae: 7.0444\n",
            "Epoch 73/100\n",
            "1/1 [==============================] - 0s 5ms/step - loss: 7.0388 - mae: 7.0388\n",
            "Epoch 74/100\n",
            "1/1 [==============================] - 0s 7ms/step - loss: 7.0331 - mae: 7.0331\n",
            "Epoch 75/100\n",
            "1/1 [==============================] - 0s 6ms/step - loss: 7.0275 - mae: 7.0275\n",
            "Epoch 76/100\n",
            "1/1 [==============================] - 0s 5ms/step - loss: 7.0219 - mae: 7.0219\n",
            "Epoch 77/100\n",
            "1/1 [==============================] - 0s 7ms/step - loss: 7.0163 - mae: 7.0163\n",
            "Epoch 78/100\n",
            "1/1 [==============================] - 0s 4ms/step - loss: 7.0106 - mae: 7.0106\n",
            "Epoch 79/100\n",
            "1/1 [==============================] - 0s 4ms/step - loss: 7.0050 - mae: 7.0050\n",
            "Epoch 80/100\n",
            "1/1 [==============================] - 0s 5ms/step - loss: 6.9994 - mae: 6.9994\n",
            "Epoch 81/100\n",
            "1/1 [==============================] - 0s 5ms/step - loss: 6.9938 - mae: 6.9938\n",
            "Epoch 82/100\n",
            "1/1 [==============================] - 0s 4ms/step - loss: 6.9881 - mae: 6.9881\n",
            "Epoch 83/100\n",
            "1/1 [==============================] - 0s 6ms/step - loss: 6.9825 - mae: 6.9825\n",
            "Epoch 84/100\n",
            "1/1 [==============================] - 0s 5ms/step - loss: 6.9769 - mae: 6.9769\n",
            "Epoch 85/100\n",
            "1/1 [==============================] - 0s 5ms/step - loss: 6.9713 - mae: 6.9713\n",
            "Epoch 86/100\n",
            "1/1 [==============================] - 0s 4ms/step - loss: 6.9656 - mae: 6.9656\n",
            "Epoch 87/100\n",
            "1/1 [==============================] - 0s 4ms/step - loss: 6.9600 - mae: 6.9600\n",
            "Epoch 88/100\n",
            "1/1 [==============================] - 0s 7ms/step - loss: 6.9544 - mae: 6.9544\n",
            "Epoch 89/100\n",
            "1/1 [==============================] - 0s 5ms/step - loss: 6.9488 - mae: 6.9488\n",
            "Epoch 90/100\n",
            "1/1 [==============================] - 0s 4ms/step - loss: 6.9431 - mae: 6.9431\n",
            "Epoch 91/100\n",
            "1/1 [==============================] - 0s 5ms/step - loss: 6.9375 - mae: 6.9375\n",
            "Epoch 92/100\n",
            "1/1 [==============================] - 0s 4ms/step - loss: 6.9319 - mae: 6.9319\n",
            "Epoch 93/100\n",
            "1/1 [==============================] - 0s 12ms/step - loss: 6.9262 - mae: 6.9262\n",
            "Epoch 94/100\n",
            "1/1 [==============================] - 0s 4ms/step - loss: 6.9206 - mae: 6.9206\n",
            "Epoch 95/100\n",
            "1/1 [==============================] - 0s 4ms/step - loss: 6.9150 - mae: 6.9150\n",
            "Epoch 96/100\n",
            "1/1 [==============================] - 0s 5ms/step - loss: 6.9094 - mae: 6.9094\n",
            "Epoch 97/100\n",
            "1/1 [==============================] - 0s 7ms/step - loss: 6.9038 - mae: 6.9038\n",
            "Epoch 98/100\n",
            "1/1 [==============================] - 0s 8ms/step - loss: 6.8981 - mae: 6.8981\n",
            "Epoch 99/100\n",
            "1/1 [==============================] - 0s 6ms/step - loss: 6.8925 - mae: 6.8925\n",
            "Epoch 100/100\n",
            "1/1 [==============================] - 0s 3ms/step - loss: 6.8869 - mae: 6.8869\n"
          ],
          "name": "stdout"
        },
        {
          "output_type": "execute_result",
          "data": {
            "text/plain": [
              "<tensorflow.python.keras.callbacks.History at 0x7fc9dcb1e250>"
            ]
          },
          "metadata": {
            "tags": []
          },
          "execution_count": 13
        }
      ]
    },
    {
      "cell_type": "code",
      "metadata": {
        "colab": {
          "base_uri": "https://localhost:8080/"
        },
        "id": "e7SMwK0egL3N",
        "outputId": "0a668980-78d0-4ebe-ba5e-6c33fbcbce3a"
      },
      "source": [
        "# Remind  ourselves of the data\n",
        "X, y"
      ],
      "execution_count": 14,
      "outputs": [
        {
          "output_type": "execute_result",
          "data": {
            "text/plain": [
              "(<tf.Tensor: shape=(8,), dtype=float64, numpy=array([-7., -4., -1.,  2.,  5.,  8., 11., 14.])>,\n",
              " <tf.Tensor: shape=(8,), dtype=float64, numpy=array([ 3.,  6.,  9., 12., 15., 18., 21., 24.])>)"
            ]
          },
          "metadata": {
            "tags": []
          },
          "execution_count": 14
        }
      ]
    },
    {
      "cell_type": "code",
      "metadata": {
        "colab": {
          "base_uri": "https://localhost:8080/"
        },
        "id": "6QLNFl7Ygmv3",
        "outputId": "46f10787-0040-406e-c0b6-9ff8eb287385"
      },
      "source": [
        "# Let's see if our models prediction has imporved \n",
        "model.predict([17.0])"
      ],
      "execution_count": 15,
      "outputs": [
        {
          "output_type": "execute_result",
          "data": {
            "text/plain": [
              "array([[29.739855]], dtype=float32)"
            ]
          },
          "metadata": {
            "tags": []
          },
          "execution_count": 15
        }
      ]
    },
    {
      "cell_type": "code",
      "metadata": {
        "colab": {
          "base_uri": "https://localhost:8080/"
        },
        "id": "i3q2PQq9gvOo",
        "outputId": "29ecee57-1d6b-4320-e28d-1cb4b6190ea0"
      },
      "source": [
        "# Let's see if we can make another to imoprove our model\n",
        "\n",
        "# 1. Create the model  (this time with the extra hidden layer with 100 hidden units)\n",
        "model = tf.keras.Sequential([\n",
        "    tf.keras.layers.Dense(100, activation=\"relu\"),\n",
        "    tf.keras.layers.Dense(1)\n",
        "    ])\n",
        "\n",
        "# 2. Compile the model \n",
        "model.compile(loss = \"mae\", \n",
        "              optimizer = tf.keras.optimizers.Adam(lr=0.01),\n",
        "              metrics = \"mae\")\n",
        "\n",
        "# 3. Fit the model\n",
        "model.fit(X, y, epochs=100)"
      ],
      "execution_count": 16,
      "outputs": [
        {
          "output_type": "stream",
          "text": [
            "Epoch 1/100\n",
            "1/1 [==============================] - 0s 361ms/step - loss: 12.3193 - mae: 12.3193\n",
            "Epoch 2/100\n",
            "1/1 [==============================] - 0s 5ms/step - loss: 11.5062 - mae: 11.5062\n",
            "Epoch 3/100\n",
            "1/1 [==============================] - 0s 5ms/step - loss: 10.6739 - mae: 10.6739\n",
            "Epoch 4/100\n",
            "1/1 [==============================] - 0s 5ms/step - loss: 9.8419 - mae: 9.8419\n",
            "Epoch 5/100\n",
            "1/1 [==============================] - 0s 4ms/step - loss: 8.9961 - mae: 8.9961\n",
            "Epoch 6/100\n",
            "1/1 [==============================] - 0s 3ms/step - loss: 8.1346 - mae: 8.1346\n",
            "Epoch 7/100\n",
            "1/1 [==============================] - 0s 4ms/step - loss: 7.4052 - mae: 7.4052\n",
            "Epoch 8/100\n",
            "1/1 [==============================] - 0s 4ms/step - loss: 6.6763 - mae: 6.6763\n",
            "Epoch 9/100\n",
            "1/1 [==============================] - 0s 4ms/step - loss: 5.9140 - mae: 5.9140\n",
            "Epoch 10/100\n",
            "1/1 [==============================] - 0s 4ms/step - loss: 5.1124 - mae: 5.1124\n",
            "Epoch 11/100\n",
            "1/1 [==============================] - 0s 4ms/step - loss: 4.2652 - mae: 4.2652\n",
            "Epoch 12/100\n",
            "1/1 [==============================] - 0s 4ms/step - loss: 3.8460 - mae: 3.8460\n",
            "Epoch 13/100\n",
            "1/1 [==============================] - 0s 4ms/step - loss: 3.9257 - mae: 3.9257\n",
            "Epoch 14/100\n",
            "1/1 [==============================] - 0s 5ms/step - loss: 4.0900 - mae: 4.0900\n",
            "Epoch 15/100\n",
            "1/1 [==============================] - 0s 6ms/step - loss: 4.4781 - mae: 4.4781\n",
            "Epoch 16/100\n",
            "1/1 [==============================] - 0s 5ms/step - loss: 4.7607 - mae: 4.7607\n",
            "Epoch 17/100\n",
            "1/1 [==============================] - 0s 11ms/step - loss: 4.9264 - mae: 4.9264\n",
            "Epoch 18/100\n",
            "1/1 [==============================] - 0s 5ms/step - loss: 4.9894 - mae: 4.9894\n",
            "Epoch 19/100\n",
            "1/1 [==============================] - 0s 7ms/step - loss: 4.9672 - mae: 4.9672\n",
            "Epoch 20/100\n",
            "1/1 [==============================] - 0s 5ms/step - loss: 4.8677 - mae: 4.8677\n",
            "Epoch 21/100\n",
            "1/1 [==============================] - 0s 9ms/step - loss: 4.7046 - mae: 4.7046\n",
            "Epoch 22/100\n",
            "1/1 [==============================] - 0s 5ms/step - loss: 4.4897 - mae: 4.4897\n",
            "Epoch 23/100\n",
            "1/1 [==============================] - 0s 5ms/step - loss: 4.2326 - mae: 4.2326\n",
            "Epoch 24/100\n",
            "1/1 [==============================] - 0s 6ms/step - loss: 3.9418 - mae: 3.9418\n",
            "Epoch 25/100\n",
            "1/1 [==============================] - 0s 5ms/step - loss: 3.7886 - mae: 3.7886\n",
            "Epoch 26/100\n",
            "1/1 [==============================] - 0s 5ms/step - loss: 3.6632 - mae: 3.6632\n",
            "Epoch 27/100\n",
            "1/1 [==============================] - 0s 4ms/step - loss: 3.5393 - mae: 3.5393\n",
            "Epoch 28/100\n",
            "1/1 [==============================] - 0s 15ms/step - loss: 3.5531 - mae: 3.5531\n",
            "Epoch 29/100\n",
            "1/1 [==============================] - 0s 6ms/step - loss: 3.6208 - mae: 3.6208\n",
            "Epoch 30/100\n",
            "1/1 [==============================] - 0s 8ms/step - loss: 3.6576 - mae: 3.6576\n",
            "Epoch 31/100\n",
            "1/1 [==============================] - 0s 9ms/step - loss: 3.7506 - mae: 3.7506\n",
            "Epoch 32/100\n",
            "1/1 [==============================] - 0s 4ms/step - loss: 3.7092 - mae: 3.7092\n",
            "Epoch 33/100\n",
            "1/1 [==============================] - 0s 6ms/step - loss: 3.5338 - mae: 3.5338\n",
            "Epoch 34/100\n",
            "1/1 [==============================] - 0s 8ms/step - loss: 3.4270 - mae: 3.4270\n",
            "Epoch 35/100\n",
            "1/1 [==============================] - 0s 5ms/step - loss: 3.3004 - mae: 3.3004\n",
            "Epoch 36/100\n",
            "1/1 [==============================] - 0s 7ms/step - loss: 3.1545 - mae: 3.1545\n",
            "Epoch 37/100\n",
            "1/1 [==============================] - 0s 4ms/step - loss: 3.0648 - mae: 3.0648\n",
            "Epoch 38/100\n",
            "1/1 [==============================] - 0s 8ms/step - loss: 3.0459 - mae: 3.0459\n",
            "Epoch 39/100\n",
            "1/1 [==============================] - 0s 5ms/step - loss: 3.0209 - mae: 3.0209\n",
            "Epoch 40/100\n",
            "1/1 [==============================] - 0s 6ms/step - loss: 3.0347 - mae: 3.0347\n",
            "Epoch 41/100\n",
            "1/1 [==============================] - 0s 4ms/step - loss: 2.9867 - mae: 2.9867\n",
            "Epoch 42/100\n",
            "1/1 [==============================] - 0s 4ms/step - loss: 2.8888 - mae: 2.8888\n",
            "Epoch 43/100\n",
            "1/1 [==============================] - 0s 4ms/step - loss: 2.8175 - mae: 2.8175\n",
            "Epoch 44/100\n",
            "1/1 [==============================] - 0s 6ms/step - loss: 2.7250 - mae: 2.7250\n",
            "Epoch 45/100\n",
            "1/1 [==============================] - 0s 6ms/step - loss: 2.6173 - mae: 2.6173\n",
            "Epoch 46/100\n",
            "1/1 [==============================] - 0s 6ms/step - loss: 2.5069 - mae: 2.5069\n",
            "Epoch 47/100\n",
            "1/1 [==============================] - 0s 5ms/step - loss: 2.4002 - mae: 2.4002\n",
            "Epoch 48/100\n",
            "1/1 [==============================] - 0s 12ms/step - loss: 2.2894 - mae: 2.2894\n",
            "Epoch 49/100\n",
            "1/1 [==============================] - 0s 5ms/step - loss: 2.1712 - mae: 2.1712\n",
            "Epoch 50/100\n",
            "1/1 [==============================] - 0s 5ms/step - loss: 2.0403 - mae: 2.0403\n",
            "Epoch 51/100\n",
            "1/1 [==============================] - 0s 7ms/step - loss: 1.9989 - mae: 1.9989\n",
            "Epoch 52/100\n",
            "1/1 [==============================] - 0s 8ms/step - loss: 1.8724 - mae: 1.8724\n",
            "Epoch 53/100\n",
            "1/1 [==============================] - 0s 8ms/step - loss: 1.7025 - mae: 1.7025\n",
            "Epoch 54/100\n",
            "1/1 [==============================] - 0s 4ms/step - loss: 1.5747 - mae: 1.5747\n",
            "Epoch 55/100\n",
            "1/1 [==============================] - 0s 10ms/step - loss: 1.4753 - mae: 1.4753\n",
            "Epoch 56/100\n",
            "1/1 [==============================] - 0s 14ms/step - loss: 1.3545 - mae: 1.3545\n",
            "Epoch 57/100\n",
            "1/1 [==============================] - 0s 7ms/step - loss: 1.2393 - mae: 1.2393\n",
            "Epoch 58/100\n",
            "1/1 [==============================] - 0s 6ms/step - loss: 1.0315 - mae: 1.0315\n",
            "Epoch 59/100\n",
            "1/1 [==============================] - 0s 7ms/step - loss: 0.8339 - mae: 0.8339\n",
            "Epoch 60/100\n",
            "1/1 [==============================] - 0s 8ms/step - loss: 0.6625 - mae: 0.6625\n",
            "Epoch 61/100\n",
            "1/1 [==============================] - 0s 6ms/step - loss: 0.5088 - mae: 0.5088\n",
            "Epoch 62/100\n",
            "1/1 [==============================] - 0s 6ms/step - loss: 0.3310 - mae: 0.3310\n",
            "Epoch 63/100\n",
            "1/1 [==============================] - 0s 7ms/step - loss: 0.3307 - mae: 0.3307\n",
            "Epoch 64/100\n",
            "1/1 [==============================] - 0s 5ms/step - loss: 0.3330 - mae: 0.3330\n",
            "Epoch 65/100\n",
            "1/1 [==============================] - 0s 6ms/step - loss: 0.2128 - mae: 0.2128\n",
            "Epoch 66/100\n",
            "1/1 [==============================] - 0s 5ms/step - loss: 0.6744 - mae: 0.6744\n",
            "Epoch 67/100\n",
            "1/1 [==============================] - 0s 5ms/step - loss: 0.6279 - mae: 0.6279\n",
            "Epoch 68/100\n",
            "1/1 [==============================] - 0s 6ms/step - loss: 0.6084 - mae: 0.6084\n",
            "Epoch 69/100\n",
            "1/1 [==============================] - 0s 4ms/step - loss: 0.7256 - mae: 0.7256\n",
            "Epoch 70/100\n",
            "1/1 [==============================] - 0s 6ms/step - loss: 0.6237 - mae: 0.6237\n",
            "Epoch 71/100\n",
            "1/1 [==============================] - 0s 4ms/step - loss: 0.3927 - mae: 0.3927\n",
            "Epoch 72/100\n",
            "1/1 [==============================] - 0s 8ms/step - loss: 0.5721 - mae: 0.5721\n",
            "Epoch 73/100\n",
            "1/1 [==============================] - 0s 5ms/step - loss: 0.6973 - mae: 0.6973\n",
            "Epoch 74/100\n",
            "1/1 [==============================] - 0s 6ms/step - loss: 0.4928 - mae: 0.4928\n",
            "Epoch 75/100\n",
            "1/1 [==============================] - 0s 7ms/step - loss: 0.5584 - mae: 0.5584\n",
            "Epoch 76/100\n",
            "1/1 [==============================] - 0s 7ms/step - loss: 0.5706 - mae: 0.5706\n",
            "Epoch 77/100\n",
            "1/1 [==============================] - 0s 6ms/step - loss: 0.4548 - mae: 0.4548\n",
            "Epoch 78/100\n",
            "1/1 [==============================] - 0s 6ms/step - loss: 0.2731 - mae: 0.2731\n",
            "Epoch 79/100\n",
            "1/1 [==============================] - 0s 6ms/step - loss: 0.6350 - mae: 0.6350\n",
            "Epoch 80/100\n",
            "1/1 [==============================] - 0s 6ms/step - loss: 0.7159 - mae: 0.7159\n",
            "Epoch 81/100\n",
            "1/1 [==============================] - 0s 6ms/step - loss: 0.4848 - mae: 0.4848\n",
            "Epoch 82/100\n",
            "1/1 [==============================] - 0s 7ms/step - loss: 0.1989 - mae: 0.1989\n",
            "Epoch 83/100\n",
            "1/1 [==============================] - 0s 6ms/step - loss: 0.3395 - mae: 0.3395\n",
            "Epoch 84/100\n",
            "1/1 [==============================] - 0s 5ms/step - loss: 0.2128 - mae: 0.2128\n",
            "Epoch 85/100\n",
            "1/1 [==============================] - 0s 5ms/step - loss: 0.3692 - mae: 0.3692\n",
            "Epoch 86/100\n",
            "1/1 [==============================] - 0s 6ms/step - loss: 0.4717 - mae: 0.4717\n",
            "Epoch 87/100\n",
            "1/1 [==============================] - 0s 8ms/step - loss: 0.3324 - mae: 0.3324\n",
            "Epoch 88/100\n",
            "1/1 [==============================] - 0s 8ms/step - loss: 0.2551 - mae: 0.2551\n",
            "Epoch 89/100\n",
            "1/1 [==============================] - 0s 7ms/step - loss: 0.3310 - mae: 0.3310\n",
            "Epoch 90/100\n",
            "1/1 [==============================] - 0s 23ms/step - loss: 0.2381 - mae: 0.2381\n",
            "Epoch 91/100\n",
            "1/1 [==============================] - 0s 6ms/step - loss: 0.2594 - mae: 0.2594\n",
            "Epoch 92/100\n",
            "1/1 [==============================] - 0s 6ms/step - loss: 0.2367 - mae: 0.2367\n",
            "Epoch 93/100\n",
            "1/1 [==============================] - 0s 7ms/step - loss: 0.1750 - mae: 0.1750\n",
            "Epoch 94/100\n",
            "1/1 [==============================] - 0s 4ms/step - loss: 0.2303 - mae: 0.2303\n",
            "Epoch 95/100\n",
            "1/1 [==============================] - 0s 8ms/step - loss: 0.1337 - mae: 0.1337\n",
            "Epoch 96/100\n",
            "1/1 [==============================] - 0s 4ms/step - loss: 0.1930 - mae: 0.1930\n",
            "Epoch 97/100\n",
            "1/1 [==============================] - 0s 14ms/step - loss: 0.1099 - mae: 0.1099\n",
            "Epoch 98/100\n",
            "1/1 [==============================] - 0s 6ms/step - loss: 0.2055 - mae: 0.2055\n",
            "Epoch 99/100\n",
            "1/1 [==============================] - 0s 14ms/step - loss: 0.1987 - mae: 0.1987\n",
            "Epoch 100/100\n",
            "1/1 [==============================] - 0s 9ms/step - loss: 0.2265 - mae: 0.2265\n"
          ],
          "name": "stdout"
        },
        {
          "output_type": "execute_result",
          "data": {
            "text/plain": [
              "<tensorflow.python.keras.callbacks.History at 0x7fc93be2dd90>"
            ]
          },
          "metadata": {
            "tags": []
          },
          "execution_count": 16
        }
      ]
    },
    {
      "cell_type": "markdown",
      "metadata": {
        "id": "uBfrqdrgNl3t"
      },
      "source": [
        "***Note***: *The learning rate is the most important parameter of the many different neural networks.*\n",
        "\n"
      ]
    },
    {
      "cell_type": "code",
      "metadata": {
        "colab": {
          "base_uri": "https://localhost:8080/"
        },
        "id": "y5Fe6GxChJCQ",
        "outputId": "c7ad59af-8429-4fad-c8e6-e047b0cf9b0f"
      },
      "source": [
        "# Let's remind  ourselves of the data\n",
        "X, y"
      ],
      "execution_count": 17,
      "outputs": [
        {
          "output_type": "execute_result",
          "data": {
            "text/plain": [
              "(<tf.Tensor: shape=(8,), dtype=float64, numpy=array([-7., -4., -1.,  2.,  5.,  8., 11., 14.])>,\n",
              " <tf.Tensor: shape=(8,), dtype=float64, numpy=array([ 3.,  6.,  9., 12., 15., 18., 21., 24.])>)"
            ]
          },
          "metadata": {
            "tags": []
          },
          "execution_count": 17
        }
      ]
    },
    {
      "cell_type": "code",
      "metadata": {
        "colab": {
          "base_uri": "https://localhost:8080/"
        },
        "id": "SIlh-U1biRzh",
        "outputId": "eed4ade9-bfaf-40ee-fd1d-c993eb1d90c4"
      },
      "source": [
        "# Let's try to make the prediction\n",
        "model.predict([17.0])"
      ],
      "execution_count": 18,
      "outputs": [
        {
          "output_type": "execute_result",
          "data": {
            "text/plain": [
              "array([[27.159252]], dtype=float32)"
            ]
          },
          "metadata": {
            "tags": []
          },
          "execution_count": 18
        }
      ]
    },
    {
      "cell_type": "markdown",
      "metadata": {
        "id": "i38E7syUibCQ"
      },
      "source": [
        "## Evaluating a model\n",
        "\n",
        "In a practice, a typical workflow you'll go through when building a neural network is:\n",
        "\n",
        "```\n",
        "Build a model -> fit it --> evaulate it --> tweak a model --> fit it --> evaluate it --> tweak a model --> fit it --> evaluate it...\n",
        "```"
      ]
    },
    {
      "cell_type": "markdown",
      "metadata": {
        "id": "G1o5b5DZKIFl"
      },
      "source": [
        "When it comes to evalution... there are 3 words you should memorize\":\n",
        "\n",
        "> \"Visualize, visualize, visualize\"\n",
        "\n",
        "It's a good idea to visualize:\n",
        "\n",
        "- **The data** - What data are we working with? What does it look like?\n",
        "-**The model itself** - What does our model look like?\n",
        "- **The training model** - How does a model performs while it lears?\n",
        "- **The predictions** - How do the predictions of a model line up against the ground truth (the original labels)?\n"
      ]
    },
    {
      "cell_type": "code",
      "metadata": {
        "id": "nK7ez7hu9dFP",
        "colab": {
          "base_uri": "https://localhost:8080/"
        },
        "outputId": "c22442b5-ca71-4d08-e2c0-8e180d724624"
      },
      "source": [
        "# Make a bigger dataset\n",
        "\n",
        "X = tf.range(-100, 100, 4)\n",
        "X"
      ],
      "execution_count": 19,
      "outputs": [
        {
          "output_type": "execute_result",
          "data": {
            "text/plain": [
              "<tf.Tensor: shape=(50,), dtype=int32, numpy=\n",
              "array([-100,  -96,  -92,  -88,  -84,  -80,  -76,  -72,  -68,  -64,  -60,\n",
              "        -56,  -52,  -48,  -44,  -40,  -36,  -32,  -28,  -24,  -20,  -16,\n",
              "        -12,   -8,   -4,    0,    4,    8,   12,   16,   20,   24,   28,\n",
              "         32,   36,   40,   44,   48,   52,   56,   60,   64,   68,   72,\n",
              "         76,   80,   84,   88,   92,   96], dtype=int32)>"
            ]
          },
          "metadata": {
            "tags": []
          },
          "execution_count": 19
        }
      ]
    },
    {
      "cell_type": "code",
      "metadata": {
        "id": "6wY6qFJr9dH-",
        "colab": {
          "base_uri": "https://localhost:8080/"
        },
        "outputId": "dfabca25-f58f-40e2-f6d7-bc8295957644"
      },
      "source": [
        "# Make the labels for the dataset\n",
        "y = X + 10\n",
        "y"
      ],
      "execution_count": 20,
      "outputs": [
        {
          "output_type": "execute_result",
          "data": {
            "text/plain": [
              "<tf.Tensor: shape=(50,), dtype=int32, numpy=\n",
              "array([-90, -86, -82, -78, -74, -70, -66, -62, -58, -54, -50, -46, -42,\n",
              "       -38, -34, -30, -26, -22, -18, -14, -10,  -6,  -2,   2,   6,  10,\n",
              "        14,  18,  22,  26,  30,  34,  38,  42,  46,  50,  54,  58,  62,\n",
              "        66,  70,  74,  78,  82,  86,  90,  94,  98, 102, 106], dtype=int32)>"
            ]
          },
          "metadata": {
            "tags": []
          },
          "execution_count": 20
        }
      ]
    },
    {
      "cell_type": "code",
      "metadata": {
        "colab": {
          "base_uri": "https://localhost:8080/",
          "height": 282
        },
        "id": "PXTTkwFPW8aF",
        "outputId": "a54c4fa1-d71d-4ef0-e8b5-cfde078aaa53"
      },
      "source": [
        "# Visualize the data\n",
        "import matplotlib.pyplot as plt\n",
        "plt.plot(X, y)"
      ],
      "execution_count": 21,
      "outputs": [
        {
          "output_type": "execute_result",
          "data": {
            "text/plain": [
              "[<matplotlib.lines.Line2D at 0x7fc93acdfa90>]"
            ]
          },
          "metadata": {
            "tags": []
          },
          "execution_count": 21
        },
        {
          "output_type": "display_data",
          "data": {
            "image/png": "[encoded data removed]",
            "text/plain": [
              "<Figure size 432x288 with 1 Axes>"
            ]
          },
          "metadata": {
            "tags": [],
            "needs_background": "light"
          }
        }
      ]
    },
    {
      "cell_type": "code",
      "metadata": {
        "colab": {
          "base_uri": "https://localhost:8080/",
          "height": 282
        },
        "id": "jFRvvq2cXDi1",
        "outputId": "a2a82519-643e-4f2d-d4fc-e4c9b1656050"
      },
      "source": [
        "plt.scatter(X, y)"
      ],
      "execution_count": 22,
      "outputs": [
        {
          "output_type": "execute_result",
          "data": {
            "text/plain": [
              "<matplotlib.collections.PathCollection at 0x7fc939bd5450>"
            ]
          },
          "metadata": {
            "tags": []
          },
          "execution_count": 22
        },
        {
          "output_type": "display_data",
          "data": {
            "image/png": "[encoded data removed]",
            "text/plain": [
              "<Figure size 432x288 with 1 Axes>"
            ]
          },
          "metadata": {
            "tags": [],
            "needs_background": "light"
          }
        }
      ]
    },
    {
      "cell_type": "markdown",
      "metadata": {
        "id": "YIobFXV1XE_t"
      },
      "source": [
        "### The 3 sets\n",
        "\n",
        "- **Training set** - The model learns on this data, which is typically 70-80% of the total data you have available.\n",
        "- **Validation set** - The model get tuned in this data which is typically 10-15% of the data available.\n",
        "- **Test set** - The model get evaluated in the data to test what is has learned, this set is typically 10-15% of the total data available.\n",
        "\n"
      ]
    },
    {
      "cell_type": "code",
      "metadata": {
        "colab": {
          "base_uri": "https://localhost:8080/"
        },
        "id": "qXwZcMiaYRXY",
        "outputId": "40fcb5f2-c1ec-4abb-8307-9e7f54937d09"
      },
      "source": [
        "# Chec k the length of the no.of samples we have\n",
        "len(X)"
      ],
      "execution_count": 23,
      "outputs": [
        {
          "output_type": "execute_result",
          "data": {
            "text/plain": [
              "50"
            ]
          },
          "metadata": {
            "tags": []
          },
          "execution_count": 23
        }
      ]
    },
    {
      "cell_type": "code",
      "metadata": {
        "colab": {
          "base_uri": "https://localhost:8080/"
        },
        "id": "ZlT6MQs_YyeU",
        "outputId": "66849a0e-f77b-4561-941d-53076ccce5fa"
      },
      "source": [
        "# Split the data into train and test set\n",
        "X_train = X[:40] # First 40 are training samples (80% of the data)\n",
        "y_train = y[:40]\n",
        "X_test = X[40:] # Last 10 are the testing samples (20% of the data)\n",
        "y_test = y[40:]\n",
        "\n",
        "len(X_train), len(X_test), len(y_train), len(y_test)"
      ],
      "execution_count": 24,
      "outputs": [
        {
          "output_type": "execute_result",
          "data": {
            "text/plain": [
              "(40, 10, 40, 10)"
            ]
          },
          "metadata": {
            "tags": []
          },
          "execution_count": 24
        }
      ]
    },
    {
      "cell_type": "markdown",
      "metadata": {
        "id": "wQAotMeyZhVF"
      },
      "source": [
        " ## Visualing the data\n",
        "\n",
        " Now we've got our data in the training and test sets... let's visualize it again!"
      ]
    },
    {
      "cell_type": "code",
      "metadata": {
        "colab": {
          "base_uri": "https://localhost:8080/",
          "height": 445
        },
        "id": "FY_i1pIqaBNq",
        "outputId": "e449c00e-f288-4b62-9b40-e2a85149b604"
      },
      "source": [
        "plt.figure(figsize=(10, 7))\n",
        "# Plotting the training data in blue\n",
        "plt.scatter(X_train, y_train, c='b', label='Training data') # our model will learn on this \n",
        "# Plotting the test data in green\n",
        "plt.scatter(X_test, y_test, c='g', label='Testing data') # want our model to be able to predict this (given X, what's y)\n",
        "# Shoe a leged\n",
        "plt.legend"
      ],
      "execution_count": 25,
      "outputs": [
        {
          "output_type": "execute_result",
          "data": {
            "text/plain": [
              "<function matplotlib.pyplot.legend>"
            ]
          },
          "metadata": {
            "tags": []
          },
          "execution_count": 25
        },
        {
          "output_type": "display_data",
          "data": {
            "image/png": "[encoded data removed]",
            "text/plain": [
              "<Figure size 720x504 with 1 Axes>"
            ]
          },
          "metadata": {
            "tags": [],
            "needs_background": "light"
          }
        }
      ]
    },
    {
      "cell_type": "code",
      "metadata": {
        "id": "CmHd4jF8aqRd"
      },
      "source": [
        "# Let's have look at how to built a neural network.\n",
        "\n",
        "# 1. Create a model \n",
        "model = tf.keras.Sequential([tf.keras.layers.Dense(1)])\n",
        "\n",
        "# 2. Complie the model \n",
        "model.compile(loss=tf.keras.losses.mae,\n",
        "              optimizer=tf.keras.optimizers.SGD(),\n",
        "              metrics=['mae'])\n",
        "\n",
        "# # 3. Fit the model\n",
        "# model.fit(X_train, y_train, epochs=100)"
      ],
      "execution_count": 26,
      "outputs": []
    },
    {
      "cell_type": "markdown",
      "metadata": {
        "id": "0DIjP2ozcnmV"
      },
      "source": [
        "### Visualizing the model\n",
        "  "
      ]
    },
    {
      "cell_type": "code",
      "metadata": {
        "colab": {
          "base_uri": "https://localhost:8080/",
          "height": 310
        },
        "id": "tFbyFltfdyl1",
        "outputId": "76a6cbce-7d89-485c-bf59-2a8db67f00ec"
      },
      "source": [
        "model.summary()"
      ],
      "execution_count": 27,
      "outputs": [
        {
          "output_type": "error",
          "ename": "ValueError",
          "evalue": "ignored",
          "traceback": [
            "\u001b[0;31m---------------------------------------------------------------------------\u001b[0m",
            "\u001b[0;31mValueError\u001b[0m                                Traceback (most recent call last)",
            "\u001b[0;32m<ipython-input-27-5f15418b3570>\u001b[0m in \u001b[0;36m<module>\u001b[0;34m()\u001b[0m\n\u001b[0;32m----> 1\u001b[0;31m \u001b[0mmodel\u001b[0m\u001b[0;34m.\u001b[0m\u001b[0msummary\u001b[0m\u001b[0;34m(\u001b[0m\u001b[0;34m)\u001b[0m\u001b[0;34m\u001b[0m\u001b[0;34m\u001b[0m\u001b[0m\n\u001b[0m",
            "\u001b[0;32m/usr/local/lib/python3.7/dist-packages/tensorflow/python/keras/engine/training.py\u001b[0m in \u001b[0;36msummary\u001b[0;34m(self, line_length, positions, print_fn)\u001b[0m\n\u001b[1;32m   2374\u001b[0m     \"\"\"\n\u001b[1;32m   2375\u001b[0m     \u001b[0;32mif\u001b[0m \u001b[0;32mnot\u001b[0m \u001b[0mself\u001b[0m\u001b[0;34m.\u001b[0m\u001b[0mbuilt\u001b[0m\u001b[0;34m:\u001b[0m\u001b[0;34m\u001b[0m\u001b[0;34m\u001b[0m\u001b[0m\n\u001b[0;32m-> 2376\u001b[0;31m       raise ValueError('This model has not yet been built. '\n\u001b[0m\u001b[1;32m   2377\u001b[0m                        \u001b[0;34m'Build the model first by calling `build()` or calling '\u001b[0m\u001b[0;34m\u001b[0m\u001b[0;34m\u001b[0m\u001b[0m\n\u001b[1;32m   2378\u001b[0m                        \u001b[0;34m'`fit()` with some data, or specify '\u001b[0m\u001b[0;34m\u001b[0m\u001b[0;34m\u001b[0m\u001b[0m\n",
            "\u001b[0;31mValueError\u001b[0m: This model has not yet been built. Build the model first by calling `build()` or calling `fit()` with some data, or specify an `input_shape` argument in the first layer(s) for automatic build."
          ]
        }
      ]
    },
    {
      "cell_type": "code",
      "metadata": {
        "id": "jDWDkKsfd0Km"
      },
      "source": [
        "# Let's create a model which builds automatically by defining the input_shape argument in the first layer \n",
        "tf.random.set_seed(42)\n",
        "\n",
        "# 1. Create a model (same as above)\n",
        "model = tf.keras.Sequential([\n",
        "    tf.keras.layers.Dense(10, input_shape=[1], name=\"input_layer\"),\n",
        "    tf.keras.layers.Dense(1, name='output_layer'),], \n",
        "    name=\"model_1\")\n",
        "\n",
        "# 2. Compile the model \n",
        "model.compile(loss=tf.keras.losses.mae,\n",
        "              optimizer=tf.keras.optimizers.SGD(),\n",
        "              metrics=['mae'])"
      ],
      "execution_count": 28,
      "outputs": []
    },
    {
      "cell_type": "code",
      "metadata": {
        "colab": {
          "base_uri": "https://localhost:8080/"
        },
        "id": "x3BcrnK1fOc-",
        "outputId": "40174b6b-8664-43da-9db0-7ece4d06565b"
      },
      "source": [
        "model.summary()"
      ],
      "execution_count": 29,
      "outputs": [
        {
          "output_type": "stream",
          "text": [
            "Model: \"model_1\"\n",
            "_________________________________________________________________\n",
            "Layer (type)                 Output Shape              Param #   \n",
            "=================================================================\n",
            "input_layer (Dense)          (None, 10)                20        \n",
            "_________________________________________________________________\n",
            "output_layer (Dense)         (None, 1)                 11        \n",
            "=================================================================\n",
            "Total params: 31\n",
            "Trainable params: 31\n",
            "Non-trainable params: 0\n",
            "_________________________________________________________________\n"
          ],
          "name": "stdout"
        }
      ]
    },
    {
      "cell_type": "markdown",
      "metadata": {
        "id": "hmlhEEKffwW7"
      },
      "source": [
        "- **Total params** - Total number of parameters in the model.\n",
        "- **Trainabel params** - Theses are the parameters (patterns) that model can update as it trains.\n",
        "- **Non-trainable params** - These parameters aren't updated during training (this is typical when you bring in alredy learned patterns or parameters from other models during transfer learning).\n",
        "\n",
        "**Resource:**  Also don't forget to check out the MIT's [Introdcution to Deep Learning course](http://introtodeeplearning.com/)."
      ]
    },
    {
      "cell_type": "code",
      "metadata": {
        "colab": {
          "base_uri": "https://localhost:8080/"
        },
        "id": "6Twc6_Q9fcpM",
        "outputId": "18352666-3985-4174-e59c-48fa3593f6aa"
      },
      "source": [
        "# Let's fit the model to the training data\n",
        "model.fit(X_train, y_train, epochs=100, verbose=1)"
      ],
      "execution_count": 30,
      "outputs": [
        {
          "output_type": "stream",
          "text": [
            "Epoch 1/100\n",
            "2/2 [==============================] - 0s 6ms/step - loss: 26.8627 - mae: 26.8627\n",
            "Epoch 2/100\n",
            "2/2 [==============================] - 0s 8ms/step - loss: 24.4175 - mae: 24.4175\n",
            "Epoch 3/100\n",
            "2/2 [==============================] - 0s 5ms/step - loss: 31.5187 - mae: 31.5187\n",
            "Epoch 4/100\n",
            "2/2 [==============================] - 0s 5ms/step - loss: 27.8490 - mae: 27.8490\n",
            "Epoch 5/100\n",
            "2/2 [==============================] - 0s 5ms/step - loss: 14.6465 - mae: 14.6465\n",
            "Epoch 6/100\n",
            "2/2 [==============================] - 0s 6ms/step - loss: 11.9682 - mae: 11.9682\n",
            "Epoch 7/100\n",
            "2/2 [==============================] - 0s 5ms/step - loss: 11.0874 - mae: 11.0874\n",
            "Epoch 8/100\n",
            "2/2 [==============================] - 0s 5ms/step - loss: 11.3978 - mae: 11.3978\n",
            "Epoch 9/100\n",
            "2/2 [==============================] - 0s 4ms/step - loss: 42.4087 - mae: 42.4087\n",
            "Epoch 10/100\n",
            "2/2 [==============================] - 0s 5ms/step - loss: 28.3537 - mae: 28.3537\n",
            "Epoch 11/100\n",
            "2/2 [==============================] - 0s 5ms/step - loss: 9.6590 - mae: 9.6590\n",
            "Epoch 12/100\n",
            "2/2 [==============================] - 0s 5ms/step - loss: 25.8820 - mae: 25.8820\n",
            "Epoch 13/100\n",
            "2/2 [==============================] - 0s 5ms/step - loss: 16.7682 - mae: 16.7682\n",
            "Epoch 14/100\n",
            "2/2 [==============================] - 0s 5ms/step - loss: 26.6019 - mae: 26.6019\n",
            "Epoch 15/100\n",
            "2/2 [==============================] - 0s 5ms/step - loss: 17.7361 - mae: 17.7361\n",
            "Epoch 16/100\n",
            "2/2 [==============================] - 0s 5ms/step - loss: 7.4550 - mae: 7.4550\n",
            "Epoch 17/100\n",
            "2/2 [==============================] - 0s 5ms/step - loss: 10.6974 - mae: 10.6974\n",
            "Epoch 18/100\n",
            "2/2 [==============================] - 0s 5ms/step - loss: 20.7691 - mae: 20.7691\n",
            "Epoch 19/100\n",
            "2/2 [==============================] - 0s 5ms/step - loss: 9.6535 - mae: 9.6535\n",
            "Epoch 20/100\n",
            "2/2 [==============================] - 0s 6ms/step - loss: 18.4600 - mae: 18.4600\n",
            "Epoch 21/100\n",
            "2/2 [==============================] - 0s 5ms/step - loss: 16.2352 - mae: 16.2352\n",
            "Epoch 22/100\n",
            "2/2 [==============================] - 0s 5ms/step - loss: 14.5012 - mae: 14.5012\n",
            "Epoch 23/100\n",
            "2/2 [==============================] - 0s 6ms/step - loss: 8.6493 - mae: 8.6493\n",
            "Epoch 24/100\n",
            "2/2 [==============================] - 0s 5ms/step - loss: 10.4430 - mae: 10.4430\n",
            "Epoch 25/100\n",
            "2/2 [==============================] - 0s 6ms/step - loss: 12.8060 - mae: 12.8060\n",
            "Epoch 26/100\n",
            "2/2 [==============================] - 0s 5ms/step - loss: 26.8011 - mae: 26.8011\n",
            "Epoch 27/100\n",
            "2/2 [==============================] - 0s 16ms/step - loss: 12.0333 - mae: 12.0333\n",
            "Epoch 28/100\n",
            "2/2 [==============================] - 0s 5ms/step - loss: 23.4573 - mae: 23.4573\n",
            "Epoch 29/100\n",
            "2/2 [==============================] - 0s 9ms/step - loss: 9.1266 - mae: 9.1266\n",
            "Epoch 30/100\n",
            "2/2 [==============================] - 0s 9ms/step - loss: 31.1804 - mae: 31.1804\n",
            "Epoch 31/100\n",
            "2/2 [==============================] - 0s 6ms/step - loss: 56.8211 - mae: 56.8211\n",
            "Epoch 32/100\n",
            "2/2 [==============================] - 0s 5ms/step - loss: 12.2909 - mae: 12.2909\n",
            "Epoch 33/100\n",
            "2/2 [==============================] - 0s 6ms/step - loss: 15.3303 - mae: 15.3303\n",
            "Epoch 34/100\n",
            "2/2 [==============================] - 0s 6ms/step - loss: 12.8145 - mae: 12.8145\n",
            "Epoch 35/100\n",
            "2/2 [==============================] - 0s 7ms/step - loss: 9.4721 - mae: 9.4721\n",
            "Epoch 36/100\n",
            "2/2 [==============================] - 0s 5ms/step - loss: 16.6526 - mae: 16.6526\n",
            "Epoch 37/100\n",
            "2/2 [==============================] - 0s 5ms/step - loss: 10.4634 - mae: 10.4634\n",
            "Epoch 38/100\n",
            "2/2 [==============================] - 0s 6ms/step - loss: 18.7760 - mae: 18.7760\n",
            "Epoch 39/100\n",
            "2/2 [==============================] - 0s 7ms/step - loss: 20.1198 - mae: 20.1198\n",
            "Epoch 40/100\n",
            "2/2 [==============================] - 0s 5ms/step - loss: 21.4944 - mae: 21.4944\n",
            "Epoch 41/100\n",
            "2/2 [==============================] - 0s 5ms/step - loss: 14.5667 - mae: 14.5667\n",
            "Epoch 42/100\n",
            "2/2 [==============================] - 0s 5ms/step - loss: 12.2999 - mae: 12.2999\n",
            "Epoch 43/100\n",
            "2/2 [==============================] - 0s 4ms/step - loss: 11.1115 - mae: 11.1115\n",
            "Epoch 44/100\n",
            "2/2 [==============================] - 0s 8ms/step - loss: 23.5895 - mae: 23.5895\n",
            "Epoch 45/100\n",
            "2/2 [==============================] - 0s 8ms/step - loss: 9.9461 - mae: 9.9461\n",
            "Epoch 46/100\n",
            "2/2 [==============================] - 0s 6ms/step - loss: 12.0273 - mae: 12.0273\n",
            "Epoch 47/100\n",
            "2/2 [==============================] - 0s 6ms/step - loss: 9.0557 - mae: 9.0557\n",
            "Epoch 48/100\n",
            "2/2 [==============================] - 0s 7ms/step - loss: 17.8711 - mae: 17.8711\n",
            "Epoch 49/100\n",
            "2/2 [==============================] - 0s 5ms/step - loss: 9.5485 - mae: 9.5485\n",
            "Epoch 50/100\n",
            "2/2 [==============================] - 0s 6ms/step - loss: 13.7912 - mae: 13.7912\n",
            "Epoch 51/100\n",
            "2/2 [==============================] - 0s 6ms/step - loss: 11.2969 - mae: 11.2969\n",
            "Epoch 52/100\n",
            "2/2 [==============================] - 0s 6ms/step - loss: 32.1753 - mae: 32.1753\n",
            "Epoch 53/100\n",
            "2/2 [==============================] - 0s 7ms/step - loss: 14.1257 - mae: 14.1257\n",
            "Epoch 54/100\n",
            "2/2 [==============================] - 0s 6ms/step - loss: 24.3921 - mae: 24.3921\n",
            "Epoch 55/100\n",
            "2/2 [==============================] - 0s 6ms/step - loss: 23.5967 - mae: 23.5967\n",
            "Epoch 56/100\n",
            "2/2 [==============================] - 0s 6ms/step - loss: 10.0101 - mae: 10.0101\n",
            "Epoch 57/100\n",
            "2/2 [==============================] - 0s 6ms/step - loss: 12.4333 - mae: 12.4333\n",
            "Epoch 58/100\n",
            "2/2 [==============================] - 0s 6ms/step - loss: 9.4491 - mae: 9.4491\n",
            "Epoch 59/100\n",
            "2/2 [==============================] - 0s 9ms/step - loss: 12.6438 - mae: 12.6438\n",
            "Epoch 60/100\n",
            "2/2 [==============================] - 0s 5ms/step - loss: 12.3168 - mae: 12.3168\n",
            "Epoch 61/100\n",
            "2/2 [==============================] - 0s 5ms/step - loss: 17.1832 - mae: 17.1832\n",
            "Epoch 62/100\n",
            "2/2 [==============================] - 0s 6ms/step - loss: 10.4860 - mae: 10.4860\n",
            "Epoch 63/100\n",
            "2/2 [==============================] - 0s 6ms/step - loss: 10.8072 - mae: 10.8072\n",
            "Epoch 64/100\n",
            "2/2 [==============================] - 0s 5ms/step - loss: 25.2892 - mae: 25.2892\n",
            "Epoch 65/100\n",
            "2/2 [==============================] - 0s 5ms/step - loss: 10.7923 - mae: 10.7923\n",
            "Epoch 66/100\n",
            "2/2 [==============================] - 0s 8ms/step - loss: 22.0328 - mae: 22.0328\n",
            "Epoch 67/100\n",
            "2/2 [==============================] - 0s 5ms/step - loss: 10.6505 - mae: 10.6505\n",
            "Epoch 68/100\n",
            "2/2 [==============================] - 0s 5ms/step - loss: 10.8455 - mae: 10.8455\n",
            "Epoch 69/100\n",
            "2/2 [==============================] - 0s 5ms/step - loss: 23.0960 - mae: 23.0960\n",
            "Epoch 70/100\n",
            "2/2 [==============================] - 0s 5ms/step - loss: 8.7402 - mae: 8.7402\n",
            "Epoch 71/100\n",
            "2/2 [==============================] - 0s 5ms/step - loss: 15.8968 - mae: 15.8968\n",
            "Epoch 72/100\n",
            "2/2 [==============================] - 0s 5ms/step - loss: 6.7092 - mae: 6.7092\n",
            "Epoch 73/100\n",
            "2/2 [==============================] - 0s 5ms/step - loss: 10.6475 - mae: 10.6475\n",
            "Epoch 74/100\n",
            "2/2 [==============================] - 0s 6ms/step - loss: 24.6152 - mae: 24.6152\n",
            "Epoch 75/100\n",
            "2/2 [==============================] - 0s 5ms/step - loss: 8.7602 - mae: 8.7602\n",
            "Epoch 76/100\n",
            "2/2 [==============================] - 0s 6ms/step - loss: 11.9799 - mae: 11.9799\n",
            "Epoch 77/100\n",
            "2/2 [==============================] - 0s 3ms/step - loss: 16.6488 - mae: 16.6488\n",
            "Epoch 78/100\n",
            "2/2 [==============================] - 0s 5ms/step - loss: 9.2784 - mae: 9.2784\n",
            "Epoch 79/100\n",
            "2/2 [==============================] - 0s 6ms/step - loss: 24.4604 - mae: 24.4604\n",
            "Epoch 80/100\n",
            "2/2 [==============================] - 0s 3ms/step - loss: 27.4405 - mae: 27.4405\n",
            "Epoch 81/100\n",
            "2/2 [==============================] - 0s 5ms/step - loss: 11.7139 - mae: 11.7139\n",
            "Epoch 82/100\n",
            "2/2 [==============================] - 0s 5ms/step - loss: 11.6757 - mae: 11.6757\n",
            "Epoch 83/100\n",
            "2/2 [==============================] - 0s 5ms/step - loss: 17.9045 - mae: 17.9045\n",
            "Epoch 84/100\n",
            "2/2 [==============================] - 0s 5ms/step - loss: 7.0376 - mae: 7.0376\n",
            "Epoch 85/100\n",
            "2/2 [==============================] - 0s 4ms/step - loss: 15.1558 - mae: 15.1558\n",
            "Epoch 86/100\n",
            "2/2 [==============================] - 0s 5ms/step - loss: 15.1583 - mae: 15.1583\n",
            "Epoch 87/100\n",
            "2/2 [==============================] - 0s 7ms/step - loss: 19.8683 - mae: 19.8683\n",
            "Epoch 88/100\n",
            "2/2 [==============================] - 0s 7ms/step - loss: 30.7657 - mae: 30.7657\n",
            "Epoch 89/100\n",
            "2/2 [==============================] - 0s 5ms/step - loss: 9.7059 - mae: 9.7059\n",
            "Epoch 90/100\n",
            "2/2 [==============================] - 0s 3ms/step - loss: 21.5531 - mae: 21.5531\n",
            "Epoch 91/100\n",
            "2/2 [==============================] - 0s 7ms/step - loss: 9.5827 - mae: 9.5827\n",
            "Epoch 92/100\n",
            "2/2 [==============================] - 0s 5ms/step - loss: 18.2158 - mae: 18.2158\n",
            "Epoch 93/100\n",
            "2/2 [==============================] - 0s 5ms/step - loss: 7.1935 - mae: 7.1935\n",
            "Epoch 94/100\n",
            "2/2 [==============================] - 0s 6ms/step - loss: 17.4261 - mae: 17.4261\n",
            "Epoch 95/100\n",
            "2/2 [==============================] - 0s 6ms/step - loss: 11.1722 - mae: 11.1722\n",
            "Epoch 96/100\n",
            "2/2 [==============================] - 0s 5ms/step - loss: 18.9207 - mae: 18.9207\n",
            "Epoch 97/100\n",
            "2/2 [==============================] - 0s 5ms/step - loss: 12.2012 - mae: 12.2012\n",
            "Epoch 98/100\n",
            "2/2 [==============================] - 0s 5ms/step - loss: 11.2931 - mae: 11.2931\n",
            "Epoch 99/100\n",
            "2/2 [==============================] - 0s 5ms/step - loss: 13.4563 - mae: 13.4563\n",
            "Epoch 100/100\n",
            "2/2 [==============================] - 0s 6ms/step - loss: 20.1754 - mae: 20.1754\n"
          ],
          "name": "stdout"
        },
        {
          "output_type": "execute_result",
          "data": {
            "text/plain": [
              "<tensorflow.python.keras.callbacks.History at 0x7fc939a18750>"
            ]
          },
          "metadata": {
            "tags": []
          },
          "execution_count": 30
        }
      ]
    },
    {
      "cell_type": "markdown",
      "metadata": {
        "id": "J6PzPfr_w3yr"
      },
      "source": [
        "**Exercise:** Try playing around with the number of hidden parameters in the dense layer, see how that effects the number of parameters (total and traunable) by calling `model.summary()`."
      ]
    },
    {
      "cell_type": "code",
      "metadata": {
        "colab": {
          "base_uri": "https://localhost:8080/"
        },
        "id": "CJqDpEPZiZp7",
        "outputId": "8822d64b-922e-4750-d9a6-ecff9e72e6a9"
      },
      "source": [
        "# Get ta summary of put model\n",
        "model.summary()"
      ],
      "execution_count": 31,
      "outputs": [
        {
          "output_type": "stream",
          "text": [
            "Model: \"model_1\"\n",
            "_________________________________________________________________\n",
            "Layer (type)                 Output Shape              Param #   \n",
            "=================================================================\n",
            "input_layer (Dense)          (None, 10)                20        \n",
            "_________________________________________________________________\n",
            "output_layer (Dense)         (None, 1)                 11        \n",
            "=================================================================\n",
            "Total params: 31\n",
            "Trainable params: 31\n",
            "Non-trainable params: 0\n",
            "_________________________________________________________________\n"
          ],
          "name": "stdout"
        }
      ]
    },
    {
      "cell_type": "code",
      "metadata": {
        "colab": {
          "base_uri": "https://localhost:8080/",
          "height": 312
        },
        "id": "lEIP-kAMxCSL",
        "outputId": "40da4f59-0d16-4abd-9302-01fcdcef2138"
      },
      "source": [
        "from tensorflow.keras.utils import plot_model\n",
        "plot_model(model=model, show_shapes=True)"
      ],
      "execution_count": 32,
      "outputs": [
        {
          "output_type": "execute_result",
          "data": {
            "image/png": "[encoded data removed]",
            "text/plain": [
              "<IPython.core.display.Image object>"
            ]
          },
          "metadata": {
            "tags": []
          },
          "execution_count": 32
        }
      ]
    },
    {
      "cell_type": "markdown",
      "metadata": {
        "id": "emuJhTvmxsPp"
      },
      "source": [
        "### Visulaizing on model prediction\n",
        "\n",
        "To visualize predicitons, it's a good to plot them against the ground truth labels.\n",
        "\n",
        "Often you'll see this in the form of `y_test` or `y_true` vs `y_pred` (ground truth versus model predictions)"
      ]
    },
    {
      "cell_type": "code",
      "metadata": {
        "colab": {
          "base_uri": "https://localhost:8080/"
        },
        "id": "Jlh0FWkjzbvy",
        "outputId": "c4539f23-076c-4da8-ee21-f43fa6916a8f"
      },
      "source": [
        "# Make some predictions \n",
        "y_pred = model.predict(X_test)\n",
        "y_pred  "
      ],
      "execution_count": 33,
      "outputs": [
        {
          "output_type": "execute_result",
          "data": {
            "text/plain": [
              "array([[ 70.55221 ],\n",
              "       [ 75.13992 ],\n",
              "       [ 79.72765 ],\n",
              "       [ 84.31538 ],\n",
              "       [ 88.9031  ],\n",
              "       [ 93.49082 ],\n",
              "       [ 98.07855 ],\n",
              "       [102.666275],\n",
              "       [107.254005],\n",
              "       [111.84173 ]], dtype=float32)"
            ]
          },
          "metadata": {
            "tags": []
          },
          "execution_count": 33
        }
      ]
    },
    {
      "cell_type": "code",
      "metadata": {
        "colab": {
          "base_uri": "https://localhost:8080/"
        },
        "id": "bcUtHWOT0r97",
        "outputId": "1a24e50f-cfaf-44d1-f67a-23b55e99e819"
      },
      "source": [
        "y_test"
      ],
      "execution_count": 34,
      "outputs": [
        {
          "output_type": "execute_result",
          "data": {
            "text/plain": [
              "<tf.Tensor: shape=(10,), dtype=int32, numpy=array([ 70,  74,  78,  82,  86,  90,  94,  98, 102, 106], dtype=int32)>"
            ]
          },
          "metadata": {
            "tags": []
          },
          "execution_count": 34
        }
      ]
    },
    {
      "cell_type": "markdown",
      "metadata": {
        "id": "GzkmVmfx1mDA"
      },
      "source": [
        "***Note:*** *If we feel like that we are going to reuse some kinf og the functinality in the future, it's a good idea to turn it into a function*"
      ]
    },
    {
      "cell_type": "code",
      "metadata": {
        "id": "7fgjtAvL1bAc"
      },
      "source": [
        "# Let's create a plotting function\n",
        "def plot_predictions(train_data,train_labels,\n",
        "                     test_data, test_labels,\n",
        "                     predictions):\n",
        "    \"\"\"\n",
        "    Plot the training data, test data and compare the predictions to the ground truth labels.\n",
        "    \"\"\"\n",
        "\n",
        "    plt.figure(figsize=(10,7))\n",
        "    # Plot the training data in blue\n",
        "    plt.scatter(train_data, train_labels, c='b', label=\"Training Data\") \n",
        "    # Plot the testing data in green\n",
        "    plt.scatter(test_data, test_labels, c='g', label=\"Testing Data\")\n",
        "    # Plot models predictions in red\n",
        "    plt.scatter(test_data,predictions, c='r', label=\"Predictions\")\n",
        "    # Show Legends\n",
        "    plt.legend()"
      ],
      "execution_count": 35,
      "outputs": []
    },
    {
      "cell_type": "code",
      "metadata": {
        "colab": {
          "base_uri": "https://localhost:8080/",
          "height": 427
        },
        "id": "mOpv21K_1k3O",
        "outputId": "fd912442-215b-4b6b-e427-96828f3ae311"
      },
      "source": [
        "plot_predictions(train_data=X_train, \n",
        "                 train_labels=y_train,\n",
        "                 test_data=X_test,\n",
        "                 test_labels=y_test,\n",
        "                 predictions=y_pred)"
      ],
      "execution_count": 36,
      "outputs": [
        {
          "output_type": "display_data",
          "data": {
            "image/png": "[encoded data removed]",
            "text/plain": [
              "<Figure size 720x504 with 1 Axes>"
            ]
          },
          "metadata": {
            "tags": [],
            "needs_background": "light"
          }
        }
      ]
    },
    {
      "cell_type": "markdown",
      "metadata": {
        "id": "MEzxsckk3h4T"
      },
      "source": [
        "### Evaluating the model's predictions with regression evaluation metrics\n",
        "\n",
        "Depending on the problem you're working on, there will be different evaluation metrcs to evaluate your model's performance .\n",
        "\n",
        "Since we're working on the regression problem, two of the main metrics: \n",
        "- **MAE** - Mean Absolute Error, \"on average, how wrong is each of my model's prediction's\"\n",
        "- **MSE** - Mean Square Error, \"square the average errors\"\n",
        "\n",
        "![Regression_metrics](https://encrypted-tbn0.gstatic.com/images?q=tbn:ANd9GcRz38Oc0rMm0APuLWgR-9Sc91ULC03ffPdCgNEIqAAr91nrJJaZRKrVgpMyQ0uqG9ocLVY&usqp=CAU)\n",
        "\n",
        "\n",
        "- **Huber** - \"Combination of MSE and MAE, less sensative to outliers than MSE.\""
      ]
    },
    {
      "cell_type": "code",
      "metadata": {
        "colab": {
          "base_uri": "https://localhost:8080/"
        },
        "id": "QSD6f3ao4t3R",
        "outputId": "930a411f-9c5b-44e2-b2f2-5d6235212b4e"
      },
      "source": [
        "# Evaluate the model on the test set\n",
        "model.evaluate(X_test, y_test)"
      ],
      "execution_count": 37,
      "outputs": [
        {
          "output_type": "stream",
          "text": [
            "1/1 [==============================] - 0s 125ms/step - loss: 3.1970 - mae: 3.1970\n"
          ],
          "name": "stdout"
        },
        {
          "output_type": "execute_result",
          "data": {
            "text/plain": [
              "[3.1969642639160156, 3.1969642639160156]"
            ]
          },
          "metadata": {
            "tags": []
          },
          "execution_count": 37
        }
      ]
    },
    {
      "cell_type": "code",
      "metadata": {
        "colab": {
          "base_uri": "https://localhost:8080/"
        },
        "id": "gM7v2mIG8NPG",
        "outputId": "3064a0a6-20bf-4f47-e590-c45c6c83e3c9"
      },
      "source": [
        "# Calculate the MAE(mean absolute error) \n",
        "# mae_error = tf.keras.losses.MAE(y_test, y_pred)\n",
        "ma_error = tf.metrics.mean_absolute_error(y_true=y_test, y_pred=tf.constant(y_pred))\n",
        "ma_error"
      ],
      "execution_count": 38,
      "outputs": [
        {
          "output_type": "execute_result",
          "data": {
            "text/plain": [
              "<tf.Tensor: shape=(10,), dtype=float32, numpy=\n",
              "array([17.558233, 14.116046, 11.708939, 10.336925, 10.      , 10.698164,\n",
              "       12.447131, 15.33302 , 19.254005, 23.841728], dtype=float32)>"
            ]
          },
          "metadata": {
            "tags": []
          },
          "execution_count": 38
        }
      ]
    },
    {
      "cell_type": "code",
      "metadata": {
        "colab": {
          "base_uri": "https://localhost:8080/"
        },
        "id": "hhbzA8uH9axJ",
        "outputId": "e7ce869d-328f-4c00-a932-638e00d4336d"
      },
      "source": [
        "y_test-y_pred"
      ],
      "execution_count": 39,
      "outputs": [
        {
          "output_type": "execute_result",
          "data": {
            "text/plain": [
              "<tf.Tensor: shape=(10, 10), dtype=int32, numpy=\n",
              "array([[  0,   4,   8,  12,  16,  20,  24,  28,  32,  36],\n",
              "       [ -5,  -1,   3,   7,  11,  15,  19,  23,  27,  31],\n",
              "       [ -9,  -5,  -1,   3,   7,  11,  15,  19,  23,  27],\n",
              "       [-14, -10,  -6,  -2,   2,   6,  10,  14,  18,  22],\n",
              "       [-18, -14, -10,  -6,  -2,   2,   6,  10,  14,  18],\n",
              "       [-23, -19, -15, -11,  -7,  -3,   1,   5,   9,  13],\n",
              "       [-28, -24, -20, -16, -12,  -8,  -4,   0,   4,   8],\n",
              "       [-32, -28, -24, -20, -16, -12,  -8,  -4,   0,   4],\n",
              "       [-37, -33, -29, -25, -21, -17, -13,  -9,  -5,  -1],\n",
              "       [-41, -37, -33, -29, -25, -21, -17, -13,  -9,  -5]], dtype=int32)>"
            ]
          },
          "metadata": {
            "tags": []
          },
          "execution_count": 39
        }
      ]
    },
    {
      "cell_type": "code",
      "metadata": {
        "colab": {
          "base_uri": "https://localhost:8080/"
        },
        "id": "ZwiIhgMx9kHz",
        "outputId": "dc16391d-5e78-4822-cf2a-8aa699481855"
      },
      "source": [
        "y_pred-y_test"
      ],
      "execution_count": 40,
      "outputs": [
        {
          "output_type": "execute_result",
          "data": {
            "text/plain": [
              "<tf.Tensor: shape=(10, 10), dtype=int32, numpy=\n",
              "array([[  0,  -4,  -8, -12, -16, -20, -24, -28, -32, -36],\n",
              "       [  5,   1,  -3,  -7, -11, -15, -19, -23, -27, -31],\n",
              "       [  9,   5,   1,  -3,  -7, -11, -15, -19, -23, -27],\n",
              "       [ 14,  10,   6,   2,  -2,  -6, -10, -14, -18, -22],\n",
              "       [ 18,  14,  10,   6,   2,  -2,  -6, -10, -14, -18],\n",
              "       [ 23,  19,  15,  11,   7,   3,  -1,  -5,  -9, -13],\n",
              "       [ 28,  24,  20,  16,  12,   8,   4,   0,  -4,  -8],\n",
              "       [ 32,  28,  24,  20,  16,  12,   8,   4,   0,  -4],\n",
              "       [ 37,  33,  29,  25,  21,  17,  13,   9,   5,   1],\n",
              "       [ 41,  37,  33,  29,  25,  21,  17,  13,   9,   5]], dtype=int32)>"
            ]
          },
          "metadata": {
            "tags": []
          },
          "execution_count": 40
        }
      ]
    },
    {
      "cell_type": "code",
      "metadata": {
        "colab": {
          "base_uri": "https://localhost:8080/"
        },
        "id": "PUfDzJqY8A3A",
        "outputId": "42dfc029-a418-402f-fe8d-86071bef87cf"
      },
      "source": [
        "tf.constant(y_pred)"
      ],
      "execution_count": 41,
      "outputs": [
        {
          "output_type": "execute_result",
          "data": {
            "text/plain": [
              "<tf.Tensor: shape=(10, 1), dtype=float32, numpy=\n",
              "array([[ 70.55221 ],\n",
              "       [ 75.13992 ],\n",
              "       [ 79.72765 ],\n",
              "       [ 84.31538 ],\n",
              "       [ 88.9031  ],\n",
              "       [ 93.49082 ],\n",
              "       [ 98.07855 ],\n",
              "       [102.666275],\n",
              "       [107.254005],\n",
              "       [111.84173 ]], dtype=float32)>"
            ]
          },
          "metadata": {
            "tags": []
          },
          "execution_count": 41
        }
      ]
    },
    {
      "cell_type": "code",
      "metadata": {
        "colab": {
          "base_uri": "https://localhost:8080/"
        },
        "id": "0PYXImPx8L4i",
        "outputId": "a4056e3b-4f0a-4b99-956a-8da773164e93"
      },
      "source": [
        "y_test"
      ],
      "execution_count": 42,
      "outputs": [
        {
          "output_type": "execute_result",
          "data": {
            "text/plain": [
              "<tf.Tensor: shape=(10,), dtype=int32, numpy=array([ 70,  74,  78,  82,  86,  90,  94,  98, 102, 106], dtype=int32)>"
            ]
          },
          "metadata": {
            "tags": []
          },
          "execution_count": 42
        }
      ]
    },
    {
      "cell_type": "code",
      "metadata": {
        "colab": {
          "base_uri": "https://localhost:8080/"
        },
        "id": "2KQiKY-78Mi-",
        "outputId": "42361af6-4158-4dad-d0e3-166a94c609b9"
      },
      "source": [
        "tf.squeeze(y_pred)"
      ],
      "execution_count": 43,
      "outputs": [
        {
          "output_type": "execute_result",
          "data": {
            "text/plain": [
              "<tf.Tensor: shape=(10,), dtype=float32, numpy=\n",
              "array([ 70.55221 ,  75.13992 ,  79.72765 ,  84.31538 ,  88.9031  ,\n",
              "        93.49082 ,  98.07855 , 102.666275, 107.254005, 111.84173 ],\n",
              "      dtype=float32)>"
            ]
          },
          "metadata": {
            "tags": []
          },
          "execution_count": 43
        }
      ]
    },
    {
      "cell_type": "code",
      "metadata": {
        "colab": {
          "base_uri": "https://localhost:8080/"
        },
        "id": "hWv7jZTz-M9y",
        "outputId": "602fb222-73cc-4f37-d107-51978c57ceb5"
      },
      "source": [
        "y_pred.shape, y_test.shape"
      ],
      "execution_count": 44,
      "outputs": [
        {
          "output_type": "execute_result",
          "data": {
            "text/plain": [
              "((10, 1), TensorShape([10]))"
            ]
          },
          "metadata": {
            "tags": []
          },
          "execution_count": 44
        }
      ]
    },
    {
      "cell_type": "code",
      "metadata": {
        "colab": {
          "base_uri": "https://localhost:8080/"
        },
        "id": "rsvpnnD8-TM3",
        "outputId": "1cd32692-16db-4bb3-d1d7-5acc8b60ec01"
      },
      "source": [
        "# Calculate the mean absolute error\n",
        "ma_error = tf.metrics.mean_absolute_error(y_true=y_test, y_pred=tf.squeeze(y_pred))\n",
        "ma_error"
      ],
      "execution_count": 45,
      "outputs": [
        {
          "output_type": "execute_result",
          "data": {
            "text/plain": [
              "<tf.Tensor: shape=(), dtype=float32, numpy=3.1969643>"
            ]
          },
          "metadata": {
            "tags": []
          },
          "execution_count": 45
        }
      ]
    },
    {
      "cell_type": "code",
      "metadata": {
        "colab": {
          "base_uri": "https://localhost:8080/"
        },
        "id": "XbTwOsGpAAT9",
        "outputId": "d2ad8f82-b854-4767-a24c-9e7b7b1e315d"
      },
      "source": [
        "y_pred.shape"
      ],
      "execution_count": 46,
      "outputs": [
        {
          "output_type": "execute_result",
          "data": {
            "text/plain": [
              "(10, 1)"
            ]
          },
          "metadata": {
            "tags": []
          },
          "execution_count": 46
        }
      ]
    },
    {
      "cell_type": "code",
      "metadata": {
        "colab": {
          "base_uri": "https://localhost:8080/"
        },
        "id": "nBIGM0Yv-pdt",
        "outputId": "bf3087ad-a5fb-495d-e15d-744181abbd3a"
      },
      "source": [
        "# Now let's calculate the mean squate error\n",
        "ms_error = tf.metrics.mean_squared_error(y_true=y_test,y_pred=tf.squeeze(y_pred))\n",
        "ms_error"
      ],
      "execution_count": 47,
      "outputs": [
        {
          "output_type": "execute_result",
          "data": {
            "text/plain": [
              "<tf.Tensor: shape=(), dtype=float32, numpy=13.0703>"
            ]
          },
          "metadata": {
            "tags": []
          },
          "execution_count": 47
        }
      ]
    },
    {
      "cell_type": "code",
      "metadata": {
        "colab": {
          "base_uri": "https://localhost:8080/"
        },
        "id": "b5DFMSHMAblW",
        "outputId": "061fa732-c5d2-48fc-d887-df9d4e114ea7"
      },
      "source": [
        "# Let's check out the huber metric also\n",
        "huber_error = tf.keras.losses.huber(y_true=y_test, y_pred=tf.squeeze(y_pred))\n",
        "huber_error"
      ],
      "execution_count": 48,
      "outputs": [
        {
          "output_type": "execute_result",
          "data": {
            "text/plain": [
              "<tf.Tensor: shape=(), dtype=float32, numpy=2.70699>"
            ]
          },
          "metadata": {
            "tags": []
          },
          "execution_count": 48
        }
      ]
    },
    {
      "cell_type": "code",
      "metadata": {
        "id": "uk7Oj5mD-q7A"
      },
      "source": [
        "# Let's make some functions to use the MAE and MSE\n",
        "def mae(y_true, y_pred):\n",
        "    return tf.metrics.mean_absolute_error(y_true=y_true, y_pred=tf.squeeze(y_pred))\n",
        "\n",
        "def mse(y_true,y_pred):\n",
        "    return tf.metrics.mean_squared_error(y_true=y_true, y_pred=tf.squeeze(y_pred))"
      ],
      "execution_count": 49,
      "outputs": []
    },
    {
      "cell_type": "markdown",
      "metadata": {
        "id": "SuWKpZzVD3H7"
      },
      "source": [
        "### Running the experiments to improve the model \n",
        "\n",
        "``` \n",
        "Build a model -> fit it -> evaluate it -> tweak it -> fit it -> evaluate it -> tweak it -> fit it -> evaluate it ....\n",
        "```\n",
        "\n",
        "1. Get more data - get more examples for model to train on (more opporutnities to learn patterns or relationships between features and labels).\n",
        "2. Make your model larger (using more complex models) - this might come in the form of more layers or more hidden units in each layer. \n",
        "3. Train for longer - Give our model more of the chance to find the patterns in the data.\n",
        "\n",
        "\n",
        "Lets's do the 3 modeling experiments:\n",
        "\n",
        "1. `model_1` - same as original model, 1 layer, trained for 100 epochs.\n",
        "2. `model_2` - 2 layers trained for 100 epochs.\n",
        "3. `model_3` - 2 layers trained for 500 epochs.\n",
        "\n"
      ]
    },
    {
      "cell_type": "markdown",
      "metadata": {
        "id": "9DYO33Hdbr1m"
      },
      "source": [
        "**Build `model_1`** - 1 layer, trained for 100 epochs."
      ]
    },
    {
      "cell_type": "code",
      "metadata": {
        "colab": {
          "base_uri": "https://localhost:8080/"
        },
        "id": "ZMbB_FIqV3Jy",
        "outputId": "6523bad9-7bcc-4927-e9ac-d18590aa273d"
      },
      "source": [
        "# set the random seed \n",
        "tf.random.set_seed(42)\n",
        "\n",
        "# 1. Create the model \n",
        "model_1 = tf.keras.Sequential([\n",
        "    tf.keras.layers.Dense(1)\n",
        "])\n",
        "\n",
        "# 2. Compile the model\n",
        "model_1.compile(loss=tf.keras.losses.mae,\n",
        "                optimizer=tf.keras.optimizers.SGD(),\n",
        "                metrics=[\"mae\"])\n",
        "\n",
        "model_1.fit(X_train, y_train, epochs=100)"
      ],
      "execution_count": 50,
      "outputs": [
        {
          "output_type": "stream",
          "text": [
            "Epoch 1/100\n",
            "2/2 [==============================] - 0s 5ms/step - loss: 16.4124 - mae: 16.4124\n",
            "Epoch 2/100\n",
            "2/2 [==============================] - 0s 4ms/step - loss: 11.0829 - mae: 11.0829\n",
            "Epoch 3/100\n",
            "2/2 [==============================] - 0s 5ms/step - loss: 11.1242 - mae: 11.1242\n",
            "Epoch 4/100\n",
            "2/2 [==============================] - 0s 4ms/step - loss: 8.6945 - mae: 8.6945\n",
            "Epoch 5/100\n",
            "2/2 [==============================] - 0s 5ms/step - loss: 9.8003 - mae: 9.8003\n",
            "Epoch 6/100\n",
            "2/2 [==============================] - 0s 5ms/step - loss: 9.5263 - mae: 9.5263\n",
            "Epoch 7/100\n",
            "2/2 [==============================] - 0s 3ms/step - loss: 8.4102 - mae: 8.4102\n",
            "Epoch 8/100\n",
            "2/2 [==============================] - 0s 3ms/step - loss: 9.1449 - mae: 9.1449\n",
            "Epoch 9/100\n",
            "2/2 [==============================] - 0s 4ms/step - loss: 19.4932 - mae: 19.4932\n",
            "Epoch 10/100\n",
            "2/2 [==============================] - 0s 5ms/step - loss: 9.6061 - mae: 9.6061\n",
            "Epoch 11/100\n",
            "2/2 [==============================] - 0s 5ms/step - loss: 8.5992 - mae: 8.5992\n",
            "Epoch 12/100\n",
            "2/2 [==============================] - 0s 6ms/step - loss: 10.9324 - mae: 10.9324\n",
            "Epoch 13/100\n",
            "2/2 [==============================] - 0s 5ms/step - loss: 10.0574 - mae: 10.0574\n",
            "Epoch 14/100\n",
            "2/2 [==============================] - 0s 6ms/step - loss: 16.5679 - mae: 16.5679\n",
            "Epoch 15/100\n",
            "2/2 [==============================] - 0s 6ms/step - loss: 11.4537 - mae: 11.4537\n",
            "Epoch 16/100\n",
            "2/2 [==============================] - 0s 6ms/step - loss: 8.4056 - mae: 8.4056\n",
            "Epoch 17/100\n",
            "2/2 [==============================] - 0s 6ms/step - loss: 13.8417 - mae: 13.8417\n",
            "Epoch 18/100\n",
            "2/2 [==============================] - 0s 7ms/step - loss: 11.6621 - mae: 11.6621\n",
            "Epoch 19/100\n",
            "2/2 [==============================] - 0s 5ms/step - loss: 18.7623 - mae: 18.7623\n",
            "Epoch 20/100\n",
            "2/2 [==============================] - 0s 5ms/step - loss: 15.5702 - mae: 15.5702\n",
            "Epoch 21/100\n",
            "2/2 [==============================] - 0s 5ms/step - loss: 10.9959 - mae: 10.9959\n",
            "Epoch 22/100\n",
            "2/2 [==============================] - 0s 5ms/step - loss: 8.0023 - mae: 8.0023\n",
            "Epoch 23/100\n",
            "2/2 [==============================] - 0s 5ms/step - loss: 9.8593 - mae: 9.8593\n",
            "Epoch 24/100\n",
            "2/2 [==============================] - 0s 5ms/step - loss: 7.5796 - mae: 7.5796\n",
            "Epoch 25/100\n",
            "2/2 [==============================] - 0s 5ms/step - loss: 13.7226 - mae: 13.7226\n",
            "Epoch 26/100\n",
            "2/2 [==============================] - 0s 5ms/step - loss: 17.1740 - mae: 17.1740\n",
            "Epoch 27/100\n",
            "2/2 [==============================] - 0s 8ms/step - loss: 13.4233 - mae: 13.4233\n",
            "Epoch 28/100\n",
            "2/2 [==============================] - 0s 5ms/step - loss: 14.5473 - mae: 14.5473\n",
            "Epoch 29/100\n",
            "2/2 [==============================] - 0s 6ms/step - loss: 9.8753 - mae: 9.8753\n",
            "Epoch 30/100\n",
            "2/2 [==============================] - 0s 5ms/step - loss: 17.1187 - mae: 17.1187\n",
            "Epoch 31/100\n",
            "2/2 [==============================] - 0s 6ms/step - loss: 24.5949 - mae: 24.5949\n",
            "Epoch 32/100\n",
            "2/2 [==============================] - 0s 5ms/step - loss: 7.6765 - mae: 7.6765\n",
            "Epoch 33/100\n",
            "2/2 [==============================] - 0s 4ms/step - loss: 9.2971 - mae: 9.2971\n",
            "Epoch 34/100\n",
            "2/2 [==============================] - 0s 4ms/step - loss: 14.1703 - mae: 14.1703\n",
            "Epoch 35/100\n",
            "2/2 [==============================] - 0s 6ms/step - loss: 10.8635 - mae: 10.8635\n",
            "Epoch 36/100\n",
            "2/2 [==============================] - 0s 6ms/step - loss: 13.5689 - mae: 13.5689\n",
            "Epoch 37/100\n",
            "2/2 [==============================] - 0s 5ms/step - loss: 9.3448 - mae: 9.3448\n",
            "Epoch 38/100\n",
            "2/2 [==============================] - 0s 4ms/step - loss: 10.4804 - mae: 10.4804\n",
            "Epoch 39/100\n",
            "2/2 [==============================] - 0s 7ms/step - loss: 10.0178 - mae: 10.0178\n",
            "Epoch 40/100\n",
            "2/2 [==============================] - 0s 5ms/step - loss: 10.8005 - mae: 10.8005\n",
            "Epoch 41/100\n",
            "2/2 [==============================] - 0s 5ms/step - loss: 7.7789 - mae: 7.7789\n",
            "Epoch 42/100\n",
            "2/2 [==============================] - 0s 5ms/step - loss: 10.2844 - mae: 10.2844\n",
            "Epoch 43/100\n",
            "2/2 [==============================] - 0s 5ms/step - loss: 8.9628 - mae: 8.9628\n",
            "Epoch 44/100\n",
            "2/2 [==============================] - 0s 5ms/step - loss: 12.6243 - mae: 12.6243\n",
            "Epoch 45/100\n",
            "2/2 [==============================] - 0s 5ms/step - loss: 14.1236 - mae: 14.1236\n",
            "Epoch 46/100\n",
            "2/2 [==============================] - 0s 5ms/step - loss: 8.2681 - mae: 8.2681\n",
            "Epoch 47/100\n",
            "2/2 [==============================] - 0s 5ms/step - loss: 9.0126 - mae: 9.0126\n",
            "Epoch 48/100\n",
            "2/2 [==============================] - 0s 5ms/step - loss: 10.6882 - mae: 10.6882\n",
            "Epoch 49/100\n",
            "2/2 [==============================] - 0s 5ms/step - loss: 7.7431 - mae: 7.7431\n",
            "Epoch 50/100\n",
            "2/2 [==============================] - 0s 12ms/step - loss: 9.3950 - mae: 9.3950\n",
            "Epoch 51/100\n",
            "2/2 [==============================] - 0s 3ms/step - loss: 8.9267 - mae: 8.9267\n",
            "Epoch 52/100\n",
            "2/2 [==============================] - 0s 5ms/step - loss: 16.9818 - mae: 16.9818\n",
            "Epoch 53/100\n",
            "2/2 [==============================] - 0s 5ms/step - loss: 14.8677 - mae: 14.8677\n",
            "Epoch 54/100\n",
            "2/2 [==============================] - 0s 5ms/step - loss: 22.0413 - mae: 22.0413\n",
            "Epoch 55/100\n",
            "2/2 [==============================] - 0s 5ms/step - loss: 17.0640 - mae: 17.0640\n",
            "Epoch 56/100\n",
            "2/2 [==============================] - 0s 4ms/step - loss: 9.9520 - mae: 9.9520\n",
            "Epoch 57/100\n",
            "2/2 [==============================] - 0s 5ms/step - loss: 9.7522 - mae: 9.7522\n",
            "Epoch 58/100\n",
            "2/2 [==============================] - 0s 5ms/step - loss: 9.4378 - mae: 9.4378\n",
            "Epoch 59/100\n",
            "2/2 [==============================] - 0s 5ms/step - loss: 8.3373 - mae: 8.3373\n",
            "Epoch 60/100\n",
            "2/2 [==============================] - 0s 6ms/step - loss: 9.6425 - mae: 9.6425\n",
            "Epoch 61/100\n",
            "2/2 [==============================] - 0s 5ms/step - loss: 11.7590 - mae: 11.7590\n",
            "Epoch 62/100\n",
            "2/2 [==============================] - 0s 5ms/step - loss: 11.7187 - mae: 11.7187\n",
            "Epoch 63/100\n",
            "2/2 [==============================] - 0s 5ms/step - loss: 7.2316 - mae: 7.2316\n",
            "Epoch 64/100\n",
            "2/2 [==============================] - 0s 6ms/step - loss: 17.7848 - mae: 17.7848\n",
            "Epoch 65/100\n",
            "2/2 [==============================] - 0s 5ms/step - loss: 12.6255 - mae: 12.6255\n",
            "Epoch 66/100\n",
            "2/2 [==============================] - 0s 5ms/step - loss: 13.2840 - mae: 13.2840\n",
            "Epoch 67/100\n",
            "2/2 [==============================] - 0s 5ms/step - loss: 7.8471 - mae: 7.8471\n",
            "Epoch 68/100\n",
            "2/2 [==============================] - 0s 5ms/step - loss: 9.9708 - mae: 9.9708\n",
            "Epoch 69/100\n",
            "2/2 [==============================] - 0s 5ms/step - loss: 12.4903 - mae: 12.4903\n",
            "Epoch 70/100\n",
            "2/2 [==============================] - 0s 5ms/step - loss: 8.5001 - mae: 8.5001\n",
            "Epoch 71/100\n",
            "2/2 [==============================] - 0s 5ms/step - loss: 9.9996 - mae: 9.9996\n",
            "Epoch 72/100\n",
            "2/2 [==============================] - 0s 5ms/step - loss: 10.1797 - mae: 10.1797\n",
            "Epoch 73/100\n",
            "2/2 [==============================] - 0s 4ms/step - loss: 13.0024 - mae: 13.0024\n",
            "Epoch 74/100\n",
            "2/2 [==============================] - 0s 3ms/step - loss: 10.3812 - mae: 10.3812\n",
            "Epoch 75/100\n",
            "2/2 [==============================] - 0s 5ms/step - loss: 9.7621 - mae: 9.7621\n",
            "Epoch 76/100\n",
            "2/2 [==============================] - 0s 6ms/step - loss: 11.5186 - mae: 11.5186\n",
            "Epoch 77/100\n",
            "2/2 [==============================] - 0s 5ms/step - loss: 8.3070 - mae: 8.3070\n",
            "Epoch 78/100\n",
            "2/2 [==============================] - 0s 5ms/step - loss: 9.4436 - mae: 9.4436\n",
            "Epoch 79/100\n",
            "2/2 [==============================] - 0s 5ms/step - loss: 20.3897 - mae: 20.3897\n",
            "Epoch 80/100\n",
            "2/2 [==============================] - 0s 4ms/step - loss: 15.4751 - mae: 15.4751\n",
            "Epoch 81/100\n",
            "2/2 [==============================] - 0s 4ms/step - loss: 9.0208 - mae: 9.0208\n",
            "Epoch 82/100\n",
            "2/2 [==============================] - 0s 7ms/step - loss: 13.3869 - mae: 13.3869\n",
            "Epoch 83/100\n",
            "2/2 [==============================] - 0s 5ms/step - loss: 7.9649 - mae: 7.9649\n",
            "Epoch 84/100\n",
            "2/2 [==============================] - 0s 4ms/step - loss: 7.5702 - mae: 7.5702\n",
            "Epoch 85/100\n",
            "2/2 [==============================] - 0s 5ms/step - loss: 9.9706 - mae: 9.9706\n",
            "Epoch 86/100\n",
            "2/2 [==============================] - 0s 6ms/step - loss: 9.0533 - mae: 9.0533\n",
            "Epoch 87/100\n",
            "2/2 [==============================] - 0s 5ms/step - loss: 12.2670 - mae: 12.2670\n",
            "Epoch 88/100\n",
            "2/2 [==============================] - 0s 5ms/step - loss: 10.6052 - mae: 10.6052\n",
            "Epoch 89/100\n",
            "2/2 [==============================] - 0s 5ms/step - loss: 7.1986 - mae: 7.1986\n",
            "Epoch 90/100\n",
            "2/2 [==============================] - 0s 5ms/step - loss: 13.0379 - mae: 13.0379\n",
            "Epoch 91/100\n",
            "2/2 [==============================] - 0s 5ms/step - loss: 7.1968 - mae: 7.1968\n",
            "Epoch 92/100\n",
            "2/2 [==============================] - 0s 5ms/step - loss: 7.5386 - mae: 7.5386\n",
            "Epoch 93/100\n",
            "2/2 [==============================] - 0s 6ms/step - loss: 7.0932 - mae: 7.0932\n",
            "Epoch 94/100\n",
            "2/2 [==============================] - 0s 5ms/step - loss: 12.8860 - mae: 12.8860\n",
            "Epoch 95/100\n",
            "2/2 [==============================] - 0s 4ms/step - loss: 9.9620 - mae: 9.9620\n",
            "Epoch 96/100\n",
            "2/2 [==============================] - 0s 4ms/step - loss: 8.7739 - mae: 8.7739\n",
            "Epoch 97/100\n",
            "2/2 [==============================] - 0s 5ms/step - loss: 13.0861 - mae: 13.0861\n",
            "Epoch 98/100\n",
            "2/2 [==============================] - 0s 10ms/step - loss: 8.3848 - mae: 8.3848\n",
            "Epoch 99/100\n",
            "2/2 [==============================] - 0s 6ms/step - loss: 9.7828 - mae: 9.7828\n",
            "Epoch 100/100\n",
            "2/2 [==============================] - 0s 5ms/step - loss: 8.5252 - mae: 8.5252\n"
          ],
          "name": "stdout"
        },
        {
          "output_type": "execute_result",
          "data": {
            "text/plain": [
              "<tensorflow.python.keras.callbacks.History at 0x7fc93dd1fd90>"
            ]
          },
          "metadata": {
            "tags": []
          },
          "execution_count": 50
        }
      ]
    },
    {
      "cell_type": "code",
      "metadata": {
        "colab": {
          "base_uri": "https://localhost:8080/",
          "height": 465
        },
        "id": "cOEji0pYWznk",
        "outputId": "d48e33be-8adf-4881-c4dd-bea758b7d3fa"
      },
      "source": [
        "# Make some of the predictions with the model_1\n",
        "y_preds_1 = model_1.predict(X_test)\n",
        "plot_predictions(X_train, y_train, X_test, y_test, predictions=y_preds_1)"
      ],
      "execution_count": 51,
      "outputs": [
        {
          "output_type": "stream",
          "text": [
            "WARNING:tensorflow:5 out of the last 5 calls to <function Model.make_predict_function.<locals>.predict_function at 0x7fc93de698c0> triggered tf.function retracing. Tracing is expensive and the excessive number of tracings could be due to (1) creating @tf.function repeatedly in a loop, (2) passing tensors with different shapes, (3) passing Python objects instead of tensors. For (1), please define your @tf.function outside of the loop. For (2), @tf.function has experimental_relax_shapes=True option that relaxes argument shapes that can avoid unnecessary retracing. For (3), please refer to https://www.tensorflow.org/guide/function#controlling_retracing and https://www.tensorflow.org/api_docs/python/tf/function for  more details.\n"
          ],
          "name": "stdout"
        },
        {
          "output_type": "display_data",
          "data": {
            "image/png": "[encoded data removed]",
            "text/plain": [
              "<Figure size 720x504 with 1 Axes>"
            ]
          },
          "metadata": {
            "tags": [],
            "needs_background": "light"
          }
        }
      ]
    },
    {
      "cell_type": "code",
      "metadata": {
        "colab": {
          "base_uri": "https://localhost:8080/"
        },
        "id": "KSKWwYHFaZ7U",
        "outputId": "565498c5-baa1-4800-c481-c23de377643a"
      },
      "source": [
        "tf.constant(y_pred_1), tf.constant(tf.squeeze(y_pred_1))"
      ],
      "execution_count": 52,
      "outputs": [
        {
          "output_type": "execute_result",
          "data": {
            "text/plain": [
              "(<tf.Tensor: shape=(10, 1), dtype=float32, numpy=\n",
              " array([[53.57109 ],\n",
              "        [57.05633 ],\n",
              "        [60.541573],\n",
              "        [64.02681 ],\n",
              "        [67.512054],\n",
              "        [70.99729 ],\n",
              "        [74.48254 ],\n",
              "        [77.96777 ],\n",
              "        [81.45301 ],\n",
              "        [84.938255]], dtype=float32)>,\n",
              " <tf.Tensor: shape=(10,), dtype=float32, numpy=\n",
              " array([53.57109 , 57.05633 , 60.541573, 64.02681 , 67.512054, 70.99729 ,\n",
              "        74.48254 , 77.96777 , 81.45301 , 84.938255], dtype=float32)>)"
            ]
          },
          "metadata": {
            "tags": []
          },
          "execution_count": 52
        }
      ]
    },
    {
      "cell_type": "code",
      "metadata": {
        "colab": {
          "base_uri": "https://localhost:8080/"
        },
        "id": "SMDoJcoBZRh2",
        "outputId": "bc74e849-2179-4221-fc06-f7eaec7a2879"
      },
      "source": [
        " # Calculate model_1 evaluation metrics \n",
        "mae_1 = mae(y_test, y_preds_1)\n",
        "mse_1 = mse(y_test, y_preds_1)\n",
        "mae_1, mse_1"
      ],
      "execution_count": 53,
      "outputs": [
        {
          "output_type": "execute_result",
          "data": {
            "text/plain": [
              "(<tf.Tensor: shape=(), dtype=float32, numpy=18.745327>,\n",
              " <tf.Tensor: shape=(), dtype=float32, numpy=353.5734>)"
            ]
          },
          "metadata": {
            "tags": []
          },
          "execution_count": 53
        }
      ]
    },
    {
      "cell_type": "markdown",
      "metadata": {
        "id": "3oFOoffIaV8K"
      },
      "source": [
        "**Build `model_2`** - 2 dense layers trained for 100 epochs"
      ]
    },
    {
      "cell_type": "code",
      "metadata": {
        "colab": {
          "base_uri": "https://localhost:8080/"
        },
        "id": "TdXD5ofVaHgH",
        "outputId": "a249bc07-cae9-4ab6-8241-8254b9b2f410"
      },
      "source": [
        "# Let's start building the model_2\n",
        "\n",
        "# 1. Create the model\n",
        "model_2 = tf.keras.Sequential([\n",
        "    tf.keras.layers.Dense(10),\n",
        "    tf.keras.layers.Dense(1)\n",
        "])\n",
        "\n",
        "# 2. Compile the model\n",
        "model_2.compile(loss=tf.keras.losses.mae,\n",
        "                optimizer=tf.keras.optimizers.SGD(),\n",
        "                metrics=['mse'])\n",
        "\n",
        "# 3. Fit the model\n",
        "model_2.fit(X_train, y_train, epochs=100)"
      ],
      "execution_count": 54,
      "outputs": [
        {
          "output_type": "stream",
          "text": [
            "Epoch 1/100\n",
            "2/2 [==============================] - 0s 7ms/step - loss: 77.0856 - mse: 8550.2891\n",
            "Epoch 2/100\n",
            "2/2 [==============================] - 0s 7ms/step - loss: 17.0775 - mse: 458.0874\n",
            "Epoch 3/100\n",
            "2/2 [==============================] - 0s 4ms/step - loss: 20.1814 - mse: 597.2405\n",
            "Epoch 4/100\n",
            "2/2 [==============================] - 0s 6ms/step - loss: 12.5192 - mse: 196.8841\n",
            "Epoch 5/100\n",
            "2/2 [==============================] - 0s 6ms/step - loss: 14.1468 - mse: 243.6306\n",
            "Epoch 6/100\n",
            "2/2 [==============================] - 0s 5ms/step - loss: 11.6317 - mse: 154.1265\n",
            "Epoch 7/100\n",
            "2/2 [==============================] - 0s 5ms/step - loss: 12.8263 - mse: 216.9939\n",
            "Epoch 8/100\n",
            "2/2 [==============================] - 0s 5ms/step - loss: 11.2822 - mse: 156.1549\n",
            "Epoch 9/100\n",
            "2/2 [==============================] - 0s 5ms/step - loss: 41.5593 - mse: 2650.8283\n",
            "Epoch 10/100\n",
            "2/2 [==============================] - 0s 6ms/step - loss: 27.6300 - mse: 1072.2355\n",
            "Epoch 11/100\n",
            "2/2 [==============================] - 0s 6ms/step - loss: 10.2494 - mse: 156.8378\n",
            "Epoch 12/100\n",
            "2/2 [==============================] - 0s 6ms/step - loss: 25.0770 - mse: 880.9306\n",
            "Epoch 13/100\n",
            "2/2 [==============================] - 0s 6ms/step - loss: 19.1028 - mse: 525.4266\n",
            "Epoch 14/100\n",
            "2/2 [==============================] - 0s 6ms/step - loss: 23.8938 - mse: 878.6294\n",
            "Epoch 15/100\n",
            "2/2 [==============================] - 0s 6ms/step - loss: 15.1235 - mse: 311.3551\n",
            "Epoch 16/100\n",
            "2/2 [==============================] - 0s 6ms/step - loss: 11.3656 - mse: 147.6967\n",
            "Epoch 17/100\n",
            "2/2 [==============================] - 0s 6ms/step - loss: 23.1687 - mse: 762.9237\n",
            "Epoch 18/100\n",
            "2/2 [==============================] - 0s 8ms/step - loss: 12.1538 - mse: 224.6829\n",
            "Epoch 19/100\n",
            "2/2 [==============================] - 0s 7ms/step - loss: 16.7245 - mse: 444.3987\n",
            "Epoch 20/100\n",
            "2/2 [==============================] - 0s 6ms/step - loss: 8.0070 - mse: 90.2488\n",
            "Epoch 21/100\n",
            "2/2 [==============================] - 0s 6ms/step - loss: 14.4158 - mse: 288.1831\n",
            "Epoch 22/100\n",
            "2/2 [==============================] - 0s 7ms/step - loss: 12.7941 - mse: 236.5913\n",
            "Epoch 23/100\n",
            "2/2 [==============================] - 0s 6ms/step - loss: 15.0232 - mse: 297.5723\n",
            "Epoch 24/100\n",
            "2/2 [==============================] - 0s 5ms/step - loss: 15.4158 - mse: 321.6331\n",
            "Epoch 25/100\n",
            "2/2 [==============================] - 0s 6ms/step - loss: 14.0049 - mse: 261.0065\n",
            "Epoch 26/100\n",
            "2/2 [==============================] - 0s 3ms/step - loss: 20.3367 - mse: 607.0000\n",
            "Epoch 27/100\n",
            "2/2 [==============================] - 0s 7ms/step - loss: 11.6472 - mse: 173.7374\n",
            "Epoch 28/100\n",
            "2/2 [==============================] - 0s 6ms/step - loss: 30.4176 - mse: 1471.9399\n",
            "Epoch 29/100\n",
            "2/2 [==============================] - 0s 8ms/step - loss: 9.1966 - mse: 91.2107\n",
            "Epoch 30/100\n",
            "2/2 [==============================] - 0s 6ms/step - loss: 31.9349 - mse: 1751.0155\n",
            "Epoch 31/100\n",
            "2/2 [==============================] - 0s 5ms/step - loss: 58.1652 - mse: 5705.2510\n",
            "Epoch 32/100\n",
            "2/2 [==============================] - 0s 11ms/step - loss: 9.5376 - mse: 97.2989\n",
            "Epoch 33/100\n",
            "2/2 [==============================] - 0s 9ms/step - loss: 12.1845 - mse: 183.4251\n",
            "Epoch 34/100\n",
            "2/2 [==============================] - 0s 8ms/step - loss: 24.5685 - mse: 909.3693\n",
            "Epoch 35/100\n",
            "2/2 [==============================] - 0s 7ms/step - loss: 11.5548 - mse: 202.3292\n",
            "Epoch 36/100\n",
            "2/2 [==============================] - 0s 6ms/step - loss: 22.6218 - mse: 707.7555\n",
            "Epoch 37/100\n",
            "2/2 [==============================] - 0s 11ms/step - loss: 11.0027 - mse: 135.9207\n",
            "Epoch 38/100\n",
            "2/2 [==============================] - 0s 7ms/step - loss: 13.5250 - mse: 271.1888\n",
            "Epoch 39/100\n",
            "2/2 [==============================] - 0s 5ms/step - loss: 10.9190 - mse: 140.9140\n",
            "Epoch 40/100\n",
            "2/2 [==============================] - 0s 16ms/step - loss: 16.3505 - mse: 390.1536\n",
            "Epoch 41/100\n",
            "2/2 [==============================] - 0s 6ms/step - loss: 9.9779 - mse: 142.8123\n",
            "Epoch 42/100\n",
            "2/2 [==============================] - 0s 6ms/step - loss: 8.7666 - mse: 100.5632\n",
            "Epoch 43/100\n",
            "2/2 [==============================] - 0s 8ms/step - loss: 9.2370 - mse: 99.8101\n",
            "Epoch 44/100\n",
            "2/2 [==============================] - 0s 6ms/step - loss: 29.1019 - mse: 1338.2510\n",
            "Epoch 45/100\n",
            "2/2 [==============================] - 0s 7ms/step - loss: 11.0540 - mse: 137.7351\n",
            "Epoch 46/100\n",
            "2/2 [==============================] - 0s 11ms/step - loss: 14.2725 - mse: 298.0078\n",
            "Epoch 47/100\n",
            "2/2 [==============================] - 0s 7ms/step - loss: 13.2563 - mse: 245.0739\n",
            "Epoch 48/100\n",
            "2/2 [==============================] - 0s 6ms/step - loss: 17.9832 - mse: 433.0757\n",
            "Epoch 49/100\n",
            "2/2 [==============================] - 0s 6ms/step - loss: 9.4848 - mse: 95.4112\n",
            "Epoch 50/100\n",
            "2/2 [==============================] - 0s 6ms/step - loss: 13.6692 - mse: 249.4647\n",
            "Epoch 51/100\n",
            "2/2 [==============================] - 0s 7ms/step - loss: 11.2446 - mse: 143.0013\n",
            "Epoch 52/100\n",
            "2/2 [==============================] - 0s 5ms/step - loss: 31.8073 - mse: 1691.8671\n",
            "Epoch 53/100\n",
            "2/2 [==============================] - 0s 6ms/step - loss: 13.6397 - mse: 281.5472\n",
            "Epoch 54/100\n",
            "2/2 [==============================] - 0s 12ms/step - loss: 27.2443 - mse: 1134.9297\n",
            "Epoch 55/100\n",
            "2/2 [==============================] - 0s 12ms/step - loss: 26.7138 - mse: 1078.3835\n",
            "Epoch 56/100\n",
            "2/2 [==============================] - 0s 11ms/step - loss: 10.4464 - mse: 140.5566\n",
            "Epoch 57/100\n",
            "2/2 [==============================] - 0s 4ms/step - loss: 12.9866 - mse: 209.4999\n",
            "Epoch 58/100\n",
            "2/2 [==============================] - 0s 5ms/step - loss: 9.7887 - mse: 103.1088\n",
            "Epoch 59/100\n",
            "2/2 [==============================] - 0s 6ms/step - loss: 13.4902 - mse: 257.1105\n",
            "Epoch 60/100\n",
            "2/2 [==============================] - 0s 5ms/step - loss: 10.8523 - mse: 136.9982\n",
            "Epoch 61/100\n",
            "2/2 [==============================] - 0s 6ms/step - loss: 13.4220 - mse: 244.1269\n",
            "Epoch 62/100\n",
            "2/2 [==============================] - 0s 8ms/step - loss: 17.8431 - mse: 486.0757\n",
            "Epoch 63/100\n",
            "2/2 [==============================] - 0s 6ms/step - loss: 8.4303 - mse: 85.3820\n",
            "Epoch 64/100\n",
            "2/2 [==============================] - 0s 6ms/step - loss: 15.8669 - mse: 362.3832\n",
            "Epoch 65/100\n",
            "2/2 [==============================] - 0s 6ms/step - loss: 10.8842 - mse: 149.8812\n",
            "Epoch 66/100\n",
            "2/2 [==============================] - 0s 6ms/step - loss: 22.4017 - mse: 748.6924\n",
            "Epoch 67/100\n",
            "2/2 [==============================] - 0s 6ms/step - loss: 10.0991 - mse: 113.7230\n",
            "Epoch 68/100\n",
            "2/2 [==============================] - 0s 6ms/step - loss: 13.3646 - mse: 266.9545\n",
            "Epoch 69/100\n",
            "2/2 [==============================] - 0s 6ms/step - loss: 11.4516 - mse: 162.4537\n",
            "Epoch 70/100\n",
            "2/2 [==============================] - 0s 7ms/step - loss: 13.4045 - mse: 237.9814\n",
            "Epoch 71/100\n",
            "2/2 [==============================] - 0s 12ms/step - loss: 15.2406 - mse: 329.4043\n",
            "Epoch 72/100\n",
            "2/2 [==============================] - 0s 5ms/step - loss: 11.6151 - mse: 160.9965\n",
            "Epoch 73/100\n",
            "2/2 [==============================] - 0s 5ms/step - loss: 16.0014 - mse: 351.6744\n",
            "Epoch 74/100\n",
            "2/2 [==============================] - 0s 5ms/step - loss: 24.7200 - mse: 956.7668\n",
            "Epoch 75/100\n",
            "2/2 [==============================] - 0s 5ms/step - loss: 8.8088 - mse: 119.8574\n",
            "Epoch 76/100\n",
            "2/2 [==============================] - 0s 5ms/step - loss: 12.0321 - mse: 174.1860\n",
            "Epoch 77/100\n",
            "2/2 [==============================] - 0s 5ms/step - loss: 16.7166 - mse: 436.1374\n",
            "Epoch 78/100\n",
            "2/2 [==============================] - 0s 5ms/step - loss: 9.3104 - mse: 99.6773\n",
            "Epoch 79/100\n",
            "2/2 [==============================] - 0s 6ms/step - loss: 24.5281 - mse: 907.5584\n",
            "Epoch 80/100\n",
            "2/2 [==============================] - 0s 4ms/step - loss: 27.5199 - mse: 1165.7615\n",
            "Epoch 81/100\n",
            "2/2 [==============================] - 0s 5ms/step - loss: 11.7673 - mse: 172.3190\n",
            "Epoch 82/100\n",
            "2/2 [==============================] - 0s 4ms/step - loss: 11.6598 - mse: 195.8545\n",
            "Epoch 83/100\n",
            "2/2 [==============================] - 0s 6ms/step - loss: 17.8867 - mse: 413.4757\n",
            "Epoch 84/100\n",
            "2/2 [==============================] - 0s 5ms/step - loss: 7.0490 - mse: 70.2924\n",
            "Epoch 85/100\n",
            "2/2 [==============================] - 0s 5ms/step - loss: 15.1471 - mse: 320.7409\n",
            "Epoch 86/100\n",
            "2/2 [==============================] - 0s 5ms/step - loss: 15.1523 - mse: 311.3767\n",
            "Epoch 87/100\n",
            "2/2 [==============================] - 0s 4ms/step - loss: 19.8577 - mse: 553.9327\n",
            "Epoch 88/100\n",
            "2/2 [==============================] - 0s 5ms/step - loss: 30.8033 - mse: 1361.0468\n",
            "Epoch 89/100\n",
            "2/2 [==============================] - 0s 3ms/step - loss: 9.7309 - mse: 108.9137\n",
            "Epoch 90/100\n",
            "2/2 [==============================] - 0s 4ms/step - loss: 21.5771 - mse: 675.8899\n",
            "Epoch 91/100\n",
            "2/2 [==============================] - 0s 10ms/step - loss: 9.6058 - mse: 128.3650\n",
            "Epoch 92/100\n",
            "2/2 [==============================] - 0s 5ms/step - loss: 18.2329 - mse: 464.6342\n",
            "Epoch 93/100\n",
            "2/2 [==============================] - 0s 7ms/step - loss: 7.2112 - mse: 75.7694\n",
            "Epoch 94/100\n",
            "2/2 [==============================] - 0s 4ms/step - loss: 17.4360 - mse: 438.6091\n",
            "Epoch 95/100\n",
            "2/2 [==============================] - 0s 5ms/step - loss: 11.1896 - mse: 164.6896\n",
            "Epoch 96/100\n",
            "2/2 [==============================] - 0s 6ms/step - loss: 18.9276 - mse: 491.9703\n",
            "Epoch 97/100\n",
            "2/2 [==============================] - 0s 7ms/step - loss: 12.2155 - mse: 209.1452\n",
            "Epoch 98/100\n",
            "2/2 [==============================] - 0s 5ms/step - loss: 11.3058 - mse: 158.7310\n",
            "Epoch 99/100\n",
            "2/2 [==============================] - 0s 7ms/step - loss: 13.4578 - mse: 254.3970\n",
            "Epoch 100/100\n",
            "2/2 [==============================] - 0s 12ms/step - loss: 20.1602 - mse: 611.1925\n"
          ],
          "name": "stdout"
        },
        {
          "output_type": "execute_result",
          "data": {
            "text/plain": [
              "<tensorflow.python.keras.callbacks.History at 0x7fc93e6fc1d0>"
            ]
          },
          "metadata": {
            "tags": []
          },
          "execution_count": 54
        }
      ]
    },
    {
      "cell_type": "code",
      "metadata": {
        "colab": {
          "base_uri": "https://localhost:8080/",
          "height": 465
        },
        "id": "w_vyE_oCdLYt",
        "outputId": "7176b598-d40d-4dcc-b918-452e6b9a3cef"
      },
      "source": [
        "# Make and plot predictions of model_2\n",
        "y_preds_2 = model_2.predict(X_test)\n",
        "plot_predictions( X_train, y_train, X_test, y_test, y_preds_2)"
      ],
      "execution_count": 55,
      "outputs": [
        {
          "output_type": "stream",
          "text": [
            "WARNING:tensorflow:6 out of the last 6 calls to <function Model.make_predict_function.<locals>.predict_function at 0x7fc93e5c6ef0> triggered tf.function retracing. Tracing is expensive and the excessive number of tracings could be due to (1) creating @tf.function repeatedly in a loop, (2) passing tensors with different shapes, (3) passing Python objects instead of tensors. For (1), please define your @tf.function outside of the loop. For (2), @tf.function has experimental_relax_shapes=True option that relaxes argument shapes that can avoid unnecessary retracing. For (3), please refer to https://www.tensorflow.org/guide/function#controlling_retracing and https://www.tensorflow.org/api_docs/python/tf/function for  more details.\n"
          ],
          "name": "stdout"
        },
        {
          "output_type": "display_data",
          "data": {
            "image/png": "[encoded data removed]",
            "text/plain": [
              "<Figure size 720x504 with 1 Axes>"
            ]
          },
          "metadata": {
            "tags": [],
            "needs_background": "light"
          }
        }
      ]
    },
    {
      "cell_type": "code",
      "metadata": {
        "colab": {
          "base_uri": "https://localhost:8080/"
        },
        "id": "t2xqysYCd695",
        "outputId": "4767a8b6-26f3-47af-a3c7-82101e2c9bda"
      },
      "source": [
        "# Calculate the evaluation metrics of the model_2\n",
        "mae_2 = mae(y_test, y_preds_2)\n",
        "mse_2 = mse(y_test, y_preds_2)\n",
        "mae_2, mse_2"
      ],
      "execution_count": 56,
      "outputs": [
        {
          "output_type": "execute_result",
          "data": {
            "text/plain": [
              "(<tf.Tensor: shape=(), dtype=float32, numpy=3.1109796>,\n",
              " <tf.Tensor: shape=(), dtype=float32, numpy=12.496952>)"
            ]
          },
          "metadata": {
            "tags": []
          },
          "execution_count": 56
        }
      ]
    },
    {
      "cell_type": "markdown",
      "metadata": {
        "id": "Gv2dC5kaeo0f"
      },
      "source": [
        "**Build `model_3`** -  2 layers trained for 500 epochs.\n"
      ]
    },
    {
      "cell_type": "code",
      "metadata": {
        "colab": {
          "base_uri": "https://localhost:8080/"
        },
        "id": "lbtmOyxreWcW",
        "outputId": "9b81a132-7b77-49b8-f69f-e48e2e251dc5"
      },
      "source": [
        "# Now let's create the model_3\n",
        "\n",
        "# 1. Create the model\n",
        "model_3 = tf.keras.Sequential([\n",
        "    tf.keras.layers.Dense(10),\n",
        "    tf.keras.layers.Dense(1)\n",
        "])\n",
        "\n",
        "# 2. Compile the model\n",
        "model_3.compile(loss=tf.keras.losses.mae,\n",
        "                optimizer=tf.keras.optimizers.SGD(),\n",
        "                metrics=[\"mse\"])\n",
        "\n",
        "# 3. Fit the model\n",
        "model_3.fit(X_train, y_train, epochs=500)"
      ],
      "execution_count": 57,
      "outputs": [
        {
          "output_type": "stream",
          "text": [
            "Epoch 1/500\n",
            "2/2 [==============================] - 0s 9ms/step - loss: 21.2489 - mse: 653.0997\n",
            "Epoch 2/500\n",
            "2/2 [==============================] - 0s 7ms/step - loss: 22.0002 - mse: 620.4684\n",
            "Epoch 3/500\n",
            "2/2 [==============================] - 0s 5ms/step - loss: 29.6942 - mse: 1249.1231\n",
            "Epoch 4/500\n",
            "2/2 [==============================] - 0s 4ms/step - loss: 23.1934 - mse: 776.0347\n",
            "Epoch 5/500\n",
            "2/2 [==============================] - 0s 4ms/step - loss: 13.3640 - mse: 211.7620\n",
            "Epoch 6/500\n",
            "2/2 [==============================] - 0s 4ms/step - loss: 11.0209 - mse: 131.9093\n",
            "Epoch 7/500\n",
            "2/2 [==============================] - 0s 4ms/step - loss: 12.1214 - mse: 180.7038\n",
            "Epoch 8/500\n",
            "2/2 [==============================] - 0s 6ms/step - loss: 10.9356 - mse: 134.0940\n",
            "Epoch 9/500\n",
            "2/2 [==============================] - 0s 4ms/step - loss: 38.9254 - mse: 2297.2700\n",
            "Epoch 10/500\n",
            "2/2 [==============================] - 0s 6ms/step - loss: 25.3178 - mse: 898.7646\n",
            "Epoch 11/500\n",
            "2/2 [==============================] - 0s 6ms/step - loss: 9.6961 - mse: 132.7719\n",
            "Epoch 12/500\n",
            "2/2 [==============================] - 0s 4ms/step - loss: 26.0037 - mse: 941.4382\n",
            "Epoch 13/500\n",
            "2/2 [==============================] - 0s 4ms/step - loss: 16.4806 - mse: 382.1932\n",
            "Epoch 14/500\n",
            "2/2 [==============================] - 0s 5ms/step - loss: 26.1150 - mse: 1059.6158\n",
            "Epoch 15/500\n",
            "2/2 [==============================] - 0s 4ms/step - loss: 17.1917 - mse: 412.1763\n",
            "Epoch 16/500\n",
            "2/2 [==============================] - 0s 5ms/step - loss: 9.5645 - mse: 110.2675\n",
            "Epoch 17/500\n",
            "2/2 [==============================] - 0s 4ms/step - loss: 17.9332 - mse: 432.7814\n",
            "Epoch 18/500\n",
            "2/2 [==============================] - 0s 5ms/step - loss: 11.7483 - mse: 208.3531\n",
            "Epoch 19/500\n",
            "2/2 [==============================] - 0s 6ms/step - loss: 14.0284 - mse: 304.1554\n",
            "Epoch 20/500\n",
            "2/2 [==============================] - 0s 5ms/step - loss: 10.6357 - mse: 127.8921\n",
            "Epoch 21/500\n",
            "2/2 [==============================] - 0s 5ms/step - loss: 17.0303 - mse: 416.8658\n",
            "Epoch 22/500\n",
            "2/2 [==============================] - 0s 7ms/step - loss: 15.2327 - mse: 317.0196\n",
            "Epoch 23/500\n",
            "2/2 [==============================] - 0s 5ms/step - loss: 8.8307 - mse: 110.3799\n",
            "Epoch 24/500\n",
            "2/2 [==============================] - 0s 5ms/step - loss: 17.9306 - mse: 436.7057\n",
            "Epoch 25/500\n",
            "2/2 [==============================] - 0s 10ms/step - loss: 16.1291 - mse: 344.9620\n",
            "Epoch 26/500\n",
            "2/2 [==============================] - 0s 6ms/step - loss: 21.9511 - mse: 696.2936\n",
            "Epoch 27/500\n",
            "2/2 [==============================] - 0s 5ms/step - loss: 26.6083 - mse: 1098.1149\n",
            "Epoch 28/500\n",
            "2/2 [==============================] - 0s 6ms/step - loss: 18.5642 - mse: 543.5962\n",
            "Epoch 29/500\n",
            "2/2 [==============================] - 0s 6ms/step - loss: 9.0864 - mse: 93.1787\n",
            "Epoch 30/500\n",
            "2/2 [==============================] - 0s 6ms/step - loss: 30.8395 - mse: 1616.6563\n",
            "Epoch 31/500\n",
            "2/2 [==============================] - 0s 5ms/step - loss: 56.2198 - mse: 5324.1128\n",
            "Epoch 32/500\n",
            "2/2 [==============================] - 0s 6ms/step - loss: 12.1515 - mse: 212.6008\n",
            "Epoch 33/500\n",
            "2/2 [==============================] - 0s 6ms/step - loss: 15.1121 - mse: 319.8674\n",
            "Epoch 34/500\n",
            "2/2 [==============================] - 0s 6ms/step - loss: 12.6595 - mse: 207.8403\n",
            "Epoch 35/500\n",
            "2/2 [==============================] - 0s 6ms/step - loss: 9.3902 - mse: 93.2263\n",
            "Epoch 36/500\n",
            "2/2 [==============================] - 0s 5ms/step - loss: 16.4001 - mse: 391.5878\n",
            "Epoch 37/500\n",
            "2/2 [==============================] - 0s 5ms/step - loss: 10.5509 - mse: 170.1116\n",
            "Epoch 38/500\n",
            "2/2 [==============================] - 0s 5ms/step - loss: 18.8615 - mse: 464.9826\n",
            "Epoch 39/500\n",
            "2/2 [==============================] - 0s 5ms/step - loss: 20.1941 - mse: 574.8782\n",
            "Epoch 40/500\n",
            "2/2 [==============================] - 0s 5ms/step - loss: 21.5950 - mse: 660.5478\n",
            "Epoch 41/500\n",
            "2/2 [==============================] - 0s 6ms/step - loss: 14.4089 - mse: 260.3416\n",
            "Epoch 42/500\n",
            "2/2 [==============================] - 0s 5ms/step - loss: 12.1786 - mse: 182.5292\n",
            "Epoch 43/500\n",
            "2/2 [==============================] - 0s 5ms/step - loss: 11.0377 - mse: 170.1388\n",
            "Epoch 44/500\n",
            "2/2 [==============================] - 0s 8ms/step - loss: 33.8091 - mse: 1829.5127\n",
            "Epoch 45/500\n",
            "2/2 [==============================] - 0s 9ms/step - loss: 12.4668 - mse: 200.7622\n",
            "Epoch 46/500\n",
            "2/2 [==============================] - 0s 6ms/step - loss: 17.8527 - mse: 476.5854\n",
            "Epoch 47/500\n",
            "2/2 [==============================] - 0s 5ms/step - loss: 16.0398 - mse: 349.3864\n",
            "Epoch 48/500\n",
            "2/2 [==============================] - 0s 6ms/step - loss: 8.0537 - mse: 102.6129\n",
            "Epoch 49/500\n",
            "2/2 [==============================] - 0s 6ms/step - loss: 13.5569 - mse: 249.3994\n",
            "Epoch 50/500\n",
            "2/2 [==============================] - 0s 6ms/step - loss: 12.7040 - mse: 210.2550\n",
            "Epoch 51/500\n",
            "2/2 [==============================] - 0s 6ms/step - loss: 15.2576 - mse: 327.3609\n",
            "Epoch 52/500\n",
            "2/2 [==============================] - 0s 12ms/step - loss: 19.8358 - mse: 570.9254\n",
            "Epoch 53/500\n",
            "2/2 [==============================] - 0s 6ms/step - loss: 24.7205 - mse: 868.9667\n",
            "Epoch 54/500\n",
            "2/2 [==============================] - 0s 6ms/step - loss: 23.5664 - mse: 838.3845\n",
            "Epoch 55/500\n",
            "2/2 [==============================] - 0s 5ms/step - loss: 24.5095 - mse: 903.0859\n",
            "Epoch 56/500\n",
            "2/2 [==============================] - 0s 6ms/step - loss: 10.3288 - mse: 139.3046\n",
            "Epoch 57/500\n",
            "2/2 [==============================] - 0s 6ms/step - loss: 12.8449 - mse: 203.6323\n",
            "Epoch 58/500\n",
            "2/2 [==============================] - 0s 7ms/step - loss: 9.6977 - mse: 101.0926\n",
            "Epoch 59/500\n",
            "2/2 [==============================] - 0s 10ms/step - loss: 13.3485 - mse: 249.8376\n",
            "Epoch 60/500\n",
            "2/2 [==============================] - 0s 3ms/step - loss: 10.7561 - mse: 133.8243\n",
            "Epoch 61/500\n",
            "2/2 [==============================] - 0s 8ms/step - loss: 13.3018 - mse: 238.1813\n",
            "Epoch 62/500\n",
            "2/2 [==============================] - 0s 8ms/step - loss: 17.5109 - mse: 468.7475\n",
            "Epoch 63/500\n",
            "2/2 [==============================] - 0s 6ms/step - loss: 8.9912 - mse: 83.6649\n",
            "Epoch 64/500\n",
            "2/2 [==============================] - 0s 7ms/step - loss: 18.1579 - mse: 482.3720\n",
            "Epoch 65/500\n",
            "2/2 [==============================] - 0s 9ms/step - loss: 10.0356 - mse: 111.0697\n",
            "Epoch 66/500\n",
            "2/2 [==============================] - 0s 9ms/step - loss: 24.7084 - mse: 923.0124\n",
            "Epoch 67/500\n",
            "2/2 [==============================] - 0s 7ms/step - loss: 10.8435 - mse: 139.7179\n",
            "Epoch 68/500\n",
            "2/2 [==============================] - 0s 5ms/step - loss: 11.0011 - mse: 166.0462\n",
            "Epoch 69/500\n",
            "2/2 [==============================] - 0s 10ms/step - loss: 23.6879 - mse: 811.2473\n",
            "Epoch 70/500\n",
            "2/2 [==============================] - 0s 7ms/step - loss: 8.3177 - mse: 122.6958\n",
            "Epoch 71/500\n",
            "2/2 [==============================] - 0s 5ms/step - loss: 16.5239 - mse: 368.6289\n",
            "Epoch 72/500\n",
            "2/2 [==============================] - 0s 5ms/step - loss: 7.7650 - mse: 97.7562\n",
            "Epoch 73/500\n",
            "2/2 [==============================] - 0s 15ms/step - loss: 8.9471 - mse: 131.8602\n",
            "Epoch 74/500\n",
            "2/2 [==============================] - 0s 8ms/step - loss: 29.1443 - mse: 1170.0649\n",
            "Epoch 75/500\n",
            "2/2 [==============================] - 0s 6ms/step - loss: 9.4890 - mse: 119.3260\n",
            "Epoch 76/500\n",
            "2/2 [==============================] - 0s 4ms/step - loss: 12.8339 - mse: 209.1768\n",
            "Epoch 77/500\n",
            "2/2 [==============================] - 0s 5ms/step - loss: 18.4976 - mse: 540.0573\n",
            "Epoch 78/500\n",
            "2/2 [==============================] - 0s 6ms/step - loss: 9.1824 - mse: 93.3865\n",
            "Epoch 79/500\n",
            "2/2 [==============================] - 0s 5ms/step - loss: 23.8382 - mse: 853.7439\n",
            "Epoch 80/500\n",
            "2/2 [==============================] - 0s 5ms/step - loss: 26.7146 - mse: 1094.7424\n",
            "Epoch 81/500\n",
            "2/2 [==============================] - 0s 7ms/step - loss: 11.3862 - mse: 156.3450\n",
            "Epoch 82/500\n",
            "2/2 [==============================] - 0s 4ms/step - loss: 12.1260 - mse: 210.3639\n",
            "Epoch 83/500\n",
            "2/2 [==============================] - 0s 9ms/step - loss: 17.6197 - mse: 400.8615\n",
            "Epoch 84/500\n",
            "2/2 [==============================] - 0s 6ms/step - loss: 6.5711 - mse: 63.6514\n",
            "Epoch 85/500\n",
            "2/2 [==============================] - 0s 6ms/step - loss: 20.1621 - mse: 578.4173\n",
            "Epoch 86/500\n",
            "2/2 [==============================] - 0s 6ms/step - loss: 10.0979 - mse: 114.7867\n",
            "Epoch 87/500\n",
            "2/2 [==============================] - 0s 5ms/step - loss: 24.4732 - mse: 847.0316\n",
            "Epoch 88/500\n",
            "2/2 [==============================] - 0s 5ms/step - loss: 18.8223 - mse: 505.1139\n",
            "Epoch 89/500\n",
            "2/2 [==============================] - 0s 7ms/step - loss: 7.0309 - mse: 69.6163\n",
            "Epoch 90/500\n",
            "2/2 [==============================] - 0s 7ms/step - loss: 19.1463 - mse: 530.5000\n",
            "Epoch 91/500\n",
            "2/2 [==============================] - 0s 6ms/step - loss: 13.4700 - mse: 258.5719\n",
            "Epoch 92/500\n",
            "2/2 [==============================] - 0s 6ms/step - loss: 15.0725 - mse: 318.1655\n",
            "Epoch 93/500\n",
            "2/2 [==============================] - 0s 7ms/step - loss: 10.5223 - mse: 199.1546\n",
            "Epoch 94/500\n",
            "2/2 [==============================] - 0s 5ms/step - loss: 16.7343 - mse: 393.2867\n",
            "Epoch 95/500\n",
            "2/2 [==============================] - 0s 7ms/step - loss: 15.7890 - mse: 331.5818\n",
            "Epoch 96/500\n",
            "2/2 [==============================] - 0s 5ms/step - loss: 15.5634 - mse: 343.2148\n",
            "Epoch 97/500\n",
            "2/2 [==============================] - 0s 9ms/step - loss: 10.2204 - mse: 161.0891\n",
            "Epoch 98/500\n",
            "2/2 [==============================] - 0s 7ms/step - loss: 14.6003 - mse: 291.5257\n",
            "Epoch 99/500\n",
            "2/2 [==============================] - 0s 6ms/step - loss: 13.2212 - mse: 245.4660\n",
            "Epoch 100/500\n",
            "2/2 [==============================] - 0s 4ms/step - loss: 20.9720 - mse: 624.4774\n",
            "Epoch 101/500\n",
            "2/2 [==============================] - 0s 7ms/step - loss: 22.8675 - mse: 794.5888\n",
            "Epoch 102/500\n",
            "2/2 [==============================] - 0s 6ms/step - loss: 10.5549 - mse: 138.5333\n",
            "Epoch 103/500\n",
            "2/2 [==============================] - 0s 7ms/step - loss: 9.0928 - mse: 88.9739\n",
            "Epoch 104/500\n",
            "2/2 [==============================] - 0s 6ms/step - loss: 25.6408 - mse: 987.5144\n",
            "Epoch 105/500\n",
            "2/2 [==============================] - 0s 5ms/step - loss: 12.2484 - mse: 222.6354\n",
            "Epoch 106/500\n",
            "2/2 [==============================] - 0s 6ms/step - loss: 9.0316 - mse: 93.8132\n",
            "Epoch 107/500\n",
            "2/2 [==============================] - 0s 6ms/step - loss: 23.7068 - mse: 846.0048\n",
            "Epoch 108/500\n",
            "2/2 [==============================] - 0s 6ms/step - loss: 7.9177 - mse: 78.6078\n",
            "Epoch 109/500\n",
            "2/2 [==============================] - 0s 8ms/step - loss: 13.7255 - mse: 267.7805\n",
            "Epoch 110/500\n",
            "2/2 [==============================] - 0s 7ms/step - loss: 9.9058 - mse: 169.5850\n",
            "Epoch 111/500\n",
            "2/2 [==============================] - 0s 6ms/step - loss: 17.6933 - mse: 438.3814\n",
            "Epoch 112/500\n",
            "2/2 [==============================] - 0s 8ms/step - loss: 7.9217 - mse: 84.2560\n",
            "Epoch 113/500\n",
            "2/2 [==============================] - 0s 5ms/step - loss: 19.5155 - mse: 556.5227\n",
            "Epoch 114/500\n",
            "2/2 [==============================] - 0s 4ms/step - loss: 17.2286 - mse: 451.3722\n",
            "Epoch 115/500\n",
            "2/2 [==============================] - 0s 5ms/step - loss: 11.0381 - mse: 153.9916\n",
            "Epoch 116/500\n",
            "2/2 [==============================] - 0s 6ms/step - loss: 23.7690 - mse: 827.6532\n",
            "Epoch 117/500\n",
            "2/2 [==============================] - 0s 5ms/step - loss: 8.9449 - mse: 103.4785\n",
            "Epoch 118/500\n",
            "2/2 [==============================] - 0s 4ms/step - loss: 10.4099 - mse: 129.0865\n",
            "Epoch 119/500\n",
            "2/2 [==============================] - 0s 5ms/step - loss: 8.3825 - mse: 84.1231\n",
            "Epoch 120/500\n",
            "2/2 [==============================] - 0s 4ms/step - loss: 30.9020 - mse: 1406.7521\n",
            "Epoch 121/500\n",
            "2/2 [==============================] - 0s 4ms/step - loss: 8.2018 - mse: 71.5411\n",
            "Epoch 122/500\n",
            "2/2 [==============================] - 0s 5ms/step - loss: 29.5615 - mse: 1327.3632\n",
            "Epoch 123/500\n",
            "2/2 [==============================] - 0s 3ms/step - loss: 34.3676 - mse: 1710.9699\n",
            "Epoch 124/500\n",
            "2/2 [==============================] - 0s 6ms/step - loss: 19.7923 - mse: 583.8592\n",
            "Epoch 125/500\n",
            "2/2 [==============================] - 0s 3ms/step - loss: 6.6396 - mse: 64.7359\n",
            "Epoch 126/500\n",
            "2/2 [==============================] - 0s 4ms/step - loss: 21.9681 - mse: 686.5902\n",
            "Epoch 127/500\n",
            "2/2 [==============================] - 0s 4ms/step - loss: 8.1453 - mse: 70.9167\n",
            "Epoch 128/500\n",
            "2/2 [==============================] - 0s 12ms/step - loss: 21.2100 - mse: 671.9855\n",
            "Epoch 129/500\n",
            "2/2 [==============================] - 0s 5ms/step - loss: 9.4048 - mse: 129.9526\n",
            "Epoch 130/500\n",
            "2/2 [==============================] - 0s 5ms/step - loss: 24.3233 - mse: 841.5882\n",
            "Epoch 131/500\n",
            "2/2 [==============================] - 0s 6ms/step - loss: 9.9858 - mse: 139.1897\n",
            "Epoch 132/500\n",
            "2/2 [==============================] - 0s 3ms/step - loss: 18.4048 - mse: 507.3946\n",
            "Epoch 133/500\n",
            "2/2 [==============================] - 0s 3ms/step - loss: 7.3110 - mse: 72.8294\n",
            "Epoch 134/500\n",
            "2/2 [==============================] - 0s 5ms/step - loss: 18.4438 - mse: 503.8697\n",
            "Epoch 135/500\n",
            "2/2 [==============================] - 0s 6ms/step - loss: 9.7815 - mse: 122.0853\n",
            "Epoch 136/500\n",
            "2/2 [==============================] - 0s 5ms/step - loss: 17.8586 - mse: 461.7865\n",
            "Epoch 137/500\n",
            "2/2 [==============================] - 0s 5ms/step - loss: 22.9898 - mse: 723.4738\n",
            "Epoch 138/500\n",
            "2/2 [==============================] - 0s 8ms/step - loss: 8.2256 - mse: 108.9556\n",
            "Epoch 139/500\n",
            "2/2 [==============================] - 0s 5ms/step - loss: 8.0324 - mse: 113.2428\n",
            "Epoch 140/500\n",
            "2/2 [==============================] - 0s 4ms/step - loss: 15.9309 - mse: 366.7943\n",
            "Epoch 141/500\n",
            "2/2 [==============================] - 0s 5ms/step - loss: 8.6735 - mse: 95.4866\n",
            "Epoch 142/500\n",
            "2/2 [==============================] - 0s 5ms/step - loss: 39.0767 - mse: 2575.0628\n",
            "Epoch 143/500\n",
            "2/2 [==============================] - 0s 5ms/step - loss: 25.8738 - mse: 952.8257\n",
            "Epoch 144/500\n",
            "2/2 [==============================] - 0s 6ms/step - loss: 8.6594 - mse: 117.6071\n",
            "Epoch 145/500\n",
            "2/2 [==============================] - 0s 5ms/step - loss: 27.8037 - mse: 1013.7975\n",
            "Epoch 146/500\n",
            "2/2 [==============================] - 0s 5ms/step - loss: 8.3241 - mse: 91.9995\n",
            "Epoch 147/500\n",
            "2/2 [==============================] - 0s 4ms/step - loss: 15.1442 - mse: 291.3996\n",
            "Epoch 148/500\n",
            "2/2 [==============================] - 0s 7ms/step - loss: 19.2611 - mse: 501.9946\n",
            "Epoch 149/500\n",
            "2/2 [==============================] - 0s 5ms/step - loss: 7.4748 - mse: 86.8851\n",
            "Epoch 150/500\n",
            "2/2 [==============================] - 0s 4ms/step - loss: 7.4172 - mse: 62.7836\n",
            "Epoch 151/500\n",
            "2/2 [==============================] - 0s 4ms/step - loss: 18.0193 - mse: 475.0058\n",
            "Epoch 152/500\n",
            "2/2 [==============================] - 0s 7ms/step - loss: 9.8879 - mse: 117.8163\n",
            "Epoch 153/500\n",
            "2/2 [==============================] - 0s 6ms/step - loss: 30.4157 - mse: 1320.1275\n",
            "Epoch 154/500\n",
            "2/2 [==============================] - 0s 5ms/step - loss: 9.7447 - mse: 163.3783\n",
            "Epoch 155/500\n",
            "2/2 [==============================] - 0s 5ms/step - loss: 16.1643 - mse: 375.1455\n",
            "Epoch 156/500\n",
            "2/2 [==============================] - 0s 5ms/step - loss: 18.1608 - mse: 477.4454\n",
            "Epoch 157/500\n",
            "2/2 [==============================] - 0s 5ms/step - loss: 34.1412 - mse: 1832.5374\n",
            "Epoch 158/500\n",
            "2/2 [==============================] - 0s 6ms/step - loss: 10.2294 - mse: 132.7106\n",
            "Epoch 159/500\n",
            "2/2 [==============================] - 0s 5ms/step - loss: 8.5011 - mse: 85.3188\n",
            "Epoch 160/500\n",
            "2/2 [==============================] - 0s 5ms/step - loss: 21.9822 - mse: 707.6695\n",
            "Epoch 161/500\n",
            "2/2 [==============================] - 0s 7ms/step - loss: 10.8556 - mse: 167.5362\n",
            "Epoch 162/500\n",
            "2/2 [==============================] - 0s 6ms/step - loss: 21.3753 - mse: 669.5088\n",
            "Epoch 163/500\n",
            "2/2 [==============================] - 0s 6ms/step - loss: 18.5876 - mse: 508.1930\n",
            "Epoch 164/500\n",
            "2/2 [==============================] - 0s 4ms/step - loss: 12.5904 - mse: 239.0855\n",
            "Epoch 165/500\n",
            "2/2 [==============================] - 0s 4ms/step - loss: 12.3637 - mse: 217.2163\n",
            "Epoch 166/500\n",
            "2/2 [==============================] - 0s 4ms/step - loss: 20.0906 - mse: 594.9792\n",
            "Epoch 167/500\n",
            "2/2 [==============================] - 0s 5ms/step - loss: 27.5984 - mse: 1148.5915\n",
            "Epoch 168/500\n",
            "2/2 [==============================] - 0s 6ms/step - loss: 9.4603 - mse: 105.5277\n",
            "Epoch 169/500\n",
            "2/2 [==============================] - 0s 5ms/step - loss: 23.7522 - mse: 864.4807\n",
            "Epoch 170/500\n",
            "2/2 [==============================] - 0s 12ms/step - loss: 9.1836 - mse: 159.5095\n",
            "Epoch 171/500\n",
            "2/2 [==============================] - 0s 5ms/step - loss: 18.7223 - mse: 528.3585\n",
            "Epoch 172/500\n",
            "2/2 [==============================] - 0s 5ms/step - loss: 30.5782 - mse: 1447.5539\n",
            "Epoch 173/500\n",
            "2/2 [==============================] - 0s 5ms/step - loss: 16.9642 - mse: 447.3504\n",
            "Epoch 174/500\n",
            "2/2 [==============================] - 0s 5ms/step - loss: 10.1892 - mse: 166.6403\n",
            "Epoch 175/500\n",
            "2/2 [==============================] - 0s 7ms/step - loss: 28.6849 - mse: 1156.5652\n",
            "Epoch 176/500\n",
            "2/2 [==============================] - 0s 5ms/step - loss: 8.3154 - mse: 76.5704\n",
            "Epoch 177/500\n",
            "2/2 [==============================] - 0s 5ms/step - loss: 9.0523 - mse: 99.4712\n",
            "Epoch 178/500\n",
            "2/2 [==============================] - 0s 6ms/step - loss: 18.3235 - mse: 477.2863\n",
            "Epoch 179/500\n",
            "2/2 [==============================] - 0s 6ms/step - loss: 10.2311 - mse: 139.3555\n",
            "Epoch 180/500\n",
            "2/2 [==============================] - 0s 7ms/step - loss: 7.4075 - mse: 81.1290\n",
            "Epoch 181/500\n",
            "2/2 [==============================] - 0s 6ms/step - loss: 17.3850 - mse: 443.9839\n",
            "Epoch 182/500\n",
            "2/2 [==============================] - 0s 6ms/step - loss: 10.6049 - mse: 142.4441\n",
            "Epoch 183/500\n",
            "2/2 [==============================] - 0s 6ms/step - loss: 11.7015 - mse: 209.7217\n",
            "Epoch 184/500\n",
            "2/2 [==============================] - 0s 5ms/step - loss: 28.1919 - mse: 1162.4086\n",
            "Epoch 185/500\n",
            "2/2 [==============================] - 0s 5ms/step - loss: 7.0426 - mse: 84.3589\n",
            "Epoch 186/500\n",
            "2/2 [==============================] - 0s 5ms/step - loss: 16.6732 - mse: 392.2691\n",
            "Epoch 187/500\n",
            "2/2 [==============================] - 0s 5ms/step - loss: 8.1626 - mse: 75.0990\n",
            "Epoch 188/500\n",
            "2/2 [==============================] - 0s 5ms/step - loss: 29.7253 - mse: 1244.8514\n",
            "Epoch 189/500\n",
            "2/2 [==============================] - 0s 6ms/step - loss: 12.3873 - mse: 232.3385\n",
            "Epoch 190/500\n",
            "2/2 [==============================] - 0s 5ms/step - loss: 19.3119 - mse: 551.8837\n",
            "Epoch 191/500\n",
            "2/2 [==============================] - 0s 6ms/step - loss: 13.9188 - mse: 267.9107\n",
            "Epoch 192/500\n",
            "2/2 [==============================] - 0s 5ms/step - loss: 12.9597 - mse: 232.3425\n",
            "Epoch 193/500\n",
            "2/2 [==============================] - 0s 5ms/step - loss: 29.5081 - mse: 1195.0769\n",
            "Epoch 194/500\n",
            "2/2 [==============================] - 0s 4ms/step - loss: 6.6754 - mse: 66.3725\n",
            "Epoch 195/500\n",
            "2/2 [==============================] - 0s 5ms/step - loss: 6.7024 - mse: 66.7486\n",
            "Epoch 196/500\n",
            "2/2 [==============================] - 0s 7ms/step - loss: 22.8837 - mse: 757.5559\n",
            "Epoch 197/500\n",
            "2/2 [==============================] - 0s 5ms/step - loss: 20.6752 - mse: 643.1246\n",
            "Epoch 198/500\n",
            "2/2 [==============================] - 0s 5ms/step - loss: 11.8652 - mse: 215.1785\n",
            "Epoch 199/500\n",
            "2/2 [==============================] - 0s 5ms/step - loss: 17.3542 - mse: 440.0541\n",
            "Epoch 200/500\n",
            "2/2 [==============================] - 0s 5ms/step - loss: 13.4284 - mse: 270.5674\n",
            "Epoch 201/500\n",
            "2/2 [==============================] - 0s 5ms/step - loss: 5.6454 - mse: 43.9430\n",
            "Epoch 202/500\n",
            "2/2 [==============================] - 0s 4ms/step - loss: 13.0413 - mse: 263.7845\n",
            "Epoch 203/500\n",
            "2/2 [==============================] - 0s 4ms/step - loss: 8.4039 - mse: 108.0037\n",
            "Epoch 204/500\n",
            "2/2 [==============================] - 0s 4ms/step - loss: 20.8687 - mse: 651.2265\n",
            "Epoch 205/500\n",
            "2/2 [==============================] - 0s 8ms/step - loss: 8.7270 - mse: 102.4075\n",
            "Epoch 206/500\n",
            "2/2 [==============================] - 0s 4ms/step - loss: 10.6727 - mse: 156.2131\n",
            "Epoch 207/500\n",
            "2/2 [==============================] - 0s 5ms/step - loss: 17.4896 - mse: 469.6517\n",
            "Epoch 208/500\n",
            "2/2 [==============================] - 0s 5ms/step - loss: 13.6547 - mse: 270.4671\n",
            "Epoch 209/500\n",
            "2/2 [==============================] - 0s 5ms/step - loss: 16.3609 - mse: 399.3771\n",
            "Epoch 210/500\n",
            "2/2 [==============================] - 0s 5ms/step - loss: 18.0474 - mse: 479.6658\n",
            "Epoch 211/500\n",
            "2/2 [==============================] - 0s 7ms/step - loss: 9.0363 - mse: 114.5213\n",
            "Epoch 212/500\n",
            "2/2 [==============================] - 0s 5ms/step - loss: 19.0824 - mse: 539.4549\n",
            "Epoch 213/500\n",
            "2/2 [==============================] - 0s 4ms/step - loss: 14.9270 - mse: 301.7081\n",
            "Epoch 214/500\n",
            "2/2 [==============================] - 0s 7ms/step - loss: 14.7073 - mse: 297.2905\n",
            "Epoch 215/500\n",
            "2/2 [==============================] - 0s 6ms/step - loss: 24.5376 - mse: 851.0249\n",
            "Epoch 216/500\n",
            "2/2 [==============================] - 0s 5ms/step - loss: 13.0853 - mse: 264.5554\n",
            "Epoch 217/500\n",
            "2/2 [==============================] - 0s 5ms/step - loss: 10.0356 - mse: 138.3184\n",
            "Epoch 218/500\n",
            "2/2 [==============================] - 0s 7ms/step - loss: 12.2402 - mse: 195.5216\n",
            "Epoch 219/500\n",
            "2/2 [==============================] - 0s 5ms/step - loss: 5.6731 - mse: 45.9754\n",
            "Epoch 220/500\n",
            "2/2 [==============================] - 0s 5ms/step - loss: 9.7180 - mse: 141.7989\n",
            "Epoch 221/500\n",
            "2/2 [==============================] - 0s 5ms/step - loss: 29.8347 - mse: 1390.0615\n",
            "Epoch 222/500\n",
            "2/2 [==============================] - 0s 6ms/step - loss: 29.3286 - mse: 1331.3909\n",
            "Epoch 223/500\n",
            "2/2 [==============================] - 0s 5ms/step - loss: 9.5431 - mse: 140.9507\n",
            "Epoch 224/500\n",
            "2/2 [==============================] - 0s 5ms/step - loss: 15.2594 - mse: 335.3520\n",
            "Epoch 225/500\n",
            "2/2 [==============================] - 0s 5ms/step - loss: 16.8545 - mse: 365.7206\n",
            "Epoch 226/500\n",
            "2/2 [==============================] - 0s 6ms/step - loss: 16.4097 - mse: 387.0772\n",
            "Epoch 227/500\n",
            "2/2 [==============================] - 0s 6ms/step - loss: 16.6953 - mse: 385.6355\n",
            "Epoch 228/500\n",
            "2/2 [==============================] - 0s 5ms/step - loss: 14.2691 - mse: 289.1925\n",
            "Epoch 229/500\n",
            "2/2 [==============================] - 0s 6ms/step - loss: 18.8621 - mse: 485.3094\n",
            "Epoch 230/500\n",
            "2/2 [==============================] - 0s 4ms/step - loss: 15.3070 - mse: 304.6621\n",
            "Epoch 231/500\n",
            "2/2 [==============================] - 0s 6ms/step - loss: 22.1871 - mse: 713.5455\n",
            "Epoch 232/500\n",
            "2/2 [==============================] - 0s 6ms/step - loss: 25.9395 - mse: 965.1905\n",
            "Epoch 233/500\n",
            "2/2 [==============================] - 0s 9ms/step - loss: 16.0587 - mse: 378.3527\n",
            "Epoch 234/500\n",
            "2/2 [==============================] - 0s 5ms/step - loss: 7.2260 - mse: 61.6216\n",
            "Epoch 235/500\n",
            "2/2 [==============================] - 0s 5ms/step - loss: 16.7342 - mse: 398.0863\n",
            "Epoch 236/500\n",
            "2/2 [==============================] - 0s 6ms/step - loss: 6.9533 - mse: 60.8020\n",
            "Epoch 237/500\n",
            "2/2 [==============================] - 0s 5ms/step - loss: 8.6240 - mse: 98.4070\n",
            "Epoch 238/500\n",
            "2/2 [==============================] - 0s 5ms/step - loss: 7.7151 - mse: 73.9560\n",
            "Epoch 239/500\n",
            "2/2 [==============================] - 0s 6ms/step - loss: 16.7946 - mse: 427.3360\n",
            "Epoch 240/500\n",
            "2/2 [==============================] - 0s 5ms/step - loss: 8.2045 - mse: 87.7432\n",
            "Epoch 241/500\n",
            "2/2 [==============================] - 0s 8ms/step - loss: 12.3133 - mse: 233.7961\n",
            "Epoch 242/500\n",
            "2/2 [==============================] - 0s 4ms/step - loss: 8.5064 - mse: 94.3544\n",
            "Epoch 243/500\n",
            "2/2 [==============================] - 0s 5ms/step - loss: 19.1235 - mse: 553.6328\n",
            "Epoch 244/500\n",
            "2/2 [==============================] - 0s 5ms/step - loss: 13.8878 - mse: 264.9684\n",
            "Epoch 245/500\n",
            "2/2 [==============================] - 0s 5ms/step - loss: 14.9739 - mse: 299.0495\n",
            "Epoch 246/500\n",
            "2/2 [==============================] - 0s 5ms/step - loss: 16.5302 - mse: 396.8772\n",
            "Epoch 247/500\n",
            "2/2 [==============================] - 0s 3ms/step - loss: 18.3793 - mse: 447.3959\n",
            "Epoch 248/500\n",
            "2/2 [==============================] - 0s 5ms/step - loss: 12.8150 - mse: 230.3240\n",
            "Epoch 249/500\n",
            "2/2 [==============================] - 0s 5ms/step - loss: 14.6882 - mse: 295.5629\n",
            "Epoch 250/500\n",
            "2/2 [==============================] - 0s 6ms/step - loss: 24.6817 - mse: 855.5533\n",
            "Epoch 251/500\n",
            "2/2 [==============================] - 0s 6ms/step - loss: 8.8609 - mse: 109.2117\n",
            "Epoch 252/500\n",
            "2/2 [==============================] - 0s 5ms/step - loss: 38.4892 - mse: 2349.3858\n",
            "Epoch 253/500\n",
            "2/2 [==============================] - 0s 7ms/step - loss: 21.7930 - mse: 669.8462\n",
            "Epoch 254/500\n",
            "2/2 [==============================] - 0s 7ms/step - loss: 6.6854 - mse: 64.0735\n",
            "Epoch 255/500\n",
            "2/2 [==============================] - 0s 6ms/step - loss: 24.9175 - mse: 910.5677\n",
            "Epoch 256/500\n",
            "2/2 [==============================] - 0s 4ms/step - loss: 11.5855 - mse: 191.8841\n",
            "Epoch 257/500\n",
            "2/2 [==============================] - 0s 5ms/step - loss: 10.0593 - mse: 145.9619\n",
            "Epoch 258/500\n",
            "2/2 [==============================] - 0s 4ms/step - loss: 13.5698 - mse: 282.0657\n",
            "Epoch 259/500\n",
            "2/2 [==============================] - 0s 5ms/step - loss: 10.5391 - mse: 166.0330\n",
            "Epoch 260/500\n",
            "2/2 [==============================] - 0s 4ms/step - loss: 32.9193 - mse: 1622.6688\n",
            "Epoch 261/500\n",
            "2/2 [==============================] - 0s 4ms/step - loss: 10.5750 - mse: 155.7185\n",
            "Epoch 262/500\n",
            "2/2 [==============================] - 0s 6ms/step - loss: 9.3511 - mse: 117.3208\n",
            "Epoch 263/500\n",
            "2/2 [==============================] - 0s 5ms/step - loss: 8.3781 - mse: 88.4898\n",
            "Epoch 264/500\n",
            "2/2 [==============================] - 0s 5ms/step - loss: 21.6229 - mse: 657.9650\n",
            "Epoch 265/500\n",
            "2/2 [==============================] - 0s 5ms/step - loss: 10.9180 - mse: 175.1171\n",
            "Epoch 266/500\n",
            "2/2 [==============================] - 0s 5ms/step - loss: 13.2499 - mse: 242.9872\n",
            "Epoch 267/500\n",
            "2/2 [==============================] - 0s 5ms/step - loss: 9.9796 - mse: 182.4443\n",
            "Epoch 268/500\n",
            "2/2 [==============================] - 0s 5ms/step - loss: 19.9425 - mse: 586.8140\n",
            "Epoch 269/500\n",
            "2/2 [==============================] - 0s 5ms/step - loss: 43.0165 - mse: 2754.8805\n",
            "Epoch 270/500\n",
            "2/2 [==============================] - 0s 9ms/step - loss: 12.4472 - mse: 232.0260\n",
            "Epoch 271/500\n",
            "2/2 [==============================] - 0s 5ms/step - loss: 14.5221 - mse: 270.4335\n",
            "Epoch 272/500\n",
            "2/2 [==============================] - 0s 5ms/step - loss: 29.2484 - mse: 1162.8821\n",
            "Epoch 273/500\n",
            "2/2 [==============================] - 0s 5ms/step - loss: 6.7517 - mse: 66.4878\n",
            "Epoch 274/500\n",
            "2/2 [==============================] - 0s 6ms/step - loss: 6.2164 - mse: 42.2631\n",
            "Epoch 275/500\n",
            "2/2 [==============================] - 0s 4ms/step - loss: 38.7540 - mse: 2232.5768\n",
            "Epoch 276/500\n",
            "2/2 [==============================] - 0s 5ms/step - loss: 7.4586 - mse: 84.7047\n",
            "Epoch 277/500\n",
            "2/2 [==============================] - 0s 6ms/step - loss: 28.3112 - mse: 1097.7293\n",
            "Epoch 278/500\n",
            "2/2 [==============================] - 0s 12ms/step - loss: 9.6373 - mse: 166.2954\n",
            "Epoch 279/500\n",
            "2/2 [==============================] - 0s 5ms/step - loss: 16.9393 - mse: 419.9156\n",
            "Epoch 280/500\n",
            "2/2 [==============================] - 0s 5ms/step - loss: 22.4917 - mse: 734.0621\n",
            "Epoch 281/500\n",
            "2/2 [==============================] - 0s 5ms/step - loss: 24.2981 - mse: 894.8137\n",
            "Epoch 282/500\n",
            "2/2 [==============================] - 0s 5ms/step - loss: 7.8267 - mse: 82.1167\n",
            "Epoch 283/500\n",
            "2/2 [==============================] - 0s 10ms/step - loss: 8.1971 - mse: 92.4480\n",
            "Epoch 284/500\n",
            "2/2 [==============================] - 0s 6ms/step - loss: 27.2917 - mse: 1124.6724\n",
            "Epoch 285/500\n",
            "2/2 [==============================] - 0s 6ms/step - loss: 13.9558 - mse: 311.4911\n",
            "Epoch 286/500\n",
            "2/2 [==============================] - 0s 6ms/step - loss: 5.1162 - mse: 35.8851\n",
            "Epoch 287/500\n",
            "2/2 [==============================] - 0s 6ms/step - loss: 21.7561 - mse: 694.4853\n",
            "Epoch 288/500\n",
            "2/2 [==============================] - 0s 5ms/step - loss: 28.7035 - mse: 1225.7228\n",
            "Epoch 289/500\n",
            "2/2 [==============================] - 0s 7ms/step - loss: 9.3552 - mse: 172.4719\n",
            "Epoch 290/500\n",
            "2/2 [==============================] - 0s 5ms/step - loss: 16.7028 - mse: 368.1125\n",
            "Epoch 291/500\n",
            "2/2 [==============================] - 0s 5ms/step - loss: 17.3009 - mse: 426.7673\n",
            "Epoch 292/500\n",
            "2/2 [==============================] - 0s 7ms/step - loss: 6.6179 - mse: 82.0235\n",
            "Epoch 293/500\n",
            "2/2 [==============================] - 0s 5ms/step - loss: 17.5682 - mse: 456.2149\n",
            "Epoch 294/500\n",
            "2/2 [==============================] - 0s 6ms/step - loss: 26.5439 - mse: 1008.0619\n",
            "Epoch 295/500\n",
            "2/2 [==============================] - 0s 6ms/step - loss: 13.9159 - mse: 286.8630\n",
            "Epoch 296/500\n",
            "2/2 [==============================] - 0s 5ms/step - loss: 4.5312 - mse: 31.3472\n",
            "Epoch 297/500\n",
            "2/2 [==============================] - 0s 5ms/step - loss: 6.3759 - mse: 77.2482\n",
            "Epoch 298/500\n",
            "2/2 [==============================] - 0s 4ms/step - loss: 19.5098 - mse: 563.9510\n",
            "Epoch 299/500\n",
            "2/2 [==============================] - 0s 5ms/step - loss: 6.2382 - mse: 48.0141\n",
            "Epoch 300/500\n",
            "2/2 [==============================] - 0s 5ms/step - loss: 22.3878 - mse: 754.2877\n",
            "Epoch 301/500\n",
            "2/2 [==============================] - 0s 9ms/step - loss: 8.1323 - mse: 102.0820\n",
            "Epoch 302/500\n",
            "2/2 [==============================] - 0s 8ms/step - loss: 10.5761 - mse: 173.2562\n",
            "Epoch 303/500\n",
            "2/2 [==============================] - 0s 9ms/step - loss: 8.8583 - mse: 109.7772\n",
            "Epoch 304/500\n",
            "2/2 [==============================] - 0s 5ms/step - loss: 23.6137 - mse: 767.4587\n",
            "Epoch 305/500\n",
            "2/2 [==============================] - 0s 5ms/step - loss: 7.4758 - mse: 74.6457\n",
            "Epoch 306/500\n",
            "2/2 [==============================] - 0s 8ms/step - loss: 24.0779 - mse: 827.9386\n",
            "Epoch 307/500\n",
            "2/2 [==============================] - 0s 11ms/step - loss: 5.3275 - mse: 53.1249\n",
            "Epoch 308/500\n",
            "2/2 [==============================] - 0s 4ms/step - loss: 22.6070 - mse: 746.9084\n",
            "Epoch 309/500\n",
            "2/2 [==============================] - 0s 5ms/step - loss: 18.1314 - mse: 475.1208\n",
            "Epoch 310/500\n",
            "2/2 [==============================] - 0s 5ms/step - loss: 4.3814 - mse: 28.9115\n",
            "Epoch 311/500\n",
            "2/2 [==============================] - 0s 5ms/step - loss: 6.2907 - mse: 45.2254\n",
            "Epoch 312/500\n",
            "2/2 [==============================] - 0s 5ms/step - loss: 37.2315 - mse: 2156.9137\n",
            "Epoch 313/500\n",
            "2/2 [==============================] - 0s 6ms/step - loss: 29.8095 - mse: 1275.5944\n",
            "Epoch 314/500\n",
            "2/2 [==============================] - 0s 6ms/step - loss: 9.9000 - mse: 206.2416\n",
            "Epoch 315/500\n",
            "2/2 [==============================] - 0s 6ms/step - loss: 24.6102 - mse: 859.4559\n",
            "Epoch 316/500\n",
            "2/2 [==============================] - 0s 8ms/step - loss: 13.5719 - mse: 292.5554\n",
            "Epoch 317/500\n",
            "2/2 [==============================] - 0s 7ms/step - loss: 19.4682 - mse: 524.9600\n",
            "Epoch 318/500\n",
            "2/2 [==============================] - 0s 5ms/step - loss: 7.7126 - mse: 77.7370\n",
            "Epoch 319/500\n",
            "2/2 [==============================] - 0s 4ms/step - loss: 17.6501 - mse: 465.1635\n",
            "Epoch 320/500\n",
            "2/2 [==============================] - 0s 6ms/step - loss: 9.9476 - mse: 164.6755\n",
            "Epoch 321/500\n",
            "2/2 [==============================] - 0s 6ms/step - loss: 6.1041 - mse: 79.4198\n",
            "Epoch 322/500\n",
            "2/2 [==============================] - 0s 5ms/step - loss: 7.5551 - mse: 126.8821\n",
            "Epoch 323/500\n",
            "2/2 [==============================] - 0s 5ms/step - loss: 19.5209 - mse: 561.6283\n",
            "Epoch 324/500\n",
            "2/2 [==============================] - 0s 5ms/step - loss: 5.9039 - mse: 44.1118\n",
            "Epoch 325/500\n",
            "2/2 [==============================] - 0s 5ms/step - loss: 13.6782 - mse: 280.9937\n",
            "Epoch 326/500\n",
            "2/2 [==============================] - 0s 5ms/step - loss: 6.4077 - mse: 59.5619\n",
            "Epoch 327/500\n",
            "2/2 [==============================] - 0s 5ms/step - loss: 17.5343 - mse: 438.2980\n",
            "Epoch 328/500\n",
            "2/2 [==============================] - 0s 6ms/step - loss: 14.6833 - mse: 298.1027\n",
            "Epoch 329/500\n",
            "2/2 [==============================] - 0s 5ms/step - loss: 18.7053 - mse: 516.9960\n",
            "Epoch 330/500\n",
            "2/2 [==============================] - 0s 5ms/step - loss: 5.9541 - mse: 69.6318\n",
            "Epoch 331/500\n",
            "2/2 [==============================] - 0s 5ms/step - loss: 19.7873 - mse: 597.7094\n",
            "Epoch 332/500\n",
            "2/2 [==============================] - 0s 5ms/step - loss: 9.6079 - mse: 142.5376\n",
            "Epoch 333/500\n",
            "2/2 [==============================] - 0s 5ms/step - loss: 16.0237 - mse: 381.9755\n",
            "Epoch 334/500\n",
            "2/2 [==============================] - 0s 8ms/step - loss: 8.9584 - mse: 157.8321\n",
            "Epoch 335/500\n",
            "2/2 [==============================] - 0s 7ms/step - loss: 12.0172 - mse: 223.3829\n",
            "Epoch 336/500\n",
            "2/2 [==============================] - 0s 6ms/step - loss: 32.4740 - mse: 1444.9069\n",
            "Epoch 337/500\n",
            "2/2 [==============================] - 0s 4ms/step - loss: 10.2780 - mse: 161.6979\n",
            "Epoch 338/500\n",
            "2/2 [==============================] - 0s 5ms/step - loss: 20.7055 - mse: 623.8011\n",
            "Epoch 339/500\n",
            "2/2 [==============================] - 0s 5ms/step - loss: 35.7401 - mse: 1879.9339\n",
            "Epoch 340/500\n",
            "2/2 [==============================] - 0s 7ms/step - loss: 8.5712 - mse: 109.6519\n",
            "Epoch 341/500\n",
            "2/2 [==============================] - 0s 5ms/step - loss: 17.3066 - mse: 421.0980\n",
            "Epoch 342/500\n",
            "2/2 [==============================] - 0s 5ms/step - loss: 15.4881 - mse: 324.5145\n",
            "Epoch 343/500\n",
            "2/2 [==============================] - 0s 5ms/step - loss: 9.8152 - mse: 135.3122\n",
            "Epoch 344/500\n",
            "2/2 [==============================] - 0s 5ms/step - loss: 8.3051 - mse: 156.8286\n",
            "Epoch 345/500\n",
            "2/2 [==============================] - 0s 14ms/step - loss: 31.5405 - mse: 1398.8306\n",
            "Epoch 346/500\n",
            "2/2 [==============================] - 0s 7ms/step - loss: 9.1273 - mse: 192.1048\n",
            "Epoch 347/500\n",
            "2/2 [==============================] - 0s 6ms/step - loss: 26.5015 - mse: 965.0361\n",
            "Epoch 348/500\n",
            "2/2 [==============================] - 0s 5ms/step - loss: 12.9326 - mse: 256.5121\n",
            "Epoch 349/500\n",
            "2/2 [==============================] - 0s 5ms/step - loss: 12.2903 - mse: 216.7227\n",
            "Epoch 350/500\n",
            "2/2 [==============================] - 0s 8ms/step - loss: 16.0490 - mse: 348.4129\n",
            "Epoch 351/500\n",
            "2/2 [==============================] - 0s 7ms/step - loss: 33.9554 - mse: 1595.9252\n",
            "Epoch 352/500\n",
            "2/2 [==============================] - 0s 8ms/step - loss: 14.0329 - mse: 272.5960\n",
            "Epoch 353/500\n",
            "2/2 [==============================] - 0s 5ms/step - loss: 18.8104 - mse: 520.9906\n",
            "Epoch 354/500\n",
            "2/2 [==============================] - 0s 4ms/step - loss: 10.2328 - mse: 185.1645\n",
            "Epoch 355/500\n",
            "2/2 [==============================] - 0s 11ms/step - loss: 27.6962 - mse: 1080.3079\n",
            "Epoch 356/500\n",
            "2/2 [==============================] - 0s 6ms/step - loss: 9.3838 - mse: 151.3167\n",
            "Epoch 357/500\n",
            "2/2 [==============================] - 0s 5ms/step - loss: 14.0886 - mse: 313.2192\n",
            "Epoch 358/500\n",
            "2/2 [==============================] - 0s 5ms/step - loss: 14.1817 - mse: 303.0894\n",
            "Epoch 359/500\n",
            "2/2 [==============================] - 0s 7ms/step - loss: 10.9574 - mse: 239.2885\n",
            "Epoch 360/500\n",
            "2/2 [==============================] - 0s 6ms/step - loss: 21.5911 - mse: 669.5440\n",
            "Epoch 361/500\n",
            "2/2 [==============================] - 0s 5ms/step - loss: 10.0973 - mse: 181.6472\n",
            "Epoch 362/500\n",
            "2/2 [==============================] - 0s 5ms/step - loss: 6.0635 - mse: 59.0141\n",
            "Epoch 363/500\n",
            "2/2 [==============================] - 0s 5ms/step - loss: 24.1833 - mse: 862.0335\n",
            "Epoch 364/500\n",
            "2/2 [==============================] - 0s 5ms/step - loss: 30.5319 - mse: 1338.0732\n",
            "Epoch 365/500\n",
            "2/2 [==============================] - 0s 5ms/step - loss: 7.7323 - mse: 88.4882\n",
            "Epoch 366/500\n",
            "2/2 [==============================] - 0s 4ms/step - loss: 5.7053 - mse: 40.7556\n",
            "Epoch 367/500\n",
            "2/2 [==============================] - 0s 6ms/step - loss: 36.5131 - mse: 1958.5311\n",
            "Epoch 368/500\n",
            "2/2 [==============================] - 0s 4ms/step - loss: 6.6049 - mse: 75.8492\n",
            "Epoch 369/500\n",
            "2/2 [==============================] - 0s 4ms/step - loss: 8.4231 - mse: 107.5755\n",
            "Epoch 370/500\n",
            "2/2 [==============================] - 0s 10ms/step - loss: 9.8390 - mse: 166.2475\n",
            "Epoch 371/500\n",
            "2/2 [==============================] - 0s 3ms/step - loss: 8.2014 - mse: 108.1428\n",
            "Epoch 372/500\n",
            "2/2 [==============================] - 0s 7ms/step - loss: 5.6493 - mse: 61.7233\n",
            "Epoch 373/500\n",
            "2/2 [==============================] - 0s 4ms/step - loss: 23.9657 - mse: 844.2936\n",
            "Epoch 374/500\n",
            "2/2 [==============================] - 0s 7ms/step - loss: 9.3769 - mse: 159.3189\n",
            "Epoch 375/500\n",
            "2/2 [==============================] - 0s 5ms/step - loss: 12.8039 - mse: 227.8959\n",
            "Epoch 376/500\n",
            "2/2 [==============================] - 0s 5ms/step - loss: 15.5478 - mse: 346.4510\n",
            "Epoch 377/500\n",
            "2/2 [==============================] - 0s 5ms/step - loss: 14.4239 - mse: 276.3965\n",
            "Epoch 378/500\n",
            "2/2 [==============================] - 0s 4ms/step - loss: 17.3682 - mse: 454.8561\n",
            "Epoch 379/500\n",
            "2/2 [==============================] - 0s 4ms/step - loss: 21.5953 - mse: 633.4200\n",
            "Epoch 380/500\n",
            "2/2 [==============================] - 0s 3ms/step - loss: 34.8999 - mse: 1775.2965\n",
            "Epoch 381/500\n",
            "2/2 [==============================] - 0s 4ms/step - loss: 7.6275 - mse: 84.7045\n",
            "Epoch 382/500\n",
            "2/2 [==============================] - 0s 15ms/step - loss: 12.4562 - mse: 254.3473\n",
            "Epoch 383/500\n",
            "2/2 [==============================] - 0s 4ms/step - loss: 7.7614 - mse: 102.1557\n",
            "Epoch 384/500\n",
            "2/2 [==============================] - 0s 5ms/step - loss: 6.5145 - mse: 57.9196\n",
            "Epoch 385/500\n",
            "2/2 [==============================] - 0s 5ms/step - loss: 9.5373 - mse: 184.9953\n",
            "Epoch 386/500\n",
            "2/2 [==============================] - 0s 5ms/step - loss: 21.0595 - mse: 651.5230\n",
            "Epoch 387/500\n",
            "2/2 [==============================] - 0s 4ms/step - loss: 25.2123 - mse: 917.6567\n",
            "Epoch 388/500\n",
            "2/2 [==============================] - 0s 4ms/step - loss: 8.0540 - mse: 106.0631\n",
            "Epoch 389/500\n",
            "2/2 [==============================] - 0s 4ms/step - loss: 5.8884 - mse: 47.1056\n",
            "Epoch 390/500\n",
            "2/2 [==============================] - 0s 4ms/step - loss: 24.8314 - mse: 909.5879\n",
            "Epoch 391/500\n",
            "2/2 [==============================] - 0s 4ms/step - loss: 5.2966 - mse: 55.4867\n",
            "Epoch 392/500\n",
            "2/2 [==============================] - 0s 6ms/step - loss: 15.2902 - mse: 334.7490\n",
            "Epoch 393/500\n",
            "2/2 [==============================] - 0s 15ms/step - loss: 5.7846 - mse: 54.2052\n",
            "Epoch 394/500\n",
            "2/2 [==============================] - 0s 5ms/step - loss: 11.4998 - mse: 217.2118\n",
            "Epoch 395/500\n",
            "2/2 [==============================] - 0s 7ms/step - loss: 11.3952 - mse: 213.3887\n",
            "Epoch 396/500\n",
            "2/2 [==============================] - 0s 6ms/step - loss: 6.4872 - mse: 75.8668\n",
            "Epoch 397/500\n",
            "2/2 [==============================] - 0s 9ms/step - loss: 7.0921 - mse: 78.8120\n",
            "Epoch 398/500\n",
            "2/2 [==============================] - 0s 5ms/step - loss: 20.2485 - mse: 572.5335\n",
            "Epoch 399/500\n",
            "2/2 [==============================] - 0s 6ms/step - loss: 5.1749 - mse: 52.4507\n",
            "Epoch 400/500\n",
            "2/2 [==============================] - 0s 6ms/step - loss: 25.9136 - mse: 967.7780\n",
            "Epoch 401/500\n",
            "2/2 [==============================] - 0s 4ms/step - loss: 12.5886 - mse: 260.0596\n",
            "Epoch 402/500\n",
            "2/2 [==============================] - 0s 5ms/step - loss: 7.5657 - mse: 89.7373\n",
            "Epoch 403/500\n",
            "2/2 [==============================] - 0s 8ms/step - loss: 9.2265 - mse: 153.3274\n",
            "Epoch 404/500\n",
            "2/2 [==============================] - 0s 5ms/step - loss: 9.1550 - mse: 162.6377\n",
            "Epoch 405/500\n",
            "2/2 [==============================] - 0s 6ms/step - loss: 5.7176 - mse: 52.8371\n",
            "Epoch 406/500\n",
            "2/2 [==============================] - 0s 7ms/step - loss: 19.5168 - mse: 574.3875\n",
            "Epoch 407/500\n",
            "2/2 [==============================] - 0s 8ms/step - loss: 8.6530 - mse: 185.5483\n",
            "Epoch 408/500\n",
            "2/2 [==============================] - 0s 5ms/step - loss: 22.0106 - mse: 719.9139\n",
            "Epoch 409/500\n",
            "2/2 [==============================] - 0s 5ms/step - loss: 32.4263 - mse: 1577.7670\n",
            "Epoch 410/500\n",
            "2/2 [==============================] - 0s 8ms/step - loss: 8.0971 - mse: 159.4208\n",
            "Epoch 411/500\n",
            "2/2 [==============================] - 0s 5ms/step - loss: 14.8501 - mse: 285.4503\n",
            "Epoch 412/500\n",
            "2/2 [==============================] - 0s 5ms/step - loss: 23.3298 - mse: 787.5279\n",
            "Epoch 413/500\n",
            "2/2 [==============================] - 0s 3ms/step - loss: 11.5851 - mse: 212.0743\n",
            "Epoch 414/500\n",
            "2/2 [==============================] - 0s 7ms/step - loss: 5.7296 - mse: 81.9806\n",
            "Epoch 415/500\n",
            "2/2 [==============================] - 0s 6ms/step - loss: 12.2300 - mse: 209.9158\n",
            "Epoch 416/500\n",
            "2/2 [==============================] - 0s 5ms/step - loss: 27.5187 - mse: 1043.7281\n",
            "Epoch 417/500\n",
            "2/2 [==============================] - 0s 6ms/step - loss: 11.5171 - mse: 220.0991\n",
            "Epoch 418/500\n",
            "2/2 [==============================] - 0s 5ms/step - loss: 12.7947 - mse: 231.8094\n",
            "Epoch 419/500\n",
            "2/2 [==============================] - 0s 9ms/step - loss: 16.9980 - mse: 420.4471\n",
            "Epoch 420/500\n",
            "2/2 [==============================] - 0s 9ms/step - loss: 25.9070 - mse: 916.7829\n",
            "Epoch 421/500\n",
            "2/2 [==============================] - 0s 5ms/step - loss: 15.9953 - mse: 380.7340\n",
            "Epoch 422/500\n",
            "2/2 [==============================] - 0s 5ms/step - loss: 7.2348 - mse: 138.2412\n",
            "Epoch 423/500\n",
            "2/2 [==============================] - 0s 5ms/step - loss: 25.7180 - mse: 922.2297\n",
            "Epoch 424/500\n",
            "2/2 [==============================] - 0s 6ms/step - loss: 15.9229 - mse: 390.7535\n",
            "Epoch 425/500\n",
            "2/2 [==============================] - 0s 7ms/step - loss: 6.6324 - mse: 62.6338\n",
            "Epoch 426/500\n",
            "2/2 [==============================] - 0s 9ms/step - loss: 20.3758 - mse: 583.4520\n",
            "Epoch 427/500\n",
            "2/2 [==============================] - 0s 5ms/step - loss: 5.5591 - mse: 61.0636\n",
            "Epoch 428/500\n",
            "2/2 [==============================] - 0s 5ms/step - loss: 12.1533 - mse: 246.1998\n",
            "Epoch 429/500\n",
            "2/2 [==============================] - 0s 4ms/step - loss: 9.9591 - mse: 165.5820\n",
            "Epoch 430/500\n",
            "2/2 [==============================] - 0s 5ms/step - loss: 10.7963 - mse: 217.7093\n",
            "Epoch 431/500\n",
            "2/2 [==============================] - 0s 4ms/step - loss: 7.6270 - mse: 108.4414\n",
            "Epoch 432/500\n",
            "2/2 [==============================] - 0s 4ms/step - loss: 18.1503 - mse: 462.9190\n",
            "Epoch 433/500\n",
            "2/2 [==============================] - 0s 4ms/step - loss: 8.3969 - mse: 178.6530\n",
            "Epoch 434/500\n",
            "2/2 [==============================] - 0s 3ms/step - loss: 31.3239 - mse: 1373.5921\n",
            "Epoch 435/500\n",
            "2/2 [==============================] - 0s 4ms/step - loss: 9.3950 - mse: 217.4550\n",
            "Epoch 436/500\n",
            "2/2 [==============================] - 0s 8ms/step - loss: 30.2965 - mse: 1297.6614\n",
            "Epoch 437/500\n",
            "2/2 [==============================] - 0s 7ms/step - loss: 6.7802 - mse: 129.8739\n",
            "Epoch 438/500\n",
            "2/2 [==============================] - 0s 4ms/step - loss: 11.8037 - mse: 209.6353\n",
            "Epoch 439/500\n",
            "2/2 [==============================] - 0s 4ms/step - loss: 34.2381 - mse: 1624.3861\n",
            "Epoch 440/500\n",
            "2/2 [==============================] - 0s 5ms/step - loss: 15.5087 - mse: 313.3758\n",
            "Epoch 441/500\n",
            "2/2 [==============================] - 0s 4ms/step - loss: 19.0659 - mse: 555.8781\n",
            "Epoch 442/500\n",
            "2/2 [==============================] - 0s 5ms/step - loss: 5.4871 - mse: 61.4337\n",
            "Epoch 443/500\n",
            "2/2 [==============================] - 0s 9ms/step - loss: 11.8323 - mse: 228.5940\n",
            "Epoch 444/500\n",
            "2/2 [==============================] - 0s 5ms/step - loss: 4.9570 - mse: 50.2432\n",
            "Epoch 445/500\n",
            "2/2 [==============================] - 0s 7ms/step - loss: 8.2977 - mse: 161.0807\n",
            "Epoch 446/500\n",
            "2/2 [==============================] - 0s 11ms/step - loss: 15.8530 - mse: 368.0007\n",
            "Epoch 447/500\n",
            "2/2 [==============================] - 0s 5ms/step - loss: 23.8422 - mse: 824.2540\n",
            "Epoch 448/500\n",
            "2/2 [==============================] - 0s 4ms/step - loss: 13.0591 - mse: 259.2577\n",
            "Epoch 449/500\n",
            "2/2 [==============================] - 0s 6ms/step - loss: 10.7036 - mse: 209.1076\n",
            "Epoch 450/500\n",
            "2/2 [==============================] - 0s 9ms/step - loss: 15.6367 - mse: 336.1576\n",
            "Epoch 451/500\n",
            "2/2 [==============================] - 0s 8ms/step - loss: 18.0513 - mse: 511.1403\n",
            "Epoch 452/500\n",
            "2/2 [==============================] - 0s 5ms/step - loss: 48.4352 - mse: 3908.4613\n",
            "Epoch 453/500\n",
            "2/2 [==============================] - 0s 6ms/step - loss: 26.6042 - mse: 1024.9604\n",
            "Epoch 454/500\n",
            "2/2 [==============================] - 0s 4ms/step - loss: 22.9960 - mse: 771.5613\n",
            "Epoch 455/500\n",
            "2/2 [==============================] - 0s 11ms/step - loss: 7.4147 - mse: 98.0207\n",
            "Epoch 456/500\n",
            "2/2 [==============================] - 0s 3ms/step - loss: 8.8586 - mse: 208.0588\n",
            "Epoch 457/500\n",
            "2/2 [==============================] - 0s 4ms/step - loss: 15.4896 - mse: 330.9644\n",
            "Epoch 458/500\n",
            "2/2 [==============================] - 0s 11ms/step - loss: 17.7291 - mse: 475.8472\n",
            "Epoch 459/500\n",
            "2/2 [==============================] - 0s 12ms/step - loss: 27.5684 - mse: 1085.5684\n",
            "Epoch 460/500\n",
            "2/2 [==============================] - 0s 7ms/step - loss: 11.7161 - mse: 218.1910\n",
            "Epoch 461/500\n",
            "2/2 [==============================] - 0s 8ms/step - loss: 11.6139 - mse: 223.6546\n",
            "Epoch 462/500\n",
            "2/2 [==============================] - 0s 4ms/step - loss: 13.2394 - mse: 241.3861\n",
            "Epoch 463/500\n",
            "2/2 [==============================] - 0s 4ms/step - loss: 30.3568 - mse: 1274.2766\n",
            "Epoch 464/500\n",
            "2/2 [==============================] - 0s 6ms/step - loss: 3.3403 - mse: 19.2812\n",
            "Epoch 465/500\n",
            "2/2 [==============================] - 0s 6ms/step - loss: 15.9533 - mse: 378.1271\n",
            "Epoch 466/500\n",
            "2/2 [==============================] - 0s 4ms/step - loss: 21.7971 - mse: 697.4338\n",
            "Epoch 467/500\n",
            "2/2 [==============================] - 0s 5ms/step - loss: 31.5991 - mse: 1502.1661\n",
            "Epoch 468/500\n",
            "2/2 [==============================] - 0s 4ms/step - loss: 9.5927 - mse: 179.3387\n",
            "Epoch 469/500\n",
            "2/2 [==============================] - 0s 6ms/step - loss: 11.7772 - mse: 232.1083\n",
            "Epoch 470/500\n",
            "2/2 [==============================] - 0s 5ms/step - loss: 3.2162 - mse: 14.2717\n",
            "Epoch 471/500\n",
            "2/2 [==============================] - 0s 6ms/step - loss: 17.3564 - mse: 392.7037\n",
            "Epoch 472/500\n",
            "2/2 [==============================] - 0s 11ms/step - loss: 12.9947 - mse: 234.1815\n",
            "Epoch 473/500\n",
            "2/2 [==============================] - 0s 3ms/step - loss: 16.3651 - mse: 430.2911\n",
            "Epoch 474/500\n",
            "2/2 [==============================] - 0s 5ms/step - loss: 10.4715 - mse: 229.7697\n",
            "Epoch 475/500\n",
            "2/2 [==============================] - 0s 4ms/step - loss: 17.3427 - mse: 427.4694\n",
            "Epoch 476/500\n",
            "2/2 [==============================] - 0s 11ms/step - loss: 14.0360 - mse: 283.3087\n",
            "Epoch 477/500\n",
            "2/2 [==============================] - 0s 8ms/step - loss: 31.4049 - mse: 1362.4702\n",
            "Epoch 478/500\n",
            "2/2 [==============================] - 0s 8ms/step - loss: 7.5170 - mse: 138.3185\n",
            "Epoch 479/500\n",
            "2/2 [==============================] - 0s 6ms/step - loss: 9.4022 - mse: 193.6371\n",
            "Epoch 480/500\n",
            "2/2 [==============================] - 0s 6ms/step - loss: 19.0601 - mse: 525.2080\n",
            "Epoch 481/500\n",
            "2/2 [==============================] - 0s 12ms/step - loss: 16.5992 - mse: 395.6447\n",
            "Epoch 482/500\n",
            "2/2 [==============================] - 0s 14ms/step - loss: 22.3416 - mse: 749.8547\n",
            "Epoch 483/500\n",
            "2/2 [==============================] - 0s 10ms/step - loss: 25.7703 - mse: 990.6118\n",
            "Epoch 484/500\n",
            "2/2 [==============================] - 0s 14ms/step - loss: 23.9815 - mse: 820.8394\n",
            "Epoch 485/500\n",
            "2/2 [==============================] - 0s 12ms/step - loss: 5.2766 - mse: 42.4639\n",
            "Epoch 486/500\n",
            "2/2 [==============================] - 0s 5ms/step - loss: 20.2691 - mse: 576.4906\n",
            "Epoch 487/500\n",
            "2/2 [==============================] - 0s 6ms/step - loss: 14.4138 - mse: 300.5328\n",
            "Epoch 488/500\n",
            "2/2 [==============================] - 0s 7ms/step - loss: 32.0488 - mse: 1423.8405\n",
            "Epoch 489/500\n",
            "2/2 [==============================] - 0s 7ms/step - loss: 11.2471 - mse: 198.4353\n",
            "Epoch 490/500\n",
            "2/2 [==============================] - 0s 8ms/step - loss: 11.9890 - mse: 216.5801\n",
            "Epoch 491/500\n",
            "2/2 [==============================] - 0s 6ms/step - loss: 24.7321 - mse: 898.6503\n",
            "Epoch 492/500\n",
            "2/2 [==============================] - 0s 9ms/step - loss: 20.2061 - mse: 578.3161\n",
            "Epoch 493/500\n",
            "2/2 [==============================] - 0s 7ms/step - loss: 4.5620 - mse: 36.9195\n",
            "Epoch 494/500\n",
            "2/2 [==============================] - 0s 10ms/step - loss: 12.0744 - mse: 218.9993\n",
            "Epoch 495/500\n",
            "2/2 [==============================] - 0s 4ms/step - loss: 13.4881 - mse: 242.8771\n",
            "Epoch 496/500\n",
            "2/2 [==============================] - 0s 8ms/step - loss: 12.0936 - mse: 214.5900\n",
            "Epoch 497/500\n",
            "2/2 [==============================] - 0s 5ms/step - loss: 18.9511 - mse: 560.7506\n",
            "Epoch 498/500\n",
            "2/2 [==============================] - 0s 5ms/step - loss: 23.6498 - mse: 832.8208\n",
            "Epoch 499/500\n",
            "2/2 [==============================] - 0s 10ms/step - loss: 8.8007 - mse: 120.2691\n",
            "Epoch 500/500\n",
            "2/2 [==============================] - 0s 8ms/step - loss: 14.6015 - mse: 282.4501\n"
          ],
          "name": "stdout"
        },
        {
          "output_type": "execute_result",
          "data": {
            "text/plain": [
              "<tensorflow.python.keras.callbacks.History at 0x7fc93e554910>"
            ]
          },
          "metadata": {
            "tags": []
          },
          "execution_count": 57
        }
      ]
    },
    {
      "cell_type": "code",
      "metadata": {
        "colab": {
          "base_uri": "https://localhost:8080/",
          "height": 465
        },
        "id": "lfvomysgpIgg",
        "outputId": "93f1e0e5-98e9-4c0d-d17a-1a98d630f8d1"
      },
      "source": [
        "# Make the plot_predictions of model_3\n",
        "y_preds_3 = model_3.predict(X_test)\n",
        "plot_predictions(X_train, y_train, X_test, y_test, y_preds_3)"
      ],
      "execution_count": 58,
      "outputs": [
        {
          "output_type": "stream",
          "text": [
            "WARNING:tensorflow:7 out of the last 7 calls to <function Model.make_predict_function.<locals>.predict_function at 0x7fc93e766a70> triggered tf.function retracing. Tracing is expensive and the excessive number of tracings could be due to (1) creating @tf.function repeatedly in a loop, (2) passing tensors with different shapes, (3) passing Python objects instead of tensors. For (1), please define your @tf.function outside of the loop. For (2), @tf.function has experimental_relax_shapes=True option that relaxes argument shapes that can avoid unnecessary retracing. For (3), please refer to https://www.tensorflow.org/guide/function#controlling_retracing and https://www.tensorflow.org/api_docs/python/tf/function for  more details.\n"
          ],
          "name": "stdout"
        },
        {
          "output_type": "display_data",
          "data": {
            "image/png": "[encoded data removed]",
            "text/plain": [
              "<Figure size 720x504 with 1 Axes>"
            ]
          },
          "metadata": {
            "tags": [],
            "needs_background": "light"
          }
        }
      ]
    },
    {
      "cell_type": "code",
      "metadata": {
        "colab": {
          "base_uri": "https://localhost:8080/"
        },
        "id": "WJzrH1fGqTnx",
        "outputId": "35c43397-4abf-4c02-a323-1a20f888ae02"
      },
      "source": [
        "# Calculating the evaluation of model_3\n",
        "mae_3 = mae(y_test, y_preds_3)\n",
        "mse_3 = mse(y_test, y_preds_3)\n",
        "mae_3, mse_3"
      ],
      "execution_count": 59,
      "outputs": [
        {
          "output_type": "execute_result",
          "data": {
            "text/plain": [
              "(<tf.Tensor: shape=(), dtype=float32, numpy=67.90955>,\n",
              " <tf.Tensor: shape=(), dtype=float32, numpy=4696.0615>)"
            ]
          },
          "metadata": {
            "tags": []
          },
          "execution_count": 59
        }
      ]
    },
    {
      "cell_type": "markdown",
      "metadata": {
        "id": "fPIjHwFxraCo"
      },
      "source": [
        "***Note:*** *You want to start with small expirements (small models) and make sure they work and then increase their scale when necessary.*"
      ]
    },
    {
      "cell_type": "markdown",
      "metadata": {
        "id": "K3Or5MYUq0lW"
      },
      "source": [
        "## Comparing the results of our expirements\n",
        "\n",
        "We've run a few expirements, let's compare the results."
      ]
    },
    {
      "cell_type": "code",
      "metadata": {
        "colab": {
          "base_uri": "https://localhost:8080/",
          "height": 137
        },
        "id": "qEUVBEGXqohK",
        "outputId": "ac3df646-328d-443c-f522-a9a5a77c6304"
      },
      "source": [
        "# Let's compare our model's results using the pandas DataFrame\n",
        "import pandas as pd\n",
        "\n",
        "model_results = [[\"model_1\", mae_1.numpy(), mse_1.numpy()],\n",
        "                 [\"model_2\", mae_2.numpy(), mse_2.numpy()],\n",
        "                 [\"model_3\", mae_3.numpy(), mse_3.numpy()]]\n",
        "\n",
        "all_results = pd.DataFrame(model_results, columns=[\"model_1\", \"mae\", \"mse\"])\n",
        "all_results"
      ],
      "execution_count": 62,
      "outputs": [
        {
          "output_type": "execute_result",
          "data": {
            "text/html": [
              "<div>\n",
              "<style scoped>\n",
              "    .dataframe tbody tr th:only-of-type {\n",
              "        vertical-align: middle;\n",
              "    }\n",
              "\n",
              "    .dataframe tbody tr th {\n",
              "        vertical-align: top;\n",
              "    }\n",
              "\n",
              "    .dataframe thead th {\n",
              "        text-align: right;\n",
              "    }\n",
              "</style>\n",
              "<table border=\"1\" class=\"dataframe\">\n",
              "  <thead>\n",
              "    <tr style=\"text-align: right;\">\n",
              "      <th></th>\n",
              "      <th>model_1</th>\n",
              "      <th>mae</th>\n",
              "      <th>mse</th>\n",
              "    </tr>\n",
              "  </thead>\n",
              "  <tbody>\n",
              "    <tr>\n",
              "      <th>0</th>\n",
              "      <td>model_1</td>\n",
              "      <td>18.745327</td>\n",
              "      <td>353.573395</td>\n",
              "    </tr>\n",
              "    <tr>\n",
              "      <th>1</th>\n",
              "      <td>model_2</td>\n",
              "      <td>3.110980</td>\n",
              "      <td>12.496952</td>\n",
              "    </tr>\n",
              "    <tr>\n",
              "      <th>2</th>\n",
              "      <td>model_3</td>\n",
              "      <td>67.909554</td>\n",
              "      <td>4696.061523</td>\n",
              "    </tr>\n",
              "  </tbody>\n",
              "</table>\n",
              "</div>"
            ],
            "text/plain": [
              "   model_1        mae          mse\n",
              "0  model_1  18.745327   353.573395\n",
              "1  model_2   3.110980    12.496952\n",
              "2  model_3  67.909554  4696.061523"
            ]
          },
          "metadata": {
            "tags": []
          },
          "execution_count": 62
        }
      ]
    },
    {
      "cell_type": "markdown",
      "metadata": {
        "id": "QLmsqiGqtSys"
      },
      "source": [
        "Looks like the `model_2` performed the best"
      ]
    },
    {
      "cell_type": "code",
      "metadata": {
        "colab": {
          "base_uri": "https://localhost:8080/"
        },
        "id": "IolRwS4Zr88E",
        "outputId": "0a1f29fe-46b0-499c-9083-8008bc687c24"
      },
      "source": [
        "model_2.summary()"
      ],
      "execution_count": 66,
      "outputs": [
        {
          "output_type": "stream",
          "text": [
            "Model: \"sequential_5\"\n",
            "_________________________________________________________________\n",
            "Layer (type)                 Output Shape              Param #   \n",
            "=================================================================\n",
            "dense_6 (Dense)              (None, 10)                20        \n",
            "_________________________________________________________________\n",
            "dense_7 (Dense)              (None, 1)                 11        \n",
            "=================================================================\n",
            "Total params: 31\n",
            "Trainable params: 31\n",
            "Non-trainable params: 0\n",
            "_________________________________________________________________\n"
          ],
          "name": "stdout"
        }
      ]
    },
    {
      "cell_type": "markdown",
      "metadata": {
        "id": "rdQo6QBctZY8"
      },
      "source": [
        "***Note:*** One of your main goals should be to minimize the time between your expirements. Thbere more expirements you do the more things you'll figure-out which doen't work and in turn, get closer to figuring out what does work. Remember the machine learning practioner's motto: \"EXPIREMENT, Expirement, expirement\"."
      ]
    },
    {
      "cell_type": "markdown",
      "metadata": {
        "id": "rqi5zQ1duZKp"
      },
      "source": [
        "## Tracking your expirements\n",
        "\n",
        "One really good habit in machine learning modelling is to track the results of your expirements.\n",
        "\n",
        "And when doing so, it can be tedious if you're running lots of expirements.\n",
        "\n",
        "Luckily, there are tools to help us!\n",
        "\n",
        "\n",
        "**Resources:** As you build more model you'll want to look into using:\n",
        "\n",
        "- **TensorBoard** - A component of TensorFlow libarary to help track modelling expirements.\n",
        "- **Weights & Biases** - A tool for tracking all kinds of machine learning expirements (plugs straight into TensorBoard). "
      ]
    },
    {
      "cell_type": "markdown",
      "metadata": {
        "id": "4mS48GpKvzrC"
      },
      "source": [
        "## Saving our models\n",
        " \n",
        "Saving the models allows us to use them outside of the Google Colab (or wherever they were trained) such as in web application or a mobile app.\n",
        "\n",
        "There are two main formats we can save our model's too: \n",
        "\n",
        "1. The SavedModel format\n",
        "2. The HDF5 format"
      ]
    },
    {
      "cell_type": "code",
      "metadata": {
        "colab": {
          "base_uri": "https://localhost:8080/"
        },
        "id": "nbW1K5sHtIW3",
        "outputId": "a0d24b98-869d-4590-e0e7-1fcb3d217166"
      },
      "source": [
        "# Save the model using the SavedModel format\n",
        "model_2.save(\"best_model_SavedModel_format\")   "
      ],
      "execution_count": 67,
      "outputs": [
        {
          "output_type": "stream",
          "text": [
            "INFO:tensorflow:Assets written to: best_model_SavedModel_format/assets\n"
          ],
          "name": "stdout"
        }
      ]
    },
    {
      "cell_type": "code",
      "metadata": {
        "id": "ZY4t69VNxY7Q"
      },
      "source": [
        "#  Save the model using the HDF5 Foramt\n",
        "model_2.save(\"best_model_HDF5_format.h5\")"
      ],
      "execution_count": 68,
      "outputs": []
    },
    {
      "cell_type": "markdown",
      "metadata": {
        "id": "71sSqnuiyAAs"
      },
      "source": [
        "## Loading in the saved model\n",
        "\n"
      ]
    },
    {
      "cell_type": "code",
      "metadata": {
        "colab": {
          "base_uri": "https://localhost:8080/"
        },
        "id": "dxXgVsbRyXYb",
        "outputId": "67153ae1-8313-4a4b-8b5c-0b7117a9d3d1"
      },
      "source": [
        "# Load in the SavedModel format model \n",
        "loaded_SavedModel_format = tf.keras.models.load_model(\"best_model_SavedModel_format\")\n",
        "loaded_SavedModel_format.summary()"
      ],
      "execution_count": 74,
      "outputs": [
        {
          "output_type": "stream",
          "text": [
            "Model: \"sequential_5\"\n",
            "_________________________________________________________________\n",
            "Layer (type)                 Output Shape              Param #   \n",
            "=================================================================\n",
            "dense_6 (Dense)              (None, 10)                20        \n",
            "_________________________________________________________________\n",
            "dense_7 (Dense)              (None, 1)                 11        \n",
            "=================================================================\n",
            "Total params: 31\n",
            "Trainable params: 31\n",
            "Non-trainable params: 0\n",
            "_________________________________________________________________\n"
          ],
          "name": "stdout"
        }
      ]
    },
    {
      "cell_type": "code",
      "metadata": {
        "colab": {
          "base_uri": "https://localhost:8080/"
        },
        "id": "Sjw5Bwl0y83Y",
        "outputId": "ddd3cf3d-13ce-4b6d-eb31-5d0ed5468fb3"
      },
      "source": [
        "# Compare model_2 predictions with SavedModel format model predictions\n",
        "model_2_preds = model_2.predict(X_test)\n",
        "loaded_SavedModel_format_preds = loaded_SavedModel_format.predict(X_test)\n",
        "model_2_preds == loaded_SavedModel_format_preds"
      ],
      "execution_count": 81,
      "outputs": [
        {
          "output_type": "execute_result",
          "data": {
            "text/plain": [
              "array([[ True],\n",
              "       [ True],\n",
              "       [ True],\n",
              "       [ True],\n",
              "       [ True],\n",
              "       [ True],\n",
              "       [ True],\n",
              "       [ True],\n",
              "       [ True],\n",
              "       [ True]])"
            ]
          },
          "metadata": {
            "tags": []
          },
          "execution_count": 81
        }
      ]
    },
    {
      "cell_type": "code",
      "metadata": {
        "colab": {
          "base_uri": "https://localhost:8080/"
        },
        "id": "I71wcBlfzEQx",
        "outputId": "51f61f55-12da-4b44-d70a-3c4a7d149eb6"
      },
      "source": [
        "# Compare the MAE preds of model_2_preds and the SavedModel_preds\n",
        "mae(y_true=y_test, y_pred=model_2_preds) == mae(y_true=y_test, y_pred=loaded_SavedModel_format_preds)"
      ],
      "execution_count": 78,
      "outputs": [
        {
          "output_type": "execute_result",
          "data": {
            "text/plain": [
              "<tf.Tensor: shape=(), dtype=bool, numpy=True>"
            ]
          },
          "metadata": {
            "tags": []
          },
          "execution_count": 78
        }
      ]
    },
    {
      "cell_type": "code",
      "metadata": {
        "colab": {
          "base_uri": "https://localhost:8080/"
        },
        "id": "IqFkogiJ0Nlg",
        "outputId": "b0fcc7e5-04b8-411c-ae43-e2097269935d"
      },
      "source": [
        "model_2_preds.squeeze()"
      ],
      "execution_count": 79,
      "outputs": [
        {
          "output_type": "execute_result",
          "data": {
            "text/plain": [
              "array([ 70.48062 ,  75.06515 ,  79.64967 ,  84.2342  ,  88.81872 ,\n",
              "        93.40323 ,  97.98777 , 102.57229 , 107.156815, 111.74133 ],\n",
              "      dtype=float32)"
            ]
          },
          "metadata": {
            "tags": []
          },
          "execution_count": 79
        }
      ]
    },
    {
      "cell_type": "code",
      "metadata": {
        "colab": {
          "base_uri": "https://localhost:8080/"
        },
        "id": "xNhxusPv04tc",
        "outputId": "37f6a0e7-329c-4ab0-c700-8b518bf52ad0"
      },
      "source": [
        "loaded_SavedModel_foramt_preds.squeeze()"
      ],
      "execution_count": 82,
      "outputs": [
        {
          "output_type": "execute_result",
          "data": {
            "text/plain": [
              "array([ 70.48062 ,  75.06515 ,  79.64967 ,  84.2342  ,  88.81872 ,\n",
              "        93.40323 ,  97.98777 , 102.57229 , 107.156815, 111.74133 ],\n",
              "      dtype=float32)"
            ]
          },
          "metadata": {
            "tags": []
          },
          "execution_count": 82
        }
      ]
    },
    {
      "cell_type": "code",
      "metadata": {
        "id": "ZGH-QMT91Otp",
        "colab": {
          "base_uri": "https://localhost:8080/"
        },
        "outputId": "131722e1-c404-432e-d714-63945c5bc7a1"
      },
      "source": [
        "# Load in the model using the .h5 foramt\n",
        "loaded_h5_model = tf.keras.models.load_model(\"best_model_HDF5_format.h5\")\n",
        "loaded_h5_model.summary()"
      ],
      "execution_count": 83,
      "outputs": [
        {
          "output_type": "stream",
          "text": [
            "Model: \"sequential_5\"\n",
            "_________________________________________________________________\n",
            "Layer (type)                 Output Shape              Param #   \n",
            "=================================================================\n",
            "dense_6 (Dense)              (None, 10)                20        \n",
            "_________________________________________________________________\n",
            "dense_7 (Dense)              (None, 1)                 11        \n",
            "=================================================================\n",
            "Total params: 31\n",
            "Trainable params: 31\n",
            "Non-trainable params: 0\n",
            "_________________________________________________________________\n"
          ],
          "name": "stdout"
        }
      ]
    },
    {
      "cell_type": "code",
      "metadata": {
        "colab": {
          "base_uri": "https://localhost:8080/"
        },
        "id": "JgQwKR3t09wQ",
        "outputId": "f0a28ae4-4373-4a51-d44a-5a446d1cbf0a"
      },
      "source": [
        "model_2.summary()"
      ],
      "execution_count": 84,
      "outputs": [
        {
          "output_type": "stream",
          "text": [
            "Model: \"sequential_5\"\n",
            "_________________________________________________________________\n",
            "Layer (type)                 Output Shape              Param #   \n",
            "=================================================================\n",
            "dense_6 (Dense)              (None, 10)                20        \n",
            "_________________________________________________________________\n",
            "dense_7 (Dense)              (None, 1)                 11        \n",
            "=================================================================\n",
            "Total params: 31\n",
            "Trainable params: 31\n",
            "Non-trainable params: 0\n",
            "_________________________________________________________________\n"
          ],
          "name": "stdout"
        }
      ]
    },
    {
      "cell_type": "code",
      "metadata": {
        "colab": {
          "base_uri": "https://localhost:8080/"
        },
        "id": "a3biTwVM1zCO",
        "outputId": "cf54c950-6e37-4eda-fe23-733e5a17420a"
      },
      "source": [
        "# Check to see if loaded .h5 model predictions match model_2\n",
        "model_2_preds = model_2.predict(X_test)\n",
        "loaded_h5_model_preds = loaded_h5_model.predict(X_test)\n",
        "model_2_preds == loaded_h5_model_preds"
      ],
      "execution_count": 86,
      "outputs": [
        {
          "output_type": "execute_result",
          "data": {
            "text/plain": [
              "array([[ True],\n",
              "       [ True],\n",
              "       [ True],\n",
              "       [ True],\n",
              "       [ True],\n",
              "       [ True],\n",
              "       [ True],\n",
              "       [ True],\n",
              "       [ True],\n",
              "       [ True]])"
            ]
          },
          "metadata": {
            "tags": []
          },
          "execution_count": 86
        }
      ]
    },
    {
      "cell_type": "markdown",
      "metadata": {
        "id": "ITWjdYE32T-s"
      },
      "source": [
        "## Download a model (or any other file) from Google Colab\n",
        "\n",
        "If you want to download your files form the google colab: \n",
        "\n",
        "1. You can go to the \"files\" tab and right click on the file you're after and click \"Downlaod\".\n",
        "2. Use code (see the cell below)\n",
        "3. Save it to the Google Drive by connecting Google Drive and copying it there. (see 2nd code cell below)\n"
      ]
    },
    {
      "cell_type": "code",
      "metadata": {
        "id": "-Tq1eWEV3A4-"
      },
      "source": [
        "# # Download the file from Google Colab\n",
        "# from google.colab import files\n",
        "# files.download(\"/content/best_model_HDF5_format.h5\")"
      ],
      "execution_count": null,
      "outputs": []
    },
    {
      "cell_type": "code",
      "metadata": {
        "id": "Tmobk8ed4FyE"
      },
      "source": [
        "# # Save a file from Google Colab to Google Drive (requires mounting the googel Drive )\n",
        "# !cp /content/best_model_HDF5_format.h5 /content/drive/MyDrive/Learning "
      ],
      "execution_count": null,
      "outputs": []
    },
    {
      "cell_type": "code",
      "metadata": {
        "id": "1WFIcSQG4F5c"
      },
      "source": [
        "#  !ls /content/drive/MyDrive/Learning"
      ],
      "execution_count": null,
      "outputs": []
    }
  ]
}