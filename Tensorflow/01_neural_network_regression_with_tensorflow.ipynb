{
  "nbformat": 4,
  "nbformat_minor": 0,
  "metadata": {
    "colab": {
      "name": "01_neural_network_regression_with_tensorflow.ipynb",
      "provenance": [],
      "collapsed_sections": [],
      "authorship_tag": "ABX9TyMIwh3qopy5hbms5Fr3fZ8D",
      "include_colab_link": true
    },
    "kernelspec": {
      "name": "python3",
      "display_name": "Python 3"
    },
    "language_info": {
      "name": "python"
    },
    "accelerator": "GPU"
  },
  "cells": [
    {
      "cell_type": "markdown",
      "metadata": {
        "id": "view-in-github",
        "colab_type": "text"
      },
      "source": [
        "<a href=\"https://colab.research.google.com/github/kunalburgul/MLDS_Learning/blob/master/Tensorflow/01_neural_network_regression_with_tensorflow.ipynb\" target=\"_parent\"><img src=\"https://colab.research.google.com/assets/colab-badge.svg\" alt=\"Open In Colab\"/></a>"
      ]
    },
    {
      "cell_type": "markdown",
      "metadata": {
        "id": "4dh_-pkyJ6Ud"
      },
      "source": [
        "# **Introduction to Regression with Neural Network in TensorFlow**\n",
        "\n",
        "There are many definations for a regression problem but tin our case, we're going to simplify it: predicting a numerical variable based on some other combination of variables, even shorter... predicting a number."
      ]
    },
    {
      "cell_type": "code",
      "metadata": {
        "colab": {
          "base_uri": "https://localhost:8080/"
        },
        "id": "xHRVAS6eKukY",
        "outputId": "f3884c1c-a1ec-4603-8013-c678b86aa5b7"
      },
      "source": [
        "# Import TensorFlow \n",
        "import tensorflow as tf\n",
        "print(tf.__version__)"
      ],
      "execution_count": null,
      "outputs": [
        {
          "output_type": "stream",
          "text": [
            "2.4.1\n"
          ],
          "name": "stdout"
        }
      ]
    },
    {
      "cell_type": "markdown",
      "metadata": {
        "id": "HDZaKdwiK4eX"
      },
      "source": [
        "## **Creating some data to view and fit**"
      ]
    },
    {
      "cell_type": "code",
      "metadata": {
        "colab": {
          "base_uri": "https://localhost:8080/",
          "height": 286
        },
        "id": "M1o_Hj9IK-cH",
        "outputId": "f61d4d65-1802-4a88-d6fa-ee78f456751f"
      },
      "source": [
        "import numpy as np\n",
        "import matplotlib.pyplot as plt\n",
        "\n",
        "# Create features\n",
        "X = np.array([-7.0, -4.0, -1.0, 2.0, 5.0, 8.0, 11.0, 14.0])\n",
        "\n",
        "# Create labels\n",
        "y = np.array([3.0, 6.0, 9.0, 12.0, 15.0, 18.0, 21.0, 24.0])\n",
        "\n",
        "# Visulalize it\n",
        "plt.scatter(X, y)"
      ],
      "execution_count": null,
      "outputs": [
        {
          "output_type": "execute_result",
          "data": {
            "text/plain": [
              "<matplotlib.collections.PathCollection at 0x7f6ed4e88f90>"
            ]
          },
          "metadata": {
            "tags": []
          },
          "execution_count": 3
        },
        {
          "output_type": "display_data",
          "data": {
            "image/png": "[encoded data removed]",
            "text/plain": [
              "<Figure size 432x288 with 1 Axes>"
            ]
          },
          "metadata": {
            "tags": [],
            "needs_background": "light"
          }
        }
      ]
    },
    {
      "cell_type": "code",
      "metadata": {
        "colab": {
          "base_uri": "https://localhost:8080/"
        },
        "id": "jGEEfH-PLnEh",
        "outputId": "2931578f-316d-45bd-a950-163e35fd9f93"
      },
      "source": [
        "y == X + 10"
      ],
      "execution_count": null,
      "outputs": [
        {
          "output_type": "execute_result",
          "data": {
            "text/plain": [
              "array([ True,  True,  True,  True,  True,  True,  True,  True])"
            ]
          },
          "metadata": {
            "tags": []
          },
          "execution_count": 4
        }
      ]
    },
    {
      "cell_type": "markdown",
      "metadata": {
        "id": "eqyjM3eLLyiq"
      },
      "source": [
        "## **Input and Output shapes**"
      ]
    },
    {
      "cell_type": "code",
      "metadata": {
        "colab": {
          "base_uri": "https://localhost:8080/"
        },
        "id": "i0_WcG1hMGmj",
        "outputId": "0f3af8ee-1e73-4ba7-c7bd-f986c25378a4"
      },
      "source": [
        "# Create a demo tensor for our housing price prediction problem\n",
        "house_info = tf.constant(['bedroom', 'bathroom', 'garage'])\n",
        "housr_price = tf.constant([939700])\n",
        "house_info, housr_price"
      ],
      "execution_count": null,
      "outputs": [
        {
          "output_type": "execute_result",
          "data": {
            "text/plain": [
              "(<tf.Tensor: shape=(3,), dtype=string, numpy=array([b'bedroom', b'bathroom', b'garage'], dtype=object)>,\n",
              " <tf.Tensor: shape=(1,), dtype=int32, numpy=array([939700], dtype=int32)>)"
            ]
          },
          "metadata": {
            "tags": []
          },
          "execution_count": 5
        }
      ]
    },
    {
      "cell_type": "code",
      "metadata": {
        "colab": {
          "base_uri": "https://localhost:8080/"
        },
        "id": "6ycUL62SM4Ad",
        "outputId": "f5bd7334-f27b-42d0-d6df-6f1cb87fb42b"
      },
      "source": [
        "X[0], y[0]"
      ],
      "execution_count": null,
      "outputs": [
        {
          "output_type": "execute_result",
          "data": {
            "text/plain": [
              "(-7.0, 3.0)"
            ]
          },
          "metadata": {
            "tags": []
          },
          "execution_count": 6
        }
      ]
    },
    {
      "cell_type": "code",
      "metadata": {
        "colab": {
          "base_uri": "https://localhost:8080/"
        },
        "id": "k4ptCYkLMiHk",
        "outputId": "1bf60b2e-c2e3-48e7-89db-379201537c13"
      },
      "source": [
        "input_shape = X.shape\n",
        "output_shape = y.shape\n",
        "input_shape, output_shape"
      ],
      "execution_count": null,
      "outputs": [
        {
          "output_type": "execute_result",
          "data": {
            "text/plain": [
              "((8,), (8,))"
            ]
          },
          "metadata": {
            "tags": []
          },
          "execution_count": 7
        }
      ]
    },
    {
      "cell_type": "code",
      "metadata": {
        "colab": {
          "base_uri": "https://localhost:8080/"
        },
        "id": "UKJKfLerMytW",
        "outputId": "df07670a-2974-4ad1-9e06-540be22b42f6"
      },
      "source": [
        " # Turn out the NumPy arrays into the tensors\n",
        " X = tf.constant(X)\n",
        " y = tf.constant(y)\n",
        " X, y"
      ],
      "execution_count": null,
      "outputs": [
        {
          "output_type": "execute_result",
          "data": {
            "text/plain": [
              "(<tf.Tensor: shape=(8,), dtype=float64, numpy=array([-7., -4., -1.,  2.,  5.,  8., 11., 14.])>,\n",
              " <tf.Tensor: shape=(8,), dtype=float64, numpy=array([ 3.,  6.,  9., 12., 15., 18., 21., 24.])>)"
            ]
          },
          "metadata": {
            "tags": []
          },
          "execution_count": 8
        }
      ]
    },
    {
      "cell_type": "code",
      "metadata": {
        "colab": {
          "base_uri": "https://localhost:8080/"
        },
        "id": "pNZTWCUqNmrQ",
        "outputId": "a47113df-203f-49a4-9ce8-739455a6e521"
      },
      "source": [
        "input_shape = X[0].shape\n",
        "output_shape = y[0].shape\n",
        "input_shape, output_shape"
      ],
      "execution_count": null,
      "outputs": [
        {
          "output_type": "execute_result",
          "data": {
            "text/plain": [
              "(TensorShape([]), TensorShape([]))"
            ]
          },
          "metadata": {
            "tags": []
          },
          "execution_count": 9
        }
      ]
    },
    {
      "cell_type": "markdown",
      "metadata": {
        "id": "YNUwFhOONvdZ"
      },
      "source": [
        "## **Start with the modelling with TensorFlow**\n",
        "\n",
        "1. **Creating a model** - define the input and output layers, as well as the hidden layers of the deep learning model.\n",
        "2. **Compiling a model** - define the loss function (in other words, the function which tells our model how worng it is) and the optimizer  (tells our model how to improve the patterns its learnings) and the evaluation metrics (what we can use to interpret the performance of our model).\n",
        "3. **Fitting a model** - letting the model try to find the patterns between X & y (features and labels)"
      ]
    },
    {
      "cell_type": "code",
      "metadata": {
        "colab": {
          "base_uri": "https://localhost:8080/"
        },
        "id": "hnS2sKMpQQY8",
        "outputId": "6609e0c1-8260-4934-a819-d12f4a645f51"
      },
      "source": [
        "# Set the random seed\n",
        "tf.random.set_seed(42)\n",
        "\n",
        "# 1. Create a model using a Sequential API\n",
        "model = tf.keras.Sequential([tf.keras.layers.Dense(1)])\n",
        "\n",
        "# 2. Complie the model \n",
        "model.compile(loss=tf.keras.losses.mae,  # mae - mean absolute error\n",
        "              optimizer=tf.keras.optimizers.SGD(), # SGD - stochastic gradient desent\n",
        "              metrics=[\"mae\"])\n",
        "\n",
        "# 3. Fit the model \n",
        "model.fit(X, y, epochs=5)"
      ],
      "execution_count": null,
      "outputs": [
        {
          "output_type": "stream",
          "text": [
            "Epoch 1/5\n",
            "1/1 [==============================] - 2s 2s/step - loss: 11.5048 - mae: 11.5048\n",
            "Epoch 2/5\n",
            "1/1 [==============================] - 0s 3ms/step - loss: 11.3723 - mae: 11.3723\n",
            "Epoch 3/5\n",
            "1/1 [==============================] - 0s 5ms/step - loss: 11.2398 - mae: 11.2398\n",
            "Epoch 4/5\n",
            "1/1 [==============================] - 0s 3ms/step - loss: 11.1073 - mae: 11.1073\n",
            "Epoch 5/5\n",
            "1/1 [==============================] - 0s 3ms/step - loss: 10.9748 - mae: 10.9748\n"
          ],
          "name": "stdout"
        },
        {
          "output_type": "execute_result",
          "data": {
            "text/plain": [
              "<tensorflow.python.keras.callbacks.History at 0x7f6ed56c3110>"
            ]
          },
          "metadata": {
            "tags": []
          },
          "execution_count": 10
        }
      ]
    },
    {
      "cell_type": "code",
      "metadata": {
        "colab": {
          "base_uri": "https://localhost:8080/"
        },
        "id": "xHWTX-JYVUgC",
        "outputId": "ade54bcd-6d92-4343-fa10-d1d2c953ad5c"
      },
      "source": [
        "# Check out X an y\n",
        "X, y"
      ],
      "execution_count": null,
      "outputs": [
        {
          "output_type": "execute_result",
          "data": {
            "text/plain": [
              "(<tf.Tensor: shape=(8,), dtype=float64, numpy=array([-7., -4., -1.,  2.,  5.,  8., 11., 14.])>,\n",
              " <tf.Tensor: shape=(8,), dtype=float64, numpy=array([ 3.,  6.,  9., 12., 15., 18., 21., 24.])>)"
            ]
          },
          "metadata": {
            "tags": []
          },
          "execution_count": 11
        }
      ]
    },
    {
      "cell_type": "code",
      "metadata": {
        "colab": {
          "base_uri": "https://localhost:8080/"
        },
        "id": "vBAc8NE2Wv8w",
        "outputId": "3796e693-6606-47f0-8f55-486560158eb1"
      },
      "source": [
        "# Try and make a prediction using our model\n",
        "y_pred = model.predict([17.0])\n",
        "y_pred"
      ],
      "execution_count": null,
      "outputs": [
        {
          "output_type": "execute_result",
          "data": {
            "text/plain": [
              "array([[12.716021]], dtype=float32)"
            ]
          },
          "metadata": {
            "tags": []
          },
          "execution_count": 12
        }
      ]
    },
    {
      "cell_type": "code",
      "metadata": {
        "colab": {
          "base_uri": "https://localhost:8080/"
        },
        "id": "jidMMiJZW6V8",
        "outputId": "22beac27-4640-4d41-f383-aca455669b3a"
      },
      "source": [
        "y_pred + 11"
      ],
      "execution_count": null,
      "outputs": [
        {
          "output_type": "execute_result",
          "data": {
            "text/plain": [
              "array([[23.71602]], dtype=float32)"
            ]
          },
          "metadata": {
            "tags": []
          },
          "execution_count": 13
        }
      ]
    },
    {
      "cell_type": "markdown",
      "metadata": {
        "id": "IG4QEMt2XLju"
      },
      "source": [
        "## **Improving our model**\n",
        "\n",
        "We can improve  out model by altering the steps we took to create a model.\n",
        "\n",
        "1. **Creating a model** - Here we might add more layers, increase the number of hidden units (all called neuraons) within each of the hidden layers, change the activation function of each layer.\n",
        "2. **Compling a model** - Here we might change the aptimization function or perhaps the **;eraning rate** of the optimization function.\n",
        "3. **Fitting a model** - Here we might fit a model for more **ephocs** (leave it traning for longer) or on more data (give the model more examples to learn form). \n",
        "\n",
        "\n",
        "-----------------------------------------------------------------------\n",
        "\n",
        "Here are some of the common ways to improve the deep model\n",
        "\n",
        "- Adding layers\n",
        "- Increase the number of hidden units\n",
        "- Change the activation functions \n",
        "- Change the optimization functions.\n",
        "- Change the learning Rate.\n",
        "- Fitting on more data\n",
        "\n",
        "------------------------------------------------------------------------"
      ]
    },
    {
      "cell_type": "code",
      "metadata": {
        "colab": {
          "base_uri": "https://localhost:8080/"
        },
        "id": "yvhza-0XXVyk",
        "outputId": "0212b015-03ed-43b2-9fe9-e09c3fe4b718"
      },
      "source": [
        "# Let's rebuild our model\n",
        "\n",
        "# 1. Create the model \n",
        "model = tf.keras.Sequential([tf.keras.layers.Dense(1)])\n",
        "\n",
        "# 2. Compile the model \n",
        "model.compile(loss = tf.keras.losses.mae, \n",
        "              optimizer = tf.keras.optimizers.SGD(),\n",
        "              metrics = \"mae\")\n",
        "\n",
        "# 3. Fit the model\n",
        "model.fit(X, y, epochs=100)\n"
      ],
      "execution_count": null,
      "outputs": [
        {
          "output_type": "stream",
          "text": [
            "Epoch 1/100\n",
            "1/1 [==============================] - 0s 205ms/step - loss: 11.2219 - mae: 11.2219\n",
            "Epoch 2/100\n",
            "1/1 [==============================] - 0s 6ms/step - loss: 11.0894 - mae: 11.0894\n",
            "Epoch 3/100\n",
            "1/1 [==============================] - 0s 5ms/step - loss: 10.9569 - mae: 10.9569\n",
            "Epoch 4/100\n",
            "1/1 [==============================] - 0s 6ms/step - loss: 10.8244 - mae: 10.8244\n",
            "Epoch 5/100\n",
            "1/1 [==============================] - 0s 3ms/step - loss: 10.6919 - mae: 10.6919\n",
            "Epoch 6/100\n",
            "1/1 [==============================] - 0s 5ms/step - loss: 10.5594 - mae: 10.5594\n",
            "Epoch 7/100\n",
            "1/1 [==============================] - 0s 5ms/step - loss: 10.4269 - mae: 10.4269\n",
            "Epoch 8/100\n",
            "1/1 [==============================] - 0s 5ms/step - loss: 10.2944 - mae: 10.2944\n",
            "Epoch 9/100\n",
            "1/1 [==============================] - 0s 5ms/step - loss: 10.1619 - mae: 10.1619\n",
            "Epoch 10/100\n",
            "1/1 [==============================] - 0s 3ms/step - loss: 10.0294 - mae: 10.0294\n",
            "Epoch 11/100\n",
            "1/1 [==============================] - 0s 5ms/step - loss: 9.8969 - mae: 9.8969\n",
            "Epoch 12/100\n",
            "1/1 [==============================] - 0s 3ms/step - loss: 9.7644 - mae: 9.7644\n",
            "Epoch 13/100\n",
            "1/1 [==============================] - 0s 4ms/step - loss: 9.6319 - mae: 9.6319\n",
            "Epoch 14/100\n",
            "1/1 [==============================] - 0s 4ms/step - loss: 9.4994 - mae: 9.4994\n",
            "Epoch 15/100\n",
            "1/1 [==============================] - 0s 11ms/step - loss: 9.3669 - mae: 9.3669\n",
            "Epoch 16/100\n",
            "1/1 [==============================] - 0s 4ms/step - loss: 9.2344 - mae: 9.2344\n",
            "Epoch 17/100\n",
            "1/1 [==============================] - 0s 4ms/step - loss: 9.1019 - mae: 9.1019\n",
            "Epoch 18/100\n",
            "1/1 [==============================] - 0s 3ms/step - loss: 8.9694 - mae: 8.9694\n",
            "Epoch 19/100\n",
            "1/1 [==============================] - 0s 4ms/step - loss: 8.8369 - mae: 8.8369\n",
            "Epoch 20/100\n",
            "1/1 [==============================] - 0s 4ms/step - loss: 8.7044 - mae: 8.7044\n",
            "Epoch 21/100\n",
            "1/1 [==============================] - 0s 5ms/step - loss: 8.5719 - mae: 8.5719\n",
            "Epoch 22/100\n",
            "1/1 [==============================] - 0s 3ms/step - loss: 8.4394 - mae: 8.4394\n",
            "Epoch 23/100\n",
            "1/1 [==============================] - 0s 3ms/step - loss: 8.3069 - mae: 8.3069\n",
            "Epoch 24/100\n",
            "1/1 [==============================] - 0s 4ms/step - loss: 8.1744 - mae: 8.1744\n",
            "Epoch 25/100\n",
            "1/1 [==============================] - 0s 5ms/step - loss: 8.0419 - mae: 8.0419\n",
            "Epoch 26/100\n",
            "1/1 [==============================] - 0s 6ms/step - loss: 7.9094 - mae: 7.9094\n",
            "Epoch 27/100\n",
            "1/1 [==============================] - 0s 5ms/step - loss: 7.7769 - mae: 7.7769\n",
            "Epoch 28/100\n",
            "1/1 [==============================] - 0s 5ms/step - loss: 7.6444 - mae: 7.6444\n",
            "Epoch 29/100\n",
            "1/1 [==============================] - 0s 5ms/step - loss: 7.5119 - mae: 7.5119\n",
            "Epoch 30/100\n",
            "1/1 [==============================] - 0s 5ms/step - loss: 7.3794 - mae: 7.3794\n",
            "Epoch 31/100\n",
            "1/1 [==============================] - 0s 5ms/step - loss: 7.2750 - mae: 7.2750\n",
            "Epoch 32/100\n",
            "1/1 [==============================] - 0s 5ms/step - loss: 7.2694 - mae: 7.2694\n",
            "Epoch 33/100\n",
            "1/1 [==============================] - 0s 5ms/step - loss: 7.2638 - mae: 7.2638\n",
            "Epoch 34/100\n",
            "1/1 [==============================] - 0s 3ms/step - loss: 7.2581 - mae: 7.2581\n",
            "Epoch 35/100\n",
            "1/1 [==============================] - 0s 4ms/step - loss: 7.2525 - mae: 7.2525\n",
            "Epoch 36/100\n",
            "1/1 [==============================] - 0s 6ms/step - loss: 7.2469 - mae: 7.2469\n",
            "Epoch 37/100\n",
            "1/1 [==============================] - 0s 3ms/step - loss: 7.2413 - mae: 7.2413\n",
            "Epoch 38/100\n",
            "1/1 [==============================] - 0s 4ms/step - loss: 7.2356 - mae: 7.2356\n",
            "Epoch 39/100\n",
            "1/1 [==============================] - 0s 3ms/step - loss: 7.2300 - mae: 7.2300\n",
            "Epoch 40/100\n",
            "1/1 [==============================] - 0s 4ms/step - loss: 7.2244 - mae: 7.2244\n",
            "Epoch 41/100\n",
            "1/1 [==============================] - 0s 5ms/step - loss: 7.2188 - mae: 7.2188\n",
            "Epoch 42/100\n",
            "1/1 [==============================] - 0s 5ms/step - loss: 7.2131 - mae: 7.2131\n",
            "Epoch 43/100\n",
            "1/1 [==============================] - 0s 4ms/step - loss: 7.2075 - mae: 7.2075\n",
            "Epoch 44/100\n",
            "1/1 [==============================] - 0s 5ms/step - loss: 7.2019 - mae: 7.2019\n",
            "Epoch 45/100\n",
            "1/1 [==============================] - 0s 5ms/step - loss: 7.1962 - mae: 7.1962\n",
            "Epoch 46/100\n",
            "1/1 [==============================] - 0s 6ms/step - loss: 7.1906 - mae: 7.1906\n",
            "Epoch 47/100\n",
            "1/1 [==============================] - 0s 9ms/step - loss: 7.1850 - mae: 7.1850\n",
            "Epoch 48/100\n",
            "1/1 [==============================] - 0s 6ms/step - loss: 7.1794 - mae: 7.1794\n",
            "Epoch 49/100\n",
            "1/1 [==============================] - 0s 6ms/step - loss: 7.1737 - mae: 7.1737\n",
            "Epoch 50/100\n",
            "1/1 [==============================] - 0s 6ms/step - loss: 7.1681 - mae: 7.1681\n",
            "Epoch 51/100\n",
            "1/1 [==============================] - 0s 6ms/step - loss: 7.1625 - mae: 7.1625\n",
            "Epoch 52/100\n",
            "1/1 [==============================] - 0s 4ms/step - loss: 7.1569 - mae: 7.1569\n",
            "Epoch 53/100\n",
            "1/1 [==============================] - 0s 4ms/step - loss: 7.1512 - mae: 7.1512\n",
            "Epoch 54/100\n",
            "1/1 [==============================] - 0s 6ms/step - loss: 7.1456 - mae: 7.1456\n",
            "Epoch 55/100\n",
            "1/1 [==============================] - 0s 5ms/step - loss: 7.1400 - mae: 7.1400\n",
            "Epoch 56/100\n",
            "1/1 [==============================] - 0s 4ms/step - loss: 7.1344 - mae: 7.1344\n",
            "Epoch 57/100\n",
            "1/1 [==============================] - 0s 5ms/step - loss: 7.1287 - mae: 7.1287\n",
            "Epoch 58/100\n",
            "1/1 [==============================] - 0s 6ms/step - loss: 7.1231 - mae: 7.1231\n",
            "Epoch 59/100\n",
            "1/1 [==============================] - 0s 6ms/step - loss: 7.1175 - mae: 7.1175\n",
            "Epoch 60/100\n",
            "1/1 [==============================] - 0s 5ms/step - loss: 7.1119 - mae: 7.1119\n",
            "Epoch 61/100\n",
            "1/1 [==============================] - 0s 4ms/step - loss: 7.1062 - mae: 7.1062\n",
            "Epoch 62/100\n",
            "1/1 [==============================] - 0s 4ms/step - loss: 7.1006 - mae: 7.1006\n",
            "Epoch 63/100\n",
            "1/1 [==============================] - 0s 7ms/step - loss: 7.0950 - mae: 7.0950\n",
            "Epoch 64/100\n",
            "1/1 [==============================] - 0s 4ms/step - loss: 7.0894 - mae: 7.0894\n",
            "Epoch 65/100\n",
            "1/1 [==============================] - 0s 4ms/step - loss: 7.0838 - mae: 7.0838\n",
            "Epoch 66/100\n",
            "1/1 [==============================] - 0s 3ms/step - loss: 7.0781 - mae: 7.0781\n",
            "Epoch 67/100\n",
            "1/1 [==============================] - 0s 5ms/step - loss: 7.0725 - mae: 7.0725\n",
            "Epoch 68/100\n",
            "1/1 [==============================] - 0s 6ms/step - loss: 7.0669 - mae: 7.0669\n",
            "Epoch 69/100\n",
            "1/1 [==============================] - 0s 4ms/step - loss: 7.0613 - mae: 7.0613\n",
            "Epoch 70/100\n",
            "1/1 [==============================] - 0s 5ms/step - loss: 7.0556 - mae: 7.0556\n",
            "Epoch 71/100\n",
            "1/1 [==============================] - 0s 4ms/step - loss: 7.0500 - mae: 7.0500\n",
            "Epoch 72/100\n",
            "1/1 [==============================] - 0s 6ms/step - loss: 7.0444 - mae: 7.0444\n",
            "Epoch 73/100\n",
            "1/1 [==============================] - 0s 4ms/step - loss: 7.0388 - mae: 7.0388\n",
            "Epoch 74/100\n",
            "1/1 [==============================] - 0s 30ms/step - loss: 7.0331 - mae: 7.0331\n",
            "Epoch 75/100\n",
            "1/1 [==============================] - 0s 6ms/step - loss: 7.0275 - mae: 7.0275\n",
            "Epoch 76/100\n",
            "1/1 [==============================] - 0s 20ms/step - loss: 7.0219 - mae: 7.0219\n",
            "Epoch 77/100\n",
            "1/1 [==============================] - 0s 3ms/step - loss: 7.0163 - mae: 7.0163\n",
            "Epoch 78/100\n",
            "1/1 [==============================] - 0s 3ms/step - loss: 7.0106 - mae: 7.0106\n",
            "Epoch 79/100\n",
            "1/1 [==============================] - 0s 3ms/step - loss: 7.0050 - mae: 7.0050\n",
            "Epoch 80/100\n",
            "1/1 [==============================] - 0s 4ms/step - loss: 6.9994 - mae: 6.9994\n",
            "Epoch 81/100\n",
            "1/1 [==============================] - 0s 4ms/step - loss: 6.9938 - mae: 6.9938\n",
            "Epoch 82/100\n",
            "1/1 [==============================] - 0s 5ms/step - loss: 6.9881 - mae: 6.9881\n",
            "Epoch 83/100\n",
            "1/1 [==============================] - 0s 5ms/step - loss: 6.9825 - mae: 6.9825\n",
            "Epoch 84/100\n",
            "1/1 [==============================] - 0s 3ms/step - loss: 6.9769 - mae: 6.9769\n",
            "Epoch 85/100\n",
            "1/1 [==============================] - 0s 3ms/step - loss: 6.9713 - mae: 6.9713\n",
            "Epoch 86/100\n",
            "1/1 [==============================] - 0s 13ms/step - loss: 6.9656 - mae: 6.9656\n",
            "Epoch 87/100\n",
            "1/1 [==============================] - 0s 10ms/step - loss: 6.9600 - mae: 6.9600\n",
            "Epoch 88/100\n",
            "1/1 [==============================] - 0s 10ms/step - loss: 6.9544 - mae: 6.9544\n",
            "Epoch 89/100\n",
            "1/1 [==============================] - 0s 5ms/step - loss: 6.9488 - mae: 6.9488\n",
            "Epoch 90/100\n",
            "1/1 [==============================] - 0s 5ms/step - loss: 6.9431 - mae: 6.9431\n",
            "Epoch 91/100\n",
            "1/1 [==============================] - 0s 7ms/step - loss: 6.9375 - mae: 6.9375\n",
            "Epoch 92/100\n",
            "1/1 [==============================] - 0s 8ms/step - loss: 6.9319 - mae: 6.9319\n",
            "Epoch 93/100\n",
            "1/1 [==============================] - 0s 6ms/step - loss: 6.9262 - mae: 6.9262\n",
            "Epoch 94/100\n",
            "1/1 [==============================] - 0s 4ms/step - loss: 6.9206 - mae: 6.9206\n",
            "Epoch 95/100\n",
            "1/1 [==============================] - 0s 13ms/step - loss: 6.9150 - mae: 6.9150\n",
            "Epoch 96/100\n",
            "1/1 [==============================] - 0s 11ms/step - loss: 6.9094 - mae: 6.9094\n",
            "Epoch 97/100\n",
            "1/1 [==============================] - 0s 13ms/step - loss: 6.9038 - mae: 6.9038\n",
            "Epoch 98/100\n",
            "1/1 [==============================] - 0s 4ms/step - loss: 6.8981 - mae: 6.8981\n",
            "Epoch 99/100\n",
            "1/1 [==============================] - 0s 3ms/step - loss: 6.8925 - mae: 6.8925\n",
            "Epoch 100/100\n",
            "1/1 [==============================] - 0s 11ms/step - loss: 6.8869 - mae: 6.8869\n"
          ],
          "name": "stdout"
        },
        {
          "output_type": "execute_result",
          "data": {
            "text/plain": [
              "<tensorflow.python.keras.callbacks.History at 0x7f6ec05c99d0>"
            ]
          },
          "metadata": {
            "tags": []
          },
          "execution_count": 14
        }
      ]
    },
    {
      "cell_type": "code",
      "metadata": {
        "colab": {
          "base_uri": "https://localhost:8080/"
        },
        "id": "e7SMwK0egL3N",
        "outputId": "844d158d-fdc2-42a7-804d-19f8ee50216f"
      },
      "source": [
        "# Remind  ourselves of the data\n",
        "X, y"
      ],
      "execution_count": null,
      "outputs": [
        {
          "output_type": "execute_result",
          "data": {
            "text/plain": [
              "(<tf.Tensor: shape=(8,), dtype=float64, numpy=array([-7., -4., -1.,  2.,  5.,  8., 11., 14.])>,\n",
              " <tf.Tensor: shape=(8,), dtype=float64, numpy=array([ 3.,  6.,  9., 12., 15., 18., 21., 24.])>)"
            ]
          },
          "metadata": {
            "tags": []
          },
          "execution_count": 15
        }
      ]
    },
    {
      "cell_type": "code",
      "metadata": {
        "colab": {
          "base_uri": "https://localhost:8080/"
        },
        "id": "6QLNFl7Ygmv3",
        "outputId": "74523b79-da40-41e2-ef61-3445776cafa1"
      },
      "source": [
        "# Let's see if our models prediction has imporved \n",
        "model.predict([17.0])"
      ],
      "execution_count": null,
      "outputs": [
        {
          "output_type": "execute_result",
          "data": {
            "text/plain": [
              "array([[29.739855]], dtype=float32)"
            ]
          },
          "metadata": {
            "tags": []
          },
          "execution_count": 16
        }
      ]
    },
    {
      "cell_type": "code",
      "metadata": {
        "colab": {
          "base_uri": "https://localhost:8080/"
        },
        "id": "i3q2PQq9gvOo",
        "outputId": "025f138e-b8f0-4f33-c217-6ca33c0fbe74"
      },
      "source": [
        "# Let's see if we can make another to imoprove our model\n",
        "\n",
        "# 1. Create the model  (this time with the extra hidden layer with 100 hidden units)\n",
        "model = tf.keras.Sequential([\n",
        "    tf.keras.layers.Dense(100, activation=\"relu\"),\n",
        "    tf.keras.layers.Dense(1)\n",
        "    ])\n",
        "\n",
        "# 2. Compile the model \n",
        "model.compile(loss = \"mae\", \n",
        "              optimizer = tf.keras.optimizers.Adam(lr=0.01),\n",
        "              metrics = \"mae\")\n",
        "\n",
        "# 3. Fit the model\n",
        "model.fit(X, y, epochs=100)"
      ],
      "execution_count": null,
      "outputs": [
        {
          "output_type": "stream",
          "text": [
            "Epoch 1/100\n",
            "1/1 [==============================] - 0s 313ms/step - loss: 12.3193 - mae: 12.3193\n",
            "Epoch 2/100\n",
            "1/1 [==============================] - 0s 5ms/step - loss: 11.5062 - mae: 11.5062\n",
            "Epoch 3/100\n",
            "1/1 [==============================] - 0s 5ms/step - loss: 10.6739 - mae: 10.6739\n",
            "Epoch 4/100\n",
            "1/1 [==============================] - 0s 5ms/step - loss: 9.8419 - mae: 9.8419\n",
            "Epoch 5/100\n",
            "1/1 [==============================] - 0s 4ms/step - loss: 8.9961 - mae: 8.9961\n",
            "Epoch 6/100\n",
            "1/1 [==============================] - 0s 5ms/step - loss: 8.1346 - mae: 8.1346\n",
            "Epoch 7/100\n",
            "1/1 [==============================] - 0s 4ms/step - loss: 7.4052 - mae: 7.4052\n",
            "Epoch 8/100\n",
            "1/1 [==============================] - 0s 3ms/step - loss: 6.6763 - mae: 6.6763\n",
            "Epoch 9/100\n",
            "1/1 [==============================] - 0s 3ms/step - loss: 5.9140 - mae: 5.9140\n",
            "Epoch 10/100\n",
            "1/1 [==============================] - 0s 4ms/step - loss: 5.1124 - mae: 5.1124\n",
            "Epoch 11/100\n",
            "1/1 [==============================] - 0s 5ms/step - loss: 4.2652 - mae: 4.2652\n",
            "Epoch 12/100\n",
            "1/1 [==============================] - 0s 4ms/step - loss: 3.8460 - mae: 3.8460\n",
            "Epoch 13/100\n",
            "1/1 [==============================] - 0s 6ms/step - loss: 3.9257 - mae: 3.9257\n",
            "Epoch 14/100\n",
            "1/1 [==============================] - 0s 3ms/step - loss: 4.0900 - mae: 4.0900\n",
            "Epoch 15/100\n",
            "1/1 [==============================] - 0s 5ms/step - loss: 4.4781 - mae: 4.4781\n",
            "Epoch 16/100\n",
            "1/1 [==============================] - 0s 4ms/step - loss: 4.7607 - mae: 4.7607\n",
            "Epoch 17/100\n",
            "1/1 [==============================] - 0s 3ms/step - loss: 4.9264 - mae: 4.9264\n",
            "Epoch 18/100\n",
            "1/1 [==============================] - 0s 3ms/step - loss: 4.9894 - mae: 4.9894\n",
            "Epoch 19/100\n",
            "1/1 [==============================] - 0s 3ms/step - loss: 4.9672 - mae: 4.9672\n",
            "Epoch 20/100\n",
            "1/1 [==============================] - 0s 4ms/step - loss: 4.8677 - mae: 4.8677\n",
            "Epoch 21/100\n",
            "1/1 [==============================] - 0s 6ms/step - loss: 4.7046 - mae: 4.7046\n",
            "Epoch 22/100\n",
            "1/1 [==============================] - 0s 7ms/step - loss: 4.4897 - mae: 4.4897\n",
            "Epoch 23/100\n",
            "1/1 [==============================] - 0s 3ms/step - loss: 4.2326 - mae: 4.2326\n",
            "Epoch 24/100\n",
            "1/1 [==============================] - 0s 4ms/step - loss: 3.9418 - mae: 3.9418\n",
            "Epoch 25/100\n",
            "1/1 [==============================] - 0s 4ms/step - loss: 3.7886 - mae: 3.7886\n",
            "Epoch 26/100\n",
            "1/1 [==============================] - 0s 4ms/step - loss: 3.6632 - mae: 3.6632\n",
            "Epoch 27/100\n",
            "1/1 [==============================] - 0s 5ms/step - loss: 3.5393 - mae: 3.5393\n",
            "Epoch 28/100\n",
            "1/1 [==============================] - 0s 5ms/step - loss: 3.5531 - mae: 3.5531\n",
            "Epoch 29/100\n",
            "1/1 [==============================] - 0s 4ms/step - loss: 3.6208 - mae: 3.6208\n",
            "Epoch 30/100\n",
            "1/1 [==============================] - 0s 4ms/step - loss: 3.6576 - mae: 3.6576\n",
            "Epoch 31/100\n",
            "1/1 [==============================] - 0s 4ms/step - loss: 3.7506 - mae: 3.7506\n",
            "Epoch 32/100\n",
            "1/1 [==============================] - 0s 5ms/step - loss: 3.7092 - mae: 3.7092\n",
            "Epoch 33/100\n",
            "1/1 [==============================] - 0s 4ms/step - loss: 3.5338 - mae: 3.5338\n",
            "Epoch 34/100\n",
            "1/1 [==============================] - 0s 4ms/step - loss: 3.4270 - mae: 3.4270\n",
            "Epoch 35/100\n",
            "1/1 [==============================] - 0s 6ms/step - loss: 3.3004 - mae: 3.3004\n",
            "Epoch 36/100\n",
            "1/1 [==============================] - 0s 4ms/step - loss: 3.1545 - mae: 3.1545\n",
            "Epoch 37/100\n",
            "1/1 [==============================] - 0s 4ms/step - loss: 3.0648 - mae: 3.0648\n",
            "Epoch 38/100\n",
            "1/1 [==============================] - 0s 5ms/step - loss: 3.0459 - mae: 3.0459\n",
            "Epoch 39/100\n",
            "1/1 [==============================] - 0s 7ms/step - loss: 3.0209 - mae: 3.0209\n",
            "Epoch 40/100\n",
            "1/1 [==============================] - 0s 4ms/step - loss: 3.0347 - mae: 3.0347\n",
            "Epoch 41/100\n",
            "1/1 [==============================] - 0s 4ms/step - loss: 2.9867 - mae: 2.9867\n",
            "Epoch 42/100\n",
            "1/1 [==============================] - 0s 4ms/step - loss: 2.8888 - mae: 2.8888\n",
            "Epoch 43/100\n",
            "1/1 [==============================] - 0s 7ms/step - loss: 2.8175 - mae: 2.8175\n",
            "Epoch 44/100\n",
            "1/1 [==============================] - 0s 12ms/step - loss: 2.7250 - mae: 2.7250\n",
            "Epoch 45/100\n",
            "1/1 [==============================] - 0s 5ms/step - loss: 2.6173 - mae: 2.6173\n",
            "Epoch 46/100\n",
            "1/1 [==============================] - 0s 7ms/step - loss: 2.5069 - mae: 2.5069\n",
            "Epoch 47/100\n",
            "1/1 [==============================] - 0s 6ms/step - loss: 2.4002 - mae: 2.4002\n",
            "Epoch 48/100\n",
            "1/1 [==============================] - 0s 4ms/step - loss: 2.2894 - mae: 2.2894\n",
            "Epoch 49/100\n",
            "1/1 [==============================] - 0s 4ms/step - loss: 2.1712 - mae: 2.1712\n",
            "Epoch 50/100\n",
            "1/1 [==============================] - 0s 7ms/step - loss: 2.0403 - mae: 2.0403\n",
            "Epoch 51/100\n",
            "1/1 [==============================] - 0s 4ms/step - loss: 1.9989 - mae: 1.9989\n",
            "Epoch 52/100\n",
            "1/1 [==============================] - 0s 4ms/step - loss: 1.8724 - mae: 1.8724\n",
            "Epoch 53/100\n",
            "1/1 [==============================] - 0s 4ms/step - loss: 1.7025 - mae: 1.7025\n",
            "Epoch 54/100\n",
            "1/1 [==============================] - 0s 5ms/step - loss: 1.5747 - mae: 1.5747\n",
            "Epoch 55/100\n",
            "1/1 [==============================] - 0s 3ms/step - loss: 1.4753 - mae: 1.4753\n",
            "Epoch 56/100\n",
            "1/1 [==============================] - 0s 4ms/step - loss: 1.3545 - mae: 1.3545\n",
            "Epoch 57/100\n",
            "1/1 [==============================] - 0s 5ms/step - loss: 1.2393 - mae: 1.2393\n",
            "Epoch 58/100\n",
            "1/1 [==============================] - 0s 4ms/step - loss: 1.0315 - mae: 1.0315\n",
            "Epoch 59/100\n",
            "1/1 [==============================] - 0s 4ms/step - loss: 0.8339 - mae: 0.8339\n",
            "Epoch 60/100\n",
            "1/1 [==============================] - 0s 4ms/step - loss: 0.6625 - mae: 0.6625\n",
            "Epoch 61/100\n",
            "1/1 [==============================] - 0s 4ms/step - loss: 0.5088 - mae: 0.5088\n",
            "Epoch 62/100\n",
            "1/1 [==============================] - 0s 4ms/step - loss: 0.3310 - mae: 0.3310\n",
            "Epoch 63/100\n",
            "1/1 [==============================] - 0s 6ms/step - loss: 0.3307 - mae: 0.3307\n",
            "Epoch 64/100\n",
            "1/1 [==============================] - 0s 4ms/step - loss: 0.3330 - mae: 0.3330\n",
            "Epoch 65/100\n",
            "1/1 [==============================] - 0s 4ms/step - loss: 0.2128 - mae: 0.2128\n",
            "Epoch 66/100\n",
            "1/1 [==============================] - 0s 6ms/step - loss: 0.6744 - mae: 0.6744\n",
            "Epoch 67/100\n",
            "1/1 [==============================] - 0s 6ms/step - loss: 0.6279 - mae: 0.6279\n",
            "Epoch 68/100\n",
            "1/1 [==============================] - 0s 6ms/step - loss: 0.6084 - mae: 0.6084\n",
            "Epoch 69/100\n",
            "1/1 [==============================] - 0s 4ms/step - loss: 0.7256 - mae: 0.7256\n",
            "Epoch 70/100\n",
            "1/1 [==============================] - 0s 4ms/step - loss: 0.6237 - mae: 0.6237\n",
            "Epoch 71/100\n",
            "1/1 [==============================] - 0s 6ms/step - loss: 0.3927 - mae: 0.3927\n",
            "Epoch 72/100\n",
            "1/1 [==============================] - 0s 17ms/step - loss: 0.5721 - mae: 0.5721\n",
            "Epoch 73/100\n",
            "1/1 [==============================] - 0s 6ms/step - loss: 0.6973 - mae: 0.6973\n",
            "Epoch 74/100\n",
            "1/1 [==============================] - 0s 9ms/step - loss: 0.4928 - mae: 0.4928\n",
            "Epoch 75/100\n",
            "1/1 [==============================] - 0s 4ms/step - loss: 0.5584 - mae: 0.5584\n",
            "Epoch 76/100\n",
            "1/1 [==============================] - 0s 26ms/step - loss: 0.5706 - mae: 0.5706\n",
            "Epoch 77/100\n",
            "1/1 [==============================] - 0s 14ms/step - loss: 0.4548 - mae: 0.4548\n",
            "Epoch 78/100\n",
            "1/1 [==============================] - 0s 10ms/step - loss: 0.2731 - mae: 0.2731\n",
            "Epoch 79/100\n",
            "1/1 [==============================] - 0s 4ms/step - loss: 0.6350 - mae: 0.6350\n",
            "Epoch 80/100\n",
            "1/1 [==============================] - 0s 4ms/step - loss: 0.7159 - mae: 0.7159\n",
            "Epoch 81/100\n",
            "1/1 [==============================] - 0s 9ms/step - loss: 0.4848 - mae: 0.4848\n",
            "Epoch 82/100\n",
            "1/1 [==============================] - 0s 6ms/step - loss: 0.1989 - mae: 0.1989\n",
            "Epoch 83/100\n",
            "1/1 [==============================] - 0s 3ms/step - loss: 0.3395 - mae: 0.3395\n",
            "Epoch 84/100\n",
            "1/1 [==============================] - 0s 3ms/step - loss: 0.2128 - mae: 0.2128\n",
            "Epoch 85/100\n",
            "1/1 [==============================] - 0s 3ms/step - loss: 0.3692 - mae: 0.3692\n",
            "Epoch 86/100\n",
            "1/1 [==============================] - 0s 4ms/step - loss: 0.4717 - mae: 0.4717\n",
            "Epoch 87/100\n",
            "1/1 [==============================] - 0s 4ms/step - loss: 0.3324 - mae: 0.3324\n",
            "Epoch 88/100\n",
            "1/1 [==============================] - 0s 4ms/step - loss: 0.2551 - mae: 0.2551\n",
            "Epoch 89/100\n",
            "1/1 [==============================] - 0s 4ms/step - loss: 0.3310 - mae: 0.3310\n",
            "Epoch 90/100\n",
            "1/1 [==============================] - 0s 4ms/step - loss: 0.2381 - mae: 0.2381\n",
            "Epoch 91/100\n",
            "1/1 [==============================] - 0s 4ms/step - loss: 0.2594 - mae: 0.2594\n",
            "Epoch 92/100\n",
            "1/1 [==============================] - 0s 4ms/step - loss: 0.2367 - mae: 0.2367\n",
            "Epoch 93/100\n",
            "1/1 [==============================] - 0s 4ms/step - loss: 0.1750 - mae: 0.1750\n",
            "Epoch 94/100\n",
            "1/1 [==============================] - 0s 6ms/step - loss: 0.2303 - mae: 0.2303\n",
            "Epoch 95/100\n",
            "1/1 [==============================] - 0s 4ms/step - loss: 0.1337 - mae: 0.1337\n",
            "Epoch 96/100\n",
            "1/1 [==============================] - 0s 4ms/step - loss: 0.1930 - mae: 0.1930\n",
            "Epoch 97/100\n",
            "1/1 [==============================] - 0s 4ms/step - loss: 0.1099 - mae: 0.1099\n",
            "Epoch 98/100\n",
            "1/1 [==============================] - 0s 4ms/step - loss: 0.2055 - mae: 0.2055\n",
            "Epoch 99/100\n",
            "1/1 [==============================] - 0s 4ms/step - loss: 0.1987 - mae: 0.1987\n",
            "Epoch 100/100\n",
            "1/1 [==============================] - 0s 4ms/step - loss: 0.2265 - mae: 0.2265\n"
          ],
          "name": "stdout"
        },
        {
          "output_type": "execute_result",
          "data": {
            "text/plain": [
              "<tensorflow.python.keras.callbacks.History at 0x7f6ec0397410>"
            ]
          },
          "metadata": {
            "tags": []
          },
          "execution_count": 17
        }
      ]
    },
    {
      "cell_type": "markdown",
      "metadata": {
        "id": "uBfrqdrgNl3t"
      },
      "source": [
        "***Note***: *The learning rate is the most important parameter of the many different neural networks.*\n",
        "\n"
      ]
    },
    {
      "cell_type": "code",
      "metadata": {
        "colab": {
          "base_uri": "https://localhost:8080/"
        },
        "id": "y5Fe6GxChJCQ",
        "outputId": "316695cd-fc8b-4381-928e-07c772d276c3"
      },
      "source": [
        "# Let's remind  ourselves of the data\n",
        "X, y"
      ],
      "execution_count": null,
      "outputs": [
        {
          "output_type": "execute_result",
          "data": {
            "text/plain": [
              "(<tf.Tensor: shape=(8,), dtype=float64, numpy=array([-7., -4., -1.,  2.,  5.,  8., 11., 14.])>,\n",
              " <tf.Tensor: shape=(8,), dtype=float64, numpy=array([ 3.,  6.,  9., 12., 15., 18., 21., 24.])>)"
            ]
          },
          "metadata": {
            "tags": []
          },
          "execution_count": 18
        }
      ]
    },
    {
      "cell_type": "code",
      "metadata": {
        "colab": {
          "base_uri": "https://localhost:8080/"
        },
        "id": "SIlh-U1biRzh",
        "outputId": "36e0cb71-eaa2-4ffb-e0b0-408d99ecb7bb"
      },
      "source": [
        "# Let's try to make the prediction\n",
        "model.predict([17.0])"
      ],
      "execution_count": null,
      "outputs": [
        {
          "output_type": "execute_result",
          "data": {
            "text/plain": [
              "array([[27.159252]], dtype=float32)"
            ]
          },
          "metadata": {
            "tags": []
          },
          "execution_count": 19
        }
      ]
    },
    {
      "cell_type": "markdown",
      "metadata": {
        "id": "i38E7syUibCQ"
      },
      "source": [
        "## **Evaluating a model**\n",
        "\n",
        "In a practice, a typical workflow you'll go through when building a neural network is:\n",
        "\n",
        "```\n",
        "Build a model -> fit it --> evaulate it --> tweak a model --> fit it --> evaluate it --> tweak a model --> fit it --> evaluate it...\n",
        "```"
      ]
    },
    {
      "cell_type": "markdown",
      "metadata": {
        "id": "G1o5b5DZKIFl"
      },
      "source": [
        "When it comes to evalution... there are 3 words you should memorize\":\n",
        "\n",
        "> \"Visualize, visualize, visualize\"\n",
        "\n",
        "It's a good idea to visualize:\n",
        "\n",
        "- **The data** - What data are we working with? What does it look like?\n",
        "-**The model itself** - What does our model look like?\n",
        "- **The training model** - How does a model performs while it lears?\n",
        "- **The predictions** - How do the predictions of a model line up against the ground truth (the original labels)?\n"
      ]
    },
    {
      "cell_type": "code",
      "metadata": {
        "id": "nK7ez7hu9dFP",
        "colab": {
          "base_uri": "https://localhost:8080/"
        },
        "outputId": "6b4030b2-51e9-4de4-82d3-ac348e4ef45e"
      },
      "source": [
        "# Make a bigger dataset\n",
        "\n",
        "X = tf.range(-100, 100, 4)\n",
        "X"
      ],
      "execution_count": null,
      "outputs": [
        {
          "output_type": "execute_result",
          "data": {
            "text/plain": [
              "<tf.Tensor: shape=(50,), dtype=int32, numpy=\n",
              "array([-100,  -96,  -92,  -88,  -84,  -80,  -76,  -72,  -68,  -64,  -60,\n",
              "        -56,  -52,  -48,  -44,  -40,  -36,  -32,  -28,  -24,  -20,  -16,\n",
              "        -12,   -8,   -4,    0,    4,    8,   12,   16,   20,   24,   28,\n",
              "         32,   36,   40,   44,   48,   52,   56,   60,   64,   68,   72,\n",
              "         76,   80,   84,   88,   92,   96], dtype=int32)>"
            ]
          },
          "metadata": {
            "tags": []
          },
          "execution_count": 20
        }
      ]
    },
    {
      "cell_type": "code",
      "metadata": {
        "id": "6wY6qFJr9dH-",
        "colab": {
          "base_uri": "https://localhost:8080/"
        },
        "outputId": "825213b2-74d7-41bf-efa1-690c4fffa46c"
      },
      "source": [
        "# Make the labels for the dataset\n",
        "y = X + 10\n",
        "y"
      ],
      "execution_count": null,
      "outputs": [
        {
          "output_type": "execute_result",
          "data": {
            "text/plain": [
              "<tf.Tensor: shape=(50,), dtype=int32, numpy=\n",
              "array([-90, -86, -82, -78, -74, -70, -66, -62, -58, -54, -50, -46, -42,\n",
              "       -38, -34, -30, -26, -22, -18, -14, -10,  -6,  -2,   2,   6,  10,\n",
              "        14,  18,  22,  26,  30,  34,  38,  42,  46,  50,  54,  58,  62,\n",
              "        66,  70,  74,  78,  82,  86,  90,  94,  98, 102, 106], dtype=int32)>"
            ]
          },
          "metadata": {
            "tags": []
          },
          "execution_count": 21
        }
      ]
    },
    {
      "cell_type": "code",
      "metadata": {
        "colab": {
          "base_uri": "https://localhost:8080/",
          "height": 282
        },
        "id": "PXTTkwFPW8aF",
        "outputId": "5edf50fd-12ed-4bc3-eb42-672bca3f03c6"
      },
      "source": [
        "# Visualize the data\n",
        "import matplotlib.pyplot as plt\n",
        "plt.plot(X, y)"
      ],
      "execution_count": null,
      "outputs": [
        {
          "output_type": "execute_result",
          "data": {
            "text/plain": [
              "[<matplotlib.lines.Line2D at 0x7f6ec0272310>]"
            ]
          },
          "metadata": {
            "tags": []
          },
          "execution_count": 22
        },
        {
          "output_type": "display_data",
          "data": {
            "image/png": "[encoded data removed]",
            "text/plain": [
              "<Figure size 432x288 with 1 Axes>"
            ]
          },
          "metadata": {
            "tags": [],
            "needs_background": "light"
          }
        }
      ]
    },
    {
      "cell_type": "code",
      "metadata": {
        "colab": {
          "base_uri": "https://localhost:8080/",
          "height": 282
        },
        "id": "jFRvvq2cXDi1",
        "outputId": "b587ffef-1ded-4731-f1af-f1bcd4de4db0"
      },
      "source": [
        "plt.scatter(X, y)"
      ],
      "execution_count": null,
      "outputs": [
        {
          "output_type": "execute_result",
          "data": {
            "text/plain": [
              "<matplotlib.collections.PathCollection at 0x7f6ec01e0a10>"
            ]
          },
          "metadata": {
            "tags": []
          },
          "execution_count": 23
        },
        {
          "output_type": "display_data",
          "data": {
            "image/png": "[encoded data removed]",
            "text/plain": [
              "<Figure size 432x288 with 1 Axes>"
            ]
          },
          "metadata": {
            "tags": [],
            "needs_background": "light"
          }
        }
      ]
    },
    {
      "cell_type": "markdown",
      "metadata": {
        "id": "YIobFXV1XE_t"
      },
      "source": [
        "### The 3 sets\n",
        "\n",
        "- **Training set** - The model learns on this data, which is typically 70-80% of the total data you have available.\n",
        "- **Validation set** - The model get tuned in this data which is typically 10-15% of the data available.\n",
        "- **Test set** - The model get evaluated in the data to test what is has learned, this set is typically 10-15% of the total data available.\n",
        "\n"
      ]
    },
    {
      "cell_type": "code",
      "metadata": {
        "colab": {
          "base_uri": "https://localhost:8080/"
        },
        "id": "qXwZcMiaYRXY",
        "outputId": "fb27876a-009f-4853-ae42-138ab872faa2"
      },
      "source": [
        "# Chec k the length of the no.of samples we have\n",
        "len(X)"
      ],
      "execution_count": null,
      "outputs": [
        {
          "output_type": "execute_result",
          "data": {
            "text/plain": [
              "50"
            ]
          },
          "metadata": {
            "tags": []
          },
          "execution_count": 24
        }
      ]
    },
    {
      "cell_type": "code",
      "metadata": {
        "colab": {
          "base_uri": "https://localhost:8080/"
        },
        "id": "ZlT6MQs_YyeU",
        "outputId": "78dbe1f7-ec46-44ca-f260-a0873c581213"
      },
      "source": [
        "# Split the data into train and test set\n",
        "X_train = X[:40] # First 40 are training samples (80% of the data)\n",
        "y_train = y[:40]\n",
        "X_test = X[40:] # Last 10 are the testing samples (20% of the data)\n",
        "y_test = y[40:]\n",
        "\n",
        "len(X_train), len(X_test), len(y_train), len(y_test)"
      ],
      "execution_count": null,
      "outputs": [
        {
          "output_type": "execute_result",
          "data": {
            "text/plain": [
              "(40, 10, 40, 10)"
            ]
          },
          "metadata": {
            "tags": []
          },
          "execution_count": 25
        }
      ]
    },
    {
      "cell_type": "markdown",
      "metadata": {
        "id": "wQAotMeyZhVF"
      },
      "source": [
        " ## **Visualing the data**\n",
        "\n",
        " Now we've got our data in the training and test sets... let's visualize it again!"
      ]
    },
    {
      "cell_type": "code",
      "metadata": {
        "colab": {
          "base_uri": "https://localhost:8080/",
          "height": 445
        },
        "id": "FY_i1pIqaBNq",
        "outputId": "6424b7f0-9432-464e-a72e-e7057edf5e46"
      },
      "source": [
        "plt.figure(figsize=(10, 7))\n",
        "# Plotting the training data in blue\n",
        "plt.scatter(X_train, y_train, c='b', label='Training data') # our model will learn on this \n",
        "# Plotting the test data in green\n",
        "plt.scatter(X_test, y_test, c='g', label='Testing data') # want our model to be able to predict this (given X, what's y)\n",
        "# Shoe a leged\n",
        "plt.legend"
      ],
      "execution_count": null,
      "outputs": [
        {
          "output_type": "execute_result",
          "data": {
            "text/plain": [
              "<function matplotlib.pyplot.legend>"
            ]
          },
          "metadata": {
            "tags": []
          },
          "execution_count": 26
        },
        {
          "output_type": "display_data",
          "data": {
            "image/png": "[encoded data removed]",
            "text/plain": [
              "<Figure size 720x504 with 1 Axes>"
            ]
          },
          "metadata": {
            "tags": [],
            "needs_background": "light"
          }
        }
      ]
    },
    {
      "cell_type": "code",
      "metadata": {
        "id": "CmHd4jF8aqRd"
      },
      "source": [
        "# Let's have look at how to built a neural network.\n",
        "\n",
        "# 1. Create a model \n",
        "model = tf.keras.Sequential([tf.keras.layers.Dense(1)])\n",
        "\n",
        "# 2. Complie the model \n",
        "model.compile(loss=tf.keras.losses.mae,\n",
        "              optimizer=tf.keras.optimizers.SGD(),\n",
        "              metrics=['mae'])\n",
        "\n",
        "# # 3. Fit the model\n",
        "# model.fit(X_train, y_train, epochs=100)"
      ],
      "execution_count": null,
      "outputs": []
    },
    {
      "cell_type": "markdown",
      "metadata": {
        "id": "0DIjP2ozcnmV"
      },
      "source": [
        "### Visualizing the model\n",
        "  "
      ]
    },
    {
      "cell_type": "code",
      "metadata": {
        "colab": {
          "base_uri": "https://localhost:8080/",
          "height": 299
        },
        "id": "tFbyFltfdyl1",
        "outputId": "ed5b092a-8df2-49e6-e095-f3ea73fdfaac"
      },
      "source": [
        "model.summary()"
      ],
      "execution_count": null,
      "outputs": [
        {
          "output_type": "error",
          "ename": "ValueError",
          "evalue": "ignored",
          "traceback": [
            "\u001b[0;31m---------------------------------------------------------------------------\u001b[0m",
            "\u001b[0;31mValueError\u001b[0m                                Traceback (most recent call last)",
            "\u001b[0;32m<ipython-input-28-5f15418b3570>\u001b[0m in \u001b[0;36m<module>\u001b[0;34m()\u001b[0m\n\u001b[0;32m----> 1\u001b[0;31m \u001b[0mmodel\u001b[0m\u001b[0;34m.\u001b[0m\u001b[0msummary\u001b[0m\u001b[0;34m(\u001b[0m\u001b[0;34m)\u001b[0m\u001b[0;34m\u001b[0m\u001b[0;34m\u001b[0m\u001b[0m\n\u001b[0m",
            "\u001b[0;32m/usr/local/lib/python3.7/dist-packages/tensorflow/python/keras/engine/training.py\u001b[0m in \u001b[0;36msummary\u001b[0;34m(self, line_length, positions, print_fn)\u001b[0m\n\u001b[1;32m   2374\u001b[0m     \"\"\"\n\u001b[1;32m   2375\u001b[0m     \u001b[0;32mif\u001b[0m \u001b[0;32mnot\u001b[0m \u001b[0mself\u001b[0m\u001b[0;34m.\u001b[0m\u001b[0mbuilt\u001b[0m\u001b[0;34m:\u001b[0m\u001b[0;34m\u001b[0m\u001b[0;34m\u001b[0m\u001b[0m\n\u001b[0;32m-> 2376\u001b[0;31m       raise ValueError('This model has not yet been built. '\n\u001b[0m\u001b[1;32m   2377\u001b[0m                        \u001b[0;34m'Build the model first by calling `build()` or calling '\u001b[0m\u001b[0;34m\u001b[0m\u001b[0;34m\u001b[0m\u001b[0m\n\u001b[1;32m   2378\u001b[0m                        \u001b[0;34m'`fit()` with some data, or specify '\u001b[0m\u001b[0;34m\u001b[0m\u001b[0;34m\u001b[0m\u001b[0m\n",
            "\u001b[0;31mValueError\u001b[0m: This model has not yet been built. Build the model first by calling `build()` or calling `fit()` with some data, or specify an `input_shape` argument in the first layer(s) for automatic build."
          ]
        }
      ]
    },
    {
      "cell_type": "markdown",
      "metadata": {
        "id": "fcg_GpXdAfXM"
      },
      "source": [
        "Here in the previous cell we got the error because we didn't call the fit method and the input from the previous layer was also not mentioned."
      ]
    },
    {
      "cell_type": "code",
      "metadata": {
        "id": "jDWDkKsfd0Km"
      },
      "source": [
        "# Let's create a model which builds automatically by defining the input_shape argument in the first layer \n",
        "tf.random.set_seed(42)\n",
        "\n",
        "# 1. Create a model (same as above)\n",
        "model = tf.keras.Sequential([\n",
        "    tf.keras.layers.Dense(10, input_shape=[1], name=\"input_layer\"),\n",
        "    tf.keras.layers.Dense(1, name='output_layer'),], \n",
        "    name=\"model_1\")\n",
        "\n",
        "# 2. Compile the model \n",
        "model.compile(loss=tf.keras.losses.mae,\n",
        "              optimizer=tf.keras.optimizers.SGD(),\n",
        "              metrics=['mae'])"
      ],
      "execution_count": null,
      "outputs": []
    },
    {
      "cell_type": "code",
      "metadata": {
        "id": "x3BcrnK1fOc-"
      },
      "source": [
        "model.summary()"
      ],
      "execution_count": null,
      "outputs": []
    },
    {
      "cell_type": "markdown",
      "metadata": {
        "id": "hmlhEEKffwW7"
      },
      "source": [
        "- **Total params** - Total number of parameters in the model.\n",
        "- **Trainabel params** - Theses are the parameters (patterns) that model can update as it trains.\n",
        "- **Non-trainable params** - These parameters aren't updated during training (this is typical when you bring in alredy learned patterns or parameters from other models during transfer learning).\n",
        "\n",
        "**Resource:**  Also don't forget to check out the MIT's [Introdcution to Deep Learning course](http://introtodeeplearning.com/)."
      ]
    },
    {
      "cell_type": "code",
      "metadata": {
        "id": "6Twc6_Q9fcpM"
      },
      "source": [
        "# Let's fit the model to the training data\n",
        "model.fit(X_train, y_train, epochs=100, verbose=1)"
      ],
      "execution_count": null,
      "outputs": []
    },
    {
      "cell_type": "markdown",
      "metadata": {
        "id": "J6PzPfr_w3yr"
      },
      "source": [
        "**Exercise:** Try playing around with the number of hidden parameters in the dense layer, see how that effects the number of parameters (total and traunable) by calling `model.summary()`."
      ]
    },
    {
      "cell_type": "code",
      "metadata": {
        "id": "CJqDpEPZiZp7"
      },
      "source": [
        "# Get ta summary of put model\n",
        "model.summary()"
      ],
      "execution_count": null,
      "outputs": []
    },
    {
      "cell_type": "code",
      "metadata": {
        "id": "lEIP-kAMxCSL"
      },
      "source": [
        "from tensorflow.keras.utils import plot_model\n",
        "plot_model(model=model, show_shapes=True)"
      ],
      "execution_count": null,
      "outputs": []
    },
    {
      "cell_type": "markdown",
      "metadata": {
        "id": "emuJhTvmxsPp"
      },
      "source": [
        "### Visulaizing on model prediction\n",
        "\n",
        "To visualize predicitons, it's a good to plot them against the ground truth labels.\n",
        "\n",
        "Often you'll see this in the form of `y_test` or `y_true` vs `y_pred` (ground truth versus model predictions)"
      ]
    },
    {
      "cell_type": "code",
      "metadata": {
        "id": "Jlh0FWkjzbvy"
      },
      "source": [
        "# Make some predictions \n",
        "y_pred = model.predict(X_test)\n",
        "y_pred  "
      ],
      "execution_count": null,
      "outputs": []
    },
    {
      "cell_type": "code",
      "metadata": {
        "id": "bcUtHWOT0r97"
      },
      "source": [
        "y_test"
      ],
      "execution_count": null,
      "outputs": []
    },
    {
      "cell_type": "markdown",
      "metadata": {
        "id": "GzkmVmfx1mDA"
      },
      "source": [
        "***Note:*** *If we feel like that we are going to reuse some kind of the functinality in the future, it's a good idea to turn it into a function*"
      ]
    },
    {
      "cell_type": "code",
      "metadata": {
        "id": "7fgjtAvL1bAc"
      },
      "source": [
        "# Let's create a plotting function\n",
        "def plot_predictions(train_data,train_labels,\n",
        "                     test_data, test_labels,\n",
        "                     predictions):\n",
        "    \"\"\"\n",
        "    Plot the training data, test data and compare the predictions to the ground truth labels.\n",
        "    \"\"\"\n",
        "\n",
        "    plt.figure(figsize=(10,7))\n",
        "    # Plot the training data in blue\n",
        "    plt.scatter(train_data, train_labels, c='b', label=\"Training Data\") \n",
        "    # Plot the testing data in green\n",
        "    plt.scatter(test_data, test_labels, c='g', label=\"Testing Data\")\n",
        "    # Plot models predictions in red\n",
        "    plt.scatter(test_data,predictions, c='r', label=\"Predictions\")\n",
        "    # Show Legends\n",
        "    plt.legend()"
      ],
      "execution_count": null,
      "outputs": []
    },
    {
      "cell_type": "code",
      "metadata": {
        "id": "mOpv21K_1k3O"
      },
      "source": [
        "plot_predictions(train_data=X_train, \n",
        "                 train_labels=y_train,\n",
        "                 test_data=X_test,\n",
        "                 test_labels=y_test,\n",
        "                 predictions=y_pred)"
      ],
      "execution_count": null,
      "outputs": []
    },
    {
      "cell_type": "markdown",
      "metadata": {
        "id": "MEzxsckk3h4T"
      },
      "source": [
        "### Evaluating the model's predictions with regression evaluation metrics\n",
        "\n",
        "Depending on the problem you're working on, there will be different evaluation metrcs to evaluate your model's performance .\n",
        "\n",
        "Since we're working on the regression problem, two of the main metrics: \n",
        "- **MAE** - Mean Absolute Error, \"on average, how wrong is each of my model's prediction's\"\n",
        "- **MSE** - Mean Square Error, \"square the average errors\"\n",
        "\n",
        "![Regression_metrics](https://encrypted-tbn0.gstatic.com/images?q=tbn:ANd9GcRz38Oc0rMm0APuLWgR-9Sc91ULC03ffPdCgNEIqAAr91nrJJaZRKrVgpMyQ0uqG9ocLVY&usqp=CAU)\n",
        "\n",
        "\n",
        "- **Huber** - \"Combination of MSE and MAE, less sensative to outliers than MSE.\""
      ]
    },
    {
      "cell_type": "code",
      "metadata": {
        "id": "QSD6f3ao4t3R"
      },
      "source": [
        "# Evaluate the model on the test set\n",
        "model.evaluate(X_test, y_test)"
      ],
      "execution_count": null,
      "outputs": []
    },
    {
      "cell_type": "code",
      "metadata": {
        "id": "gM7v2mIG8NPG"
      },
      "source": [
        "# Calculate the MAE(mean absolute error) \n",
        "# mae_error = tf.keras.losses.MAE(y_test, y_pred)\n",
        "ma_error = tf.metrics.mean_absolute_error(y_true=y_test, y_pred=tf.constant(y_pred))\n",
        "ma_error"
      ],
      "execution_count": null,
      "outputs": []
    },
    {
      "cell_type": "code",
      "metadata": {
        "id": "hhbzA8uH9axJ"
      },
      "source": [
        "y_test-y_pred"
      ],
      "execution_count": null,
      "outputs": []
    },
    {
      "cell_type": "code",
      "metadata": {
        "id": "ZwiIhgMx9kHz"
      },
      "source": [
        "y_pred-y_test"
      ],
      "execution_count": null,
      "outputs": []
    },
    {
      "cell_type": "code",
      "metadata": {
        "id": "PUfDzJqY8A3A"
      },
      "source": [
        "tf.constant(y_pred)"
      ],
      "execution_count": null,
      "outputs": []
    },
    {
      "cell_type": "code",
      "metadata": {
        "id": "0PYXImPx8L4i"
      },
      "source": [
        "y_test"
      ],
      "execution_count": null,
      "outputs": []
    },
    {
      "cell_type": "code",
      "metadata": {
        "id": "2KQiKY-78Mi-"
      },
      "source": [
        "tf.squeeze(y_pred)"
      ],
      "execution_count": null,
      "outputs": []
    },
    {
      "cell_type": "code",
      "metadata": {
        "id": "hWv7jZTz-M9y"
      },
      "source": [
        "y_pred.shape, y_test.shape"
      ],
      "execution_count": null,
      "outputs": []
    },
    {
      "cell_type": "code",
      "metadata": {
        "id": "rsvpnnD8-TM3"
      },
      "source": [
        "# Calculate the mean absolute error\n",
        "ma_error = tf.metrics.mean_absolute_error(y_true=y_test, y_pred=tf.squeeze(y_pred))\n",
        "ma_error"
      ],
      "execution_count": null,
      "outputs": []
    },
    {
      "cell_type": "code",
      "metadata": {
        "id": "XbTwOsGpAAT9"
      },
      "source": [
        "y_pred.shape"
      ],
      "execution_count": null,
      "outputs": []
    },
    {
      "cell_type": "code",
      "metadata": {
        "id": "nBIGM0Yv-pdt"
      },
      "source": [
        "# Now let's calculate the mean squate error\n",
        "ms_error = tf.metrics.mean_squared_error(y_true=y_test,y_pred=tf.squeeze(y_pred))\n",
        "ms_error"
      ],
      "execution_count": null,
      "outputs": []
    },
    {
      "cell_type": "code",
      "metadata": {
        "id": "b5DFMSHMAblW"
      },
      "source": [
        "# Let's check out the huber metric also\n",
        "huber_error = tf.keras.losses.huber(y_true=y_test, y_pred=tf.squeeze(y_pred))\n",
        "huber_error"
      ],
      "execution_count": null,
      "outputs": []
    },
    {
      "cell_type": "code",
      "metadata": {
        "id": "uk7Oj5mD-q7A"
      },
      "source": [
        "# Let's make some functions to use the MAE and MSE\n",
        "def mae(y_true, y_pred):\n",
        "    return tf.metrics.mean_absolute_error(y_true=y_true, y_pred=tf.squeeze(y_pred))\n",
        "\n",
        "def mse(y_true,y_pred):\n",
        "    return tf.metrics.mean_squared_error(y_true=y_true, y_pred=tf.squeeze(y_pred))"
      ],
      "execution_count": null,
      "outputs": []
    },
    {
      "cell_type": "markdown",
      "metadata": {
        "id": "SuWKpZzVD3H7"
      },
      "source": [
        "### Running the experiments to improve the model \n",
        "\n",
        "``` \n",
        "Build a model -> fit it -> evaluate it -> tweak it -> fit it -> evaluate it -> tweak it -> fit it -> evaluate it ....\n",
        "```\n",
        "\n",
        "1. Get more data - get more examples for model to train on (more opporutnities to learn patterns or relationships between features and labels).\n",
        "2. Make your model larger (using more complex models) - this might come in the form of more layers or more hidden units in each layer. \n",
        "3. Train for longer - Give our model more of the chance to find the patterns in the data.\n",
        "\n",
        "\n",
        "Lets's do the 3 modeling experiments:\n",
        "\n",
        "1. `model_1` - same as original model, 1 layer, trained for 100 epochs.\n",
        "2. `model_2` - 2 layers trained for 100 epochs.\n",
        "3. `model_3` - 2 layers trained for 500 epochs.\n",
        "\n"
      ]
    },
    {
      "cell_type": "markdown",
      "metadata": {
        "id": "9DYO33Hdbr1m"
      },
      "source": [
        "**Build `model_1`** - 1 layer, trained for 100 epochs."
      ]
    },
    {
      "cell_type": "code",
      "metadata": {
        "id": "ZMbB_FIqV3Jy"
      },
      "source": [
        "# set the random seed \n",
        "tf.random.set_seed(42)\n",
        "\n",
        "# 1. Create the model \n",
        "model_1 = tf.keras.Sequential([\n",
        "    tf.keras.layers.Dense(1)\n",
        "])\n",
        "\n",
        "# 2. Compile the model\n",
        "model_1.compile(loss=tf.keras.losses.mae,\n",
        "                optimizer=tf.keras.optimizers.SGD(),\n",
        "                metrics=[\"mae\"])\n",
        "\n",
        "model_1.fit(X_train, y_train, epochs=100)"
      ],
      "execution_count": null,
      "outputs": []
    },
    {
      "cell_type": "code",
      "metadata": {
        "id": "cOEji0pYWznk"
      },
      "source": [
        "# Make some of the predictions with the model_1\n",
        "y_preds_1 = model_1.predict(X_test)\n",
        "plot_predictions(X_train, y_train, X_test, y_test, predictions=y_preds_1)"
      ],
      "execution_count": null,
      "outputs": []
    },
    {
      "cell_type": "code",
      "metadata": {
        "id": "KSKWwYHFaZ7U"
      },
      "source": [
        "tf.constant(y_preds_1), tf.constant(tf.squeeze(y_preds_1))"
      ],
      "execution_count": null,
      "outputs": []
    },
    {
      "cell_type": "code",
      "metadata": {
        "id": "SMDoJcoBZRh2"
      },
      "source": [
        " # Calculate model_1 evaluation metrics \n",
        "mae_1 = mae(y_test, y_preds_1)\n",
        "mse_1 = mse(y_test, y_preds_1)\n",
        "mae_1, mse_1"
      ],
      "execution_count": null,
      "outputs": []
    },
    {
      "cell_type": "markdown",
      "metadata": {
        "id": "3oFOoffIaV8K"
      },
      "source": [
        "**Build `model_2`** - 2 dense layers trained for 100 epochs"
      ]
    },
    {
      "cell_type": "code",
      "metadata": {
        "id": "TdXD5ofVaHgH"
      },
      "source": [
        "# Let's start building the model_2\n",
        "\n",
        "# 1. Create the model\n",
        "model_2 = tf.keras.Sequential([\n",
        "    tf.keras.layers.Dense(10),\n",
        "    tf.keras.layers.Dense(1)\n",
        "])\n",
        "\n",
        "# 2. Compile the model\n",
        "model_2.compile(loss=tf.keras.losses.mae,\n",
        "                optimizer=tf.keras.optimizers.SGD(),\n",
        "                metrics=['mse'])\n",
        "\n",
        "# 3. Fit the model\n",
        "model_2.fit(X_train, y_train, epochs=100)"
      ],
      "execution_count": null,
      "outputs": []
    },
    {
      "cell_type": "code",
      "metadata": {
        "id": "w_vyE_oCdLYt"
      },
      "source": [
        "# Make and plot predictions of model_2\n",
        "y_preds_2 = model_2.predict(X_test)\n",
        "plot_predictions( X_train, y_train, X_test, y_test, y_preds_2)"
      ],
      "execution_count": null,
      "outputs": []
    },
    {
      "cell_type": "code",
      "metadata": {
        "id": "t2xqysYCd695"
      },
      "source": [
        "# Calculate the evaluation metrics of the model_2\n",
        "mae_2 = mae(y_test, y_preds_2)\n",
        "mse_2 = mse(y_test, y_preds_2)\n",
        "mae_2, mse_2"
      ],
      "execution_count": null,
      "outputs": []
    },
    {
      "cell_type": "markdown",
      "metadata": {
        "id": "Gv2dC5kaeo0f"
      },
      "source": [
        "**Build `model_3`** -  2 layers trained for 500 epochs.\n"
      ]
    },
    {
      "cell_type": "code",
      "metadata": {
        "id": "lbtmOyxreWcW"
      },
      "source": [
        "# Now let's create the model_3\n",
        "\n",
        "# 1. Create the model\n",
        "model_3 = tf.keras.Sequential([\n",
        "    tf.keras.layers.Dense(10),\n",
        "    tf.keras.layers.Dense(1)\n",
        "])\n",
        "\n",
        "# 2. Compile the model\n",
        "model_3.compile(loss=tf.keras.losses.mae,\n",
        "                optimizer=tf.keras.optimizers.SGD(),\n",
        "                metrics=[\"mse\"])\n",
        "\n",
        "# 3. Fit the model\n",
        "model_3.fit(X_train, y_train, epochs=500)"
      ],
      "execution_count": null,
      "outputs": []
    },
    {
      "cell_type": "code",
      "metadata": {
        "id": "lfvomysgpIgg"
      },
      "source": [
        "# Make the plot_predictions of model_3\n",
        "y_preds_3 = model_3.predict(X_test)\n",
        "plot_predictions(X_train, y_train, X_test, y_test, y_preds_3)"
      ],
      "execution_count": null,
      "outputs": []
    },
    {
      "cell_type": "code",
      "metadata": {
        "id": "WJzrH1fGqTnx"
      },
      "source": [
        "# Calculating the evaluation of model_3\n",
        "mae_3 = mae(y_test, y_preds_3)\n",
        "mse_3 = mse(y_test, y_preds_3)\n",
        "mae_3, mse_3"
      ],
      "execution_count": null,
      "outputs": []
    },
    {
      "cell_type": "markdown",
      "metadata": {
        "id": "fPIjHwFxraCo"
      },
      "source": [
        "***Note:*** *You want to start with small expirements (small models) and make sure they work and then increase their scale when necessary.*"
      ]
    },
    {
      "cell_type": "markdown",
      "metadata": {
        "id": "K3Or5MYUq0lW"
      },
      "source": [
        "## **Comparing the results of our expirements**\n",
        "\n",
        "We've run a few expirements, let's compare the results."
      ]
    },
    {
      "cell_type": "code",
      "metadata": {
        "id": "qEUVBEGXqohK"
      },
      "source": [
        "# Let's compare our model's results using the pandas DataFrame\n",
        "import pandas as pd\n",
        "\n",
        "model_results = [[\"model_1\", mae_1.numpy(), mse_1.numpy()],\n",
        "                 [\"model_2\", mae_2.numpy(), mse_2.numpy()],\n",
        "                 [\"model_3\", mae_3.numpy(), mse_3.numpy()]]\n",
        "\n",
        "all_results = pd.DataFrame(model_results, columns=[\"model_1\", \"mae\", \"mse\"])\n",
        "all_results"
      ],
      "execution_count": null,
      "outputs": []
    },
    {
      "cell_type": "markdown",
      "metadata": {
        "id": "QLmsqiGqtSys"
      },
      "source": [
        "Looks like the `model_2` performed the best"
      ]
    },
    {
      "cell_type": "code",
      "metadata": {
        "id": "IolRwS4Zr88E"
      },
      "source": [
        "model_2.summary()"
      ],
      "execution_count": null,
      "outputs": []
    },
    {
      "cell_type": "markdown",
      "metadata": {
        "id": "rdQo6QBctZY8"
      },
      "source": [
        "***Note:*** One of your main goals should be to minimize the time between your expirements. Thbere more expirements you do the more things you'll figure-out which doen't work and in turn, get closer to figuring out what does work. Remember the machine learning practioner's motto: \"EXPIREMENT, Expirement, expirement\"."
      ]
    },
    {
      "cell_type": "markdown",
      "metadata": {
        "id": "rqi5zQ1duZKp"
      },
      "source": [
        "## **Tracking your expirements**\n",
        "\n",
        "One really good habit in machine learning modelling is to track the results of your expirements.\n",
        "\n",
        "And when doing so, it can be tedious if you're running lots of expirements.\n",
        "\n",
        "Luckily, there are tools to help us!\n",
        "\n",
        "\n",
        "**Resources:** As you build more model you'll want to look into using:\n",
        "\n",
        "- **TensorBoard** - A component of TensorFlow libarary to help track modelling expirements.\n",
        "- **Weights & Biases** - A tool for tracking all kinds of machine learning expirements (plugs straight into TensorBoard). "
      ]
    },
    {
      "cell_type": "markdown",
      "metadata": {
        "id": "4mS48GpKvzrC"
      },
      "source": [
        "## Saving our models\n",
        " \n",
        "Saving the models allows us to use them outside of the Google Colab (or wherever they were trained) such as in web application or a mobile app.\n",
        "\n",
        "There are two main formats we can save our model's too: \n",
        "\n",
        "1. The SavedModel format\n",
        "2. The HDF5 format"
      ]
    },
    {
      "cell_type": "code",
      "metadata": {
        "id": "nbW1K5sHtIW3"
      },
      "source": [
        "# Save the model using the SavedModel format\n",
        "model_2.save(\"best_model_SavedModel_format\")   "
      ],
      "execution_count": null,
      "outputs": []
    },
    {
      "cell_type": "code",
      "metadata": {
        "id": "ZY4t69VNxY7Q"
      },
      "source": [
        "#  Save the model using the HDF5 Foramt\n",
        "model_2.save(\"best_model_HDF5_format.h5\")"
      ],
      "execution_count": null,
      "outputs": []
    },
    {
      "cell_type": "markdown",
      "metadata": {
        "id": "71sSqnuiyAAs"
      },
      "source": [
        "## **Loading in the saved model**\n",
        "\n"
      ]
    },
    {
      "cell_type": "code",
      "metadata": {
        "id": "dxXgVsbRyXYb"
      },
      "source": [
        "# Load in the SavedModel format model \n",
        "loaded_SavedModel_format = tf.keras.models.load_model(\"best_model_SavedModel_format\")\n",
        "loaded_SavedModel_format.summary()"
      ],
      "execution_count": null,
      "outputs": []
    },
    {
      "cell_type": "code",
      "metadata": {
        "id": "Sjw5Bwl0y83Y"
      },
      "source": [
        "# Compare model_2 predictions with SavedModel format model predictions\n",
        "model_2_preds = model_2.predict(X_test)\n",
        "loaded_SavedModel_format_preds = loaded_SavedModel_format.predict(X_test)\n",
        "model_2_preds == loaded_SavedModel_format_preds"
      ],
      "execution_count": null,
      "outputs": []
    },
    {
      "cell_type": "code",
      "metadata": {
        "id": "I71wcBlfzEQx"
      },
      "source": [
        "# Compare the MAE preds of model_2_preds and the SavedModel_preds\n",
        "mae(y_true=y_test, y_pred=model_2_preds) == mae(y_true=y_test, y_pred=loaded_SavedModel_format_preds)"
      ],
      "execution_count": null,
      "outputs": []
    },
    {
      "cell_type": "code",
      "metadata": {
        "id": "IqFkogiJ0Nlg"
      },
      "source": [
        "model_2_preds.squeeze()"
      ],
      "execution_count": null,
      "outputs": []
    },
    {
      "cell_type": "code",
      "metadata": {
        "id": "xNhxusPv04tc"
      },
      "source": [
        "loaded_SavedModel_format_preds.squeeze()"
      ],
      "execution_count": null,
      "outputs": []
    },
    {
      "cell_type": "code",
      "metadata": {
        "id": "ZGH-QMT91Otp"
      },
      "source": [
        "# Load in the model using the .h5 foramt\n",
        "loaded_h5_model = tf.keras.models.load_model(\"best_model_HDF5_format.h5\")\n",
        "loaded_h5_model.summary()"
      ],
      "execution_count": null,
      "outputs": []
    },
    {
      "cell_type": "code",
      "metadata": {
        "id": "JgQwKR3t09wQ"
      },
      "source": [
        "model_2.summary()"
      ],
      "execution_count": null,
      "outputs": []
    },
    {
      "cell_type": "code",
      "metadata": {
        "id": "a3biTwVM1zCO"
      },
      "source": [
        "# Check to see if loaded .h5 model predictions match model_2\n",
        "model_2_preds = model_2.predict(X_test)\n",
        "loaded_h5_model_preds = loaded_h5_model.predict(X_test)\n",
        "model_2_preds == loaded_h5_model_preds"
      ],
      "execution_count": null,
      "outputs": []
    },
    {
      "cell_type": "markdown",
      "metadata": {
        "id": "ITWjdYE32T-s"
      },
      "source": [
        "## **Download a model (or any other file) from Google Colab**\n",
        "\n",
        "If you want to download your files form the google colab: \n",
        "\n",
        "1. You can go to the \"files\" tab and right click on the file you're after and click \"Downlaod\".\n",
        "2. Use code (see the cell below)\n",
        "3. Save it to the Google Drive by connecting Google Drive and copying it there. (see 2nd code cell below)\n"
      ]
    },
    {
      "cell_type": "code",
      "metadata": {
        "id": "-Tq1eWEV3A4-"
      },
      "source": [
        "# # Download the file from Google Colab\n",
        "# from google.colab import files\n",
        "# files.download(\"/content/best_model_HDF5_format.h5\")"
      ],
      "execution_count": null,
      "outputs": []
    },
    {
      "cell_type": "code",
      "metadata": {
        "id": "Tmobk8ed4FyE"
      },
      "source": [
        "# # Save a file from Google Colab to Google Drive (requires mounting the googel Drive )\n",
        "# !cp /content/best_model_HDF5_format.h5 /content/drive/MyDrive/Learning "
      ],
      "execution_count": null,
      "outputs": []
    },
    {
      "cell_type": "code",
      "metadata": {
        "id": "1WFIcSQG4F5c"
      },
      "source": [
        "#  !ls /content/drive/MyDrive/Learning"
      ],
      "execution_count": null,
      "outputs": []
    },
    {
      "cell_type": "markdown",
      "metadata": {
        "id": "PirVJ2fa7NHt"
      },
      "source": [
        "***How long should we train for?***\n",
        "\n",
        "--> We can refer the [tensorflow early-stopping](https://www.tensorflow.org/api_docs/python/tf/keras/callbacks/EarlyStopping), which is a TensorFLow component you can add to your model to stop training once it stops improving a certain metric.\n",
        "\n",
        "But befor that let's clear one of the important concept first."
      ]
    },
    {
      "cell_type": "markdown",
      "metadata": {
        "id": "woZXTcKu60ob"
      },
      "source": [
        "## **Performing the Normalization and Standardization**\n",
        "\n",
        "![Scaling](https://miro.medium.com/max/4820/1*z-C9ANBC4rjsk-ZK4wzijg.png)\n",
        "\n",
        "\n",
        "In terms of the scaling values, neural networks tends to prefer normalizaion.\n",
        "\n",
        "If you're not sure which to use then you can try both of them and see which perform better.\n"
      ]
    },
    {
      "cell_type": "code",
      "metadata": {
        "id": "-ztnLkRr65yc"
      },
      "source": [
        "import pandas as pd\n",
        "import matplotlib.pyplot as plt\n",
        "import tensorflow as tf\n",
        "\n",
        "# Read in the insurance dataframe\n",
        "insurance = pd.read_csv(\"https://raw.githubusercontent.com/stedy/Machine-Learning-with-R-datasets/master/insurance.csv\")\n",
        "insurance"
      ],
      "execution_count": null,
      "outputs": []
    },
    {
      "cell_type": "markdown",
      "metadata": {
        "id": "ZtWsi7m8BFGG"
      },
      "source": [
        "To prepare a data we can borrow a few classes form the sklearn."
      ]
    },
    {
      "cell_type": "code",
      "metadata": {
        "id": "zhnBDktRBSeR"
      },
      "source": [
        "from sklearn.compose import make_column_transformer\n",
        "from sklearn.preprocessing import MinMaxScaler, OneHotEncoder\n",
        "from sklearn.model_selection import train_test_split\n",
        "\n",
        "# Create a  column transformer \n",
        "ct = make_column_transformer(\n",
        "    (MinMaxScaler(), [\"age\", \"bmi\", \"children\"]), # turn all the values in this  columns in between 0 and 1.\n",
        "    (OneHotEncoder(handle_unknown=\"ignore\"), [\"sex\", \"smoker\", \"region\"])\n",
        ") \n",
        "\n",
        "# Create X & y  \n",
        "X = insurance.drop(\"charges\", axis=1)\n",
        "y = insurance['charges']\n",
        "\n",
        "# Build our train and test sets\n",
        "X_train, X_test, y_train, y_test = train_test_split(X, y, test_size=0.2, random_state=42)\n",
        "\n",
        "# Fit the columns transformer to the training data\n",
        "ct.fit(X_train)\n",
        "\n",
        "# Transform training and test data with  \n",
        "X_train_normal = ct.transform(X_train)\n",
        "X_test_normal = ct.transform(X_test)"
      ],
      "execution_count": null,
      "outputs": []
    },
    {
      "cell_type": "code",
      "metadata": {
        "id": "Xo-GbPx7ByAu"
      },
      "source": [
        "# What does our data looks like now\n",
        "X_train.loc[0]"
      ],
      "execution_count": null,
      "outputs": []
    },
    {
      "cell_type": "code",
      "metadata": {
        "id": "TqfgrC7SRXfO"
      },
      "source": [
        "X_train_normal[0]"
      ],
      "execution_count": null,
      "outputs": []
    },
    {
      "cell_type": "code",
      "metadata": {
        "id": "9ChE1_F1Rbc7"
      },
      "source": [
        "X_train.shape, X_train_normal.shape"
      ],
      "execution_count": null,
      "outputs": []
    },
    {
      "cell_type": "markdown",
      "metadata": {
        "id": "gI5dEsOVSDLH"
      },
      "source": [
        "Our data has been noramlized and one hot encoded.Now let's build a neural network model and see how it goes"
      ]
    },
    {
      "cell_type": "code",
      "metadata": {
        "id": "7Cx63pheRvp6"
      },
      "source": [
        "# Build neural network model to fit and the normalized data   \n",
        "\n",
        "# Now let's set the random seed\n",
        "tf.random.set_seed(42)\n",
        "\n",
        "# 1. Create the model\n",
        "insurance_model = tf.keras.Sequential([\n",
        "    tf.keras.layers.Dense(100),\n",
        "    tf.keras.layers.Dense(10),\n",
        "    tf.keras.layers.Dense(1)\n",
        "])\n",
        "\n",
        "# 2. Compile the model\n",
        "insurance_model.compile(loss=tf.keras.losses.mae,\n",
        "                        optimizer=tf.keras.optimizers.Adam(),\n",
        "                        metrics=[\"mae\"])\n",
        "\n",
        "# 3. Fit the model \n",
        "model = insurance_model.fit(X_train_normal, y_train, epochs=100)"
      ],
      "execution_count": null,
      "outputs": []
    },
    {
      "cell_type": "code",
      "metadata": {
        "id": "olphMQ_DSZuu"
      },
      "source": [
        "# Evaluate the insurance model trained on normalized data\n",
        "insurance_model.evaluate(X_test_normal, y_test)"
      ],
      "execution_count": null,
      "outputs": []
    },
    {
      "cell_type": "markdown",
      "metadata": {
        "id": "B_GaxRjvG0Vt"
      },
      "source": [
        "Normalization is one of the wat to improve the model accuracy to certain extent but this once again this completely depends on the dataset that we are applying. "
      ]
    },
    {
      "cell_type": "code",
      "metadata": {
        "id": "OVmYt1U4UGwd"
      },
      "source": [
        " # Plot model (also know as a loss curve or training curve)\n",
        " pd.DataFrame(model.history).plot()\n",
        " plt.ylabel(\"loss\")\n",
        " plt.xlabel(\"epochs\")"
      ],
      "execution_count": null,
      "outputs": []
    },
    {
      "cell_type": "markdown",
      "metadata": {
        "id": "bKGxsPlvlxPA"
      },
      "source": [
        "# **Neural network regression with TensorFlow Exercises**"
      ]
    },
    {
      "cell_type": "markdown",
      "metadata": {
        "id": "Xxb5zEuamHbc"
      },
      "source": [
        "### 1. Create your own regression dataset (or make the one we created in \"Create data to view and fit\" bigger) and build fit a model to it."
      ]
    },
    {
      "cell_type": "code",
      "metadata": {
        "id": "RuAuA5B7UZ9P"
      },
      "source": [
        "import tensorflow as tf\n",
        "# Create a genereal regression Input dataset\n",
        "X = tf.range(-500, 500, 2)\n",
        "X"
      ],
      "execution_count": null,
      "outputs": []
    },
    {
      "cell_type": "code",
      "metadata": {
        "id": "t0fkBGOCD6a6"
      },
      "source": [
        "y = X + 100\n",
        "y"
      ],
      "execution_count": null,
      "outputs": []
    },
    {
      "cell_type": "code",
      "metadata": {
        "id": "G9jlF2mLGvWF"
      },
      "source": [
        "len(X), len(y)"
      ],
      "execution_count": null,
      "outputs": []
    },
    {
      "cell_type": "code",
      "metadata": {
        "id": "l8gqcxG-FuFZ"
      },
      "source": [
        "# Split the data into train and test set\n",
        "X_train = X[:400] # First 40 are training samples (80% of the data)\n",
        "y_train = y[:400]\n",
        "X_test = X[400:] # Last 10 are the testing samples (20% of the data)\n",
        "y_test = y[400:]"
      ],
      "execution_count": null,
      "outputs": []
    },
    {
      "cell_type": "code",
      "metadata": {
        "id": "laG-FOC6KdI1"
      },
      "source": [
        "X_train.shape, y_train.shape"
      ],
      "execution_count": null,
      "outputs": []
    },
    {
      "cell_type": "code",
      "metadata": {
        "id": "EiBevgt4KiuD"
      },
      "source": [
        "X_test.shape, y_test.shape"
      ],
      "execution_count": null,
      "outputs": []
    },
    {
      "cell_type": "code",
      "metadata": {
        "id": "zAmRGqtehVsr"
      },
      "source": [
        "len(X_train), len(X_test), len(y_train), len(y_test)"
      ],
      "execution_count": null,
      "outputs": []
    },
    {
      "cell_type": "code",
      "metadata": {
        "id": "CuQ8Pl56ggav"
      },
      "source": [
        "import matplotlib.pyplot as plt\n",
        "plt.figure(figsize=(15,10))\n",
        "plt.scatter(X_train, y_train, c='b', label='Training Data')\n",
        "plt.scatter(X_test, y_test, c='g', label='Testing Data')\n",
        "plt.legend()"
      ],
      "execution_count": null,
      "outputs": []
    },
    {
      "cell_type": "code",
      "metadata": {
        "id": "Bsb9G2WOG6cX"
      },
      "source": [
        "# Build neural network model and fit it\n",
        "# Now let's set the random seed\n",
        "tf.random.set_seed(42)\n",
        "\n",
        "# 1. Create the model\n",
        "model_a = tf.keras.Sequential([\n",
        "    tf.keras.layers.Dense(50,input_shape=[1]),\n",
        "    tf.keras.layers.Dense(10),\n",
        "    tf.keras.layers.Dense(1)\n",
        "])\n",
        "\n",
        "# 2. Compiler the model\n",
        "model_a.compile(loss=tf.keras.losses.mae,\n",
        "                optimizer=tf.keras.optimizers.Adam(),\n",
        "                metrics=[\"mae\"])\n",
        "\n",
        "# 3. Fit the model\n",
        "history = model_a.fit(X_train, y_train, epochs=100) "
      ],
      "execution_count": null,
      "outputs": []
    },
    {
      "cell_type": "code",
      "metadata": {
        "id": "vpcsJkkTkUBw"
      },
      "source": [
        "model_a.summary()"
      ],
      "execution_count": null,
      "outputs": []
    },
    {
      "cell_type": "code",
      "metadata": {
        "id": "xRbmVwxzi3s-"
      },
      "source": [
        "# Evaluate the model on the test set\n",
        "model_a.evaluate(X_test, y_test)"
      ],
      "execution_count": null,
      "outputs": []
    },
    {
      "cell_type": "code",
      "metadata": {
        "id": "H31hnNFslyPc"
      },
      "source": [
        "from tensorflow.keras.utils import plot_model\n",
        "plot_model(model=model_a, show_shapes=True)"
      ],
      "execution_count": null,
      "outputs": []
    },
    {
      "cell_type": "code",
      "metadata": {
        "id": "Xvg9mGaSMmir"
      },
      "source": [
        "y_pred = model_a.predict(X_test)"
      ],
      "execution_count": null,
      "outputs": []
    },
    {
      "cell_type": "code",
      "metadata": {
        "id": "iGDM4GL8NTyP"
      },
      "source": [
        "# Visualize the data\n",
        "import matplotlib.pyplot as plt\n",
        "def plot_prediction(train_data = X_train, train_labels=y_train, test_data=X_test, test_labels=y_test, y_pred = y_pred):\n",
        "    plt.figure(figsize=(15, 10))\n",
        "    plt.scatter(train_data, train_labels, c='b', label='Training Data')\n",
        "    plt.scatter(test_data, test_labels, c='g', label='Testing Data')\n",
        "    plt.scatter(test_data, y_pred, c='r', label='Predictions')\n",
        "    plt.legend()"
      ],
      "execution_count": null,
      "outputs": []
    },
    {
      "cell_type": "code",
      "metadata": {
        "id": "n8lYYCTymXWT"
      },
      "source": [
        "plot_prediction()"
      ],
      "execution_count": null,
      "outputs": []
    },
    {
      "cell_type": "code",
      "metadata": {
        "id": "OwzyG3j0LXj1"
      },
      "source": [
        "# Plot model (also know as a loss curve or training curve)\n",
        "import pandas as pd\n",
        "pd.DataFrame(history.history).plot()\n",
        "plt.ylabel(\"loss\")\n",
        "plt.xlabel(\"epochs\")"
      ],
      "execution_count": null,
      "outputs": []
    },
    {
      "cell_type": "markdown",
      "metadata": {
        "id": "DHfEK2vA8C_f"
      },
      "source": [
        "### 2. Try building a neural network with 4 Dense layers and fitting it to your own regression dataset, how does it perform?\n",
        "Now Let try to improve the same model by increase the 1 layer and change the epochs values"
      ]
    },
    {
      "cell_type": "code",
      "metadata": {
        "id": "dOt8BjXeL_as"
      },
      "source": [
        "# Let's built and fit the model\n",
        "# Now let's set the random seed\n",
        "tf.random.set_seed(42)\n",
        "\n",
        "# 1. Create a model \n",
        "model_b = tf.keras.Sequential([\n",
        "    tf.keras.layers.Dense(100),\n",
        "    tf.keras.layers.Dense(50),\n",
        "    tf.keras.layers.Dense(10),\n",
        "    tf.keras.layers.Dense(1)\n",
        "])\n",
        "\n",
        "# 2. Compile the model\n",
        "model_b.compile(loss=tf.keras.losses.mae,\n",
        "                optimizer=tf.keras.optimizers.Adam(),\n",
        "                metrics=[\"mae\"])\n",
        "\n",
        "# 3. Fit the model\n",
        "history_b = model_b.fit(X_train, y_train, epochs = 50)"
      ],
      "execution_count": null,
      "outputs": []
    },
    {
      "cell_type": "code",
      "metadata": {
        "id": "P0TusfN9-4H5"
      },
      "source": [
        "model_b.summary()"
      ],
      "execution_count": null,
      "outputs": []
    },
    {
      "cell_type": "code",
      "metadata": {
        "id": "6nhCdx-6_CW4"
      },
      "source": [
        "# Evaluate the model on the test dataset\n",
        "model_b.evaluate(X_test, y_test)"
      ],
      "execution_count": null,
      "outputs": []
    },
    {
      "cell_type": "code",
      "metadata": {
        "id": "9Pq_pbUE_No9"
      },
      "source": [
        "from tensorflow.keras.utils import plot_model\n",
        "plot_model(model= model_b, show_shapes=True)"
      ],
      "execution_count": null,
      "outputs": []
    },
    {
      "cell_type": "code",
      "metadata": {
        "id": "PG2aK5HB_d0t"
      },
      "source": [
        "y_pred = model_b.predict(X_test)"
      ],
      "execution_count": null,
      "outputs": []
    },
    {
      "cell_type": "code",
      "metadata": {
        "id": "5IserkoF_nBm"
      },
      "source": [
        "# Visualize the data\n",
        "plot_prediction()"
      ],
      "execution_count": null,
      "outputs": []
    },
    {
      "cell_type": "code",
      "metadata": {
        "id": "FwmSVGEO_u64"
      },
      "source": [
        "pd.DataFrame(history_b.history).plot()\n",
        "plt.ylabel(\"loss\")\n",
        "plt.xlabel(\"epochs\")"
      ],
      "execution_count": null,
      "outputs": []
    },
    {
      "cell_type": "markdown",
      "metadata": {
        "id": "gBbc6kRMBA_a"
      },
      "source": [
        "We saw some change in the accuracy of this model_b as compared to the model_a were we tried out to change the number of layers and the epochs. In this this way we could try out  different cobination to improve the model to best fit the data."
      ]
    },
    {
      "cell_type": "markdown",
      "metadata": {
        "id": "_ZGmF1z6Az31"
      },
      "source": [
        "### 3. Try and improve the results we got on the insurance dataset, some things you might want to try include:"
      ]
    },
    {
      "cell_type": "markdown",
      "metadata": {
        "id": "xrSh3Ww7B2F2"
      },
      "source": [
        "Let's try to create a best model that helps us to predict the through insurance dataset."
      ]
    },
    {
      "cell_type": "code",
      "metadata": {
        "id": "6fp510VxCnsc"
      },
      "source": [
        "import pandas as pd\n",
        "import matplotlib.pyplot as plt\n",
        "import tensorflow as tf\n",
        "\n",
        "# Read in the insurance dataframe\n",
        "insurance = pd.read_csv(\"https://raw.githubusercontent.com/stedy/Machine-Learning-with-R-datasets/master/insurance.csv\")\n",
        "insurance"
      ],
      "execution_count": null,
      "outputs": []
    },
    {
      "cell_type": "code",
      "metadata": {
        "id": "04WbeZBHCxyr"
      },
      "source": [
        "from sklearn.compose import make_column_transformer\n",
        "from sklearn.preprocessing import MinMaxScaler, OneHotEncoder\n",
        "from sklearn.model_selection import train_test_split\n",
        "\n",
        "# Create a  column transformer \n",
        "ct = make_column_transformer(\n",
        "    (MinMaxScaler(), [\"age\", \"bmi\", \"children\"]), # turn all the values in this  columns in between 0 and 1.\n",
        "    (OneHotEncoder(handle_unknown=\"ignore\"), [\"sex\", \"smoker\", \"region\"])\n",
        ") \n",
        "\n",
        "# Create X & y  \n",
        "X = insurance.drop(\"charges\", axis=1)\n",
        "y = insurance['charges']\n",
        "\n",
        "# Build our train and test sets\n",
        "X_train, X_test, y_train, y_test = train_test_split(X, y, test_size=0.2, random_state=42)\n",
        "\n",
        "# Fit the columns transformer to the training data\n",
        "ct.fit(X_train)\n",
        "\n",
        "# Transform training and test data with  \n",
        "X_train_normal = ct.transform(X_train)\n",
        "X_test_normal = ct.transform(X_test)"
      ],
      "execution_count": null,
      "outputs": []
    },
    {
      "cell_type": "code",
      "metadata": {
        "id": "DQilBc9BC1rJ"
      },
      "source": [
        "# What does our data looks like now\n",
        "X_train.loc[0]"
      ],
      "execution_count": null,
      "outputs": []
    },
    {
      "cell_type": "code",
      "metadata": {
        "id": "2V282a8EC372"
      },
      "source": [
        "X_train_normal[0]"
      ],
      "execution_count": null,
      "outputs": []
    },
    {
      "cell_type": "code",
      "metadata": {
        "id": "8kPORtBjC8N5"
      },
      "source": [
        "X_train.shape, X_train_normal.shape"
      ],
      "execution_count": null,
      "outputs": []
    },
    {
      "cell_type": "code",
      "metadata": {
        "id": "vp2yVJ9lC9Xk"
      },
      "source": [
        "# Built the neural network model and fit the normalized data\n",
        "\n",
        "# Now let's set the random seed\n",
        "tf.random.set_seed(42)\n",
        "\n",
        "# 1. Create the model\n",
        "insurance_model = tf.keras.Sequential([\n",
        "    tf.keras.layers.Dense(100),\n",
        "    tf.keras.layers.Dense(10),\n",
        "    tf.keras.layers.Dense(1)\n",
        "])\n",
        "\n",
        "# 2. Compile the model\n",
        "insurance_model.compile(loss=tf.keras.losses.mse,\n",
        "                        optimizer=tf.keras.optimizers.Adam(),\n",
        "                        metrics=[\"mae\"])\n",
        "\n",
        "# 3. Fit the model \n",
        "model = insurance_model.fit(X_train_normal, y_train, epochs=100)"
      ],
      "execution_count": null,
      "outputs": []
    },
    {
      "cell_type": "code",
      "metadata": {
        "id": "mkFJP8aJExOv"
      },
      "source": [
        "insurance_model.summary()"
      ],
      "execution_count": null,
      "outputs": []
    },
    {
      "cell_type": "code",
      "metadata": {
        "id": "k0dirbN6DrU7"
      },
      "source": [
        "from tensorflow.keras.utils import plot_model\n",
        "plot_model(model= insurance_model, show_shapes=True)"
      ],
      "execution_count": null,
      "outputs": []
    },
    {
      "cell_type": "code",
      "metadata": {
        "id": "b-84EcQTDrYM"
      },
      "source": [
        "# Plot model (also know as a loss curve or training curve)\n",
        "pd.DataFrame(model.history).plot()\n",
        "plt.ylabel(\"loss\")\n",
        "plt.xlabel(\"epochs\")"
      ],
      "execution_count": null,
      "outputs": []
    },
    {
      "cell_type": "code",
      "metadata": {
        "id": "Y-6pJld-Drbc"
      },
      "source": [
        "insurance_model.evaluate(X_test_normal, y_test)"
      ],
      "execution_count": null,
      "outputs": []
    },
    {
      "cell_type": "markdown",
      "metadata": {
        "id": "CLI5KrMFFITG"
      },
      "source": [
        "### 4. Import the Boston pricing dataset from TensorFlow tf.keras.datasets and model it."
      ]
    },
    {
      "cell_type": "code",
      "metadata": {
        "id": "AkukLGBjIpqX"
      },
      "source": [
        "import tensorflow as tf"
      ],
      "execution_count": 1,
      "outputs": []
    },
    {
      "cell_type": "code",
      "metadata": {
        "id": "O-My370GuWtG"
      },
      "source": [
        "# Getting the data from the tensorflow \n",
        "(x_train, y_train), (x_test, y_test) = tf.keras.datasets.boston_housing.load_data(path='boston_housing.npz', test_split=0.2, seed=113)"
      ],
      "execution_count": 2,
      "outputs": []
    },
    {
      "cell_type": "code",
      "metadata": {
        "colab": {
          "base_uri": "https://localhost:8080/"
        },
        "id": "Kmlzko_rufdZ",
        "outputId": "40fb82df-2269-4173-8b89-652617f26a8c"
      },
      "source": [
        "x_train.shape, y_train.shape"
      ],
      "execution_count": 3,
      "outputs": [
        {
          "output_type": "execute_result",
          "data": {
            "text/plain": [
              "((404, 13), (404,))"
            ]
          },
          "metadata": {
            "tags": []
          },
          "execution_count": 3
        }
      ]
    },
    {
      "cell_type": "code",
      "metadata": {
        "colab": {
          "base_uri": "https://localhost:8080/"
        },
        "id": "4bTTVbXmuslo",
        "outputId": "4f0290cd-9e6a-47c7-d5d7-13f30db17a12"
      },
      "source": [
        "x_test.shape, y_test.shape"
      ],
      "execution_count": 4,
      "outputs": [
        {
          "output_type": "execute_result",
          "data": {
            "text/plain": [
              "((102, 13), (102,))"
            ]
          },
          "metadata": {
            "tags": []
          },
          "execution_count": 4
        }
      ]
    },
    {
      "cell_type": "code",
      "metadata": {
        "colab": {
          "base_uri": "https://localhost:8080/"
        },
        "id": "z1q_LSeBwfv_",
        "outputId": "adb47666-f52e-4250-a134-8edf7bc77a7b"
      },
      "source": [
        "x_train"
      ],
      "execution_count": 5,
      "outputs": [
        {
          "output_type": "execute_result",
          "data": {
            "text/plain": [
              "array([[1.23247e+00, 0.00000e+00, 8.14000e+00, ..., 2.10000e+01,\n",
              "        3.96900e+02, 1.87200e+01],\n",
              "       [2.17700e-02, 8.25000e+01, 2.03000e+00, ..., 1.47000e+01,\n",
              "        3.95380e+02, 3.11000e+00],\n",
              "       [4.89822e+00, 0.00000e+00, 1.81000e+01, ..., 2.02000e+01,\n",
              "        3.75520e+02, 3.26000e+00],\n",
              "       ...,\n",
              "       [3.46600e-02, 3.50000e+01, 6.06000e+00, ..., 1.69000e+01,\n",
              "        3.62250e+02, 7.83000e+00],\n",
              "       [2.14918e+00, 0.00000e+00, 1.95800e+01, ..., 1.47000e+01,\n",
              "        2.61950e+02, 1.57900e+01],\n",
              "       [1.43900e-02, 6.00000e+01, 2.93000e+00, ..., 1.56000e+01,\n",
              "        3.76700e+02, 4.38000e+00]])"
            ]
          },
          "metadata": {
            "tags": []
          },
          "execution_count": 5
        }
      ]
    },
    {
      "cell_type": "code",
      "metadata": {
        "colab": {
          "base_uri": "https://localhost:8080/"
        },
        "id": "HEhZe0Bt2xCU",
        "outputId": "194f9652-94f7-4a4c-bf8b-ebc73dc1e8bf"
      },
      "source": [
        "y_train"
      ],
      "execution_count": 6,
      "outputs": [
        {
          "output_type": "execute_result",
          "data": {
            "text/plain": [
              "array([15.2, 42.3, 50. , 21.1, 17.7, 18.5, 11.3, 15.6, 15.6, 14.4, 12.1,\n",
              "       17.9, 23.1, 19.9, 15.7,  8.8, 50. , 22.5, 24.1, 27.5, 10.9, 30.8,\n",
              "       32.9, 24. , 18.5, 13.3, 22.9, 34.7, 16.6, 17.5, 22.3, 16.1, 14.9,\n",
              "       23.1, 34.9, 25. , 13.9, 13.1, 20.4, 20. , 15.2, 24.7, 22.2, 16.7,\n",
              "       12.7, 15.6, 18.4, 21. , 30.1, 15.1, 18.7,  9.6, 31.5, 24.8, 19.1,\n",
              "       22. , 14.5, 11. , 32. , 29.4, 20.3, 24.4, 14.6, 19.5, 14.1, 14.3,\n",
              "       15.6, 10.5,  6.3, 19.3, 19.3, 13.4, 36.4, 17.8, 13.5, 16.5,  8.3,\n",
              "       14.3, 16. , 13.4, 28.6, 43.5, 20.2, 22. , 23. , 20.7, 12.5, 48.5,\n",
              "       14.6, 13.4, 23.7, 50. , 21.7, 39.8, 38.7, 22.2, 34.9, 22.5, 31.1,\n",
              "       28.7, 46. , 41.7, 21. , 26.6, 15. , 24.4, 13.3, 21.2, 11.7, 21.7,\n",
              "       19.4, 50. , 22.8, 19.7, 24.7, 36.2, 14.2, 18.9, 18.3, 20.6, 24.6,\n",
              "       18.2,  8.7, 44. , 10.4, 13.2, 21.2, 37. , 30.7, 22.9, 20. , 19.3,\n",
              "       31.7, 32. , 23.1, 18.8, 10.9, 50. , 19.6,  5. , 14.4, 19.8, 13.8,\n",
              "       19.6, 23.9, 24.5, 25. , 19.9, 17.2, 24.6, 13.5, 26.6, 21.4, 11.9,\n",
              "       22.6, 19.6,  8.5, 23.7, 23.1, 22.4, 20.5, 23.6, 18.4, 35.2, 23.1,\n",
              "       27.9, 20.6, 23.7, 28. , 13.6, 27.1, 23.6, 20.6, 18.2, 21.7, 17.1,\n",
              "        8.4, 25.3, 13.8, 22.2, 18.4, 20.7, 31.6, 30.5, 20.3,  8.8, 19.2,\n",
              "       19.4, 23.1, 23. , 14.8, 48.8, 22.6, 33.4, 21.1, 13.6, 32.2, 13.1,\n",
              "       23.4, 18.9, 23.9, 11.8, 23.3, 22.8, 19.6, 16.7, 13.4, 22.2, 20.4,\n",
              "       21.8, 26.4, 14.9, 24.1, 23.8, 12.3, 29.1, 21. , 19.5, 23.3, 23.8,\n",
              "       17.8, 11.5, 21.7, 19.9, 25. , 33.4, 28.5, 21.4, 24.3, 27.5, 33.1,\n",
              "       16.2, 23.3, 48.3, 22.9, 22.8, 13.1, 12.7, 22.6, 15. , 15.3, 10.5,\n",
              "       24. , 18.5, 21.7, 19.5, 33.2, 23.2,  5. , 19.1, 12.7, 22.3, 10.2,\n",
              "       13.9, 16.3, 17. , 20.1, 29.9, 17.2, 37.3, 45.4, 17.8, 23.2, 29. ,\n",
              "       22. , 18. , 17.4, 34.6, 20.1, 25. , 15.6, 24.8, 28.2, 21.2, 21.4,\n",
              "       23.8, 31. , 26.2, 17.4, 37.9, 17.5, 20. ,  8.3, 23.9,  8.4, 13.8,\n",
              "        7.2, 11.7, 17.1, 21.6, 50. , 16.1, 20.4, 20.6, 21.4, 20.6, 36.5,\n",
              "        8.5, 24.8, 10.8, 21.9, 17.3, 18.9, 36.2, 14.9, 18.2, 33.3, 21.8,\n",
              "       19.7, 31.6, 24.8, 19.4, 22.8,  7.5, 44.8, 16.8, 18.7, 50. , 50. ,\n",
              "       19.5, 20.1, 50. , 17.2, 20.8, 19.3, 41.3, 20.4, 20.5, 13.8, 16.5,\n",
              "       23.9, 20.6, 31.5, 23.3, 16.8, 14. , 33.8, 36.1, 12.8, 18.3, 18.7,\n",
              "       19.1, 29. , 30.1, 50. , 50. , 22. , 11.9, 37.6, 50. , 22.7, 20.8,\n",
              "       23.5, 27.9, 50. , 19.3, 23.9, 22.6, 15.2, 21.7, 19.2, 43.8, 20.3,\n",
              "       33.2, 19.9, 22.5, 32.7, 22. , 17.1, 19. , 15. , 16.1, 25.1, 23.7,\n",
              "       28.7, 37.2, 22.6, 16.4, 25. , 29.8, 22.1, 17.4, 18.1, 30.3, 17.5,\n",
              "       24.7, 12.6, 26.5, 28.7, 13.3, 10.4, 24.4, 23. , 20. , 17.8,  7. ,\n",
              "       11.8, 24.4, 13.8, 19.4, 25.2, 19.4, 19.4, 29.1])"
            ]
          },
          "metadata": {
            "tags": []
          },
          "execution_count": 6
        }
      ]
    },
    {
      "cell_type": "code",
      "metadata": {
        "colab": {
          "base_uri": "https://localhost:8080/"
        },
        "id": "Gw98l-bz20Lt",
        "outputId": "865f65b1-3007-4f50-ef28-a43e2263d0ea"
      },
      "source": [
        "# Let's built a neural network for this model\n",
        "# let's set the random seed\n",
        "tf.random.set_seed(42)\n",
        "\n",
        "# 1. Create a model \n",
        "model = tf.keras.Sequential([\n",
        "    tf.keras.layers.Dense(50),\n",
        "    tf.keras.layers.Dense(100),\n",
        "    tf.keras.layers.Dense(50),\n",
        "    tf.keras.layers.Dense(1)\n",
        "])\n",
        "\n",
        "# 2. Compile the model \n",
        "model.compile(loss=tf.keras.losses.mae,\n",
        "              optimizer=tf.keras.optimizers.Adam(learning_rate=0.001),\n",
        "              metrics=[\"mae\"])\n",
        "\n",
        "# 3. Fit the model\n",
        "history = model.fit(x_train, y_train, epochs=100)\n",
        "model.summary()"
      ],
      "execution_count": 11,
      "outputs": [
        {
          "output_type": "stream",
          "text": [
            "Epoch 1/100\n",
            "13/13 [==============================] - 0s 2ms/step - loss: 32.4303 - mae: 32.4303\n",
            "Epoch 2/100\n",
            "13/13 [==============================] - 0s 2ms/step - loss: 9.0287 - mae: 9.0287\n",
            "Epoch 3/100\n",
            "13/13 [==============================] - 0s 2ms/step - loss: 7.8029 - mae: 7.8029\n",
            "Epoch 4/100\n",
            "13/13 [==============================] - 0s 2ms/step - loss: 7.6284 - mae: 7.6284\n",
            "Epoch 5/100\n",
            "13/13 [==============================] - 0s 2ms/step - loss: 6.7561 - mae: 6.7561\n",
            "Epoch 6/100\n",
            "13/13 [==============================] - 0s 2ms/step - loss: 6.2721 - mae: 6.2721\n",
            "Epoch 7/100\n",
            "13/13 [==============================] - 0s 2ms/step - loss: 6.6894 - mae: 6.6894\n",
            "Epoch 8/100\n",
            "13/13 [==============================] - 0s 2ms/step - loss: 8.4807 - mae: 8.4807\n",
            "Epoch 9/100\n",
            "13/13 [==============================] - 0s 2ms/step - loss: 8.9599 - mae: 8.9599\n",
            "Epoch 10/100\n",
            "13/13 [==============================] - 0s 2ms/step - loss: 6.5384 - mae: 6.5384\n",
            "Epoch 11/100\n",
            "13/13 [==============================] - 0s 2ms/step - loss: 7.7700 - mae: 7.7700\n",
            "Epoch 12/100\n",
            "13/13 [==============================] - 0s 2ms/step - loss: 6.5556 - mae: 6.5556\n",
            "Epoch 13/100\n",
            "13/13 [==============================] - 0s 2ms/step - loss: 6.0378 - mae: 6.0378\n",
            "Epoch 14/100\n",
            "13/13 [==============================] - 0s 2ms/step - loss: 5.8376 - mae: 5.8376\n",
            "Epoch 15/100\n",
            "13/13 [==============================] - 0s 2ms/step - loss: 5.8842 - mae: 5.8842\n",
            "Epoch 16/100\n",
            "13/13 [==============================] - 0s 2ms/step - loss: 5.7225 - mae: 5.7225\n",
            "Epoch 17/100\n",
            "13/13 [==============================] - 0s 2ms/step - loss: 6.4567 - mae: 6.4567\n",
            "Epoch 18/100\n",
            "13/13 [==============================] - 0s 2ms/step - loss: 6.1931 - mae: 6.1931\n",
            "Epoch 19/100\n",
            "13/13 [==============================] - 0s 2ms/step - loss: 6.7692 - mae: 6.7692\n",
            "Epoch 20/100\n",
            "13/13 [==============================] - 0s 2ms/step - loss: 9.2820 - mae: 9.2820\n",
            "Epoch 21/100\n",
            "13/13 [==============================] - 0s 2ms/step - loss: 7.9747 - mae: 7.9747\n",
            "Epoch 22/100\n",
            "13/13 [==============================] - 0s 2ms/step - loss: 6.4600 - mae: 6.4600\n",
            "Epoch 23/100\n",
            "13/13 [==============================] - 0s 2ms/step - loss: 5.8351 - mae: 5.8351\n",
            "Epoch 24/100\n",
            "13/13 [==============================] - 0s 2ms/step - loss: 6.5884 - mae: 6.5884\n",
            "Epoch 25/100\n",
            "13/13 [==============================] - 0s 2ms/step - loss: 5.9110 - mae: 5.9110\n",
            "Epoch 26/100\n",
            "13/13 [==============================] - 0s 2ms/step - loss: 6.2014 - mae: 6.2014\n",
            "Epoch 27/100\n",
            "13/13 [==============================] - 0s 2ms/step - loss: 5.9076 - mae: 5.9076\n",
            "Epoch 28/100\n",
            "13/13 [==============================] - 0s 2ms/step - loss: 6.2954 - mae: 6.2954\n",
            "Epoch 29/100\n",
            "13/13 [==============================] - 0s 2ms/step - loss: 8.4069 - mae: 8.4069\n",
            "Epoch 30/100\n",
            "13/13 [==============================] - 0s 2ms/step - loss: 8.5158 - mae: 8.5158\n",
            "Epoch 31/100\n",
            "13/13 [==============================] - 0s 2ms/step - loss: 6.0216 - mae: 6.0216\n",
            "Epoch 32/100\n",
            "13/13 [==============================] - 0s 2ms/step - loss: 6.8721 - mae: 6.8721\n",
            "Epoch 33/100\n",
            "13/13 [==============================] - 0s 2ms/step - loss: 6.2026 - mae: 6.2026\n",
            "Epoch 34/100\n",
            "13/13 [==============================] - 0s 2ms/step - loss: 6.1765 - mae: 6.1765\n",
            "Epoch 35/100\n",
            "13/13 [==============================] - 0s 2ms/step - loss: 7.7195 - mae: 7.7195\n",
            "Epoch 36/100\n",
            "13/13 [==============================] - 0s 2ms/step - loss: 5.9679 - mae: 5.9679\n",
            "Epoch 37/100\n",
            "13/13 [==============================] - 0s 2ms/step - loss: 6.0437 - mae: 6.0437\n",
            "Epoch 38/100\n",
            "13/13 [==============================] - 0s 2ms/step - loss: 7.1784 - mae: 7.1784\n",
            "Epoch 39/100\n",
            "13/13 [==============================] - 0s 2ms/step - loss: 5.3821 - mae: 5.3821\n",
            "Epoch 40/100\n",
            "13/13 [==============================] - 0s 2ms/step - loss: 5.8687 - mae: 5.8687\n",
            "Epoch 41/100\n",
            "13/13 [==============================] - 0s 2ms/step - loss: 5.4360 - mae: 5.4360\n",
            "Epoch 42/100\n",
            "13/13 [==============================] - 0s 2ms/step - loss: 5.2894 - mae: 5.2894\n",
            "Epoch 43/100\n",
            "13/13 [==============================] - 0s 2ms/step - loss: 5.0400 - mae: 5.0400\n",
            "Epoch 44/100\n",
            "13/13 [==============================] - 0s 2ms/step - loss: 5.4831 - mae: 5.4831\n",
            "Epoch 45/100\n",
            "13/13 [==============================] - 0s 2ms/step - loss: 5.9269 - mae: 5.9269\n",
            "Epoch 46/100\n",
            "13/13 [==============================] - 0s 2ms/step - loss: 6.2798 - mae: 6.2798\n",
            "Epoch 47/100\n",
            "13/13 [==============================] - 0s 2ms/step - loss: 5.4728 - mae: 5.4728\n",
            "Epoch 48/100\n",
            "13/13 [==============================] - 0s 2ms/step - loss: 5.3107 - mae: 5.3107\n",
            "Epoch 49/100\n",
            "13/13 [==============================] - 0s 2ms/step - loss: 5.7306 - mae: 5.7306\n",
            "Epoch 50/100\n",
            "13/13 [==============================] - 0s 2ms/step - loss: 5.0647 - mae: 5.0647\n",
            "Epoch 51/100\n",
            "13/13 [==============================] - 0s 2ms/step - loss: 5.0650 - mae: 5.0650\n",
            "Epoch 52/100\n",
            "13/13 [==============================] - 0s 2ms/step - loss: 5.0365 - mae: 5.0365\n",
            "Epoch 53/100\n",
            "13/13 [==============================] - 0s 2ms/step - loss: 7.1154 - mae: 7.1154\n",
            "Epoch 54/100\n",
            "13/13 [==============================] - 0s 2ms/step - loss: 5.4786 - mae: 5.4786\n",
            "Epoch 55/100\n",
            "13/13 [==============================] - 0s 2ms/step - loss: 5.9107 - mae: 5.9107\n",
            "Epoch 56/100\n",
            "13/13 [==============================] - 0s 2ms/step - loss: 5.2772 - mae: 5.2772\n",
            "Epoch 57/100\n",
            "13/13 [==============================] - 0s 2ms/step - loss: 4.8601 - mae: 4.8601\n",
            "Epoch 58/100\n",
            "13/13 [==============================] - 0s 2ms/step - loss: 5.7462 - mae: 5.7462\n",
            "Epoch 59/100\n",
            "13/13 [==============================] - 0s 2ms/step - loss: 5.1060 - mae: 5.1060\n",
            "Epoch 60/100\n",
            "13/13 [==============================] - 0s 2ms/step - loss: 5.4067 - mae: 5.4067\n",
            "Epoch 61/100\n",
            "13/13 [==============================] - 0s 2ms/step - loss: 5.4013 - mae: 5.4013\n",
            "Epoch 62/100\n",
            "13/13 [==============================] - 0s 2ms/step - loss: 5.2838 - mae: 5.2838\n",
            "Epoch 63/100\n",
            "13/13 [==============================] - 0s 2ms/step - loss: 5.9651 - mae: 5.9651\n",
            "Epoch 64/100\n",
            "13/13 [==============================] - 0s 2ms/step - loss: 5.3414 - mae: 5.3414\n",
            "Epoch 65/100\n",
            "13/13 [==============================] - 0s 2ms/step - loss: 5.5950 - mae: 5.5950\n",
            "Epoch 66/100\n",
            "13/13 [==============================] - 0s 2ms/step - loss: 5.8291 - mae: 5.8291\n",
            "Epoch 67/100\n",
            "13/13 [==============================] - 0s 2ms/step - loss: 5.6358 - mae: 5.6358\n",
            "Epoch 68/100\n",
            "13/13 [==============================] - 0s 2ms/step - loss: 6.0061 - mae: 6.0061\n",
            "Epoch 69/100\n",
            "13/13 [==============================] - 0s 2ms/step - loss: 7.3036 - mae: 7.3036\n",
            "Epoch 70/100\n",
            "13/13 [==============================] - 0s 2ms/step - loss: 5.2261 - mae: 5.2261\n",
            "Epoch 71/100\n",
            "13/13 [==============================] - 0s 2ms/step - loss: 6.0993 - mae: 6.0993\n",
            "Epoch 72/100\n",
            "13/13 [==============================] - 0s 2ms/step - loss: 5.6449 - mae: 5.6449\n",
            "Epoch 73/100\n",
            "13/13 [==============================] - 0s 3ms/step - loss: 5.0785 - mae: 5.0785\n",
            "Epoch 74/100\n",
            "13/13 [==============================] - 0s 2ms/step - loss: 5.3304 - mae: 5.3304\n",
            "Epoch 75/100\n",
            "13/13 [==============================] - 0s 2ms/step - loss: 5.2267 - mae: 5.2267\n",
            "Epoch 76/100\n",
            "13/13 [==============================] - 0s 2ms/step - loss: 4.9664 - mae: 4.9664\n",
            "Epoch 77/100\n",
            "13/13 [==============================] - 0s 2ms/step - loss: 5.1127 - mae: 5.1127\n",
            "Epoch 78/100\n",
            "13/13 [==============================] - 0s 2ms/step - loss: 6.1811 - mae: 6.1811\n",
            "Epoch 79/100\n",
            "13/13 [==============================] - 0s 2ms/step - loss: 5.6908 - mae: 5.6908\n",
            "Epoch 80/100\n",
            "13/13 [==============================] - 0s 2ms/step - loss: 6.1109 - mae: 6.1109\n",
            "Epoch 81/100\n",
            "13/13 [==============================] - 0s 2ms/step - loss: 5.5920 - mae: 5.5920\n",
            "Epoch 82/100\n",
            "13/13 [==============================] - 0s 2ms/step - loss: 5.1180 - mae: 5.1180\n",
            "Epoch 83/100\n",
            "13/13 [==============================] - 0s 2ms/step - loss: 5.7582 - mae: 5.7582\n",
            "Epoch 84/100\n",
            "13/13 [==============================] - 0s 2ms/step - loss: 5.8089 - mae: 5.8089\n",
            "Epoch 85/100\n",
            "13/13 [==============================] - 0s 2ms/step - loss: 6.9455 - mae: 6.9455\n",
            "Epoch 86/100\n",
            "13/13 [==============================] - 0s 2ms/step - loss: 6.3639 - mae: 6.3639\n",
            "Epoch 87/100\n",
            "13/13 [==============================] - 0s 2ms/step - loss: 5.5273 - mae: 5.5273\n",
            "Epoch 88/100\n",
            "13/13 [==============================] - 0s 2ms/step - loss: 4.4220 - mae: 4.4220\n",
            "Epoch 89/100\n",
            "13/13 [==============================] - 0s 2ms/step - loss: 5.2498 - mae: 5.2498\n",
            "Epoch 90/100\n",
            "13/13 [==============================] - 0s 2ms/step - loss: 5.5407 - mae: 5.5407\n",
            "Epoch 91/100\n",
            "13/13 [==============================] - 0s 2ms/step - loss: 5.9121 - mae: 5.9121\n",
            "Epoch 92/100\n",
            "13/13 [==============================] - 0s 2ms/step - loss: 5.3313 - mae: 5.3313\n",
            "Epoch 93/100\n",
            "13/13 [==============================] - 0s 2ms/step - loss: 6.9172 - mae: 6.9172\n",
            "Epoch 94/100\n",
            "13/13 [==============================] - 0s 2ms/step - loss: 8.2373 - mae: 8.2373\n",
            "Epoch 95/100\n",
            "13/13 [==============================] - 0s 2ms/step - loss: 6.3331 - mae: 6.3331\n",
            "Epoch 96/100\n",
            "13/13 [==============================] - 0s 2ms/step - loss: 4.8574 - mae: 4.8574\n",
            "Epoch 97/100\n",
            "13/13 [==============================] - 0s 2ms/step - loss: 4.7837 - mae: 4.7837\n",
            "Epoch 98/100\n",
            "13/13 [==============================] - 0s 2ms/step - loss: 5.1013 - mae: 5.1013\n",
            "Epoch 99/100\n",
            "13/13 [==============================] - 0s 2ms/step - loss: 5.8853 - mae: 5.8853\n",
            "Epoch 100/100\n",
            "13/13 [==============================] - 0s 2ms/step - loss: 4.9745 - mae: 4.9745\n",
            "Model: \"sequential_3\"\n",
            "_________________________________________________________________\n",
            "Layer (type)                 Output Shape              Param #   \n",
            "=================================================================\n",
            "dense_9 (Dense)              (None, 50)                700       \n",
            "_________________________________________________________________\n",
            "dense_10 (Dense)             (None, 100)               5100      \n",
            "_________________________________________________________________\n",
            "dense_11 (Dense)             (None, 50)                5050      \n",
            "_________________________________________________________________\n",
            "dense_12 (Dense)             (None, 1)                 51        \n",
            "=================================================================\n",
            "Total params: 10,901\n",
            "Trainable params: 10,901\n",
            "Non-trainable params: 0\n",
            "_________________________________________________________________\n"
          ],
          "name": "stdout"
        }
      ]
    },
    {
      "cell_type": "code",
      "metadata": {
        "colab": {
          "base_uri": "https://localhost:8080/",
          "height": 299
        },
        "id": "rz4U92eu4Z1w",
        "outputId": "c79650dd-d95f-43a1-a462-604e2f466ae0"
      },
      "source": [
        "import pandas as pd\n",
        "import matplotlib.pyplot as plt\n",
        "pd.DataFrame(history.history).plot()\n",
        "plt.ylabel(\"loss\")\n",
        "plt.xlabel(\"epochs\")"
      ],
      "execution_count": 12,
      "outputs": [
        {
          "output_type": "execute_result",
          "data": {
            "text/plain": [
              "Text(0.5, 0, 'epochs')"
            ]
          },
          "metadata": {
            "tags": []
          },
          "execution_count": 12
        },
        {
          "output_type": "display_data",
          "data": {
            "image/png": "[encoded data removed]",
            "text/plain": [
              "<Figure size 432x288 with 1 Axes>"
            ]
          },
          "metadata": {
            "tags": [],
            "needs_background": "light"
          }
        }
      ]
    },
    {
      "cell_type": "code",
      "metadata": {
        "id": "dqYCqL_v51Lm"
      },
      "source": [
        ""
      ],
      "execution_count": null,
      "outputs": []
    }
  ]
}