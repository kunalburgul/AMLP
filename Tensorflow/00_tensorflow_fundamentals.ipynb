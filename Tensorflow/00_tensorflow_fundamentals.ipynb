{
  "nbformat": 4,
  "nbformat_minor": 0,
  "metadata": {
    "colab": {
      "name": "00_tensorflow_fundamentals.ipynb",
      "provenance": [],
      "collapsed_sections": [],
      "authorship_tag": "ABX9TyMcFCPCpD6T4rcXYISiOokf",
      "include_colab_link": true
    },
    "kernelspec": {
      "name": "python3",
      "display_name": "Python 3"
    },
    "language_info": {
      "name": "python"
    }
  },
  "cells": [
    {
      "cell_type": "markdown",
      "metadata": {
        "id": "view-in-github",
        "colab_type": "text"
      },
      "source": [
        "<a href=\"https://colab.research.google.com/github/kunalburgul/MLDS_Learning/blob/master/Tensorflow/00_tensorflow_fundamentals.ipynb\" target=\"_parent\"><img src=\"https://colab.research.google.com/assets/colab-badge.svg\" alt=\"Open In Colab\"/></a>"
      ]
    },
    {
      "cell_type": "markdown",
      "metadata": {
        "id": "DicMa0H0OFI1"
      },
      "source": [
        "# In this notebook, we are going to cover some of the most fundamental concepts of tensord using Tensorflow.\n",
        "\n",
        "Topics Covered: \n",
        "\n",
        "- Introduction to Tensors\n",
        "- Getting information from tensors. \n",
        "- Manipulating tensors\n",
        "- Tensors & Numpy\n",
        "- Using @tf.function (a way to speedup your regular python function)\n",
        "- Using GPUs with TensorFlow (or TPUs)\n",
        "- Exercises to Practise."
      ]
    },
    {
      "cell_type": "markdown",
      "metadata": {
        "id": "5fvXhMC2OFUD"
      },
      "source": [
        "## Introduction to Tensors"
      ]
    },
    {
      "cell_type": "code",
      "metadata": {
        "colab": {
          "base_uri": "https://localhost:8080/"
        },
        "id": "oJBA5M7GQYKW",
        "outputId": "76109f59-3030-4f42-a371-df97e704e289"
      },
      "source": [
        "# Import TensorFlow\n",
        "import tensorflow as tf \n",
        "print(tf.__version__)"
      ],
      "execution_count": null,
      "outputs": [
        {
          "output_type": "stream",
          "text": [
            "2.4.1\n"
          ],
          "name": "stdout"
        }
      ]
    },
    {
      "cell_type": "code",
      "metadata": {
        "colab": {
          "base_uri": "https://localhost:8080/"
        },
        "id": "T2Ssx2JTQjEz",
        "outputId": "0883bfdf-0564-42ca-ae49-98ab2b57fe83"
      },
      "source": [
        "# Creating tensors with tf.constant()\n",
        "scalar = tf.constant(7)\n",
        "scalar"
      ],
      "execution_count": null,
      "outputs": [
        {
          "output_type": "execute_result",
          "data": {
            "text/plain": [
              "<tf.Tensor: shape=(), dtype=int32, numpy=7>"
            ]
          },
          "metadata": {
            "tags": []
          },
          "execution_count": 93
        }
      ]
    },
    {
      "cell_type": "code",
      "metadata": {
        "colab": {
          "base_uri": "https://localhost:8080/"
        },
        "id": "MItOe8FJRE_Z",
        "outputId": "66dc5105-a2c7-438f-e2ae-553e1a9837d2"
      },
      "source": [
        "# Check the number of dimensions of a tensor (ndim stands for number of dimensions)\n",
        "scalar.ndim"
      ],
      "execution_count": null,
      "outputs": [
        {
          "output_type": "execute_result",
          "data": {
            "text/plain": [
              "0"
            ]
          },
          "metadata": {
            "tags": []
          },
          "execution_count": 94
        }
      ]
    },
    {
      "cell_type": "code",
      "metadata": {
        "colab": {
          "base_uri": "https://localhost:8080/"
        },
        "id": "lg5Httr8RrGY",
        "outputId": "3561b0e4-226b-4160-ef3e-5eee47e74de5"
      },
      "source": [
        "# Check a vector  \n",
        "vector = tf.constant([10, 10])\n",
        "vector"
      ],
      "execution_count": null,
      "outputs": [
        {
          "output_type": "execute_result",
          "data": {
            "text/plain": [
              "<tf.Tensor: shape=(2,), dtype=int32, numpy=array([10, 10], dtype=int32)>"
            ]
          },
          "metadata": {
            "tags": []
          },
          "execution_count": 95
        }
      ]
    },
    {
      "cell_type": "code",
      "metadata": {
        "colab": {
          "base_uri": "https://localhost:8080/"
        },
        "id": "rehewnSHR5I1",
        "outputId": "555750c9-bd4a-4236-851e-89287d371402"
      },
      "source": [
        "# Check the dimension of the vector\n",
        "vector.ndim"
      ],
      "execution_count": null,
      "outputs": [
        {
          "output_type": "execute_result",
          "data": {
            "text/plain": [
              "1"
            ]
          },
          "metadata": {
            "tags": []
          },
          "execution_count": 96
        }
      ]
    },
    {
      "cell_type": "code",
      "metadata": {
        "colab": {
          "base_uri": "https://localhost:8080/"
        },
        "id": "mPztil0iSG-_",
        "outputId": "d2b8c6f4-c728-41a7-904c-1c6e7ad0b17a"
      },
      "source": [
        "# Create a matric (a matrix has more than 1 dimension)\n",
        "matrix = tf.constant([[6, 1],\n",
        "                     [5, 8]]) \n",
        "matrix"
      ],
      "execution_count": null,
      "outputs": [
        {
          "output_type": "execute_result",
          "data": {
            "text/plain": [
              "<tf.Tensor: shape=(2, 2), dtype=int32, numpy=\n",
              "array([[6, 1],\n",
              "       [5, 8]], dtype=int32)>"
            ]
          },
          "metadata": {
            "tags": []
          },
          "execution_count": 97
        }
      ]
    },
    {
      "cell_type": "code",
      "metadata": {
        "colab": {
          "base_uri": "https://localhost:8080/"
        },
        "id": "7PMYIvSlSR4r",
        "outputId": "b2d1d256-6fc2-481a-df35-adabba2cfdd8"
      },
      "source": [
        "matrix.ndim"
      ],
      "execution_count": null,
      "outputs": [
        {
          "output_type": "execute_result",
          "data": {
            "text/plain": [
              "2"
            ]
          },
          "metadata": {
            "tags": []
          },
          "execution_count": 98
        }
      ]
    },
    {
      "cell_type": "code",
      "metadata": {
        "colab": {
          "base_uri": "https://localhost:8080/"
        },
        "id": "-e4D2DZ9Ss-F",
        "outputId": "2f64e33d-0123-4218-c977-0e375dbb0875"
      },
      "source": [
        "# Create another matrix\n",
        "another_matrix = tf.constant([[61., 58.],\n",
        "                              [11., 21.],\n",
        "                              [56., 58.]], dtype=tf.float16) # specify  the data type with dtype parameter\n",
        "another_matrix  "
      ],
      "execution_count": null,
      "outputs": [
        {
          "output_type": "execute_result",
          "data": {
            "text/plain": [
              "<tf.Tensor: shape=(3, 2), dtype=float16, numpy=\n",
              "array([[61., 58.],\n",
              "       [11., 21.],\n",
              "       [56., 58.]], dtype=float16)>"
            ]
          },
          "metadata": {
            "tags": []
          },
          "execution_count": 99
        }
      ]
    },
    {
      "cell_type": "code",
      "metadata": {
        "colab": {
          "base_uri": "https://localhost:8080/"
        },
        "id": "SD-7xZASTStO",
        "outputId": "5b786504-64f5-4c1f-d814-85f8af329dac"
      },
      "source": [
        "# Let's check the number of the dimension using ndim\n",
        "another_matrix.ndim"
      ],
      "execution_count": null,
      "outputs": [
        {
          "output_type": "execute_result",
          "data": {
            "text/plain": [
              "2"
            ]
          },
          "metadata": {
            "tags": []
          },
          "execution_count": 100
        }
      ]
    },
    {
      "cell_type": "code",
      "metadata": {
        "colab": {
          "base_uri": "https://localhost:8080/"
        },
        "id": "FVyJ1YHvTRiH",
        "outputId": "50595dd2-50fb-49dd-ac0c-aba0fef0604c"
      },
      "source": [
        "# Let's create a tensor\n",
        "tensor = tf.constant([[[1, 2, 3],\n",
        "                      [4, 5, 6]],\n",
        "                     [[7, 8, 9],\n",
        "                      [10, 11, 12]],\n",
        "                     [[13, 14, 15],\n",
        "                      [15, 16, 17]]])\n",
        "tensor"
      ],
      "execution_count": null,
      "outputs": [
        {
          "output_type": "execute_result",
          "data": {
            "text/plain": [
              "<tf.Tensor: shape=(3, 2, 3), dtype=int32, numpy=\n",
              "array([[[ 1,  2,  3],\n",
              "        [ 4,  5,  6]],\n",
              "\n",
              "       [[ 7,  8,  9],\n",
              "        [10, 11, 12]],\n",
              "\n",
              "       [[13, 14, 15],\n",
              "        [15, 16, 17]]], dtype=int32)>"
            ]
          },
          "metadata": {
            "tags": []
          },
          "execution_count": 101
        }
      ]
    },
    {
      "cell_type": "code",
      "metadata": {
        "colab": {
          "base_uri": "https://localhost:8080/"
        },
        "id": "X3S_o2cDU5Kn",
        "outputId": "938e3cc4-b21c-490a-8bb5-8549981a2123"
      },
      "source": [
        "# Let's check the dimnetsions \n",
        "tensor.ndim"
      ],
      "execution_count": null,
      "outputs": [
        {
          "output_type": "execute_result",
          "data": {
            "text/plain": [
              "3"
            ]
          },
          "metadata": {
            "tags": []
          },
          "execution_count": 102
        }
      ]
    },
    {
      "cell_type": "markdown",
      "metadata": {
        "id": "a5mNVsxBVGiA"
      },
      "source": [
        "What all we have learnt so far\n",
        "\n",
        "- **Scalar**: A single number\n",
        "- **Vector**: A number with direction (e.g windspeed and direction)\n",
        "- **Matrix**: A 2-dimensional array of numbers\n",
        "- **Tensor**: An n-dimentsional array of numbers \n",
        "(where n can be any number, a 0-dimensional tensor is a scalar, a 1-dimensional tensor is a vector)"
      ]
    },
    {
      "cell_type": "markdown",
      "metadata": {
        "id": "1J_xi6nfWw7S"
      },
      "source": [
        "### Creating the tensors with `tf.Varaible`"
      ]
    },
    {
      "cell_type": "code",
      "metadata": {
        "colab": {
          "base_uri": "https://localhost:8080/"
        },
        "id": "Qoo4Y5v3WZ4N",
        "outputId": "52951fd8-22dd-48c8-b8ac-b04e15eabacb"
      },
      "source": [
        "# Creating the same tensor with the th.Varaible() as above\n",
        "changable_tensor = tf.Variable([10, 7]) \n",
        "unchangable_tensor = tf.constant([10, 7])\n",
        "changable_tensor, unchangable_tensor"
      ],
      "execution_count": null,
      "outputs": [
        {
          "output_type": "execute_result",
          "data": {
            "text/plain": [
              "(<tf.Variable 'Variable:0' shape=(2,) dtype=int32, numpy=array([10,  7], dtype=int32)>,\n",
              " <tf.Tensor: shape=(2,), dtype=int32, numpy=array([10,  7], dtype=int32)>)"
            ]
          },
          "metadata": {
            "tags": []
          },
          "execution_count": 103
        }
      ]
    },
    {
      "cell_type": "code",
      "metadata": {
        "colab": {
          "base_uri": "https://localhost:8080/",
          "height": 185
        },
        "id": "d2idH5RkWsoi",
        "outputId": "61f49815-2fb0-4441-91e3-74d3c0929633"
      },
      "source": [
        "# Now let's try to change the element in out changable tensor \n",
        "changable_tensor[0] = 1 "
      ],
      "execution_count": null,
      "outputs": [
        {
          "output_type": "error",
          "ename": "TypeError",
          "evalue": "ignored",
          "traceback": [
            "\u001b[0;31m---------------------------------------------------------------------------\u001b[0m",
            "\u001b[0;31mTypeError\u001b[0m                                 Traceback (most recent call last)",
            "\u001b[0;32m<ipython-input-104-3ac890887614>\u001b[0m in \u001b[0;36m<module>\u001b[0;34m()\u001b[0m\n\u001b[1;32m      1\u001b[0m \u001b[0;31m# Now let's try to change the element in out changable tensor\u001b[0m\u001b[0;34m\u001b[0m\u001b[0;34m\u001b[0m\u001b[0;34m\u001b[0m\u001b[0m\n\u001b[0;32m----> 2\u001b[0;31m \u001b[0mchangable_tensor\u001b[0m\u001b[0;34m[\u001b[0m\u001b[0;36m0\u001b[0m\u001b[0;34m]\u001b[0m \u001b[0;34m=\u001b[0m \u001b[0;36m1\u001b[0m\u001b[0;34m\u001b[0m\u001b[0;34m\u001b[0m\u001b[0m\n\u001b[0m",
            "\u001b[0;31mTypeError\u001b[0m: 'ResourceVariable' object does not support item assignment"
          ]
        }
      ]
    },
    {
      "cell_type": "code",
      "metadata": {
        "colab": {
          "base_uri": "https://localhost:8080/"
        },
        "id": "FX_hwLfXXT_x",
        "outputId": "08778267-cb70-462f-d758-3116db4d8dd8"
      },
      "source": [
        "# Let's try out the assign() function to change it \n",
        "cahngable_tensor[0].assign(1)"
      ],
      "execution_count": null,
      "outputs": [
        {
          "output_type": "execute_result",
          "data": {
            "text/plain": [
              "<tf.Variable 'UnreadVariable' shape=(2,) dtype=int32, numpy=array([1, 7], dtype=int32)>"
            ]
          },
          "metadata": {
            "tags": []
          },
          "execution_count": 105
        }
      ]
    },
    {
      "cell_type": "code",
      "metadata": {
        "colab": {
          "base_uri": "https://localhost:8080/",
          "height": 185
        },
        "id": "FMukr_xCYlFK",
        "outputId": "1fd3b145-f733-4ce1-81f3-47b8a6cd0aaa"
      },
      "source": [
        "# Now let's  try this on the unchangaable tensor\n",
        "unchangable_tensor[0].assign(1)"
      ],
      "execution_count": null,
      "outputs": [
        {
          "output_type": "error",
          "ename": "AttributeError",
          "evalue": "ignored",
          "traceback": [
            "\u001b[0;31m---------------------------------------------------------------------------\u001b[0m",
            "\u001b[0;31mAttributeError\u001b[0m                            Traceback (most recent call last)",
            "\u001b[0;32m<ipython-input-106-9f403ef98b91>\u001b[0m in \u001b[0;36m<module>\u001b[0;34m()\u001b[0m\n\u001b[1;32m      1\u001b[0m \u001b[0;31m# Now let's  try this on the unchangaable tensor\u001b[0m\u001b[0;34m\u001b[0m\u001b[0;34m\u001b[0m\u001b[0;34m\u001b[0m\u001b[0m\n\u001b[0;32m----> 2\u001b[0;31m \u001b[0munchangable_tensor\u001b[0m\u001b[0;34m[\u001b[0m\u001b[0;36m0\u001b[0m\u001b[0;34m]\u001b[0m\u001b[0;34m.\u001b[0m\u001b[0massign\u001b[0m\u001b[0;34m(\u001b[0m\u001b[0;36m1\u001b[0m\u001b[0;34m)\u001b[0m\u001b[0;34m\u001b[0m\u001b[0;34m\u001b[0m\u001b[0m\n\u001b[0m",
            "\u001b[0;31mAttributeError\u001b[0m: 'tensorflow.python.framework.ops.EagerTensor' object has no attribute 'assign'"
          ]
        }
      ]
    },
    {
      "cell_type": "markdown",
      "metadata": {
        "id": "_1UEua3pZdAt"
      },
      "source": [
        "***Note***: *Rarely in practice we will need to decide whether to use `tf.constant` OR `tf.Variable` to create tensors, as tensorflow does this for you. However, if in doubt, use `tf.consant` and change it later on if needed.* "
      ]
    },
    {
      "cell_type": "markdown",
      "metadata": {
        "id": "JJhFNHujZAJJ"
      },
      "source": [
        "### Creating a Random Tensors\n",
        " \n",
        "Random tensors are tensors of some arbitary size which contain random numbers. "
      ]
    },
    {
      "cell_type": "code",
      "metadata": {
        "colab": {
          "base_uri": "https://localhost:8080/"
        },
        "id": "F389m7n1agCn",
        "outputId": "49d618ec-7b61-46ea-b318-6ee9ab05770b"
      },
      "source": [
        "# Create a two random (but the same) tensors\n",
        "random_1 = tf.random.Generator.from_seed(42) # set the seed for reproducibility \n",
        "random_1 = random_1.normal(shape=(3,2))\n",
        "random_2 = tf.random.Generator.from_seed(42)\n",
        "random_2 = random_2.normal(shape=(3, 2))\n",
        "\n",
        "# Are they equal?\n",
        "random_1, random_2, random_1 == random_2"
      ],
      "execution_count": null,
      "outputs": [
        {
          "output_type": "execute_result",
          "data": {
            "text/plain": [
              "(<tf.Tensor: shape=(3, 2), dtype=float32, numpy=\n",
              " array([[-0.7565803 , -0.06854702],\n",
              "        [ 0.07595026, -1.2573844 ],\n",
              "        [-0.23193763, -1.8107855 ]], dtype=float32)>,\n",
              " <tf.Tensor: shape=(3, 2), dtype=float32, numpy=\n",
              " array([[-0.7565803 , -0.06854702],\n",
              "        [ 0.07595026, -1.2573844 ],\n",
              "        [-0.23193763, -1.8107855 ]], dtype=float32)>,\n",
              " <tf.Tensor: shape=(3, 2), dtype=bool, numpy=\n",
              " array([[ True,  True],\n",
              "        [ True,  True],\n",
              "        [ True,  True]])>)"
            ]
          },
          "metadata": {
            "tags": []
          },
          "execution_count": 107
        }
      ]
    },
    {
      "cell_type": "markdown",
      "metadata": {
        "id": "WVzaYsa5bkf8"
      },
      "source": [
        " ### Shuffle the ordere of elements in a tensor\n",
        " "
      ]
    },
    {
      "cell_type": "code",
      "metadata": {
        "colab": {
          "base_uri": "https://localhost:8080/"
        },
        "id": "CUwwE7dNeE1Y",
        "outputId": "94af0f16-40bf-4558-8f59-7f292136bed6"
      },
      "source": [
        "# Shuffle a tensor (valuable for when u want to shuffle ur data inherent order dosen't effects learning)\n",
        "not_shuffeled = tf.constant([[1, 2],\n",
        "                             [2 ,3],\n",
        "                             [4, 5]])\n",
        "not_shuffeled.ndim\n",
        "\n",
        "# Shuffle a non-shuffled tensor\n",
        "tf.random.shuffle(not_shuffeled)"
      ],
      "execution_count": null,
      "outputs": [
        {
          "output_type": "execute_result",
          "data": {
            "text/plain": [
              "<tf.Tensor: shape=(3, 2), dtype=int32, numpy=\n",
              "array([[2, 3],\n",
              "       [4, 5],\n",
              "       [1, 2]], dtype=int32)>"
            ]
          },
          "metadata": {
            "tags": []
          },
          "execution_count": 108
        }
      ]
    },
    {
      "cell_type": "code",
      "metadata": {
        "colab": {
          "base_uri": "https://localhost:8080/"
        },
        "id": "n870AIKWfZJ-",
        "outputId": "d2f21ddf-d78b-427a-de54-5d71c22099a1"
      },
      "source": [
        "tf.random.shuffle(not_shuffeled)"
      ],
      "execution_count": null,
      "outputs": [
        {
          "output_type": "execute_result",
          "data": {
            "text/plain": [
              "<tf.Tensor: shape=(3, 2), dtype=int32, numpy=\n",
              "array([[2, 3],\n",
              "       [1, 2],\n",
              "       [4, 5]], dtype=int32)>"
            ]
          },
          "metadata": {
            "tags": []
          },
          "execution_count": 109
        }
      ]
    },
    {
      "cell_type": "code",
      "metadata": {
        "colab": {
          "base_uri": "https://localhost:8080/"
        },
        "id": "qvtecTDqfbro",
        "outputId": "9cf96055-19b4-40fd-f0b7-502064dc21df"
      },
      "source": [
        "\n",
        "tf.random.shuffle(not_shuffeled, seed=42)"
      ],
      "execution_count": null,
      "outputs": [
        {
          "output_type": "execute_result",
          "data": {
            "text/plain": [
              "<tf.Tensor: shape=(3, 2), dtype=int32, numpy=\n",
              "array([[4, 5],\n",
              "       [1, 2],\n",
              "       [2, 3]], dtype=int32)>"
            ]
          },
          "metadata": {
            "tags": []
          },
          "execution_count": 110
        }
      ]
    },
    {
      "cell_type": "code",
      "metadata": {
        "colab": {
          "base_uri": "https://localhost:8080/"
        },
        "id": "WI4keDG6izTp",
        "outputId": "b7084cee-fe1a-4451-be71-0d6bf4545744"
      },
      "source": [
        "tf.random.set_seed(42)\n",
        "tf.random.shuffle(not_shuffeled, seed=42)"
      ],
      "execution_count": null,
      "outputs": [
        {
          "output_type": "execute_result",
          "data": {
            "text/plain": [
              "<tf.Tensor: shape=(3, 2), dtype=int32, numpy=\n",
              "array([[1, 2],\n",
              "       [2, 3],\n",
              "       [4, 5]], dtype=int32)>"
            ]
          },
          "metadata": {
            "tags": []
          },
          "execution_count": 111
        }
      ]
    },
    {
      "cell_type": "code",
      "metadata": {
        "colab": {
          "base_uri": "https://localhost:8080/"
        },
        "id": "lUgo_cUHee6c",
        "outputId": "f49566fb-040b-422b-94a8-a5d9ce11cca8"
      },
      "source": [
        "not_shuffeled"
      ],
      "execution_count": null,
      "outputs": [
        {
          "output_type": "execute_result",
          "data": {
            "text/plain": [
              "<tf.Tensor: shape=(3, 2), dtype=int32, numpy=\n",
              "array([[1, 2],\n",
              "       [2, 3],\n",
              "       [4, 5]], dtype=int32)>"
            ]
          },
          "metadata": {
            "tags": []
          },
          "execution_count": 112
        }
      ]
    },
    {
      "cell_type": "markdown",
      "metadata": {
        "id": "hzX-wmtUgpIi"
      },
      "source": [
        "**Exercise:** Read through the TensorFlow documentation on random seed generation: https://www.tensorflow.org/api_docs/python/tf/random/set_seed and pracatise writing 5 random tensors and shuffle them. "
      ]
    },
    {
      "cell_type": "code",
      "metadata": {
        "colab": {
          "base_uri": "https://localhost:8080/"
        },
        "id": "11gLvY3ujN7i",
        "outputId": "6a2bd738-3a05-4bf2-ccb3-d7ac891bc72c"
      },
      "source": [
        "random_3 = tf.random.Generator.from_seed(42)\n",
        "random_3 = random_3.normal(shape=(5,2))\n",
        "random_3"
      ],
      "execution_count": null,
      "outputs": [
        {
          "output_type": "execute_result",
          "data": {
            "text/plain": [
              "<tf.Tensor: shape=(5, 2), dtype=float32, numpy=\n",
              "array([[-0.7565803 , -0.06854702],\n",
              "       [ 0.07595026, -1.2573844 ],\n",
              "       [-0.23193763, -1.8107855 ],\n",
              "       [ 0.09988727, -0.50998646],\n",
              "       [-0.7535805 , -0.57166284]], dtype=float32)>"
            ]
          },
          "metadata": {
            "tags": []
          },
          "execution_count": 117
        }
      ]
    },
    {
      "cell_type": "code",
      "metadata": {
        "id": "W9jOKhGkejTX",
        "colab": {
          "base_uri": "https://localhost:8080/"
        },
        "outputId": "d174c069-c319-4eed-e37a-56d6d602d094"
      },
      "source": [
        "tf.random.shuffle(random_3)"
      ],
      "execution_count": null,
      "outputs": [
        {
          "output_type": "execute_result",
          "data": {
            "text/plain": [
              "<tf.Tensor: shape=(5, 2), dtype=float32, numpy=\n",
              "array([[-0.23193763, -1.8107855 ],\n",
              "       [-0.7565803 , -0.06854702],\n",
              "       [-0.7535805 , -0.57166284],\n",
              "       [ 0.09988727, -0.50998646],\n",
              "       [ 0.07595026, -1.2573844 ]], dtype=float32)>"
            ]
          },
          "metadata": {
            "tags": []
          },
          "execution_count": 118
        }
      ]
    },
    {
      "cell_type": "code",
      "metadata": {
        "colab": {
          "base_uri": "https://localhost:8080/"
        },
        "id": "WHXrq-9Ekkr1",
        "outputId": "98aeb426-b6fa-4833-da68-c6415fae6776"
      },
      "source": [
        "tf.random.shuffle(random_3, seed=21)"
      ],
      "execution_count": null,
      "outputs": [
        {
          "output_type": "execute_result",
          "data": {
            "text/plain": [
              "<tf.Tensor: shape=(5, 2), dtype=float32, numpy=\n",
              "array([[-0.7565803 , -0.06854702],\n",
              "       [-0.23193763, -1.8107855 ],\n",
              "       [ 0.09988727, -0.50998646],\n",
              "       [-0.7535805 , -0.57166284],\n",
              "       [ 0.07595026, -1.2573844 ]], dtype=float32)>"
            ]
          },
          "metadata": {
            "tags": []
          },
          "execution_count": 124
        }
      ]
    },
    {
      "cell_type": "code",
      "metadata": {
        "colab": {
          "base_uri": "https://localhost:8080/"
        },
        "id": "M-_Pp9w9kraE",
        "outputId": "197e804f-7178-41e5-8c62-95338f7da567"
      },
      "source": [
        "tf.random.set_seed(21)\n",
        "tf.random.shuffle(random_3, seed=21)"
      ],
      "execution_count": null,
      "outputs": [
        {
          "output_type": "execute_result",
          "data": {
            "text/plain": [
              "<tf.Tensor: shape=(5, 2), dtype=float32, numpy=\n",
              "array([[ 0.09988727, -0.50998646],\n",
              "       [-0.7535805 , -0.57166284],\n",
              "       [ 0.07595026, -1.2573844 ],\n",
              "       [-0.7565803 , -0.06854702],\n",
              "       [-0.23193763, -1.8107855 ]], dtype=float32)>"
            ]
          },
          "metadata": {
            "tags": []
          },
          "execution_count": 146
        }
      ]
    },
    {
      "cell_type": "code",
      "metadata": {
        "colab": {
          "base_uri": "https://localhost:8080/"
        },
        "id": "s9vGWjzplArD",
        "outputId": "b1e2c129-4cbe-4243-a42b-13d3709cbde4"
      },
      "source": [
        "tf.random.set_seed(21)\n",
        "tf.random.shuffle(random_3)"
      ],
      "execution_count": null,
      "outputs": [
        {
          "output_type": "execute_result",
          "data": {
            "text/plain": [
              "<tf.Tensor: shape=(5, 2), dtype=float32, numpy=\n",
              "array([[ 0.07595026, -1.2573844 ],\n",
              "       [-0.7565803 , -0.06854702],\n",
              "       [ 0.09988727, -0.50998646],\n",
              "       [-0.7535805 , -0.57166284],\n",
              "       [-0.23193763, -1.8107855 ]], dtype=float32)>"
            ]
          },
          "metadata": {
            "tags": []
          },
          "execution_count": 145
        }
      ]
    },
    {
      "cell_type": "code",
      "metadata": {
        "colab": {
          "base_uri": "https://localhost:8080/"
        },
        "id": "1GNzoggJlU44",
        "outputId": "4bd0dc27-bb4a-42dc-bb50-05e7ec101f08"
      },
      "source": [
        "tf.random.set_seed(22)\n",
        "tf.random.shuffle(random_3)"
      ],
      "execution_count": null,
      "outputs": [
        {
          "output_type": "execute_result",
          "data": {
            "text/plain": [
              "<tf.Tensor: shape=(5, 2), dtype=float32, numpy=\n",
              "array([[-0.7565803 , -0.06854702],\n",
              "       [ 0.07595026, -1.2573844 ],\n",
              "       [-0.23193763, -1.8107855 ],\n",
              "       [-0.7535805 , -0.57166284],\n",
              "       [ 0.09988727, -0.50998646]], dtype=float32)>"
            ]
          },
          "metadata": {
            "tags": []
          },
          "execution_count": 148
        }
      ]
    },
    {
      "cell_type": "markdown",
      "metadata": {
        "id": "EKDbwxZVhLLL"
      },
      "source": [
        ""
      ]
    }
  ]
}