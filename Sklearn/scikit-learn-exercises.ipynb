{
  "cells": [
    {
      "cell_type": "markdown",
      "metadata": {
        "id": "view-in-github",
        "colab_type": "text"
      },
      "source": [
        "<a href=\"https://colab.research.google.com/github/kunalburgul/MLDS_Learning/blob/master/Sklearn/scikit-learn-exercises.ipynb\" target=\"_parent\"><img src=\"https://colab.research.google.com/assets/colab-badge.svg\" alt=\"Open In Colab\"/></a>"
      ]
    },
    {
      "cell_type": "markdown",
      "metadata": {
        "id": "DSIZvRCupw6k"
      },
      "source": [
        "# Scikit-Learn Practice Exercises\n",
        "\n",
        "This notebook offers a set of excercises for different tasks with Scikit-Learn.\n",
        "\n",
        "Notes:\n",
        "* There may be more than one different way to answer a question or complete an exercise. \n",
        "* Some skeleton code has been implemented for you.\n",
        "* Exercises are based off (and directly taken from) the quick [introduction to Scikit-Learn notebook](https://github.com/mrdbourke/zero-to-mastery-ml/blob/master/section-2-data-science-and-ml-tools/introduction-to-scikit-learn.ipynb).\n",
        "* Different tasks will be detailed by comments or text. Places to put your own code are defined by `###` (don't remove anything other than `###`).\n",
        "\n",
        "For further reference and resources, it's advised to check out the [Scikit-Learn documnetation](https://scikit-learn.org/stable/user_guide.html).\n",
        "\n",
        "And if you get stuck, try searching for a question in the following format: \"how to do XYZ with Scikit-Learn\", where XYZ is the function you want to leverage from Scikit-Learn.\n",
        "\n",
        "Since we'll be working with data, we'll import Scikit-Learn's counterparts, Matplotlib, NumPy and pandas.\n",
        "\n",
        "Let's get started."
      ]
    },
    {
      "cell_type": "code",
      "execution_count": 4,
      "metadata": {
        "id": "Tf1Fazc6pw6p"
      },
      "outputs": [],
      "source": [
        "# Setup matplotlib to plot inline (within the notebook)\n",
        "%matplotlib inline\n",
        "\n",
        "# Import the pyplot module of Matplotlib as plt\n",
        "import matplotlib.pyplot as plt\n",
        "\n",
        "# Import pandas under the abbreviation 'pd'\n",
        "import pandas as pd\n",
        "\n",
        "# Import NumPy under the abbreviation 'np'\n",
        "import numpy as np"
      ]
    },
    {
      "cell_type": "markdown",
      "metadata": {
        "id": "Tj5KxZcTpw6q"
      },
      "source": [
        "## End-to-end Scikit-Learn classification workflow\n",
        "\n",
        "Let's start with an end to end Scikit-Learn workflow.\n",
        "\n",
        "More specifically, we'll:\n",
        "1. Get a dataset ready\n",
        "2. Prepare a machine learning model to make predictions\n",
        "3. Fit the model to the data and make a prediction\n",
        "4. Evaluate the model's predictions \n",
        "\n",
        "The data we'll be using is [stored on GitHub](https://github.com/mrdbourke/zero-to-mastery-ml/tree/master/data). We'll start with [`heart-disease.csv`](https://raw.githubusercontent.com/mrdbourke/zero-to-mastery-ml/master/data/heart-disease.csv), a dataset which contains anonymous patient data and whether or not they have heart disease.\n",
        "\n",
        "**Note:** When viewing a `.csv` on GitHub, make sure it's in the raw format. For example, the URL should look like: https://raw.githubusercontent.com/mrdbourke/zero-to-mastery-ml/master/data/heart-disease.csv\n",
        "\n",
        "### 1. Getting a dataset ready"
      ]
    },
    {
      "cell_type": "code",
      "execution_count": 6,
      "metadata": {
        "id": "osqtD1d4pw6r",
        "outputId": "14220195-31de-40bf-866f-840a625321a6",
        "colab": {
          "base_uri": "https://localhost:8080/",
          "height": 206
        }
      },
      "outputs": [
        {
          "output_type": "execute_result",
          "data": {
            "text/plain": [
              "   age  sex  cp  trestbps  chol  fbs  restecg  thalach  exang  oldpeak  slope  \\\n",
              "0   63    1   3       145   233    1        0      150      0      2.3      0   \n",
              "1   37    1   2       130   250    0        1      187      0      3.5      0   \n",
              "2   41    0   1       130   204    0        0      172      0      1.4      2   \n",
              "3   56    1   1       120   236    0        1      178      0      0.8      2   \n",
              "4   57    0   0       120   354    0        1      163      1      0.6      2   \n",
              "\n",
              "   ca  thal  target  \n",
              "0   0     1       1  \n",
              "1   0     2       1  \n",
              "2   0     2       1  \n",
              "3   0     2       1  \n",
              "4   0     2       1  "
            ],
            "text/html": [
              "\n",
              "  <div id=\"df-538171e9-b241-4816-b2ff-2b9636ff8dd2\">\n",
              "    <div class=\"colab-df-container\">\n",
              "      <div>\n",
              "<style scoped>\n",
              "    .dataframe tbody tr th:only-of-type {\n",
              "        vertical-align: middle;\n",
              "    }\n",
              "\n",
              "    .dataframe tbody tr th {\n",
              "        vertical-align: top;\n",
              "    }\n",
              "\n",
              "    .dataframe thead th {\n",
              "        text-align: right;\n",
              "    }\n",
              "</style>\n",
              "<table border=\"1\" class=\"dataframe\">\n",
              "  <thead>\n",
              "    <tr style=\"text-align: right;\">\n",
              "      <th></th>\n",
              "      <th>age</th>\n",
              "      <th>sex</th>\n",
              "      <th>cp</th>\n",
              "      <th>trestbps</th>\n",
              "      <th>chol</th>\n",
              "      <th>fbs</th>\n",
              "      <th>restecg</th>\n",
              "      <th>thalach</th>\n",
              "      <th>exang</th>\n",
              "      <th>oldpeak</th>\n",
              "      <th>slope</th>\n",
              "      <th>ca</th>\n",
              "      <th>thal</th>\n",
              "      <th>target</th>\n",
              "    </tr>\n",
              "  </thead>\n",
              "  <tbody>\n",
              "    <tr>\n",
              "      <th>0</th>\n",
              "      <td>63</td>\n",
              "      <td>1</td>\n",
              "      <td>3</td>\n",
              "      <td>145</td>\n",
              "      <td>233</td>\n",
              "      <td>1</td>\n",
              "      <td>0</td>\n",
              "      <td>150</td>\n",
              "      <td>0</td>\n",
              "      <td>2.3</td>\n",
              "      <td>0</td>\n",
              "      <td>0</td>\n",
              "      <td>1</td>\n",
              "      <td>1</td>\n",
              "    </tr>\n",
              "    <tr>\n",
              "      <th>1</th>\n",
              "      <td>37</td>\n",
              "      <td>1</td>\n",
              "      <td>2</td>\n",
              "      <td>130</td>\n",
              "      <td>250</td>\n",
              "      <td>0</td>\n",
              "      <td>1</td>\n",
              "      <td>187</td>\n",
              "      <td>0</td>\n",
              "      <td>3.5</td>\n",
              "      <td>0</td>\n",
              "      <td>0</td>\n",
              "      <td>2</td>\n",
              "      <td>1</td>\n",
              "    </tr>\n",
              "    <tr>\n",
              "      <th>2</th>\n",
              "      <td>41</td>\n",
              "      <td>0</td>\n",
              "      <td>1</td>\n",
              "      <td>130</td>\n",
              "      <td>204</td>\n",
              "      <td>0</td>\n",
              "      <td>0</td>\n",
              "      <td>172</td>\n",
              "      <td>0</td>\n",
              "      <td>1.4</td>\n",
              "      <td>2</td>\n",
              "      <td>0</td>\n",
              "      <td>2</td>\n",
              "      <td>1</td>\n",
              "    </tr>\n",
              "    <tr>\n",
              "      <th>3</th>\n",
              "      <td>56</td>\n",
              "      <td>1</td>\n",
              "      <td>1</td>\n",
              "      <td>120</td>\n",
              "      <td>236</td>\n",
              "      <td>0</td>\n",
              "      <td>1</td>\n",
              "      <td>178</td>\n",
              "      <td>0</td>\n",
              "      <td>0.8</td>\n",
              "      <td>2</td>\n",
              "      <td>0</td>\n",
              "      <td>2</td>\n",
              "      <td>1</td>\n",
              "    </tr>\n",
              "    <tr>\n",
              "      <th>4</th>\n",
              "      <td>57</td>\n",
              "      <td>0</td>\n",
              "      <td>0</td>\n",
              "      <td>120</td>\n",
              "      <td>354</td>\n",
              "      <td>0</td>\n",
              "      <td>1</td>\n",
              "      <td>163</td>\n",
              "      <td>1</td>\n",
              "      <td>0.6</td>\n",
              "      <td>2</td>\n",
              "      <td>0</td>\n",
              "      <td>2</td>\n",
              "      <td>1</td>\n",
              "    </tr>\n",
              "  </tbody>\n",
              "</table>\n",
              "</div>\n",
              "      <button class=\"colab-df-convert\" onclick=\"convertToInteractive('df-538171e9-b241-4816-b2ff-2b9636ff8dd2')\"\n",
              "              title=\"Convert this dataframe to an interactive table.\"\n",
              "              style=\"display:none;\">\n",
              "        \n",
              "  <svg xmlns=\"http://www.w3.org/2000/svg\" height=\"24px\"viewBox=\"0 0 24 24\"\n",
              "       width=\"24px\">\n",
              "    <path d=\"M0 0h24v24H0V0z\" fill=\"none\"/>\n",
              "    <path d=\"M18.56 5.44l.94 2.06.94-2.06 2.06-.94-2.06-.94-.94-2.06-.94 2.06-2.06.94zm-11 1L8.5 8.5l.94-2.06 2.06-.94-2.06-.94L8.5 2.5l-.94 2.06-2.06.94zm10 10l.94 2.06.94-2.06 2.06-.94-2.06-.94-.94-2.06-.94 2.06-2.06.94z\"/><path d=\"M17.41 7.96l-1.37-1.37c-.4-.4-.92-.59-1.43-.59-.52 0-1.04.2-1.43.59L10.3 9.45l-7.72 7.72c-.78.78-.78 2.05 0 2.83L4 21.41c.39.39.9.59 1.41.59.51 0 1.02-.2 1.41-.59l7.78-7.78 2.81-2.81c.8-.78.8-2.07 0-2.86zM5.41 20L4 18.59l7.72-7.72 1.47 1.35L5.41 20z\"/>\n",
              "  </svg>\n",
              "      </button>\n",
              "      \n",
              "  <style>\n",
              "    .colab-df-container {\n",
              "      display:flex;\n",
              "      flex-wrap:wrap;\n",
              "      gap: 12px;\n",
              "    }\n",
              "\n",
              "    .colab-df-convert {\n",
              "      background-color: #E8F0FE;\n",
              "      border: none;\n",
              "      border-radius: 50%;\n",
              "      cursor: pointer;\n",
              "      display: none;\n",
              "      fill: #1967D2;\n",
              "      height: 32px;\n",
              "      padding: 0 0 0 0;\n",
              "      width: 32px;\n",
              "    }\n",
              "\n",
              "    .colab-df-convert:hover {\n",
              "      background-color: #E2EBFA;\n",
              "      box-shadow: 0px 1px 2px rgba(60, 64, 67, 0.3), 0px 1px 3px 1px rgba(60, 64, 67, 0.15);\n",
              "      fill: #174EA6;\n",
              "    }\n",
              "\n",
              "    [theme=dark] .colab-df-convert {\n",
              "      background-color: #3B4455;\n",
              "      fill: #D2E3FC;\n",
              "    }\n",
              "\n",
              "    [theme=dark] .colab-df-convert:hover {\n",
              "      background-color: #434B5C;\n",
              "      box-shadow: 0px 1px 3px 1px rgba(0, 0, 0, 0.15);\n",
              "      filter: drop-shadow(0px 1px 2px rgba(0, 0, 0, 0.3));\n",
              "      fill: #FFFFFF;\n",
              "    }\n",
              "  </style>\n",
              "\n",
              "      <script>\n",
              "        const buttonEl =\n",
              "          document.querySelector('#df-538171e9-b241-4816-b2ff-2b9636ff8dd2 button.colab-df-convert');\n",
              "        buttonEl.style.display =\n",
              "          google.colab.kernel.accessAllowed ? 'block' : 'none';\n",
              "\n",
              "        async function convertToInteractive(key) {\n",
              "          const element = document.querySelector('#df-538171e9-b241-4816-b2ff-2b9636ff8dd2');\n",
              "          const dataTable =\n",
              "            await google.colab.kernel.invokeFunction('convertToInteractive',\n",
              "                                                     [key], {});\n",
              "          if (!dataTable) return;\n",
              "\n",
              "          const docLinkHtml = 'Like what you see? Visit the ' +\n",
              "            '<a target=\"_blank\" href=https://colab.research.google.com/notebooks/data_table.ipynb>data table notebook</a>'\n",
              "            + ' to learn more about interactive tables.';\n",
              "          element.innerHTML = '';\n",
              "          dataTable['output_type'] = 'display_data';\n",
              "          await google.colab.output.renderOutput(dataTable, element);\n",
              "          const docLink = document.createElement('div');\n",
              "          docLink.innerHTML = docLinkHtml;\n",
              "          element.appendChild(docLink);\n",
              "        }\n",
              "      </script>\n",
              "    </div>\n",
              "  </div>\n",
              "  "
            ]
          },
          "metadata": {},
          "execution_count": 6
        }
      ],
      "source": [
        "# Import the heart disease dataset and save it to a variable\n",
        "# using pandas and read_csv()\n",
        "# Hint: You can directly pass the URL of a csv to read_csv()\n",
        "heart_disease = pd.read_csv('https://raw.githubusercontent.com/mrdbourke/zero-to-mastery-ml/master/data/heart-disease.csv')\n",
        "\n",
        "# Check the first 5 rows of the data\n",
        "heart_disease.head()"
      ]
    },
    {
      "cell_type": "markdown",
      "metadata": {
        "id": "-q7GuzeUpw6r"
      },
      "source": [
        "Our goal here is to build a machine learning model on all of the columns except `target` to predict `target`.\n",
        "\n",
        "In essence, the `target` column is our **target variable** (also called `y` or `labels`) and the rest of the other columns are our independent variables (also called `data` or `X`).\n",
        "\n",
        "And since our target variable is one thing or another (heart disease or not), we know our problem is a classification problem (classifying whether something is one thing or another).\n",
        "\n",
        "Knowing this, let's create `X` and `y` by splitting our dataframe up."
      ]
    },
    {
      "cell_type": "code",
      "execution_count": 7,
      "metadata": {
        "id": "NVycxJlgpw6s"
      },
      "outputs": [],
      "source": [
        "# Create X (all columns except target)\n",
        "X = heart_disease.drop('target', axis=1)\n",
        "\n",
        "# Create y (only the target column)\n",
        "y = heart_disease['target']"
      ]
    },
    {
      "cell_type": "markdown",
      "metadata": {
        "id": "lba832EHpw6t"
      },
      "source": [
        "Now we've split our data into `X` and `y`, we'll use Scikit-Learn to split it into training and test sets."
      ]
    },
    {
      "cell_type": "code",
      "execution_count": 9,
      "metadata": {
        "id": "Her3rWjtpw6t"
      },
      "outputs": [],
      "source": [
        "# Import train_test_split from sklearn's model_selection module\n",
        "from sklearn.model_selection import train_test_split\n",
        "\n",
        "# Use train_test_split to split X & y into training and test sets\n",
        "X_train, X_test, y_train, y_test = train_test_split(X, y, test_size=0.2)"
      ]
    },
    {
      "cell_type": "code",
      "execution_count": 12,
      "metadata": {
        "id": "XlJlD4xJpw6u",
        "outputId": "7a50b028-5917-465d-8007-56a998142eeb",
        "colab": {
          "base_uri": "https://localhost:8080/"
        }
      },
      "outputs": [
        {
          "output_type": "stream",
          "name": "stdout",
          "text": [
            "Training data:  (242, 13) (242,)\n",
            "Test data:  (61, 13) (61,)\n"
          ]
        }
      ],
      "source": [
        "# View the different shapes of the training and test datasets\n",
        "print(\"Training data: \", X_train.shape, y_train.shape) \n",
        "print(\"Test data: \",X_test.shape, y_test.shape)"
      ]
    },
    {
      "cell_type": "markdown",
      "metadata": {
        "id": "KbeRWSljpw6u"
      },
      "source": [
        "What do you notice about the different shapes of the data?\n",
        "\n",
        "Since our data is now in training and test sets, we'll build a machine learning model to fit patterns in the training data and then make predictions on the test data.\n",
        "\n",
        "To figure out which machine learning model we should use, you can refer to [Scikit-Learn's machine learning map](https://scikit-learn.org/stable/tutorial/machine_learning_map/index.html).\n",
        "\n",
        "After following the map, you decide to use the [`RandomForestClassifier`](https://scikit-learn.org/stable/modules/generated/sklearn.ensemble.RandomForestClassifier.html).\n",
        "\n",
        "### 2. Preparing a machine learning model"
      ]
    },
    {
      "cell_type": "code",
      "execution_count": 13,
      "metadata": {
        "id": "Zx0xT8jxpw6v"
      },
      "outputs": [],
      "source": [
        "# Import the RandomForestClassifier from sklearn's ensemble module\n",
        "from sklearn.ensemble import RandomForestClassifier\n",
        "\n",
        "# Instantiate an instance of RandomForestClassifier as clf\n",
        "clf = RandomForestClassifier()"
      ]
    },
    {
      "cell_type": "markdown",
      "metadata": {
        "id": "OKT9Q9lHpw6v"
      },
      "source": [
        "Now you've got a `RandomForestClassifier` instance, let's fit it to the training data.\n",
        "\n",
        "Once it's fit, we'll make predictions on the test data.\n",
        "\n",
        "### 3. Fitting a model and making predictions"
      ]
    },
    {
      "cell_type": "code",
      "execution_count": 15,
      "metadata": {
        "id": "7TWYAZ15pw6w",
        "outputId": "62b7f642-59e8-49b7-8642-2fc48e8f1f41",
        "colab": {
          "base_uri": "https://localhost:8080/"
        }
      },
      "outputs": [
        {
          "output_type": "execute_result",
          "data": {
            "text/plain": [
              "RandomForestClassifier()"
            ]
          },
          "metadata": {},
          "execution_count": 15
        }
      ],
      "source": [
        "# Fit the RandomForestClassifier to the training data\n",
        "clf.fit(X_train, y_train)"
      ]
    },
    {
      "cell_type": "code",
      "execution_count": 16,
      "metadata": {
        "id": "9HnO_f39pw6w"
      },
      "outputs": [],
      "source": [
        "# Use the fitted model to make predictions on the test data and\n",
        "# save the predictions to a variable called y_preds\n",
        "y_preds = clf.predict(X_test)"
      ]
    },
    {
      "cell_type": "markdown",
      "metadata": {
        "id": "Yt1M-6urpw6w"
      },
      "source": [
        "### 4. Evaluating a model's predictions\n",
        "\n",
        "Evaluating predictions is as important making them. Let's check how our model did by calling the `score()` method on it and passing it the training (`X_train, y_train`) and testing data (`X_test, y_test`)."
      ]
    },
    {
      "cell_type": "code",
      "execution_count": 17,
      "metadata": {
        "id": "5YMd1n_-pw6x",
        "outputId": "a18cc015-e36f-4eb0-8ba6-80f19387e661",
        "colab": {
          "base_uri": "https://localhost:8080/"
        }
      },
      "outputs": [
        {
          "output_type": "execute_result",
          "data": {
            "text/plain": [
              "1.0"
            ]
          },
          "metadata": {},
          "execution_count": 17
        }
      ],
      "source": [
        "# Evaluate the fitted model on the training set using the score() function\n",
        "clf.score(X_train, y_train)"
      ]
    },
    {
      "cell_type": "code",
      "execution_count": 18,
      "metadata": {
        "id": "epwRgqPzpw6x",
        "outputId": "514fa3c9-f7a5-4fd4-a2ae-eff2ad409804",
        "colab": {
          "base_uri": "https://localhost:8080/"
        }
      },
      "outputs": [
        {
          "output_type": "execute_result",
          "data": {
            "text/plain": [
              "0.7704918032786885"
            ]
          },
          "metadata": {},
          "execution_count": 18
        }
      ],
      "source": [
        "# Evaluate the fitted model on the test set using the score() function\n",
        "clf.score(X_test, y_test)"
      ]
    },
    {
      "cell_type": "markdown",
      "metadata": {
        "id": "g5aLKXXdpw6x"
      },
      "source": [
        "* How did you model go? \n",
        "* What metric does `score()` return for classifiers? \n",
        "* Did your model do better on the training dataset or test dataset?"
      ]
    },
    {
      "cell_type": "markdown",
      "metadata": {
        "id": "28snRhHmpw6y"
      },
      "source": [
        "## Experimenting with different classification models\n",
        "\n",
        "Now we've quickly covered an end-to-end Scikit-Learn workflow and since experimenting is a large part of machine learning, we'll now try a series of different machine learning models and see which gets the best results on our dataset.\n",
        "\n",
        "Going through the [Scikit-Learn machine learning map](https://scikit-learn.org/stable/tutorial/machine_learning_map/index.html), we see there are a number of different classification models we can try (different models are in the green boxes).\n",
        "\n",
        "For this exercise, the models we're going to try and compare are:\n",
        "* [LinearSVC](https://scikit-learn.org/stable/modules/svm.html#classification)\n",
        "* [KNeighborsClassifier](https://scikit-learn.org/stable/modules/neighbors.html) (also known as K-Nearest Neighbors or KNN)\n",
        "* [SVC](https://scikit-learn.org/stable/modules/svm.html#classification) (also known as support vector classifier, a form of [support vector machine](https://en.wikipedia.org/wiki/Support-vector_machine))\n",
        "* [LogisticRegression](https://scikit-learn.org/stable/modules/generated/sklearn.linear_model.LogisticRegression.html) (despite the name, this is actually a classifier)\n",
        "* [RandomForestClassifier](https://scikit-learn.org/stable/modules/generated/sklearn.ensemble.RandomForestClassifier.html) (an ensemble method and what we used above)\n",
        "\n",
        "We'll follow the same workflow we used above (except this time for multiple models):\n",
        "1. Import a machine learning model\n",
        "2. Get it ready\n",
        "3. Fit it to the data and make predictions\n",
        "4. Evaluate the fitted model\n",
        "\n",
        "**Note:** Since we've already got the data ready, we can reuse it in this section."
      ]
    },
    {
      "cell_type": "code",
      "execution_count": 19,
      "metadata": {
        "id": "reccfiCspw6y"
      },
      "outputs": [],
      "source": [
        "# Import LinearSVC from sklearn's svm module\n",
        "from sklearn.svm import LinearSVC\n",
        "\n",
        "# Import KNeighborsClassifier from sklearn's neighbors module\n",
        "from sklearn.neighbors import KNeighborsClassifier\n",
        "\n",
        "# Import SVC from sklearn's svm module\n",
        "from sklearn.svm import SVC\n",
        "\n",
        "# Import LogisticRegression from sklearn's linear_model module\n",
        "from sklearn.linear_model import LogisticRegression\n",
        "\n",
        "# Note: we don't have to import RandomForestClassifier, since we already have"
      ]
    },
    {
      "cell_type": "markdown",
      "metadata": {
        "id": "CUXRbs5fpw6y"
      },
      "source": [
        "Thanks to the consistency of Scikit-Learn's API design, we can use virtually the same code to fit, score and make predictions with each of our models.\n",
        "\n",
        "To see which model performs best, we'll do the following:\n",
        "1. Instantiate each model in a dictionary\n",
        "2. Create an empty results dictionary\n",
        "3. Fit each model on the training data\n",
        "4. Score each model on the test data\n",
        "5. Check the results\n",
        "\n",
        "If you're wondering what it means to instantiate each model in a dictionary, see the example below."
      ]
    },
    {
      "cell_type": "code",
      "execution_count": 26,
      "metadata": {
        "id": "kt0q65IJpw6y"
      },
      "outputs": [],
      "source": [
        "from re import S\n",
        "# EXAMPLE: Instantiating a RandomForestClassifier() in a dictionary\n",
        "example_dict = {\"RandomForestClassifier\": RandomForestClassifier()}\n",
        "\n",
        "# Create a dictionary called models which contains all of the classification models we've imported\n",
        "# Make sure the dictionary is in the same format as example_dict\n",
        "# The models dictionary should contain 5 models\n",
        "models = {\"LinearSVC\":LinearSVC(),\n",
        "          \"KNN\": KNeighborsClassifier(),\n",
        "          \"SVC\": SVC(),\n",
        "          \"LogisticRegression\": LogisticRegression(),\n",
        "          \"RandomForestClassifier\": RandomForestClassifier()}\n",
        "\n",
        "# Create an empty dictionary called results\n",
        "results = {}"
      ]
    },
    {
      "cell_type": "markdown",
      "metadata": {
        "id": "s40xAcUYpw6z"
      },
      "source": [
        "Since each model we're using has the same `fit()` and `score()` functions, we can loop through our models dictionary and, call `fit()` on the training data and then call `score()` with the test data."
      ]
    },
    {
      "cell_type": "code",
      "execution_count": 27,
      "metadata": {
        "id": "eiGjrJMhpw6z",
        "outputId": "2b910303-179a-4dff-e18f-7940e81d953b",
        "colab": {
          "base_uri": "https://localhost:8080/"
        }
      },
      "outputs": [
        {
          "output_type": "execute_result",
          "data": {
            "text/plain": [
              "{'RandomForestClassifier': 0.7377049180327869}"
            ]
          },
          "metadata": {},
          "execution_count": 27
        }
      ],
      "source": [
        "# EXAMPLE: Looping through example_dict fitting and scoring the model\n",
        "example_results = {}\n",
        "for model_name, model in example_dict.items():\n",
        "    model.fit(X_train, y_train)\n",
        "    example_results[model_name] = model.score(X_test, y_test)\n",
        "\n",
        "# EXAMPLE: View the results\n",
        "example_results    "
      ]
    },
    {
      "cell_type": "code",
      "execution_count": 28,
      "metadata": {
        "id": "pqseDc0spw6z",
        "outputId": "a85c5346-0bc8-49ad-f4eb-f8ebdad5198c",
        "colab": {
          "base_uri": "https://localhost:8080/"
        }
      },
      "outputs": [
        {
          "output_type": "stream",
          "name": "stderr",
          "text": [
            "/usr/local/lib/python3.7/dist-packages/sklearn/svm/_base.py:1208: ConvergenceWarning: Liblinear failed to converge, increase the number of iterations.\n",
            "  ConvergenceWarning,\n",
            "/usr/local/lib/python3.7/dist-packages/sklearn/linear_model/_logistic.py:818: ConvergenceWarning: lbfgs failed to converge (status=1):\n",
            "STOP: TOTAL NO. of ITERATIONS REACHED LIMIT.\n",
            "\n",
            "Increase the number of iterations (max_iter) or scale the data as shown in:\n",
            "    https://scikit-learn.org/stable/modules/preprocessing.html\n",
            "Please also refer to the documentation for alternative solver options:\n",
            "    https://scikit-learn.org/stable/modules/linear_model.html#logistic-regression\n",
            "  extra_warning_msg=_LOGISTIC_SOLVER_CONVERGENCE_MSG,\n"
          ]
        },
        {
          "output_type": "execute_result",
          "data": {
            "text/plain": [
              "{'KNN': 0.639344262295082,\n",
              " 'LinearSVC': 0.819672131147541,\n",
              " 'LogisticRegression': 0.8688524590163934,\n",
              " 'RandomForestClassifier': 0.7868852459016393,\n",
              " 'SVC': 0.6557377049180327}"
            ]
          },
          "metadata": {},
          "execution_count": 28
        }
      ],
      "source": [
        "# Loop through the models dictionary items, fitting the model on the training data\n",
        "# and appending the model name and model score on the test data to the results dictionary\n",
        "for model_name, model in models.items():\n",
        "    model.fit(X_train, y_train)\n",
        "    results[model_name] = model.score(X_test, y_test)\n",
        "\n",
        "# View the results\n",
        "results"
      ]
    },
    {
      "cell_type": "markdown",
      "metadata": {
        "id": "ep0mRdippw6z"
      },
      "source": [
        "* Which model performed the best? \n",
        "* Do the results change each time you run the cell? \n",
        "* Why do you think this is?\n",
        "\n",
        "Due to the randomness of how each model finds patterns in the data, you might notice different results each time.\n",
        "\n",
        "Without manually setting the random state using the `random_state` parameter of some models or using a NumPy random seed, every time you run the cell, you'll get slightly different results.\n",
        "\n",
        "Let's see this in effect by running the same code as the cell above, except this time setting a [NumPy random seed equal to 42](https://docs.scipy.org/doc/numpy-1.15.1/reference/generated/numpy.random.seed.html)."
      ]
    },
    {
      "cell_type": "code",
      "execution_count": 30,
      "metadata": {
        "id": "Tr7_c03tpw60",
        "outputId": "d7b20021-b71e-4522-c290-d48598d8a2a4",
        "colab": {
          "base_uri": "https://localhost:8080/"
        }
      },
      "outputs": [
        {
          "output_type": "stream",
          "name": "stderr",
          "text": [
            "/usr/local/lib/python3.7/dist-packages/sklearn/svm/_base.py:1208: ConvergenceWarning: Liblinear failed to converge, increase the number of iterations.\n",
            "  ConvergenceWarning,\n",
            "/usr/local/lib/python3.7/dist-packages/sklearn/linear_model/_logistic.py:818: ConvergenceWarning: lbfgs failed to converge (status=1):\n",
            "STOP: TOTAL NO. of ITERATIONS REACHED LIMIT.\n",
            "\n",
            "Increase the number of iterations (max_iter) or scale the data as shown in:\n",
            "    https://scikit-learn.org/stable/modules/preprocessing.html\n",
            "Please also refer to the documentation for alternative solver options:\n",
            "    https://scikit-learn.org/stable/modules/linear_model.html#logistic-regression\n",
            "  extra_warning_msg=_LOGISTIC_SOLVER_CONVERGENCE_MSG,\n"
          ]
        },
        {
          "output_type": "execute_result",
          "data": {
            "text/plain": [
              "{'KNN': 0.639344262295082,\n",
              " 'LinearSVC': 0.8688524590163934,\n",
              " 'LogisticRegression': 0.8688524590163934,\n",
              " 'RandomForestClassifier': 0.8032786885245902,\n",
              " 'SVC': 0.6557377049180327}"
            ]
          },
          "metadata": {},
          "execution_count": 30
        }
      ],
      "source": [
        "# Run the same code as the cell above, except this time set a NumPy random seed\n",
        "# equal to 42\n",
        "np.random.seed(42)\n",
        "\n",
        "for model_name, model in models.items():\n",
        "    model.fit(X_train, y_train)\n",
        "    results[model_name] = model.score(X_test, y_test)\n",
        "    \n",
        "results"
      ]
    },
    {
      "cell_type": "markdown",
      "metadata": {
        "id": "A-yTT7eEpw60"
      },
      "source": [
        "* Run the cell above a few times, what do you notice about the results? \n",
        "* Which model performs the best this time?\n",
        "* What happens if you add a NumPy random seed to the cell where you called `train_test_split()` (towards the top of the notebook) and then rerun the cell above?\n",
        "\n",
        "Let's make our results a little more visual."
      ]
    },
    {
      "cell_type": "code",
      "execution_count": 31,
      "metadata": {
        "id": "qxNATV7Epw60",
        "outputId": "01a22272-a390-404d-c044-a6b65e174948",
        "colab": {
          "base_uri": "https://localhost:8080/",
          "height": 390
        }
      },
      "outputs": [
        {
          "output_type": "execute_result",
          "data": {
            "text/plain": [
              "<matplotlib.axes._subplots.AxesSubplot at 0x7f021c906410>"
            ]
          },
          "metadata": {},
          "execution_count": 31
        },
        {
          "output_type": "display_data",
          "data": {
            "text/plain": [
              "<Figure size 432x288 with 1 Axes>"
            ],
            "image/png": "[encoded data removed]"
          },
          "metadata": {
            "needs_background": "light"
          }
        }
      ],
      "source": [
        "# Create a pandas dataframe with the data as the values of the results dictionary,\n",
        "# the index as the keys of the results dictionary and a single column called accuracy.\n",
        "# Be sure to save the dataframe to a variable.\n",
        "results_df = pd.DataFrame(results.values(), \n",
        "                          results.keys(), \n",
        "                          columns=['Accuracy'])\n",
        "\n",
        "# Create a bar plot of the results dataframe using plot.bar()\n",
        "results_df.plot.bar()"
      ]
    },
    {
      "cell_type": "markdown",
      "metadata": {
        "id": "jn3fh8fppw60"
      },
      "source": [
        "Using `np.random.seed(42)` results in the `LogisticRegression` model perfoming the best (at least on my computer).\n",
        "\n",
        "Let's tune its hyperparameters and see if we can improve it.\n",
        "\n",
        "### Hyperparameter Tuning\n",
        "\n",
        "Remember, if you're ever trying to tune a machine learning models hyperparameters and you're not sure where to start, you can always search something like \"MODEL_NAME hyperparameter tuning\".\n",
        "\n",
        "In the case of LogisticRegression, you might come across articles, such as [Hyperparameter Tuning Using Grid Search by Chris Albon](https://chrisalbon.com/machine_learning/model_selection/hyperparameter_tuning_using_grid_search/).\n",
        "\n",
        "The article uses [`GridSearchCV`](https://scikit-learn.org/stable/modules/generated/sklearn.model_selection.GridSearchCV.html) but we're going to be using [`RandomizedSearchCV`](https://scikit-learn.org/stable/modules/generated/sklearn.model_selection.RandomizedSearchCV.html).\n",
        "\n",
        "The different hyperparameters to search over have been setup for you in `log_reg_grid` but feel free to change them."
      ]
    },
    {
      "cell_type": "code",
      "execution_count": 37,
      "metadata": {
        "id": "7M3EA5O5pw60"
      },
      "outputs": [],
      "source": [
        "# Different LogisticRegression hyperparameters\n",
        "log_reg_grid = {\"C\": np.logspace(-4, 4, 20),\n",
        "                \"solver\": [\"liblinear\"]}"
      ]
    },
    {
      "cell_type": "markdown",
      "metadata": {
        "id": "IwF_A2ubpw61"
      },
      "source": [
        "Since we've got a set of hyperparameters we can import `RandomizedSearchCV`, pass it our dictionary of hyperparameters and let it search for the best combination."
      ]
    },
    {
      "cell_type": "code",
      "execution_count": 39,
      "metadata": {
        "id": "YuwrDEzVpw61",
        "outputId": "bdf1e5ba-7591-44bf-fdc0-e611fd02a664",
        "colab": {
          "base_uri": "https://localhost:8080/"
        }
      },
      "outputs": [
        {
          "output_type": "stream",
          "name": "stdout",
          "text": [
            "Fitting 5 folds for each of 5 candidates, totalling 25 fits\n",
            "[CV] END .........................C=0.0001, solver=liblinear; total time=   0.0s\n",
            "[CV] END .........................C=0.0001, solver=liblinear; total time=   0.0s\n",
            "[CV] END .........................C=0.0001, solver=liblinear; total time=   0.0s\n",
            "[CV] END .........................C=0.0001, solver=liblinear; total time=   0.0s\n",
            "[CV] END .........................C=0.0001, solver=liblinear; total time=   0.0s\n",
            "[CV] END ...............C=1438.44988828766, solver=liblinear; total time=   0.0s\n",
            "[CV] END ...............C=1438.44988828766, solver=liblinear; total time=   0.0s\n",
            "[CV] END ...............C=1438.44988828766, solver=liblinear; total time=   0.0s\n",
            "[CV] END ...............C=1438.44988828766, solver=liblinear; total time=   0.0s\n",
            "[CV] END ...............C=1438.44988828766, solver=liblinear; total time=   0.0s\n",
            "[CV] END ...............C=206.913808111479, solver=liblinear; total time=   0.0s\n",
            "[CV] END ...............C=206.913808111479, solver=liblinear; total time=   0.0s\n",
            "[CV] END ...............C=206.913808111479, solver=liblinear; total time=   0.0s\n",
            "[CV] END ...............C=206.913808111479, solver=liblinear; total time=   0.0s\n",
            "[CV] END ...............C=206.913808111479, solver=liblinear; total time=   0.0s\n",
            "[CV] END .........C=0.00026366508987303583, solver=liblinear; total time=   0.0s\n",
            "[CV] END .........C=0.00026366508987303583, solver=liblinear; total time=   0.0s\n",
            "[CV] END .........C=0.00026366508987303583, solver=liblinear; total time=   0.0s\n",
            "[CV] END .........C=0.00026366508987303583, solver=liblinear; total time=   0.0s\n",
            "[CV] END .........C=0.00026366508987303583, solver=liblinear; total time=   0.0s\n",
            "[CV] END ............C=0.23357214690901212, solver=liblinear; total time=   0.0s\n",
            "[CV] END ............C=0.23357214690901212, solver=liblinear; total time=   0.0s\n",
            "[CV] END ............C=0.23357214690901212, solver=liblinear; total time=   0.0s\n",
            "[CV] END ............C=0.23357214690901212, solver=liblinear; total time=   0.0s\n",
            "[CV] END ............C=0.23357214690901212, solver=liblinear; total time=   0.0s\n"
          ]
        }
      ],
      "source": [
        "# Setup np random seed of 42\n",
        "np.random.seed(42)\n",
        "\n",
        "# Import RandomizedSearchCV from sklearn's model_selection module\n",
        "from sklearn.model_selection import RandomizedSearchCV \n",
        "\n",
        "# Setup an instance of RandomizedSearchCV with a LogisticRegression() estimator,\n",
        "# our log_reg_grid as the param_distributions, a cv of 5 and n_iter of 5.\n",
        "rs_log_reg = RandomizedSearchCV(estimator=LogisticRegression(),\n",
        "                                param_distributions=log_reg_grid,\n",
        "                                cv=5,\n",
        "                                n_iter=5,\n",
        "                                verbose=2)\n",
        "\n",
        "# Fit the instance of RandomizedSearchCV\n",
        "rs_log_reg.fit(X_train, y_train);"
      ]
    },
    {
      "cell_type": "markdown",
      "metadata": {
        "id": "SQIWiNCPpw61"
      },
      "source": [
        "Once `RandomizedSearchCV` has finished, we can find the best hyperparmeters it found using the `best_params_` attributes."
      ]
    },
    {
      "cell_type": "code",
      "execution_count": 40,
      "metadata": {
        "id": "2d11Xybgpw61",
        "outputId": "cfe3331c-28e3-4ed5-f2a3-86d3b3dbc901",
        "colab": {
          "base_uri": "https://localhost:8080/"
        }
      },
      "outputs": [
        {
          "output_type": "execute_result",
          "data": {
            "text/plain": [
              "{'C': 1438.44988828766, 'solver': 'liblinear'}"
            ]
          },
          "metadata": {},
          "execution_count": 40
        }
      ],
      "source": [
        "# Find the best parameters of the RandomizedSearchCV instance using the best_params_ attribute\n",
        "rs_log_reg.best_params_"
      ]
    },
    {
      "cell_type": "code",
      "execution_count": 41,
      "metadata": {
        "id": "kx3ErDpXpw61",
        "outputId": "953c260f-8c2f-4e56-c8bf-d4b73a774f62",
        "colab": {
          "base_uri": "https://localhost:8080/"
        }
      },
      "outputs": [
        {
          "output_type": "execute_result",
          "data": {
            "text/plain": [
              "0.8524590163934426"
            ]
          },
          "metadata": {},
          "execution_count": 41
        }
      ],
      "source": [
        "# Score the instance of RandomizedSearchCV using the test data\n",
        "rs_log_reg.score(X_test, y_test)"
      ]
    },
    {
      "cell_type": "markdown",
      "metadata": {
        "id": "021SL9qPpw62"
      },
      "source": [
        "After hyperparameter tuning, did the models score improve? What else could you try to improve it? Are there any other methods of hyperparameter tuning you can find for `LogisticRegression`?\n",
        "\n",
        "### Classifier Model Evaluation\n",
        "\n",
        "We've tried to find the best hyperparameters on our model using `RandomizedSearchCV` and so far we've only been evaluating our model using the `score()` function which returns accuracy. \n",
        "\n",
        "But when it comes to classification, you'll likely want to use a few more evaluation metrics, including:\n",
        "* [**Confusion matrix**](https://www.dataschool.io/simple-guide-to-confusion-matrix-terminology/) - Compares the predicted values with the true values in a tabular way, if 100% correct, all values in the matrix will be top left to bottom right (diagnol line).\n",
        "* [**Cross-validation**](https://scikit-learn.org/stable/modules/cross_validation.html) - Splits your dataset into multiple parts and train and tests your model on each part and evaluates performance as an average. \n",
        "* [**Precision**](https://scikit-learn.org/stable/modules/generated/sklearn.metrics.precision_score.html#sklearn.metrics.precision_score) - Proportion of true positives over total number of samples. Higher precision leads to less false positives.\n",
        "* [**Recall**](https://scikit-learn.org/stable/modules/generated/sklearn.metrics.recall_score.html#sklearn.metrics.recall_score) - Proportion of true positives over total number of true positives and false positives. Higher recall leads to less false negatives.\n",
        "* [**F1 score**](https://scikit-learn.org/stable/modules/generated/sklearn.metrics.f1_score.html#sklearn.metrics.f1_score) - Combines precision and recall into one metric. 1 is best, 0 is worst.\n",
        "* [**Classification report**](https://scikit-learn.org/stable/modules/generated/sklearn.metrics.classification_report.html) - Sklearn has a built-in function called `classification_report()` which returns some of the main classification metrics such as precision, recall and f1-score.\n",
        "* [**ROC Curve**](https://scikit-learn.org/stable/modules/generated/sklearn.metrics.roc_score.html) - [Receiver Operating Characterisitc](https://en.wikipedia.org/wiki/Receiver_operating_characteristic) is a plot of true positive rate versus false positive rate.\n",
        "* [**Area Under Curve (AUC)**](https://scikit-learn.org/stable/modules/generated/sklearn.metrics.roc_auc_score.html) - The area underneath the ROC curve. A perfect model achieves a score of 1.0.\n",
        "\n",
        "Before we get to these, we'll instantiate a new instance of our model using the best hyerparameters found by `RandomizedSearchCV`. "
      ]
    },
    {
      "cell_type": "code",
      "execution_count": 43,
      "metadata": {
        "id": "dGgTCVYCpw62",
        "outputId": "b1c9a49a-5320-4a82-a663-ebede30a7bf8",
        "colab": {
          "base_uri": "https://localhost:8080/"
        }
      },
      "outputs": [
        {
          "output_type": "execute_result",
          "data": {
            "text/plain": [
              "LogisticRegression(C=1438.44988828766, solver='liblinear')"
            ]
          },
          "metadata": {},
          "execution_count": 43
        }
      ],
      "source": [
        "# Instantiate a LogisticRegression classifier using the best hyperparameters from RandomizedSearchCV\n",
        "clf = LogisticRegression(C= 1438.44988828766, solver='liblinear')\n",
        "\n",
        "# Fit the new instance of LogisticRegression with the best hyperparameters on the training data \n",
        "clf.fit(X_train, y_train)"
      ]
    },
    {
      "cell_type": "markdown",
      "metadata": {
        "id": "GIllfkeCpw62"
      },
      "source": [
        "Now it's to import the relative Scikit-Learn methods for each of the classification evaluation metrics we're after."
      ]
    },
    {
      "cell_type": "code",
      "execution_count": 44,
      "metadata": {
        "id": "6dWQwm3Zpw62"
      },
      "outputs": [],
      "source": [
        "# Import confusion_matrix and classification_report from sklearn's metrics module\n",
        "from sklearn.metrics import confusion_matrix, classification_report\n",
        "\n",
        "# Import precision_score, recall_score and f1_score from sklearn's metrics module\n",
        "from sklearn.metrics import precision_score, recall_score, f1_score\n",
        "\n",
        "# Import plot_roc_curve from sklearn's metrics module\n",
        "from sklearn.metrics import plot_roc_curve"
      ]
    },
    {
      "cell_type": "markdown",
      "metadata": {
        "id": "KcbbCO_Zpw62"
      },
      "source": [
        "Evaluation metrics are very often comparing a model's predictions to some ground truth labels.\n",
        "\n",
        "Let's make some predictions on the test data using our latest model and save them to `y_preds`."
      ]
    },
    {
      "cell_type": "code",
      "execution_count": 45,
      "metadata": {
        "id": "A59n4YRnpw62"
      },
      "outputs": [],
      "source": [
        "# Make predictions on test data and save them\n",
        "y_pred = clf.predict(X_test)"
      ]
    },
    {
      "cell_type": "markdown",
      "metadata": {
        "id": "iBWuR6Dtpw63"
      },
      "source": [
        "Time to use the predictions our model has made to evaluate it beyond accuracy."
      ]
    },
    {
      "cell_type": "code",
      "execution_count": 46,
      "metadata": {
        "id": "0CcUHVxbpw63",
        "outputId": "6c0894e1-868c-41b6-9881-27c08dd25e1f",
        "colab": {
          "base_uri": "https://localhost:8080/"
        }
      },
      "outputs": [
        {
          "output_type": "execute_result",
          "data": {
            "text/plain": [
              "array([[19,  3],\n",
              "       [ 6, 33]])"
            ]
          },
          "metadata": {},
          "execution_count": 46
        }
      ],
      "source": [
        "from sklearn.metrics._plot.confusion_matrix import plot_confusion_matrix\n",
        "# Create a confusion matrix using the confusion_matrix function\n",
        "confusion_matrix(y_test, y_pred)"
      ]
    },
    {
      "cell_type": "markdown",
      "metadata": {
        "id": "UaSCDgjEpw63"
      },
      "source": [
        "**Challenge:** The in-built `confusion_matrix` function in Scikit-Learn produces something not too visual, how could you make your confusion matrix more visual?\n",
        "\n",
        "You might want to search something like \"how to plot a confusion matrix\". Note: There may be more than one way to do this."
      ]
    },
    {
      "cell_type": "code",
      "execution_count": 47,
      "metadata": {
        "id": "W14pjKACpw63",
        "outputId": "0a436227-7b4e-4737-a7a4-49965161fd5a",
        "colab": {
          "base_uri": "https://localhost:8080/",
          "height": 351
        }
      },
      "outputs": [
        {
          "output_type": "stream",
          "name": "stderr",
          "text": [
            "/usr/local/lib/python3.7/dist-packages/sklearn/utils/deprecation.py:87: FutureWarning: Function plot_confusion_matrix is deprecated; Function `plot_confusion_matrix` is deprecated in 1.0 and will be removed in 1.2. Use one of the class methods: ConfusionMatrixDisplay.from_predictions or ConfusionMatrixDisplay.from_estimator.\n",
            "  warnings.warn(msg, category=FutureWarning)\n"
          ]
        },
        {
          "output_type": "execute_result",
          "data": {
            "text/plain": [
              "<sklearn.metrics._plot.confusion_matrix.ConfusionMatrixDisplay at 0x7f021c068490>"
            ]
          },
          "metadata": {},
          "execution_count": 47
        },
        {
          "output_type": "display_data",
          "data": {
            "text/plain": [
              "<Figure size 432x288 with 2 Axes>"
            ],
            "image/png": "[encoded data removed]"
          },
          "metadata": {
            "needs_background": "light"
          }
        }
      ],
      "source": [
        "# Create a more visual confusion matrix\n",
        "plot_confusion_matrix(clf, X_test, y_test)"
      ]
    },
    {
      "cell_type": "markdown",
      "metadata": {
        "id": "94Kp1HkLpw63"
      },
      "source": [
        "How about a classification report?"
      ]
    },
    {
      "cell_type": "code",
      "execution_count": 48,
      "metadata": {
        "id": "UNIkvRNfpw63",
        "outputId": "b5d85ffc-5bc2-4f6f-ef00-98d64508c9dd",
        "colab": {
          "base_uri": "https://localhost:8080/"
        }
      },
      "outputs": [
        {
          "output_type": "stream",
          "name": "stdout",
          "text": [
            "              precision    recall  f1-score   support\n",
            "\n",
            "           0       0.76      0.86      0.81        22\n",
            "           1       0.92      0.85      0.88        39\n",
            "\n",
            "    accuracy                           0.85        61\n",
            "   macro avg       0.84      0.85      0.84        61\n",
            "weighted avg       0.86      0.85      0.85        61\n",
            "\n"
          ]
        }
      ],
      "source": [
        "# Create a classification report using the classification_report function\n",
        "print(classification_report(y_test, y_pred))"
      ]
    },
    {
      "cell_type": "markdown",
      "metadata": {
        "id": "lcidw5zOpw64"
      },
      "source": [
        "**Challenge:** Write down what each of the columns in this classification report are.\n",
        "\n",
        "* **Precision** - Indicates the proportion of positive identifications (model predicted class 1) which were actually correct. A model which produces no false positives has a precision of 1.0.\n",
        "* **Recall** - Indicates the proportion of actual positives which were correctly classified. A model which produces no false negatives has a recall of 1.0.\n",
        "* **F1 score** - A combination of precision and recall. A perfect model achieves an F1 score of 1.0.\n",
        "* **Support** - The number of samples each metric was calculated on.\n",
        "* **Accuracy** - The accuracy of the model in decimal form. Perfect accuracy is equal to 1.0.\n",
        "* **Macro avg** - Short for macro average, the average precision, recall and F1 score between classes. Macro avg doesn’t class imbalance into effort, so if you do have class imbalances, pay attention to this metric.\n",
        "* **Weighted avg** - Short for weighted average, the weighted average precision, recall and F1 score between classes. Weighted means each metric is calculated with respect to how many samples there are in each class. This metric will favour the majority class (e.g. will give a high value when one class out performs another due to having more samples).\n",
        "\n",
        "The classification report gives us a range of values for precision, recall and F1 score, time to find these metrics using Scikit-Learn functions."
      ]
    },
    {
      "cell_type": "code",
      "execution_count": 49,
      "metadata": {
        "id": "KEjbK6oLpw64",
        "outputId": "06328720-a0e3-481c-f9ed-4fd630c038b1",
        "colab": {
          "base_uri": "https://localhost:8080/"
        }
      },
      "outputs": [
        {
          "output_type": "execute_result",
          "data": {
            "text/plain": [
              "0.9166666666666666"
            ]
          },
          "metadata": {},
          "execution_count": 49
        }
      ],
      "source": [
        "# Find the precision score of the model using precision_score()\n",
        "precision_score(y_test, y_pred)"
      ]
    },
    {
      "cell_type": "code",
      "execution_count": 50,
      "metadata": {
        "id": "D6Ticzpvpw64",
        "outputId": "233c31e1-9189-40d7-8145-94cd4b71c444",
        "colab": {
          "base_uri": "https://localhost:8080/"
        }
      },
      "outputs": [
        {
          "output_type": "execute_result",
          "data": {
            "text/plain": [
              "0.8461538461538461"
            ]
          },
          "metadata": {},
          "execution_count": 50
        }
      ],
      "source": [
        "# Find the recall score\n",
        "recall_score(y_test, y_pred)"
      ]
    },
    {
      "cell_type": "code",
      "execution_count": 51,
      "metadata": {
        "id": "Z7EznQFtpw64",
        "outputId": "3407844f-836b-4a47-fde6-84460908a5c8",
        "colab": {
          "base_uri": "https://localhost:8080/"
        }
      },
      "outputs": [
        {
          "output_type": "execute_result",
          "data": {
            "text/plain": [
              "0.8799999999999999"
            ]
          },
          "metadata": {},
          "execution_count": 51
        }
      ],
      "source": [
        "# Find the F1 score\n",
        "f1_score(y_test, y_pred)"
      ]
    },
    {
      "cell_type": "markdown",
      "metadata": {
        "id": "t1MEXL5Epw64"
      },
      "source": [
        "Confusion matrix: done.\n",
        "Classification report: done.\n",
        "ROC (receiver operator characteristic) curve & AUC (area under curve) score: not done.\n",
        "\n",
        "Let's fix this.\n",
        "\n",
        "If you're unfamiliar with what a ROC curve, that's your first challenge, to read up on what one is.\n",
        "\n",
        "In a sentence, a [ROC curve](https://en.wikipedia.org/wiki/Receiver_operating_characteristic) is a plot of the true positive rate versus the false positive rate.\n",
        "\n",
        "And the AUC score is the area behind the ROC curve.\n",
        "\n",
        "Scikit-Learn provides a handy function for creating both of these called [`plot_roc_curve()`](https://scikit-learn.org/stable/modules/generated/sklearn.metrics.plot_roc_curve.html)."
      ]
    },
    {
      "cell_type": "code",
      "execution_count": 52,
      "metadata": {
        "id": "hi2Pm4cSpw65",
        "outputId": "60123f17-7b39-45da-84e2-3b5c2b163626",
        "colab": {
          "base_uri": "https://localhost:8080/",
          "height": 351
        }
      },
      "outputs": [
        {
          "output_type": "stream",
          "name": "stderr",
          "text": [
            "/usr/local/lib/python3.7/dist-packages/sklearn/utils/deprecation.py:87: FutureWarning: Function plot_roc_curve is deprecated; Function :func:`plot_roc_curve` is deprecated in 1.0 and will be removed in 1.2. Use one of the class methods: :meth:`sklearn.metric.RocCurveDisplay.from_predictions` or :meth:`sklearn.metric.RocCurveDisplay.from_estimator`.\n",
            "  warnings.warn(msg, category=FutureWarning)\n"
          ]
        },
        {
          "output_type": "execute_result",
          "data": {
            "text/plain": [
              "<sklearn.metrics._plot.roc_curve.RocCurveDisplay at 0x7f021bf55c50>"
            ]
          },
          "metadata": {},
          "execution_count": 52
        },
        {
          "output_type": "display_data",
          "data": {
            "text/plain": [
              "<Figure size 432x288 with 1 Axes>"
            ],
            "image/png": "[encoded data removed]"
          },
          "metadata": {
            "needs_background": "light"
          }
        }
      ],
      "source": [
        "# Plot a ROC curve using our current machine learning model using plot_roc_curve\n",
        "plot_roc_curve(clf, X_test, y_test)"
      ]
    },
    {
      "cell_type": "markdown",
      "metadata": {
        "id": "RDi0Okohpw65"
      },
      "source": [
        "Beautiful! We've gone far beyond accuracy with a plethora extra classification evaluation metrics.\n",
        "\n",
        "If you're not sure about any of these, don't worry, they can take a while to understand. That could be an optional extension, reading up on a classification metric you're not sure of.\n",
        "\n",
        "The thing to note here is all of these metrics have been calculated using a single training set and a single test set. Whilst this is okay, a more robust way is to calculate them using [cross-validation](https://scikit-learn.org/stable/modules/cross_validation.html).\n",
        "\n",
        "We can calculate various evaluation metrics using cross-validation using Scikit-Learn's [`cross_val_score()`](https://scikit-learn.org/stable/modules/generated/sklearn.model_selection.cross_val_score.html) function along with the `scoring` parameter."
      ]
    },
    {
      "cell_type": "code",
      "execution_count": 53,
      "metadata": {
        "id": "hv09GyUPpw65"
      },
      "outputs": [],
      "source": [
        "# Import cross_val_score from sklearn's model_selection module\n",
        "from sklearn.model_selection import cross_val_score"
      ]
    },
    {
      "cell_type": "code",
      "execution_count": 54,
      "metadata": {
        "id": "1adVewLcpw65",
        "outputId": "020f6727-84b1-4d3a-ced6-db8df5d4fc6f",
        "colab": {
          "base_uri": "https://localhost:8080/"
        }
      },
      "outputs": [
        {
          "output_type": "execute_result",
          "data": {
            "text/plain": [
              "array([0.80327869, 0.8852459 , 0.81967213, 0.86666667, 0.76666667])"
            ]
          },
          "metadata": {},
          "execution_count": 54
        }
      ],
      "source": [
        "# EXAMPLE: By default cross_val_score returns 5 values (cv=5).\n",
        "cross_val_score(clf, \n",
        "                X, \n",
        "                y, \n",
        "                scoring=\"accuracy\",\n",
        "                cv=5)"
      ]
    },
    {
      "cell_type": "code",
      "execution_count": 55,
      "metadata": {
        "id": "AXBHoWFMpw65",
        "outputId": "a2f305ad-7d64-4596-8d75-bb47f9580e1e",
        "colab": {
          "base_uri": "https://localhost:8080/"
        }
      },
      "outputs": [
        {
          "output_type": "execute_result",
          "data": {
            "text/plain": [
              "0.8283060109289618"
            ]
          },
          "metadata": {},
          "execution_count": 55
        }
      ],
      "source": [
        "# EXAMPLE: Taking the mean of the returned values from cross_val_score \n",
        "# gives a cross-validated version of the scoring metric.\n",
        "cross_val_acc = np.mean(cross_val_score(clf,\n",
        "                                        X,\n",
        "                                        y,\n",
        "                                        scoring=\"accuracy\",\n",
        "                                        cv=5))\n",
        "\n",
        "cross_val_acc"
      ]
    },
    {
      "cell_type": "markdown",
      "metadata": {
        "id": "A2coOYQwpw65"
      },
      "source": [
        "In the examples, the cross-validated accuracy is found by taking the mean of the array returned by `cross_val_score()`.\n",
        "\n",
        "Now it's time to find the same for precision, recall and F1 score."
      ]
    },
    {
      "cell_type": "code",
      "execution_count": 56,
      "metadata": {
        "id": "F0CEYxtmpw65",
        "outputId": "81ae98bc-511b-4c41-8044-d482be984a2e",
        "colab": {
          "base_uri": "https://localhost:8080/"
        }
      },
      "outputs": [
        {
          "output_type": "execute_result",
          "data": {
            "text/plain": [
              "0.8230422730422731"
            ]
          },
          "metadata": {},
          "execution_count": 56
        }
      ],
      "source": [
        "from pandas.core.dtypes.cast import convert_scalar_for_putitemlike\n",
        "# Find the cross-validated precision\n",
        "cross_val_precision = np.mean(cross_val_score(clf,\n",
        "                                        X,\n",
        "                                        y,\n",
        "                                        scoring=\"precision\",\n",
        "                                        cv=5))\n",
        "\n",
        "cross_val_precision"
      ]
    },
    {
      "cell_type": "code",
      "execution_count": 57,
      "metadata": {
        "id": "mMA2pobTpw66",
        "outputId": "a5d85054-3655-4fca-c519-c883771b5d20",
        "colab": {
          "base_uri": "https://localhost:8080/"
        }
      },
      "outputs": [
        {
          "output_type": "execute_result",
          "data": {
            "text/plain": [
              "0.8787878787878787"
            ]
          },
          "metadata": {},
          "execution_count": 57
        }
      ],
      "source": [
        "# Find the cross-validated recall\n",
        "from pandas.core.dtypes.cast import convert_scalar_for_putitemlike\n",
        "# Find the cross-validated precision\n",
        "cross_val_recall = np.mean(cross_val_score(clf,\n",
        "                                        X,\n",
        "                                        y,\n",
        "                                        scoring=\"recall\",\n",
        "                                        cv=5))\n",
        "\n",
        "cross_val_recall"
      ]
    },
    {
      "cell_type": "code",
      "execution_count": 60,
      "metadata": {
        "id": "mWNVoBnEpw66",
        "outputId": "b3155605-c1ed-4e0f-aaae-9daeb21b2d4f",
        "colab": {
          "base_uri": "https://localhost:8080/"
        }
      },
      "outputs": [
        {
          "output_type": "execute_result",
          "data": {
            "text/plain": [
              "0.8485836385836386"
            ]
          },
          "metadata": {},
          "execution_count": 60
        }
      ],
      "source": [
        "# Find the cross-validated F1 score\n",
        "from pandas.core.dtypes.cast import convert_scalar_for_putitemlike\n",
        "# Find the cross-validated precision\n",
        "cross_val_f1 = np.mean(cross_val_score(clf,\n",
        "                                        X,\n",
        "                                        y,\n",
        "                                        scoring=\"f1\",\n",
        "                                        cv=5))\n",
        "\n",
        "cross_val_f1"
      ]
    },
    {
      "cell_type": "markdown",
      "metadata": {
        "id": "XonRnPAJpw66"
      },
      "source": [
        "### Exporting and importing a trained model\n",
        "\n",
        "Once you've trained a model, you may want to export it and save it to file so you can share it or use it elsewhere.\n",
        "\n",
        "One method of exporting and importing models is using the joblib library.\n",
        "\n",
        "In Scikit-Learn, exporting and importing a trained model is known as [model persistence](https://scikit-learn.org/stable/modules/model_persistence.html)."
      ]
    },
    {
      "cell_type": "code",
      "execution_count": 62,
      "metadata": {
        "id": "JhBiOOH-pw66"
      },
      "outputs": [],
      "source": [
        "# Import the dump and load functions from the joblib library\n",
        "from joblib import dump, load"
      ]
    },
    {
      "cell_type": "code",
      "execution_count": 63,
      "metadata": {
        "id": "y3Gm_clbpw66",
        "outputId": "13848fe2-c289-4709-d82a-e4d2dbb51852",
        "colab": {
          "base_uri": "https://localhost:8080/"
        }
      },
      "outputs": [
        {
          "output_type": "execute_result",
          "data": {
            "text/plain": [
              "['trained-classifier.joblib']"
            ]
          },
          "metadata": {},
          "execution_count": 63
        }
      ],
      "source": [
        "# Use the dump function to export the trained model to file\n",
        "dump(clf, \"trained-classifier.joblib\")"
      ]
    },
    {
      "cell_type": "code",
      "execution_count": 64,
      "metadata": {
        "id": "FJYq7Cr-pw66",
        "outputId": "412a11ee-5521-48bd-b2d6-e92ed693366a",
        "colab": {
          "base_uri": "https://localhost:8080/"
        }
      },
      "outputs": [
        {
          "output_type": "execute_result",
          "data": {
            "text/plain": [
              "0.8524590163934426"
            ]
          },
          "metadata": {},
          "execution_count": 64
        }
      ],
      "source": [
        "# Use the load function to import the trained model you just exported\n",
        "# Save it to a different variable name to the origial trained model\n",
        "loaded_clf = load(\"trained-classifier.joblib\")\n",
        "\n",
        "# Evaluate the loaded trained model on the test data\n",
        "loaded_clf.score(X_test, y_test)"
      ]
    },
    {
      "cell_type": "markdown",
      "metadata": {
        "id": "TpZGAypEpw66"
      },
      "source": [
        "What do you notice about the loaded trained model results versus the original (pre-exported) model results?\n",
        "\n",
        "\n",
        "## Scikit-Learn Regression Practice\n",
        "\n",
        "For the next few exercises, we're going to be working on a regression problem, in other words, using some data to predict a number.\n",
        "\n",
        "Our dataset is a [table of car sales](https://docs.google.com/spreadsheets/d/1LPEIWJdSSJYrfn-P3UQDIXbEn5gg-o6I7ExLrWTTBWs/edit?usp=sharing), containing different car characteristics as well as a sale price.\n",
        "\n",
        "We'll use Scikit-Learn's built-in regression machine learning models to try and learn the patterns in the car characteristics and their prices on a certain group of the dataset before trying to predict the sale price of a group of cars the model has never seen before.\n",
        "\n",
        "To begin, we'll [import the data from GitHub](https://raw.githubusercontent.com/mrdbourke/zero-to-mastery-ml/master/data/car-sales-extended-missing-data.csv) into a pandas DataFrame, check out some details about it and try to build a model as soon as possible."
      ]
    },
    {
      "cell_type": "code",
      "execution_count": 66,
      "metadata": {
        "id": "9GthCVgjpw67",
        "outputId": "92f59bb0-df07-4903-a4e2-9b2f2ae13585",
        "colab": {
          "base_uri": "https://localhost:8080/",
          "height": 206
        }
      },
      "outputs": [
        {
          "output_type": "execute_result",
          "data": {
            "text/plain": [
              "     Make Colour  Odometer (KM)  Doors    Price\n",
              "0   Honda  White        35431.0    4.0  15323.0\n",
              "1     BMW   Blue       192714.0    5.0  19943.0\n",
              "2   Honda  White        84714.0    4.0  28343.0\n",
              "3  Toyota  White       154365.0    4.0  13434.0\n",
              "4  Nissan   Blue       181577.0    3.0  14043.0"
            ],
            "text/html": [
              "\n",
              "  <div id=\"df-3643c504-761c-4118-a37f-a22b6c00852c\">\n",
              "    <div class=\"colab-df-container\">\n",
              "      <div>\n",
              "<style scoped>\n",
              "    .dataframe tbody tr th:only-of-type {\n",
              "        vertical-align: middle;\n",
              "    }\n",
              "\n",
              "    .dataframe tbody tr th {\n",
              "        vertical-align: top;\n",
              "    }\n",
              "\n",
              "    .dataframe thead th {\n",
              "        text-align: right;\n",
              "    }\n",
              "</style>\n",
              "<table border=\"1\" class=\"dataframe\">\n",
              "  <thead>\n",
              "    <tr style=\"text-align: right;\">\n",
              "      <th></th>\n",
              "      <th>Make</th>\n",
              "      <th>Colour</th>\n",
              "      <th>Odometer (KM)</th>\n",
              "      <th>Doors</th>\n",
              "      <th>Price</th>\n",
              "    </tr>\n",
              "  </thead>\n",
              "  <tbody>\n",
              "    <tr>\n",
              "      <th>0</th>\n",
              "      <td>Honda</td>\n",
              "      <td>White</td>\n",
              "      <td>35431.0</td>\n",
              "      <td>4.0</td>\n",
              "      <td>15323.0</td>\n",
              "    </tr>\n",
              "    <tr>\n",
              "      <th>1</th>\n",
              "      <td>BMW</td>\n",
              "      <td>Blue</td>\n",
              "      <td>192714.0</td>\n",
              "      <td>5.0</td>\n",
              "      <td>19943.0</td>\n",
              "    </tr>\n",
              "    <tr>\n",
              "      <th>2</th>\n",
              "      <td>Honda</td>\n",
              "      <td>White</td>\n",
              "      <td>84714.0</td>\n",
              "      <td>4.0</td>\n",
              "      <td>28343.0</td>\n",
              "    </tr>\n",
              "    <tr>\n",
              "      <th>3</th>\n",
              "      <td>Toyota</td>\n",
              "      <td>White</td>\n",
              "      <td>154365.0</td>\n",
              "      <td>4.0</td>\n",
              "      <td>13434.0</td>\n",
              "    </tr>\n",
              "    <tr>\n",
              "      <th>4</th>\n",
              "      <td>Nissan</td>\n",
              "      <td>Blue</td>\n",
              "      <td>181577.0</td>\n",
              "      <td>3.0</td>\n",
              "      <td>14043.0</td>\n",
              "    </tr>\n",
              "  </tbody>\n",
              "</table>\n",
              "</div>\n",
              "      <button class=\"colab-df-convert\" onclick=\"convertToInteractive('df-3643c504-761c-4118-a37f-a22b6c00852c')\"\n",
              "              title=\"Convert this dataframe to an interactive table.\"\n",
              "              style=\"display:none;\">\n",
              "        \n",
              "  <svg xmlns=\"http://www.w3.org/2000/svg\" height=\"24px\"viewBox=\"0 0 24 24\"\n",
              "       width=\"24px\">\n",
              "    <path d=\"M0 0h24v24H0V0z\" fill=\"none\"/>\n",
              "    <path d=\"M18.56 5.44l.94 2.06.94-2.06 2.06-.94-2.06-.94-.94-2.06-.94 2.06-2.06.94zm-11 1L8.5 8.5l.94-2.06 2.06-.94-2.06-.94L8.5 2.5l-.94 2.06-2.06.94zm10 10l.94 2.06.94-2.06 2.06-.94-2.06-.94-.94-2.06-.94 2.06-2.06.94z\"/><path d=\"M17.41 7.96l-1.37-1.37c-.4-.4-.92-.59-1.43-.59-.52 0-1.04.2-1.43.59L10.3 9.45l-7.72 7.72c-.78.78-.78 2.05 0 2.83L4 21.41c.39.39.9.59 1.41.59.51 0 1.02-.2 1.41-.59l7.78-7.78 2.81-2.81c.8-.78.8-2.07 0-2.86zM5.41 20L4 18.59l7.72-7.72 1.47 1.35L5.41 20z\"/>\n",
              "  </svg>\n",
              "      </button>\n",
              "      \n",
              "  <style>\n",
              "    .colab-df-container {\n",
              "      display:flex;\n",
              "      flex-wrap:wrap;\n",
              "      gap: 12px;\n",
              "    }\n",
              "\n",
              "    .colab-df-convert {\n",
              "      background-color: #E8F0FE;\n",
              "      border: none;\n",
              "      border-radius: 50%;\n",
              "      cursor: pointer;\n",
              "      display: none;\n",
              "      fill: #1967D2;\n",
              "      height: 32px;\n",
              "      padding: 0 0 0 0;\n",
              "      width: 32px;\n",
              "    }\n",
              "\n",
              "    .colab-df-convert:hover {\n",
              "      background-color: #E2EBFA;\n",
              "      box-shadow: 0px 1px 2px rgba(60, 64, 67, 0.3), 0px 1px 3px 1px rgba(60, 64, 67, 0.15);\n",
              "      fill: #174EA6;\n",
              "    }\n",
              "\n",
              "    [theme=dark] .colab-df-convert {\n",
              "      background-color: #3B4455;\n",
              "      fill: #D2E3FC;\n",
              "    }\n",
              "\n",
              "    [theme=dark] .colab-df-convert:hover {\n",
              "      background-color: #434B5C;\n",
              "      box-shadow: 0px 1px 3px 1px rgba(0, 0, 0, 0.15);\n",
              "      filter: drop-shadow(0px 1px 2px rgba(0, 0, 0, 0.3));\n",
              "      fill: #FFFFFF;\n",
              "    }\n",
              "  </style>\n",
              "\n",
              "      <script>\n",
              "        const buttonEl =\n",
              "          document.querySelector('#df-3643c504-761c-4118-a37f-a22b6c00852c button.colab-df-convert');\n",
              "        buttonEl.style.display =\n",
              "          google.colab.kernel.accessAllowed ? 'block' : 'none';\n",
              "\n",
              "        async function convertToInteractive(key) {\n",
              "          const element = document.querySelector('#df-3643c504-761c-4118-a37f-a22b6c00852c');\n",
              "          const dataTable =\n",
              "            await google.colab.kernel.invokeFunction('convertToInteractive',\n",
              "                                                     [key], {});\n",
              "          if (!dataTable) return;\n",
              "\n",
              "          const docLinkHtml = 'Like what you see? Visit the ' +\n",
              "            '<a target=\"_blank\" href=https://colab.research.google.com/notebooks/data_table.ipynb>data table notebook</a>'\n",
              "            + ' to learn more about interactive tables.';\n",
              "          element.innerHTML = '';\n",
              "          dataTable['output_type'] = 'display_data';\n",
              "          await google.colab.output.renderOutput(dataTable, element);\n",
              "          const docLink = document.createElement('div');\n",
              "          docLink.innerHTML = docLinkHtml;\n",
              "          element.appendChild(docLink);\n",
              "        }\n",
              "      </script>\n",
              "    </div>\n",
              "  </div>\n",
              "  "
            ]
          },
          "metadata": {},
          "execution_count": 66
        }
      ],
      "source": [
        "# Read in the car sales data\n",
        "car_sales = pd.read_csv(\"https://raw.githubusercontent.com/mrdbourke/zero-to-mastery-ml/master/data/car-sales-extended-missing-data.csv\")\n",
        "\n",
        "# View the first 5 rows of the car sales data\n",
        "car_sales.head()"
      ]
    },
    {
      "cell_type": "code",
      "execution_count": 67,
      "metadata": {
        "id": "hAi9BcRGpw67",
        "outputId": "c8628ceb-b35a-41db-f61a-3792afe4d0eb",
        "colab": {
          "base_uri": "https://localhost:8080/"
        }
      },
      "outputs": [
        {
          "output_type": "stream",
          "name": "stdout",
          "text": [
            "<class 'pandas.core.frame.DataFrame'>\n",
            "RangeIndex: 1000 entries, 0 to 999\n",
            "Data columns (total 5 columns):\n",
            " #   Column         Non-Null Count  Dtype  \n",
            "---  ------         --------------  -----  \n",
            " 0   Make           951 non-null    object \n",
            " 1   Colour         950 non-null    object \n",
            " 2   Odometer (KM)  950 non-null    float64\n",
            " 3   Doors          950 non-null    float64\n",
            " 4   Price          950 non-null    float64\n",
            "dtypes: float64(3), object(2)\n",
            "memory usage: 39.2+ KB\n"
          ]
        }
      ],
      "source": [
        "# Get information about the car sales DataFrame\n",
        "car_sales.info()"
      ]
    },
    {
      "cell_type": "markdown",
      "metadata": {
        "id": "Um3GNmU8pw67"
      },
      "source": [
        "Looking at the output of `info()`,\n",
        "* How many rows are there total?\n",
        "* What datatypes are in each column?\n",
        "* How many missing values are there in each column?"
      ]
    },
    {
      "cell_type": "code",
      "execution_count": 69,
      "metadata": {
        "id": "hNVg29BEpw67",
        "outputId": "77d0ca3e-c430-433a-f749-a90f05940777",
        "colab": {
          "base_uri": "https://localhost:8080/"
        }
      },
      "outputs": [
        {
          "output_type": "execute_result",
          "data": {
            "text/plain": [
              "Make             49\n",
              "Colour           50\n",
              "Odometer (KM)    50\n",
              "Doors            50\n",
              "Price            50\n",
              "dtype: int64"
            ]
          },
          "metadata": {},
          "execution_count": 69
        }
      ],
      "source": [
        "# Find number of missing values in each column\n",
        "car_sales.isna().sum()"
      ]
    },
    {
      "cell_type": "code",
      "execution_count": 70,
      "metadata": {
        "id": "t0rzO3pbpw67",
        "outputId": "5518ea76-73a8-4d22-b951-0f89568b3ffb",
        "colab": {
          "base_uri": "https://localhost:8080/"
        }
      },
      "outputs": [
        {
          "output_type": "execute_result",
          "data": {
            "text/plain": [
              "Make              object\n",
              "Colour            object\n",
              "Odometer (KM)    float64\n",
              "Doors            float64\n",
              "Price            float64\n",
              "dtype: object"
            ]
          },
          "metadata": {},
          "execution_count": 70
        }
      ],
      "source": [
        "# Find the datatypes of each column of car_sales\n",
        "car_sales.dtypes"
      ]
    },
    {
      "cell_type": "markdown",
      "metadata": {
        "id": "blGP4h40pw67"
      },
      "source": [
        "Knowing this information, what would happen if we tried to model our data as it is?\n",
        "\n",
        "Let's see."
      ]
    },
    {
      "cell_type": "code",
      "execution_count": 71,
      "metadata": {
        "id": "XYYcchmVpw67",
        "outputId": "be189d6f-a249-4051-a564-589c804701b1",
        "colab": {
          "base_uri": "https://localhost:8080/",
          "height": 346
        }
      },
      "outputs": [
        {
          "output_type": "error",
          "ename": "ValueError",
          "evalue": "ignored",
          "traceback": [
            "\u001b[0;31m---------------------------------------------------------------------------\u001b[0m",
            "\u001b[0;31mValueError\u001b[0m                                Traceback (most recent call last)",
            "\u001b[0;32m<ipython-input-71-476d8071e1b5>\u001b[0m in \u001b[0;36m<module>\u001b[0;34m()\u001b[0m\n\u001b[1;32m      2\u001b[0m \u001b[0;32mfrom\u001b[0m \u001b[0msklearn\u001b[0m\u001b[0;34m.\u001b[0m\u001b[0mensemble\u001b[0m \u001b[0;32mimport\u001b[0m \u001b[0mRandomForestRegressor\u001b[0m\u001b[0;34m\u001b[0m\u001b[0;34m\u001b[0m\u001b[0m\n\u001b[1;32m      3\u001b[0m \u001b[0mcar_sales_X\u001b[0m\u001b[0;34m,\u001b[0m \u001b[0mcar_sales_y\u001b[0m \u001b[0;34m=\u001b[0m \u001b[0mcar_sales\u001b[0m\u001b[0;34m.\u001b[0m\u001b[0mdrop\u001b[0m\u001b[0;34m(\u001b[0m\u001b[0;34m\"Price\"\u001b[0m\u001b[0;34m,\u001b[0m \u001b[0maxis\u001b[0m\u001b[0;34m=\u001b[0m\u001b[0;36m1\u001b[0m\u001b[0;34m)\u001b[0m\u001b[0;34m,\u001b[0m \u001b[0mcar_sales\u001b[0m\u001b[0;34m.\u001b[0m\u001b[0mPrice\u001b[0m\u001b[0;34m\u001b[0m\u001b[0;34m\u001b[0m\u001b[0m\n\u001b[0;32m----> 4\u001b[0;31m \u001b[0mrf_regressor\u001b[0m \u001b[0;34m=\u001b[0m \u001b[0mRandomForestRegressor\u001b[0m\u001b[0;34m(\u001b[0m\u001b[0;34m)\u001b[0m\u001b[0;34m.\u001b[0m\u001b[0mfit\u001b[0m\u001b[0;34m(\u001b[0m\u001b[0mcar_sales_X\u001b[0m\u001b[0;34m,\u001b[0m \u001b[0mcar_sales_y\u001b[0m\u001b[0;34m)\u001b[0m\u001b[0;34m\u001b[0m\u001b[0;34m\u001b[0m\u001b[0m\n\u001b[0m",
            "\u001b[0;32m/usr/local/lib/python3.7/dist-packages/sklearn/ensemble/_forest.py\u001b[0m in \u001b[0;36mfit\u001b[0;34m(self, X, y, sample_weight)\u001b[0m\n\u001b[1;32m    326\u001b[0m             \u001b[0;32mraise\u001b[0m \u001b[0mValueError\u001b[0m\u001b[0;34m(\u001b[0m\u001b[0;34m\"sparse multilabel-indicator for y is not supported.\"\u001b[0m\u001b[0;34m)\u001b[0m\u001b[0;34m\u001b[0m\u001b[0;34m\u001b[0m\u001b[0m\n\u001b[1;32m    327\u001b[0m         X, y = self._validate_data(\n\u001b[0;32m--> 328\u001b[0;31m             \u001b[0mX\u001b[0m\u001b[0;34m,\u001b[0m \u001b[0my\u001b[0m\u001b[0;34m,\u001b[0m \u001b[0mmulti_output\u001b[0m\u001b[0;34m=\u001b[0m\u001b[0;32mTrue\u001b[0m\u001b[0;34m,\u001b[0m \u001b[0maccept_sparse\u001b[0m\u001b[0;34m=\u001b[0m\u001b[0;34m\"csc\"\u001b[0m\u001b[0;34m,\u001b[0m \u001b[0mdtype\u001b[0m\u001b[0;34m=\u001b[0m\u001b[0mDTYPE\u001b[0m\u001b[0;34m\u001b[0m\u001b[0;34m\u001b[0m\u001b[0m\n\u001b[0m\u001b[1;32m    329\u001b[0m         )\n\u001b[1;32m    330\u001b[0m         \u001b[0;32mif\u001b[0m \u001b[0msample_weight\u001b[0m \u001b[0;32mis\u001b[0m \u001b[0;32mnot\u001b[0m \u001b[0;32mNone\u001b[0m\u001b[0;34m:\u001b[0m\u001b[0;34m\u001b[0m\u001b[0;34m\u001b[0m\u001b[0m\n",
            "\u001b[0;32m/usr/local/lib/python3.7/dist-packages/sklearn/base.py\u001b[0m in \u001b[0;36m_validate_data\u001b[0;34m(self, X, y, reset, validate_separately, **check_params)\u001b[0m\n\u001b[1;32m    579\u001b[0m                 \u001b[0my\u001b[0m \u001b[0;34m=\u001b[0m \u001b[0mcheck_array\u001b[0m\u001b[0;34m(\u001b[0m\u001b[0my\u001b[0m\u001b[0;34m,\u001b[0m \u001b[0;34m**\u001b[0m\u001b[0mcheck_y_params\u001b[0m\u001b[0;34m)\u001b[0m\u001b[0;34m\u001b[0m\u001b[0;34m\u001b[0m\u001b[0m\n\u001b[1;32m    580\u001b[0m             \u001b[0;32melse\u001b[0m\u001b[0;34m:\u001b[0m\u001b[0;34m\u001b[0m\u001b[0;34m\u001b[0m\u001b[0m\n\u001b[0;32m--> 581\u001b[0;31m                 \u001b[0mX\u001b[0m\u001b[0;34m,\u001b[0m \u001b[0my\u001b[0m \u001b[0;34m=\u001b[0m \u001b[0mcheck_X_y\u001b[0m\u001b[0;34m(\u001b[0m\u001b[0mX\u001b[0m\u001b[0;34m,\u001b[0m \u001b[0my\u001b[0m\u001b[0;34m,\u001b[0m \u001b[0;34m**\u001b[0m\u001b[0mcheck_params\u001b[0m\u001b[0;34m)\u001b[0m\u001b[0;34m\u001b[0m\u001b[0;34m\u001b[0m\u001b[0m\n\u001b[0m\u001b[1;32m    582\u001b[0m             \u001b[0mout\u001b[0m \u001b[0;34m=\u001b[0m \u001b[0mX\u001b[0m\u001b[0;34m,\u001b[0m \u001b[0my\u001b[0m\u001b[0;34m\u001b[0m\u001b[0;34m\u001b[0m\u001b[0m\n\u001b[1;32m    583\u001b[0m \u001b[0;34m\u001b[0m\u001b[0m\n",
            "\u001b[0;32m/usr/local/lib/python3.7/dist-packages/sklearn/utils/validation.py\u001b[0m in \u001b[0;36mcheck_X_y\u001b[0;34m(X, y, accept_sparse, accept_large_sparse, dtype, order, copy, force_all_finite, ensure_2d, allow_nd, multi_output, ensure_min_samples, ensure_min_features, y_numeric, estimator)\u001b[0m\n\u001b[1;32m    974\u001b[0m         \u001b[0mensure_min_samples\u001b[0m\u001b[0;34m=\u001b[0m\u001b[0mensure_min_samples\u001b[0m\u001b[0;34m,\u001b[0m\u001b[0;34m\u001b[0m\u001b[0;34m\u001b[0m\u001b[0m\n\u001b[1;32m    975\u001b[0m         \u001b[0mensure_min_features\u001b[0m\u001b[0;34m=\u001b[0m\u001b[0mensure_min_features\u001b[0m\u001b[0;34m,\u001b[0m\u001b[0;34m\u001b[0m\u001b[0;34m\u001b[0m\u001b[0m\n\u001b[0;32m--> 976\u001b[0;31m         \u001b[0mestimator\u001b[0m\u001b[0;34m=\u001b[0m\u001b[0mestimator\u001b[0m\u001b[0;34m,\u001b[0m\u001b[0;34m\u001b[0m\u001b[0;34m\u001b[0m\u001b[0m\n\u001b[0m\u001b[1;32m    977\u001b[0m     )\n\u001b[1;32m    978\u001b[0m \u001b[0;34m\u001b[0m\u001b[0m\n",
            "\u001b[0;32m/usr/local/lib/python3.7/dist-packages/sklearn/utils/validation.py\u001b[0m in \u001b[0;36mcheck_array\u001b[0;34m(array, accept_sparse, accept_large_sparse, dtype, order, copy, force_all_finite, ensure_2d, allow_nd, ensure_min_samples, ensure_min_features, estimator)\u001b[0m\n\u001b[1;32m    744\u001b[0m                     \u001b[0marray\u001b[0m \u001b[0;34m=\u001b[0m \u001b[0marray\u001b[0m\u001b[0;34m.\u001b[0m\u001b[0mastype\u001b[0m\u001b[0;34m(\u001b[0m\u001b[0mdtype\u001b[0m\u001b[0;34m,\u001b[0m \u001b[0mcasting\u001b[0m\u001b[0;34m=\u001b[0m\u001b[0;34m\"unsafe\"\u001b[0m\u001b[0;34m,\u001b[0m \u001b[0mcopy\u001b[0m\u001b[0;34m=\u001b[0m\u001b[0;32mFalse\u001b[0m\u001b[0;34m)\u001b[0m\u001b[0;34m\u001b[0m\u001b[0;34m\u001b[0m\u001b[0m\n\u001b[1;32m    745\u001b[0m                 \u001b[0;32melse\u001b[0m\u001b[0;34m:\u001b[0m\u001b[0;34m\u001b[0m\u001b[0;34m\u001b[0m\u001b[0m\n\u001b[0;32m--> 746\u001b[0;31m                     \u001b[0marray\u001b[0m \u001b[0;34m=\u001b[0m \u001b[0mnp\u001b[0m\u001b[0;34m.\u001b[0m\u001b[0masarray\u001b[0m\u001b[0;34m(\u001b[0m\u001b[0marray\u001b[0m\u001b[0;34m,\u001b[0m \u001b[0morder\u001b[0m\u001b[0;34m=\u001b[0m\u001b[0morder\u001b[0m\u001b[0;34m,\u001b[0m \u001b[0mdtype\u001b[0m\u001b[0;34m=\u001b[0m\u001b[0mdtype\u001b[0m\u001b[0;34m)\u001b[0m\u001b[0;34m\u001b[0m\u001b[0;34m\u001b[0m\u001b[0m\n\u001b[0m\u001b[1;32m    747\u001b[0m             \u001b[0;32mexcept\u001b[0m \u001b[0mComplexWarning\u001b[0m \u001b[0;32mas\u001b[0m \u001b[0mcomplex_warning\u001b[0m\u001b[0;34m:\u001b[0m\u001b[0;34m\u001b[0m\u001b[0;34m\u001b[0m\u001b[0m\n\u001b[1;32m    748\u001b[0m                 raise ValueError(\n",
            "\u001b[0;32m/usr/local/lib/python3.7/dist-packages/pandas/core/generic.py\u001b[0m in \u001b[0;36m__array__\u001b[0;34m(self, dtype)\u001b[0m\n\u001b[1;32m   1991\u001b[0m \u001b[0;34m\u001b[0m\u001b[0m\n\u001b[1;32m   1992\u001b[0m     \u001b[0;32mdef\u001b[0m \u001b[0m__array__\u001b[0m\u001b[0;34m(\u001b[0m\u001b[0mself\u001b[0m\u001b[0;34m,\u001b[0m \u001b[0mdtype\u001b[0m\u001b[0;34m:\u001b[0m \u001b[0mNpDtype\u001b[0m \u001b[0;34m|\u001b[0m \u001b[0;32mNone\u001b[0m \u001b[0;34m=\u001b[0m \u001b[0;32mNone\u001b[0m\u001b[0;34m)\u001b[0m \u001b[0;34m->\u001b[0m \u001b[0mnp\u001b[0m\u001b[0;34m.\u001b[0m\u001b[0mndarray\u001b[0m\u001b[0;34m:\u001b[0m\u001b[0;34m\u001b[0m\u001b[0;34m\u001b[0m\u001b[0m\n\u001b[0;32m-> 1993\u001b[0;31m         \u001b[0;32mreturn\u001b[0m \u001b[0mnp\u001b[0m\u001b[0;34m.\u001b[0m\u001b[0masarray\u001b[0m\u001b[0;34m(\u001b[0m\u001b[0mself\u001b[0m\u001b[0;34m.\u001b[0m\u001b[0m_values\u001b[0m\u001b[0;34m,\u001b[0m \u001b[0mdtype\u001b[0m\u001b[0;34m=\u001b[0m\u001b[0mdtype\u001b[0m\u001b[0;34m)\u001b[0m\u001b[0;34m\u001b[0m\u001b[0;34m\u001b[0m\u001b[0m\n\u001b[0m\u001b[1;32m   1994\u001b[0m \u001b[0;34m\u001b[0m\u001b[0m\n\u001b[1;32m   1995\u001b[0m     def __array_wrap__(\n",
            "\u001b[0;31mValueError\u001b[0m: could not convert string to float: 'Honda'"
          ]
        }
      ],
      "source": [
        "# EXAMPLE: This doesn't work because our car_sales data isn't all numerical\n",
        "from sklearn.ensemble import RandomForestRegressor\n",
        "car_sales_X, car_sales_y = car_sales.drop(\"Price\", axis=1), car_sales.Price\n",
        "rf_regressor = RandomForestRegressor().fit(car_sales_X, car_sales_y)"
      ]
    },
    {
      "cell_type": "markdown",
      "metadata": {
        "id": "ErMA6wWPpw68"
      },
      "source": [
        "As we see, the cell above breaks because our data contains non-numerical values as well as missing data.\n",
        "\n",
        "To take care of some of the missing data, we'll remove the rows which have no labels (all the rows with missing values in the `Price` column)."
      ]
    },
    {
      "cell_type": "code",
      "execution_count": 74,
      "metadata": {
        "id": "ktkfQTufpw68"
      },
      "outputs": [],
      "source": [
        "# Remove rows with no labels (NaN's in the Price column)\n",
        "car_sales = car_sales.dropna(subset=['Price'])"
      ]
    },
    {
      "cell_type": "markdown",
      "metadata": {
        "id": "x-DRzu5upw68"
      },
      "source": [
        "### Building a pipeline\n",
        "Since our `car_sales` data has missing numerical values as well as the data isn't all numerical, we'll have to fix these things before we can fit a machine learning model on it.\n",
        "\n",
        "There are ways we could do this with pandas but since we're practicing Scikit-Learn, we'll see how we might do it with the [`Pipeline`](https://scikit-learn.org/stable/modules/generated/sklearn.pipeline.Pipeline.html) class. \n",
        "\n",
        "Because we're modifying columns in our dataframe (filling missing values, converting non-numerical data to numbers) we'll need the [`ColumnTransformer`](https://scikit-learn.org/stable/modules/generated/sklearn.compose.ColumnTransformer.html), [`SimpleImputer`](https://scikit-learn.org/stable/modules/generated/sklearn.impute.SimpleImputer.html) and [`OneHotEncoder`](https://scikit-learn.org/stable/modules/generated/sklearn.preprocessing.OneHotEncoder.html) classes as well.\n",
        "\n",
        "Finally, because we'll need to split our data into training and test sets, we'll import `train_test_split` as well."
      ]
    },
    {
      "cell_type": "code",
      "execution_count": 75,
      "metadata": {
        "id": "bmxZilIEpw68"
      },
      "outputs": [],
      "source": [
        "# Import Pipeline from sklearn's pipeline module\n",
        "from sklearn.pipeline import Pipeline\n",
        "\n",
        "# Import ColumnTransformer from sklearn's compose module\n",
        "from sklearn.compose import ColumnTransformer\n",
        "\n",
        "# Import SimpleImputer from sklearn's impute module\n",
        "from sklearn.impute import SimpleImputer \n",
        "\n",
        "# Import OneHotEncoder from sklearn's preprocessing module\n",
        "from sklearn.preprocessing import OneHotEncoder\n",
        "\n",
        "# Import train_test_split from sklearn's model_selection module\n",
        "from sklearn.model_selection import train_test_split"
      ]
    },
    {
      "cell_type": "markdown",
      "metadata": {
        "id": "vYRLhcWApw68"
      },
      "source": [
        "Now we've got the necessary tools we need to create our preprocessing `Pipeline` which fills missing values along with turning all non-numerical data into numbers.\n",
        "\n",
        "Let's start with the categorical features."
      ]
    },
    {
      "cell_type": "code",
      "execution_count": 78,
      "metadata": {
        "id": "2szz-kMOpw68"
      },
      "outputs": [],
      "source": [
        "# Define different categorical features \n",
        "categorical_features = [\"Make\", \"Colour\"]\n",
        "\n",
        "# Create categorical transformer Pipeline\n",
        "categorical_transformer = Pipeline(steps=[\n",
        "    # Set SimpleImputer strategy to \"constant\" and fill value to \"missing\"\n",
        "    (\"imputer\", SimpleImputer(strategy='constant', fill_value='missing')),\n",
        "    # Set OneHotEncoder to ignore the unknowns\n",
        "    (\"onehot\", OneHotEncoder(handle_unknown='ignore'))])"
      ]
    },
    {
      "cell_type": "markdown",
      "metadata": {
        "id": "fSHOe8zQpw69"
      },
      "source": [
        "It would be safe to treat `Doors` as a categorical feature as well, however since we know the vast majority of cars have 4 doors, we'll impute the missing `Doors` values as 4."
      ]
    },
    {
      "cell_type": "code",
      "execution_count": 79,
      "metadata": {
        "id": "6aksotKPpw69"
      },
      "outputs": [],
      "source": [
        "# Define Doors features\n",
        "door_feature = [\"Doors\"]\n",
        "\n",
        "# Create Doors transformer Pipeline\n",
        "door_transformer = Pipeline(steps=[\n",
        "    # Set SimpleImputer strategy to \"constant\" and fill value to 4\n",
        "    (\"imputer\", SimpleImputer(strategy='constant', fill_value='missing'))])"
      ]
    },
    {
      "cell_type": "markdown",
      "metadata": {
        "id": "jGUWyccBpw69"
      },
      "source": [
        "Now onto the numeric features. In this case, the only numeric feature is the `Odometer (KM)` column. Let's fill its missing values with the median."
      ]
    },
    {
      "cell_type": "code",
      "execution_count": 82,
      "metadata": {
        "id": "Ot4Cu7iDpw69"
      },
      "outputs": [],
      "source": [
        "from itertools import starmap\n",
        "# Define numeric features (only the Odometer (KM) column)\n",
        "numeric_features = [\"Odometer (KM)\"]\n",
        "\n",
        "# Crearte numeric transformer Pipeline\n",
        "numeric_transformer = Pipeline(steps=[\n",
        "    # Set SimpleImputer strategy to fill missing values with the \"Median\"\n",
        "    (\"imputer\",SimpleImputer(strategy=\"constant\", fill_value=4))])"
      ]
    },
    {
      "cell_type": "markdown",
      "metadata": {
        "id": "PGJSi0a4pw69"
      },
      "source": [
        "Time to put all of our individual transformer `Pipeline`'s into a single `ColumnTransformer` instance."
      ]
    },
    {
      "cell_type": "code",
      "execution_count": null,
      "metadata": {
        "id": "2jMASc7vpw69"
      },
      "outputs": [],
      "source": [
        "# Setup preprocessing steps (fill missing values, then convert to numbers)\n",
        "preprocessor = ColumnTransformer(\n",
        "    transformers=[\n",
        "        # Use the categorical_transformer to transform the categorical_features\n",
        "        (\"cat\", categorical_transformer, ###),\n",
        "        # Use the door_transformer to transform the door_feature\n",
        "        (\"door\", ###, door_feature),\n",
        "        # Use the numeric_transformer to transform the numeric_features\n",
        "        (\"num\", ###, ###)])"
      ]
    },
    {
      "cell_type": "markdown",
      "metadata": {
        "id": "j8oQAtIKpw69"
      },
      "source": [
        "Boom! Now our `preprocessor` is ready, time to import some regression models to try out.\n",
        "\n",
        "Comparing our data to the [Scikit-Learn machine learning map](https://scikit-learn.org/stable/tutorial/machine_learning_map/index.html), we can see there's a handful of different regression models we can try.\n",
        "\n",
        "* [RidgeRegression](https://scikit-learn.org/stable/modules/generated/sklearn.linear_model.Ridge.html)\n",
        "* [SVR(kernel=\"linear\")](https://scikit-learn.org/stable/modules/generated/sklearn.svm.SVR.html) - short for Support Vector Regressor, a form form of support vector machine.\n",
        "* [SVR(kernel=\"rbf\")](https://scikit-learn.org/stable/modules/generated/sklearn.svm.SVR.html) - short for Support Vector Regressor, a form of support vector machine.\n",
        "* [RandomForestRegressor](https://scikit-learn.org/stable/modules/generated/sklearn.ensemble.RandomForestRegressor.html) - the regression version of RandomForestClassifier."
      ]
    },
    {
      "cell_type": "code",
      "execution_count": null,
      "metadata": {
        "id": "ZSqrdhxYpw6-"
      },
      "outputs": [],
      "source": [
        "# Import Ridge from sklearn's linear_model module\n",
        "\n",
        "\n",
        "# Import SVR from sklearn's svm module\n",
        "\n",
        "\n",
        "# Import RandomForestRegressor from sklearn's ensemble module\n"
      ]
    },
    {
      "cell_type": "markdown",
      "metadata": {
        "id": "bEazIAX_pw6-"
      },
      "source": [
        "Again, thanks to the design of the Scikit-Learn library, we're able to use very similar code for each of these models.\n",
        "\n",
        "To test them all, we'll create a dictionary of regression models and an empty dictionary for regression model results."
      ]
    },
    {
      "cell_type": "code",
      "execution_count": null,
      "metadata": {
        "id": "-LraAQMJpw6-"
      },
      "outputs": [],
      "source": [
        "# Create dictionary of model instances, there should be 4 total key, value pairs\n",
        "# in the form {\"model_name\": model_instance}.\n",
        "# Don't forget there's two versions of SVR, one with a \"linear\" kernel and the\n",
        "# other with kernel set to \"rbf\".\n",
        "regression_models = {\"Ridge\": ###,\n",
        "                     \"SVR_linear\": ###,\n",
        "                     \"SVR_rbf\": ###,\n",
        "                     \"RandomForestRegressor\": ###}\n",
        "\n",
        "# Create an empty dictionary for the regression results\n",
        "regression_results = ###"
      ]
    },
    {
      "cell_type": "markdown",
      "metadata": {
        "id": "eQuZOecOpw6-"
      },
      "source": [
        "Our regression model dictionary is prepared as well as an empty dictionary to append results to, time to get the data split into `X` (feature variables) and `y` (target variable) as well as training and test sets.\n",
        "\n",
        "In our car sales problem, we're trying to use the different characteristics of a car (`X`) to predict its sale price (`y`)."
      ]
    },
    {
      "cell_type": "code",
      "execution_count": null,
      "metadata": {
        "id": "Vkn6T60Xpw6-"
      },
      "outputs": [],
      "source": [
        "# Create car sales X data (every column of car_sales except Price)\n",
        "car_sales_X = ###\n",
        "\n",
        "# Create car sales y data (the Price column of car_sales)\n",
        "car_sales_y = ###"
      ]
    },
    {
      "cell_type": "code",
      "execution_count": null,
      "metadata": {
        "id": "iKZtaCqEpw6_"
      },
      "outputs": [],
      "source": [
        "# Use train_test_split to split the car_sales_X and car_sales_y data into \n",
        "# training and test sets.\n",
        "# Give the test set 20% of the data using the test_size parameter.\n",
        "# For reproducibility set the random_state parameter to 42.\n",
        "car_X_train, car_X_test, car_y_train, car_y_test = train_test_split(###,\n",
        "                                                                    ###,\n",
        "                                                                    test_size=###,\n",
        "                                                                    random_state=###)\n",
        "\n",
        "# Check the shapes of the training and test datasets\n",
        "###"
      ]
    },
    {
      "cell_type": "markdown",
      "metadata": {
        "id": "VwiR8va1pw6_"
      },
      "source": [
        "* How many rows are in each set?\n",
        "* How many columns are in each set?\n",
        "\n",
        "Alright, our data is split into training and test sets, time to build a small loop which is going to:\n",
        "1. Go through our `regression_models` dictionary\n",
        "2. Create a `Pipeline` which contains our `preprocessor` as well as one of the models in the dictionary\n",
        "3. Fits the `Pipeline` to the car sales training data\n",
        "4. Evaluates the target model on the car sales test data and appends the results to our `regression_results` dictionary"
      ]
    },
    {
      "cell_type": "code",
      "execution_count": null,
      "metadata": {
        "id": "26Jks9Tjpw6_"
      },
      "outputs": [],
      "source": [
        "# Loop through the items in the regression_models dictionary\n",
        "for model_name, model in regression_models.items():\n",
        "    \n",
        "    # Create a model Pipeline with a preprocessor step and model step\n",
        "    model_pipeline = Pipeline(steps=[(\"preprocessor\", ###),\n",
        "                                      (\"model\", ###)])\n",
        "    \n",
        "    # Fit the model Pipeline to the car sales training data\n",
        "    print(f\"Fitting {model_name}...\")\n",
        "    model_pipeline.###(###, ###)\n",
        "    \n",
        "    # Score the model Pipeline on the test data appending the model_name to the \n",
        "    # results dictionary\n",
        "    print(f\"Scoring {model_name}...\")\n",
        "    regression_results[model_name] = model_pipeline.score(###, \n",
        "                                                          ###)"
      ]
    },
    {
      "cell_type": "markdown",
      "metadata": {
        "id": "iRpNUlh9pw6_"
      },
      "source": [
        "Our regression models have been fit, let's see how they did!"
      ]
    },
    {
      "cell_type": "code",
      "execution_count": null,
      "metadata": {
        "id": "2wmrd49Ypw6_"
      },
      "outputs": [],
      "source": [
        "# Check the results of each regression model by printing the regression_results\n",
        "# dictionary\n",
        "###"
      ]
    },
    {
      "cell_type": "markdown",
      "metadata": {
        "id": "nq6W99nepw6_"
      },
      "source": [
        "* Which model did the best?\n",
        "* How could you improve its results?\n",
        "* What metric does the `score()` method of a regression model return by default?\n",
        "\n",
        "Since we've fitted some models but only compared them via the default metric contained in the `score()` method (R^2 score or coefficient of determination), let's take the `RidgeRegression` model and evaluate it with a few other [regression metrics](https://scikit-learn.org/stable/modules/model_evaluation.html#regression-metrics).\n",
        "\n",
        "Specifically, let's find:\n",
        "1. **R^2 (pronounced r-squared) or coefficient of determination** - Compares your models predictions to the mean of the targets. Values can range from negative infinity (a very poor model) to 1. For example, if all your model does is predict the mean of the targets, its R^2 value would be 0. And if your model perfectly predicts a range of numbers it's R^2 value would be 1. \n",
        "2. **Mean absolute error (MAE)** - The average of the absolute differences between predictions and actual values. It gives you an idea of how wrong your predictions were.\n",
        "3. **Mean squared error (MSE)** - The average squared differences between predictions and actual values. Squaring the errors removes negative errors. It also amplifies outliers (samples which have larger errors).\n",
        "\n",
        "Scikit-Learn has a few classes built-in which are going to help us with these, namely, [`mean_absolute_error`](https://scikit-learn.org/stable/modules/generated/sklearn.metrics.mean_absolute_error.html), [`mean_squared_error`](https://scikit-learn.org/stable/modules/generated/sklearn.metrics.mean_squared_error.html) and [`r2_score`](https://scikit-learn.org/stable/modules/generated/sklearn.metrics.r2_score.html)."
      ]
    },
    {
      "cell_type": "code",
      "execution_count": null,
      "metadata": {
        "id": "6lzTDE1epw6_"
      },
      "outputs": [],
      "source": [
        "# Import mean_absolute_error from sklearn's metrics module\n",
        "###\n",
        "\n",
        "# Import mean_squared_error from sklearn's metrics module\n",
        "###\n",
        "\n",
        "# Import r2_score from sklearn's metrics module\n",
        "###"
      ]
    },
    {
      "cell_type": "markdown",
      "metadata": {
        "id": "MLQuNQBHpw7A"
      },
      "source": [
        "All the evaluation metrics we're concerned with compare a model's predictions with the ground truth labels. Knowing this, we'll have to make some predictions.\n",
        "\n",
        "Let's create a `Pipeline` with the `preprocessor` and a `Ridge()` model, fit it on the car sales training data and then make predictions on the car sales test data."
      ]
    },
    {
      "cell_type": "code",
      "execution_count": null,
      "metadata": {
        "id": "m460RCxdpw7A"
      },
      "outputs": [],
      "source": [
        "# Create RidgeRegression Pipeline with preprocessor as the \"preprocessor\" and\n",
        "# Ridge() as the \"model\".\n",
        "ridge_pipeline = ###(steps=[(\"preprocessor\", ###),\n",
        "                                 (\"model\", Ridge())])\n",
        "\n",
        "# Fit the RidgeRegression Pipeline to the car sales training data\n",
        "ridge_pipeline.fit(###, ###)\n",
        "\n",
        "# Make predictions on the car sales test data using the RidgeRegression Pipeline\n",
        "car_y_preds = ridge_pipeline.###(###)\n",
        "\n",
        "# View the first 50 predictions\n",
        "###"
      ]
    },
    {
      "cell_type": "markdown",
      "metadata": {
        "id": "IWry7wJ7pw7A"
      },
      "source": [
        "Nice! Now we've got some predictions, time to evaluate them. We'll find the mean squared error (MSE), mean absolute error (MAE) and R^2 score (coefficient of determination) of our model."
      ]
    },
    {
      "cell_type": "code",
      "execution_count": null,
      "metadata": {
        "id": "WOE_kzDPpw7A"
      },
      "outputs": [],
      "source": [
        "# EXAMPLE: Find the MSE by comparing the car sales test labels to the car sales predictions\n",
        "mse = mean_squared_error(car_y_test, car_y_preds)\n",
        "# Return the MSE\n",
        "mse"
      ]
    },
    {
      "cell_type": "code",
      "execution_count": null,
      "metadata": {
        "id": "5k8c0otXpw7A"
      },
      "outputs": [],
      "source": [
        "# Find the MAE by comparing the car sales test labels to the car sales predictions\n",
        "###\n",
        "# Return the MAE\n",
        "###"
      ]
    },
    {
      "cell_type": "code",
      "execution_count": null,
      "metadata": {
        "scrolled": true,
        "id": "qD22vnz3pw7A"
      },
      "outputs": [],
      "source": [
        "# Find the R^2 score by comparing the car sales test labels to the car sales predictions\n",
        "###\n",
        "# Return the R^2 score\n",
        "###"
      ]
    },
    {
      "cell_type": "markdown",
      "metadata": {
        "id": "NvQd1Hlmpw7B"
      },
      "source": [
        "Boom! Our model could potentially do with some hyperparameter tuning (this would be a great extension). And we could probably do with finding some more data on our problem, 1000 rows doesn't seem to be sufficient.\n",
        "\n",
        "* How would you export the trained regression model?"
      ]
    },
    {
      "cell_type": "markdown",
      "metadata": {
        "id": "dv_S0kUppw7B"
      },
      "source": [
        "## Extensions\n",
        "\n",
        "You should be proud. Getting this far means you've worked through a classification problem and regression problem using pure (mostly) Scikit-Learn (no easy feat!).\n",
        "\n",
        "For more exercises, check out the [Scikit-Learn getting started documentation](https://scikit-learn.org/stable/getting_started.html). A good practice would be to read through it and for the parts you find interesting, add them into the end of this notebook.\n",
        "\n",
        "Finally, as always, remember, the best way to learn something new is to try it. And try it relentlessly. If you're unsure of how to do something, never be afraid to ask a question or search for something such as, \"how to tune the hyperparmaters of a scikit-learn ridge regression model\"."
      ]
    }
  ],
  "metadata": {
    "kernelspec": {
      "display_name": "Python 3",
      "language": "python",
      "name": "python3"
    },
    "language_info": {
      "codemirror_mode": {
        "name": "ipython",
        "version": 3
      },
      "file_extension": ".py",
      "mimetype": "text/x-python",
      "name": "python",
      "nbconvert_exporter": "python",
      "pygments_lexer": "ipython3",
      "version": "3.7.6"
    },
    "colab": {
      "name": "scikit-learn-exercises.ipynb",
      "provenance": [],
      "toc_visible": true,
      "include_colab_link": true
    }
  },
  "nbformat": 4,
  "nbformat_minor": 0
}