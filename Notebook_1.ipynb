{
  "nbformat": 4,
  "nbformat_minor": 0,
  "metadata": {
    "colab": {
      "name": "Notebook_1.ipynb",
      "provenance": [],
      "collapsed_sections": [],
      "authorship_tag": "ABX9TyPXFD3FUqVCuidwgfgnwTTw",
      "include_colab_link": true
    },
    "kernelspec": {
      "name": "python3",
      "display_name": "Python 3"
    },
    "language_info": {
      "name": "python"
    }
  },
  "cells": [
    {
      "cell_type": "markdown",
      "metadata": {
        "id": "view-in-github",
        "colab_type": "text"
      },
      "source": [
        "<a href=\"https://colab.research.google.com/github/kunalburgul/Learning/blob/master/Notebook_1.ipynb\" target=\"_parent\"><img src=\"https://colab.research.google.com/assets/colab-badge.svg\" alt=\"Open In Colab\"/></a>"
      ]
    },
    {
      "cell_type": "markdown",
      "metadata": {
        "id": "nvd_B3cHknEN"
      },
      "source": [
        "## **Supervised and Unsupervised Learning**"
      ]
    },
    {
      "cell_type": "markdown",
      "metadata": {
        "id": "zuaB11gcxjD4"
      },
      "source": [
        "- A problem in which we are required to predict a value is known as a supervised problem. For example, if the problem is to predict house prices given historical house prices, with features like presence of a hospital, school or supermarket, distance to nearest public transport, etc. is a supervised problem\n",
        "\n",
        "- Unsupervised datasets do not have a target associated with them and in general, are more challenging to deal with when compared to supervised problems.\n",
        "\n",
        "- Clustering is one of the approaches that you can use for problems like this, but it must be noted that there are several other approaches available that can be applied to unsupervised problems.\n",
        "\n",
        "- To make sense of unsupervised problems, we can also use numerous decomposition techniques such as Principal Component Analysis (PCA), t-distributed Stochastic Neighbour Embedding (t-SNE) etc."
      ]
    },
    {
      "cell_type": "markdown",
      "metadata": {
        "id": "08A4HQBqhaPo"
      },
      "source": [
        "**Iniatilization**"
      ]
    },
    {
      "cell_type": "code",
      "metadata": {
        "id": "qRaWIeCEgE4h"
      },
      "source": [
        "# Loading Libraries\n",
        "\n",
        "# Warning Librarires\n",
        "import warnings \n",
        "warnings.filterwarnings(\"ignore\")\n",
        "\n",
        "# Scientific and Data Manipulation Libraries \n",
        "import numpy as np\n",
        "import pandas as pd\n",
        "\n",
        "# Data Visualization Libraries :\n",
        "import matplotlib\n",
        "import seaborn as sns\n",
        "import matplotlib.pyplot as plt\n",
        "# This line ensures that the plot is displayed inside the notebook\n",
        "%matplotlib inline \n",
        "\n",
        "# ML Libraries\n",
        "from sklearn import datasets\n",
        "from sklearn import manifold\n",
        "from sklearn import tree\n",
        "from sklearn import metrics\n",
        "from sklearn import model_selection"
      ],
      "execution_count": null,
      "outputs": []
    },
    {
      "cell_type": "markdown",
      "metadata": {
        "id": "SybAYLj4gXiT"
      },
      "source": [
        "In the next part of the code, we will be fetching the **MNIST** data using sklearn datasets."
      ]
    },
    {
      "cell_type": "code",
      "metadata": {
        "id": "UwBS1gwLgJN6"
      },
      "source": [
        "data = datasets.fetch_openml(\n",
        "'mnist_784',\n",
        "version=1,\n",
        "return_X_y=True\n",
        ")\n",
        "pixel_values, targets = data\n",
        "targets = targets.astype(int)"
      ],
      "execution_count": null,
      "outputs": []
    },
    {
      "cell_type": "markdown",
      "metadata": {
        "id": "snWRfJCeiEea"
      },
      "source": [
        "Here the data contains the two arrays as \n",
        "- pixel_values as the array of pixels\n",
        "- targets are the string types we convert them to integers.\n",
        "\n",
        "Lets look at the structure of the following arrays."
      ]
    },
    {
      "cell_type": "code",
      "metadata": {
        "colab": {
          "base_uri": "https://localhost:8080/"
        },
        "id": "pHmShQIsgRdn",
        "outputId": "0144e06c-0972-493f-e94e-73e802a83705"
      },
      "source": [
        "pixel_values.shape, targets.shape"
      ],
      "execution_count": null,
      "outputs": [
        {
          "output_type": "execute_result",
          "data": {
            "text/plain": [
              "((70000, 784), (70000,))"
            ]
          },
          "metadata": {
            "tags": []
          },
          "execution_count": 3
        }
      ]
    },
    {
      "cell_type": "markdown",
      "metadata": {
        "id": "VJ_iQUqVitr2"
      },
      "source": [
        "We can visualize the samples in this dataset by reshaping them to their original shape and then plotting them using matplotlib."
      ]
    },
    {
      "cell_type": "code",
      "metadata": {
        "colab": {
          "base_uri": "https://localhost:8080/",
          "height": 282
        },
        "id": "rrXiG7W4gpgC",
        "outputId": "34ce03e9-8f06-415e-e82a-2848e2e8af76"
      },
      "source": [
        "single_image = pixel_values[1, :].reshape(28, 28)\n",
        "plt.imshow(single_image, cmap='gray')"
      ],
      "execution_count": null,
      "outputs": [
        {
          "output_type": "execute_result",
          "data": {
            "text/plain": [
              "<matplotlib.image.AxesImage at 0x7fb23aae7ed0>"
            ]
          },
          "metadata": {
            "tags": []
          },
          "execution_count": 4
        },
        {
          "output_type": "display_data",
          "data": {
            "image/png": "[encoded data removed]",
            "text/plain": [
              "<Figure size 432x288 with 1 Axes>"
            ]
          },
          "metadata": {
            "tags": [],
            "needs_background": "light"
          }
        }
      ]
    },
    {
      "cell_type": "code",
      "metadata": {
        "id": "Sv77kAh3g6uH"
      },
      "source": [
        "tsne = manifold.TSNE(n_components=2, random_state=42)\n",
        "transformed_data = tsne.fit_transform(pixel_values[:3000, :])"
      ],
      "execution_count": null,
      "outputs": []
    },
    {
      "cell_type": "code",
      "metadata": {
        "id": "HZ2jKMFahCHO"
      },
      "source": [
        "tsne_df = pd.DataFrame(\n",
        "np.column_stack((transformed_data, targets[:3000])),\n",
        "columns=[\"x\", \"y\", \"targets\"]\n",
        ")\n",
        "tsne_df.loc[:, \"targets\"] = tsne_df.targets.astype(int)"
      ],
      "execution_count": null,
      "outputs": []
    },
    {
      "cell_type": "code",
      "metadata": {
        "colab": {
          "base_uri": "https://localhost:8080/",
          "height": 602
        },
        "id": "C5AQx2TzhTBj",
        "outputId": "7baa7f07-4869-4f9d-e429-928d57cc7201"
      },
      "source": [
        "grid = sns.FacetGrid(tsne_df, hue=\"targets\", size=8)\n",
        "grid.map(plt.scatter, \"x\", \"y\").add_legend()"
      ],
      "execution_count": null,
      "outputs": [
        {
          "output_type": "execute_result",
          "data": {
            "text/plain": [
              "<seaborn.axisgrid.FacetGrid at 0x7fb23ab152d0>"
            ]
          },
          "metadata": {
            "tags": []
          },
          "execution_count": 7
        },
        {
          "output_type": "display_data",
          "data": {
            "image/png": "[encoded data removed]",
            "text/plain": [
              "<Figure size 619.625x576 with 1 Axes>"
            ]
          },
          "metadata": {
            "tags": [],
            "needs_background": "light"
          }
        }
      ]
    },
    {
      "cell_type": "markdown",
      "metadata": {
        "id": "wJ_aeLQ_kwYJ"
      },
      "source": [
        "## **Cross-validation**"
      ]
    },
    {
      "cell_type": "markdown",
      "metadata": {
        "id": "NqdNMRvVxrXZ"
      },
      "source": [
        "- Cross-validation is a step in the process of building a machine learning model which helps us ensure that our models fit the data accurately and also ensures that we do not overfit.\n",
        "\n",
        " But this leads to another term: overfitting"
      ]
    },
    {
      "cell_type": "code",
      "metadata": {
        "colab": {
          "base_uri": "https://localhost:8080/"
        },
        "id": "CP6xZ54glqCY",
        "outputId": "a2e06578-f32f-4942-a497-277eae90fe60"
      },
      "source": [
        "# Loading data\n",
        "!gdown --id 1f_-Ol1h92ARtWsG7YqRcR9OOnKugl2gL --output winequality-red.csv"
      ],
      "execution_count": null,
      "outputs": [
        {
          "output_type": "stream",
          "text": [
            "Downloading...\n",
            "From: https://drive.google.com/uc?id=1f_-Ol1h92ARtWsG7YqRcR9OOnKugl2gL\n",
            "To: /content/winequality-red.csv\n",
            "\r  0% 0.00/84.2k [00:00<?, ?B/s]\r100% 84.2k/84.2k [00:00<00:00, 5.64MB/s]\n"
          ],
          "name": "stdout"
        }
      ]
    },
    {
      "cell_type": "markdown",
      "metadata": {
        "id": "CPteu-8_k3rX"
      },
      "source": [
        "The dataset can be found on the following link - https://archive.ics.uci.edu/ml/machine-learning-databases/wine-quality/\n",
        "\n",
        "\n",
        "Now Let's look at the data"
      ]
    },
    {
      "cell_type": "code",
      "metadata": {
        "id": "sUFQ4r9LhWh9"
      },
      "source": [
        "df = pd.read_csv(\"winequality-red.csv\",sep=';')"
      ],
      "execution_count": null,
      "outputs": []
    },
    {
      "cell_type": "markdown",
      "metadata": {
        "id": "GjbfJNI8mL4T"
      },
      "source": [
        "We can treat this problem either as a classification problem or as a regression problem since wine quality is nothing but a real number between 0 and 10. For simplicity, let’s choose classification. This dataset, however, consists of only six\n",
        "types of quality values. We will thus map all quality values from 0 to 5."
      ]
    },
    {
      "cell_type": "code",
      "metadata": {
        "id": "V72tGmuMk6to"
      },
      "source": [
        "# a mapping dictionary that maps the quality values from 0 to 5\n",
        "quality_mapping = {\n",
        "3: 0, 4: 1, 5: 2, 6: 3, 7: 4, 8: 5}"
      ],
      "execution_count": null,
      "outputs": []
    },
    {
      "cell_type": "code",
      "metadata": {
        "id": "B5A-Nd3Imkm0"
      },
      "source": [
        "# you can use the map function of pandas with any dictionary to convert the values in a given column to values in the dictionary\n",
        "df.loc[:, \"quality\"] = df.quality.map(quality_mapping)"
      ],
      "execution_count": null,
      "outputs": []
    },
    {
      "cell_type": "code",
      "metadata": {
        "colab": {
          "base_uri": "https://localhost:8080/"
        },
        "id": "g3FODSFfmoF4",
        "outputId": "f01c4fa0-ac1b-4441-b1e5-5e80bfd1c87a"
      },
      "source": [
        "# Lets check if we have mapped correctly and observer the frequency of the quality values\n",
        "df.quality.value_counts(normalize=True)"
      ],
      "execution_count": null,
      "outputs": [
        {
          "output_type": "execute_result",
          "data": {
            "text/plain": [
              "2    0.425891\n",
              "3    0.398999\n",
              "4    0.124453\n",
              "1    0.033146\n",
              "5    0.011257\n",
              "0    0.006254\n",
              "Name: quality, dtype: float64"
            ]
          },
          "metadata": {
            "tags": []
          },
          "execution_count": 12
        }
      ]
    },
    {
      "cell_type": "markdown",
      "metadata": {
        "id": "MSNfraIzrIYV"
      },
      "source": [
        "Lets look at the all the attributes present in the data."
      ]
    },
    {
      "cell_type": "code",
      "metadata": {
        "colab": {
          "base_uri": "https://localhost:8080/"
        },
        "id": "fSz0hXhXrSuf",
        "outputId": "81c577b5-c287-4408-9175-794972cb8982"
      },
      "source": [
        "df.columns"
      ],
      "execution_count": null,
      "outputs": [
        {
          "output_type": "execute_result",
          "data": {
            "text/plain": [
              "Index(['fixed acidity', 'volatile acidity', 'citric acid', 'residual sugar',\n",
              "       'chlorides', 'free sulfur dioxide', 'total sulfur dioxide', 'density',\n",
              "       'pH', 'sulphates', 'alcohol', 'quality'],\n",
              "      dtype='object')"
            ]
          },
          "metadata": {
            "tags": []
          },
          "execution_count": 13
        }
      ]
    },
    {
      "cell_type": "markdown",
      "metadata": {
        "id": "ORCkmwCjo0ee"
      },
      "source": [
        "When we look at this data and consider it a classification problem, a lot of algorithms come to our mind that we can apply to it, probably, we can use neural networks. But it would be a bit of a stretch if we dive into neural networks from the beginning. So, let’s start with something simple that we can visualize too: \n",
        "decision trees.\n",
        "\n",
        "Before we begin to understand what overfitting is, let’s divide the data into two parts. This dataset has **1599** samples. We keep **1000** samples for **training** and **599** as a **separate set**.\n",
        "\n"
      ]
    },
    {
      "cell_type": "code",
      "metadata": {
        "id": "PGhS7g39m9vP"
      },
      "source": [
        "# use sample with frac=1 to shuffle the dataframewe reset the indices since they change after shuffling the dataframe\n",
        "df = df.sample(frac=1).reset_index(drop=True)\n",
        "\n",
        "# Now lets select top 1000 rows for training\n",
        "df_train = df.head(1000)\n",
        "\n",
        "# Remaining bottom 599 rows are selected for testing/Validation\n",
        "df_test = df.tail(599)"
      ],
      "execution_count": null,
      "outputs": []
    },
    {
      "cell_type": "code",
      "metadata": {
        "id": "M4E6_9N2qi_k"
      },
      "source": [
        "# initialize decision tree classifier class with a max_depth of 3\n",
        "clf = tree.DecisionTreeClassifier(max_depth= 3)"
      ],
      "execution_count": null,
      "outputs": []
    },
    {
      "cell_type": "code",
      "metadata": {
        "id": "sf81ftFzrBx6"
      },
      "source": [
        "# choose the columns you want to train on these are the features for the model\n",
        "cols = ['fixed acidity', 'volatile acidity', 'citric acid', 'residual sugar', \\\n",
        "'chlorides', 'free sulfur dioxide', 'total sulfur dioxide', 'density', \\\n",
        "'pH', 'sulphates', 'alcohol']"
      ],
      "execution_count": null,
      "outputs": []
    },
    {
      "cell_type": "code",
      "metadata": {
        "colab": {
          "base_uri": "https://localhost:8080/"
        },
        "id": "jnc3N6PArjl_",
        "outputId": "f6e2853e-d530-4aa9-f887-f3410d60ad3f"
      },
      "source": [
        "# train the model on the provided features and mapped quality from before\n",
        "clf.fit(df_train[cols], df_train.quality)"
      ],
      "execution_count": null,
      "outputs": [
        {
          "output_type": "execute_result",
          "data": {
            "text/plain": [
              "DecisionTreeClassifier(ccp_alpha=0.0, class_weight=None, criterion='gini',\n",
              "                       max_depth=3, max_features=None, max_leaf_nodes=None,\n",
              "                       min_impurity_decrease=0.0, min_impurity_split=None,\n",
              "                       min_samples_leaf=1, min_samples_split=2,\n",
              "                       min_weight_fraction_leaf=0.0, presort='deprecated',\n",
              "                       random_state=None, splitter='best')"
            ]
          },
          "metadata": {
            "tags": []
          },
          "execution_count": 17
        }
      ]
    },
    {
      "cell_type": "markdown",
      "metadata": {
        "id": "vO16bLNwsc2D"
      },
      "source": [
        "Note that I have used a max_depth of 3 for the decision tree classifier. I have left all other parameters of this model to its default value.\n",
        "\n",
        "Now, we test the accuracy of this model on the training set and the test set:\n"
      ]
    },
    {
      "cell_type": "code",
      "metadata": {
        "id": "60t3Kj4-rpVb"
      },
      "source": [
        "# generate predictions on the training set\n",
        "train_predictions = clf.predict(df_train[cols])"
      ],
      "execution_count": null,
      "outputs": []
    },
    {
      "cell_type": "code",
      "metadata": {
        "id": "nk5rQpw3shaU"
      },
      "source": [
        "# generate predictions on the test set\n",
        "test_predictions = clf.predict(df_test[cols])"
      ],
      "execution_count": null,
      "outputs": []
    },
    {
      "cell_type": "code",
      "metadata": {
        "colab": {
          "base_uri": "https://localhost:8080/"
        },
        "id": "lJdMHbAdslsx",
        "outputId": "cc102524-1c9d-4585-9606-c5cfefbd951f"
      },
      "source": [
        "# calculate the accuracy of predictions on training data set\n",
        "train_accuracy = metrics.accuracy_score(\n",
        "df_train.quality, train_predictions)\n",
        "\n",
        "# calculate the accuracy of predictions on test data set\n",
        "test_accuracy = metrics.accuracy_score(\n",
        "df_test.quality, test_predictions)\n",
        "\n",
        "print('The training and test accuracies are found to be', train_accuracy * 100, ' and ', test_accuracy * 100)"
      ],
      "execution_count": null,
      "outputs": [
        {
          "output_type": "stream",
          "text": [
            "The training and test accuracies are found to be 59.199999999999996  and  55.09181969949917\n"
          ],
          "name": "stdout"
        }
      ]
    },
    {
      "cell_type": "markdown",
      "metadata": {
        "id": "V5QcgjVuti8X"
      },
      "source": [
        "Now if we try to increase the max_depth to 7 and repeat the process. Let's look"
      ]
    },
    {
      "cell_type": "code",
      "metadata": {
        "colab": {
          "base_uri": "https://localhost:8080/"
        },
        "id": "PUkAT8hZsryC",
        "outputId": "fbd6e314-e627-4f7a-c749-5face3d42347"
      },
      "source": [
        "clf_1 = tree.DecisionTreeClassifier(max_depth= 7)\n",
        "clf_1.fit(df_train[cols], df_train.quality)\n",
        "\n",
        "# generate predictions on the training set\n",
        "train_predictions_1 = clf_1.predict(df_train[cols])\n",
        "\n",
        "# generate predictions on the test set\n",
        "test_predictions_1 = clf_1.predict(df_test[cols])\n",
        "\n",
        "# calculate the accuracy of predictions on training data set\n",
        "train_accuracy_1 = metrics.accuracy_score(\n",
        "df_train.quality, train_predictions_1)\n",
        "\n",
        "# calculate the accuracy of predictions on test data set\n",
        "test_accuracy_1 = metrics.accuracy_score(\n",
        "df_test.quality, test_predictions_1)\n",
        "\n",
        "print('The training and test accuracies are found to be', train_accuracy_1 * 100, ' and ', test_accuracy_1 * 100)"
      ],
      "execution_count": null,
      "outputs": [
        {
          "output_type": "stream",
          "text": [
            "The training and test accuracies are found to be 76.5  and  56.26043405676127\n"
          ],
          "name": "stdout"
        }
      ]
    },
    {
      "cell_type": "markdown",
      "metadata": {
        "id": "oxs2uvHktGic"
      },
      "source": [
        "- We could observe that accuracy increases as we increase the max-depth from 3 to 7.\n",
        "\n",
        "- Here, we have used accuracy, mainly because it\n",
        "is the most straightforward metric. It might not be the best metric for this problem.\n",
        "\n",
        "What about we calculate these accuracies for different values of max_depth and\n",
        "make a plot?\n",
        "\n"
      ]
    },
    {
      "cell_type": "code",
      "metadata": {
        "id": "duapmQYTs4xT"
      },
      "source": [
        "# this is our global size of label text on the plots\n",
        "matplotlib.rc('xtick', labelsize=20)\n",
        "matplotlib.rc('ytick', labelsize=20)"
      ],
      "execution_count": null,
      "outputs": []
    },
    {
      "cell_type": "code",
      "metadata": {
        "id": "3PQGSi1bvF7F"
      },
      "source": [
        "# initialize lists to store accuracies for training and test data we start with 50% accuracy\n",
        "train_accuracies = [0.5]\n",
        "test_accuracies = [0.5]"
      ],
      "execution_count": null,
      "outputs": []
    },
    {
      "cell_type": "code",
      "metadata": {
        "id": "_uh3JgCsvTp3"
      },
      "source": [
        "# iterate over a few depth values\n",
        "for depth in range(1, 25):\n",
        "    # init the model\n",
        "    clf_2 = tree.DecisionTreeClassifier(max_depth=depth)\n",
        "    \n",
        "    # fit the model on given features\n",
        "    clf_2.fit(df_train[cols], df_train.quality)\n",
        "\n",
        "    # create training & test predictions\n",
        "    train_predictions_2 = clf_2.predict(df_train[cols])\n",
        "    test_predictions_2 = clf_2.predict(df_test[cols])\n",
        "\n",
        "    # calculate training & test accuracies\n",
        "    train_accuracy_2 = metrics.accuracy_score(df_train.quality, train_predictions_2)\n",
        "    test_accuracy_2 = metrics.accuracy_score(df_test.quality, test_predictions_2)\n",
        "\n",
        "    # append accuracies\n",
        "    train_accuracies.append(train_accuracy_2)\n",
        "    test_accuracies.append(test_accuracy_2)"
      ],
      "execution_count": null,
      "outputs": []
    },
    {
      "cell_type": "code",
      "metadata": {
        "colab": {
          "base_uri": "https://localhost:8080/",
          "height": 353
        },
        "id": "UosB6esBv4kg",
        "outputId": "21a198d8-d82c-455c-cffc-bf4b32a70663"
      },
      "source": [
        "# create two plots using matplotlib\n",
        "# and seaborn\n",
        "plt.figure(figsize=(10, 5))\n",
        "sns.set_style(\"whitegrid\")\n",
        "plt.plot(train_accuracies, label=\"train accuracy\")\n",
        "plt.plot(test_accuracies, label=\"test accuracy\")\n",
        "plt.legend(loc=\"upper left\", prop={'size': 15})\n",
        "plt.xticks(range(0, 26, 5))\n",
        "plt.xlabel(\"max_depth\", size=20)\n",
        "plt.ylabel(\"accuracy\", size=20)\n",
        "plt.show()"
      ],
      "execution_count": null,
      "outputs": [
        {
          "output_type": "display_data",
          "data": {
            "image/png": "[encoded data removed]",
            "text/plain": [
              "<Figure size 720x360 with 1 Axes>"
            ]
          },
          "metadata": {
            "tags": [],
            "needs_background": "light"
          }
        }
      ]
    },
    {
      "cell_type": "markdown",
      "metadata": {
        "id": "PZDQBnzNx1Fc"
      },
      "source": [
        "- We see that the best score for test data is obtained when max_depth has a value of 14. As we keep increasing the value of this parameter, test accuracy remains the same or gets worse, but the training accuracy keeps increasing. \n",
        "\n",
        "- It means that our simple decision tree model keeps learning about the training data better and better with an increase in max_depth, but the performance on test data does not improve at all. \n",
        "\n",
        "This is called as overfitting.\n",
        "\n",
        "- The model fits perfectly on the training set and performs poorly when it comes to the test set. \n",
        "\n",
        "- This means that the model will learn the training data well but will not generalize on unseen samples. \n",
        "\n",
        "- In the dataset above, one can build a model with very high max_depth which will have outstanding results on training data, but that kind of model is not useful as it will not provide a similar result on the real-world samples\n",
        "or live data.\n",
        "\n"
      ]
    },
    {
      "cell_type": "markdown",
      "metadata": {
        "id": "_u9m9CyvyvdZ"
      },
      "source": [
        "- One might argue that this approach isn’t overfitting as the accuracy of the test set more or less remains the same. \n",
        "\n",
        "- Another definition of overfitting would be when the test loss increases as we keep improving training loss. This is very common when it comes to **neural networks**.\n"
      ]
    },
    {
      "cell_type": "markdown",
      "metadata": {
        "id": "Kt3tCiE2zQ3k"
      },
      "source": [
        "- If we have a very large network for a dataset which is\n",
        "quite small (i.e. very less number of samples), we will observe that the loss for both training and test set will decrease as we keep training. \n",
        "\n",
        "- However, at some point, test loss will reach its minima, and after that, it will start increasing even though training loss decreases further. We must stop training where the validation loss reaches its\n",
        "minimum value.\n"
      ]
    },
    {
      "cell_type": "markdown",
      "metadata": {
        "id": "cj9q8s3f0W_7"
      },
      "source": [
        "Now we can go back to cross-validation.\n",
        "\n",
        "While explaining about overfitting, we decided to divide the data into two parts. We trained the model on one part and checked its performance on the other part. \n",
        "\n",
        "Well, this is also a kind of cross-validation commonly known as a **hold-out set**. We use this kind of (cross-) validation when we have a large amount of data and model inference is a time-consuming process.\n"
      ]
    },
    {
      "cell_type": "markdown",
      "metadata": {
        "id": "3hACJsGy1YhY"
      },
      "source": [
        "There are many different ways one can do cross-validation, and it is the most critical step when it comes to building a good machine learning model which is generalizable when it comes to unseen data.\n",
        "\n",
        "Choosing the right cross-validation depends on the dataset you are dealing with, and one’s choice of cross-validation on one dataset may or may not apply to other datasets. However, there are a few types of cross-validation techniques which are the most popular and widely used.\n",
        "\n",
        "These include:\n",
        "\n",
        "- k-fold cross-validation\n",
        "- stratified k-fold cross-validation\n",
        "- hold-out based validation\n",
        "- leave-one-out cross-validation\n",
        "- group k-fold cross-validation\n",
        "\n",
        "\n",
        "Let's look at the code for the k-fold cross-validation i.e random k-fold cross-validation."
      ]
    },
    {
      "cell_type": "code",
      "metadata": {
        "id": "jEu3KdI_v6qb"
      },
      "source": [
        "# import pandas and model_selection module of scikit-learn\n",
        "import pandas as pd\n",
        "from sklearn import model_selection\n",
        "\n",
        "if __name__ == \"__main__\":\n",
        "    # Training data is in a CSV file called train.csv\n",
        "    dt = pd.read_csv(\"winequality-red.csv\",sep=';')\n",
        "    \n",
        "    # we create a new column called kfold and fill it with -1\n",
        "    dt[\"kfold\"] = -1\n",
        "    \n",
        "    # the next step is to randomize the rows of the data\n",
        "    dt = dt.sample(frac=1).reset_index(drop=True)\n",
        "    \n",
        "    # initiate the kfold class from model_selection module\n",
        "    kf = model_selection.KFold(n_splits=5)\n",
        "    \n",
        "    # fill the new kfold column\n",
        "    for fold, (trn_, val_) in enumerate(kf.split(X=df)):\n",
        "        df.loc[val_, 'kfold'] = fold\n",
        "    \n",
        "    # save the new csv with kfold column\n",
        "    dt.to_csv(\"train_folds.csv\", index=False)"
      ],
      "execution_count": null,
      "outputs": []
    },
    {
      "cell_type": "markdown",
      "metadata": {
        "id": "BLvxHSbJLKjN"
      },
      "source": [
        "For the wine dataset, let’s look at the distribution of labels.\n"
      ]
    },
    {
      "cell_type": "code",
      "metadata": {
        "colab": {
          "base_uri": "https://localhost:8080/",
          "height": 314
        },
        "id": "yS4Ey9bFKfhY",
        "outputId": "831e1668-b85d-43b7-9767-e71955789894"
      },
      "source": [
        "b = sns.countplot(x='quality', data=dt)\n",
        "b.set_xlabel(\"quality\", fontsize=20)\n",
        "b.set_ylabel(\"count\", fontsize=20)"
      ],
      "execution_count": null,
      "outputs": [
        {
          "output_type": "execute_result",
          "data": {
            "text/plain": [
              "Text(0, 0.5, 'count')"
            ]
          },
          "metadata": {
            "tags": []
          },
          "execution_count": 27
        },
        {
          "output_type": "display_data",
          "data": {
            "image/png": "[encoded data removed]",
            "text/plain": [
              "<Figure size 432x288 with 1 Axes>"
            ]
          },
          "metadata": {
            "tags": []
          }
        }
      ]
    },
    {
      "cell_type": "markdown",
      "metadata": {
        "id": "kX9HFP_QPmDd"
      },
      "source": [
        "Now let's look at the stratifiedKFold"
      ]
    },
    {
      "cell_type": "code",
      "metadata": {
        "id": "XN7LCfGeLDrL"
      },
      "source": [
        "if __name__ == \"__main__\":\n",
        "    # Training data is in a csv file called train.csv\n",
        "    df_1 = pd.read_csv(\"winequality-red.csv\",sep=';')\n",
        "\n",
        "    # we create a new column called kfold and fill it with -1\n",
        "    df_1[\"kfold\"] = -1\n",
        "\n",
        "    # the next step is to randomize the rows of the data\n",
        "    df_1 = df_1.sample(frac=1).reset_index(drop=True)\n",
        "\n",
        "    # fetch targets\n",
        "    y_1 = df_1.quality.values\n",
        "\n",
        "    # initiate the kfold class from model_selection module\n",
        "    kf_1 = model_selection.StratifiedKFold(n_splits=5)\n",
        "\n",
        "    # fill the new kfold column\n",
        "    for f, (t_, v_) in enumerate(kf_1.split(X=df_1, y=y_1)):\n",
        "        df_1.loc[v_, 'kfold'] = f\n",
        "        \n",
        "    # save the new csv with kfold column\n",
        "    df_1.to_csv(\"train_folds.csv\", index=False)"
      ],
      "execution_count": null,
      "outputs": []
    },
    {
      "cell_type": "markdown",
      "metadata": {
        "id": "IKxUrd68RJJC"
      },
      "source": [
        "For the wine dataset, let’s look at the distribution of labels.\n"
      ]
    },
    {
      "cell_type": "code",
      "metadata": {
        "colab": {
          "base_uri": "https://localhost:8080/",
          "height": 314
        },
        "id": "a7U-d3oAzMJU",
        "outputId": "a6e76b3e-ecc8-48db-951c-70289a0abefb"
      },
      "source": [
        "b = sns.countplot(x='quality', data=df)\n",
        "b.set_xlabel(\"quality\", fontsize=20)\n",
        "b.set_ylabel(\"count\", fontsize=20)"
      ],
      "execution_count": null,
      "outputs": [
        {
          "output_type": "execute_result",
          "data": {
            "text/plain": [
              "Text(0, 0.5, 'count')"
            ]
          },
          "metadata": {
            "tags": []
          },
          "execution_count": 29
        },
        {
          "output_type": "display_data",
          "data": {
            "image/png": "[encoded data removed]",
            "text/plain": [
              "<Figure size 432x288 with 1 Axes>"
            ]
          },
          "metadata": {
            "tags": []
          }
        }
      ]
    },
    {
      "cell_type": "markdown",
      "metadata": {
        "id": "D1i1fKdERrTT"
      },
      "source": [
        " Depending on which algorithm we choose, training and even validation can be very expensive for a dataset which is of this size. In these\n",
        "cases, we can opt for a hold-out based validation"
      ]
    },
    {
      "cell_type": "markdown",
      "metadata": {
        "id": "EVNrgalfT69t"
      },
      "source": [
        "To use stratified k-fold for a regression problem, we have first to divide the target into bins, and then we can use stratified k-fold in the same way as for classification\n",
        "problems. \n",
        "\n",
        "- There are several choices for selecting the appropriate number of bins. \n",
        "- If we have a lot of samples( > 10k, > 100k), then you don’t need to care about the number of bins. Just divide the data into 10 or 20 bins. \n",
        "\n",
        "- If you do not have a lot of samples, you can use a simple rule like Sturge’s Rule to calculate the appropriate\n",
        "number of bins.\n",
        "\n",
        "**Sturge’s Rule**\n",
        "\n",
        "Number of Bins = 1 + log<sub>2</sub>(N)\n"
      ]
    },
    {
      "cell_type": "code",
      "metadata": {
        "id": "s9IbtRSyzIBh"
      },
      "source": [
        "def create_folds(data):\n",
        "    # we create a new column called kfold and fill it with -1\n",
        "    data[\"kfold\"] = -1\n",
        "\n",
        "    # the next step is to randomize the rows of the data\n",
        "    data = data.sample(frac=1).reset_index(drop=True)\n",
        "\n",
        "    # calculate the number of bins by Sturge's rule\n",
        "    # I take the floor of the value, you can also\n",
        "    # just round it\n",
        "    num_bins = int (np.floor(1 + np.log2(len(data))))\n",
        "\n",
        "    # bin targets\n",
        "    data.loc[:, \"bins\"] = pd.cut(data[\"target\"], bins=num_bins, labels=False)\n",
        "\n",
        "    # initiate the kfold class from model_selection module\n",
        "    kf = model_selection.StratifiedKFold(n_splits=5)\n",
        "\n",
        "    # fill the new kfold column\n",
        "    # note that, instead of targets, we use bins!\n",
        "    for f, (t_, v_) in enumerate(kf.split(X=data, y=data.bins.values)):\n",
        "        data.loc[v_, 'kfold'] = f\n",
        "\n",
        "    # drop the bins column\n",
        "    data = data.drop(\"bins\", axis=1)\n",
        "\n",
        "    # return dataframe with folds\n",
        "    return data\n",
        "\n",
        "if __name__ == \"__main__\":\n",
        "    # we create a sample dataset with 15000 samples\n",
        "    # and 100 features and 1 target\n",
        "    X, y = datasets.make_regression(\n",
        "    n_samples=15000, n_features=100, n_targets=1)\n",
        "\n",
        "    # create a dataframe out of our numpy arrays\n",
        "    df = pd.DataFrame(X,\n",
        "    columns=[f\"f_{i}\" for i in range(X.shape[1])])\n",
        "    df.loc[:, \"target\"] = y\n",
        "\n",
        "    # create folds\n",
        "    df = create_folds(df)"
      ],
      "execution_count": null,
      "outputs": []
    },
    {
      "cell_type": "markdown",
      "metadata": {
        "id": "VbJeTVHoXD0W"
      },
      "source": [
        "Cross-validation is the first and most essential step when it comes to building machine learning models.\n",
        "- If you want to do **feature engineering, split your data first**.\n",
        "- If you're going to **build models**, split your data first**. \n",
        "- If you have a **good cross-\n",
        "validation scheme** in which validation data is representative of training and real- world data, you will be able to build a good machine learning model which is highly generalizable.\n"
      ]
    },
    {
      "cell_type": "markdown",
      "metadata": {
        "id": "-6nE7bQpW8eU"
      },
      "source": [
        "There is no way to combine GroupKFold with StratifiedKFold ttry to solve it."
      ]
    },
    {
      "cell_type": "markdown",
      "metadata": {
        "id": "RRBcygkxYAzW"
      },
      "source": [
        "## **Evulation metrics**"
      ]
    },
    {
      "cell_type": "markdown",
      "metadata": {
        "id": "gV4CQ7WQYmhW"
      },
      "source": [
        "When it comes to machine learning problems, you will encounter a lot of different types of metrics in the real world. \n",
        "\n",
        "Sometimes, people even end up creating metrics\n",
        "that suit the business problem\n",
        "\n",
        "If we talk about classification problems, the most common metrics used are:\n",
        "- Accuracy\n",
        "- Precision (P)\n",
        "- Recall (R)\n",
        "- F1 score (F1)\n",
        "- Area under the ROC (Receiver Operating Characteristic) curve or simply\n",
        "AUC (AUC)\n",
        "- Log loss\n",
        "- Precision at k (P@k)\n",
        "- Average precision at k (AP@k)\n",
        "- Mean average precision at k (MAP@k)\n",
        "\n",
        "When it comes to regression, the most commonly used evaluation metrics are:\n",
        "- Mean absolute error (MAE)\n",
        "- Mean squared error (MSE)\n",
        "- Root mean squared error (RMSE)\n",
        "- Root mean squared logarithmic error (RMSLE)\n",
        "- Mean percentage error (MPE)\n",
        "- Mean absolute percentage error (MAPE)\n",
        "- R2\n",
        "\n",
        "Now let's go one-by-one in detail and understand which metric should be used where.\n",
        "\n",
        "For better understanding we will be considering a **siim-acr-pneumothorax-segmentation dataset** form the kaggle.\n"
      ]
    },
    {
      "cell_type": "markdown",
      "metadata": {
        "id": "56zwWOTzajBe"
      },
      "source": [
        "**Accuracy**: It is one of the most straightforward metrics used in machine learning.\n",
        "It defines how accurate your model is. For the problem described above, if you build\n",
        "a model that classifies 90 images accurately, your accuracy is 90% or 0.90. If only 83 images are classified correctly, the accuracy of your model is 83% or 0.83.\n",
        "\n",
        "Python code for calculating accuracy is also quite simple\n"
      ]
    },
    {
      "cell_type": "code",
      "metadata": {
        "id": "PYuDnLF8zTtm"
      },
      "source": [
        "def accuracy(y_true, y_pred):\n",
        "    \"\"\"\n",
        "    Function to calculate accuracy\n",
        "    :param y_true: list of true values\n",
        "    :param y_pred: list of predicted values\n",
        "    :return: accuracy score\n",
        "    \"\"\"\n",
        "    # initialize a simple counter for correct predictions\n",
        "    correct_counter = 0\n",
        "    # loop over all elements of y_true\n",
        "    # and y_pred \"together\"\n",
        "    for yt, yp in zip(y_true, y_pred):\n",
        "        if yt == yp:\n",
        "            # if prediction is equal to truth, increase the counter\n",
        "            correct_counter += 1\n",
        "    # return accuracy\n",
        "    # which is correct predictions over the number of samples\n",
        "    return correct_counter / len(y_true)"
      ],
      "execution_count": null,
      "outputs": []
    },
    {
      "cell_type": "code",
      "metadata": {
        "colab": {
          "base_uri": "https://localhost:8080/"
        },
        "id": "rIY3s1UgzZFo",
        "outputId": "a1c34a1e-ad03-45f9-e547-3ce0312fe10f"
      },
      "source": [
        "# We can also calculate accuracy using scikit-learn.\n",
        "l1 = [0,1,1,1,0,0,0,1]\n",
        "l2 = [0,1,0,1,0,1,0,0]\n",
        "metrics.accuracy_score(l1, l2)"
      ],
      "execution_count": null,
      "outputs": [
        {
          "output_type": "execute_result",
          "data": {
            "text/plain": [
              "0.625"
            ]
          },
          "metadata": {
            "tags": []
          },
          "execution_count": 32
        }
      ]
    },
    {
      "cell_type": "markdown",
      "metadata": {
        "id": "DoLt_VhJbu3a"
      },
      "source": [
        "When there is some imbbalance in the dataset like around 90% to 10%. we could see that the dataset is skewed, i.e., the number of samples in one class outnumber the number of samples in other class by a lot. \n",
        "\n",
        "In these kinds of cases, it is not advisable to use accuracy as an evaluation metric as it is not representative of the data.\n",
        "\n",
        "So, you might get high accuracy, but your model\n",
        "will probably not perform that well when it comes to real-world samples.\n",
        "\n",
        "In these cases, it’s better to look at other metrics such as precision.\n"
      ]
    },
    {
      "cell_type": "markdown",
      "metadata": {
        "id": "N7dkxR-IeWPG"
      },
      "source": [
        "Before learning about precision, we need to know a few terms. Here we have\n",
        "assumed that chest x-ray images with pneumothorax are positive class  and\n",
        "without pneumothorax are negative class.\n",
        "\n",
        "**True positive (TP)**: Given an image, if your model predicts the image has\n",
        "pneumothorax, and the actual target for that image has pneumothorax, it is\n",
        "considered a true positive.\n",
        "\n",
        "**True negative (TN)**: Given an image, if your model predicts that the image does not have pneumothorax and the actual target says that it is a non-pneumothorax image, it is considered a true negative.\n",
        "In simple words, if your model correctly predicts positive class, it is true positive, and if your model accurately predicts negative class, it is a true negative.\n",
        "\n",
        "**False positive (FP)**: Given an image, if your model predicts pneumothorax and the\n",
        "actual target for that image is non- pneumothorax, it a false positive.\n",
        "\n",
        "**False negative (FN)**: Given an image, if your model predicts non-pneumothorax and the actual target for that image is pneumothorax, it is a false negative.\n",
        "In simple words, if your model incorrectly (or falsely) predicts positive class, it is\n",
        "a false positive. If your model incorrectly (or falsely) predicts negative class, it is a\n",
        "false negative.\n"
      ]
    },
    {
      "cell_type": "code",
      "metadata": {
        "id": "wAaeJ9L4ea1r"
      },
      "source": [
        "def true_positive(y_true, y_pred):\n",
        "    \"\"\"\n",
        "    Function to calculate True Positives\n",
        "    :param y_true: list of true values\n",
        "    :param y_pred: list of predicted values\n",
        "    :return: number of true positives\n",
        "    \"\"\"\n",
        "    # initialize\n",
        "    tp = 0\n",
        "    for yt, yp in zip(y_true, y_pred):\n",
        "        if yt == 1 and yp == 1:\n",
        "            tp += 1\n",
        "    return tp\n",
        "\n",
        "def true_negative(y_true, y_pred):\n",
        "    \"\"\"\n",
        "    Function to calculate True Negatives\n",
        "    :param y_true: list of true values\n",
        "    :param y_pred: list of predicted values\n",
        "    :return: number of true negatives\n",
        "    \"\"\"\n",
        "    # initialize\n",
        "    tn = 0\n",
        "    for yt, yp in zip(y_true, y_pred):\n",
        "        if yt == 0 and yp == 0:\n",
        "            tn += 1\n",
        "    return tn\n",
        "\n",
        "def false_positive(y_true, y_pred):\n",
        "    \"\"\"\n",
        "    Function to calculate False Positives\n",
        "    :param y_true: list of true values\n",
        "    :param y_pred: list of predicted values\n",
        "    :return: number of false positives\n",
        "    \"\"\"\n",
        "    # initialize\n",
        "    fp = 0\n",
        "    for yt, yp in zip(y_true, y_pred):\n",
        "        if yt == 0 and yp == 1:\n",
        "            fp += 1\n",
        "    return fp\n",
        "\n",
        "def false_negative(y_true, y_pred):\n",
        "    \"\"\"\n",
        "    Function to calculate False Negatives\n",
        "    :param y_true: list of true values\n",
        "    :param y_pred: list of predicted values\n",
        "    :return: number of false negatives\n",
        "    \"\"\"\n",
        "    # initialize\n",
        "    fn = 0\n",
        "    for yt, yp in zip(y_true, y_pred):\n",
        "        if yt == 1 and yp == 0:\n",
        "            fn += 1\n",
        "    return fn\n"
      ],
      "execution_count": null,
      "outputs": []
    },
    {
      "cell_type": "markdown",
      "metadata": {
        "id": "U30kdqJZfsrn"
      },
      "source": [
        "The way I have implemented these here is quite simple and works only for binary\n",
        "classification. Let’s check these functions.\n"
      ]
    },
    {
      "cell_type": "code",
      "metadata": {
        "colab": {
          "base_uri": "https://localhost:8080/"
        },
        "id": "R9gPhzTjbYnK",
        "outputId": "3d8c520e-4517-4064-d4ac-830555d67587"
      },
      "source": [
        "l1 = [0,1,1,1,0,0,0,1]\n",
        "l2 = [0,1,0,1,0,1,0,0]\n",
        "print(true_positive(l1, l2))\n",
        "print(false_positive(l1, l2))\n",
        "print(false_negative(l1, l2))\n",
        "print(true_negative(l1, l2))"
      ],
      "execution_count": null,
      "outputs": [
        {
          "output_type": "stream",
          "text": [
            "2\n",
            "1\n",
            "2\n",
            "3\n"
          ],
          "name": "stdout"
        }
      ]
    },
    {
      "cell_type": "markdown",
      "metadata": {
        "id": "TIv1lTgIgpp9"
      },
      "source": [
        "If we have to define accuracy using the terms described above, we can write:\n",
        "\n",
        "**Accuracy Score = (TP + TN) / (TP + TN + FP + FN)**\n",
        "\n",
        "We can now quickly implement accuracy score using TP, TN, FP and FN in python.\n",
        "Let’s call it accuracy_v2."
      ]
    },
    {
      "cell_type": "code",
      "metadata": {
        "id": "sU7DDAFXf-Ev"
      },
      "source": [
        "def accuracy_v2(y_true, y_pred):\n",
        "    \"\"\"\n",
        "    Function to calculate accuracy using tp/tn/fp/fn\n",
        "    :param y_true: list of true values\n",
        "    :param y_pred: list of predicted values\n",
        "    :return: accuracy score\n",
        "    \"\"\"\n",
        "    tp = true_positive(y_true, y_pred)\n",
        "    fp = false_positive(y_true, y_pred)\n",
        "    fn = false_negative(y_true, y_pred)\n",
        "    tn = true_negative(y_true, y_pred)\n",
        "    accuracy_score = (tp + tn) / (tp + tn + fp + fn)\n",
        "    return accuracy_score"
      ],
      "execution_count": null,
      "outputs": []
    },
    {
      "cell_type": "markdown",
      "metadata": {
        "id": "2hXFBKIjg5UZ"
      },
      "source": [
        "We can quickly check the correctness of this function by comparing it to our\n",
        "previous implementation and scikit-learn version."
      ]
    },
    {
      "cell_type": "code",
      "metadata": {
        "colab": {
          "base_uri": "https://localhost:8080/"
        },
        "id": "TRWQE2HKg2Wh",
        "outputId": "49fb60c6-b3d3-4810-8185-03aeef8dc393"
      },
      "source": [
        "l1 = [0,1,1,1,0,0,0,1]\n",
        "l2 = [0,1,0,1,0,1,0,0]\n",
        "print(accuracy(l1, l2))\n",
        "print(accuracy_v2(l1, l2))\n",
        "print(metrics.accuracy_score(l1, l2))"
      ],
      "execution_count": null,
      "outputs": [
        {
          "output_type": "stream",
          "text": [
            "0.625\n",
            "0.625\n",
            "0.625\n"
          ],
          "name": "stdout"
        }
      ]
    },
    {
      "cell_type": "markdown",
      "metadata": {
        "id": "zg6iTsBjhMAM"
      },
      "source": [
        "Please note that in this code, metrics.accuracy_score comes from scikit-learn.\n",
        "Great. \n",
        "\n",
        "All values match. This means we have not made any mistakes in the\n",
        "implementation.\n",
        "\n",
        "Now, we can move to other important metrics.\n"
      ]
    },
    {
      "cell_type": "markdown",
      "metadata": {
        "id": "iqtjFXP0lgLu"
      },
      "source": [
        "**Precision** is defined as:\n",
        "\n",
        "        Precision = TP / (TP + FP)\n",
        "\n",
        "Let’s say we make a new model on the new skewed dataset and our model correctly\n",
        "identified 80 non-pneumothorax out of 90 and 8 pneumothorax out of 10. Thus, we identify 88 images out of 100 successfully. The accuracy is, therefore, 0.88 or 88%.\n",
        "\n",
        "But, out of these 100 samples, 10 non-pneumothorax images are misclassified as having pneumothorax and 2 pneumothorax are misclassified as not having pneumothorax.\n",
        "\n",
        "Thus, we have:\n",
        "- TP : 8\n",
        "- TN: 80\n",
        "- FP: 10\n",
        "- FN: 2\n",
        "\n",
        "So, our precision is 8 / (8 + 10) = 0.444. This means our model is correct 44.4% times when it’s trying to identify positive samples (pneumothorax).\n",
        "\n",
        "Now, since we have implemented TP, TN, FP and FN, we can easily implement\n",
        "precision in python.\n",
        "\n",
        "\n"
      ]
    },
    {
      "cell_type": "code",
      "metadata": {
        "id": "okZ8BQrjhF2K"
      },
      "source": [
        "def precision(y_true, y_pred):\n",
        "    \"\"\"\n",
        "    Function to calculate precision\n",
        "    :param y_true: list of true values\n",
        "    :param y_pred: list of predicted values\n",
        "    :return: precision score\n",
        "    \"\"\"\n",
        "    tp = true_positive(y_true, y_pred)\n",
        "    fp = false_positive(y_true, y_pred)\n",
        "    precision = tp / (tp + fp)\n",
        "    return precision"
      ],
      "execution_count": null,
      "outputs": []
    },
    {
      "cell_type": "markdown",
      "metadata": {
        "id": "dapMY_MFl7gi"
      },
      "source": [
        "Let’s try this implementation of precision.\n"
      ]
    },
    {
      "cell_type": "code",
      "metadata": {
        "colab": {
          "base_uri": "https://localhost:8080/"
        },
        "id": "QkTZgE5Zl4zh",
        "outputId": "087cea47-d2fe-4256-ffd7-007456cb88a8"
      },
      "source": [
        "l1 = [0,1,1,1,0,0,0,1]\n",
        "l2 = [0,1,0,1,0,1,0,0]\n",
        "precision(l1, l2)"
      ],
      "execution_count": null,
      "outputs": [
        {
          "output_type": "execute_result",
          "data": {
            "text/plain": [
              "0.6666666666666666"
            ]
          },
          "metadata": {
            "tags": []
          },
          "execution_count": 38
        }
      ]
    },
    {
      "cell_type": "markdown",
      "metadata": {
        "id": "lpSKipAgmBrz"
      },
      "source": [
        "**Recall** is defined as:\n",
        "\n",
        "        Recall = TP / (TP + FN)\n",
        "\n",
        "In the above case recall is 8 / (8 + 2) = 0.80. This means our model identified 80%\n",
        "of positive samples correctly.\n"
      ]
    },
    {
      "cell_type": "code",
      "metadata": {
        "id": "tPAdjFLOl-_c"
      },
      "source": [
        "def recall(y_true, y_pred):\n",
        "    \"\"\"\n",
        "    Function to calculate recall\n",
        "    :param y_true: list of true values\n",
        "    :param y_pred: list of predicted values\n",
        "    :return: recall score\n",
        "    \"\"\"\n",
        "    tp = true_positive(y_true, y_pred)\n",
        "    fn = false_negative(y_true, y_pred)\n",
        "    recall = tp / (tp + fn)\n",
        "    return recall"
      ],
      "execution_count": null,
      "outputs": []
    },
    {
      "cell_type": "code",
      "metadata": {
        "colab": {
          "base_uri": "https://localhost:8080/"
        },
        "id": "J2QwJm96mOb-",
        "outputId": "812059aa-c912-4021-a324-e4e3cf159455"
      },
      "source": [
        "recall(l1,l2)"
      ],
      "execution_count": null,
      "outputs": [
        {
          "output_type": "execute_result",
          "data": {
            "text/plain": [
              "0.5"
            ]
          },
          "metadata": {
            "tags": []
          },
          "execution_count": 40
        }
      ]
    },
    {
      "cell_type": "markdown",
      "metadata": {
        "id": "lrxCCmQFo4FZ"
      },
      "source": [
        "Most of the models predict a probability, and when we predict, we usually choose\n",
        "this threshold to be 0.5. This threshold is not always ideal, and depending on this\n",
        "threshold, your value of precision and recall can change drastically. If for every\n",
        "threshold we choose, we calculate the precision and recall values, we can create a\n",
        "plot between these sets of values. This plot or curve is known as the precision-recall\n",
        "curve.\n"
      ]
    },
    {
      "cell_type": "code",
      "metadata": {
        "id": "SZGwv9ukmTAy"
      },
      "source": [
        "y_true = [0, 0, 0, 1, 0, 0, 0, 0, 0, 0, 1, 0, 0, 0, 0, 0, 0, 0, 1, 0]\n",
        "y_pred = [0.02638412, 0.11114267, 0.31620708, 0.0490937, 0.0191491, \\\n",
        "          0.17554844, 0.15952202, 0.03819563, 0.11639273, 0.079377, \\\n",
        "          0.08584789, 0.39095342, 0.27259048, 0.03447096, 0.04644807, \\\n",
        "          0.03543574, 0.18521942, 0.05934905, 0.61977213, 0.33056815]"
      ],
      "execution_count": null,
      "outputs": []
    },
    {
      "cell_type": "markdown",
      "metadata": {
        "id": "2yQdqZQDpiNt"
      },
      "source": [
        "So, y_true is our targets, and y_pred is the probability values for a sample being\n",
        "assigned a value of 1. So, now, we look at probabilities in prediction instead of the\n",
        "predicted value (which is most of the time calculated with a threshold at 0.5).\n"
      ]
    },
    {
      "cell_type": "code",
      "metadata": {
        "colab": {
          "base_uri": "https://localhost:8080/",
          "height": 473
        },
        "id": "TY0aS7kVpUQf",
        "outputId": "0945ecfa-8def-4752-b2e3-b2437c80b5bc"
      },
      "source": [
        "precisions = []\n",
        "recalls = []\n",
        "# how we assumed these thresholds is a long story\n",
        "thresholds = [0.0490937 , 0.05934905, 0.079377, 0.08584789, 0.11114267, \\\n",
        "              0.11639273, 0.15952202, 0.17554844, 0.18521942, 0.27259048, \\\n",
        "              0.31620708, 0.33056815, 0.39095342, 0.61977213]\n",
        "\n",
        "# for every threshold, calculate predictions in binary\n",
        "# and append calculated precisions and recalls\n",
        "# to their respective lists\n",
        "for i in thresholds:\n",
        "    temp_prediction = [1 if x >= i else 0 for x in y_pred]\n",
        "    p = precision(y_true, temp_prediction)\n",
        "    r = recall(y_true, temp_prediction)\n",
        "    precisions.append(p)\n",
        "    recalls.append(r)\n",
        "\n",
        "plt.figure(figsize=(7, 7))\n",
        "plt.plot(recalls, precisions)\n",
        "plt.xlabel('Recall', fontsize=15)\n",
        "plt.ylabel('Precision', fontsize=15)"
      ],
      "execution_count": null,
      "outputs": [
        {
          "output_type": "execute_result",
          "data": {
            "text/plain": [
              "Text(0, 0.5, 'Precision')"
            ]
          },
          "metadata": {
            "tags": []
          },
          "execution_count": 42
        },
        {
          "output_type": "display_data",
          "data": {
            "image/png": "[encoded data removed]",
            "text/plain": [
              "<Figure size 504x504 with 1 Axes>"
            ]
          },
          "metadata": {
            "tags": []
          }
        }
      ]
    },
    {
      "cell_type": "markdown",
      "metadata": {
        "id": "ePagL1a5qD5b"
      },
      "source": [
        "This **precision-recall curve** looks very different from what you might have seen on the internet. It’s because we had only 20 samples, and only 3 of them were positive samples. But there’s nothing to worry. It’s the same old precision-recall curve.\n",
        "\n",
        "- Both precision and recall range from 0 to 1 and a value closer to 1 is better.\n",
        "\n"
      ]
    },
    {
      "cell_type": "markdown",
      "metadata": {
        "id": "pNQ-54ZHsCVz"
      },
      "source": [
        "**F1 score** is a metric that combines both precision and recall. It is defined as a simple weighted average (harmonic mean) of precision and recall. If we denote precision using P and recall using R, we can represent the F1 score as:\n",
        "\n",
        "        F1 = 2PR / (P + R)\n",
        "\n",
        "A little bit of mathematics will lead you to the following equation of F1 based on **TP**, **FP** and **FN**. \n",
        "\n",
        "        F1 = 2TP / (2TP + FP + FN)\n",
        "\n",
        "\n",
        "\n"
      ]
    },
    {
      "cell_type": "code",
      "metadata": {
        "id": "CNiN0lRgppyo"
      },
      "source": [
        "def f1(y_true, y_pred):\n",
        "    \"\"\"\n",
        "    Function to calculate f1 score\n",
        "    :param y_true: list of true values\n",
        "    :param y_pred: list of predicted values\n",
        "    :return: f1 score\n",
        "    \"\"\"\n",
        "    p = precision(y_true, y_pred)\n",
        "    r = recall(y_true, y_pred)\n",
        "    score = 2 * p * r / (p + r)\n",
        "    return score"
      ],
      "execution_count": null,
      "outputs": []
    },
    {
      "cell_type": "code",
      "metadata": {
        "colab": {
          "base_uri": "https://localhost:8080/"
        },
        "id": "dwHkGp6QpCgt",
        "outputId": "eecd17ba-837f-42a1-a56f-d607a34855df"
      },
      "source": [
        "y_true = [0, 0, 0, 1, 0, 0, 0, 0, 0, 0, 1, 0, 0, 0, 0, 0, 0, 0, 1, 0]\n",
        "y_pred = [0, 0, 1, 0, 0, 0, 1, 0, 0, 0, 1, 0, 0, 0, 0, 0, 0, 0, 1, 0]\n",
        "f1(y_true, y_pred)"
      ],
      "execution_count": null,
      "outputs": [
        {
          "output_type": "execute_result",
          "data": {
            "text/plain": [
              "0.5714285714285715"
            ]
          },
          "metadata": {
            "tags": []
          },
          "execution_count": 46
        }
      ]
    },
    {
      "cell_type": "code",
      "metadata": {
        "colab": {
          "base_uri": "https://localhost:8080/"
        },
        "id": "Y40VXjxRswDF",
        "outputId": "25130700-c4fd-4bcb-d872-84a437ae8616"
      },
      "source": [
        "metrics.f1_score(y_true, y_pred)"
      ],
      "execution_count": null,
      "outputs": [
        {
          "output_type": "execute_result",
          "data": {
            "text/plain": [
              "0.5714285714285715"
            ]
          },
          "metadata": {
            "tags": []
          },
          "execution_count": 47
        }
      ]
    },
    {
      "cell_type": "markdown",
      "metadata": {
        "id": "qOeP9RAes-U-"
      },
      "source": [
        "- Instead of looking at precision and recall individually, you can also just look at F1 score. \n",
        "\n",
        "- Same as for precision, recall and accuracy, F1 score also ranges from 0 to 1, and a perfect prediction model has an F1 of 1. \n",
        "\n",
        "- **When dealing with datasets that have\n",
        "skewed targets, we should look at F1 (or precision and recall) instead of accuracy.**\n"
      ]
    },
    {
      "cell_type": "markdown",
      "metadata": {
        "id": "bbcG0pRDtSp0"
      },
      "source": [
        "Then there are other crucial terms that we should know about. \n",
        "\n",
        "- The first one is **TPR or True Positive Rate**, which is the same as recall.\n",
        "\n",
        "        TPR = TP / (TP + FN)\n",
        "\n",
        "--> **TPR** or recall is also known as **sensitivity**.\n",
        "\n"
      ]
    },
    {
      "cell_type": "code",
      "metadata": {
        "id": "MoXb9zqtu8ZP"
      },
      "source": [
        "def tpr(y_true, y_pred):\n",
        "    \"\"\"\n",
        "    Function to calculate tpr\n",
        "    :param y_true: list of true values\n",
        "    :param y_pred: list of predicted values\n",
        "    :return: tpr/recall\n",
        "    \"\"\"\n",
        "    return recall(y_true, y_pred)"
      ],
      "execution_count": null,
      "outputs": []
    },
    {
      "cell_type": "markdown",
      "metadata": {
        "id": "zqRO4bDCu9Io"
      },
      "source": [
        "\n",
        "- And the second one is **FPR or False Positive Rate**, which is defined as:\n",
        "\n",
        "        FPR = FP / (TN + FP)\n",
        "\n",
        "--> And **1 - FPR** is known as **specificity** or **True Negative Rate or TNR**"
      ]
    },
    {
      "cell_type": "code",
      "metadata": {
        "id": "OfEGBW0DszZ5"
      },
      "source": [
        "def fpr(y_true, y_pred):\n",
        "    \"\"\"\n",
        "    Function to calculate fpr\n",
        "    :param y_true: list of true values\n",
        "    :param y_pred: list of predicted values\n",
        "    :return: fpr\n",
        "    \"\"\"\n",
        "    fp = false_positive(y_true, y_pred)\n",
        "    tn = true_negative(y_true, y_pred)\n",
        "    return fp / (tn + fp)"
      ],
      "execution_count": null,
      "outputs": []
    },
    {
      "cell_type": "markdown",
      "metadata": {
        "id": "zPKHboMuvYbU"
      },
      "source": [
        "For a typical threshold of >= 0.5, we can evaluate all the above values of precision, recall/TPR, F1 and FPR. But we can do the same if we choose the value of the\n",
        "threshold to be 0.4 or 0.6. In fact, we can choose any value between 0 and 1 and\n",
        "calculate all the metrics described above.\n",
        "\n",
        "Let’s calculate only two values, though: TPR and FPR.\n"
      ]
    },
    {
      "cell_type": "code",
      "metadata": {
        "id": "UuJVhmaautnD"
      },
      "source": [
        "# empty lists to store tpr\n",
        "# and fpr values\n",
        "tpr_list = []\n",
        "fpr_list = []\n",
        "\n",
        "# actual targets\n",
        "y_true = [0, 0, 0, 0, 1, 0, 1, 0, 0, 1, 0, 1, 0, 0, 1]\n",
        "\n",
        "# predicted probabilities of a sample being 1\n",
        "y_pred = [0.1, 0.3, 0.2, 0.6, 0.8, 0.05, 0.9, 0.5, 0.3, \\\n",
        "          0.66, 0.3, 0.2, 0.85, 0.15, 0.99]\n",
        "\n",
        "# handmade thresholds\n",
        "thresholds = [0, 0.1, 0.2, 0.3, 0.4, 0.5, 0.6, 0.7, 0.8, \\\n",
        "              0.85, 0.9, 0.99, 1.0]\n",
        "\n",
        "# loop over all thresholds\n",
        "for thresh in thresholds:\n",
        "    # calculate predictions for a given threshold\n",
        "    temp_pred = [1 if x >= thresh else 0 for x in y_pred]\n",
        "    \n",
        "    # calculate tpr\n",
        "    temp_tpr = tpr(y_true, temp_pred)\n",
        "    \n",
        "    # calculate fpr\n",
        "    temp_fpr = fpr(y_true, temp_pred)\n",
        "    \n",
        "    # append tpr and fpr to lists\n",
        "    tpr_list.append(temp_tpr)\n",
        "    fpr_list.append(temp_fpr)"
      ],
      "execution_count": null,
      "outputs": []
    },
    {
      "cell_type": "code",
      "metadata": {
        "colab": {
          "base_uri": "https://localhost:8080/",
          "height": 464
        },
        "id": "cASjFLjfvg-q",
        "outputId": "c46ed3ad-e635-40a9-f807-5d43fd2a0b11"
      },
      "source": [
        "plt.figure(figsize=(7, 7))\n",
        "plt.fill_between(fpr_list, tpr_list, alpha=0.4)\n",
        "plt.plot(fpr_list, tpr_list, lw=3)\n",
        "plt.xlim(0, 1.0)\n",
        "plt.ylim(0, 1.0)\n",
        "plt.xlabel('FPR', fontsize=15)\n",
        "plt.ylabel('TPR', fontsize=15)\n",
        "plt.show()"
      ],
      "execution_count": null,
      "outputs": [
        {
          "output_type": "display_data",
          "data": {
            "image/png": "[encoded data removed]",
            "text/plain": [
              "<Figure size 504x504 with 1 Axes>"
            ]
          },
          "metadata": {
            "tags": []
          }
        }
      ]
    },
    {
      "cell_type": "markdown",
      "metadata": {
        "id": "vDTmwgqnwCez"
      },
      "source": [
        "This curve is also known as the Receiver Operating Characteristic (ROC). And if we calculate the area under this ROC curve, we are calculating another metric which is used very often when you have a dataset which has skewed binary targets.\n",
        "\n",
        "This metric is known as the **Area Under ROC Curve or Area Under Curve** or\n",
        "just simply **AUC**. There are many ways to calculate the area under the ROC curve. For this particular purpose, we will stick to the fantastic implementation by scikit-\n",
        "learn.\n",
        "\n"
      ]
    },
    {
      "cell_type": "code",
      "metadata": {
        "colab": {
          "base_uri": "https://localhost:8080/"
        },
        "id": "2PFLdkjtv9sk",
        "outputId": "2906850e-0807-4e88-cb35-1c9defff2c67"
      },
      "source": [
        "y_true = [0, 0, 0, 0, 1, 0, 1, 0, 0, 1, 0, 1, 0, 0, 1]\n",
        "y_pred = [0.1, 0.3, 0.2, 0.6, 0.8, 0.05, 0.9, 0.5, 0.3, \\\n",
        "          0.66, 0.3, 0.2, 0.85, 0.15, 0.99]\n",
        "metrics.roc_auc_score(y_true, y_pred)"
      ],
      "execution_count": null,
      "outputs": [
        {
          "output_type": "execute_result",
          "data": {
            "text/plain": [
              "0.8300000000000001"
            ]
          },
          "metadata": {
            "tags": []
          },
          "execution_count": 57
        }
      ]
    },
    {
      "cell_type": "markdown",
      "metadata": {
        "id": "eWJCw_ufwkks"
      },
      "source": [
        "AUC values range from 0 to 1.\n",
        "\n",
        "- **AUC = 1** implies you have a perfect model. Most of the time, it means that you made some mistake with validation and should revisit data processing and validation pipeline of yours. If you didn’t make any mistakes, then congratulations, you have the best model one can have for the dataset you\n",
        "built it on.\n",
        "\n",
        "- **AUC = 0** implies that your model is very bad (or very good!). Try inverting the probabilities for the predictions, for example, if your probability for the positive class is p, try substituting it with 1-p. This kind of AUC may also mean that there is some problem with your validation or data processing.\n",
        "\n",
        "- **AUC = 0.5** implies that your predictions are random. So, for any binary classification problem, if I predict all targets as 0.5, I will get an AUC of 0.5.\n",
        "\n",
        "\n",
        "AUC values between 0 and 0.5 imply that your model is worse than random. Most\n",
        "of the time, it’s because you inverted the classes. If you try to invert your\n",
        "predictions, your AUC might become more than 0.5. AUC values closer to 1 are\n",
        "considered good.\n"
      ]
    },
    {
      "cell_type": "code",
      "metadata": {
        "id": "1dWD5X82wg1y"
      },
      "source": [
        ""
      ],
      "execution_count": null,
      "outputs": []
    }
  ]
}