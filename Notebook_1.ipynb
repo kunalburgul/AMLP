{
  "nbformat": 4,
  "nbformat_minor": 0,
  "metadata": {
    "colab": {
      "name": "Notebook_1.ipynb",
      "provenance": [],
      "collapsed_sections": [],
      "authorship_tag": "ABX9TyNOvj9Mdrz+oGCvqjunKq8K",
      "include_colab_link": true
    },
    "kernelspec": {
      "name": "python3",
      "display_name": "Python 3"
    },
    "language_info": {
      "name": "python"
    }
  },
  "cells": [
    {
      "cell_type": "markdown",
      "metadata": {
        "id": "view-in-github",
        "colab_type": "text"
      },
      "source": [
        "<a href=\"https://colab.research.google.com/github/kunalburgul/Learning/blob/master/Notebook_1.ipynb\" target=\"_parent\"><img src=\"https://colab.research.google.com/assets/colab-badge.svg\" alt=\"Open In Colab\"/></a>"
      ]
    },
    {
      "cell_type": "markdown",
      "metadata": {
        "id": "nvd_B3cHknEN"
      },
      "source": [
        "## **Supervised and Unsupervised Learning**"
      ]
    },
    {
      "cell_type": "markdown",
      "metadata": {
        "id": "zuaB11gcxjD4"
      },
      "source": [
        "- A problem in which we are required to predict a value is known as a supervised problem. For example, if the problem is to predict house prices given historical house prices, with features like presence of a hospital, school or supermarket, distance to nearest public transport, etc. is a supervised problem\n",
        "\n",
        "- Unsupervised datasets do not have a target associated with them and in general, are more challenging to deal with when compared to supervised problems.\n",
        "\n",
        "- Clustering is one of the approaches that you can use for problems like this, but it must be noted that there are several other approaches available that can be applied to unsupervised problems.\n",
        "\n",
        "- To make sense of unsupervised problems, we can also use numerous decomposition techniques such as Principal Component Analysis (PCA), t-distributed Stochastic Neighbour Embedding (t-SNE) etc."
      ]
    },
    {
      "cell_type": "markdown",
      "metadata": {
        "id": "08A4HQBqhaPo"
      },
      "source": [
        "**Iniatilization**"
      ]
    },
    {
      "cell_type": "code",
      "metadata": {
        "id": "qRaWIeCEgE4h"
      },
      "source": [
        "# Loading Libraries\n",
        "\n",
        "# Warning Librarires\n",
        "import warnings \n",
        "warnings.filterwarnings(\"ignore\")\n",
        "\n",
        "# Scientific and Data Manipulation Libraries \n",
        "import numpy as np\n",
        "import pandas as pd\n",
        "\n",
        "# Data Visualization Libraries :\n",
        "import matplotlib\n",
        "import seaborn as sns\n",
        "import matplotlib.pyplot as plt\n",
        "# This line ensures that the plot is displayed inside the notebook\n",
        "%matplotlib inline \n",
        "\n",
        "# ML Libraries\n",
        "from sklearn import datasets\n",
        "from sklearn import manifold\n",
        "from sklearn import tree\n",
        "from sklearn import metrics\n",
        "from sklearn import model_selection"
      ],
      "execution_count": 1,
      "outputs": []
    },
    {
      "cell_type": "markdown",
      "metadata": {
        "id": "SybAYLj4gXiT"
      },
      "source": [
        "In the next part of the code, we will be fetching the **MNIST** data using sklearn datasets."
      ]
    },
    {
      "cell_type": "code",
      "metadata": {
        "id": "UwBS1gwLgJN6"
      },
      "source": [
        "data = datasets.fetch_openml(\n",
        "'mnist_784',\n",
        "version=1,\n",
        "return_X_y=True\n",
        ")\n",
        "pixel_values, targets = data\n",
        "targets = targets.astype(int)"
      ],
      "execution_count": 2,
      "outputs": []
    },
    {
      "cell_type": "markdown",
      "metadata": {
        "id": "snWRfJCeiEea"
      },
      "source": [
        "Here the data contains the two arrays as \n",
        "- pixel_values as the array of pixels\n",
        "- targets are the string types we convert them to integers.\n",
        "\n",
        "Lets look at the structure of the following arrays."
      ]
    },
    {
      "cell_type": "code",
      "metadata": {
        "colab": {
          "base_uri": "https://localhost:8080/"
        },
        "id": "pHmShQIsgRdn",
        "outputId": "52e33ccd-0c6e-4c4b-9389-4e382b219ac9"
      },
      "source": [
        "pixel_values.shape, targets.shape"
      ],
      "execution_count": 3,
      "outputs": [
        {
          "output_type": "execute_result",
          "data": {
            "text/plain": [
              "((70000, 784), (70000,))"
            ]
          },
          "metadata": {
            "tags": []
          },
          "execution_count": 3
        }
      ]
    },
    {
      "cell_type": "markdown",
      "metadata": {
        "id": "VJ_iQUqVitr2"
      },
      "source": [
        "We can visualize the samples in this dataset by reshaping them to their original shape and then plotting them using matplotlib."
      ]
    },
    {
      "cell_type": "code",
      "metadata": {
        "colab": {
          "base_uri": "https://localhost:8080/",
          "height": 282
        },
        "id": "rrXiG7W4gpgC",
        "outputId": "3edfdd4d-45cc-491c-aa83-49b40aff0f7c"
      },
      "source": [
        "single_image = pixel_values[1, :].reshape(28, 28)\n",
        "plt.imshow(single_image, cmap='gray')"
      ],
      "execution_count": 4,
      "outputs": [
        {
          "output_type": "execute_result",
          "data": {
            "text/plain": [
              "<matplotlib.image.AxesImage at 0x7ff5d54c1f90>"
            ]
          },
          "metadata": {
            "tags": []
          },
          "execution_count": 4
        },
        {
          "output_type": "display_data",
          "data": {
            "image/png": "[encoded data removed]",
            "text/plain": [
              "<Figure size 432x288 with 1 Axes>"
            ]
          },
          "metadata": {
            "tags": [],
            "needs_background": "light"
          }
        }
      ]
    },
    {
      "cell_type": "code",
      "metadata": {
        "id": "Sv77kAh3g6uH"
      },
      "source": [
        "tsne = manifold.TSNE(n_components=2, random_state=42)\n",
        "transformed_data = tsne.fit_transform(pixel_values[:3000, :])"
      ],
      "execution_count": 5,
      "outputs": []
    },
    {
      "cell_type": "code",
      "metadata": {
        "id": "HZ2jKMFahCHO"
      },
      "source": [
        "tsne_df = pd.DataFrame(\n",
        "np.column_stack((transformed_data, targets[:3000])),\n",
        "columns=[\"x\", \"y\", \"targets\"]\n",
        ")\n",
        "tsne_df.loc[:, \"targets\"] = tsne_df.targets.astype(int)"
      ],
      "execution_count": 6,
      "outputs": []
    },
    {
      "cell_type": "code",
      "metadata": {
        "colab": {
          "base_uri": "https://localhost:8080/",
          "height": 602
        },
        "id": "C5AQx2TzhTBj",
        "outputId": "fe5e0110-21f5-4fad-af88-cd5bb049b221"
      },
      "source": [
        "grid = sns.FacetGrid(tsne_df, hue=\"targets\", size=8)\n",
        "grid.map(plt.scatter, \"x\", \"y\").add_legend()"
      ],
      "execution_count": 7,
      "outputs": [
        {
          "output_type": "execute_result",
          "data": {
            "text/plain": [
              "<seaborn.axisgrid.FacetGrid at 0x7ff5d33b1750>"
            ]
          },
          "metadata": {
            "tags": []
          },
          "execution_count": 7
        },
        {
          "output_type": "display_data",
          "data": {
            "image/png": "[encoded data removed]",
            "text/plain": [
              "<Figure size 619.625x576 with 1 Axes>"
            ]
          },
          "metadata": {
            "tags": [],
            "needs_background": "light"
          }
        }
      ]
    },
    {
      "cell_type": "markdown",
      "metadata": {
        "id": "wJ_aeLQ_kwYJ"
      },
      "source": [
        "## **Cross-validation**"
      ]
    },
    {
      "cell_type": "markdown",
      "metadata": {
        "id": "NqdNMRvVxrXZ"
      },
      "source": [
        "- Cross-validation is a step in the process of building a machine learning model which helps us ensure that our models fit the data accurately and also ensures that we do not overfit.\n",
        "\n",
        " But this leads to another term: overfitting"
      ]
    },
    {
      "cell_type": "code",
      "metadata": {
        "colab": {
          "base_uri": "https://localhost:8080/"
        },
        "id": "CP6xZ54glqCY",
        "outputId": "2fb290b0-2871-40ec-cfe2-a3e1bfa96e3d"
      },
      "source": [
        "# Loading data\n",
        "!gdown --id 1f_-Ol1h92ARtWsG7YqRcR9OOnKugl2gL --output winequality-red.csv"
      ],
      "execution_count": 8,
      "outputs": [
        {
          "output_type": "stream",
          "text": [
            "Downloading...\n",
            "From: https://drive.google.com/uc?id=1f_-Ol1h92ARtWsG7YqRcR9OOnKugl2gL\n",
            "To: /content/winequality-red.csv\n",
            "\r  0% 0.00/84.2k [00:00<?, ?B/s]\r100% 84.2k/84.2k [00:00<00:00, 1.33MB/s]\n"
          ],
          "name": "stdout"
        }
      ]
    },
    {
      "cell_type": "markdown",
      "metadata": {
        "id": "CPteu-8_k3rX"
      },
      "source": [
        "The dataset can be found on the following link - https://archive.ics.uci.edu/ml/machine-learning-databases/wine-quality/\n",
        "\n",
        "\n",
        "Now Let's look at the data"
      ]
    },
    {
      "cell_type": "code",
      "metadata": {
        "id": "sUFQ4r9LhWh9"
      },
      "source": [
        "df = pd.read_csv(\"winequality-red.csv\",sep=';')"
      ],
      "execution_count": 9,
      "outputs": []
    },
    {
      "cell_type": "markdown",
      "metadata": {
        "id": "GjbfJNI8mL4T"
      },
      "source": [
        "We can treat this problem either as a classification problem or as a regression problem since wine quality is nothing but a real number between 0 and 10. For simplicity, let’s choose classification. This dataset, however, consists of only six\n",
        "types of quality values. We will thus map all quality values from 0 to 5."
      ]
    },
    {
      "cell_type": "code",
      "metadata": {
        "id": "V72tGmuMk6to"
      },
      "source": [
        "# a mapping dictionary that maps the quality values from 0 to 5\n",
        "quality_mapping = {\n",
        "3: 0, 4: 1, 5: 2, 6: 3, 7: 4, 8: 5}"
      ],
      "execution_count": 10,
      "outputs": []
    },
    {
      "cell_type": "code",
      "metadata": {
        "id": "B5A-Nd3Imkm0"
      },
      "source": [
        "# you can use the map function of pandas with any dictionary to convert the values in a given column to values in the dictionary\n",
        "df.loc[:, \"quality\"] = df.quality.map(quality_mapping)"
      ],
      "execution_count": 11,
      "outputs": []
    },
    {
      "cell_type": "code",
      "metadata": {
        "colab": {
          "base_uri": "https://localhost:8080/"
        },
        "id": "g3FODSFfmoF4",
        "outputId": "6cd852c5-e571-4903-f946-3c6baba661d9"
      },
      "source": [
        "# Lets check if we have mapped correctly and observer the frequency of the quality values\n",
        "df.quality.value_counts(normalize=True)"
      ],
      "execution_count": 12,
      "outputs": [
        {
          "output_type": "execute_result",
          "data": {
            "text/plain": [
              "2    0.425891\n",
              "3    0.398999\n",
              "4    0.124453\n",
              "1    0.033146\n",
              "5    0.011257\n",
              "0    0.006254\n",
              "Name: quality, dtype: float64"
            ]
          },
          "metadata": {
            "tags": []
          },
          "execution_count": 12
        }
      ]
    },
    {
      "cell_type": "markdown",
      "metadata": {
        "id": "MSNfraIzrIYV"
      },
      "source": [
        "Lets look at the all the attributes present in the data."
      ]
    },
    {
      "cell_type": "code",
      "metadata": {
        "colab": {
          "base_uri": "https://localhost:8080/"
        },
        "id": "fSz0hXhXrSuf",
        "outputId": "48ccea6c-d2db-4f5d-ef7a-5649971be71f"
      },
      "source": [
        "df.columns"
      ],
      "execution_count": 13,
      "outputs": [
        {
          "output_type": "execute_result",
          "data": {
            "text/plain": [
              "Index(['fixed acidity', 'volatile acidity', 'citric acid', 'residual sugar',\n",
              "       'chlorides', 'free sulfur dioxide', 'total sulfur dioxide', 'density',\n",
              "       'pH', 'sulphates', 'alcohol', 'quality'],\n",
              "      dtype='object')"
            ]
          },
          "metadata": {
            "tags": []
          },
          "execution_count": 13
        }
      ]
    },
    {
      "cell_type": "markdown",
      "metadata": {
        "id": "ORCkmwCjo0ee"
      },
      "source": [
        "When we look at this data and consider it a classification problem, a lot of algorithms come to our mind that we can apply to it, probably, we can use neural networks. But it would be a bit of a stretch if we dive into neural networks from the beginning. So, let’s start with something simple that we can visualize too: \n",
        "decision trees.\n",
        "\n",
        "Before we begin to understand what overfitting is, let’s divide the data into two parts. This dataset has **1599** samples. We keep **1000** samples for **training** and **599** as a **separate set**.\n",
        "\n"
      ]
    },
    {
      "cell_type": "code",
      "metadata": {
        "id": "PGhS7g39m9vP"
      },
      "source": [
        "# use sample with frac=1 to shuffle the dataframewe reset the indices since they change after shuffling the dataframe\n",
        "df = df.sample(frac=1).reset_index(drop=True)\n",
        "\n",
        "# Now lets select top 1000 rows for training\n",
        "df_train = df.head(1000)\n",
        "\n",
        "# Remaining bottom 599 rows are selected for testing/Validation\n",
        "df_test = df.tail(599)"
      ],
      "execution_count": 14,
      "outputs": []
    },
    {
      "cell_type": "code",
      "metadata": {
        "id": "M4E6_9N2qi_k"
      },
      "source": [
        "# initialize decision tree classifier class with a max_depth of 3\n",
        "clf = tree.DecisionTreeClassifier(max_depth= 3)"
      ],
      "execution_count": 15,
      "outputs": []
    },
    {
      "cell_type": "code",
      "metadata": {
        "id": "sf81ftFzrBx6"
      },
      "source": [
        "# choose the columns you want to train on these are the features for the model\n",
        "cols = ['fixed acidity', 'volatile acidity', 'citric acid', 'residual sugar', \\\n",
        "'chlorides', 'free sulfur dioxide', 'total sulfur dioxide', 'density', \\\n",
        "'pH', 'sulphates', 'alcohol']"
      ],
      "execution_count": 16,
      "outputs": []
    },
    {
      "cell_type": "code",
      "metadata": {
        "colab": {
          "base_uri": "https://localhost:8080/"
        },
        "id": "jnc3N6PArjl_",
        "outputId": "9b677c05-f6c4-42bc-8f9b-6b335fc12c50"
      },
      "source": [
        "# train the model on the provided features and mapped quality from before\n",
        "clf.fit(df_train[cols], df_train.quality)"
      ],
      "execution_count": 17,
      "outputs": [
        {
          "output_type": "execute_result",
          "data": {
            "text/plain": [
              "DecisionTreeClassifier(ccp_alpha=0.0, class_weight=None, criterion='gini',\n",
              "                       max_depth=3, max_features=None, max_leaf_nodes=None,\n",
              "                       min_impurity_decrease=0.0, min_impurity_split=None,\n",
              "                       min_samples_leaf=1, min_samples_split=2,\n",
              "                       min_weight_fraction_leaf=0.0, presort='deprecated',\n",
              "                       random_state=None, splitter='best')"
            ]
          },
          "metadata": {
            "tags": []
          },
          "execution_count": 17
        }
      ]
    },
    {
      "cell_type": "markdown",
      "metadata": {
        "id": "vO16bLNwsc2D"
      },
      "source": [
        "Note that I have used a max_depth of 3 for the decision tree classifier. I have left all other parameters of this model to its default value.\n",
        "\n",
        "Now, we test the accuracy of this model on the training set and the test set:\n"
      ]
    },
    {
      "cell_type": "code",
      "metadata": {
        "id": "60t3Kj4-rpVb"
      },
      "source": [
        "# generate predictions on the training set\n",
        "train_predictions = clf.predict(df_train[cols])"
      ],
      "execution_count": 18,
      "outputs": []
    },
    {
      "cell_type": "code",
      "metadata": {
        "id": "nk5rQpw3shaU"
      },
      "source": [
        "# generate predictions on the test set\n",
        "test_predictions = clf.predict(df_test[cols])"
      ],
      "execution_count": 19,
      "outputs": []
    },
    {
      "cell_type": "code",
      "metadata": {
        "colab": {
          "base_uri": "https://localhost:8080/"
        },
        "id": "lJdMHbAdslsx",
        "outputId": "56f953f6-20db-45f1-e4c3-d1222a3b4d51"
      },
      "source": [
        "# calculate the accuracy of predictions on training data set\n",
        "train_accuracy = metrics.accuracy_score(\n",
        "df_train.quality, train_predictions)\n",
        "\n",
        "# calculate the accuracy of predictions on test data set\n",
        "test_accuracy = metrics.accuracy_score(\n",
        "df_test.quality, test_predictions)\n",
        "\n",
        "print('The training and test accuracies are found to be', train_accuracy * 100, ' and ', test_accuracy * 100)"
      ],
      "execution_count": 20,
      "outputs": [
        {
          "output_type": "stream",
          "text": [
            "The training and test accuracies are found to be 61.0  and  52.92153589315526\n"
          ],
          "name": "stdout"
        }
      ]
    },
    {
      "cell_type": "markdown",
      "metadata": {
        "id": "V5QcgjVuti8X"
      },
      "source": [
        "Now if we try to increase the max_depth to 7 and repeat the process. Let's look"
      ]
    },
    {
      "cell_type": "code",
      "metadata": {
        "colab": {
          "base_uri": "https://localhost:8080/"
        },
        "id": "PUkAT8hZsryC",
        "outputId": "0ffa8991-5ce6-4e02-b25e-af7dd31995d3"
      },
      "source": [
        "clf_1 = tree.DecisionTreeClassifier(max_depth= 7)\n",
        "clf_1.fit(df_train[cols], df_train.quality)\n",
        "\n",
        "# generate predictions on the training set\n",
        "train_predictions_1 = clf_1.predict(df_train[cols])\n",
        "\n",
        "# generate predictions on the test set\n",
        "test_predictions_1 = clf_1.predict(df_test[cols])\n",
        "\n",
        "# calculate the accuracy of predictions on training data set\n",
        "train_accuracy_1 = metrics.accuracy_score(\n",
        "df_train.quality, train_predictions_1)\n",
        "\n",
        "# calculate the accuracy of predictions on test data set\n",
        "test_accuracy_1 = metrics.accuracy_score(\n",
        "df_test.quality, test_predictions_1)\n",
        "\n",
        "print('The training and test accuracies are found to be', train_accuracy_1 * 100, ' and ', test_accuracy_1 * 100)"
      ],
      "execution_count": 21,
      "outputs": [
        {
          "output_type": "stream",
          "text": [
            "The training and test accuracies are found to be 78.5  and  59.432387312186975\n"
          ],
          "name": "stdout"
        }
      ]
    },
    {
      "cell_type": "markdown",
      "metadata": {
        "id": "oxs2uvHktGic"
      },
      "source": [
        "- We could observe that accuracy increases as we increase the max-depth from 3 to 7.\n",
        "\n",
        "- Here, we have used accuracy, mainly because it\n",
        "is the most straightforward metric. It might not be the best metric for this problem.\n",
        "\n",
        "What about we calculate these accuracies for different values of max_depth and\n",
        "make a plot?\n",
        "\n"
      ]
    },
    {
      "cell_type": "code",
      "metadata": {
        "id": "duapmQYTs4xT"
      },
      "source": [
        "# this is our global size of label text on the plots\n",
        "matplotlib.rc('xtick', labelsize=20)\n",
        "matplotlib.rc('ytick', labelsize=20)"
      ],
      "execution_count": 22,
      "outputs": []
    },
    {
      "cell_type": "code",
      "metadata": {
        "id": "3PQGSi1bvF7F"
      },
      "source": [
        "# initialize lists to store accuracies for training and test data we start with 50% accuracy\n",
        "train_accuracies = [0.5]\n",
        "test_accuracies = [0.5]"
      ],
      "execution_count": 23,
      "outputs": []
    },
    {
      "cell_type": "code",
      "metadata": {
        "id": "_uh3JgCsvTp3"
      },
      "source": [
        "# iterate over a few depth values\n",
        "for depth in range(1, 25):\n",
        "    # init the model\n",
        "    clf_2 = tree.DecisionTreeClassifier(max_depth=depth)\n",
        "    \n",
        "    # fit the model on given features\n",
        "    clf_2.fit(df_train[cols], df_train.quality)\n",
        "\n",
        "    # create training & test predictions\n",
        "    train_predictions_2 = clf_2.predict(df_train[cols])\n",
        "    test_predictions_2 = clf_2.predict(df_test[cols])\n",
        "\n",
        "    # calculate training & test accuracies\n",
        "    train_accuracy_2 = metrics.accuracy_score(df_train.quality, train_predictions_2)\n",
        "    test_accuracy_2 = metrics.accuracy_score(df_test.quality, test_predictions_2)\n",
        "\n",
        "    # append accuracies\n",
        "    train_accuracies.append(train_accuracy_2)\n",
        "    test_accuracies.append(test_accuracy_2)"
      ],
      "execution_count": 24,
      "outputs": []
    },
    {
      "cell_type": "code",
      "metadata": {
        "colab": {
          "base_uri": "https://localhost:8080/",
          "height": 353
        },
        "id": "UosB6esBv4kg",
        "outputId": "d216cc94-993f-426c-c627-7ba4d5946bef"
      },
      "source": [
        "# create two plots using matplotlib\n",
        "# and seaborn\n",
        "plt.figure(figsize=(10, 5))\n",
        "sns.set_style(\"whitegrid\")\n",
        "plt.plot(train_accuracies, label=\"train accuracy\")\n",
        "plt.plot(test_accuracies, label=\"test accuracy\")\n",
        "plt.legend(loc=\"upper left\", prop={'size': 15})\n",
        "plt.xticks(range(0, 26, 5))\n",
        "plt.xlabel(\"max_depth\", size=20)\n",
        "plt.ylabel(\"accuracy\", size=20)\n",
        "plt.show()"
      ],
      "execution_count": 25,
      "outputs": [
        {
          "output_type": "display_data",
          "data": {
            "image/png": "[encoded data removed]",
            "text/plain": [
              "<Figure size 720x360 with 1 Axes>"
            ]
          },
          "metadata": {
            "tags": [],
            "needs_background": "light"
          }
        }
      ]
    },
    {
      "cell_type": "markdown",
      "metadata": {
        "id": "PZDQBnzNx1Fc"
      },
      "source": [
        "- We see that the best score for test data is obtained when max_depth has a value of 14. As we keep increasing the value of this parameter, test accuracy remains the same or gets worse, but the training accuracy keeps increasing. \n",
        "\n",
        "- It means that our simple decision tree model keeps learning about the training data better and better with an increase in max_depth, but the performance on test data does not improve at all. \n",
        "\n",
        "This is called as overfitting.\n",
        "\n",
        "- The model fits perfectly on the training set and performs poorly when it comes to the test set. \n",
        "\n",
        "- This means that the model will learn the training data well but will not generalize on unseen samples. \n",
        "\n",
        "- In the dataset above, one can build a model with very high max_depth which will have outstanding results on training data, but that kind of model is not useful as it will not provide a similar result on the real-world samples\n",
        "or live data.\n",
        "\n"
      ]
    },
    {
      "cell_type": "markdown",
      "metadata": {
        "id": "_u9m9CyvyvdZ"
      },
      "source": [
        "- One might argue that this approach isn’t overfitting as the accuracy of the test set more or less remains the same. \n",
        "\n",
        "- Another definition of overfitting would be when the test loss increases as we keep improving training loss. This is very common when it comes to **neural networks**.\n"
      ]
    },
    {
      "cell_type": "markdown",
      "metadata": {
        "id": "Kt3tCiE2zQ3k"
      },
      "source": [
        "- If we have a very large network for a dataset which is\n",
        "quite small (i.e. very less number of samples), we will observe that the loss for both training and test set will decrease as we keep training. \n",
        "\n",
        "- However, at some point, test loss will reach its minima, and after that, it will start increasing even though training loss decreases further. We must stop training where the validation loss reaches its\n",
        "minimum value.\n"
      ]
    },
    {
      "cell_type": "markdown",
      "metadata": {
        "id": "cj9q8s3f0W_7"
      },
      "source": [
        "Now we can go back to cross-validation.\n",
        "\n",
        "While explaining about overfitting, we decided to divide the data into two parts. We trained the model on one part and checked its performance on the other part. \n",
        "\n",
        "Well, this is also a kind of cross-validation commonly known as a **hold-out set**. We use this kind of (cross-) validation when we have a large amount of data and model inference is a time-consuming process.\n"
      ]
    },
    {
      "cell_type": "markdown",
      "metadata": {
        "id": "3hACJsGy1YhY"
      },
      "source": [
        "There are many different ways one can do cross-validation, and it is the most critical step when it comes to building a good machine learning model which is generalizable when it comes to unseen data.\n",
        "\n",
        "Choosing the right cross-validation depends on the dataset you are dealing with, and one’s choice of cross-validation on one dataset may or may not apply to other datasets. However, there are a few types of cross-validation techniques which are the most popular and widely used.\n",
        "\n",
        "These include:\n",
        "\n",
        "- k-fold cross-validation\n",
        "- stratified k-fold cross-validation\n",
        "- hold-out based validation\n",
        "- leave-one-out cross-validation\n",
        "- group k-fold cross-validation\n",
        "\n",
        "\n",
        "Let's look at the code for the k-fold cross-validation i.e random k-fold cross-validation."
      ]
    },
    {
      "cell_type": "code",
      "metadata": {
        "id": "jEu3KdI_v6qb"
      },
      "source": [
        "# import pandas and model_selection module of scikit-learn\n",
        "import pandas as pd\n",
        "from sklearn import model_selection\n",
        "\n",
        "if __name__ == \"__main__\":\n",
        "    # Training data is in a CSV file called train.csv\n",
        "    dt = pd.read_csv(\"winequality-red.csv\",sep=';')\n",
        "    \n",
        "    # we create a new column called kfold and fill it with -1\n",
        "    dt[\"kfold\"] = -1\n",
        "    \n",
        "    # the next step is to randomize the rows of the data\n",
        "    dt = dt.sample(frac=1).reset_index(drop=True)\n",
        "    \n",
        "    # initiate the kfold class from model_selection module\n",
        "    kf = model_selection.KFold(n_splits=5)\n",
        "    \n",
        "    # fill the new kfold column\n",
        "    for fold, (trn_, val_) in enumerate(kf.split(X=df)):\n",
        "        df.loc[val_, 'kfold'] = fold\n",
        "    \n",
        "    # save the new csv with kfold column\n",
        "    dt.to_csv(\"train_folds.csv\", index=False)"
      ],
      "execution_count": 26,
      "outputs": []
    },
    {
      "cell_type": "markdown",
      "metadata": {
        "id": "BLvxHSbJLKjN"
      },
      "source": [
        "For the wine dataset, let’s look at the distribution of labels.\n"
      ]
    },
    {
      "cell_type": "code",
      "metadata": {
        "colab": {
          "base_uri": "https://localhost:8080/",
          "height": 314
        },
        "id": "yS4Ey9bFKfhY",
        "outputId": "68f2581f-d54e-49dd-aa7b-f1cf189022bc"
      },
      "source": [
        "b = sns.countplot(x='quality', data=dt)\n",
        "b.set_xlabel(\"quality\", fontsize=20)\n",
        "b.set_ylabel(\"count\", fontsize=20)"
      ],
      "execution_count": 27,
      "outputs": [
        {
          "output_type": "execute_result",
          "data": {
            "text/plain": [
              "Text(0, 0.5, 'count')"
            ]
          },
          "metadata": {
            "tags": []
          },
          "execution_count": 27
        },
        {
          "output_type": "display_data",
          "data": {
            "image/png": "[encoded data removed]",
            "text/plain": [
              "<Figure size 432x288 with 1 Axes>"
            ]
          },
          "metadata": {
            "tags": []
          }
        }
      ]
    },
    {
      "cell_type": "markdown",
      "metadata": {
        "id": "kX9HFP_QPmDd"
      },
      "source": [
        "Now let's look at the stratifiedKFold"
      ]
    },
    {
      "cell_type": "code",
      "metadata": {
        "id": "XN7LCfGeLDrL"
      },
      "source": [
        "if __name__ == \"__main__\":\n",
        "    # Training data is in a csv file called train.csv\n",
        "    df_1 = pd.read_csv(\"winequality-red.csv\",sep=';')\n",
        "\n",
        "    # we create a new column called kfold and fill it with -1\n",
        "    df_1[\"kfold\"] = -1\n",
        "\n",
        "    # the next step is to randomize the rows of the data\n",
        "    df_1 = df_1.sample(frac=1).reset_index(drop=True)\n",
        "\n",
        "    # fetch targets\n",
        "    y_1 = df_1.quality.values\n",
        "\n",
        "    # initiate the kfold class from model_selection module\n",
        "    kf_1 = model_selection.StratifiedKFold(n_splits=5)\n",
        "\n",
        "    # fill the new kfold column\n",
        "    for f, (t_, v_) in enumerate(kf_1.split(X=df_1, y=y_1)):\n",
        "        df_1.loc[v_, 'kfold'] = f\n",
        "        \n",
        "    # save the new csv with kfold column\n",
        "    df_1.to_csv(\"train_folds.csv\", index=False)"
      ],
      "execution_count": 28,
      "outputs": []
    },
    {
      "cell_type": "markdown",
      "metadata": {
        "id": "IKxUrd68RJJC"
      },
      "source": [
        "For the wine dataset, let’s look at the distribution of labels.\n"
      ]
    },
    {
      "cell_type": "code",
      "metadata": {
        "colab": {
          "base_uri": "https://localhost:8080/",
          "height": 314
        },
        "id": "a7U-d3oAzMJU",
        "outputId": "34005359-fdc9-41e0-d673-e492fc4bf8e5"
      },
      "source": [
        "b = sns.countplot(x='quality', data=df)\n",
        "b.set_xlabel(\"quality\", fontsize=20)\n",
        "b.set_ylabel(\"count\", fontsize=20)"
      ],
      "execution_count": 29,
      "outputs": [
        {
          "output_type": "execute_result",
          "data": {
            "text/plain": [
              "Text(0, 0.5, 'count')"
            ]
          },
          "metadata": {
            "tags": []
          },
          "execution_count": 29
        },
        {
          "output_type": "display_data",
          "data": {
            "image/png": "[encoded data removed]",
            "text/plain": [
              "<Figure size 432x288 with 1 Axes>"
            ]
          },
          "metadata": {
            "tags": []
          }
        }
      ]
    },
    {
      "cell_type": "markdown",
      "metadata": {
        "id": "D1i1fKdERrTT"
      },
      "source": [
        " Depending on which algorithm we choose, training and even validation can be very expensive for a dataset which is of this size. In these\n",
        "cases, we can opt for a hold-out based validation"
      ]
    },
    {
      "cell_type": "markdown",
      "metadata": {
        "id": "EVNrgalfT69t"
      },
      "source": [
        "To use stratified k-fold for a regression problem, we have first to divide the target into bins, and then we can use stratified k-fold in the same way as for classification\n",
        "problems. \n",
        "\n",
        "- There are several choices for selecting the appropriate number of bins. \n",
        "- If we have a lot of samples( > 10k, > 100k), then you don’t need to care about the number of bins. Just divide the data into 10 or 20 bins. \n",
        "\n",
        "- If you do not have a lot of samples, you can use a simple rule like Sturge’s Rule to calculate the appropriate\n",
        "number of bins.\n",
        "\n",
        "**Sturge’s Rule**\n",
        "\n",
        "Number of Bins = 1 + log<sub>2</sub>(N)\n"
      ]
    },
    {
      "cell_type": "code",
      "metadata": {
        "id": "s9IbtRSyzIBh"
      },
      "source": [
        "def create_folds(data):\n",
        "    # we create a new column called kfold and fill it with -1\n",
        "    data[\"kfold\"] = -1\n",
        "\n",
        "    # the next step is to randomize the rows of the data\n",
        "    data = data.sample(frac=1).reset_index(drop=True)\n",
        "\n",
        "    # calculate the number of bins by Sturge's rule\n",
        "    # I take the floor of the value, you can also\n",
        "    # just round it\n",
        "    num_bins = int (np.floor(1 + np.log2(len(data))))\n",
        "\n",
        "    # bin targets\n",
        "    data.loc[:, \"bins\"] = pd.cut(data[\"target\"], bins=num_bins, labels=False)\n",
        "\n",
        "    # initiate the kfold class from model_selection module\n",
        "    kf = model_selection.StratifiedKFold(n_splits=5)\n",
        "\n",
        "    # fill the new kfold column\n",
        "    # note that, instead of targets, we use bins!\n",
        "    for f, (t_, v_) in enumerate(kf.split(X=data, y=data.bins.values)):\n",
        "        data.loc[v_, 'kfold'] = f\n",
        "\n",
        "    # drop the bins column\n",
        "    data = data.drop(\"bins\", axis=1)\n",
        "\n",
        "    # return dataframe with folds\n",
        "    return data\n",
        "\n",
        "if __name__ == \"__main__\":\n",
        "    # we create a sample dataset with 15000 samples\n",
        "    # and 100 features and 1 target\n",
        "    X, y = datasets.make_regression(\n",
        "    n_samples=15000, n_features=100, n_targets=1)\n",
        "\n",
        "    # create a dataframe out of our numpy arrays\n",
        "    df = pd.DataFrame(X,\n",
        "    columns=[f\"f_{i}\" for i in range(X.shape[1])])\n",
        "    df.loc[:, \"target\"] = y\n",
        "\n",
        "    # create folds\n",
        "    df = create_folds(df)"
      ],
      "execution_count": 30,
      "outputs": []
    },
    {
      "cell_type": "markdown",
      "metadata": {
        "id": "VbJeTVHoXD0W"
      },
      "source": [
        "Cross-validation is the first and most essential step when it comes to building machine learning models.\n",
        "- If you want to do **feature engineering, split your data first**.\n",
        "- If you're going to **build models**, split your data first**. \n",
        "- If you have a **good cross-\n",
        "validation scheme** in which validation data is representative of training and real- world data, you will be able to build a good machine learning model which is highly generalizable.\n"
      ]
    },
    {
      "cell_type": "markdown",
      "metadata": {
        "id": "-6nE7bQpW8eU"
      },
      "source": [
        "There is no way to combine GroupKFold with StratifiedKFold ttry to solve it."
      ]
    },
    {
      "cell_type": "markdown",
      "metadata": {
        "id": "RRBcygkxYAzW"
      },
      "source": [
        "## **Evulation metrics**"
      ]
    },
    {
      "cell_type": "markdown",
      "metadata": {
        "id": "gV4CQ7WQYmhW"
      },
      "source": [
        "When it comes to machine learning problems, you will encounter a lot of different types of metrics in the real world. \n",
        "\n",
        "Sometimes, people even end up creating metrics\n",
        "that suit the business problem\n",
        "\n",
        "If we talk about classification problems, the most common metrics used are:\n",
        "- Accuracy\n",
        "- Precision (P)\n",
        "- Recall (R)\n",
        "- F1 score (F1)\n",
        "- Area under the ROC (Receiver Operating Characteristic) curve or simply\n",
        "AUC (AUC)\n",
        "- Log loss\n",
        "- Precision at k (P@k)\n",
        "- Average precision at k (AP@k)\n",
        "- Mean average precision at k (MAP@k)\n",
        "\n",
        "When it comes to regression, the most commonly used evaluation metrics are:\n",
        "- Mean absolute error (MAE)\n",
        "- Mean squared error (MSE)\n",
        "- Root mean squared error (RMSE)\n",
        "- Root mean squared logarithmic error (RMSLE)\n",
        "- Mean percentage error (MPE)\n",
        "- Mean absolute percentage error (MAPE)\n",
        "- R2\n",
        "\n",
        "Now let's go one-by-one in detail and understand which metric should be used where.\n",
        "\n",
        "For better understanding we will be considering a **siim-acr-pneumothorax-segmentation dataset** form the kaggle.\n"
      ]
    },
    {
      "cell_type": "markdown",
      "metadata": {
        "id": "56zwWOTzajBe"
      },
      "source": [
        "**Accuracy**: It is one of the most straightforward metrics used in machine learning.\n",
        "It defines how accurate your model is. For the problem described above, if you build\n",
        "a model that classifies 90 images accurately, your accuracy is 90% or 0.90. If only 83 images are classified correctly, the accuracy of your model is 83% or 0.83.\n",
        "\n",
        "Python code for calculating accuracy is also quite simple\n"
      ]
    },
    {
      "cell_type": "code",
      "metadata": {
        "id": "PYuDnLF8zTtm"
      },
      "source": [
        "def accuracy(y_true, y_pred):\n",
        "    \"\"\"\n",
        "    Function to calculate accuracy\n",
        "    :param y_true: list of true values\n",
        "    :param y_pred: list of predicted values\n",
        "    :return: accuracy score\n",
        "    \"\"\"\n",
        "    # initialize a simple counter for correct predictions\n",
        "    correct_counter = 0\n",
        "    # loop over all elements of y_true\n",
        "    # and y_pred \"together\"\n",
        "    for yt, yp in zip(y_true, y_pred):\n",
        "        if yt == yp:\n",
        "            # if prediction is equal to truth, increase the counter\n",
        "            correct_counter += 1\n",
        "    # return accuracy\n",
        "    # which is correct predictions over the number of samples\n",
        "    return correct_counter / len(y_true)"
      ],
      "execution_count": 31,
      "outputs": []
    },
    {
      "cell_type": "code",
      "metadata": {
        "colab": {
          "base_uri": "https://localhost:8080/"
        },
        "id": "rIY3s1UgzZFo",
        "outputId": "93709f20-9621-49c0-a2d9-77207c56cce5"
      },
      "source": [
        "# We can also calculate accuracy using scikit-learn.\n",
        "l1 = [0,1,1,1,0,0,0,1]\n",
        "l2 = [0,1,0,1,0,1,0,0]\n",
        "metrics.accuracy_score(l1, l2)"
      ],
      "execution_count": 32,
      "outputs": [
        {
          "output_type": "execute_result",
          "data": {
            "text/plain": [
              "0.625"
            ]
          },
          "metadata": {
            "tags": []
          },
          "execution_count": 32
        }
      ]
    },
    {
      "cell_type": "markdown",
      "metadata": {
        "id": "DoLt_VhJbu3a"
      },
      "source": [
        "When there is some imbbalance in the dataset like around 90% to 10%. we could see that the dataset is skewed, i.e., the number of samples in one class outnumber the number of samples in other class by a lot. \n",
        "\n",
        "In these kinds of cases, it is not advisable to use accuracy as an evaluation metric as it is not representative of the data.\n",
        "\n",
        "So, you might get high accuracy, but your model\n",
        "will probably not perform that well when it comes to real-world samples.\n",
        "\n",
        "In these cases, it’s better to look at other metrics such as precision.\n"
      ]
    },
    {
      "cell_type": "markdown",
      "metadata": {
        "id": "N7dkxR-IeWPG"
      },
      "source": [
        "Before learning about precision, we need to know a few terms. Here we have\n",
        "assumed that chest x-ray images with pneumothorax are positive class  and\n",
        "without pneumothorax are negative class.\n",
        "\n",
        "**True positive (TP)**: Given an image, if your model predicts the image has\n",
        "pneumothorax, and the actual target for that image has pneumothorax, it is\n",
        "considered a true positive.\n",
        "\n",
        "**True negative (TN)**: Given an image, if your model predicts that the image does not have pneumothorax and the actual target says that it is a non-pneumothorax image, it is considered a true negative.\n",
        "In simple words, if your model correctly predicts positive class, it is true positive, and if your model accurately predicts negative class, it is a true negative.\n",
        "\n",
        "**False positive (FP)**: Given an image, if your model predicts pneumothorax and the\n",
        "actual target for that image is non- pneumothorax, it a false positive.\n",
        "\n",
        "**False negative (FN)**: Given an image, if your model predicts non-pneumothorax and the actual target for that image is pneumothorax, it is a false negative.\n",
        "In simple words, if your model incorrectly (or falsely) predicts positive class, it is\n",
        "a false positive. If your model incorrectly (or falsely) predicts negative class, it is a\n",
        "false negative.\n"
      ]
    },
    {
      "cell_type": "code",
      "metadata": {
        "id": "wAaeJ9L4ea1r"
      },
      "source": [
        "def true_positive(y_true, y_pred):\n",
        "    \"\"\"\n",
        "    Function to calculate True Positives\n",
        "    :param y_true: list of true values\n",
        "    :param y_pred: list of predicted values\n",
        "    :return: number of true positives\n",
        "    \"\"\"\n",
        "    # initialize\n",
        "    tp = 0\n",
        "    for yt, yp in zip(y_true, y_pred):\n",
        "        if yt == 1 and yp == 1:\n",
        "            tp += 1\n",
        "    return tp\n",
        "\n",
        "def true_negative(y_true, y_pred):\n",
        "    \"\"\"\n",
        "    Function to calculate True Negatives\n",
        "    :param y_true: list of true values\n",
        "    :param y_pred: list of predicted values\n",
        "    :return: number of true negatives\n",
        "    \"\"\"\n",
        "    # initialize\n",
        "    tn = 0\n",
        "    for yt, yp in zip(y_true, y_pred):\n",
        "        if yt == 0 and yp == 0:\n",
        "            tn += 1\n",
        "    return tn\n",
        "\n",
        "def false_positive(y_true, y_pred):\n",
        "    \"\"\"\n",
        "    Function to calculate False Positives\n",
        "    :param y_true: list of true values\n",
        "    :param y_pred: list of predicted values\n",
        "    :return: number of false positives\n",
        "    \"\"\"\n",
        "    # initialize\n",
        "    fp = 0\n",
        "    for yt, yp in zip(y_true, y_pred):\n",
        "        if yt == 0 and yp == 1:\n",
        "            fp += 1\n",
        "    return fp\n",
        "\n",
        "def false_negative(y_true, y_pred):\n",
        "    \"\"\"\n",
        "    Function to calculate False Negatives\n",
        "    :param y_true: list of true values\n",
        "    :param y_pred: list of predicted values\n",
        "    :return: number of false negatives\n",
        "    \"\"\"\n",
        "    # initialize\n",
        "    fn = 0\n",
        "    for yt, yp in zip(y_true, y_pred):\n",
        "        if yt == 1 and yp == 0:\n",
        "            fn += 1\n",
        "    return fn\n"
      ],
      "execution_count": 33,
      "outputs": []
    },
    {
      "cell_type": "markdown",
      "metadata": {
        "id": "U30kdqJZfsrn"
      },
      "source": [
        "The way I have implemented these here is quite simple and works only for binary\n",
        "classification. Let’s check these functions.\n"
      ]
    },
    {
      "cell_type": "code",
      "metadata": {
        "colab": {
          "base_uri": "https://localhost:8080/"
        },
        "id": "R9gPhzTjbYnK",
        "outputId": "ae24bf7a-6689-49d8-e012-c9e2457a62ce"
      },
      "source": [
        "l1 = [0,1,1,1,0,0,0,1]\n",
        "l2 = [0,1,0,1,0,1,0,0]\n",
        "print(true_positive(l1, l2))\n",
        "print(false_positive(l1, l2))\n",
        "print(false_negative(l1, l2))\n",
        "print(true_negative(l1, l2))"
      ],
      "execution_count": 34,
      "outputs": [
        {
          "output_type": "stream",
          "text": [
            "2\n",
            "1\n",
            "2\n",
            "3\n"
          ],
          "name": "stdout"
        }
      ]
    },
    {
      "cell_type": "markdown",
      "metadata": {
        "id": "TIv1lTgIgpp9"
      },
      "source": [
        "If we have to define accuracy using the terms described above, we can write:\n",
        "\n",
        "**Accuracy Score = (TP + TN) / (TP + TN + FP + FN)**\n",
        "\n",
        "We can now quickly implement accuracy score using TP, TN, FP and FN in python.\n",
        "Let’s call it accuracy_v2."
      ]
    },
    {
      "cell_type": "code",
      "metadata": {
        "id": "sU7DDAFXf-Ev"
      },
      "source": [
        "def accuracy_v2(y_true, y_pred):\n",
        "    \"\"\"\n",
        "    Function to calculate accuracy using tp/tn/fp/fn\n",
        "    :param y_true: list of true values\n",
        "    :param y_pred: list of predicted values\n",
        "    :return: accuracy score\n",
        "    \"\"\"\n",
        "    tp = true_positive(y_true, y_pred)\n",
        "    fp = false_positive(y_true, y_pred)\n",
        "    fn = false_negative(y_true, y_pred)\n",
        "    tn = true_negative(y_true, y_pred)\n",
        "    accuracy_score = (tp + tn) / (tp + tn + fp + fn)\n",
        "    return accuracy_score"
      ],
      "execution_count": 35,
      "outputs": []
    },
    {
      "cell_type": "markdown",
      "metadata": {
        "id": "2hXFBKIjg5UZ"
      },
      "source": [
        "We can quickly check the correctness of this function by comparing it to our\n",
        "previous implementation and scikit-learn version."
      ]
    },
    {
      "cell_type": "code",
      "metadata": {
        "colab": {
          "base_uri": "https://localhost:8080/"
        },
        "id": "TRWQE2HKg2Wh",
        "outputId": "c55aee84-ea25-40d4-9904-a31e360a4aff"
      },
      "source": [
        "l1 = [0,1,1,1,0,0,0,1]\n",
        "l2 = [0,1,0,1,0,1,0,0]\n",
        "print(accuracy(l1, l2))\n",
        "print(accuracy_v2(l1, l2))\n",
        "print(metrics.accuracy_score(l1, l2))"
      ],
      "execution_count": 36,
      "outputs": [
        {
          "output_type": "stream",
          "text": [
            "0.625\n",
            "0.625\n",
            "0.625\n"
          ],
          "name": "stdout"
        }
      ]
    },
    {
      "cell_type": "markdown",
      "metadata": {
        "id": "zg6iTsBjhMAM"
      },
      "source": [
        "Please note that in this code, metrics.accuracy_score comes from scikit-learn.\n",
        "Great. \n",
        "\n",
        "All values match. This means we have not made any mistakes in the\n",
        "implementation.\n",
        "\n",
        "Now, we can move to other important metrics.\n"
      ]
    },
    {
      "cell_type": "markdown",
      "metadata": {
        "id": "iqtjFXP0lgLu"
      },
      "source": [
        "**Precision** is defined as:\n",
        "\n",
        "        Precision = TP / (TP + FP)\n",
        "\n",
        "Let’s say we make a new model on the new skewed dataset and our model correctly\n",
        "identified 80 non-pneumothorax out of 90 and 8 pneumothorax out of 10. Thus, we identify 88 images out of 100 successfully. The accuracy is, therefore, 0.88 or 88%.\n",
        "\n",
        "But, out of these 100 samples, 10 non-pneumothorax images are misclassified as having pneumothorax and 2 pneumothorax are misclassified as not having pneumothorax.\n",
        "\n",
        "Thus, we have:\n",
        "- TP : 8\n",
        "- TN: 80\n",
        "- FP: 10\n",
        "- FN: 2\n",
        "\n",
        "So, our precision is 8 / (8 + 10) = 0.444. This means our model is correct 44.4% times when it’s trying to identify positive samples (pneumothorax).\n",
        "\n",
        "Now, since we have implemented TP, TN, FP and FN, we can easily implement\n",
        "precision in python.\n",
        "\n",
        "\n"
      ]
    },
    {
      "cell_type": "code",
      "metadata": {
        "id": "okZ8BQrjhF2K"
      },
      "source": [
        "def precision(y_true, y_pred):\n",
        "    \"\"\"\n",
        "    Function to calculate precision\n",
        "    :param y_true: list of true values\n",
        "    :param y_pred: list of predicted values\n",
        "    :return: precision score\n",
        "    \"\"\"\n",
        "    tp = true_positive(y_true, y_pred)\n",
        "    fp = false_positive(y_true, y_pred)\n",
        "    precision = tp / (tp + fp)\n",
        "    return precision"
      ],
      "execution_count": 37,
      "outputs": []
    },
    {
      "cell_type": "markdown",
      "metadata": {
        "id": "dapMY_MFl7gi"
      },
      "source": [
        "Let’s try this implementation of precision.\n"
      ]
    },
    {
      "cell_type": "code",
      "metadata": {
        "colab": {
          "base_uri": "https://localhost:8080/"
        },
        "id": "QkTZgE5Zl4zh",
        "outputId": "2c5e46e9-85f9-43f8-ac3c-8fafc1e75fe8"
      },
      "source": [
        "l1 = [0,1,1,1,0,0,0,1]\n",
        "l2 = [0,1,0,1,0,1,0,0]\n",
        "precision(l1, l2)"
      ],
      "execution_count": 38,
      "outputs": [
        {
          "output_type": "execute_result",
          "data": {
            "text/plain": [
              "0.6666666666666666"
            ]
          },
          "metadata": {
            "tags": []
          },
          "execution_count": 38
        }
      ]
    },
    {
      "cell_type": "markdown",
      "metadata": {
        "id": "lpSKipAgmBrz"
      },
      "source": [
        "**Recall** is defined as:\n",
        "\n",
        "        Recall = TP / (TP + FN)\n",
        "\n",
        "In the above case recall is 8 / (8 + 2) = 0.80. This means our model identified 80%\n",
        "of positive samples correctly.\n"
      ]
    },
    {
      "cell_type": "code",
      "metadata": {
        "id": "tPAdjFLOl-_c"
      },
      "source": [
        "def recall(y_true, y_pred):\n",
        "    \"\"\"\n",
        "    Function to calculate recall\n",
        "    :param y_true: list of true values\n",
        "    :param y_pred: list of predicted values\n",
        "    :return: recall score\n",
        "    \"\"\"\n",
        "    tp = true_positive(y_true, y_pred)\n",
        "    fn = false_negative(y_true, y_pred)\n",
        "    recall = tp / (tp + fn)\n",
        "    return recall"
      ],
      "execution_count": 39,
      "outputs": []
    },
    {
      "cell_type": "code",
      "metadata": {
        "colab": {
          "base_uri": "https://localhost:8080/"
        },
        "id": "J2QwJm96mOb-",
        "outputId": "5524fb4e-d245-48b7-83b1-ce8ea967b26f"
      },
      "source": [
        "recall(l1,l2)"
      ],
      "execution_count": 40,
      "outputs": [
        {
          "output_type": "execute_result",
          "data": {
            "text/plain": [
              "0.5"
            ]
          },
          "metadata": {
            "tags": []
          },
          "execution_count": 40
        }
      ]
    },
    {
      "cell_type": "markdown",
      "metadata": {
        "id": "lrxCCmQFo4FZ"
      },
      "source": [
        "Most of the models predict a probability, and when we predict, we usually choose\n",
        "this threshold to be 0.5. This threshold is not always ideal, and depending on this\n",
        "threshold, your value of precision and recall can change drastically. If for every\n",
        "threshold we choose, we calculate the precision and recall values, we can create a\n",
        "plot between these sets of values. This plot or curve is known as the precision-recall\n",
        "curve.\n"
      ]
    },
    {
      "cell_type": "code",
      "metadata": {
        "id": "SZGwv9ukmTAy"
      },
      "source": [
        "y_true = [0, 0, 0, 1, 0, 0, 0, 0, 0, 0, 1, 0, 0, 0, 0, 0, 0, 0, 1, 0]\n",
        "y_pred = [0.02638412, 0.11114267, 0.31620708, 0.0490937, 0.0191491, \\\n",
        "          0.17554844, 0.15952202, 0.03819563, 0.11639273, 0.079377, \\\n",
        "          0.08584789, 0.39095342, 0.27259048, 0.03447096, 0.04644807, \\\n",
        "          0.03543574, 0.18521942, 0.05934905, 0.61977213, 0.33056815]"
      ],
      "execution_count": 41,
      "outputs": []
    },
    {
      "cell_type": "markdown",
      "metadata": {
        "id": "2yQdqZQDpiNt"
      },
      "source": [
        "So, y_true is our targets, and y_pred is the probability values for a sample being\n",
        "assigned a value of 1. So, now, we look at probabilities in prediction instead of the\n",
        "predicted value (which is most of the time calculated with a threshold at 0.5).\n"
      ]
    },
    {
      "cell_type": "code",
      "metadata": {
        "colab": {
          "base_uri": "https://localhost:8080/",
          "height": 473
        },
        "id": "TY0aS7kVpUQf",
        "outputId": "28836ebb-e9e8-4abd-e983-99fadc05d946"
      },
      "source": [
        "precisions = []\n",
        "recalls = []\n",
        "# how we assumed these thresholds is a long story\n",
        "thresholds = [0.0490937 , 0.05934905, 0.079377, 0.08584789, 0.11114267, \\\n",
        "              0.11639273, 0.15952202, 0.17554844, 0.18521942, 0.27259048, \\\n",
        "              0.31620708, 0.33056815, 0.39095342, 0.61977213]\n",
        "\n",
        "# for every threshold, calculate predictions in binary\n",
        "# and append calculated precisions and recalls\n",
        "# to their respective lists\n",
        "for i in thresholds:\n",
        "    temp_prediction = [1 if x >= i else 0 for x in y_pred]\n",
        "    p = precision(y_true, temp_prediction)\n",
        "    r = recall(y_true, temp_prediction)\n",
        "    precisions.append(p)\n",
        "    recalls.append(r)\n",
        "\n",
        "plt.figure(figsize=(7, 7))\n",
        "plt.plot(recalls, precisions)\n",
        "plt.xlabel('Recall', fontsize=15)\n",
        "plt.ylabel('Precision', fontsize=15)"
      ],
      "execution_count": 42,
      "outputs": [
        {
          "output_type": "execute_result",
          "data": {
            "text/plain": [
              "Text(0, 0.5, 'Precision')"
            ]
          },
          "metadata": {
            "tags": []
          },
          "execution_count": 42
        },
        {
          "output_type": "display_data",
          "data": {
            "image/png": "[encoded data removed]",
            "text/plain": [
              "<Figure size 504x504 with 1 Axes>"
            ]
          },
          "metadata": {
            "tags": []
          }
        }
      ]
    },
    {
      "cell_type": "markdown",
      "metadata": {
        "id": "ePagL1a5qD5b"
      },
      "source": [
        "This **precision-recall curve** looks very different from what you might have seen on the internet. It’s because we had only 20 samples, and only 3 of them were positive samples. But there’s nothing to worry. It’s the same old precision-recall curve.\n",
        "\n",
        "- Both precision and recall range from 0 to 1 and a value closer to 1 is better.\n",
        "\n"
      ]
    },
    {
      "cell_type": "markdown",
      "metadata": {
        "id": "pNQ-54ZHsCVz"
      },
      "source": [
        "**F1 score** is a metric that combines both precision and recall. It is defined as a simple weighted average (harmonic mean) of precision and recall. If we denote precision using P and recall using R, we can represent the F1 score as:\n",
        "\n",
        "        F1 = 2PR / (P + R)\n",
        "\n",
        "A little bit of mathematics will lead you to the following equation of F1 based on **TP**, **FP** and **FN**. \n",
        "\n",
        "        F1 = 2TP / (2TP + FP + FN)\n",
        "\n",
        "\n",
        "\n"
      ]
    },
    {
      "cell_type": "code",
      "metadata": {
        "id": "CNiN0lRgppyo"
      },
      "source": [
        "def f1(y_true, y_pred):\n",
        "    \"\"\"\n",
        "    Function to calculate f1 score\n",
        "    :param y_true: list of true values\n",
        "    :param y_pred: list of predicted values\n",
        "    :return: f1 score\n",
        "    \"\"\"\n",
        "    p = precision(y_true, y_pred)\n",
        "    r = recall(y_true, y_pred)\n",
        "    score = 2 * p * r / (p + r)\n",
        "    return score"
      ],
      "execution_count": 43,
      "outputs": []
    },
    {
      "cell_type": "code",
      "metadata": {
        "colab": {
          "base_uri": "https://localhost:8080/"
        },
        "id": "dwHkGp6QpCgt",
        "outputId": "66007b57-e276-4392-c7db-b8ef5cf20183"
      },
      "source": [
        "y_true = [0, 0, 0, 1, 0, 0, 0, 0, 0, 0, 1, 0, 0, 0, 0, 0, 0, 0, 1, 0]\n",
        "y_pred = [0, 0, 1, 0, 0, 0, 1, 0, 0, 0, 1, 0, 0, 0, 0, 0, 0, 0, 1, 0]\n",
        "f1(y_true, y_pred)"
      ],
      "execution_count": 44,
      "outputs": [
        {
          "output_type": "execute_result",
          "data": {
            "text/plain": [
              "0.5714285714285715"
            ]
          },
          "metadata": {
            "tags": []
          },
          "execution_count": 44
        }
      ]
    },
    {
      "cell_type": "code",
      "metadata": {
        "colab": {
          "base_uri": "https://localhost:8080/"
        },
        "id": "Y40VXjxRswDF",
        "outputId": "9960ff6e-2a34-4d11-99cf-5401714ba2b7"
      },
      "source": [
        "metrics.f1_score(y_true, y_pred)"
      ],
      "execution_count": 45,
      "outputs": [
        {
          "output_type": "execute_result",
          "data": {
            "text/plain": [
              "0.5714285714285715"
            ]
          },
          "metadata": {
            "tags": []
          },
          "execution_count": 45
        }
      ]
    },
    {
      "cell_type": "markdown",
      "metadata": {
        "id": "qOeP9RAes-U-"
      },
      "source": [
        "- Instead of looking at precision and recall individually, you can also just look at F1 score. \n",
        "\n",
        "- Same as for precision, recall and accuracy, F1 score also ranges from 0 to 1, and a perfect prediction model has an F1 of 1. \n",
        "\n",
        "- **When dealing with datasets that have\n",
        "skewed targets, we should look at F1 (or precision and recall) instead of accuracy.**\n"
      ]
    },
    {
      "cell_type": "markdown",
      "metadata": {
        "id": "bbcG0pRDtSp0"
      },
      "source": [
        "Then there are other crucial terms that we should know about. \n",
        "\n",
        "- The first one is **TPR or True Positive Rate**, which is the same as recall.\n",
        "\n",
        "        TPR = TP / (TP + FN)\n",
        "\n",
        "--> **TPR** or recall is also known as **sensitivity**.\n",
        "\n"
      ]
    },
    {
      "cell_type": "code",
      "metadata": {
        "id": "MoXb9zqtu8ZP"
      },
      "source": [
        "def tpr(y_true, y_pred):\n",
        "    \"\"\"\n",
        "    Function to calculate tpr\n",
        "    :param y_true: list of true values\n",
        "    :param y_pred: list of predicted values\n",
        "    :return: tpr/recall\n",
        "    \"\"\"\n",
        "    return recall(y_true, y_pred)"
      ],
      "execution_count": 46,
      "outputs": []
    },
    {
      "cell_type": "markdown",
      "metadata": {
        "id": "zqRO4bDCu9Io"
      },
      "source": [
        "\n",
        "- And the second one is **FPR or False Positive Rate**, which is defined as:\n",
        "\n",
        "        FPR = FP / (TN + FP)\n",
        "\n",
        "--> And **1 - FPR** is known as **specificity** or **True Negative Rate or TNR**"
      ]
    },
    {
      "cell_type": "code",
      "metadata": {
        "id": "OfEGBW0DszZ5"
      },
      "source": [
        "def fpr(y_true, y_pred):\n",
        "    \"\"\"\n",
        "    Function to calculate fpr\n",
        "    :param y_true: list of true values\n",
        "    :param y_pred: list of predicted values\n",
        "    :return: fpr\n",
        "    \"\"\"\n",
        "    fp = false_positive(y_true, y_pred)\n",
        "    tn = true_negative(y_true, y_pred)\n",
        "    return fp / (tn + fp)"
      ],
      "execution_count": 47,
      "outputs": []
    },
    {
      "cell_type": "markdown",
      "metadata": {
        "id": "zPKHboMuvYbU"
      },
      "source": [
        "For a typical threshold of >= 0.5, we can evaluate all the above values of precision, recall/TPR, F1 and FPR. But we can do the same if we choose the value of the\n",
        "threshold to be 0.4 or 0.6. In fact, we can choose any value between 0 and 1 and\n",
        "calculate all the metrics described above.\n",
        "\n",
        "Let’s calculate only two values, though: TPR and FPR.\n"
      ]
    },
    {
      "cell_type": "code",
      "metadata": {
        "id": "UuJVhmaautnD"
      },
      "source": [
        "# empty lists to store tpr\n",
        "# and fpr values\n",
        "tpr_list = []\n",
        "fpr_list = []\n",
        "\n",
        "# actual targets\n",
        "y_true = [0, 0, 0, 0, 1, 0, 1, 0, 0, 1, 0, 1, 0, 0, 1]\n",
        "\n",
        "# predicted probabilities of a sample being 1\n",
        "y_pred = [0.1, 0.3, 0.2, 0.6, 0.8, 0.05, 0.9, 0.5, 0.3, \\\n",
        "          0.66, 0.3, 0.2, 0.85, 0.15, 0.99]\n",
        "\n",
        "# handmade thresholds\n",
        "thresholds = [0, 0.1, 0.2, 0.3, 0.4, 0.5, 0.6, 0.7, 0.8, \\\n",
        "              0.85, 0.9, 0.99, 1.0]\n",
        "\n",
        "# loop over all thresholds\n",
        "for thresh in thresholds:\n",
        "    # calculate predictions for a given threshold\n",
        "    temp_pred = [1 if x >= thresh else 0 for x in y_pred]\n",
        "    \n",
        "    # calculate tpr\n",
        "    temp_tpr = tpr(y_true, temp_pred)\n",
        "    \n",
        "    # calculate fpr\n",
        "    temp_fpr = fpr(y_true, temp_pred)\n",
        "    \n",
        "    # append tpr and fpr to lists\n",
        "    tpr_list.append(temp_tpr)\n",
        "    fpr_list.append(temp_fpr)"
      ],
      "execution_count": 48,
      "outputs": []
    },
    {
      "cell_type": "code",
      "metadata": {
        "colab": {
          "base_uri": "https://localhost:8080/",
          "height": 464
        },
        "id": "cASjFLjfvg-q",
        "outputId": "7b1b3fda-1575-41ff-a72e-20c3102a1411"
      },
      "source": [
        "plt.figure(figsize=(7, 7))\n",
        "plt.fill_between(fpr_list, tpr_list, alpha=0.4)\n",
        "plt.plot(fpr_list, tpr_list, lw=3)\n",
        "plt.xlim(0, 1.0)\n",
        "plt.ylim(0, 1.0)\n",
        "plt.xlabel('FPR', fontsize=15)\n",
        "plt.ylabel('TPR', fontsize=15)\n",
        "plt.show()"
      ],
      "execution_count": 49,
      "outputs": [
        {
          "output_type": "display_data",
          "data": {
            "image/png": "[encoded data removed]",
            "text/plain": [
              "<Figure size 504x504 with 1 Axes>"
            ]
          },
          "metadata": {
            "tags": []
          }
        }
      ]
    },
    {
      "cell_type": "markdown",
      "metadata": {
        "id": "vDTmwgqnwCez"
      },
      "source": [
        "This curve is also known as the Receiver Operating Characteristic (ROC). And if we calculate the area under this ROC curve, we are calculating another metric which is used very often when you have a dataset which has skewed binary targets.\n",
        "\n",
        "This metric is known as the **Area Under ROC Curve or Area Under Curve** or\n",
        "just simply **AUC**. There are many ways to calculate the area under the ROC curve. For this particular purpose, we will stick to the fantastic implementation by scikit-\n",
        "learn.\n",
        "\n"
      ]
    },
    {
      "cell_type": "code",
      "metadata": {
        "colab": {
          "base_uri": "https://localhost:8080/"
        },
        "id": "2PFLdkjtv9sk",
        "outputId": "de13ee7b-737c-463e-b8a2-b0e818e7f8c7"
      },
      "source": [
        "y_true = [0, 0, 0, 0, 1, 0, 1, 0, 0, 1, 0, 1, 0, 0, 1]\n",
        "y_pred = [0.1, 0.3, 0.2, 0.6, 0.8, 0.05, 0.9, 0.5, 0.3, \\\n",
        "          0.66, 0.3, 0.2, 0.85, 0.15, 0.99]\n",
        "metrics.roc_auc_score(y_true, y_pred)"
      ],
      "execution_count": 50,
      "outputs": [
        {
          "output_type": "execute_result",
          "data": {
            "text/plain": [
              "0.8300000000000001"
            ]
          },
          "metadata": {
            "tags": []
          },
          "execution_count": 50
        }
      ]
    },
    {
      "cell_type": "markdown",
      "metadata": {
        "id": "eWJCw_ufwkks"
      },
      "source": [
        "AUC values range from 0 to 1.\n",
        "\n",
        "- **AUC = 1** implies you have a perfect model. Most of the time, it means that you made some mistake with validation and should revisit data processing and validation pipeline of yours. If you didn’t make any mistakes, then congratulations, you have the best model one can have for the dataset you\n",
        "built it on.\n",
        "\n",
        "- **AUC = 0** implies that your model is very bad (or very good!). Try inverting the probabilities for the predictions, for example, if your probability for the positive class is p, try substituting it with 1-p. This kind of AUC may also mean that there is some problem with your validation or data processing.\n",
        "\n",
        "- **AUC = 0.5** implies that your predictions are random. So, for any binary classification problem, if I predict all targets as 0.5, I will get an AUC of 0.5.\n",
        "\n",
        "\n",
        "AUC values between 0 and 0.5 imply that your model is worse than random. Most\n",
        "of the time, it’s because you inverted the classes. If you try to invert your\n",
        "predictions, your AUC might become more than 0.5. AUC values closer to 1 are\n",
        "considered good.\n"
      ]
    },
    {
      "cell_type": "code",
      "metadata": {
        "id": "1dWD5X82wg1y"
      },
      "source": [
        ""
      ],
      "execution_count": 50,
      "outputs": []
    },
    {
      "cell_type": "code",
      "metadata": {
        "id": "UgJN8mK4nPaJ"
      },
      "source": [
        ""
      ],
      "execution_count": 50,
      "outputs": []
    },
    {
      "cell_type": "code",
      "metadata": {
        "id": "xcEzcpiIo063"
      },
      "source": [
        ""
      ],
      "execution_count": 50,
      "outputs": []
    },
    {
      "cell_type": "markdown",
      "metadata": {
        "id": "EE9MwrLevHKO"
      },
      "source": [
        "**Confusion Matrix**\n",
        "\n",
        "Confusion matrix gives an easy way to calculate different metrics that we have discussed before. Scikit-learn offers an easy and straightforward way to generate a confusion matrix. "
      ]
    },
    {
      "cell_type": "code",
      "metadata": {
        "colab": {
          "base_uri": "https://localhost:8080/",
          "height": 371
        },
        "id": "cZyiYUiWvJ6l",
        "outputId": "46cb7634-bb13-4d3b-8333-08ce6f88bbe2"
      },
      "source": [
        "# some targets\n",
        "y_true = [0, 1, 2, 0, 1, 2, 0, 2, 2]\n",
        "\n",
        "#some predictions\n",
        "y_pred = [0, 2, 1, 0, 2, 1, 0, 0, 2]\n",
        "\n",
        "# get confusion matrix from sklearn\n",
        "cm = metrics.confusion_matrix(y_true, y_pred)\n",
        "\n",
        "# plot using matplotlib and seaborn\n",
        "plt.figure(figsize=(5, 5))\n",
        "cmap = sns.cubehelix_palette(50, hue=0.05, rot=0, light=0.9, dark=0,\n",
        "as_cmap=True)\n",
        "sns.set(font_scale=1.5)\n",
        "sns.heatmap(cm, annot=True, cmap=cmap, cbar=False)\n",
        "plt.ylabel('Actual Labels', fontsize=20)\n",
        "plt.xlabel('Predicted Labels', fontsize=20)"
      ],
      "execution_count": 56,
      "outputs": [
        {
          "output_type": "execute_result",
          "data": {
            "text/plain": [
              "Text(0.5, 13.5, 'Predicted Labels')"
            ]
          },
          "metadata": {
            "tags": []
          },
          "execution_count": 56
        },
        {
          "output_type": "display_data",
          "data": {
            "image/png": "[encoded data removed]",
            "text/plain": [
              "<Figure size 360x360 with 1 Axes>"
            ]
          },
          "metadata": {
            "tags": []
          }
        }
      ]
    },
    {
      "cell_type": "markdown",
      "metadata": {
        "id": "S5MJ5konwkGG"
      },
      "source": [
        "We have tackled metrics for binary and multi-class classification. Then comes another type of classification problem called multi-label classification. \n",
        "\n",
        "In multi-label classification, each sample can have one or more\n",
        "classes associated with it. One simple example of this type of problem would be a task in which you are asked to predict different objects in a given image.\n",
        "\n",
        "The metrics for this type of classification problem are a bit different. Some suitable\n",
        "and most common metrics are:\n",
        "\n",
        "- Precision at k (P@k)\n",
        "- Average precision at k (AP@k)\n",
        "- Mean average precision at k (MAP@k)\n",
        "- Log loss\n",
        "\n"
      ]
    },
    {
      "cell_type": "code",
      "metadata": {
        "id": "9BQsDDbtvai3"
      },
      "source": [
        ""
      ],
      "execution_count": 51,
      "outputs": []
    },
    {
      "cell_type": "code",
      "metadata": {
        "id": "UWxCd007xTx9"
      },
      "source": [
        ""
      ],
      "execution_count": null,
      "outputs": []
    },
    {
      "cell_type": "code",
      "metadata": {
        "id": "FGgI3tO9xT02"
      },
      "source": [
        ""
      ],
      "execution_count": null,
      "outputs": []
    },
    {
      "cell_type": "markdown",
      "metadata": {
        "id": "_8rLVRGVxVNT"
      },
      "source": [
        "The most common metric in regression is error. Error is simple and very easy to\n",
        "understand.\n",
        "\n",
        "        Error = True Value – Predicted Value\n",
        "\n",
        "**Absolute error** is just absolute of the above.\n",
        "\n",
        "        Absolute Error = Abs (True Value – Predicted Value)\n",
        "\n",
        "\n",
        "Then we have **mean absolute error (MAE)**. It’s just mean of all absolute errors.\n"
      ]
    },
    {
      "cell_type": "code",
      "metadata": {
        "id": "P_IRhgAXxT4h"
      },
      "source": [
        "def mean_absolute_error(y_true, y_pred):\n",
        "    \"\"\"\n",
        "    This function calculates mae\n",
        "    :param y_true: list of real numbers, true values\n",
        "    :param y_pred: list of real numbers, predicted values\n",
        "    :return: mean absolute error\n",
        "    \"\"\"\n",
        "    # initialize error at 0\n",
        "    error = 0\n",
        "    # loop over all samples in the true and predicted list\n",
        "    for yt, yp in zip(y_true, y_pred):\n",
        "        # calculate absolute error\n",
        "        # and add to error\n",
        "        error += np.abs(yt - yp)\n",
        "    # return mean error\n",
        "    return error / len(y_true)"
      ],
      "execution_count": 57,
      "outputs": []
    },
    {
      "cell_type": "markdown",
      "metadata": {
        "id": "gbuzb2DXyBNh"
      },
      "source": [
        "Similarly, we have squared error and **mean squared error (MSE)**.\n",
        "\n",
        "        Squared Error = (True Value – Predicted Value)^2\n",
        "\n",
        "And mean **squared error (MSE)** can be implemented as follows.\n"
      ]
    },
    {
      "cell_type": "code",
      "metadata": {
        "id": "V1H8cdUwx-fx"
      },
      "source": [
        "def mean_squared_error(y_true, y_pred):\n",
        "    \"\"\"\n",
        "    This function calculates mse\n",
        "    :param y_true: list of real numbers, true values\n",
        "    :param y_pred: list of real numbers, predicted values\n",
        "    :return: mean squared error\n",
        "    \"\"\"\n",
        "    # initialize error at 0\n",
        "    error = 0\n",
        "    # loop over all samples in the true and predicted list\n",
        "    for yt, yp in zip(y_true, y_pred):\n",
        "        # calculate squared error\n",
        "        # and add to error\n",
        "        error += (yt - yp) ** 2\n",
        "    # return mean error\n",
        "    return error / len(y_true)"
      ],
      "execution_count": 58,
      "outputs": []
    },
    {
      "cell_type": "markdown",
      "metadata": {
        "id": "jkQlaexey0Fy"
      },
      "source": [
        "**MSE** and **RMSE**(root mean squared error) are the most popular metrics used in evaluating regression models.\n",
        "\n",
        "        RMSE = SQRT ( MSE )\n",
        "\n",
        "Another type of error in same class is **squared logarithmic error**. Some people call it **SLE**, and when we take mean of this error across all samples, it is known as **MSLE (mean squared logarithmic error)** and implemented as follows."
      ]
    },
    {
      "cell_type": "code",
      "metadata": {
        "id": "rz7m69FAywBW"
      },
      "source": [
        "def mean_squared_log_error(y_true, y_pred):\n",
        "    \"\"\"\n",
        "    This function calculates msle\n",
        "    :param y_true: list of real numbers, true values\n",
        "    :param y_pred: list of real numbers, predicted values\n",
        "    :return: mean squared logarithmic error\n",
        "    \"\"\"\n",
        "    # initialize error at 0\n",
        "    error = 0\n",
        "    # loop over all samples in true and predicted list\n",
        "    for yt, yp in zip(y_true, y_pred):\n",
        "        # calculate squared log error\n",
        "        # and add to error\n",
        "        error += (np.log(1 + yt) - np.log(1 + yp)) ** 2\n",
        "    # return mean error\n",
        "    return error / len(y_true)"
      ],
      "execution_count": 59,
      "outputs": []
    },
    {
      "cell_type": "markdown",
      "metadata": {
        "id": "KSAVFGpNzLBM"
      },
      "source": [
        "**Root mean squared logarithmic error** is just a square root of this. It is also known\n",
        "as **RMSLE**.\n",
        "\n",
        "Then we have the percentage error:\n",
        "\n",
        "        Percentage Error = ( ( True Value – Predicted Value ) / True Value ) * 100\n",
        "\n",
        "Same can be converted to mean percentage error for all samples.\n"
      ]
    },
    {
      "cell_type": "code",
      "metadata": {
        "id": "J-BEoBQJzJTh"
      },
      "source": [
        "def mean_percentage_error(y_true, y_pred):\n",
        "    \"\"\"\n",
        "    This function calculates mpe\n",
        "    :param y_true: list of real numbers, true values\n",
        "    :param y_pred: list of real numbers, predicted values\n",
        "    :return: mean percentage error\n",
        "    \"\"\"\n",
        "    # initialize error at 0\n",
        "    error = 0\n",
        "    # loop over all samples in true and predicted list\n",
        "    for yt, yp in zip(y_true, y_pred):\n",
        "        # calculate percentage error\n",
        "        # and add to error\n",
        "        error += (yt - yp) / yt\n",
        "    # return mean percentage error\n",
        "    return error / len(y_true)"
      ],
      "execution_count": 61,
      "outputs": []
    },
    {
      "cell_type": "markdown",
      "metadata": {
        "id": "a6ivDjhl0NB2"
      },
      "source": [
        "And an absolute version of the same (and more common version) is known as **mean absolute percentage error or MAPE**"
      ]
    },
    {
      "cell_type": "code",
      "metadata": {
        "id": "i9pMC-yXzY4O"
      },
      "source": [
        "def mean_abs_percentage_error(y_true, y_pred):\n",
        "    \"\"\"\n",
        "    This function calculates MAPE\n",
        "    :param y_true: list of real numbers, true values\n",
        "    :param y_pred: list of real numbers, predicted values\n",
        "    :return: mean absolute percentage error\n",
        "    \"\"\"\n",
        "    # initialize error at 0\n",
        "    error = 0\n",
        "    # loop over all samples in true and predicted list\n",
        "    for yt, yp in zip(y_true, y_pred):\n",
        "        # calculate percentage error\n",
        "        # and add to error\n",
        "        error += np.abs(yt - yp) / yt\n",
        "    # return mean percentage error\n",
        "    return error / len(y_true)"
      ],
      "execution_count": 62,
      "outputs": []
    },
    {
      "cell_type": "markdown",
      "metadata": {
        "id": "QHkbMV_50g_T"
      },
      "source": [
        "- The best thing about regression is that there are only a few most popular metrics that can be applied to almost every regression problem. \n",
        "\n",
        "- And it is much easier to understand when we compare it to classification metrics. Let’s talk about another regression metric known as **R2 (R-squared)**, also known as the **coefficient of determination**.\n",
        "\n",
        "![R SQUARE](https://4.bp.blogspot.com/-wG7IbjTfE6k/XGUvqm7TCVI/AAAAAAAAAZU/vpH1kuKTIooKTcVlnm1EVRCXLVZM9cPNgCLcBGAs/s1600/formula-MAE-MSE-RMSE-RSquared.JPG)"
      ]
    },
    {
      "cell_type": "code",
      "metadata": {
        "id": "YAnnBYoU0bL5"
      },
      "source": [
        "def r2(y_true, y_pred):\n",
        "    \"\"\"\n",
        "    This function calculates r-squared score\n",
        "    :param y_true: list of real numbers, true values\n",
        "    :param y_pred: list of real numbers, predicted values\n",
        "    :return: r2 score\n",
        "    \"\"\"\n",
        "    # calculate the mean value of true values\n",
        "    mean_true_value = np.mean(y_true)\n",
        "    # initialize numerator with 0\n",
        "    numerator = 0\n",
        "    # initialize denominator with 0\n",
        "    denominator = 0\n",
        "    # loop over all true and predicted values\n",
        "    for yt, yp in zip(y_true, y_pred):\n",
        "        # update numerator\n",
        "        numerator += (yt - yp) ** 2\n",
        "        # update denominator\n",
        "        denominator += (yt - mean_true_value) ** 2\n",
        "        # calculate the ratio\n",
        "        ratio = numerator / denominator\n",
        "    # return 1 - ratio\n",
        "    return 1 - ratio"
      ],
      "execution_count": 64,
      "outputs": []
    },
    {
      "cell_type": "code",
      "metadata": {
        "id": "K4t2bJcD1akF"
      },
      "source": [
        ""
      ],
      "execution_count": null,
      "outputs": []
    }
  ]
}